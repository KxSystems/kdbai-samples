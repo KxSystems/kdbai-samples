{
 "cells": [
  {
   "cell_type": "markdown",
   "id": "48b6c907",
   "metadata": {},
   "source": [
    "# Sentiment Analysis on Disneyland Resort Reviews\n",
    "\n",
    "##### Note: This example requires a KDB.AI endpoint and API key. Sign up for a free [KDB.AI account](https://kdb.ai/get-started).\n",
    "\n",
    "In this example, we will extract valuable sentiments from Disneyland Resort reviews, gaining a deeper understanding of customer experiences. \n",
    "\n",
    "We will leverage the power of Natural Language Processing (NLP) and sentiment analysis techniques to assess the sentiment expressed in these reviews. But that's not all, our approach doesn't stop at sentiment analysis; it extends to the realm of powerful vector databases.\n",
    "\n",
    "Using KDB.AI we can store not only the reviews themselves but also the sentiment labels as metadata. With KDB.AI, we can easily search for any topic, keyword, or sentiment and retrieve relevant customer reviews instantly. Whether you're interested in finding the happiest moments in the park, uncovering areas for improvement, or simply exploring the multitude of experiences Disneyland Resort has to offer, KDB.AI makes it all possible with just a few clicks.\n",
    "\n",
    "### Aim \n",
    "\n",
    "In the sections that follow, we'll walk you through the entire process:\n",
    "\n",
    "1. Load Review Data\n",
    "1. Perform Sentiment Analysis On The Reviews\n",
    "1. Create Review Vector Embeddings\n",
    "1. Store Embeddings in KDB.AI\n",
    "1. Get The Sentiment Of Similar Reviews To A Target Query\n",
    "1. Delete the KDB.AI Table\n",
    "\n",
    "By the end of this tutorial, you'll not only have a deeper understanding of sentiment analysis but also the tools and knowledge to harness the insights hidden within vast datasets of customer reviews. Let's embark on this journey to uncover the magic and meaning behind Disneyland Resort reviews with sentiment analysis and KDB.AI.\n",
    "\n",
    "---"
   ]
  },
  {
   "cell_type": "markdown",
   "id": "6a10030c",
   "metadata": {},
   "source": [
    "## 0. Setup"
   ]
  },
  {
   "cell_type": "markdown",
   "id": "91255bcd",
   "metadata": {},
   "source": [
    "### Install dependencies \n",
    "\n",
    "In order to successfully run this sample, note the following steps depending on where you are running this notebook:\n",
    "\n",
    "-***Run Locally / Private Environment:*** The [Setup](https://github.com/KxSystems/kdbai-samples/blob/main/README.md#setup) steps in the repository's `README.md` will guide you on prerequisites and how to run this with Jupyter.\n",
    "\n",
    "\n",
    "-***Colab / Hosted Environment:*** Open this notebook in Colab and run through the cells."
   ]
  },
  {
   "cell_type": "code",
   "execution_count": null,
   "id": "dea527a1",
   "metadata": {},
   "outputs": [],
   "source": [
    "!pip install kdbai_client sentence_transformers matplotlib"
   ]
  },
  {
   "cell_type": "code",
   "execution_count": null,
   "id": "acb9eaf5",
   "metadata": {},
   "outputs": [],
   "source": [
    "### !!! Only run this cell if running the notebook in Colab\n",
    "### This downloads review data into Colab\n",
    "!mkdir ./data \n",
    "!wget -P ./data https://raw.githubusercontent.com/KxSystems/kdbai-samples/main/sentiment_analysis/data/disneyland_reviews.csv"
   ]
  },
  {
   "cell_type": "markdown",
   "id": "0bd6cfb9-6b68-472f-be47-5b7d03e4564d",
   "metadata": {},
   "source": [
    "### Set Environment Variables"
   ]
  },
  {
   "cell_type": "code",
   "execution_count": 1,
   "id": "08f05e63-9ef8-49ca-b198-aab6d0017579",
   "metadata": {},
   "outputs": [],
   "source": [
    "import os"
   ]
  },
  {
   "cell_type": "code",
   "execution_count": 2,
   "id": "5be006c3-2bd1-4944-abef-78664e288fcd",
   "metadata": {},
   "outputs": [],
   "source": [
    "# ignore tensorflow warnings\n",
    "os.environ[\"TF_CPP_MIN_LOG_LEVEL\"] = \"3\""
   ]
  },
  {
   "cell_type": "markdown",
   "id": "36f53e98",
   "metadata": {},
   "source": [
    "### Import Packages"
   ]
  },
  {
   "cell_type": "code",
   "execution_count": 3,
   "id": "4c8be1e0",
   "metadata": {},
   "outputs": [],
   "source": [
    "import pandas as pd"
   ]
  },
  {
   "cell_type": "code",
   "execution_count": 4,
   "id": "51e1c7ef",
   "metadata": {},
   "outputs": [],
   "source": [
    "# tokenisation\n",
    "from transformers import pipeline\n",
    "from transformers import AutoTokenizer\n",
    "from transformers import AutoModelForSequenceClassification"
   ]
  },
  {
   "cell_type": "code",
   "execution_count": 5,
   "id": "972ed652",
   "metadata": {},
   "outputs": [],
   "source": [
    "# timing\n",
    "from tqdm.auto import tqdm"
   ]
  },
  {
   "cell_type": "code",
   "execution_count": 6,
   "id": "5c28352b",
   "metadata": {},
   "outputs": [],
   "source": [
    "# plotting\n",
    "import matplotlib.pyplot as plt"
   ]
  },
  {
   "cell_type": "code",
   "execution_count": 7,
   "id": "b1d68085",
   "metadata": {},
   "outputs": [],
   "source": [
    "# embedding\n",
    "from sentence_transformers import SentenceTransformer"
   ]
  },
  {
   "cell_type": "code",
   "execution_count": 8,
   "id": "070348ba",
   "metadata": {},
   "outputs": [],
   "source": [
    "# vector DB\n",
    "import kdbai_client as kdbai\n",
    "from getpass import getpass\n",
    "import time"
   ]
  },
  {
   "cell_type": "markdown",
   "id": "b20421bf",
   "metadata": {},
   "source": [
    "### Configure Console"
   ]
  },
  {
   "cell_type": "code",
   "execution_count": 9,
   "id": "a7ec66ab",
   "metadata": {},
   "outputs": [],
   "source": [
    "pd.set_option(\"display.max_colwidth\", 200)"
   ]
  },
  {
   "cell_type": "markdown",
   "id": "c8b843f5",
   "metadata": {},
   "source": [
    "### Define Helper Functions"
   ]
  },
  {
   "cell_type": "code",
   "execution_count": 10,
   "id": "db32355f",
   "metadata": {},
   "outputs": [],
   "source": [
    "def show_df(df: pd.DataFrame) -> pd.DataFrame:\n",
    "    print(df.shape)\n",
    "    return df.head()"
   ]
  },
  {
   "cell_type": "markdown",
   "id": "13f3838f",
   "metadata": {},
   "source": [
    "## 1. Load Review Data "
   ]
  },
  {
   "cell_type": "markdown",
   "id": "fa866120",
   "metadata": {},
   "source": [
    "### Dataset Overview\n",
    "\n",
    "The dataset that will be used for this example is these [Disneyland Reviews](https://www.kaggle.com/datasets/arushchillar/disneyland-reviews) available on Kaggle. The dataset includes 42,000 reviews of 3 Disneyland branches - Paris, California and Hong Kong, posted by visitors on Trip Advisor."
   ]
  },
  {
   "cell_type": "markdown",
   "id": "8989a4a6",
   "metadata": {},
   "source": [
    "### Read In Review Data From CSV"
   ]
  },
  {
   "cell_type": "code",
   "execution_count": 11,
   "id": "cf7619be",
   "metadata": {},
   "outputs": [],
   "source": [
    "raw_reviews_df = pd.read_csv(\"data/disneyland_reviews.csv\", encoding=\"ISO-8859-1\")"
   ]
  },
  {
   "cell_type": "code",
   "execution_count": 12,
   "id": "d3a14cc9",
   "metadata": {},
   "outputs": [
    {
     "name": "stdout",
     "output_type": "stream",
     "text": [
      "(42656, 6)\n"
     ]
    },
    {
     "data": {
      "text/html": [
       "<div>\n",
       "<style scoped>\n",
       "    .dataframe tbody tr th:only-of-type {\n",
       "        vertical-align: middle;\n",
       "    }\n",
       "\n",
       "    .dataframe tbody tr th {\n",
       "        vertical-align: top;\n",
       "    }\n",
       "\n",
       "    .dataframe thead th {\n",
       "        text-align: right;\n",
       "    }\n",
       "</style>\n",
       "<table border=\"1\" class=\"dataframe\">\n",
       "  <thead>\n",
       "    <tr style=\"text-align: right;\">\n",
       "      <th></th>\n",
       "      <th>Review_ID</th>\n",
       "      <th>Rating</th>\n",
       "      <th>Year_Month</th>\n",
       "      <th>Reviewer_Location</th>\n",
       "      <th>Review_Text</th>\n",
       "      <th>Branch</th>\n",
       "    </tr>\n",
       "  </thead>\n",
       "  <tbody>\n",
       "    <tr>\n",
       "      <th>0</th>\n",
       "      <td>670772142</td>\n",
       "      <td>4</td>\n",
       "      <td>2019-4</td>\n",
       "      <td>Australia</td>\n",
       "      <td>If you've ever been to Disneyland anywhere you'll find Disneyland Hong Kong very similar in the layout when you walk into main street! It has a very familiar feel. One of the rides  its a Small Wo...</td>\n",
       "      <td>Disneyland_HongKong</td>\n",
       "    </tr>\n",
       "    <tr>\n",
       "      <th>1</th>\n",
       "      <td>670682799</td>\n",
       "      <td>4</td>\n",
       "      <td>2019-5</td>\n",
       "      <td>Philippines</td>\n",
       "      <td>Its been a while since d last time we visit HK Disneyland .. Yet, this time we only stay in Tomorrowland .. AKA Marvel land!Now they have Iron Man Experience n d Newly open Ant Man n d Wasp!!Ironm...</td>\n",
       "      <td>Disneyland_HongKong</td>\n",
       "    </tr>\n",
       "    <tr>\n",
       "      <th>2</th>\n",
       "      <td>670623270</td>\n",
       "      <td>4</td>\n",
       "      <td>2019-4</td>\n",
       "      <td>United Arab Emirates</td>\n",
       "      <td>Thanks God it wasn   t too hot or too humid when I was visiting the park   otherwise it would be a big issue (there is not a lot of shade).I have arrived around 10:30am and left at 6pm. Unfortunat...</td>\n",
       "      <td>Disneyland_HongKong</td>\n",
       "    </tr>\n",
       "    <tr>\n",
       "      <th>3</th>\n",
       "      <td>670607911</td>\n",
       "      <td>4</td>\n",
       "      <td>2019-4</td>\n",
       "      <td>Australia</td>\n",
       "      <td>HK Disneyland is a great compact park. Unfortunately there is quite a bit of maintenance work going on at present so a number of areas are closed off (including the famous castle) If you go midwee...</td>\n",
       "      <td>Disneyland_HongKong</td>\n",
       "    </tr>\n",
       "    <tr>\n",
       "      <th>4</th>\n",
       "      <td>670607296</td>\n",
       "      <td>4</td>\n",
       "      <td>2019-4</td>\n",
       "      <td>United Kingdom</td>\n",
       "      <td>the location is not in the city, took around 1 hour from Kowlon, my kids like disneyland so much, everything is fine.   but its really crowded and hot in Hong Kong</td>\n",
       "      <td>Disneyland_HongKong</td>\n",
       "    </tr>\n",
       "  </tbody>\n",
       "</table>\n",
       "</div>"
      ],
      "text/plain": [
       "   Review_ID  Rating Year_Month     Reviewer_Location  \\\n",
       "0  670772142       4     2019-4             Australia   \n",
       "1  670682799       4     2019-5           Philippines   \n",
       "2  670623270       4     2019-4  United Arab Emirates   \n",
       "3  670607911       4     2019-4             Australia   \n",
       "4  670607296       4     2019-4        United Kingdom   \n",
       "\n",
       "                                                                                                                                                                                               Review_Text  \\\n",
       "0  If you've ever been to Disneyland anywhere you'll find Disneyland Hong Kong very similar in the layout when you walk into main street! It has a very familiar feel. One of the rides  its a Small Wo...   \n",
       "1  Its been a while since d last time we visit HK Disneyland .. Yet, this time we only stay in Tomorrowland .. AKA Marvel land!Now they have Iron Man Experience n d Newly open Ant Man n d Wasp!!Ironm...   \n",
       "2  Thanks God it wasn   t too hot or too humid when I was visiting the park   otherwise it would be a big issue (there is not a lot of shade).I have arrived around 10:30am and left at 6pm. Unfortunat...   \n",
       "3  HK Disneyland is a great compact park. Unfortunately there is quite a bit of maintenance work going on at present so a number of areas are closed off (including the famous castle) If you go midwee...   \n",
       "4                                      the location is not in the city, took around 1 hour from Kowlon, my kids like disneyland so much, everything is fine.   but its really crowded and hot in Hong Kong   \n",
       "\n",
       "                Branch  \n",
       "0  Disneyland_HongKong  \n",
       "1  Disneyland_HongKong  \n",
       "2  Disneyland_HongKong  \n",
       "3  Disneyland_HongKong  \n",
       "4  Disneyland_HongKong  "
      ]
     },
     "execution_count": 12,
     "metadata": {},
     "output_type": "execute_result"
    }
   ],
   "source": [
    "show_df(raw_reviews_df)"
   ]
  },
  {
   "cell_type": "markdown",
   "id": "4a1b091e",
   "metadata": {},
   "source": [
    "### Subset The Data\n",
    "\n",
    "This is a pretty big dataset and we do not need to use all of this in our sample. As such, we will extract a subset of these reviews.\n",
    "\n",
    "Let's first take a look at the number of reviews per branch."
   ]
  },
  {
   "cell_type": "code",
   "execution_count": 13,
   "id": "087498ed",
   "metadata": {},
   "outputs": [
    {
     "data": {
      "text/plain": [
       "Branch\n",
       "Disneyland_California    19406\n",
       "Disneyland_HongKong       9620\n",
       "Disneyland_Paris         13630\n",
       "Name: Branch, dtype: int64"
      ]
     },
     "execution_count": 13,
     "metadata": {},
     "output_type": "execute_result"
    }
   ],
   "source": [
    "raw_reviews_df.groupby(\"Branch\")[\"Branch\"].count()"
   ]
  },
  {
   "cell_type": "markdown",
   "id": "62084d2c",
   "metadata": {},
   "source": [
    "We have a good number per branch so let's take the first 50 per branch only to help with performance.\n",
    "\n",
    "The speed of your hardware, particularly your CPU and memory, will influence processing time when running sentiment analysis. If you are running this example on a CPU it is a good idea to restrict the number of rows first to help with performance. If you have access to a GPU you may wish to use that and the full dataset."
   ]
  },
  {
   "cell_type": "code",
   "execution_count": 14,
   "id": "1307fe0a",
   "metadata": {},
   "outputs": [],
   "source": [
    "reviews_df = raw_reviews_df.groupby(\"Branch\").head(50)"
   ]
  },
  {
   "cell_type": "code",
   "execution_count": 15,
   "id": "736bb9d0",
   "metadata": {},
   "outputs": [
    {
     "data": {
      "text/plain": [
       "Branch\n",
       "Disneyland_California    50\n",
       "Disneyland_HongKong      50\n",
       "Disneyland_Paris         50\n",
       "Name: Branch, dtype: int64"
      ]
     },
     "execution_count": 15,
     "metadata": {},
     "output_type": "execute_result"
    }
   ],
   "source": [
    "reviews_df.groupby(\"Branch\")[\"Branch\"].count()"
   ]
  },
  {
   "cell_type": "markdown",
   "id": "ad9e5e03",
   "metadata": {},
   "source": [
    "## 2. Perform Sentiment Analysis On The Reviews"
   ]
  },
  {
   "cell_type": "markdown",
   "id": "b0651452",
   "metadata": {},
   "source": [
    "Sentiment analysis, the process of determining the emotional tone or sentiment expressed in text, has seen significant advancements with the use of transformer-based models. In this section, we explore sentiment analysis using the powerful [Hugging Face Transformers](https://huggingface.co/docs/transformers/model_doc/roberta) library.\n",
    "\n",
    "### Import Sentence Tokenizer And Model\n",
    "\n",
    "We begin by importing essential components, including the sentiment analysis model and tokenizer. In this example, we use the RoBERTa model, which is fine-tuned for sentiment classification tasks. The model is capable of classifying text into three sentiment labels: positive, negative, and neutral.\n",
    "\n",
    "Key Components:\n",
    "\n",
    "- **AutoModelForSequenceClassification**: This component is a pre-trained transformer model fine-tuned for sequence classification tasks like sentiment analysis. It's designed to handle various NLP tasks, making it highly versatile.\n",
    "- **AutoTokenizer**: We use the tokenizer to preprocess and encode text data before feeding it to the model.\n",
    "- **MODEL**: This variable specifies the pre-trained sentiment analysis model we're using in this example."
   ]
  },
  {
   "cell_type": "code",
   "execution_count": 16,
   "id": "fbc35400",
   "metadata": {},
   "outputs": [],
   "source": [
    "MODEL = f\"cardiffnlp/twitter-roberta-base-sentiment\""
   ]
  },
  {
   "cell_type": "code",
   "execution_count": 17,
   "id": "3c5bad95",
   "metadata": {},
   "outputs": [],
   "source": [
    "tokenizer = AutoTokenizer.from_pretrained(MODEL)"
   ]
  },
  {
   "cell_type": "code",
   "execution_count": 18,
   "id": "4423d909",
   "metadata": {},
   "outputs": [],
   "source": [
    "sentiment_model = AutoModelForSequenceClassification.from_pretrained(\n",
    "    MODEL, num_labels=3\n",
    ")"
   ]
  },
  {
   "cell_type": "markdown",
   "id": "fdda7527",
   "metadata": {},
   "source": [
    "### Configure Sentiment Analysis Model Pipeline\n",
    "\n",
    "In this section, we configure the sentiment analysis pipeline using the Hugging Face Transformers library. \n",
    "\n",
    "This configuration enables us to easily perform sentiment analysis on text data by utilizing the pre-trained model within the pipeline. The 'sentiment' function streamlines the process of obtaining sentiment labels and scores, making it convenient for analyzing reviews or textual data and interpreting the sentiment expressed within them."
   ]
  },
  {
   "cell_type": "code",
   "execution_count": 19,
   "id": "aa389a8c",
   "metadata": {},
   "outputs": [],
   "source": [
    "sentiment_pipeline = pipeline(\n",
    "    \"sentiment-analysis\",\n",
    "    model=sentiment_model,\n",
    "    tokenizer=tokenizer,\n",
    ")"
   ]
  },
  {
   "cell_type": "code",
   "execution_count": 20,
   "id": "5fe239da",
   "metadata": {},
   "outputs": [],
   "source": [
    "def sentiment(reviews):\n",
    "    # pass the reviews through sentiment analysis pipeline\n",
    "    sentiments = sentiment_pipeline(reviews)\n",
    "    # extract only the label and score from the result\n",
    "    l = [labels[x[\"label\"]] for x in sentiments][0]\n",
    "    s = [x[\"score\"] for x in sentiments][0]\n",
    "    return l, s"
   ]
  },
  {
   "cell_type": "code",
   "execution_count": 21,
   "id": "20f55ae5",
   "metadata": {},
   "outputs": [],
   "source": [
    "labels = {\"LABEL_0\": \"negative\", \"LABEL_1\": \"neutral\", \"LABEL_2\": \"positive\"}"
   ]
  },
  {
   "cell_type": "markdown",
   "id": "c7ed3694",
   "metadata": {},
   "source": [
    "### Get Sentiment For One Review"
   ]
  },
  {
   "cell_type": "code",
   "execution_count": 22,
   "id": "c05c6529",
   "metadata": {},
   "outputs": [
    {
     "data": {
      "text/plain": [
       "\"Disneyland never cease to amaze me! I've been to Disneyland florida and I thought I have exhausted the kid in me but nope! I still had so much fun in disneyland hong kong. 2 DL off my bucketlist and more to come!     \""
      ]
     },
     "execution_count": 22,
     "metadata": {},
     "output_type": "execute_result"
    }
   ],
   "source": [
    "example = reviews_df[\"Review_Text\"][10]\n",
    "example"
   ]
  },
  {
   "cell_type": "code",
   "execution_count": 23,
   "id": "9dc613e9",
   "metadata": {},
   "outputs": [
    {
     "data": {
      "text/plain": [
       "('positive', 0.9825873970985413)"
      ]
     },
     "execution_count": 23,
     "metadata": {},
     "output_type": "execute_result"
    }
   ],
   "source": [
    "sentiment(example)"
   ]
  },
  {
   "cell_type": "markdown",
   "id": "d901741f",
   "metadata": {},
   "source": [
    "We can see that the Roberta Model has identified this as a very positive score which makes sense when reading the text.\n",
    "\n",
    "Great - now let's run our pipeline on the entire dataset."
   ]
  },
  {
   "cell_type": "markdown",
   "id": "9fb09123",
   "metadata": {},
   "source": [
    "### Get Sentiment For Entire DataFrame"
   ]
  },
  {
   "cell_type": "markdown",
   "id": "b9bfe0ee",
   "metadata": {},
   "source": [
    "In this code snippet, we perform sentiment analysis on the entire DataFrame containing reviews. \n",
    "\n",
    "The process involves iterating through each row of the DataFrame, extracting text data, and using a sentiment analysis function `sentiment` to analyze the sentiment of each review. Additionally, it includes error handling to gracefully handle any issues that may arize during the sentiment analysis process.\n",
    "\n",
    "This code will take a few minutes to run - you can always reduce or increase the size of the input data depending on your machines performance."
   ]
  },
  {
   "cell_type": "code",
   "execution_count": 24,
   "id": "c00808a7",
   "metadata": {},
   "outputs": [
    {
     "data": {
      "application/vnd.jupyter.widget-view+json": {
       "model_id": "d6cb5bd6d8a94267a379a30a88562587",
       "version_major": 2,
       "version_minor": 0
      },
      "text/plain": [
       "  0%|          | 0/150 [00:00<?, ?it/s]"
      ]
     },
     "metadata": {},
     "output_type": "display_data"
    }
   ],
   "source": [
    "res = {}\n",
    "for _, row in tqdm(reviews_df.iterrows(), total=len(reviews_df)):\n",
    "    myid = row[\"Review_ID\"]\n",
    "    try:\n",
    "        res[myid] = sentiment(row[\"Review_Text\"])\n",
    "    except RuntimeError:\n",
    "        print(f\"Broke for id {myid}\")"
   ]
  },
  {
   "cell_type": "markdown",
   "id": "89edf54b",
   "metadata": {},
   "source": [
    "We can see it broke for some IDs which is okay - these may have been too long for the RoBERTa model and have been ignored.\n",
    "\n",
    "Let's merge the sentiment analysis results obtained from the sentiment analysis process with the original DataFrame."
   ]
  },
  {
   "cell_type": "code",
   "execution_count": 25,
   "id": "59d67f97",
   "metadata": {},
   "outputs": [],
   "source": [
    "sentiments_df = (\n",
    "    pd.DataFrame(res)\n",
    "    .T.reset_index()\n",
    "    .rename(columns={\"index\": \"Review_ID\", 0: \"Label\", 1: \"Score\"})\n",
    ")"
   ]
  },
  {
   "cell_type": "code",
   "execution_count": 26,
   "id": "655a93fb",
   "metadata": {},
   "outputs": [
    {
     "name": "stdout",
     "output_type": "stream",
     "text": [
      "(147, 3)\n"
     ]
    },
    {
     "data": {
      "text/html": [
       "<div>\n",
       "<style scoped>\n",
       "    .dataframe tbody tr th:only-of-type {\n",
       "        vertical-align: middle;\n",
       "    }\n",
       "\n",
       "    .dataframe tbody tr th {\n",
       "        vertical-align: top;\n",
       "    }\n",
       "\n",
       "    .dataframe thead th {\n",
       "        text-align: right;\n",
       "    }\n",
       "</style>\n",
       "<table border=\"1\" class=\"dataframe\">\n",
       "  <thead>\n",
       "    <tr style=\"text-align: right;\">\n",
       "      <th></th>\n",
       "      <th>Review_ID</th>\n",
       "      <th>Label</th>\n",
       "      <th>Score</th>\n",
       "    </tr>\n",
       "  </thead>\n",
       "  <tbody>\n",
       "    <tr>\n",
       "      <th>0</th>\n",
       "      <td>670772142</td>\n",
       "      <td>positive</td>\n",
       "      <td>0.984786</td>\n",
       "    </tr>\n",
       "    <tr>\n",
       "      <th>1</th>\n",
       "      <td>670682799</td>\n",
       "      <td>positive</td>\n",
       "      <td>0.858987</td>\n",
       "    </tr>\n",
       "    <tr>\n",
       "      <th>2</th>\n",
       "      <td>670623270</td>\n",
       "      <td>positive</td>\n",
       "      <td>0.898818</td>\n",
       "    </tr>\n",
       "    <tr>\n",
       "      <th>3</th>\n",
       "      <td>670607911</td>\n",
       "      <td>positive</td>\n",
       "      <td>0.863198</td>\n",
       "    </tr>\n",
       "    <tr>\n",
       "      <th>4</th>\n",
       "      <td>670607296</td>\n",
       "      <td>positive</td>\n",
       "      <td>0.56407</td>\n",
       "    </tr>\n",
       "  </tbody>\n",
       "</table>\n",
       "</div>"
      ],
      "text/plain": [
       "   Review_ID     Label     Score\n",
       "0  670772142  positive  0.984786\n",
       "1  670682799  positive  0.858987\n",
       "2  670623270  positive  0.898818\n",
       "3  670607911  positive  0.863198\n",
       "4  670607296  positive   0.56407"
      ]
     },
     "execution_count": 26,
     "metadata": {},
     "output_type": "execute_result"
    }
   ],
   "source": [
    "show_df(sentiments_df)"
   ]
  },
  {
   "cell_type": "markdown",
   "id": "07b37219",
   "metadata": {},
   "source": [
    "### Add These Sentiment Values To The Reviews"
   ]
  },
  {
   "cell_type": "code",
   "execution_count": 27,
   "id": "0cd56395",
   "metadata": {},
   "outputs": [],
   "source": [
    "review_sentiments_df = sentiments_df.merge(reviews_df, how=\"left\")"
   ]
  },
  {
   "cell_type": "code",
   "execution_count": 28,
   "id": "527ca6a6",
   "metadata": {},
   "outputs": [
    {
     "name": "stdout",
     "output_type": "stream",
     "text": [
      "(147, 8)\n"
     ]
    },
    {
     "data": {
      "text/html": [
       "<div>\n",
       "<style scoped>\n",
       "    .dataframe tbody tr th:only-of-type {\n",
       "        vertical-align: middle;\n",
       "    }\n",
       "\n",
       "    .dataframe tbody tr th {\n",
       "        vertical-align: top;\n",
       "    }\n",
       "\n",
       "    .dataframe thead th {\n",
       "        text-align: right;\n",
       "    }\n",
       "</style>\n",
       "<table border=\"1\" class=\"dataframe\">\n",
       "  <thead>\n",
       "    <tr style=\"text-align: right;\">\n",
       "      <th></th>\n",
       "      <th>Review_ID</th>\n",
       "      <th>Label</th>\n",
       "      <th>Score</th>\n",
       "      <th>Rating</th>\n",
       "      <th>Year_Month</th>\n",
       "      <th>Reviewer_Location</th>\n",
       "      <th>Review_Text</th>\n",
       "      <th>Branch</th>\n",
       "    </tr>\n",
       "  </thead>\n",
       "  <tbody>\n",
       "    <tr>\n",
       "      <th>0</th>\n",
       "      <td>670772142</td>\n",
       "      <td>positive</td>\n",
       "      <td>0.984786</td>\n",
       "      <td>4</td>\n",
       "      <td>2019-4</td>\n",
       "      <td>Australia</td>\n",
       "      <td>If you've ever been to Disneyland anywhere you'll find Disneyland Hong Kong very similar in the layout when you walk into main street! It has a very familiar feel. One of the rides  its a Small Wo...</td>\n",
       "      <td>Disneyland_HongKong</td>\n",
       "    </tr>\n",
       "    <tr>\n",
       "      <th>1</th>\n",
       "      <td>670682799</td>\n",
       "      <td>positive</td>\n",
       "      <td>0.858987</td>\n",
       "      <td>4</td>\n",
       "      <td>2019-5</td>\n",
       "      <td>Philippines</td>\n",
       "      <td>Its been a while since d last time we visit HK Disneyland .. Yet, this time we only stay in Tomorrowland .. AKA Marvel land!Now they have Iron Man Experience n d Newly open Ant Man n d Wasp!!Ironm...</td>\n",
       "      <td>Disneyland_HongKong</td>\n",
       "    </tr>\n",
       "    <tr>\n",
       "      <th>2</th>\n",
       "      <td>670623270</td>\n",
       "      <td>positive</td>\n",
       "      <td>0.898818</td>\n",
       "      <td>4</td>\n",
       "      <td>2019-4</td>\n",
       "      <td>United Arab Emirates</td>\n",
       "      <td>Thanks God it wasn   t too hot or too humid when I was visiting the park   otherwise it would be a big issue (there is not a lot of shade).I have arrived around 10:30am and left at 6pm. Unfortunat...</td>\n",
       "      <td>Disneyland_HongKong</td>\n",
       "    </tr>\n",
       "    <tr>\n",
       "      <th>3</th>\n",
       "      <td>670607911</td>\n",
       "      <td>positive</td>\n",
       "      <td>0.863198</td>\n",
       "      <td>4</td>\n",
       "      <td>2019-4</td>\n",
       "      <td>Australia</td>\n",
       "      <td>HK Disneyland is a great compact park. Unfortunately there is quite a bit of maintenance work going on at present so a number of areas are closed off (including the famous castle) If you go midwee...</td>\n",
       "      <td>Disneyland_HongKong</td>\n",
       "    </tr>\n",
       "    <tr>\n",
       "      <th>4</th>\n",
       "      <td>670607296</td>\n",
       "      <td>positive</td>\n",
       "      <td>0.56407</td>\n",
       "      <td>4</td>\n",
       "      <td>2019-4</td>\n",
       "      <td>United Kingdom</td>\n",
       "      <td>the location is not in the city, took around 1 hour from Kowlon, my kids like disneyland so much, everything is fine.   but its really crowded and hot in Hong Kong</td>\n",
       "      <td>Disneyland_HongKong</td>\n",
       "    </tr>\n",
       "  </tbody>\n",
       "</table>\n",
       "</div>"
      ],
      "text/plain": [
       "   Review_ID     Label     Score  Rating Year_Month     Reviewer_Location  \\\n",
       "0  670772142  positive  0.984786       4     2019-4             Australia   \n",
       "1  670682799  positive  0.858987       4     2019-5           Philippines   \n",
       "2  670623270  positive  0.898818       4     2019-4  United Arab Emirates   \n",
       "3  670607911  positive  0.863198       4     2019-4             Australia   \n",
       "4  670607296  positive   0.56407       4     2019-4        United Kingdom   \n",
       "\n",
       "                                                                                                                                                                                               Review_Text  \\\n",
       "0  If you've ever been to Disneyland anywhere you'll find Disneyland Hong Kong very similar in the layout when you walk into main street! It has a very familiar feel. One of the rides  its a Small Wo...   \n",
       "1  Its been a while since d last time we visit HK Disneyland .. Yet, this time we only stay in Tomorrowland .. AKA Marvel land!Now they have Iron Man Experience n d Newly open Ant Man n d Wasp!!Ironm...   \n",
       "2  Thanks God it wasn   t too hot or too humid when I was visiting the park   otherwise it would be a big issue (there is not a lot of shade).I have arrived around 10:30am and left at 6pm. Unfortunat...   \n",
       "3  HK Disneyland is a great compact park. Unfortunately there is quite a bit of maintenance work going on at present so a number of areas are closed off (including the famous castle) If you go midwee...   \n",
       "4                                      the location is not in the city, took around 1 hour from Kowlon, my kids like disneyland so much, everything is fine.   but its really crowded and hot in Hong Kong   \n",
       "\n",
       "                Branch  \n",
       "0  Disneyland_HongKong  \n",
       "1  Disneyland_HongKong  \n",
       "2  Disneyland_HongKong  \n",
       "3  Disneyland_HongKong  \n",
       "4  Disneyland_HongKong  "
      ]
     },
     "execution_count": 28,
     "metadata": {},
     "output_type": "execute_result"
    }
   ],
   "source": [
    "show_df(review_sentiments_df)"
   ]
  },
  {
   "cell_type": "markdown",
   "id": "142b87af",
   "metadata": {},
   "source": [
    "### Plot The Sentiment For Each Branch"
   ]
  },
  {
   "cell_type": "markdown",
   "id": "7f21b19a",
   "metadata": {},
   "source": [
    "Visualizing this, we can see the variety in sentiment across the 3 branches and compare the the rating the customer gave in their review. For the positive reviews we see all 4* or 5* reviews which makes sense. The negative reviews have lower ratings with the California branch getting the lowest ratings off all branches."
   ]
  },
  {
   "cell_type": "code",
   "execution_count": 29,
   "id": "f273ecf3",
   "metadata": {},
   "outputs": [],
   "source": [
    "def plot_grouped_bar_chart(df: pd.DataFrame, y_label: str) -> None:\n",
    "    # Get list of unique branches and labels\n",
    "    branches = df.index.unique()\n",
    "    labels = df.columns.unique()\n",
    "\n",
    "    # Plot a bar for each branch-label pair\n",
    "    bar_width = 0.2\n",
    "    x_positions = range(len(labels))\n",
    "    for i, branch in enumerate(branches):\n",
    "        metric_ratings = df.loc[branch]\n",
    "        plt.bar(\n",
    "            x=[pos + (i * bar_width) for pos in x_positions],\n",
    "            height=metric_ratings,\n",
    "            width=bar_width,\n",
    "            label=branch,\n",
    "        )\n",
    "\n",
    "    # Beutify the plot\n",
    "    plt.xticks([pos + bar_width for pos in x_positions], labels)\n",
    "    plt.xlabel(\"Label\")\n",
    "    plt.ylabel(y_label)\n",
    "    plt.legend()"
   ]
  },
  {
   "cell_type": "code",
   "execution_count": 30,
   "id": "4ef67d97",
   "metadata": {},
   "outputs": [
    {
     "data": {
      "text/html": [
       "<div>\n",
       "<style scoped>\n",
       "    .dataframe tbody tr th:only-of-type {\n",
       "        vertical-align: middle;\n",
       "    }\n",
       "\n",
       "    .dataframe tbody tr th {\n",
       "        vertical-align: top;\n",
       "    }\n",
       "\n",
       "    .dataframe thead th {\n",
       "        text-align: right;\n",
       "    }\n",
       "</style>\n",
       "<table border=\"1\" class=\"dataframe\">\n",
       "  <thead>\n",
       "    <tr style=\"text-align: right;\">\n",
       "      <th>Label</th>\n",
       "      <th>negative</th>\n",
       "      <th>neutral</th>\n",
       "      <th>positive</th>\n",
       "    </tr>\n",
       "    <tr>\n",
       "      <th>Branch</th>\n",
       "      <th></th>\n",
       "      <th></th>\n",
       "      <th></th>\n",
       "    </tr>\n",
       "  </thead>\n",
       "  <tbody>\n",
       "    <tr>\n",
       "      <th>Disneyland_California</th>\n",
       "      <td>1.500000</td>\n",
       "      <td>NaN</td>\n",
       "      <td>4.822222</td>\n",
       "    </tr>\n",
       "    <tr>\n",
       "      <th>Disneyland_HongKong</th>\n",
       "      <td>3.166667</td>\n",
       "      <td>3.833333</td>\n",
       "      <td>4.351351</td>\n",
       "    </tr>\n",
       "    <tr>\n",
       "      <th>Disneyland_Paris</th>\n",
       "      <td>2.416667</td>\n",
       "      <td>2.500000</td>\n",
       "      <td>4.628571</td>\n",
       "    </tr>\n",
       "  </tbody>\n",
       "</table>\n",
       "</div>"
      ],
      "text/plain": [
       "Label                  negative   neutral  positive\n",
       "Branch                                             \n",
       "Disneyland_California  1.500000       NaN  4.822222\n",
       "Disneyland_HongKong    3.166667  3.833333  4.351351\n",
       "Disneyland_Paris       2.416667  2.500000  4.628571"
      ]
     },
     "execution_count": 30,
     "metadata": {},
     "output_type": "execute_result"
    }
   ],
   "source": [
    "# Group the DataFrame by 'Branch' and 'Label' and calculate the mean rating for each group\n",
    "grouped_review_sentiments_df = (\n",
    "    review_sentiments_df.groupby([\"Branch\", \"Label\"])[\"Rating\"].mean().unstack()\n",
    ")\n",
    "grouped_review_sentiments_df"
   ]
  },
  {
   "cell_type": "code",
   "execution_count": 31,
   "id": "a206e7da",
   "metadata": {},
   "outputs": [
    {
     "data": {
      "image/png": "[encoded data removed]",
      "text/plain": [
       "<Figure size 640x480 with 1 Axes>"
      ]
     },
     "metadata": {},
     "output_type": "display_data"
    }
   ],
   "source": [
    "plot_grouped_bar_chart(grouped_review_sentiments_df, y_label=\"Mean Rating\")"
   ]
  },
  {
   "cell_type": "markdown",
   "id": "ba67d2d9",
   "metadata": {},
   "source": [
    " This consolidated dataset can be further analyzed, visualized, and in this example we will add it to our KDB.AI vector database to gain insights into the sentiments expressed in the reviews."
   ]
  },
  {
   "cell_type": "markdown",
   "id": "b12d4fe9",
   "metadata": {},
   "source": [
    "## 3. Create Review Vector Embeddings"
   ]
  },
  {
   "cell_type": "markdown",
   "id": "5793e6d7",
   "metadata": {},
   "source": [
    "Before we can add this data to KDB.AI, we must utilize the [Sentence Transformers](https://huggingface.co/sentence-transformers/all-MiniLM-L6-v2) library to perform text embedding. Text embedding is the process of converting textual data into numerical vectors that capture semantic meaning.\n",
    "\n",
    "The `embedded_review_df` DataFrame provides a combined view of the original data we want to store as metadata in KDB.AI and the associated embeddings."
   ]
  },
  {
   "cell_type": "code",
   "execution_count": 32,
   "id": "1993e9e1",
   "metadata": {},
   "outputs": [],
   "source": [
    "embedding_model = SentenceTransformer(\"all-MiniLM-L6-v2\")"
   ]
  },
  {
   "cell_type": "code",
   "execution_count": 33,
   "id": "b717e590",
   "metadata": {},
   "outputs": [],
   "source": [
    "def encode_text(text):\n",
    "    return embedding_model.encode(text)"
   ]
  },
  {
   "cell_type": "code",
   "execution_count": 34,
   "id": "8cf68a26",
   "metadata": {},
   "outputs": [],
   "source": [
    "review_sentiments_df[\"embeddings\"] = review_sentiments_df[\"Review_Text\"].apply(\n",
    "    encode_text\n",
    ")"
   ]
  },
  {
   "cell_type": "code",
   "execution_count": 35,
   "id": "60e16dea",
   "metadata": {},
   "outputs": [],
   "source": [
    "embedded_review_df = review_sentiments_df[\n",
    "    [\"Branch\", \"Label\", \"Score\", \"Rating\", \"Review_Text\", \"embeddings\"]\n",
    "]"
   ]
  },
  {
   "cell_type": "code",
   "execution_count": 36,
   "id": "7ab15e75",
   "metadata": {},
   "outputs": [
    {
     "name": "stdout",
     "output_type": "stream",
     "text": [
      "(147, 6)\n"
     ]
    },
    {
     "data": {
      "text/html": [
       "<div>\n",
       "<style scoped>\n",
       "    .dataframe tbody tr th:only-of-type {\n",
       "        vertical-align: middle;\n",
       "    }\n",
       "\n",
       "    .dataframe tbody tr th {\n",
       "        vertical-align: top;\n",
       "    }\n",
       "\n",
       "    .dataframe thead th {\n",
       "        text-align: right;\n",
       "    }\n",
       "</style>\n",
       "<table border=\"1\" class=\"dataframe\">\n",
       "  <thead>\n",
       "    <tr style=\"text-align: right;\">\n",
       "      <th></th>\n",
       "      <th>Branch</th>\n",
       "      <th>Label</th>\n",
       "      <th>Score</th>\n",
       "      <th>Rating</th>\n",
       "      <th>Review_Text</th>\n",
       "      <th>embeddings</th>\n",
       "    </tr>\n",
       "  </thead>\n",
       "  <tbody>\n",
       "    <tr>\n",
       "      <th>0</th>\n",
       "      <td>Disneyland_HongKong</td>\n",
       "      <td>positive</td>\n",
       "      <td>0.984786</td>\n",
       "      <td>4</td>\n",
       "      <td>If you've ever been to Disneyland anywhere you'll find Disneyland Hong Kong very similar in the layout when you walk into main street! It has a very familiar feel. One of the rides  its a Small Wo...</td>\n",
       "      <td>[0.12519372, -0.047441892, 0.08718408, 0.010215117, -0.048024543, 0.003773685, 0.0026168323, -0.05580008, -0.0147038605, -0.02043803, 0.003935887, -0.026021171, -0.006516183, -0.017566415, 0.06614...</td>\n",
       "    </tr>\n",
       "    <tr>\n",
       "      <th>1</th>\n",
       "      <td>Disneyland_HongKong</td>\n",
       "      <td>positive</td>\n",
       "      <td>0.858987</td>\n",
       "      <td>4</td>\n",
       "      <td>Its been a while since d last time we visit HK Disneyland .. Yet, this time we only stay in Tomorrowland .. AKA Marvel land!Now they have Iron Man Experience n d Newly open Ant Man n d Wasp!!Ironm...</td>\n",
       "      <td>[0.047256045, -0.022195438, 0.12704656, -0.017679928, 0.012125668, 0.023794485, 0.06356315, -0.058635384, -0.07302155, -0.020539565, -0.019598711, -0.0727139, -0.04178501, -0.0031552715, 0.0726895...</td>\n",
       "    </tr>\n",
       "    <tr>\n",
       "      <th>2</th>\n",
       "      <td>Disneyland_HongKong</td>\n",
       "      <td>positive</td>\n",
       "      <td>0.898818</td>\n",
       "      <td>4</td>\n",
       "      <td>Thanks God it wasn   t too hot or too humid when I was visiting the park   otherwise it would be a big issue (there is not a lot of shade).I have arrived around 10:30am and left at 6pm. Unfortunat...</td>\n",
       "      <td>[0.102995716, 0.018655345, 0.12572221, 0.08505049, 0.005007115, -0.03478093, -0.017856726, -0.027097583, -0.06612959, -0.045089297, -0.054861, -0.006485136, -0.026050534, 0.017010141, 0.076015055,...</td>\n",
       "    </tr>\n",
       "    <tr>\n",
       "      <th>3</th>\n",
       "      <td>Disneyland_HongKong</td>\n",
       "      <td>positive</td>\n",
       "      <td>0.863198</td>\n",
       "      <td>4</td>\n",
       "      <td>HK Disneyland is a great compact park. Unfortunately there is quite a bit of maintenance work going on at present so a number of areas are closed off (including the famous castle) If you go midwee...</td>\n",
       "      <td>[0.14166495, -0.016745627, 0.08668989, 0.008527181, -0.037891142, 0.052252654, 0.010436036, -0.045326773, -0.07340576, 0.0044011488, 0.012121074, -0.022934409, -0.039868698, -0.03126053, 0.1209039...</td>\n",
       "    </tr>\n",
       "    <tr>\n",
       "      <th>4</th>\n",
       "      <td>Disneyland_HongKong</td>\n",
       "      <td>positive</td>\n",
       "      <td>0.56407</td>\n",
       "      <td>4</td>\n",
       "      <td>the location is not in the city, took around 1 hour from Kowlon, my kids like disneyland so much, everything is fine.   but its really crowded and hot in Hong Kong</td>\n",
       "      <td>[0.11346175, 0.004491506, 0.065638095, 0.05553022, 0.027315821, -0.0062374542, -0.078889824, -0.07142627, -0.04667327, 0.011053055, 0.081861004, -0.104370974, -0.03234411, 0.007316668, 0.08222015,...</td>\n",
       "    </tr>\n",
       "  </tbody>\n",
       "</table>\n",
       "</div>"
      ],
      "text/plain": [
       "                Branch     Label     Score  Rating  \\\n",
       "0  Disneyland_HongKong  positive  0.984786       4   \n",
       "1  Disneyland_HongKong  positive  0.858987       4   \n",
       "2  Disneyland_HongKong  positive  0.898818       4   \n",
       "3  Disneyland_HongKong  positive  0.863198       4   \n",
       "4  Disneyland_HongKong  positive   0.56407       4   \n",
       "\n",
       "                                                                                                                                                                                               Review_Text  \\\n",
       "0  If you've ever been to Disneyland anywhere you'll find Disneyland Hong Kong very similar in the layout when you walk into main street! It has a very familiar feel. One of the rides  its a Small Wo...   \n",
       "1  Its been a while since d last time we visit HK Disneyland .. Yet, this time we only stay in Tomorrowland .. AKA Marvel land!Now they have Iron Man Experience n d Newly open Ant Man n d Wasp!!Ironm...   \n",
       "2  Thanks God it wasn   t too hot or too humid when I was visiting the park   otherwise it would be a big issue (there is not a lot of shade).I have arrived around 10:30am and left at 6pm. Unfortunat...   \n",
       "3  HK Disneyland is a great compact park. Unfortunately there is quite a bit of maintenance work going on at present so a number of areas are closed off (including the famous castle) If you go midwee...   \n",
       "4                                      the location is not in the city, took around 1 hour from Kowlon, my kids like disneyland so much, everything is fine.   but its really crowded and hot in Hong Kong   \n",
       "\n",
       "                                                                                                                                                                                                embeddings  \n",
       "0  [0.12519372, -0.047441892, 0.08718408, 0.010215117, -0.048024543, 0.003773685, 0.0026168323, -0.05580008, -0.0147038605, -0.02043803, 0.003935887, -0.026021171, -0.006516183, -0.017566415, 0.06614...  \n",
       "1  [0.047256045, -0.022195438, 0.12704656, -0.017679928, 0.012125668, 0.023794485, 0.06356315, -0.058635384, -0.07302155, -0.020539565, -0.019598711, -0.0727139, -0.04178501, -0.0031552715, 0.0726895...  \n",
       "2  [0.102995716, 0.018655345, 0.12572221, 0.08505049, 0.005007115, -0.03478093, -0.017856726, -0.027097583, -0.06612959, -0.045089297, -0.054861, -0.006485136, -0.026050534, 0.017010141, 0.076015055,...  \n",
       "3  [0.14166495, -0.016745627, 0.08668989, 0.008527181, -0.037891142, 0.052252654, 0.010436036, -0.045326773, -0.07340576, 0.0044011488, 0.012121074, -0.022934409, -0.039868698, -0.03126053, 0.1209039...  \n",
       "4  [0.11346175, 0.004491506, 0.065638095, 0.05553022, 0.027315821, -0.0062374542, -0.078889824, -0.07142627, -0.04667327, 0.011053055, 0.081861004, -0.104370974, -0.03234411, 0.007316668, 0.08222015,...  "
      ]
     },
     "execution_count": 36,
     "metadata": {},
     "output_type": "execute_result"
    }
   ],
   "source": [
    "show_df(embedded_review_df)"
   ]
  },
  {
   "cell_type": "markdown",
   "id": "26daf9db",
   "metadata": {},
   "source": [
    "## 4. Store Embeddings in KDB.AI"
   ]
  },
  {
   "cell_type": "markdown",
   "id": "70505eae-4138-4ba8-80e9-fc13c37d0b32",
   "metadata": {},
   "source": [
    "With the embeddings created, we need to store them in a vector database to enable efficient searching.\n",
    "\n",
    "### Define KDB.AI Session\n",
    "\n",
    "KDB.AI comes in two offerings:\n",
    "\n",
    "1. [KDB.AI Cloud](https://trykdb.kx.com/kdbai/signup/) - For experimenting with smaller generative AI projects with a vector database in our cloud.\n",
    "2. [KDB.AI Server](https://trykdb.kx.com/kdbaiserver/signup/) - For evaluating large scale generative AI applications on-premises or on your own cloud provider.\n",
    "\n",
    "Depending on which you use there will be different setup steps and connection details required.\n",
    "\n",
    "##### Option 1. KDB.AI Cloud\n",
    "\n",
    "To use KDB.AI Cloud, you will need two session details - a URL endpoint and an API key.\n",
    "To get these you can sign up for free [here](https://trykdb.kx.com/kdbai/signup).\n",
    "\n",
    "You can connect to a KDB.AI Cloud session using `kdbai.Session` and passing the session URL endpoint and API key details from your KDB.AI Cloud portal.\n",
    "\n",
    "If the environment variables `KDBAI_ENDPOINTS` and `KDBAI_API_KEY` exist on your system containing your KDB.AI Cloud portal details, these variables will automatically be used to connect.\n",
    "If these do not exist, it will prompt you to enter your KDB.AI Cloud portal session URL endpoint and API key details."
   ]
  },
  {
   "cell_type": "code",
   "execution_count": 37,
   "id": "9b895a01",
   "metadata": {},
   "outputs": [],
   "source": [
    "KDBAI_ENDPOINT = (\n",
    "    os.environ[\"KDBAI_ENDPOINT\"]\n",
    "    if \"KDBAI_ENDPOINT\" in os.environ\n",
    "    else input(\"KDB.AI endpoint: \")\n",
    ")\n",
    "KDBAI_API_KEY = (\n",
    "    os.environ[\"KDBAI_API_KEY\"]\n",
    "    if \"KDBAI_API_KEY\" in os.environ\n",
    "    else getpass(\"KDB.AI API key: \")\n",
    ")"
   ]
  },
  {
   "cell_type": "code",
   "execution_count": 38,
   "id": "3b3a4932",
   "metadata": {},
   "outputs": [],
   "source": [
    "session = kdbai.Session(api_key=KDBAI_API_KEY, endpoint=KDBAI_ENDPOINT)"
   ]
  },
  {
   "cell_type": "markdown",
   "id": "4513c8ea",
   "metadata": {},
   "source": [
    "##### Option 2. KDB.AI Server\n",
    "\n",
    "To use KDB.AI Server, you will need download and run your own container.\n",
    "To do this, you will first need to sign up for free [here](https://trykdb.kx.com/kdbaiserver/signup/). \n",
    "\n",
    "You will receive an email with the required license file and bearer token needed to download your instance.\n",
    "Follow instructions in the signup email to get your session up and running.\n",
    "\n",
    "Once the [setup steps](https://code.kx.com/kdbai/gettingStarted/kdb-ai-server-setup.html) are complete you can then connect to your KDB.AI Server session using `kdbai.Session` and passing your local endpoint."
   ]
  },
  {
   "cell_type": "code",
   "execution_count": 39,
   "id": "8c28ba47",
   "metadata": {},
   "outputs": [],
   "source": [
    "# session = kdbai.Session(endpoint=\"http://localhost:8082\")"
   ]
  },
  {
   "cell_type": "markdown",
   "id": "48c6525c",
   "metadata": {},
   "source": [
    "### Define Vector DB Table Schema\n",
    "\n",
    "The next step is to define a schema for our KDB.AI table where we will store our embeddings.\n",
    "\n",
    "At this point you will select the index and metric you want to use for searching."
   ]
  },
  {
   "cell_type": "code",
   "execution_count": 40,
   "id": "af604df0",
   "metadata": {},
   "outputs": [],
   "source": [
    "review_schema = {\n",
    "    \"columns\": [\n",
    "        {\"name\": \"Branch\", \"pytype\": \"str\"},\n",
    "        {\"name\": \"Label\", \"pytype\": \"str\"},\n",
    "        {\"name\": \"Score\", \"pytype\": \"float64\"},\n",
    "        {\"name\": \"Rating\", \"pytype\": \"int64\"},\n",
    "        {\"name\": \"Review_Text\", \"pytype\": \"str\"},\n",
    "        {\n",
    "            \"name\": \"embeddings\",\n",
    "            \"vectorIndex\": {\"dims\": 384, \"metric\": \"CS\", \"type\": \"hnsw\"},\n",
    "        },\n",
    "    ]\n",
    "}"
   ]
  },
  {
   "cell_type": "markdown",
   "id": "518cfe1e",
   "metadata": {},
   "source": [
    "### Create Vector DB Table\n",
    "\n",
    "Use the KDB.AI `create_table` function to create a table that matches the defined schema in the vector database."
   ]
  },
  {
   "cell_type": "code",
   "execution_count": 41,
   "id": "f583df69",
   "metadata": {},
   "outputs": [],
   "source": [
    "# First ensure the table does not already exist\n",
    "try:\n",
    "    session.table(\"review\").drop()\n",
    "    time.sleep(5)\n",
    "except kdbai.KDBAIException:\n",
    "    pass"
   ]
  },
  {
   "cell_type": "code",
   "execution_count": 42,
   "id": "e1d190db-7c19-418e-9140-3dff04c9d4c0",
   "metadata": {},
   "outputs": [],
   "source": [
    "table = session.create_table(\"review\", review_schema)"
   ]
  },
  {
   "cell_type": "markdown",
   "id": "9a0a9d0e-80b8-4e09-9101-d22667da551f",
   "metadata": {},
   "source": [
    "### Add Embedded Data to KDB.AI Table"
   ]
  },
  {
   "cell_type": "code",
   "execution_count": 43,
   "id": "83cc156c-8071-4784-8c3e-a049b61e8668",
   "metadata": {},
   "outputs": [
    {
     "data": {
      "text/plain": [
       "True"
      ]
     },
     "execution_count": 43,
     "metadata": {},
     "output_type": "execute_result"
    }
   ],
   "source": [
    "table.insert(embedded_review_df)"
   ]
  },
  {
   "cell_type": "markdown",
   "id": "e31a4ecd",
   "metadata": {},
   "source": [
    "### Verify Data Has Been Inserted\n",
    "\n",
    "Running `table.query()` should show us that data has been added."
   ]
  },
  {
   "cell_type": "code",
   "execution_count": 44,
   "id": "ee6ecb8d",
   "metadata": {},
   "outputs": [
    {
     "name": "stdout",
     "output_type": "stream",
     "text": [
      "(147, 6)\n"
     ]
    },
    {
     "data": {
      "text/html": [
       "<div>\n",
       "<style scoped>\n",
       "    .dataframe tbody tr th:only-of-type {\n",
       "        vertical-align: middle;\n",
       "    }\n",
       "\n",
       "    .dataframe tbody tr th {\n",
       "        vertical-align: top;\n",
       "    }\n",
       "\n",
       "    .dataframe thead th {\n",
       "        text-align: right;\n",
       "    }\n",
       "</style>\n",
       "<table border=\"1\" class=\"dataframe\">\n",
       "  <thead>\n",
       "    <tr style=\"text-align: right;\">\n",
       "      <th></th>\n",
       "      <th>Branch</th>\n",
       "      <th>Label</th>\n",
       "      <th>Score</th>\n",
       "      <th>Rating</th>\n",
       "      <th>Review_Text</th>\n",
       "      <th>embeddings</th>\n",
       "    </tr>\n",
       "  </thead>\n",
       "  <tbody>\n",
       "    <tr>\n",
       "      <th>0</th>\n",
       "      <td>Disneyland_HongKong</td>\n",
       "      <td>positive</td>\n",
       "      <td>0.984786</td>\n",
       "      <td>4</td>\n",
       "      <td>If you've ever been to Disneyland anywhere you'll find Disneyland Hong Kong very similar in the layout when you walk into main street! It has a very familiar feel. One of the rides  its a Small Wo...</td>\n",
       "      <td>[0.12519372, -0.047441892, 0.08718408, 0.010215117, -0.048024543, 0.003773685, 0.0026168323, -0.05580008, -0.0147038605, -0.02043803, 0.003935887, -0.026021171, -0.006516183, -0.017566415, 0.06614...</td>\n",
       "    </tr>\n",
       "    <tr>\n",
       "      <th>1</th>\n",
       "      <td>Disneyland_HongKong</td>\n",
       "      <td>positive</td>\n",
       "      <td>0.858987</td>\n",
       "      <td>4</td>\n",
       "      <td>Its been a while since d last time we visit HK Disneyland .. Yet, this time we only stay in Tomorrowland .. AKA Marvel land!Now they have Iron Man Experience n d Newly open Ant Man n d Wasp!!Ironm...</td>\n",
       "      <td>[0.047256045, -0.022195438, 0.12704656, -0.017679928, 0.012125668, 0.023794485, 0.06356315, -0.058635384, -0.07302155, -0.020539565, -0.019598711, -0.0727139, -0.04178501, -0.0031552715, 0.0726895...</td>\n",
       "    </tr>\n",
       "    <tr>\n",
       "      <th>2</th>\n",
       "      <td>Disneyland_HongKong</td>\n",
       "      <td>positive</td>\n",
       "      <td>0.898818</td>\n",
       "      <td>4</td>\n",
       "      <td>Thanks God it wasn   t too hot or too humid when I was visiting the park   otherwise it would be a big issue (there is not a lot of shade).I have arrived around 10:30am and left at 6pm. Unfortunat...</td>\n",
       "      <td>[0.102995716, 0.018655345, 0.12572221, 0.08505049, 0.005007115, -0.03478093, -0.017856726, -0.027097583, -0.06612959, -0.045089297, -0.054861, -0.006485136, -0.026050534, 0.017010141, 0.076015055,...</td>\n",
       "    </tr>\n",
       "    <tr>\n",
       "      <th>3</th>\n",
       "      <td>Disneyland_HongKong</td>\n",
       "      <td>positive</td>\n",
       "      <td>0.863198</td>\n",
       "      <td>4</td>\n",
       "      <td>HK Disneyland is a great compact park. Unfortunately there is quite a bit of maintenance work going on at present so a number of areas are closed off (including the famous castle) If you go midwee...</td>\n",
       "      <td>[0.14166495, -0.016745627, 0.08668989, 0.008527181, -0.037891142, 0.052252654, 0.010436036, -0.045326773, -0.07340576, 0.0044011488, 0.012121074, -0.022934409, -0.039868698, -0.03126053, 0.1209039...</td>\n",
       "    </tr>\n",
       "    <tr>\n",
       "      <th>4</th>\n",
       "      <td>Disneyland_HongKong</td>\n",
       "      <td>positive</td>\n",
       "      <td>0.564070</td>\n",
       "      <td>4</td>\n",
       "      <td>the location is not in the city, took around 1 hour from Kowlon, my kids like disneyland so much, everything is fine.   but its really crowded and hot in Hong Kong</td>\n",
       "      <td>[0.11346175, 0.004491506, 0.065638095, 0.05553022, 0.027315821, -0.0062374542, -0.078889824, -0.07142627, -0.04667327, 0.011053055, 0.081861004, -0.104370974, -0.03234411, 0.007316668, 0.08222015,...</td>\n",
       "    </tr>\n",
       "  </tbody>\n",
       "</table>\n",
       "</div>"
      ],
      "text/plain": [
       "                Branch     Label     Score  Rating  \\\n",
       "0  Disneyland_HongKong  positive  0.984786       4   \n",
       "1  Disneyland_HongKong  positive  0.858987       4   \n",
       "2  Disneyland_HongKong  positive  0.898818       4   \n",
       "3  Disneyland_HongKong  positive  0.863198       4   \n",
       "4  Disneyland_HongKong  positive  0.564070       4   \n",
       "\n",
       "                                                                                                                                                                                               Review_Text  \\\n",
       "0  If you've ever been to Disneyland anywhere you'll find Disneyland Hong Kong very similar in the layout when you walk into main street! It has a very familiar feel. One of the rides  its a Small Wo...   \n",
       "1  Its been a while since d last time we visit HK Disneyland .. Yet, this time we only stay in Tomorrowland .. AKA Marvel land!Now they have Iron Man Experience n d Newly open Ant Man n d Wasp!!Ironm...   \n",
       "2  Thanks God it wasn   t too hot or too humid when I was visiting the park   otherwise it would be a big issue (there is not a lot of shade).I have arrived around 10:30am and left at 6pm. Unfortunat...   \n",
       "3  HK Disneyland is a great compact park. Unfortunately there is quite a bit of maintenance work going on at present so a number of areas are closed off (including the famous castle) If you go midwee...   \n",
       "4                                      the location is not in the city, took around 1 hour from Kowlon, my kids like disneyland so much, everything is fine.   but its really crowded and hot in Hong Kong   \n",
       "\n",
       "                                                                                                                                                                                                embeddings  \n",
       "0  [0.12519372, -0.047441892, 0.08718408, 0.010215117, -0.048024543, 0.003773685, 0.0026168323, -0.05580008, -0.0147038605, -0.02043803, 0.003935887, -0.026021171, -0.006516183, -0.017566415, 0.06614...  \n",
       "1  [0.047256045, -0.022195438, 0.12704656, -0.017679928, 0.012125668, 0.023794485, 0.06356315, -0.058635384, -0.07302155, -0.020539565, -0.019598711, -0.0727139, -0.04178501, -0.0031552715, 0.0726895...  \n",
       "2  [0.102995716, 0.018655345, 0.12572221, 0.08505049, 0.005007115, -0.03478093, -0.017856726, -0.027097583, -0.06612959, -0.045089297, -0.054861, -0.006485136, -0.026050534, 0.017010141, 0.076015055,...  \n",
       "3  [0.14166495, -0.016745627, 0.08668989, 0.008527181, -0.037891142, 0.052252654, 0.010436036, -0.045326773, -0.07340576, 0.0044011488, 0.012121074, -0.022934409, -0.039868698, -0.03126053, 0.1209039...  \n",
       "4  [0.11346175, 0.004491506, 0.065638095, 0.05553022, 0.027315821, -0.0062374542, -0.078889824, -0.07142627, -0.04667327, 0.011053055, 0.081861004, -0.104370974, -0.03234411, 0.007316668, 0.08222015,...  "
      ]
     },
     "execution_count": 44,
     "metadata": {},
     "output_type": "execute_result"
    }
   ],
   "source": [
    "show_df(table.query())"
   ]
  },
  {
   "cell_type": "markdown",
   "id": "9dece108",
   "metadata": {},
   "source": [
    "## 5. Get The Sentiment Of Similar Reviews To A Target Query"
   ]
  },
  {
   "cell_type": "markdown",
   "id": "393ac113",
   "metadata": {},
   "source": [
    "### Retrieve Reviews Based On A Query"
   ]
  },
  {
   "cell_type": "markdown",
   "id": "f448f100",
   "metadata": {},
   "source": [
    "Next, let's create a function to let us perform a search, retrieve relevant results, and return them in Pandas DataFrame format, allowing for further analysis or examination of the retrieved data."
   ]
  },
  {
   "cell_type": "code",
   "execution_count": 45,
   "id": "5991de18",
   "metadata": {},
   "outputs": [],
   "source": [
    "def search_and_extract_results(\n",
    "    table, embedding_model, search_term: str, n_results: int\n",
    ") -> pd.DataFrame:\n",
    "    # Encode the search term\n",
    "    embedded_search_term = [embedding_model.encode(search_term).tolist()]\n",
    "\n",
    "    # Perform the search\n",
    "    search_results = table.search(embedded_search_term, n=n_results)\n",
    "\n",
    "    # Extract the results to a DataFrame - Return None if no results are found\n",
    "    return search_results[0].drop(\"embeddings\", axis=1) if search_results else None"
   ]
  },
  {
   "cell_type": "markdown",
   "id": "1903f487",
   "metadata": {},
   "source": [
    "Let's try with a query, calling with the search term \"are customers satisfied with the food at the park?\" and requesting 25 results. "
   ]
  },
  {
   "cell_type": "code",
   "execution_count": 46,
   "id": "046ba059",
   "metadata": {},
   "outputs": [],
   "source": [
    "query1 = \"are customers satisfied with the food at the park?\""
   ]
  },
  {
   "cell_type": "code",
   "execution_count": 47,
   "id": "660a342f",
   "metadata": {},
   "outputs": [],
   "source": [
    "query1_results = search_and_extract_results(\n",
    "    table, embedding_model, query1, n_results=25\n",
    ")"
   ]
  },
  {
   "cell_type": "code",
   "execution_count": 48,
   "id": "cc6bd3df",
   "metadata": {},
   "outputs": [
    {
     "name": "stdout",
     "output_type": "stream",
     "text": [
      "(25, 6)\n"
     ]
    },
    {
     "data": {
      "text/html": [
       "<div>\n",
       "<style scoped>\n",
       "    .dataframe tbody tr th:only-of-type {\n",
       "        vertical-align: middle;\n",
       "    }\n",
       "\n",
       "    .dataframe tbody tr th {\n",
       "        vertical-align: top;\n",
       "    }\n",
       "\n",
       "    .dataframe thead th {\n",
       "        text-align: right;\n",
       "    }\n",
       "</style>\n",
       "<table border=\"1\" class=\"dataframe\">\n",
       "  <thead>\n",
       "    <tr style=\"text-align: right;\">\n",
       "      <th></th>\n",
       "      <th>Branch</th>\n",
       "      <th>Label</th>\n",
       "      <th>Score</th>\n",
       "      <th>Rating</th>\n",
       "      <th>Review_Text</th>\n",
       "      <th>__nn_distance</th>\n",
       "    </tr>\n",
       "  </thead>\n",
       "  <tbody>\n",
       "    <tr>\n",
       "      <th>0</th>\n",
       "      <td>Disneyland_Paris</td>\n",
       "      <td>negative</td>\n",
       "      <td>0.914860</td>\n",
       "      <td>2</td>\n",
       "      <td>Visited the Park today   20 4   and can conclude that they simply let too many people in. Already at opening, queues at the attractions where 1 hour plus. At midday   the so called fast track was ...</td>\n",
       "      <td>0.600825</td>\n",
       "    </tr>\n",
       "    <tr>\n",
       "      <th>1</th>\n",
       "      <td>Disneyland_California</td>\n",
       "      <td>positive</td>\n",
       "      <td>0.763060</td>\n",
       "      <td>5</td>\n",
       "      <td>I wish they had better food restaurant choices, but the attractions make up for this deficit so it's all good.</td>\n",
       "      <td>0.568034</td>\n",
       "    </tr>\n",
       "    <tr>\n",
       "      <th>2</th>\n",
       "      <td>Disneyland_California</td>\n",
       "      <td>positive</td>\n",
       "      <td>0.962652</td>\n",
       "      <td>5</td>\n",
       "      <td>We found this park to provide family friendly fun with a variety of shows and rides. We pre paid our tickets to save time which was a benefit and were glad we paid extra for the park hopper ticket...</td>\n",
       "      <td>0.492384</td>\n",
       "    </tr>\n",
       "    <tr>\n",
       "      <th>3</th>\n",
       "      <td>Disneyland_Paris</td>\n",
       "      <td>negative</td>\n",
       "      <td>0.450606</td>\n",
       "      <td>3</td>\n",
       "      <td>Don't get my wrong, my family have been to Disneyland Paris twice in as many years, my kids love it and the atmosphere is unique. I think its going a bit far to call it magical though. I wont comm...</td>\n",
       "      <td>0.483248</td>\n",
       "    </tr>\n",
       "    <tr>\n",
       "      <th>4</th>\n",
       "      <td>Disneyland_Paris</td>\n",
       "      <td>positive</td>\n",
       "      <td>0.925374</td>\n",
       "      <td>5</td>\n",
       "      <td>Not the same as Disney in the states, none of the usual foods but none the less still fun.  We had a great time.</td>\n",
       "      <td>0.481315</td>\n",
       "    </tr>\n",
       "  </tbody>\n",
       "</table>\n",
       "</div>"
      ],
      "text/plain": [
       "                  Branch     Label     Score  Rating  \\\n",
       "0       Disneyland_Paris  negative  0.914860       2   \n",
       "1  Disneyland_California  positive  0.763060       5   \n",
       "2  Disneyland_California  positive  0.962652       5   \n",
       "3       Disneyland_Paris  negative  0.450606       3   \n",
       "4       Disneyland_Paris  positive  0.925374       5   \n",
       "\n",
       "                                                                                                                                                                                               Review_Text  \\\n",
       "0  Visited the Park today   20 4   and can conclude that they simply let too many people in. Already at opening, queues at the attractions where 1 hour plus. At midday   the so called fast track was ...   \n",
       "1                                                                                           I wish they had better food restaurant choices, but the attractions make up for this deficit so it's all good.   \n",
       "2  We found this park to provide family friendly fun with a variety of shows and rides. We pre paid our tickets to save time which was a benefit and were glad we paid extra for the park hopper ticket...   \n",
       "3  Don't get my wrong, my family have been to Disneyland Paris twice in as many years, my kids love it and the atmosphere is unique. I think its going a bit far to call it magical though. I wont comm...   \n",
       "4                                                                                         Not the same as Disney in the states, none of the usual foods but none the less still fun.  We had a great time.   \n",
       "\n",
       "   __nn_distance  \n",
       "0       0.600825  \n",
       "1       0.568034  \n",
       "2       0.492384  \n",
       "3       0.483248  \n",
       "4       0.481315  "
      ]
     },
     "execution_count": 48,
     "metadata": {},
     "output_type": "execute_result"
    }
   ],
   "source": [
    "show_df(query1_results)"
   ]
  },
  {
   "cell_type": "markdown",
   "id": "87116d87",
   "metadata": {},
   "source": [
    "### Group These Reviews By Branch\n",
    "\n",
    "This functions provides a convenient way to perform sentiment analysis on reviews or data associated with different branches or contexts, aggregating sentiment counts for each branch based on a given search term. \n",
    "\n",
    "It enables insights into the sentiments expressed in reviews within specific contexts, which can be valuable for analyzing customer feedback and making data-driven decisions."
   ]
  },
  {
   "cell_type": "code",
   "execution_count": 49,
   "id": "6f4a2dbd",
   "metadata": {},
   "outputs": [],
   "source": [
    "def sentiment_counts_by_branch(search_results: pd.DataFrame) -> pd.DataFrame:\n",
    "    def sentiment_counts(df: pd.DataFrame) -> dict:\n",
    "        # Store count of sentiment labels\n",
    "        sentiments = {\n",
    "            \"negative\": 0,\n",
    "            \"neutral\": 0,\n",
    "            \"positive\": 0,\n",
    "        }\n",
    "        # Iterate through search results\n",
    "        for _, row in df.iterrows():\n",
    "            # Extract the sentiment label and increase its count\n",
    "            label = row[\"Label\"]\n",
    "            sentiments[label] += 1\n",
    "        return sentiments\n",
    "\n",
    "    grouped_df = search_results.groupby(\"Branch\").apply(sentiment_counts).reset_index()\n",
    "    grouped_df.columns = [\"Branch\", \"Sentiments\"]\n",
    "    return grouped_df"
   ]
  },
  {
   "cell_type": "code",
   "execution_count": 50,
   "id": "d9521679",
   "metadata": {},
   "outputs": [
    {
     "data": {
      "text/html": [
       "<div>\n",
       "<style scoped>\n",
       "    .dataframe tbody tr th:only-of-type {\n",
       "        vertical-align: middle;\n",
       "    }\n",
       "\n",
       "    .dataframe tbody tr th {\n",
       "        vertical-align: top;\n",
       "    }\n",
       "\n",
       "    .dataframe thead th {\n",
       "        text-align: right;\n",
       "    }\n",
       "</style>\n",
       "<table border=\"1\" class=\"dataframe\">\n",
       "  <thead>\n",
       "    <tr style=\"text-align: right;\">\n",
       "      <th></th>\n",
       "      <th>Branch</th>\n",
       "      <th>Sentiments</th>\n",
       "    </tr>\n",
       "  </thead>\n",
       "  <tbody>\n",
       "    <tr>\n",
       "      <th>0</th>\n",
       "      <td>Disneyland_California</td>\n",
       "      <td>{'negative': 2, 'neutral': 0, 'positive': 7}</td>\n",
       "    </tr>\n",
       "    <tr>\n",
       "      <th>1</th>\n",
       "      <td>Disneyland_HongKong</td>\n",
       "      <td>{'negative': 2, 'neutral': 0, 'positive': 5}</td>\n",
       "    </tr>\n",
       "    <tr>\n",
       "      <th>2</th>\n",
       "      <td>Disneyland_Paris</td>\n",
       "      <td>{'negative': 4, 'neutral': 0, 'positive': 5}</td>\n",
       "    </tr>\n",
       "  </tbody>\n",
       "</table>\n",
       "</div>"
      ],
      "text/plain": [
       "                  Branch                                    Sentiments\n",
       "0  Disneyland_California  {'negative': 2, 'neutral': 0, 'positive': 7}\n",
       "1    Disneyland_HongKong  {'negative': 2, 'neutral': 0, 'positive': 5}\n",
       "2       Disneyland_Paris  {'negative': 4, 'neutral': 0, 'positive': 5}"
      ]
     },
     "execution_count": 50,
     "metadata": {},
     "output_type": "execute_result"
    }
   ],
   "source": [
    "sentiment_counts_by_branch(query1_results)"
   ]
  },
  {
   "cell_type": "markdown",
   "id": "122f99f5",
   "metadata": {},
   "source": [
    "### Visualize The Sentiment Of These Reviews\n",
    "\n",
    "To further improve the interpretability of the results let's define some functions for visualization."
   ]
  },
  {
   "cell_type": "code",
   "execution_count": 51,
   "id": "aea99cac",
   "metadata": {},
   "outputs": [],
   "source": [
    "def plot_sentiment(df: pd.DataFrame, search_term: str) -> None:\n",
    "    # Iterate through the branches and create separate DataFrames\n",
    "    all_sentiments_df = pd.DataFrame()\n",
    "    for _, row in df.iterrows():\n",
    "        # Create a DataFrame from the sentiment_counts dictionary\n",
    "        branch_sentiment_df = pd.DataFrame([row[\"Sentiments\"]])\n",
    "\n",
    "        # Add a \"Branch\" column to identify the branch\n",
    "        branch_sentiment_df[\"Branch\"] = row[\"Branch\"]\n",
    "\n",
    "        # Concatenate all DataFrames into one\n",
    "        all_sentiments_df = pd.concat(\n",
    "            [all_sentiments_df, branch_sentiment_df], ignore_index=True\n",
    "        )\n",
    "\n",
    "    # Create a bar plot of the review sentiments grouped by branch\n",
    "    fig = plt.figure(figsize=(10, 4))\n",
    "    plot_grouped_bar_chart(\n",
    "        all_sentiments_df.set_index(\"Branch\"), y_label=\"Number of Reviews\"\n",
    "    )\n",
    "    fig.axes[0].set_title(search_term)"
   ]
  },
  {
   "cell_type": "code",
   "execution_count": 52,
   "id": "4ee83675",
   "metadata": {},
   "outputs": [],
   "source": [
    "# Guest satisfaction with rides and attractions\n",
    "query2 = \"what did guests think of the rides and attractions?\""
   ]
  },
  {
   "cell_type": "code",
   "execution_count": 53,
   "id": "b91d5d23",
   "metadata": {},
   "outputs": [],
   "source": [
    "# find reviews based on this query\n",
    "query2_results = search_and_extract_results(\n",
    "    table, embedding_model, query2, n_results=50\n",
    ")"
   ]
  },
  {
   "cell_type": "code",
   "execution_count": 54,
   "id": "a23cf52c",
   "metadata": {},
   "outputs": [
    {
     "data": {
      "image/png": "[encoded data removed]",
      "text/plain": [
       "<Figure size 1000x400 with 1 Axes>"
      ]
     },
     "metadata": {},
     "output_type": "display_data"
    }
   ],
   "source": [
    "# visualize the sentiment of similar reviews\n",
    "plot_sentiment(sentiment_counts_by_branch(query2_results), query2)"
   ]
  },
  {
   "cell_type": "markdown",
   "id": "e4312c00",
   "metadata": {},
   "source": [
    "We can see the guests are extremely satisfied with the rides and attractions at all 3 branches with Disneyland California coming out on top with no negative reviews related to rides and attractions."
   ]
  },
  {
   "cell_type": "markdown",
   "id": "1899ecdc",
   "metadata": {},
   "source": [
    "### Automate This Sentiment Of Review process"
   ]
  },
  {
   "cell_type": "code",
   "execution_count": 55,
   "id": "55840339",
   "metadata": {},
   "outputs": [],
   "source": [
    "def review_sentiment_for_query(\n",
    "    table, embedding_model, query: str, n_results: int\n",
    ") -> None:\n",
    "    # find similar reviews\n",
    "    query_results = search_and_extract_results(\n",
    "        table, embedding_model, query, n_results=n_results\n",
    "    )\n",
    "\n",
    "    # top 3 most similar\n",
    "    print(query_results[:3][\"Review_Text\"])\n",
    "\n",
    "    # sentiment of similar reviews\n",
    "    plot_sentiment(sentiment_counts_by_branch(query_results), query)"
   ]
  },
  {
   "cell_type": "markdown",
   "id": "9340f683",
   "metadata": {},
   "source": [
    "##### Guest satisfaction with food"
   ]
  },
  {
   "cell_type": "code",
   "execution_count": 56,
   "id": "f903bce9",
   "metadata": {},
   "outputs": [],
   "source": [
    "query3 = \"are customers satisfied with the food at the park?\""
   ]
  },
  {
   "cell_type": "code",
   "execution_count": 57,
   "id": "e2ee0a25",
   "metadata": {},
   "outputs": [
    {
     "name": "stdout",
     "output_type": "stream",
     "text": [
      "0    Visited the Park today   20 4   and can conclude that they simply let too many people in. Already at opening, queues at the attractions where 1 hour plus. At midday   the so called fast track was ...\n",
      "1                                                                                             I wish they had better food restaurant choices, but the attractions make up for this deficit so it's all good.\n",
      "2    We found this park to provide family friendly fun with a variety of shows and rides. We pre paid our tickets to save time which was a benefit and were glad we paid extra for the park hopper ticket...\n",
      "Name: Review_Text, dtype: object\n"
     ]
    },
    {
     "data": {
      "image/png": "[encoded data removed]",
      "text/plain": [
       "<Figure size 1000x400 with 1 Axes>"
      ]
     },
     "metadata": {},
     "output_type": "display_data"
    }
   ],
   "source": [
    "review_sentiment_for_query(table, embedding_model, query3, n_results=50)"
   ]
  },
  {
   "cell_type": "markdown",
   "id": "f6bbbc64",
   "metadata": {},
   "source": [
    "Things don't fare as well when it comes to satisfaction on the food at each branch, we see a lot more negative food related reviews especially for Disneyland Paris."
   ]
  },
  {
   "cell_type": "markdown",
   "id": "8c4f1d47",
   "metadata": {},
   "source": [
    "##### Guest satisfaction with staff"
   ]
  },
  {
   "cell_type": "code",
   "execution_count": 58,
   "id": "5bc36aeb",
   "metadata": {},
   "outputs": [],
   "source": [
    "query4 = \"what did guests think of the staff?\""
   ]
  },
  {
   "cell_type": "code",
   "execution_count": 59,
   "id": "08d53143",
   "metadata": {},
   "outputs": [
    {
     "name": "stdout",
     "output_type": "stream",
     "text": [
      "0    This was very disappointing on this visit, three times in last four years. A number of the attraction s being closed and queues being very large for some of the rides. There appeared to be. A shor...\n",
      "1    First time at Disneyland Paris and had the most magical time. Loved that there were bigger rides for thrill seekers. Wait times not always accurate which was annoying as you lined up for a 20 minu...\n",
      "2    What a fantastic place, the queues were decent as this is the best time of year to go apparently, we managed to see almost everything, I was a bit disappointed the Haunted Mansion wasn   t open bu...\n",
      "Name: Review_Text, dtype: object\n"
     ]
    },
    {
     "data": {
      "image/png": "[encoded data removed]",
      "text/plain": [
       "<Figure size 1000x400 with 1 Axes>"
      ]
     },
     "metadata": {},
     "output_type": "display_data"
    }
   ],
   "source": [
    "review_sentiment_for_query(table, embedding_model, query4, n_results=50)"
   ]
  },
  {
   "cell_type": "markdown",
   "id": "ca5e2cbf",
   "metadata": {},
   "source": [
    "Similarly for satisfaction with the staff - the most amount of negative reviews are coming for Disneyland Paris with less for California and none for Hong Kong.\n",
    "\n",
    "Of course we took a subset of data - just 150 of the 42,000 reviews so to get more meaningful insights it would be a good idea to run the analysis on the full dataset."
   ]
  },
  {
   "cell_type": "markdown",
   "id": "8a5d5647",
   "metadata": {},
   "source": [
    "## 6. Delete the KDB.AI Table\n",
    "\n",
    "Once finished with the table, it is best practice to drop it."
   ]
  },
  {
   "cell_type": "code",
   "execution_count": 60,
   "id": "4d39b895",
   "metadata": {},
   "outputs": [
    {
     "data": {
      "text/plain": [
       "True"
      ]
     },
     "execution_count": 60,
     "metadata": {},
     "output_type": "execute_result"
    }
   ],
   "source": [
    "table.drop()"
   ]
  },
  {
   "cell_type": "markdown",
   "id": "e3c80cb4",
   "metadata": {},
   "source": [
    "## Take Our Survey\n",
    "\n",
    "We hope you found this sample helpful! Your feedback is important to us, and we would appreciate it if you could take a moment to fill out our brief survey. Your input helps us improve our content.\n",
    "\n",
    "[**Take the Survey**](https://delighted.com/t/LSHwNfQO)"
   ]
  }
 ],
 "metadata": {
  "kernelspec": {
   "display_name": "Python 3 (ipykernel)",
   "language": "python",
   "name": "python3"
  },
  "language_info": {
   "codemirror_mode": {
    "name": "ipython",
    "version": 3
   },
   "file_extension": ".py",
   "mimetype": "text/x-python",
   "name": "python",
   "nbconvert_exporter": "python",
   "pygments_lexer": "ipython3",
   "version": "3.10.12"
  }
 },
 "nbformat": 4,
 "nbformat_minor": 5
}
