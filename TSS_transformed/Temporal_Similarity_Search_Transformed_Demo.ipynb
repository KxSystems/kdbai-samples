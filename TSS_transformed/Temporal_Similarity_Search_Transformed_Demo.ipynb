{
 "cells": [
  {
   "cell_type": "markdown",
   "id": "58ae5b26-0b58-4416-a69d-f5662fce320d",
   "metadata": {},
   "source": [
    "# Transformed Temporal Similarity Search\n",
    "\n",
    "##### Note: This example requires a KDB.AI endpoint and API key. Sign up for a free [KDB.AI account](https://kdb.ai/get-started).\n",
    "\n",
    "Transformed Temporal Similarity Search is our patent-pending compression model designed to dimensionally reduce time series windows by more than 99%. With Transformed Temporal Similarity Search, KDB.AI can compress times series windows containing thousands of data points, into significantly smaller dimensions, all while maintaining the integrity of the original data’s shape. These compressed windows are then stored within KDB.AI as vector embeddings, setting up the ability to execute vector searches and enabling the efficient analysis of time series datasets.\n",
    "\n",
    "This notebook uses sample market data, creates an index using the Transformed Temporal Similiarity Search feature exposed by KDB.AI, and searches for a pattern of interest in the data.\n",
    "\n",
    "Agenda:\n",
    "1. Dependencies, Imports & Setup\n",
    "2. Define KDB.AI Session\n",
    "3. Generate Synthetic Market Time Series Data\n",
    "4. Method 1: Only Windowing\n",
    "5. Method 2: Transformed TSS\n",
    "6. Search Evaluation \n",
    "7. Drop the Table"
   ]
  },
  {
   "cell_type": "markdown",
   "id": "1c3db7ad",
   "metadata": {},
   "source": [
    "## 1. Dependencies, Imports & Setup\n",
    "\n",
    "In order to successfully run this sample, note the following steps depending on where you are running this notebook:\n",
    "\n",
    "-***Run Locally / Private Environment:*** The [Setup](https://github.com/KxSystems/kdbai-samples/blob/main/README.md#setup) steps in the repository's `README.md` will guide you on prerequisites and how to run this with Jupyter.\n",
    "\n",
    "\n",
    "-***Colab / Hosted Environment:*** Open this notebook in Colab and run through the cells."
   ]
  },
  {
   "cell_type": "code",
   "execution_count": null,
   "id": "b9144c71",
   "metadata": {},
   "outputs": [],
   "source": [
    "!pip install kdbai_client"
   ]
  },
  {
   "cell_type": "code",
   "execution_count": null,
   "id": "abb14487",
   "metadata": {},
   "outputs": [],
   "source": [
    "### !!! Only run this cell if you need to download the data into your environment, for example in Colab\n",
    "### This downloads sample market data\n",
    "!mkdir ./data \n",
    "!wget -P ./data https://raw.githubusercontent.com/KxSystems/kdbai-samples/main/TSS_transformed/data/marketTrades.parquet"
   ]
  },
  {
   "cell_type": "code",
   "execution_count": null,
   "id": "965197a7-91a2-4938-a4d6-3d86ba99c645",
   "metadata": {},
   "outputs": [],
   "source": [
    "# KX Dependencies\n",
    "import kdbai_client as kdbai\n",
    "# Other Dependencies\n",
    "import pandas as pd\n",
    "import numpy as np\n",
    "from numpy.lib.stride_tricks import sliding_window_view\n",
    "import matplotlib.pyplot as plt\n",
    "from tqdm import tqdm\n",
    "import os\n",
    "from getpass import getpass\n",
    "import time"
   ]
  },
  {
   "cell_type": "code",
   "execution_count": 24,
   "id": "9da1ed6b-e589-49ba-a87a-25a9aeed9633",
   "metadata": {},
   "outputs": [],
   "source": [
    "# Ignore Warnings\n",
    "import warnings\n",
    "warnings.filterwarnings(\"ignore\")"
   ]
  },
  {
   "cell_type": "code",
   "execution_count": 25,
   "id": "dd295f42-7c47-42a1-80ee-fbadf0b0324c",
   "metadata": {},
   "outputs": [],
   "source": [
    "# Dependencies for metric gathering\n",
    "import psutil\n",
    "import datetime\n",
    "\n",
    "# Report memory usage of Python + KDB.AI\n",
    "def get_memory_usage():\n",
    "    virtual_memory = psutil.virtual_memory()\n",
    "    return virtual_memory.used / (1024 ** 2)  # Memory usage in megabytes"
   ]
  },
  {
   "cell_type": "markdown",
   "id": "bb75cab3",
   "metadata": {},
   "source": [
    "## 2. Define KDB.AI Session\n",
    "KDB.AI comes in two offerings:\n",
    "\n",
    "KDB.AI Cloud - For experimenting with smaller generative AI projects with a vector database in our cloud.\n",
    "KDB.AI Server - For evaluating large scale generative AI applications on-premises or on your own cloud provider.\n",
    "Depending on which you use there will be different setup steps and connection details required.\n",
    "\n",
    "Option 1. KDB.AI Cloud\n",
    "To use KDB.AI Cloud, you will need two session details - a URL endpoint and an API key. To get these you can sign up for free here.\n",
    "\n",
    "You can connect to a KDB.AI Cloud session using kdbai.Session and passing the session URL endpoint and API key details from your KDB.AI Cloud portal.\n",
    "\n",
    "If the environment variables KDBAI_ENDPOINTS and KDBAI_API_KEY exist on your system containing your KDB.AI Cloud portal details, these variables will automatically be used to connect. If these do not exist, it will prompt you to enter your KDB.AI Cloud portal session URL endpoint and API key details."
   ]
  },
  {
   "cell_type": "markdown",
   "id": "a62e5ca7",
   "metadata": {},
   "source": [
    "### Option 1. KDB.AI Cloud"
   ]
  },
  {
   "cell_type": "code",
   "execution_count": null,
   "id": "31c00e5e",
   "metadata": {},
   "outputs": [],
   "source": [
    "#Set up KDB.AI endpoint and API key\n",
    "KDBAI_ENDPOINT = (\n",
    "    os.environ[\"KDBAI_ENDPOINT\"]\n",
    "    if \"KDBAI_ENDPOINT\" in os.environ\n",
    "    else input(\"KDB.AI endpoint: \")\n",
    ")\n",
    "KDBAI_API_KEY = (\n",
    "    os.environ[\"KDBAI_API_KEY\"]\n",
    "    if \"KDBAI_API_KEY\" in os.environ\n",
    "    else getpass(\"KDB.AI API key: \")\n",
    ")"
   ]
  },
  {
   "cell_type": "code",
   "execution_count": null,
   "id": "96256102",
   "metadata": {},
   "outputs": [],
   "source": [
    "### Start Session with KDB.AI Cloud\n",
    "session = kdbai.Session(api_key=KDBAI_API_KEY, endpoint=KDBAI_ENDPOINT)"
   ]
  },
  {
   "cell_type": "markdown",
   "id": "1561074b",
   "metadata": {},
   "source": [
    "### Option 2. KDB.AI Server\n",
    "To use KDB.AI Server, you will need download and run your own container. To do this, you will first need to sign up for free [here](https://code.kx.com/kdbai/gettingStarted/kdb-ai-server-setup.html).\n",
    "\n",
    "You will receive an email with the required license file and bearer token needed to download your instance. Follow instructions in the signup email to get your session up and running.\n",
    "\n",
    "Once the setup steps are complete you can then connect to your KDB.AI Server session using kdbai.Session and passing your local endpoint."
   ]
  },
  {
   "cell_type": "code",
   "execution_count": 26,
   "id": "0be1e284",
   "metadata": {},
   "outputs": [],
   "source": [
    "session = kdbai.Session()"
   ]
  },
  {
   "cell_type": "markdown",
   "id": "8117034d-d12e-40bf-84b7-e30b26ceb352",
   "metadata": {},
   "source": [
    "## 3. Load Synthetic Market Time Series Data\n",
    "We have pre-generated 50,000 data points for example stocks 'AAA' and 'BBB' in a parquet file called `marketTrades.parquet`. Let's load these to a dataframe where:\n",
    "\n",
    "- time: When the trade took place\n",
    "- sym: The symbol of the stock being traded\n",
    "- qty: The quantity of stock traded\n",
    "- price: The price of the stock being traded"
   ]
  },
  {
   "cell_type": "code",
   "execution_count": 27,
   "id": "af8e7d64-c1da-457f-b1d1-c1e1cd423948",
   "metadata": {},
   "outputs": [],
   "source": [
    "df = pd.read_parquet('data/marketTrades.parquet')"
   ]
  },
  {
   "cell_type": "markdown",
   "id": "250d7d3d-1e27-4b81-bf9b-c4e42cdd475b",
   "metadata": {},
   "source": [
    "## Method 1: Only Windowing\n",
    "This method is shown as a point of comparison for the Transformed TSS method\n",
    "\n",
    "### Vector Construction"
   ]
  },
  {
   "cell_type": "code",
   "execution_count": 28,
   "id": "47a9b401-f435-47d1-9401-5c2909145160",
   "metadata": {},
   "outputs": [],
   "source": [
    "# Create the vector column\n",
    "D = 1000 # Sliding Window Size\n",
    "vecdf = df.groupby(['sym']).apply(\n",
    "    lambda x: pd.DataFrame({\n",
    "        'sym': x['sym'].iloc[0],\n",
    "        'time': sliding_window_view(x['time'], D)[:, 0],  # Adjusted to keep the last time in the window\n",
    "        'price': list(sliding_window_view(x['price'], D))\n",
    "    })\n",
    ").reset_index(drop=True).reset_index()\n",
    "memory_vecdf_created=get_memory_usage()"
   ]
  },
  {
   "cell_type": "code",
   "execution_count": 29,
   "id": "9506b2ec-b128-4088-96aa-cb3afacde94f",
   "metadata": {},
   "outputs": [
    {
     "data": {
      "text/html": [
       "<div>\n",
       "<style scoped>\n",
       "    .dataframe tbody tr th:only-of-type {\n",
       "        vertical-align: middle;\n",
       "    }\n",
       "\n",
       "    .dataframe tbody tr th {\n",
       "        vertical-align: top;\n",
       "    }\n",
       "\n",
       "    .dataframe thead th {\n",
       "        text-align: right;\n",
       "    }\n",
       "</style>\n",
       "<table border=\"1\" class=\"dataframe\">\n",
       "  <thead>\n",
       "    <tr style=\"text-align: right;\">\n",
       "      <th></th>\n",
       "      <th>index</th>\n",
       "      <th>sym</th>\n",
       "      <th>time</th>\n",
       "      <th>price</th>\n",
       "    </tr>\n",
       "  </thead>\n",
       "  <tbody>\n",
       "    <tr>\n",
       "      <th>0</th>\n",
       "      <td>0</td>\n",
       "      <td>AAA</td>\n",
       "      <td>2024-02-17 00:01:04.748290926</td>\n",
       "      <td>[25.258074262645096, 25.328340356005356, 24.88...</td>\n",
       "    </tr>\n",
       "    <tr>\n",
       "      <th>1</th>\n",
       "      <td>1</td>\n",
       "      <td>AAA</td>\n",
       "      <td>2024-02-17 00:01:11.262136101</td>\n",
       "      <td>[25.328340356005356, 24.882380010094494, 25.18...</td>\n",
       "    </tr>\n",
       "    <tr>\n",
       "      <th>2</th>\n",
       "      <td>2</td>\n",
       "      <td>AAA</td>\n",
       "      <td>2024-02-17 00:02:02.104950249</td>\n",
       "      <td>[24.882380010094494, 25.189861855935305, 25.44...</td>\n",
       "    </tr>\n",
       "    <tr>\n",
       "      <th>3</th>\n",
       "      <td>3</td>\n",
       "      <td>AAA</td>\n",
       "      <td>2024-02-17 00:02:08.149878233</td>\n",
       "      <td>[25.189861855935305, 25.443228425458074, 25.25...</td>\n",
       "    </tr>\n",
       "    <tr>\n",
       "      <th>4</th>\n",
       "      <td>4</td>\n",
       "      <td>AAA</td>\n",
       "      <td>2024-02-17 00:02:35.474111437</td>\n",
       "      <td>[25.443228425458074, 25.251197177916765, 25.45...</td>\n",
       "    </tr>\n",
       "  </tbody>\n",
       "</table>\n",
       "</div>"
      ],
      "text/plain": [
       "   index  sym                          time  \\\n",
       "0      0  AAA 2024-02-17 00:01:04.748290926   \n",
       "1      1  AAA 2024-02-17 00:01:11.262136101   \n",
       "2      2  AAA 2024-02-17 00:02:02.104950249   \n",
       "3      3  AAA 2024-02-17 00:02:08.149878233   \n",
       "4      4  AAA 2024-02-17 00:02:35.474111437   \n",
       "\n",
       "                                               price  \n",
       "0  [25.258074262645096, 25.328340356005356, 24.88...  \n",
       "1  [25.328340356005356, 24.882380010094494, 25.18...  \n",
       "2  [24.882380010094494, 25.189861855935305, 25.44...  \n",
       "3  [25.189861855935305, 25.443228425458074, 25.25...  \n",
       "4  [25.443228425458074, 25.251197177916765, 25.45...  "
      ]
     },
     "execution_count": 29,
     "metadata": {},
     "output_type": "execute_result"
    }
   ],
   "source": [
    "vecdf.head()"
   ]
  },
  {
   "cell_type": "markdown",
   "id": "b8fb8e50-94c1-4c30-8fb4-ed8ae62eac5c",
   "metadata": {},
   "source": [
    "### Index Construction"
   ]
  },
  {
   "cell_type": "code",
   "execution_count": 30,
   "id": "196f4f6a-3b1f-47cb-9601-5b89b618b593",
   "metadata": {},
   "outputs": [],
   "source": [
    "# If we're re-running this, remove the old trade table\n",
    "if 'trade' in session.list():\n",
    "    table = session.table('trade')\n",
    "    table.drop()"
   ]
  },
  {
   "cell_type": "code",
   "execution_count": 31,
   "id": "447a9927-85bb-41b9-8a9c-6a2f60cc5b16",
   "metadata": {},
   "outputs": [],
   "source": [
    "# Define the schema with similar columns to the dataframe. The price column is where the time series vectors will be inserted \n",
    "# We are doing similarity search on the raw time series vectors created above\n",
    "schema = dict(\n",
    "    columns=[\n",
    "        dict(\n",
    "            name='index', \n",
    "            pytype='int64'\n",
    "            ),\n",
    "        dict(\n",
    "            name='sym', \n",
    "            pytype='str'\n",
    "            ),\n",
    "        dict(\n",
    "            name='time', \n",
    "            pytype='datetime64[ns]'\n",
    "            ),\n",
    "        dict(\n",
    "            name='price', \n",
    "            pytype='float64',\n",
    "            vectorIndex=\n",
    "                dict(\n",
    "                    type='flat', \n",
    "                    metric='L2',\n",
    "                    dims=1000\n",
    "                    )\n",
    "            )\n",
    "        ]\n",
    "    )"
   ]
  },
  {
   "cell_type": "code",
   "execution_count": 32,
   "id": "4c06af9e-b371-4982-8e2f-56c8a67d8c4f",
   "metadata": {},
   "outputs": [],
   "source": [
    "table = session.create_table('trade', schema)"
   ]
  },
  {
   "cell_type": "markdown",
   "id": "633944dd-0330-4bbb-bc40-670e1a02eea0",
   "metadata": {},
   "source": [
    "### Index Population\n",
    "Insert the data into KDB.AI"
   ]
  },
  {
   "cell_type": "code",
   "execution_count": 33,
   "id": "7591d64e-04e1-4d86-a526-ddc4bcb919ac",
   "metadata": {},
   "outputs": [
    {
     "name": "stderr",
     "output_type": "stream",
     "text": [
      "100%|███████████████████████████████████████████████████████████████████████████| 99/99 [02:00<00:00,  1.21s/it]\n"
     ]
    }
   ],
   "source": [
    "n = 1000  # number of rows per batch\n",
    "\n",
    "for i in tqdm(range(0, vecdf.shape[0], n)):\n",
    "    table.insert(vecdf[i:i+n].reset_index(drop=True))\n",
    "\n",
    "memory_raw_windows_in_table=get_memory_usage()"
   ]
  },
  {
   "cell_type": "markdown",
   "id": "cc3c6c56-6ce2-40ac-a6c2-4a0b9645abe6",
   "metadata": {},
   "source": [
    "### Search\n",
    "\n",
    "We take the hundredth vector and use that as our search vector"
   ]
  },
  {
   "cell_type": "code",
   "execution_count": 34,
   "id": "839acee3-0568-4ea9-8e13-8961c85a107a",
   "metadata": {},
   "outputs": [],
   "source": [
    "q = vecdf['price'][100].tolist()"
   ]
  },
  {
   "cell_type": "code",
   "execution_count": 35,
   "id": "b15409e6-81bf-4d2d-ab3b-0355b242eb21",
   "metadata": {},
   "outputs": [
    {
     "data": {
      "text/plain": [
       "Text(0.5, 1.0, 'Query Vector')"
      ]
     },
     "execution_count": 35,
     "metadata": {},
     "output_type": "execute_result"
    },
    {
     "data": {
      "image/png": "[encoded data removed]",
      "text/plain": [
       "<Figure size 640x480 with 1 Axes>"
      ]
     },
     "metadata": {},
     "output_type": "display_data"
    }
   ],
   "source": [
    "plt.plot(q) # See what the search vector looks like\n",
    "plt.grid(True)\n",
    "plt.title('Query Vector')"
   ]
  },
  {
   "cell_type": "code",
   "execution_count": 36,
   "id": "a183ca10-f801-4803-8245-5d45d5c420a9",
   "metadata": {},
   "outputs": [
    {
     "data": {
      "text/html": [
       "<div>\n",
       "<style scoped>\n",
       "    .dataframe tbody tr th:only-of-type {\n",
       "        vertical-align: middle;\n",
       "    }\n",
       "\n",
       "    .dataframe tbody tr th {\n",
       "        vertical-align: top;\n",
       "    }\n",
       "\n",
       "    .dataframe thead th {\n",
       "        text-align: right;\n",
       "    }\n",
       "</style>\n",
       "<table border=\"1\" class=\"dataframe\">\n",
       "  <thead>\n",
       "    <tr style=\"text-align: right;\">\n",
       "      <th></th>\n",
       "      <th>index</th>\n",
       "      <th>sym</th>\n",
       "      <th>time</th>\n",
       "      <th>price</th>\n",
       "      <th>__nn_distance</th>\n",
       "    </tr>\n",
       "  </thead>\n",
       "  <tbody>\n",
       "    <tr>\n",
       "      <th>0</th>\n",
       "      <td>100</td>\n",
       "      <td>AAA</td>\n",
       "      <td>2024-02-17 00:44:10.438550859</td>\n",
       "      <td>[28.628259375691414, 28.854478302178904, 28.84...</td>\n",
       "      <td>0.000000</td>\n",
       "    </tr>\n",
       "    <tr>\n",
       "      <th>1</th>\n",
       "      <td>99</td>\n",
       "      <td>AAA</td>\n",
       "      <td>2024-02-17 00:44:02.638653516</td>\n",
       "      <td>[28.81325367023237, 28.628259375691414, 28.854...</td>\n",
       "      <td>82.707275</td>\n",
       "    </tr>\n",
       "    <tr>\n",
       "      <th>2</th>\n",
       "      <td>101</td>\n",
       "      <td>AAA</td>\n",
       "      <td>2024-02-17 00:45:13.110510259</td>\n",
       "      <td>[28.854478302178904, 28.846883268328384, 29.33...</td>\n",
       "      <td>82.741821</td>\n",
       "    </tr>\n",
       "    <tr>\n",
       "      <th>3</th>\n",
       "      <td>98</td>\n",
       "      <td>AAA</td>\n",
       "      <td>2024-02-17 00:43:31.947510391</td>\n",
       "      <td>[28.602465968346223, 28.81325367023237, 28.628...</td>\n",
       "      <td>168.146683</td>\n",
       "    </tr>\n",
       "    <tr>\n",
       "      <th>4</th>\n",
       "      <td>102</td>\n",
       "      <td>AAA</td>\n",
       "      <td>2024-02-17 00:45:19.669315963</td>\n",
       "      <td>[28.846883268328384, 29.33366368082352, 29.034...</td>\n",
       "      <td>168.171356</td>\n",
       "    </tr>\n",
       "    <tr>\n",
       "      <th>5</th>\n",
       "      <td>97</td>\n",
       "      <td>AAA</td>\n",
       "      <td>2024-02-17 00:42:45.272446721</td>\n",
       "      <td>[28.55717873433605, 28.602465968346223, 28.813...</td>\n",
       "      <td>251.906540</td>\n",
       "    </tr>\n",
       "    <tr>\n",
       "      <th>6</th>\n",
       "      <td>103</td>\n",
       "      <td>AAA</td>\n",
       "      <td>2024-02-17 00:45:21.212457865</td>\n",
       "      <td>[29.33366368082352, 29.034837207291275, 29.214...</td>\n",
       "      <td>252.123642</td>\n",
       "    </tr>\n",
       "    <tr>\n",
       "      <th>7</th>\n",
       "      <td>104</td>\n",
       "      <td>AAA</td>\n",
       "      <td>2024-02-17 00:45:23.664466291</td>\n",
       "      <td>[29.034837207291275, 29.214529692661017, 29.19...</td>\n",
       "      <td>331.735596</td>\n",
       "    </tr>\n",
       "    <tr>\n",
       "      <th>8</th>\n",
       "      <td>96</td>\n",
       "      <td>AAA</td>\n",
       "      <td>2024-02-17 00:42:19.691716432</td>\n",
       "      <td>[28.135981646133587, 28.55717873433605, 28.602...</td>\n",
       "      <td>332.039398</td>\n",
       "    </tr>\n",
       "    <tr>\n",
       "      <th>9</th>\n",
       "      <td>105</td>\n",
       "      <td>AAA</td>\n",
       "      <td>2024-02-17 00:45:25.577250123</td>\n",
       "      <td>[29.214529692661017, 29.19519697735086, 28.861...</td>\n",
       "      <td>411.366882</td>\n",
       "    </tr>\n",
       "  </tbody>\n",
       "</table>\n",
       "</div>"
      ],
      "text/plain": [
       "   index  sym                          time  \\\n",
       "0    100  AAA 2024-02-17 00:44:10.438550859   \n",
       "1     99  AAA 2024-02-17 00:44:02.638653516   \n",
       "2    101  AAA 2024-02-17 00:45:13.110510259   \n",
       "3     98  AAA 2024-02-17 00:43:31.947510391   \n",
       "4    102  AAA 2024-02-17 00:45:19.669315963   \n",
       "5     97  AAA 2024-02-17 00:42:45.272446721   \n",
       "6    103  AAA 2024-02-17 00:45:21.212457865   \n",
       "7    104  AAA 2024-02-17 00:45:23.664466291   \n",
       "8     96  AAA 2024-02-17 00:42:19.691716432   \n",
       "9    105  AAA 2024-02-17 00:45:25.577250123   \n",
       "\n",
       "                                               price  __nn_distance  \n",
       "0  [28.628259375691414, 28.854478302178904, 28.84...       0.000000  \n",
       "1  [28.81325367023237, 28.628259375691414, 28.854...      82.707275  \n",
       "2  [28.854478302178904, 28.846883268328384, 29.33...      82.741821  \n",
       "3  [28.602465968346223, 28.81325367023237, 28.628...     168.146683  \n",
       "4  [28.846883268328384, 29.33366368082352, 29.034...     168.171356  \n",
       "5  [28.55717873433605, 28.602465968346223, 28.813...     251.906540  \n",
       "6  [29.33366368082352, 29.034837207291275, 29.214...     252.123642  \n",
       "7  [29.034837207291275, 29.214529692661017, 29.19...     331.735596  \n",
       "8  [28.135981646133587, 28.55717873433605, 28.602...     332.039398  \n",
       "9  [29.214529692661017, 29.19519697735086, 28.861...     411.366882  "
      ]
     },
     "execution_count": 36,
     "metadata": {},
     "output_type": "execute_result"
    }
   ],
   "source": [
    "raw_start=datetime.datetime.now()\n",
    "res = table.search(vectors=[q], n=10)[0]\n",
    "raw_stop=datetime.datetime.now()\n",
    "memory_raw_windows_post_search=get_memory_usage()\n",
    "res"
   ]
  },
  {
   "cell_type": "markdown",
   "id": "4e7c7fbf",
   "metadata": {},
   "source": [
    "As expected, our 100th vector, which is identical to the query vector 'q', was returned as the top result. We also see that the vectors surrounding the 100th vector are also returned, which is expected as they will also contain large segments similar to the query vector."
   ]
  },
  {
   "cell_type": "markdown",
   "id": "29a96972-2ea1-48e6-90fe-a46458146c24",
   "metadata": {},
   "source": [
    "## Method 2: Transformed Temporal Similarity Search\n",
    "Now, we will create a table to enable the embedding and compression of the original raw time series windows. This will reduce the size of the windows from 1000 data points to only 8. (>99% reduction), while maintaining the integrity of the original data's shape.\n",
    "\n",
    "The original windows can have various numbers of data points within them as long as they all have a similar time frame, for example each representing one minute of time. This makes searching over data that has different sample rates straightforward. \n",
    "\n",
    "Ensure that the windows being searched for, and the windows being searched over are for the same time frame. This means that if the windows compressed and stored using Transformed Temporal Similarity Search are 1 minute windows, the query vector must also have a time frame of 1 minute. \n"
   ]
  },
  {
   "cell_type": "markdown",
   "id": "e8b53f5a",
   "metadata": {},
   "source": [
    "### Index Construction"
   ]
  },
  {
   "cell_type": "code",
   "execution_count": 37,
   "id": "39d2f0fc-d4ee-4ae5-9232-5f77910cc8bb",
   "metadata": {},
   "outputs": [],
   "source": [
    "# If we're re-running this, remove the old trade table\n",
    "if 'trade' in session.list():\n",
    "    table = session.table('trade')\n",
    "    table.drop()"
   ]
  },
  {
   "cell_type": "code",
   "execution_count": 38,
   "id": "fc6d68d7-37d1-46b3-ba6b-1240189a7948",
   "metadata": {},
   "outputs": [],
   "source": [
    "# Define the schema with similar columns to the dataframe. The price column is where the time series vectors will be inserted \n",
    "# The price column will now have an embedding where 'tsc' is defined \n",
    "# 'tsc' represents Transformed Temporal Similarity Search\n",
    "# Now inserted 1000 dimension data will be compressed with 'tsc' to 8 dimensions and stored in KDB.AI\n",
    "schema = dict(\n",
    "    columns=[\n",
    "        dict(\n",
    "            name='index', \n",
    "            pytype='int64'\n",
    "            ),\n",
    "        dict(\n",
    "            name='sym', \n",
    "            pytype='str'\n",
    "            ),\n",
    "        dict(\n",
    "            name='time', \n",
    "            pytype='datetime64[ns]'\n",
    "            ),\n",
    "        dict(\n",
    "            name='price', \n",
    "            pytype='float64',\n",
    "            vectorIndex=\n",
    "                dict(\n",
    "                    type='flat', \n",
    "                    metric='L2',\n",
    "                    ),\n",
    "            embedding=\n",
    "                dict(\n",
    "                    dims=8, \n",
    "                    type='tsc', \n",
    "                    on_insert_error='reject_all',\n",
    "                    )\n",
    "            )\n",
    "        ]\n",
    "    )"
   ]
  },
  {
   "cell_type": "code",
   "execution_count": 39,
   "id": "831b403e-ec8c-4698-a69d-0055cccf5bd0",
   "metadata": {},
   "outputs": [],
   "source": [
    "table = session.create_table('trade', schema)\n",
    "memory_tsc_pre_populate=get_memory_usage()"
   ]
  },
  {
   "cell_type": "markdown",
   "id": "53f0907d-1309-430d-9065-0e7d644a4da7",
   "metadata": {},
   "source": [
    "### Index Population\n",
    "Insert the data into KDB.AI"
   ]
  },
  {
   "cell_type": "code",
   "execution_count": 40,
   "id": "7d55b79c-b663-4825-ad40-bd8e987d4671",
   "metadata": {},
   "outputs": [
    {
     "name": "stderr",
     "output_type": "stream",
     "text": [
      "100%|███████████████████████████████████████████████████████████████████████████| 99/99 [01:49<00:00,  1.11s/it]\n"
     ]
    }
   ],
   "source": [
    "n = 1000  # number of rows per batch\n",
    "\n",
    "for i in tqdm(range(0, vecdf.shape[0], n)):\n",
    "    table.insert(vecdf[i:i+n].reset_index(drop=True))\n",
    "    \n",
    "memory_tsc_post_populate=get_memory_usage()"
   ]
  },
  {
   "cell_type": "markdown",
   "id": "78dc5c55-af3f-4428-bc29-26585ea64554",
   "metadata": {},
   "source": [
    "### Search\n",
    "\n",
    "Run similarity search using our query vector q (the 100th vector in our dataset), and returning the top 10 most similar matches.\n"
   ]
  },
  {
   "cell_type": "code",
   "execution_count": 41,
   "id": "3b325aa2-218d-4d7e-95f5-c67e209cef66",
   "metadata": {},
   "outputs": [
    {
     "data": {
      "text/html": [
       "<div>\n",
       "<style scoped>\n",
       "    .dataframe tbody tr th:only-of-type {\n",
       "        vertical-align: middle;\n",
       "    }\n",
       "\n",
       "    .dataframe tbody tr th {\n",
       "        vertical-align: top;\n",
       "    }\n",
       "\n",
       "    .dataframe thead th {\n",
       "        text-align: right;\n",
       "    }\n",
       "</style>\n",
       "<table border=\"1\" class=\"dataframe\">\n",
       "  <thead>\n",
       "    <tr style=\"text-align: right;\">\n",
       "      <th></th>\n",
       "      <th>index</th>\n",
       "      <th>sym</th>\n",
       "      <th>time</th>\n",
       "      <th>__nn_distance</th>\n",
       "      <th>price</th>\n",
       "    </tr>\n",
       "  </thead>\n",
       "  <tbody>\n",
       "    <tr>\n",
       "      <th>0</th>\n",
       "      <td>100</td>\n",
       "      <td>AAA</td>\n",
       "      <td>2024-02-17 00:44:10.438550859</td>\n",
       "      <td>0.000000</td>\n",
       "      <td>[28.628259375691414, 28.854478302178904, 28.84...</td>\n",
       "    </tr>\n",
       "    <tr>\n",
       "      <th>1</th>\n",
       "      <td>100</td>\n",
       "      <td>AAA</td>\n",
       "      <td>2024-02-17 00:44:10.438550859</td>\n",
       "      <td>0.000000</td>\n",
       "      <td>[28.628259375691414, 28.854478302178904, 28.84...</td>\n",
       "    </tr>\n",
       "    <tr>\n",
       "      <th>2</th>\n",
       "      <td>101</td>\n",
       "      <td>AAA</td>\n",
       "      <td>2024-02-17 00:45:13.110510259</td>\n",
       "      <td>0.000228</td>\n",
       "      <td>[28.854478302178904, 28.846883268328384, 29.33...</td>\n",
       "    </tr>\n",
       "    <tr>\n",
       "      <th>3</th>\n",
       "      <td>101</td>\n",
       "      <td>AAA</td>\n",
       "      <td>2024-02-17 00:45:13.110510259</td>\n",
       "      <td>0.000228</td>\n",
       "      <td>[28.854478302178904, 28.846883268328384, 29.33...</td>\n",
       "    </tr>\n",
       "    <tr>\n",
       "      <th>4</th>\n",
       "      <td>99</td>\n",
       "      <td>AAA</td>\n",
       "      <td>2024-02-17 00:44:02.638653516</td>\n",
       "      <td>0.000228</td>\n",
       "      <td>[28.81325367023237, 28.628259375691414, 28.854...</td>\n",
       "    </tr>\n",
       "    <tr>\n",
       "      <th>5</th>\n",
       "      <td>99</td>\n",
       "      <td>AAA</td>\n",
       "      <td>2024-02-17 00:44:02.638653516</td>\n",
       "      <td>0.000228</td>\n",
       "      <td>[28.81325367023237, 28.628259375691414, 28.854...</td>\n",
       "    </tr>\n",
       "    <tr>\n",
       "      <th>6</th>\n",
       "      <td>98</td>\n",
       "      <td>AAA</td>\n",
       "      <td>2024-02-17 00:43:31.947510391</td>\n",
       "      <td>0.000909</td>\n",
       "      <td>[28.602465968346223, 28.81325367023237, 28.628...</td>\n",
       "    </tr>\n",
       "    <tr>\n",
       "      <th>7</th>\n",
       "      <td>98</td>\n",
       "      <td>AAA</td>\n",
       "      <td>2024-02-17 00:43:31.947510391</td>\n",
       "      <td>0.000909</td>\n",
       "      <td>[28.602465968346223, 28.81325367023237, 28.628...</td>\n",
       "    </tr>\n",
       "    <tr>\n",
       "      <th>8</th>\n",
       "      <td>102</td>\n",
       "      <td>AAA</td>\n",
       "      <td>2024-02-17 00:45:19.669315963</td>\n",
       "      <td>0.000916</td>\n",
       "      <td>[28.846883268328384, 29.33366368082352, 29.034...</td>\n",
       "    </tr>\n",
       "    <tr>\n",
       "      <th>9</th>\n",
       "      <td>102</td>\n",
       "      <td>AAA</td>\n",
       "      <td>2024-02-17 00:45:19.669315963</td>\n",
       "      <td>0.000916</td>\n",
       "      <td>[28.846883268328384, 29.33366368082352, 29.034...</td>\n",
       "    </tr>\n",
       "  </tbody>\n",
       "</table>\n",
       "</div>"
      ],
      "text/plain": [
       "   index  sym                          time  __nn_distance  \\\n",
       "0    100  AAA 2024-02-17 00:44:10.438550859       0.000000   \n",
       "1    100  AAA 2024-02-17 00:44:10.438550859       0.000000   \n",
       "2    101  AAA 2024-02-17 00:45:13.110510259       0.000228   \n",
       "3    101  AAA 2024-02-17 00:45:13.110510259       0.000228   \n",
       "4     99  AAA 2024-02-17 00:44:02.638653516       0.000228   \n",
       "5     99  AAA 2024-02-17 00:44:02.638653516       0.000228   \n",
       "6     98  AAA 2024-02-17 00:43:31.947510391       0.000909   \n",
       "7     98  AAA 2024-02-17 00:43:31.947510391       0.000909   \n",
       "8    102  AAA 2024-02-17 00:45:19.669315963       0.000916   \n",
       "9    102  AAA 2024-02-17 00:45:19.669315963       0.000916   \n",
       "\n",
       "                                               price  \n",
       "0  [28.628259375691414, 28.854478302178904, 28.84...  \n",
       "1  [28.628259375691414, 28.854478302178904, 28.84...  \n",
       "2  [28.854478302178904, 28.846883268328384, 29.33...  \n",
       "3  [28.854478302178904, 28.846883268328384, 29.33...  \n",
       "4  [28.81325367023237, 28.628259375691414, 28.854...  \n",
       "5  [28.81325367023237, 28.628259375691414, 28.854...  \n",
       "6  [28.602465968346223, 28.81325367023237, 28.628...  \n",
       "7  [28.602465968346223, 28.81325367023237, 28.628...  \n",
       "8  [28.846883268328384, 29.33366368082352, 29.034...  \n",
       "9  [28.846883268328384, 29.33366368082352, 29.034...  "
      ]
     },
     "execution_count": 41,
     "metadata": {},
     "output_type": "execute_result"
    }
   ],
   "source": [
    "tsc_start=datetime.datetime.now()\n",
    "res = table.search(vectors=[q], n=10)[0]\n",
    "tsc_stop=datetime.datetime.now()\n",
    "memory_tsc_windows_post_search=get_memory_usage()\n",
    "res.merge(vecdf, on=['index','sym','time'], how='left')"
   ]
  },
  {
   "cell_type": "markdown",
   "id": "5603d8c7-4599-4de1-af54-5328e826f7f5",
   "metadata": {},
   "source": [
    "**N.B.** We observe the returned indexes lay either side of the index of our query vector. This passes our sanity check as the vectors offset by a few indexes is simply the query pattern shifted slightly left and right. If we want to have more meaningful results we can either increase the number of nearest neighbors returned, or in our sliding window creation we can have windows that aren't largely overlapping. "
   ]
  },
  {
   "cell_type": "markdown",
   "id": "0367fab7-5171-475f-9dca-7b607618dbba",
   "metadata": {},
   "source": [
    "We can clearly see the high correlation between the query vector and the non-trivial nearest neighbors"
   ]
  },
  {
   "cell_type": "markdown",
   "id": "1a51f5e9-9560-4d85-878a-3c590a1edf8a",
   "metadata": {},
   "source": [
    "## 6. Search Evaluation\n",
    "\n",
    "We see that our memory usage increases drastically when we insert raw vectors into KDB.AI. Under the TSC method there is less memory required and faster response times. The improvement of this correlates to the level of dimensionality reduction that's taking place, or $\\frac{D}{dims}$$$"
   ]
  },
  {
   "cell_type": "markdown",
   "id": "b58afee4-ebcc-4ac3-82bd-9d4263989a37",
   "metadata": {},
   "source": [
    "### Memory Usage "
   ]
  },
  {
   "cell_type": "code",
   "execution_count": 42,
   "id": "b4a24f6b-16da-459d-897f-cdcab40f6370",
   "metadata": {},
   "outputs": [
    {
     "name": "stdout",
     "output_type": "stream",
     "text": [
      "Raw  (MB): 1204.43\n",
      "TSC  (MB):  106.38\n",
      "DIFF (MB): 1098.04\n"
     ]
    }
   ],
   "source": [
    "raw_used=memory_raw_windows_post_search-memory_vecdf_created\n",
    "tsc_used=memory_tsc_windows_post_search-memory_tsc_pre_populate\n",
    "print(f\"Raw  (MB): {raw_used:.2f}\")\n",
    "print(f\"TSC  (MB):  {tsc_used:.2f}\")\n",
    "print(f\"DIFF (MB): {raw_used-tsc_used:.2f}\")"
   ]
  },
  {
   "cell_type": "markdown",
   "id": "f061588d-13ea-4ac7-8093-cd11f907c78b",
   "metadata": {},
   "source": [
    "### Search Timings"
   ]
  },
  {
   "cell_type": "code",
   "execution_count": 43,
   "id": "ca643dd1",
   "metadata": {},
   "outputs": [],
   "source": [
    "### Function to calculate how long a similarity search takes\n",
    "def datetime_difference(datetime1, datetime2):\n",
    "    # Calculate the difference between the two datetime objects\n",
    "    difference = datetime2 - datetime1\n",
    "\n",
    "    # Calculate total seconds and milliseconds from the difference\n",
    "    total_seconds = difference.total_seconds()\n",
    "    hours = int(total_seconds // 3600)\n",
    "    minutes = int((total_seconds % 3600) // 60)\n",
    "    seconds = int(total_seconds % 60)\n",
    "    milliseconds = int((total_seconds - int(total_seconds)) * 1000)\n",
    "\n",
    "    # Print the difference in hours, minutes, seconds, and milliseconds\n",
    "    return f\"Hours: {hours}, Minutes: {minutes}, Seconds: {seconds}, Milliseconds: {milliseconds}\""
   ]
  },
  {
   "cell_type": "code",
   "execution_count": 44,
   "id": "c3937f07",
   "metadata": {},
   "outputs": [
    {
     "name": "stdout",
     "output_type": "stream",
     "text": [
      "Raw: Hours: 0, Minutes: 0, Seconds: 0, Milliseconds: 152\n",
      "Transformed TSS: Hours: 0, Minutes: 0, Seconds: 0, Milliseconds: 14\n"
     ]
    }
   ],
   "source": [
    "print('Raw: ' + datetime_difference(raw_start, raw_stop))\n",
    "print('Transformed TSS: ' + datetime_difference(tsc_start,tsc_stop))"
   ]
  },
  {
   "cell_type": "markdown",
   "id": "4d1abaac",
   "metadata": {},
   "source": [
    "### 7. Delete the KDB.AI Table\n",
    "Once finished with the table, it is best practice to drop it."
   ]
  },
  {
   "cell_type": "code",
   "execution_count": null,
   "id": "cd3c4827-64c0-4f14-b407-91b4713e181e",
   "metadata": {},
   "outputs": [],
   "source": [
    "table.drop()"
   ]
  },
  {
   "cell_type": "markdown",
   "id": "a83b09da",
   "metadata": {},
   "source": [
    "#### Take Our Survey\n",
    "We hope you found this sample helpful! Your feedback is important to us, and we would appreciate it if you could take a moment to fill out our brief survey. Your input helps us improve our content.\n",
    "\n",
    "Take the [Survey](https://delighted.com/t/2ENY3DoD)\n"
   ]
  }
 ],
 "metadata": {
  "kernelspec": {
   "display_name": "Python 3 (ipykernel)",
   "language": "python",
   "name": "python3"
  },
  "language_info": {
   "codemirror_mode": {
    "name": "ipython",
    "version": 3
   },
   "file_extension": ".py",
   "mimetype": "text/x-python",
   "name": "python",
   "nbconvert_exporter": "python",
   "pygments_lexer": "ipython3",
   "version": "3.9.2"
  }
 },
 "nbformat": 4,
 "nbformat_minor": 5
}
