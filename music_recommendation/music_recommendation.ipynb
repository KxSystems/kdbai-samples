{
 "cells": [
  {
   "cell_type": "markdown",
   "id": "1c9731fb",
   "metadata": {},
   "source": [
    "# Music Recommendation on Spotify Data\n",
    "\n",
    "This example demonstrates how you can use KDB.AI to perform similarity recommendations using vector embeddings created from both categorical and numeric music data.\n",
    "\n",
    "Applications like Spotify and YouTube Music perform hundreds of millions of song recommendations for users every single day. They do this by extracting a vast array of features about every given song and artist and comparing their characteristics.\n",
    "By leveraging this sort of data, KDB.AI can be used to productionize a music recommendation system and help to quickly and efficiently find music similar to given input songs.\n",
    "\n",
    "### Aim\n",
    "\n",
    "In this tutorial, we'll break down how you might perform similarity search on music, taking some Spotify data as an example and using KDB.AI as the vector database to store and query this data.\n",
    "This breaks down as follows:\n",
    "\n",
    "1. Load Song Data\n",
    "1. Create Song Vector Embeddings\n",
    "1. Store Embeddings In KDB.AI\n",
    "1. Search For Similar Songs To A Target Song\n",
    "1. Delete the KDB.AI Table\n",
    "\n",
    "---"
   ]
  },
  {
   "cell_type": "markdown",
   "id": "5a3605c7",
   "metadata": {},
   "source": [
    "## 0. Setup"
   ]
  },
  {
   "cell_type": "markdown",
   "id": "37f9672c",
   "metadata": {},
   "source": [
    "### Import Packages"
   ]
  },
  {
   "cell_type": "markdown",
   "id": "115f7122",
   "metadata": {},
   "source": [
    "We will start by importing all of the Python packages needed to run this music recommendation system example.\n",
    "This includes packages for reading in the data, embedding it as vectors, and interacting with the vector database."
   ]
  },
  {
   "cell_type": "code",
   "execution_count": 1,
   "id": "2d851ae9",
   "metadata": {},
   "outputs": [],
   "source": [
    "import pandas as pd\n",
    "import numpy as np"
   ]
  },
  {
   "cell_type": "code",
   "execution_count": 2,
   "id": "b91bc28a",
   "metadata": {},
   "outputs": [],
   "source": [
    "# embedding categorical data\n",
    "from nltk.tokenize import word_tokenize\n",
    "from gensim.models import Word2Vec"
   ]
  },
  {
   "cell_type": "code",
   "execution_count": 4,
   "id": "a1bf575c",
   "metadata": {},
   "outputs": [],
   "source": [
    "# timing\n",
    "from tqdm.auto import tqdm"
   ]
  },
  {
   "cell_type": "code",
   "execution_count": 3,
   "id": "afa4c3cd",
   "metadata": {},
   "outputs": [],
   "source": [
    "# vector DB\n",
    "import os\n",
    "import kdbai_client as kdbai\n",
    "from getpass import getpass\n",
    "import time"
   ]
  },
  {
   "cell_type": "markdown",
   "id": "95be3259",
   "metadata": {},
   "source": [
    "### Configure Console"
   ]
  },
  {
   "cell_type": "markdown",
   "id": "ec282385",
   "metadata": {},
   "source": [
    "In order to fully view our embeddings when it comes to displaying the results, we must increase the maximum allowed column width in Pandas DataFrames from the default value."
   ]
  },
  {
   "cell_type": "code",
   "execution_count": 5,
   "id": "b4f29527",
   "metadata": {},
   "outputs": [],
   "source": [
    "pd.set_option(\"max_colwidth\", 1000)"
   ]
  },
  {
   "cell_type": "markdown",
   "id": "4edaa685",
   "metadata": {},
   "source": [
    "This removes a warning that appears when performing in-place column assignment."
   ]
  },
  {
   "cell_type": "code",
   "execution_count": 6,
   "id": "d28588d9",
   "metadata": {},
   "outputs": [],
   "source": [
    "pd.options.mode.chained_assignment = None"
   ]
  },
  {
   "cell_type": "markdown",
   "id": "fc36e465",
   "metadata": {},
   "source": [
    "### Define Helper Functions\n",
    "\n",
    "Defining these two helper functions will allow us to easily show the shape and head of any Pandas DataFrames or embedding arrays passed."
   ]
  },
  {
   "cell_type": "code",
   "execution_count": 7,
   "id": "bf07de0a",
   "metadata": {},
   "outputs": [],
   "source": [
    "def show_df(df: pd.DataFrame) -> pd.DataFrame:\n",
    "    print(df.shape)\n",
    "    return df.head()"
   ]
  },
  {
   "cell_type": "code",
   "execution_count": 8,
   "id": "082ccef4",
   "metadata": {},
   "outputs": [],
   "source": [
    "def show_embeddings(embeddings: np.array) -> list[int]:\n",
    "    print(\"Num Embeddings:\", len(embeddings))\n",
    "    print(\"Embedding Size:\", len(embeddings[0]))\n",
    "    return list(embeddings[0])"
   ]
  },
  {
   "cell_type": "markdown",
   "id": "3f889dd7",
   "metadata": {},
   "source": [
    "## 1. Load Song Data"
   ]
  },
  {
   "cell_type": "markdown",
   "id": "24da7ed7",
   "metadata": {},
   "source": [
    "The song data we will read in will be taken from an [open-source Spotify dataset](https://www.kaggle.com/datasets/vatsalmavani/spotify-dataset) on Kaggle. There are 5 files on Kaggle, however, only one file is relevant to this analysis.\n",
    "This dataset contains a list of metadata on 170,000 songs from 1921 to 2020. This metadata includes:\n",
    "- Song Name\n",
    "- Artist Name\n",
    "- Song Year\n",
    "- Various features about the song's music, including:\n",
    "    * acousticness\n",
    "    * danceability\n",
    "    * duration_ms\n",
    "    * energy\n",
    "    * explicit\n",
    "    * instrumentalness\n",
    "    * key\n",
    "    * liveness\n",
    "    * loudness\n",
    "    * mode\n",
    "    * popularity\n",
    "    * release_date\n",
    "    * speechiness\n",
    "    * tempo\n",
    "    * valence"
   ]
  },
  {
   "cell_type": "markdown",
   "id": "19c148de",
   "metadata": {},
   "source": [
    "### Read In The Spotify Data From The CSV"
   ]
  },
  {
   "cell_type": "markdown",
   "id": "ecc57e87",
   "metadata": {},
   "source": [
    "We can read this song data from a CSV into a Pandas DataFrame and show the resulting table."
   ]
  },
  {
   "cell_type": "code",
   "execution_count": 9,
   "id": "1e138b0a",
   "metadata": {},
   "outputs": [],
   "source": [
    "raw_song_df = pd.read_csv(\"data/song_data.csv\")"
   ]
  },
  {
   "cell_type": "code",
   "execution_count": 10,
   "id": "70881392",
   "metadata": {},
   "outputs": [
    {
     "name": "stdout",
     "output_type": "stream",
     "text": [
      "(170653, 19)\n"
     ]
    },
    {
     "data": {
      "text/html": [
       "<div>\n",
       "<style scoped>\n",
       "    .dataframe tbody tr th:only-of-type {\n",
       "        vertical-align: middle;\n",
       "    }\n",
       "\n",
       "    .dataframe tbody tr th {\n",
       "        vertical-align: top;\n",
       "    }\n",
       "\n",
       "    .dataframe thead th {\n",
       "        text-align: right;\n",
       "    }\n",
       "</style>\n",
       "<table border=\"1\" class=\"dataframe\">\n",
       "  <thead>\n",
       "    <tr style=\"text-align: right;\">\n",
       "      <th></th>\n",
       "      <th>id</th>\n",
       "      <th>name</th>\n",
       "      <th>artists</th>\n",
       "      <th>acousticness</th>\n",
       "      <th>danceability</th>\n",
       "      <th>duration_ms</th>\n",
       "      <th>energy</th>\n",
       "      <th>explicit</th>\n",
       "      <th>instrumentalness</th>\n",
       "      <th>key</th>\n",
       "      <th>liveness</th>\n",
       "      <th>loudness</th>\n",
       "      <th>mode</th>\n",
       "      <th>popularity</th>\n",
       "      <th>release_date</th>\n",
       "      <th>speechiness</th>\n",
       "      <th>tempo</th>\n",
       "      <th>valence</th>\n",
       "      <th>year</th>\n",
       "    </tr>\n",
       "  </thead>\n",
       "  <tbody>\n",
       "    <tr>\n",
       "      <th>0</th>\n",
       "      <td>4BJqT0PrAfrxzMOxytFOIz</td>\n",
       "      <td>Piano Concerto No. 3 in D Minor, Op. 30: III. Finale. Alla breve</td>\n",
       "      <td>['Sergei Rachmaninoff', 'James Levine', 'Berliner Philharmoniker']</td>\n",
       "      <td>0.982</td>\n",
       "      <td>0.279</td>\n",
       "      <td>831667</td>\n",
       "      <td>0.211</td>\n",
       "      <td>0</td>\n",
       "      <td>0.878000</td>\n",
       "      <td>10</td>\n",
       "      <td>0.665</td>\n",
       "      <td>-20.096</td>\n",
       "      <td>1</td>\n",
       "      <td>4</td>\n",
       "      <td>1921</td>\n",
       "      <td>0.0366</td>\n",
       "      <td>80.954</td>\n",
       "      <td>0.0594</td>\n",
       "      <td>1921</td>\n",
       "    </tr>\n",
       "    <tr>\n",
       "      <th>1</th>\n",
       "      <td>7xPhfUan2yNtyFG0cUWkt8</td>\n",
       "      <td>Clancy Lowered the Boom</td>\n",
       "      <td>['Dennis Day']</td>\n",
       "      <td>0.732</td>\n",
       "      <td>0.819</td>\n",
       "      <td>180533</td>\n",
       "      <td>0.341</td>\n",
       "      <td>0</td>\n",
       "      <td>0.000000</td>\n",
       "      <td>7</td>\n",
       "      <td>0.160</td>\n",
       "      <td>-12.441</td>\n",
       "      <td>1</td>\n",
       "      <td>5</td>\n",
       "      <td>1921</td>\n",
       "      <td>0.4150</td>\n",
       "      <td>60.936</td>\n",
       "      <td>0.9630</td>\n",
       "      <td>1921</td>\n",
       "    </tr>\n",
       "    <tr>\n",
       "      <th>2</th>\n",
       "      <td>1o6I8BglA6ylDMrIELygv1</td>\n",
       "      <td>Gati Bali</td>\n",
       "      <td>['KHP Kridhamardawa Karaton Ngayogyakarta Hadiningrat']</td>\n",
       "      <td>0.961</td>\n",
       "      <td>0.328</td>\n",
       "      <td>500062</td>\n",
       "      <td>0.166</td>\n",
       "      <td>0</td>\n",
       "      <td>0.913000</td>\n",
       "      <td>3</td>\n",
       "      <td>0.101</td>\n",
       "      <td>-14.850</td>\n",
       "      <td>1</td>\n",
       "      <td>5</td>\n",
       "      <td>1921</td>\n",
       "      <td>0.0339</td>\n",
       "      <td>110.339</td>\n",
       "      <td>0.0394</td>\n",
       "      <td>1921</td>\n",
       "    </tr>\n",
       "    <tr>\n",
       "      <th>3</th>\n",
       "      <td>3ftBPsC5vPBKxYSee08FDH</td>\n",
       "      <td>Danny Boy</td>\n",
       "      <td>['Frank Parker']</td>\n",
       "      <td>0.967</td>\n",
       "      <td>0.275</td>\n",
       "      <td>210000</td>\n",
       "      <td>0.309</td>\n",
       "      <td>0</td>\n",
       "      <td>0.000028</td>\n",
       "      <td>5</td>\n",
       "      <td>0.381</td>\n",
       "      <td>-9.316</td>\n",
       "      <td>1</td>\n",
       "      <td>3</td>\n",
       "      <td>1921</td>\n",
       "      <td>0.0354</td>\n",
       "      <td>100.109</td>\n",
       "      <td>0.1650</td>\n",
       "      <td>1921</td>\n",
       "    </tr>\n",
       "    <tr>\n",
       "      <th>4</th>\n",
       "      <td>4d6HGyGT8e121BsdKmw9v6</td>\n",
       "      <td>When Irish Eyes Are Smiling</td>\n",
       "      <td>['Phil Regan']</td>\n",
       "      <td>0.957</td>\n",
       "      <td>0.418</td>\n",
       "      <td>166693</td>\n",
       "      <td>0.193</td>\n",
       "      <td>0</td>\n",
       "      <td>0.000002</td>\n",
       "      <td>3</td>\n",
       "      <td>0.229</td>\n",
       "      <td>-10.096</td>\n",
       "      <td>1</td>\n",
       "      <td>2</td>\n",
       "      <td>1921</td>\n",
       "      <td>0.0380</td>\n",
       "      <td>101.665</td>\n",
       "      <td>0.2530</td>\n",
       "      <td>1921</td>\n",
       "    </tr>\n",
       "  </tbody>\n",
       "</table>\n",
       "</div>"
      ],
      "text/plain": [
       "                       id  \\\n",
       "0  4BJqT0PrAfrxzMOxytFOIz   \n",
       "1  7xPhfUan2yNtyFG0cUWkt8   \n",
       "2  1o6I8BglA6ylDMrIELygv1   \n",
       "3  3ftBPsC5vPBKxYSee08FDH   \n",
       "4  4d6HGyGT8e121BsdKmw9v6   \n",
       "\n",
       "                                                               name  \\\n",
       "0  Piano Concerto No. 3 in D Minor, Op. 30: III. Finale. Alla breve   \n",
       "1                                           Clancy Lowered the Boom   \n",
       "2                                                         Gati Bali   \n",
       "3                                                         Danny Boy   \n",
       "4                                       When Irish Eyes Are Smiling   \n",
       "\n",
       "                                                              artists  \\\n",
       "0  ['Sergei Rachmaninoff', 'James Levine', 'Berliner Philharmoniker']   \n",
       "1                                                      ['Dennis Day']   \n",
       "2             ['KHP Kridhamardawa Karaton Ngayogyakarta Hadiningrat']   \n",
       "3                                                    ['Frank Parker']   \n",
       "4                                                      ['Phil Regan']   \n",
       "\n",
       "   acousticness  danceability  duration_ms  energy  explicit  \\\n",
       "0         0.982         0.279       831667   0.211         0   \n",
       "1         0.732         0.819       180533   0.341         0   \n",
       "2         0.961         0.328       500062   0.166         0   \n",
       "3         0.967         0.275       210000   0.309         0   \n",
       "4         0.957         0.418       166693   0.193         0   \n",
       "\n",
       "   instrumentalness  key  liveness  loudness  mode  popularity release_date  \\\n",
       "0          0.878000   10     0.665   -20.096     1           4         1921   \n",
       "1          0.000000    7     0.160   -12.441     1           5         1921   \n",
       "2          0.913000    3     0.101   -14.850     1           5         1921   \n",
       "3          0.000028    5     0.381    -9.316     1           3         1921   \n",
       "4          0.000002    3     0.229   -10.096     1           2         1921   \n",
       "\n",
       "   speechiness    tempo  valence  year  \n",
       "0       0.0366   80.954   0.0594  1921  \n",
       "1       0.4150   60.936   0.9630  1921  \n",
       "2       0.0339  110.339   0.0394  1921  \n",
       "3       0.0354  100.109   0.1650  1921  \n",
       "4       0.0380  101.665   0.2530  1921  "
      ]
     },
     "execution_count": 10,
     "metadata": {},
     "output_type": "execute_result"
    }
   ],
   "source": [
    "show_df(raw_song_df)"
   ]
  },
  {
   "cell_type": "markdown",
   "id": "a918f77d",
   "metadata": {},
   "source": [
    "### Pre-process The Data"
   ]
  },
  {
   "cell_type": "markdown",
   "id": "9b71c3a9",
   "metadata": {},
   "source": [
    "Here we will perform a few operations on this Pandas DataFrame to get it into the correct format for creating the vector embeddings for our vector database.\n",
    "This will include:\n",
    "- Adding a column prefix\n",
    "- Removing excess columns\n",
    "- Fixing column values\n",
    "- Combining columns into one\n",
    "- Removing duplicate rows\n",
    "\n",
    "Once these pre-processing steps have been carried out, our data will be clean and in the correct format to start creating embeddings."
   ]
  },
  {
   "cell_type": "code",
   "execution_count": 11,
   "id": "44b59370",
   "metadata": {},
   "outputs": [],
   "source": [
    "# add \"song_\" prefix to col names\n",
    "song_df = raw_song_df.add_prefix(\"song_\")"
   ]
  },
  {
   "cell_type": "code",
   "execution_count": 12,
   "id": "781e33be",
   "metadata": {},
   "outputs": [],
   "source": [
    "# drop unused cols\n",
    "song_df = song_df.drop(columns=[\"song_id\", \"song_release_date\"])"
   ]
  },
  {
   "cell_type": "code",
   "execution_count": 13,
   "id": "d01ceb35",
   "metadata": {},
   "outputs": [],
   "source": [
    "# fix artists list names - remove quotes\n",
    "def fix_artists(str_list):\n",
    "    return \", \".join([v for v in str_list.rstrip(\"']\").lstrip(\"['\").split(\"', '\")])\n",
    "\n",
    "\n",
    "song_df[\"song_artists\"] = song_df[\"song_artists\"].apply(fix_artists)"
   ]
  },
  {
   "cell_type": "code",
   "execution_count": 14,
   "id": "6049043d",
   "metadata": {},
   "outputs": [],
   "source": [
    "# combine song_name & song_artists into song_description\n",
    "song_df.insert(\n",
    "    0, \"song_description\", song_df[\"song_name\"] + \" - \" + song_df[\"song_artists\"]\n",
    ")"
   ]
  },
  {
   "cell_type": "code",
   "execution_count": 15,
   "id": "4b9867c7",
   "metadata": {},
   "outputs": [],
   "source": [
    "# remove duplicate rows\n",
    "song_data = song_df[\n",
    "    ~song_df.duplicated(subset=[\"song_description\"], keep=\"first\")\n",
    "].reset_index(drop=True)"
   ]
  },
  {
   "cell_type": "code",
   "execution_count": 16,
   "id": "0f3b35c5",
   "metadata": {},
   "outputs": [
    {
     "name": "stdout",
     "output_type": "stream",
     "text": [
      "(170653, 18)\n"
     ]
    },
    {
     "data": {
      "text/html": [
       "<div>\n",
       "<style scoped>\n",
       "    .dataframe tbody tr th:only-of-type {\n",
       "        vertical-align: middle;\n",
       "    }\n",
       "\n",
       "    .dataframe tbody tr th {\n",
       "        vertical-align: top;\n",
       "    }\n",
       "\n",
       "    .dataframe thead th {\n",
       "        text-align: right;\n",
       "    }\n",
       "</style>\n",
       "<table border=\"1\" class=\"dataframe\">\n",
       "  <thead>\n",
       "    <tr style=\"text-align: right;\">\n",
       "      <th></th>\n",
       "      <th>song_description</th>\n",
       "      <th>song_name</th>\n",
       "      <th>song_artists</th>\n",
       "      <th>song_acousticness</th>\n",
       "      <th>song_danceability</th>\n",
       "      <th>song_duration_ms</th>\n",
       "      <th>song_energy</th>\n",
       "      <th>song_explicit</th>\n",
       "      <th>song_instrumentalness</th>\n",
       "      <th>song_key</th>\n",
       "      <th>song_liveness</th>\n",
       "      <th>song_loudness</th>\n",
       "      <th>song_mode</th>\n",
       "      <th>song_popularity</th>\n",
       "      <th>song_speechiness</th>\n",
       "      <th>song_tempo</th>\n",
       "      <th>song_valence</th>\n",
       "      <th>song_year</th>\n",
       "    </tr>\n",
       "  </thead>\n",
       "  <tbody>\n",
       "    <tr>\n",
       "      <th>0</th>\n",
       "      <td>Piano Concerto No. 3 in D Minor, Op. 30: III. Finale. Alla breve - Sergei Rachmaninoff, James Levine, Berliner Philharmoniker</td>\n",
       "      <td>Piano Concerto No. 3 in D Minor, Op. 30: III. Finale. Alla breve</td>\n",
       "      <td>Sergei Rachmaninoff, James Levine, Berliner Philharmoniker</td>\n",
       "      <td>0.982</td>\n",
       "      <td>0.279</td>\n",
       "      <td>831667</td>\n",
       "      <td>0.211</td>\n",
       "      <td>0</td>\n",
       "      <td>0.878000</td>\n",
       "      <td>10</td>\n",
       "      <td>0.665</td>\n",
       "      <td>-20.096</td>\n",
       "      <td>1</td>\n",
       "      <td>4</td>\n",
       "      <td>0.0366</td>\n",
       "      <td>80.954</td>\n",
       "      <td>0.0594</td>\n",
       "      <td>1921</td>\n",
       "    </tr>\n",
       "    <tr>\n",
       "      <th>1</th>\n",
       "      <td>Clancy Lowered the Boom - Dennis Day</td>\n",
       "      <td>Clancy Lowered the Boom</td>\n",
       "      <td>Dennis Day</td>\n",
       "      <td>0.732</td>\n",
       "      <td>0.819</td>\n",
       "      <td>180533</td>\n",
       "      <td>0.341</td>\n",
       "      <td>0</td>\n",
       "      <td>0.000000</td>\n",
       "      <td>7</td>\n",
       "      <td>0.160</td>\n",
       "      <td>-12.441</td>\n",
       "      <td>1</td>\n",
       "      <td>5</td>\n",
       "      <td>0.4150</td>\n",
       "      <td>60.936</td>\n",
       "      <td>0.9630</td>\n",
       "      <td>1921</td>\n",
       "    </tr>\n",
       "    <tr>\n",
       "      <th>2</th>\n",
       "      <td>Gati Bali - KHP Kridhamardawa Karaton Ngayogyakarta Hadiningrat</td>\n",
       "      <td>Gati Bali</td>\n",
       "      <td>KHP Kridhamardawa Karaton Ngayogyakarta Hadiningrat</td>\n",
       "      <td>0.961</td>\n",
       "      <td>0.328</td>\n",
       "      <td>500062</td>\n",
       "      <td>0.166</td>\n",
       "      <td>0</td>\n",
       "      <td>0.913000</td>\n",
       "      <td>3</td>\n",
       "      <td>0.101</td>\n",
       "      <td>-14.850</td>\n",
       "      <td>1</td>\n",
       "      <td>5</td>\n",
       "      <td>0.0339</td>\n",
       "      <td>110.339</td>\n",
       "      <td>0.0394</td>\n",
       "      <td>1921</td>\n",
       "    </tr>\n",
       "    <tr>\n",
       "      <th>3</th>\n",
       "      <td>Danny Boy - Frank Parker</td>\n",
       "      <td>Danny Boy</td>\n",
       "      <td>Frank Parker</td>\n",
       "      <td>0.967</td>\n",
       "      <td>0.275</td>\n",
       "      <td>210000</td>\n",
       "      <td>0.309</td>\n",
       "      <td>0</td>\n",
       "      <td>0.000028</td>\n",
       "      <td>5</td>\n",
       "      <td>0.381</td>\n",
       "      <td>-9.316</td>\n",
       "      <td>1</td>\n",
       "      <td>3</td>\n",
       "      <td>0.0354</td>\n",
       "      <td>100.109</td>\n",
       "      <td>0.1650</td>\n",
       "      <td>1921</td>\n",
       "    </tr>\n",
       "    <tr>\n",
       "      <th>4</th>\n",
       "      <td>When Irish Eyes Are Smiling - Phil Regan</td>\n",
       "      <td>When Irish Eyes Are Smiling</td>\n",
       "      <td>Phil Regan</td>\n",
       "      <td>0.957</td>\n",
       "      <td>0.418</td>\n",
       "      <td>166693</td>\n",
       "      <td>0.193</td>\n",
       "      <td>0</td>\n",
       "      <td>0.000002</td>\n",
       "      <td>3</td>\n",
       "      <td>0.229</td>\n",
       "      <td>-10.096</td>\n",
       "      <td>1</td>\n",
       "      <td>2</td>\n",
       "      <td>0.0380</td>\n",
       "      <td>101.665</td>\n",
       "      <td>0.2530</td>\n",
       "      <td>1921</td>\n",
       "    </tr>\n",
       "  </tbody>\n",
       "</table>\n",
       "</div>"
      ],
      "text/plain": [
       "                                                                                                                song_description  \\\n",
       "0  Piano Concerto No. 3 in D Minor, Op. 30: III. Finale. Alla breve - Sergei Rachmaninoff, James Levine, Berliner Philharmoniker   \n",
       "1                                                                                           Clancy Lowered the Boom - Dennis Day   \n",
       "2                                                                Gati Bali - KHP Kridhamardawa Karaton Ngayogyakarta Hadiningrat   \n",
       "3                                                                                                       Danny Boy - Frank Parker   \n",
       "4                                                                                       When Irish Eyes Are Smiling - Phil Regan   \n",
       "\n",
       "                                                          song_name  \\\n",
       "0  Piano Concerto No. 3 in D Minor, Op. 30: III. Finale. Alla breve   \n",
       "1                                           Clancy Lowered the Boom   \n",
       "2                                                         Gati Bali   \n",
       "3                                                         Danny Boy   \n",
       "4                                       When Irish Eyes Are Smiling   \n",
       "\n",
       "                                                 song_artists  \\\n",
       "0  Sergei Rachmaninoff, James Levine, Berliner Philharmoniker   \n",
       "1                                                  Dennis Day   \n",
       "2         KHP Kridhamardawa Karaton Ngayogyakarta Hadiningrat   \n",
       "3                                                Frank Parker   \n",
       "4                                                  Phil Regan   \n",
       "\n",
       "   song_acousticness  song_danceability  song_duration_ms  song_energy  \\\n",
       "0              0.982              0.279            831667        0.211   \n",
       "1              0.732              0.819            180533        0.341   \n",
       "2              0.961              0.328            500062        0.166   \n",
       "3              0.967              0.275            210000        0.309   \n",
       "4              0.957              0.418            166693        0.193   \n",
       "\n",
       "   song_explicit  song_instrumentalness  song_key  song_liveness  \\\n",
       "0              0               0.878000        10          0.665   \n",
       "1              0               0.000000         7          0.160   \n",
       "2              0               0.913000         3          0.101   \n",
       "3              0               0.000028         5          0.381   \n",
       "4              0               0.000002         3          0.229   \n",
       "\n",
       "   song_loudness  song_mode  song_popularity  song_speechiness  song_tempo  \\\n",
       "0        -20.096          1                4            0.0366      80.954   \n",
       "1        -12.441          1                5            0.4150      60.936   \n",
       "2        -14.850          1                5            0.0339     110.339   \n",
       "3         -9.316          1                3            0.0354     100.109   \n",
       "4        -10.096          1                2            0.0380     101.665   \n",
       "\n",
       "   song_valence  song_year  \n",
       "0        0.0594       1921  \n",
       "1        0.9630       1921  \n",
       "2        0.0394       1921  \n",
       "3        0.1650       1921  \n",
       "4        0.2530       1921  "
      ]
     },
     "execution_count": 16,
     "metadata": {},
     "output_type": "execute_result"
    }
   ],
   "source": [
    "show_df(song_df)"
   ]
  },
  {
   "cell_type": "markdown",
   "id": "92d0819e",
   "metadata": {},
   "source": [
    "## 2. Create Song Vector Embeddings"
   ]
  },
  {
   "cell_type": "markdown",
   "id": "76775144",
   "metadata": {},
   "source": [
    "We will create vector embeddings from this data in three steps:\n",
    "\n",
    "- A. Encoding the categorical `song_description` column as numeric values\n",
    "- B. Scaling the numeric column values\n",
    "- C. Joining these two sets of encodings together into one vector embedding"
   ]
  },
  {
   "cell_type": "markdown",
   "id": "7edae729",
   "metadata": {},
   "source": [
    "### A. Embed Categorical Song Metadata"
   ]
  },
  {
   "cell_type": "markdown",
   "id": "28410994",
   "metadata": {},
   "source": [
    "To embed the `song_description` column as numeric vectors, we must perform natural language processing on them.\n",
    "This involves tokenising the descriptions to break them up into their individual sub-parts and then using a `Word2Vec` model to turn these tokenised song descriptions into vectors.\n",
    "\n",
    "The length of the vectors we turn these desciptions into is configurable, however, in this case we chose to set this to `15` as there are also 15 numeric columns which describe the song. We do not want to bias the final embedding vectors in favour of either the categorical columns or the numeric columns, so it made sense to keep the number of values representing each the same for both.\n",
    "\n",
    "<div class=\"alert alert-block alert-warning\">\n",
    "    <b>Note: </b>\n",
    "    Before running the following line of code, please ensure that you have installed the English sentence tokenizer as stated in the `README.md` file in this repository.\n",
    "</div>"
   ]
  },
  {
   "cell_type": "code",
   "execution_count": 17,
   "id": "4c640b59",
   "metadata": {},
   "outputs": [],
   "source": [
    "# tokenize the descriptions\n",
    "tokenised_song_descs = [word_tokenize(v.lower()) for v in song_data[\"song_description\"]]"
   ]
  },
  {
   "cell_type": "code",
   "execution_count": 18,
   "id": "df2bc20b",
   "metadata": {},
   "outputs": [],
   "source": [
    "# create embedding model\n",
    "embedding_dim = 15\n",
    "\n",
    "word2Vec_model = Word2Vec(\n",
    "    sentences=tokenised_song_descs,\n",
    "    vector_size=embedding_dim,\n",
    "    window=5,\n",
    "    min_count=1,\n",
    "    sg=1,\n",
    ")"
   ]
  },
  {
   "cell_type": "code",
   "execution_count": 19,
   "id": "bedcbe34",
   "metadata": {},
   "outputs": [],
   "source": [
    "# function to create embedding vector from tokens\n",
    "def get_embedding(song_desc_tokens, model, embedding_dim):\n",
    "    vectors = [model.wv[token] for token in song_desc_tokens if token in model.wv]\n",
    "\n",
    "    # Average of word vectors OR zeros if no valid tokens found\n",
    "    return sum(vectors) / len(vectors) if vectors else [0] * embedding_dim"
   ]
  },
  {
   "cell_type": "code",
   "execution_count": 20,
   "id": "e20683ba",
   "metadata": {},
   "outputs": [],
   "source": [
    "# embed song descriptions as vectors\n",
    "categorical_embeddings = [\n",
    "    get_embedding(song_desc_tokens, word2Vec_model, embedding_dim)\n",
    "    for song_desc_tokens in tokenised_song_descs\n",
    "]"
   ]
  },
  {
   "cell_type": "code",
   "execution_count": 21,
   "id": "980bb2e3",
   "metadata": {},
   "outputs": [
    {
     "name": "stdout",
     "output_type": "stream",
     "text": [
      "Num Embeddings: 157685\n",
      "Embedding Size: 15\n"
     ]
    },
    {
     "data": {
      "text/plain": [
       "[-1.4697373,\n",
       " 1.6093767,\n",
       " 1.3470358,\n",
       " -0.17075126,\n",
       " 0.22816595,\n",
       " -0.2620371,\n",
       " -1.4705019,\n",
       " -0.023817305,\n",
       " -0.42897013,\n",
       " 1.1646105,\n",
       " 0.7519666,\n",
       " 0.15207957,\n",
       " 0.5491761,\n",
       " -0.3958861,\n",
       " -0.8389748]"
      ]
     },
     "execution_count": 21,
     "metadata": {},
     "output_type": "execute_result"
    }
   ],
   "source": [
    "show_embeddings(categorical_embeddings)"
   ]
  },
  {
   "cell_type": "markdown",
   "id": "6b222f5a",
   "metadata": {},
   "source": [
    "### B. Embed Numeric Song Metadata"
   ]
  },
  {
   "cell_type": "markdown",
   "id": "03623844",
   "metadata": {},
   "source": [
    "There are 15 numeric columns in our data which we will use to make up the other half of our final embedding vectors.\n",
    "First, however, we will scale these values to make them more uniform.\n",
    "\n",
    "The standard scaled score of a sample `x` is calculated as:\n",
    "\n",
    "$$\n",
    "    z = \\frac{(x - u)}{s}\n",
    "$$\n",
    "\n",
    "where `u` is the mean of the training samples and `s` is the standard deviation of the training samples."
   ]
  },
  {
   "cell_type": "code",
   "execution_count": 22,
   "id": "e8614aa0",
   "metadata": {},
   "outputs": [
    {
     "data": {
      "text/plain": [
       "['song_acousticness',\n",
       " 'song_danceability',\n",
       " 'song_duration_ms',\n",
       " 'song_energy',\n",
       " 'song_explicit',\n",
       " 'song_instrumentalness',\n",
       " 'song_key',\n",
       " 'song_liveness',\n",
       " 'song_loudness',\n",
       " 'song_mode',\n",
       " 'song_popularity',\n",
       " 'song_speechiness',\n",
       " 'song_tempo',\n",
       " 'song_valence',\n",
       " 'song_year']"
      ]
     },
     "execution_count": 22,
     "metadata": {},
     "output_type": "execute_result"
    }
   ],
   "source": [
    "# extract numeric columns\n",
    "numeric_cols = list(\n",
    "    song_data.drop(columns=[\"song_name\", \"song_artists\", \"song_description\"]).columns\n",
    ")\n",
    "numeric_cols"
   ]
  },
  {
   "cell_type": "code",
   "execution_count": 23,
   "id": "918e76d7",
   "metadata": {},
   "outputs": [],
   "source": [
    "# scale these columns\n",
    "scaled_numeric_cols = [\n",
    "    (song_data[col] - song_data[col].mean()) / np.std(song_data[col])\n",
    "    for col in numeric_cols\n",
    "]"
   ]
  },
  {
   "cell_type": "code",
   "execution_count": 24,
   "id": "2bb9a127",
   "metadata": {},
   "outputs": [],
   "source": [
    "# transpose the array to get row embeddings\n",
    "numeric_embeddings = list(map(list, zip(*scaled_numeric_cols)))"
   ]
  },
  {
   "cell_type": "code",
   "execution_count": 25,
   "id": "7ab28edb",
   "metadata": {},
   "outputs": [
    {
     "name": "stdout",
     "output_type": "stream",
     "text": [
      "Num Embeddings: 157685\n",
      "Embedding Size: 15\n"
     ]
    },
    {
     "data": {
      "text/plain": [
       "[1.2703070294949268,\n",
       " -1.4612590488848611,\n",
       " 4.752569009266431,\n",
       " -1.007676175100147,\n",
       " -0.30920114813582733,\n",
       " 2.262496351076133,\n",
       " 1.3649563314120978,\n",
       " 2.611001210495346,\n",
       " -1.507817607982146,\n",
       " 0.6453499264345925,\n",
       " -1.2499471942270766,\n",
       " -0.38364744367671405,\n",
       " -1.1655450558051323,\n",
       " -1.7786347004763179,\n",
       " -2.142666230649063]"
      ]
     },
     "execution_count": 25,
     "metadata": {},
     "output_type": "execute_result"
    }
   ],
   "source": [
    "show_embeddings(numeric_embeddings)"
   ]
  },
  {
   "cell_type": "markdown",
   "id": "1ccebdaf",
   "metadata": {},
   "source": [
    "### C. Merge Categorical & Numeric Embeddings"
   ]
  },
  {
   "cell_type": "markdown",
   "id": "1ec7954d",
   "metadata": {},
   "source": [
    "This leaves us with two sets of vectors: one representing the categorical column and one representing the numeric columns.\n",
    "Both sets have 15 values each, so when we join these together, the resulting vector will have 30 values."
   ]
  },
  {
   "cell_type": "code",
   "execution_count": 26,
   "id": "6c5849e6",
   "metadata": {},
   "outputs": [],
   "source": [
    "row_embeddings = [\n",
    "    np.concatenate([cat_row, num_row])\n",
    "    for cat_row, num_row in zip(categorical_embeddings, numeric_embeddings)\n",
    "]"
   ]
  },
  {
   "cell_type": "code",
   "execution_count": 27,
   "id": "d5150a08",
   "metadata": {},
   "outputs": [
    {
     "name": "stdout",
     "output_type": "stream",
     "text": [
      "Num Embeddings: 157685\n",
      "Embedding Size: 30\n"
     ]
    },
    {
     "data": {
      "text/plain": [
       "[-1.4697372913360596,\n",
       " 1.6093766689300537,\n",
       " 1.3470357656478882,\n",
       " -0.17075125873088837,\n",
       " 0.22816595435142517,\n",
       " -0.26203709840774536,\n",
       " -1.4705018997192383,\n",
       " -0.023817304521799088,\n",
       " -0.4289701282978058,\n",
       " 1.164610505104065,\n",
       " 0.7519665956497192,\n",
       " 0.15207956731319427,\n",
       " 0.5491760969161987,\n",
       " -0.395886093378067,\n",
       " -0.8389747738838196,\n",
       " 1.2703070294949268,\n",
       " -1.4612590488848611,\n",
       " 4.752569009266431,\n",
       " -1.007676175100147,\n",
       " -0.30920114813582733,\n",
       " 2.262496351076133,\n",
       " 1.3649563314120978,\n",
       " 2.611001210495346,\n",
       " -1.507817607982146,\n",
       " 0.6453499264345925,\n",
       " -1.2499471942270766,\n",
       " -0.38364744367671405,\n",
       " -1.1655450558051323,\n",
       " -1.7786347004763179,\n",
       " -2.142666230649063]"
      ]
     },
     "execution_count": 27,
     "metadata": {},
     "output_type": "execute_result"
    }
   ],
   "source": [
    "show_embeddings(row_embeddings)"
   ]
  },
  {
   "cell_type": "markdown",
   "id": "f1d97c52",
   "metadata": {},
   "source": [
    "### Create DataFrame With Embeddings"
   ]
  },
  {
   "cell_type": "markdown",
   "id": "ae9205b8",
   "metadata": {},
   "source": [
    "We can take these defined embeddings and create a Pandas DataFrame containing them.\n",
    "This will be the table we insert into our vector database.\n",
    "\n",
    "To enable proper filtering of the data once inserted into the KDB.AI vector database, we will pair these embedding vectors with three song description columns: `song_name`, `song_artists`, and `song_year`."
   ]
  },
  {
   "cell_type": "code",
   "execution_count": 28,
   "id": "40e00e5f",
   "metadata": {},
   "outputs": [],
   "source": [
    "embedded_song_df = song_data[[\"song_name\", \"song_artists\", \"song_year\"]]"
   ]
  },
  {
   "cell_type": "code",
   "execution_count": 29,
   "id": "5af8b92f",
   "metadata": {},
   "outputs": [],
   "source": [
    "embedded_song_df[\"song_embeddings\"] = row_embeddings"
   ]
  },
  {
   "cell_type": "code",
   "execution_count": 30,
   "id": "a5430d33",
   "metadata": {},
   "outputs": [
    {
     "name": "stdout",
     "output_type": "stream",
     "text": [
      "(157685, 4)\n"
     ]
    },
    {
     "data": {
      "text/html": [
       "<div>\n",
       "<style scoped>\n",
       "    .dataframe tbody tr th:only-of-type {\n",
       "        vertical-align: middle;\n",
       "    }\n",
       "\n",
       "    .dataframe tbody tr th {\n",
       "        vertical-align: top;\n",
       "    }\n",
       "\n",
       "    .dataframe thead th {\n",
       "        text-align: right;\n",
       "    }\n",
       "</style>\n",
       "<table border=\"1\" class=\"dataframe\">\n",
       "  <thead>\n",
       "    <tr style=\"text-align: right;\">\n",
       "      <th></th>\n",
       "      <th>song_name</th>\n",
       "      <th>song_artists</th>\n",
       "      <th>song_year</th>\n",
       "      <th>song_embeddings</th>\n",
       "    </tr>\n",
       "  </thead>\n",
       "  <tbody>\n",
       "    <tr>\n",
       "      <th>0</th>\n",
       "      <td>Piano Concerto No. 3 in D Minor, Op. 30: III. Finale. Alla breve</td>\n",
       "      <td>Sergei Rachmaninoff, James Levine, Berliner Philharmoniker</td>\n",
       "      <td>1921</td>\n",
       "      <td>[-1.4697372913360596, 1.6093766689300537, 1.3470357656478882, -0.17075125873088837, 0.22816595435142517, -0.26203709840774536, -1.4705018997192383, -0.023817304521799088, -0.4289701282978058, 1.164610505104065, 0.7519665956497192, 0.15207956731319427, 0.5491760969161987, -0.395886093378067, -0.8389747738838196, 1.2703070294949268, -1.4612590488848611, 4.752569009266431, -1.007676175100147, -0.30920114813582733, 2.262496351076133, 1.3649563314120978, 2.611001210495346, -1.507817607982146, 0.6453499264345925, -1.2499471942270766, -0.38364744367671405, -1.1655450558051323, -1.7786347004763179, -2.142666230649063]</td>\n",
       "    </tr>\n",
       "    <tr>\n",
       "      <th>1</th>\n",
       "      <td>Clancy Lowered the Boom</td>\n",
       "      <td>Dennis Day</td>\n",
       "      <td>1921</td>\n",
       "      <td>[-0.36899667978286743, 0.8569161295890808, 1.2207238674163818, 0.1085016131401062, 0.6271806359291077, 0.7028512954711914, -0.8539139032363892, 0.035000015050172806, -0.28415733575820923, 0.05096964165568352, 0.7450030446052551, 0.5746769309043884, 0.7175619006156921, -0.2206762284040451, 0.23307159543037415, 0.6055353575765623, 1.6000085277004752, -0.3958314054754826, -0.5219481676317392, -0.30920114813582733, -0.534994460237875, 0.5117210944218658, -0.2664040085915135, -0.16462578355006488, 0.6453499264345925, -1.2044048830282414, 1.8727935481311937, -1.8164526201211952, 1.654185186662974, -2.142666230649063]</td>\n",
       "    </tr>\n",
       "    <tr>\n",
       "      <th>2</th>\n",
       "      <td>Gati Bali</td>\n",
       "      <td>KHP Kridhamardawa Karaton Ngayogyakarta Hadiningrat</td>\n",
       "      <td>1921</td>\n",
       "      <td>[-0.5444679260253906, 0.5075699687004089, 0.04936423897743225, 0.20145872235298157, 0.9237421154975891, 0.27432358264923096, 0.20172667503356934, 0.08243125677108765, -0.3870060443878174, 0.07849937677383423, 0.7237778306007385, -0.012244322337210178, 0.18659956753253937, 0.5280500054359436, -1.1278307437896729, 1.214466209053784, -1.1834773613798955, 2.130627412712585, -1.1758127930699804, -0.30920114813582733, 2.3740136385430923, -0.6259258882317768, -0.6025761034947307, -0.5873232499193506, 0.6453499264345925, -1.2044048830282414, -0.39974784187407486, -0.21005905433507951, -1.854615663007068, -2.142666230649063]</td>\n",
       "    </tr>\n",
       "    <tr>\n",
       "      <th>3</th>\n",
       "      <td>Danny Boy</td>\n",
       "      <td>Frank Parker</td>\n",
       "      <td>1921</td>\n",
       "      <td>[-0.39720410108566284, 1.1563446521759033, 1.569617509841919, 0.1184227466583252, 0.3758953809738159, 0.6490341424942017, -1.0218818187713623, 0.11120273917913437, -0.36480364203453064, 0.28904595971107483, 0.9119070172309875, 0.5089620351791382, 1.1516392230987549, -0.19770382344722748, 0.3800709545612335, 1.230420729179825, -1.4839351050077156, -0.1628410916211915, -0.641511984854732, -0.30920114813582733, -0.5349062022703654, -0.057102396904955506, 0.9928168892663002, 0.38370530088497806, 0.6453499264345925, -1.295489505425912, -0.3908031762088744, -0.5426988976237861, -1.377455218313957, -2.142666230649063]</td>\n",
       "    </tr>\n",
       "    <tr>\n",
       "      <th>4</th>\n",
       "      <td>When Irish Eyes Are Smiling</td>\n",
       "      <td>Phil Regan</td>\n",
       "      <td>1921</td>\n",
       "      <td>[-0.26264292001724243, 0.8120734095573425, 0.90312260389328, 0.13470879197120667, 0.8935577869415283, 0.6051231622695923, -1.26597261428833, 0.3834632635116577, -0.1906394511461258, -0.06401898711919785, 1.3381379842758179, 0.31093665957450867, 0.8109012842178345, -0.344455748796463, 0.09799161553382874, 1.2038298623030903, -0.6732660986156729, -0.5052618172494464, -1.0749308222880805, -0.30920114813582733, -0.5349891074080766, -0.6259258882317768, 0.12674640748174057, 0.24684186220999144, 0.6453499264345925, -1.341031816624747, -0.3752990890558602, -0.49210382468564035, -1.0431389831786564, -2.142666230649063]</td>\n",
       "    </tr>\n",
       "  </tbody>\n",
       "</table>\n",
       "</div>"
      ],
      "text/plain": [
       "                                                          song_name  \\\n",
       "0  Piano Concerto No. 3 in D Minor, Op. 30: III. Finale. Alla breve   \n",
       "1                                           Clancy Lowered the Boom   \n",
       "2                                                         Gati Bali   \n",
       "3                                                         Danny Boy   \n",
       "4                                       When Irish Eyes Are Smiling   \n",
       "\n",
       "                                                 song_artists  song_year  \\\n",
       "0  Sergei Rachmaninoff, James Levine, Berliner Philharmoniker       1921   \n",
       "1                                                  Dennis Day       1921   \n",
       "2         KHP Kridhamardawa Karaton Ngayogyakarta Hadiningrat       1921   \n",
       "3                                                Frank Parker       1921   \n",
       "4                                                  Phil Regan       1921   \n",
       "\n",
       "                                                                                                                                                                                                                                                                                                                                                                                                                                                                                                                                                                                                                                   song_embeddings  \n",
       "0        [-1.4697372913360596, 1.6093766689300537, 1.3470357656478882, -0.17075125873088837, 0.22816595435142517, -0.26203709840774536, -1.4705018997192383, -0.023817304521799088, -0.4289701282978058, 1.164610505104065, 0.7519665956497192, 0.15207956731319427, 0.5491760969161987, -0.395886093378067, -0.8389747738838196, 1.2703070294949268, -1.4612590488848611, 4.752569009266431, -1.007676175100147, -0.30920114813582733, 2.262496351076133, 1.3649563314120978, 2.611001210495346, -1.507817607982146, 0.6453499264345925, -1.2499471942270766, -0.38364744367671405, -1.1655450558051323, -1.7786347004763179, -2.142666230649063]  \n",
       "1       [-0.36899667978286743, 0.8569161295890808, 1.2207238674163818, 0.1085016131401062, 0.6271806359291077, 0.7028512954711914, -0.8539139032363892, 0.035000015050172806, -0.28415733575820923, 0.05096964165568352, 0.7450030446052551, 0.5746769309043884, 0.7175619006156921, -0.2206762284040451, 0.23307159543037415, 0.6055353575765623, 1.6000085277004752, -0.3958314054754826, -0.5219481676317392, -0.30920114813582733, -0.534994460237875, 0.5117210944218658, -0.2664040085915135, -0.16462578355006488, 0.6453499264345925, -1.2044048830282414, 1.8727935481311937, -1.8164526201211952, 1.654185186662974, -2.142666230649063]  \n",
       "2  [-0.5444679260253906, 0.5075699687004089, 0.04936423897743225, 0.20145872235298157, 0.9237421154975891, 0.27432358264923096, 0.20172667503356934, 0.08243125677108765, -0.3870060443878174, 0.07849937677383423, 0.7237778306007385, -0.012244322337210178, 0.18659956753253937, 0.5280500054359436, -1.1278307437896729, 1.214466209053784, -1.1834773613798955, 2.130627412712585, -1.1758127930699804, -0.30920114813582733, 2.3740136385430923, -0.6259258882317768, -0.6025761034947307, -0.5873232499193506, 0.6453499264345925, -1.2044048830282414, -0.39974784187407486, -0.21005905433507951, -1.854615663007068, -2.142666230649063]  \n",
       "3       [-0.39720410108566284, 1.1563446521759033, 1.569617509841919, 0.1184227466583252, 0.3758953809738159, 0.6490341424942017, -1.0218818187713623, 0.11120273917913437, -0.36480364203453064, 0.28904595971107483, 0.9119070172309875, 0.5089620351791382, 1.1516392230987549, -0.19770382344722748, 0.3800709545612335, 1.230420729179825, -1.4839351050077156, -0.1628410916211915, -0.641511984854732, -0.30920114813582733, -0.5349062022703654, -0.057102396904955506, 0.9928168892663002, 0.38370530088497806, 0.6453499264345925, -1.295489505425912, -0.3908031762088744, -0.5426988976237861, -1.377455218313957, -2.142666230649063]  \n",
       "4       [-0.26264292001724243, 0.8120734095573425, 0.90312260389328, 0.13470879197120667, 0.8935577869415283, 0.6051231622695923, -1.26597261428833, 0.3834632635116577, -0.1906394511461258, -0.06401898711919785, 1.3381379842758179, 0.31093665957450867, 0.8109012842178345, -0.344455748796463, 0.09799161553382874, 1.2038298623030903, -0.6732660986156729, -0.5052618172494464, -1.0749308222880805, -0.30920114813582733, -0.5349891074080766, -0.6259258882317768, 0.12674640748174057, 0.24684186220999144, 0.6453499264345925, -1.341031816624747, -0.3752990890558602, -0.49210382468564035, -1.0431389831786564, -2.142666230649063]  "
      ]
     },
     "execution_count": 30,
     "metadata": {},
     "output_type": "execute_result"
    }
   ],
   "source": [
    "show_df(embedded_song_df)"
   ]
  },
  {
   "cell_type": "markdown",
   "id": "e59c8f54",
   "metadata": {},
   "source": [
    "## 3. Store Embeddings In KDB.AI"
   ]
  },
  {
   "cell_type": "markdown",
   "id": "9d2724a9",
   "metadata": {},
   "source": [
    "With the embeddings created, we need to store them in a vector database to enable efficient searching. KDB.AI is perfect for this task.\n",
    "\n",
    "KDB.AI comes in two offerings:\n",
    "\n",
    "1. [KDB.AI Cloud](https://trykdb.kx.com/kdbai/signup/) - For experimenting with smaller generative AI projects with a vector database in our cloud.\n",
    "2. [KDB.AI Server](https://trykdb.kx.com/kdbaiserver/signup/) - For evaluating large scale generative AI applications on-premises or on your own cloud provider.\n",
    "\n",
    "Depending on which you use there will be different setup steps and connection details required.\n",
    "\n",
    "### KDB.AI Cloud\n",
    "\n",
    "To use KDB.AI Cloud, you will need two session details - a URL endpoint and an API key. To get these you can sign up for free [here](https://trykdb.kx.com/kdbai/signup).\n",
    "\n",
    "You can connect to a KDB.AI Cloud session using `kdbai.Session` and passing the session URL endpoint and API key details from your KDB.AI Cloud portal.\n",
    "\n",
    "If the environment variables `KDBAI_ENDPOINTS` and `KDBAI_API_KEY` exist on your system containing your KDB.AI Cloud portal details, these variables will automatically be used to connect.\n",
    "If these do not exist, it will prompt you to enter your KDB.AI Cloud portal session URL endpoint and API key details."
   ]
  },
  {
   "cell_type": "code",
   "execution_count": 31,
   "id": "53c01082",
   "metadata": {},
   "outputs": [],
   "source": [
    "KDBAI_ENDPOINT = (\n",
    "    os.environ[\"KDBAI_ENDPOINT\"]\n",
    "    if \"KDBAI_ENDPOINT\" in os.environ\n",
    "    else input(\"KDB.AI endpoint: \")\n",
    ")\n",
    "KDBAI_API_KEY = (\n",
    "    os.environ[\"KDBAI_API_KEY\"]\n",
    "    if \"KDBAI_API_KEY\" in os.environ\n",
    "    else getpass(\"KDB.AI API key: \")\n",
    ")"
   ]
  },
  {
   "cell_type": "code",
   "execution_count": 32,
   "id": "8f2409e5",
   "metadata": {},
   "outputs": [],
   "source": [
    "session = kdbai.Session(api_key=KDBAI_API_KEY, endpoint=KDBAI_ENDPOINT)"
   ]
  },
  {
   "cell_type": "markdown",
   "id": "6981ac12",
   "metadata": {},
   "source": [
    "### KDB.AI Server\n",
    "\n",
    "To use KDB.AI Server, you will need download and run your own container. To do this you will first need to sign up for free [here](https://trykdb.kx.com/kdbaiserver/signup/). \n",
    "\n",
    "You will receive an email with the required license file and bearer token needed to download your instance. Follow instructions in the signup email to get your session up and running.\n",
    "\n",
    "Once the [setup steps](https://code.kx.com/kdbai/gettingStarted/kdb-ai-server-setup.html) are complete you can then connect to your KDB.AI Server session using `kdbai.Session` and passing your local endpoint."
   ]
  },
  {
   "cell_type": "code",
   "execution_count": null,
   "id": "6db4df5a",
   "metadata": {},
   "outputs": [],
   "source": [
    "session = kdbai.Session(endpoint='http://localhost:8082')"
   ]
  },
  {
   "cell_type": "markdown",
   "id": "ecb9a4ac",
   "metadata": {},
   "source": [
    "We can check if there are any tables defined in this KDB.AI session - it should not contain a table called `songs`."
   ]
  },
  {
   "cell_type": "code",
   "execution_count": 33,
   "id": "61082605",
   "metadata": {},
   "outputs": [
    {
     "data": {
      "text/plain": [
       "[]"
      ]
     },
     "execution_count": 33,
     "metadata": {},
     "output_type": "execute_result"
    }
   ],
   "source": [
    "session.list()"
   ]
  },
  {
   "cell_type": "markdown",
   "id": "1a3e5fcc",
   "metadata": {},
   "source": [
    "### Define Vector DB Table Schema\n",
    "\n",
    "The next step is to define the schema for the table in KDB.AI which will store our embeddings.\n",
    "\n",
    "As mentioned above, our table will have four columns:\n",
    "- Song Name\n",
    "- Song Artists\n",
    "- Song Year\n",
    "- Song Embeddings\n",
    "\n",
    "When defining the schema, we must supply the types of these columns. We can use the `.dtypes()` function on the defined Pandas DataFrame to help with this."
   ]
  },
  {
   "cell_type": "code",
   "execution_count": 34,
   "id": "d535b113",
   "metadata": {},
   "outputs": [
    {
     "data": {
      "text/plain": [
       "song_name          object\n",
       "song_artists       object\n",
       "song_year           int64\n",
       "song_embeddings    object\n",
       "dtype: object"
      ]
     },
     "execution_count": 34,
     "metadata": {},
     "output_type": "execute_result"
    }
   ],
   "source": [
    "embedded_song_df.dtypes"
   ]
  },
  {
   "cell_type": "code",
   "execution_count": 35,
   "id": "c1c94ebc",
   "metadata": {},
   "outputs": [],
   "source": [
    "schema = {\n",
    "    \"columns\": [\n",
    "        {\n",
    "            \"name\": \"song_name\",\n",
    "            \"pytype\": \"str\",\n",
    "        },\n",
    "        {\n",
    "            \"name\": \"song_artists\",\n",
    "            \"pytype\": \"str\",\n",
    "        },\n",
    "        {\n",
    "            \"name\": \"song_year\",\n",
    "            \"pytype\": \"int64\",\n",
    "        },\n",
    "        {\n",
    "            \"name\": \"song_embeddings\",\n",
    "            \"vectorIndex\": {\n",
    "                \"dims\": len(numeric_cols) + embedding_dim,\n",
    "                \"metric\": \"L2\",\n",
    "                \"type\": \"flat\",\n",
    "            },\n",
    "        },\n",
    "    ]\n",
    "}"
   ]
  },
  {
   "cell_type": "markdown",
   "id": "c70075f1",
   "metadata": {},
   "source": [
    "### Create Vector DB Table\n",
    "\n",
    "Use the KDB.AI `create_table` function to create a table that matches the defined schema in the vector database."
   ]
  },
  {
   "cell_type": "code",
   "execution_count": 36,
   "id": "13bd4adf",
   "metadata": {},
   "outputs": [],
   "source": [
    "# First ensure the table does not already exist\n",
    "try:\n",
    "    session.table(\"songs\").drop()\n",
    "    time.sleep(5)\n",
    "except kdbai.KDBAIException:\n",
    "    pass"
   ]
  },
  {
   "cell_type": "code",
   "execution_count": 37,
   "id": "e1179907",
   "metadata": {
    "scrolled": true
   },
   "outputs": [],
   "source": [
    "table = session.create_table(\"songs\", schema)"
   ]
  },
  {
   "cell_type": "markdown",
   "id": "f7cef68a",
   "metadata": {},
   "source": [
    "### Add Embedded Data to KDB.AI Table\n",
    "\n",
    "When adding larger amounts of data, you should insert data into an index in chunks.\n",
    "\n",
    "It is a good idea to first get an idea of how large your dataset to insert is."
   ]
  },
  {
   "cell_type": "code",
   "execution_count": 38,
   "id": "a7c74728",
   "metadata": {},
   "outputs": [
    {
     "data": {
      "text/plain": [
       "79.63715362548828"
      ]
     },
     "execution_count": 38,
     "metadata": {},
     "output_type": "execute_result"
    }
   ],
   "source": [
    "embedded_song_df.memory_usage(deep=True).sum() / (1024**2)"
   ]
  },
  {
   "cell_type": "markdown",
   "id": "a3202579",
   "metadata": {},
   "source": [
    "This dataset is 80MB which exceeds the insert limit of <10MB at a time. As such, we'll insert this data in chunks, inserting 10,000 rows at a time."
   ]
  },
  {
   "cell_type": "code",
   "execution_count": 39,
   "id": "c2179418",
   "metadata": {},
   "outputs": [],
   "source": [
    "chunk_size = 10_000"
   ]
  },
  {
   "cell_type": "code",
   "execution_count": 40,
   "id": "a6a2fd78",
   "metadata": {
    "scrolled": true
   },
   "outputs": [
    {
     "data": {
      "application/vnd.jupyter.widget-view+json": {
       "model_id": "3ee06e65eb3a4096be4282d472b9ab1b",
       "version_major": 2,
       "version_minor": 0
      },
      "text/plain": [
       "  0%|          | 0/16 [00:00<?, ?it/s]"
      ]
     },
     "metadata": {},
     "output_type": "display_data"
    }
   ],
   "source": [
    "for i in tqdm(range((len(embedded_song_df) // chunk_size) + 1)):\n",
    "    index = i * chunk_size\n",
    "    table.insert(\n",
    "        embedded_song_df.iloc[index : index + chunk_size].reset_index(drop=True)\n",
    "    )"
   ]
  },
  {
   "cell_type": "markdown",
   "id": "20a556b3",
   "metadata": {},
   "source": [
    "### Verify Data Has Been Inserted\n",
    "\n",
    "Running `table.query()` should show us that data has been added."
   ]
  },
  {
   "cell_type": "code",
   "execution_count": 41,
   "id": "f9a04081",
   "metadata": {},
   "outputs": [
    {
     "name": "stdout",
     "output_type": "stream",
     "text": [
      "(157685, 4)\n"
     ]
    },
    {
     "data": {
      "text/html": [
       "<div>\n",
       "<style scoped>\n",
       "    .dataframe tbody tr th:only-of-type {\n",
       "        vertical-align: middle;\n",
       "    }\n",
       "\n",
       "    .dataframe tbody tr th {\n",
       "        vertical-align: top;\n",
       "    }\n",
       "\n",
       "    .dataframe thead th {\n",
       "        text-align: right;\n",
       "    }\n",
       "</style>\n",
       "<table border=\"1\" class=\"dataframe\">\n",
       "  <thead>\n",
       "    <tr style=\"text-align: right;\">\n",
       "      <th></th>\n",
       "      <th>song_name</th>\n",
       "      <th>song_artists</th>\n",
       "      <th>song_year</th>\n",
       "      <th>song_embeddings</th>\n",
       "    </tr>\n",
       "  </thead>\n",
       "  <tbody>\n",
       "    <tr>\n",
       "      <th>0</th>\n",
       "      <td>Piano Concerto No. 3 in D Minor, Op. 30: III. Finale. Alla breve</td>\n",
       "      <td>Sergei Rachmaninoff, James Levine, Berliner Philharmoniker</td>\n",
       "      <td>1921</td>\n",
       "      <td>[-1.4697372913360596, 1.6093766689300537, 1.3470357656478882, -0.17075125873088837, 0.22816595435142517, -0.26203709840774536, -1.4705018997192383, -0.023817304521799088, -0.4289701282978058, 1.164610505104065, 0.7519665956497192, 0.15207956731319427, 0.5491760969161987, -0.395886093378067, -0.8389747738838196, 1.2703070294949268, -1.4612590488848611, 4.752569009266431, -1.007676175100147, -0.30920114813582733, 2.262496351076133, 1.3649563314120978, 2.611001210495346, -1.507817607982146, 0.6453499264345925, -1.2499471942270766, -0.38364744367671405, -1.1655450558051323, -1.7786347004763179, -2.142666230649063]</td>\n",
       "    </tr>\n",
       "    <tr>\n",
       "      <th>1</th>\n",
       "      <td>Clancy Lowered the Boom</td>\n",
       "      <td>Dennis Day</td>\n",
       "      <td>1921</td>\n",
       "      <td>[-0.36899667978286743, 0.8569161295890808, 1.2207238674163818, 0.1085016131401062, 0.6271806359291077, 0.7028512954711914, -0.8539139032363892, 0.035000015050172806, -0.28415733575820923, 0.05096964165568352, 0.7450030446052551, 0.5746769309043884, 0.7175619006156921, -0.2206762284040451, 0.23307159543037415, 0.6055353575765623, 1.6000085277004752, -0.3958314054754826, -0.5219481676317392, -0.30920114813582733, -0.534994460237875, 0.5117210944218658, -0.2664040085915135, -0.16462578355006488, 0.6453499264345925, -1.2044048830282414, 1.8727935481311937, -1.8164526201211952, 1.654185186662974, -2.142666230649063]</td>\n",
       "    </tr>\n",
       "    <tr>\n",
       "      <th>2</th>\n",
       "      <td>Gati Bali</td>\n",
       "      <td>KHP Kridhamardawa Karaton Ngayogyakarta Hadiningrat</td>\n",
       "      <td>1921</td>\n",
       "      <td>[-0.5444679260253906, 0.5075699687004089, 0.04936423897743225, 0.20145872235298157, 0.9237421154975891, 0.27432358264923096, 0.20172667503356934, 0.08243125677108765, -0.3870060443878174, 0.07849937677383423, 0.7237778306007385, -0.012244322337210178, 0.18659956753253937, 0.5280500054359436, -1.1278307437896729, 1.214466209053784, -1.1834773613798955, 2.130627412712585, -1.1758127930699804, -0.30920114813582733, 2.3740136385430923, -0.6259258882317768, -0.6025761034947307, -0.5873232499193506, 0.6453499264345925, -1.2044048830282414, -0.39974784187407486, -0.21005905433507951, -1.854615663007068, -2.142666230649063]</td>\n",
       "    </tr>\n",
       "    <tr>\n",
       "      <th>3</th>\n",
       "      <td>Danny Boy</td>\n",
       "      <td>Frank Parker</td>\n",
       "      <td>1921</td>\n",
       "      <td>[-0.39720410108566284, 1.1563446521759033, 1.569617509841919, 0.1184227466583252, 0.3758953809738159, 0.6490341424942017, -1.0218818187713623, 0.11120273917913437, -0.36480364203453064, 0.28904595971107483, 0.9119070172309875, 0.5089620351791382, 1.1516392230987549, -0.19770382344722748, 0.3800709545612335, 1.230420729179825, -1.4839351050077156, -0.1628410916211915, -0.641511984854732, -0.30920114813582733, -0.5349062022703654, -0.057102396904955506, 0.9928168892663002, 0.38370530088497806, 0.6453499264345925, -1.295489505425912, -0.3908031762088744, -0.5426988976237861, -1.377455218313957, -2.142666230649063]</td>\n",
       "    </tr>\n",
       "    <tr>\n",
       "      <th>4</th>\n",
       "      <td>When Irish Eyes Are Smiling</td>\n",
       "      <td>Phil Regan</td>\n",
       "      <td>1921</td>\n",
       "      <td>[-0.26264292001724243, 0.8120734095573425, 0.90312260389328, 0.13470879197120667, 0.8935577869415283, 0.6051231622695923, -1.26597261428833, 0.3834632635116577, -0.1906394511461258, -0.06401898711919785, 1.3381379842758179, 0.31093665957450867, 0.8109012842178345, -0.344455748796463, 0.09799161553382874, 1.2038298623030903, -0.6732660986156729, -0.5052618172494464, -1.0749308222880805, -0.30920114813582733, -0.5349891074080766, -0.6259258882317768, 0.12674640748174057, 0.24684186220999144, 0.6453499264345925, -1.341031816624747, -0.3752990890558602, -0.49210382468564035, -1.0431389831786564, -2.142666230649063]</td>\n",
       "    </tr>\n",
       "  </tbody>\n",
       "</table>\n",
       "</div>"
      ],
      "text/plain": [
       "                                                          song_name  \\\n",
       "0  Piano Concerto No. 3 in D Minor, Op. 30: III. Finale. Alla breve   \n",
       "1                                           Clancy Lowered the Boom   \n",
       "2                                                         Gati Bali   \n",
       "3                                                         Danny Boy   \n",
       "4                                       When Irish Eyes Are Smiling   \n",
       "\n",
       "                                                 song_artists  song_year  \\\n",
       "0  Sergei Rachmaninoff, James Levine, Berliner Philharmoniker       1921   \n",
       "1                                                  Dennis Day       1921   \n",
       "2         KHP Kridhamardawa Karaton Ngayogyakarta Hadiningrat       1921   \n",
       "3                                                Frank Parker       1921   \n",
       "4                                                  Phil Regan       1921   \n",
       "\n",
       "                                                                                                                                                                                                                                                                                                                                                                                                                                                                                                                                                                                                                                   song_embeddings  \n",
       "0        [-1.4697372913360596, 1.6093766689300537, 1.3470357656478882, -0.17075125873088837, 0.22816595435142517, -0.26203709840774536, -1.4705018997192383, -0.023817304521799088, -0.4289701282978058, 1.164610505104065, 0.7519665956497192, 0.15207956731319427, 0.5491760969161987, -0.395886093378067, -0.8389747738838196, 1.2703070294949268, -1.4612590488848611, 4.752569009266431, -1.007676175100147, -0.30920114813582733, 2.262496351076133, 1.3649563314120978, 2.611001210495346, -1.507817607982146, 0.6453499264345925, -1.2499471942270766, -0.38364744367671405, -1.1655450558051323, -1.7786347004763179, -2.142666230649063]  \n",
       "1       [-0.36899667978286743, 0.8569161295890808, 1.2207238674163818, 0.1085016131401062, 0.6271806359291077, 0.7028512954711914, -0.8539139032363892, 0.035000015050172806, -0.28415733575820923, 0.05096964165568352, 0.7450030446052551, 0.5746769309043884, 0.7175619006156921, -0.2206762284040451, 0.23307159543037415, 0.6055353575765623, 1.6000085277004752, -0.3958314054754826, -0.5219481676317392, -0.30920114813582733, -0.534994460237875, 0.5117210944218658, -0.2664040085915135, -0.16462578355006488, 0.6453499264345925, -1.2044048830282414, 1.8727935481311937, -1.8164526201211952, 1.654185186662974, -2.142666230649063]  \n",
       "2  [-0.5444679260253906, 0.5075699687004089, 0.04936423897743225, 0.20145872235298157, 0.9237421154975891, 0.27432358264923096, 0.20172667503356934, 0.08243125677108765, -0.3870060443878174, 0.07849937677383423, 0.7237778306007385, -0.012244322337210178, 0.18659956753253937, 0.5280500054359436, -1.1278307437896729, 1.214466209053784, -1.1834773613798955, 2.130627412712585, -1.1758127930699804, -0.30920114813582733, 2.3740136385430923, -0.6259258882317768, -0.6025761034947307, -0.5873232499193506, 0.6453499264345925, -1.2044048830282414, -0.39974784187407486, -0.21005905433507951, -1.854615663007068, -2.142666230649063]  \n",
       "3       [-0.39720410108566284, 1.1563446521759033, 1.569617509841919, 0.1184227466583252, 0.3758953809738159, 0.6490341424942017, -1.0218818187713623, 0.11120273917913437, -0.36480364203453064, 0.28904595971107483, 0.9119070172309875, 0.5089620351791382, 1.1516392230987549, -0.19770382344722748, 0.3800709545612335, 1.230420729179825, -1.4839351050077156, -0.1628410916211915, -0.641511984854732, -0.30920114813582733, -0.5349062022703654, -0.057102396904955506, 0.9928168892663002, 0.38370530088497806, 0.6453499264345925, -1.295489505425912, -0.3908031762088744, -0.5426988976237861, -1.377455218313957, -2.142666230649063]  \n",
       "4       [-0.26264292001724243, 0.8120734095573425, 0.90312260389328, 0.13470879197120667, 0.8935577869415283, 0.6051231622695923, -1.26597261428833, 0.3834632635116577, -0.1906394511461258, -0.06401898711919785, 1.3381379842758179, 0.31093665957450867, 0.8109012842178345, -0.344455748796463, 0.09799161553382874, 1.2038298623030903, -0.6732660986156729, -0.5052618172494464, -1.0749308222880805, -0.30920114813582733, -0.5349891074080766, -0.6259258882317768, 0.12674640748174057, 0.24684186220999144, 0.6453499264345925, -1.341031816624747, -0.3752990890558602, -0.49210382468564035, -1.0431389831786564, -2.142666230649063]  "
      ]
     },
     "execution_count": 41,
     "metadata": {},
     "output_type": "execute_result"
    }
   ],
   "source": [
    "show_df(table.query())"
   ]
  },
  {
   "cell_type": "markdown",
   "id": "89aca5e4",
   "metadata": {},
   "source": [
    "## 4. Search For Similar Songs To A Target Song"
   ]
  },
  {
   "cell_type": "markdown",
   "id": "6d9a23b4",
   "metadata": {},
   "source": [
    "Now that the data has been inserted into the database, we can perform some queries on the data."
   ]
  },
  {
   "cell_type": "markdown",
   "id": "6465d403",
   "metadata": {},
   "source": [
    "### Find Songs By A Certain Artist"
   ]
  },
  {
   "cell_type": "markdown",
   "id": "3aa6798d",
   "metadata": {},
   "source": [
    "We can query the database to find songs by particular artists using KDB.AI's `.query()` function.\n",
    "\n",
    "Here, we want to return all songs in the dataset by the DJ `Calvin Harris`, sorted by the year they were produced. This returns 32 songs to us."
   ]
  },
  {
   "cell_type": "code",
   "execution_count": 41,
   "id": "d30ac168",
   "metadata": {
    "scrolled": true
   },
   "outputs": [
    {
     "data": {
      "text/html": [
       "<div>\n",
       "<style scoped>\n",
       "    .dataframe tbody tr th:only-of-type {\n",
       "        vertical-align: middle;\n",
       "    }\n",
       "\n",
       "    .dataframe tbody tr th {\n",
       "        vertical-align: top;\n",
       "    }\n",
       "\n",
       "    .dataframe thead th {\n",
       "        text-align: right;\n",
       "    }\n",
       "</style>\n",
       "<table border=\"1\" class=\"dataframe\">\n",
       "  <thead>\n",
       "    <tr style=\"text-align: right;\">\n",
       "      <th></th>\n",
       "      <th>song_name</th>\n",
       "      <th>song_artists</th>\n",
       "      <th>song_year</th>\n",
       "      <th>song_embeddings</th>\n",
       "    </tr>\n",
       "  </thead>\n",
       "  <tbody>\n",
       "    <tr>\n",
       "      <th>0</th>\n",
       "      <td>Flashback</td>\n",
       "      <td>Calvin Harris</td>\n",
       "      <td>2009</td>\n",
       "      <td>[-0.4177802801132202, 1.1748639345169067, 0.6881563663482666, 0.013721980154514313, 0.9479737281799316, 0.3897114396095276, -0.6866428852081299, -0.019070934504270554, 0.014673478901386261, 0.21349138021469116, 0.4838828444480896, 0.747475266456604, 1.0940808057785034, -0.06278841197490692, 0.4147791266441345, -1.3351724705550345, -1.5406252453148515, -0.011030115749796733, 1.7460279903169027, -0.30920114813582733, -0.531394044956799, 1.080544585748687, -0.7039975151773963, 1.0250333372402045, -1.5495469342051147, 0.7539144985216722, -0.3073196300003366, 0.36420802995835594, -1.2520866301382192, 1.24780896840589]</td>\n",
       "    </tr>\n",
       "    <tr>\n",
       "      <th>1</th>\n",
       "      <td>You Used To Hold Me</td>\n",
       "      <td>Calvin Harris</td>\n",
       "      <td>2009</td>\n",
       "      <td>[-0.1804826855659485, 1.3096168041229248, 1.0537090301513672, -0.13217858970165253, 0.7977455258369446, 0.44970786571502686, -1.2015180587768555, 0.3313247561454773, 0.05825001373887062, 0.05978407338261604, 1.5313469171524048, 0.1717090904712677, 1.2571277618408203, 0.007039185613393784, 0.279476523399353, -1.2794911953151524, 0.46053670752704456, 0.0042537705189223335, 1.8244917453694918, -0.30920114813582733, -0.5349904137534441, 1.6493680770755084, 0.6224578016610608, 0.9587072092669416, -1.5495469342051147, 0.5717452537263314, -0.3556208245924191, 0.39555356357813237, -1.2824790151505194, 1.24780896840589]</td>\n",
       "    </tr>\n",
       "    <tr>\n",
       "      <th>2</th>\n",
       "      <td>I'm Not Alone - Radio Edit</td>\n",
       "      <td>Calvin Harris</td>\n",
       "      <td>2009</td>\n",
       "      <td>[-0.3499296307563782, 1.244738221168518, 0.9763027429580688, -0.14675182104110718, 0.7054509520530701, 0.5618191957473755, -1.0987207889556885, 0.4011222720146179, 0.022020503878593445, 0.24286241829395294, 1.2122381925582886, 0.3463975787162781, 1.0734851360321045, -0.2579449713230133, 0.26039785146713257, -1.3273547556932748, 0.30747332869777755, -0.14913856968446612, 0.7932538218211799, -0.30920114813582733, -0.14309084999684657, 0.5117210944218658, 0.491407662969976, 0.8665875870818543, 0.6453499264345925, 0.3895760089309906, -0.4110777517166621, 0.46191895166730623, -0.3631093685284425, 1.24780896840589]</td>\n",
       "    </tr>\n",
       "    <tr>\n",
       "      <th>3</th>\n",
       "      <td>We Found Love</td>\n",
       "      <td>Rihanna, Calvin Harris</td>\n",
       "      <td>2011</td>\n",
       "      <td>[-0.22046250104904175, 1.4409897327423096, 1.0603516101837158, -0.15190696716308594, 0.7062567472457886, 0.4542839527130127, -1.1391438245773315, 0.2879817485809326, 0.00519922748208046, 0.17919489741325378, 1.0258654356002808, 0.5709000825881958, 1.2584115266799927, -0.15058273077011108, 0.18762657046318054, -1.2744389306085728, 1.1181423350898205, -0.12151213480453628, 1.0660087798611322, -0.30920114813582733, -0.5305974929034635, -1.1947493795585982, -0.562691278675705, 1.2313812909347996, 0.6453499264345925, 1.9835569008902227, -0.3735101559228201, 0.36375280436636764, 0.2751307167298588, 1.324865222929866]</td>\n",
       "    </tr>\n",
       "    <tr>\n",
       "      <th>4</th>\n",
       "      <td>Dance Wiv Me - Radio Edit</td>\n",
       "      <td>Dizzee Rascal, Calvin Harris, Chrome</td>\n",
       "      <td>2011</td>\n",
       "      <td>[-0.4587083160877228, 1.0718482732772827, 0.7888512015342712, -0.19494929909706116, 0.5652546286582947, 0.5162851810455322, -0.7239663004875183, 0.22776807844638824, -0.27129143476486206, 0.2589092552661896, 0.6417447924613953, 0.29954248666763306, 0.8052375912666321, -0.016278591006994247, 0.2674573063850403, -1.2143435714671529, 1.9344803555125771, -0.2095466871666253, 0.9912813940967616, -0.30920114813582733, -0.534994460237875, 1.6493680770755084, -0.3005910012935356, 1.2671763441267194, 0.6453499264345925, 1.5281337889018707, -0.3329610049072446, -0.1561798539118747, 1.0045479570250604, 1.324865222929866]</td>\n",
       "    </tr>\n",
       "    <tr>\n",
       "      <th>5</th>\n",
       "      <td>Feel So Close - Radio Edit</td>\n",
       "      <td>Calvin Harris</td>\n",
       "      <td>2012</td>\n",
       "      <td>[-0.3422718048095703, 1.2694331407546997, 0.8576171398162842, -0.13317301869392395, 0.7552549839019775, 0.6506489515304565, -1.012566328048706, 0.3336513340473175, -0.20709870755672455, 0.23876579105854034, 1.074584722518921, 0.40791648626327515, 1.2946882247924805, -0.191492959856987, 0.43210864067077637, -1.3383314655399907, 0.9650789562605536, -0.19120286091549843, 1.6563551273996584, -0.30920114813582733, -0.5125954164980829, 0.5117210944218658, -0.015699395443351603, 1.5196718418873678, 0.6453499264345925, 2.2112684568843988, -0.41704086216012914, 0.36215951479440783, 1.487027069095324, 1.3633933501918543]</td>\n",
       "    </tr>\n",
       "    <tr>\n",
       "      <th>6</th>\n",
       "      <td>Sweet Nothing (feat. Florence Welch)</td>\n",
       "      <td>Calvin Harris, Florence Welch</td>\n",
       "      <td>2012</td>\n",
       "      <td>[-0.46716997027397156, 1.4698059558868408, 1.016045331954956, -0.22955338656902313, 0.5113517642021179, 0.26787707209587097, -0.9305496215820312, 0.19582697749137878, -0.04030229523777962, 0.1288902312517166, 0.8014378547668457, 0.657159149646759, 0.9475064873695374, -0.1644292026758194, 0.12405990809202194, -0.8170760203287379, 0.20543107614493292, -0.1425996281716722, 1.6750369738407511, -0.30920114813582733, -0.5346376049179807, 0.7961328400852764, -0.8549900662779938, 1.3266593001662328, -1.5495469342051147, 1.8469299672937172, 0.048081752430295825, 0.36206196645326744, 0.20674785045218355, 1.3633933501918543]</td>\n",
       "    </tr>\n",
       "    <tr>\n",
       "      <th>7</th>\n",
       "      <td>I Need Your Love (feat. Ellie Goulding)</td>\n",
       "      <td>Calvin Harris, Ellie Goulding</td>\n",
       "      <td>2012</td>\n",
       "      <td>[-0.3980206549167633, 1.5604792833328247, 0.9707034826278687, -0.20712758600711823, 0.5511788725852966, 0.23450858891010284, -0.9228985905647278, 0.22432084381580353, 0.12286277115345001, 0.23793652653694153, 0.9756612181663513, 0.3520347476005554, 1.0758312940597534, -0.2533856928348541, 0.1876349002122879, -0.2506905558542914, 0.8970507878919904, 0.03093138679965598, 1.4508548165476396, -0.30920114813582733, -0.534994460237875, 0.7961328400852764, 0.1723290644177699, 1.1294355757166366, 0.6453499264345925, 1.8013876560948818, -0.31387905148815026, 0.2663020115671249, 0.19914975419910855, 1.3633933501918543]</td>\n",
       "    </tr>\n",
       "    <tr>\n",
       "      <th>8</th>\n",
       "      <td>Let's Go (feat. Ne-Yo)</td>\n",
       "      <td>Calvin Harris, Ne-Yo</td>\n",
       "      <td>2012</td>\n",
       "      <td>[-0.44666704535484314, 1.6260087490081787, 1.093656301498413, -0.414266437292099, 0.3919946849346161, 0.4949374496936798, -0.9291890263557434, 0.20859210193157196, 0.08626531064510345, 0.2943715453147888, 0.9521690011024475, 0.42693525552749634, 1.0828033685684204, -0.2554343342781067, 0.18166345357894897, -1.3202549942371866, 0.9820859983526944, 0.017434442226089787, 1.4994276172944805, -0.30920114813582733, -0.5104287949130105, -0.34151414256836615, 0.4971054950869797, 1.5038799066556385, -1.5495469342051147, 1.5736761001007058, -0.24709221452132002, 0.36472828777777105, 1.3198689515276736, 1.3633933501918543]</td>\n",
       "    </tr>\n",
       "    <tr>\n",
       "      <th>9</th>\n",
       "      <td>Thinking About You (feat. Ayah Marar)</td>\n",
       "      <td>Calvin Harris, Ayah Marar</td>\n",
       "      <td>2012</td>\n",
       "      <td>[-0.3359251022338867, 1.3295100927352905, 0.7712640762329102, -0.15644732117652893, 0.4330350458621979, 0.34193432331085205, -0.7868435382843018, 0.21514126658439636, 0.036307867616415024, 0.30485799908638, 0.7842575311660767, 0.39300742745399475, 0.8902987837791443, -0.1127651110291481, 0.11857234686613083, -1.333949290678705, 1.0671212088133983, 0.13708837440639277, 1.4695366629887323, -0.30920114813582733, -0.5336817424539783, -1.4791611252220087, -0.6322048305031499, 1.3664900701395943, -1.5495469342051147, 1.6192184112995411, -0.365758112346313, 0.363720288252654, 0.83738983945741, 1.3633933501918543]</td>\n",
       "    </tr>\n",
       "    <tr>\n",
       "      <th>10</th>\n",
       "      <td>Spectrum (Say My Name) - Calvin Harris Remix</td>\n",
       "      <td>Florence + The Machine, Calvin Harris</td>\n",
       "      <td>2012</td>\n",
       "      <td>[-0.4551146924495697, 1.3833825588226318, 1.1262145042419434, -0.08172603696584702, 0.7477717995643616, 0.3381880819797516, -0.9005046486854553, 0.23503926396369934, -0.10083349049091339, -0.022722430527210236, 0.9179242253303528, 0.7581401467323303, 1.0869097709655762, -0.1468767523765564, 0.3763645589351654, -1.334933152753144, 0.23377614629850088, -0.09808422222604968, 1.7385552517404657, -0.30920114813582733, -0.5218672823989072, 1.6493680770755084, -0.627646564809547, 1.3428021672920005, -1.5495469342051147, 0.936083743317013, -0.31447536253249697, 0.30216728499307227, 0.22954213921140862, 1.3633933501918543]</td>\n",
       "    </tr>\n",
       "    <tr>\n",
       "      <th>11</th>\n",
       "      <td>Bounce (feat. Kelis) - Radio Edit</td>\n",
       "      <td>Calvin Harris, Kelis</td>\n",
       "      <td>2012</td>\n",
       "      <td>[-0.5482932329177856, 1.4989278316497803, 0.9464470744132996, -0.26611295342445374, 0.4508720934391022, 0.40328389406204224, -0.7756748795509338, 0.17093780636787415, -0.0997968316078186, 0.3599936366081238, 0.5924645662307739, 0.4644133150577545, 1.0361995697021484, -0.17987921833992004, 0.3233492076396942, -1.2521026024321158, 1.3732479664719321, -0.06648065605115566, 1.8020735296401804, -0.30920114813582733, 1.0358061889395804, -0.9103376338951874, 2.605303378378342, 1.6454809259001442, -1.5495469342051147, 1.4370491665042002, -0.36396917921327293, 0.3622895792492618, 0.8791793688493226, 1.3633933501918543]</td>\n",
       "    </tr>\n",
       "    <tr>\n",
       "      <th>12</th>\n",
       "      <td>We'll Be Coming Back (feat. Example)</td>\n",
       "      <td>Calvin Harris, Example</td>\n",
       "      <td>2012</td>\n",
       "      <td>[-0.32255759835243225, 1.4080992937088013, 0.9990494251251221, -0.20599889755249023, 0.5074703693389893, 0.46566805243492126, -1.0416209697723389, 0.2794031500816345, 0.06899786740541458, 0.1606384664773941, 0.9983592629432678, 0.3025132119655609, 1.1002306938171387, -0.1926266849040985, 0.040876682847738266, -1.337432694239557, 0.3358183988513455, 0.02976908401564061, 1.7609734674697768, -0.30920114813582733, -0.534994460237875, 0.5117210944218658, 2.2292464586560987, 1.2526126705241245, 0.6453499264345925, 1.5281337889018707, -0.08131774419293777, 0.3624196437041154, 0.16495832106027095, 1.3633933501918543]</td>\n",
       "    </tr>\n",
       "    <tr>\n",
       "      <th>13</th>\n",
       "      <td>Drinking from the Bottle (feat. Tinie Tempah)</td>\n",
       "      <td>Calvin Harris, Tinie Tempah</td>\n",
       "      <td>2012</td>\n",
       "      <td>[-0.4916611909866333, 1.324865698814392, 0.9082754850387573, -0.18282833695411682, 0.47144946455955505, 0.3654361665248871, -0.7539269328117371, 0.11492204666137695, -0.06505227088928223, 0.18832656741142273, 0.6951460838317871, 0.4429301619529724, 0.6989584565162659, -0.23106196522712708, 0.13517031073570251, -1.2162049321485242, 0.7269803669705833, 0.07710722529387189, 1.5143730944473546, -0.30920114813582733, -0.5347956408453626, 1.080544585748687, -0.8789209611694093, 1.2857757345107559, -1.5495469342051147, 1.4370491665042002, -0.2953934091134026, 0.3662240290085909, 0.009197347872233395, 1.3633933501918543]</td>\n",
       "    </tr>\n",
       "    <tr>\n",
       "      <th>14</th>\n",
       "      <td>Summer</td>\n",
       "      <td>Calvin Harris</td>\n",
       "      <td>2014</td>\n",
       "      <td>[-0.4880185127258301, 1.3927910327911377, 1.0464969873428345, 0.1108192652463913, 0.9500789642333984, 0.36835113167762756, -0.9142218828201294, 0.040910761803388596, -0.15625670552253723, 0.09858031570911407, 0.7263961434364319, 0.8162397146224976, 1.4721590280532837, -0.3058445155620575, 0.5858486890792847, -1.2848093686904993, 0.3358183988513455, -0.06374489575680657, 1.402282015800799, -0.30920114813582733, -0.4782799540403928, -0.34151414256836615, -0.3746628188145835, 1.3943891557156491, -1.5495469342051147, 2.2112684568843988, -0.395573664563648, 0.36254970815896936, 0.8183945988247224, 1.4404496047158304]</td>\n",
       "    </tr>\n",
       "    <tr>\n",
       "      <th>15</th>\n",
       "      <td>Outside (feat. Ellie Goulding)</td>\n",
       "      <td>Calvin Harris, Ellie Goulding</td>\n",
       "      <td>2014</td>\n",
       "      <td>[-0.4897095561027527, 1.5699653625488281, 0.8926101326942444, -0.29120108485221863, 0.5620771050453186, 0.26164066791534424, -0.7117010951042175, 0.05555526912212372, 0.0710374265909195, 0.24435575306415558, 0.7196646332740784, 0.49324357509613037, 1.0745488405227661, -0.2406628280878067, 0.23750033974647522, -0.7745306333259627, 0.6192691003870251, -0.026314002018515803, 1.2789818292895876, -0.30920114813582733, -0.534994460237875, -0.9103376338951874, 0.656644794363083, 1.294899963755755, -1.5495469342051147, 2.2112684568843988, -0.3669507344350065, 0.36534609393832695, -0.41629604229996764, 1.4404496047158304]</td>\n",
       "    </tr>\n",
       "    <tr>\n",
       "      <th>16</th>\n",
       "      <td>Blame (feat. John Newman)</td>\n",
       "      <td>Calvin Harris, John Newman</td>\n",
       "      <td>2014</td>\n",
       "      <td>[-0.6523669362068176, 1.6097309589385986, 1.0638433694839478, -0.09408582001924515, 0.790378212928772, 0.35893714427948, -1.1581063270568848, -0.06857531517744064, -0.03143932670354843, 0.3122243285179138, 0.581253170967102, 0.5099432468414307, 1.0311068296432495, -0.287195086479187, 0.34546977281570435, -1.2646003098641811, -0.6959421547385273, -0.13943689950768481, 1.4060183850890173, -0.30920114813582733, -0.5167056250932938, -1.4791611252220087, 0.7762992688201603, 1.3027959313716195, -1.5495469342051147, 2.029099212089058, -0.12007796207547321, 0.36498841668747906, -0.6822294111575933, 1.4404496047158304]</td>\n",
       "    </tr>\n",
       "    <tr>\n",
       "      <th>17</th>\n",
       "      <td>Under Control (feat. Hurts)</td>\n",
       "      <td>Calvin Harris, Alesso, Hurts</td>\n",
       "      <td>2014</td>\n",
       "      <td>[-0.4686965048313141, 1.5294214487075806, 0.9410881400108337, -0.2656065821647644, 0.46868619322776794, 0.4293307363986969, -0.824219286441803, 0.19933249056339264, 0.002304652938619256, 0.2634362578392029, 0.7864428162574768, 0.5416689515113831, 0.97646564245224, -0.06533084809780121, 0.2580253481864929, -0.9978939150905332, 0.041029669254239384, -0.3662045447155807, 1.6227278038056918, -0.30920114813582733, -0.5320822659308807, 0.7961328400852764, -0.5228064538566791, 1.4208845137155506, 0.6453499264345925, 1.8924722784925523, -0.10039969761203217, 0.30223231722049904, -0.06678361465851683, 1.4404496047158304]</td>\n",
       "    </tr>\n",
       "    <tr>\n",
       "      <th>18</th>\n",
       "      <td>Pray to God (feat. HAIM)</td>\n",
       "      <td>Calvin Harris, HAIM</td>\n",
       "      <td>2014</td>\n",
       "      <td>[-0.47382694482803345, 1.440103530883789, 0.8968604803085327, -0.20529291033744812, 0.44083479046821594, 0.32500001788139343, -0.8627090454101562, 0.1558535099029541, 0.07797694206237793, 0.1602782905101776, 0.7797490358352661, 0.5130726099014282, 0.9323323965072632, -0.16953730583190918, 0.11000072956085205, -1.3010297974853073, 0.39250853915848144, 0.012903833414927847, 1.7497643596051211, -0.30920114813582733, -0.5349065208911868, 0.5117210944218658, -0.5569934465587013, 1.5359901749601546, -1.5495469342051147, 1.4370491665042002, -0.35502451354807246, 0.10508711977578511, -0.34791317602229244, 1.4404496047158304]</td>\n",
       "    </tr>\n",
       "    <tr>\n",
       "      <th>19</th>\n",
       "      <td>Open Wide (feat. Big Sean)</td>\n",
       "      <td>Calvin Harris, Big Sean</td>\n",
       "      <td>2014</td>\n",
       "      <td>[-0.44009193778038025, 1.76226007938385, 1.1988070011138916, -0.2178504914045334, 0.5418226718902588, 0.26122957468032837, -0.7820425033569336, 0.01647438481450081, 0.0030186313670128584, 0.29939842224121094, 0.8628336191177368, 0.7391980290412903, 1.1117851734161377, -0.30600982904434204, 0.4093456268310547, -1.155311847000802, 1.265536699888374, -0.34037295835246373, 1.72734614387581, 3.2341406428378603, -0.534994460237875, -1.1947493795585982, 1.8133047141148304, 1.5440616085230388, 0.6453499264345925, 1.2548799217088595, -0.3854363768097541, 0.3634276432292329, 0.6018488556120847, 1.4404496047158304]</td>\n",
       "    </tr>\n",
       "    <tr>\n",
       "      <th>20</th>\n",
       "      <td>How Deep Is Your Love</td>\n",
       "      <td>Calvin Harris, Disciples</td>\n",
       "      <td>2015</td>\n",
       "      <td>[-0.36919039487838745, 1.2596304416656494, 1.0158846378326416, -0.04599088802933693, 0.6566837430000305, 0.4178955554962158, -1.1075621843338013, 0.2440832406282425, -0.14452853798866272, 0.033575572073459625, 1.1771844625473022, 0.5143554210662842, 1.0139976739883423, -0.13899853825569153, 0.2763204574584961, -1.2374776256499118, 1.140818391212675, -0.14196708243887474, 1.4471184472594212, -0.30920114813582733, -0.5295460441930607, 1.6493680770755084, 1.0327017140853259, 1.2510334770009517, -1.5495469342051147, 2.074641523287893, -0.165993912490169, 0.1692088960187301, -0.7278179886760432, 1.4789777319778186]</td>\n",
       "    </tr>\n",
       "    <tr>\n",
       "      <th>21</th>\n",
       "      <td>This Is What You Came For (feat. Rihanna)</td>\n",
       "      <td>Calvin Harris, Rihanna</td>\n",
       "      <td>2016</td>\n",
       "      <td>[-0.39501821994781494, 1.6083414554595947, 1.1514337062835693, -0.1512695997953415, 0.36674046516418457, 0.44356778264045715, -1.1958787441253662, 0.30384552478790283, 0.025916293263435364, 0.14286206662654877, 1.1240661144256592, 0.3800697922706604, 1.1040403842926025, -0.26072946190834045, 0.17856277525424957, -0.811757846953391, 0.5285648758956076, -0.06669414023597482, 1.6713006045525325, -0.30920114813582733, -0.13990464178350487, 1.080544585748687, -0.33477799399555774, 1.5293224689734244, -1.5495469342051147, 2.1657261456855634, -0.40451833022884853, 0.23294047889711353, -0.23774078035270463, 1.5175058592398065]</td>\n",
       "    </tr>\n",
       "    <tr>\n",
       "      <th>22</th>\n",
       "      <td>The Weekend - Funk Wav Remix</td>\n",
       "      <td>SZA, Calvin Harris, Funk Wav</td>\n",
       "      <td>2017</td>\n",
       "      <td>[-0.5717301368713379, 1.1210581064224243, 0.8564850687980652, -0.16034497320652008, 0.5688947439193726, 0.46051207184791565, -0.6566710472106934, 0.14956511557102203, -0.23121485114097595, 0.17447973787784576, 0.6048105955123901, 0.6742080450057983, 1.0338671207427979, -0.0969606563448906, 0.27382224798202515, -0.02466818740204738, 1.3505719103490779, -0.46483423810202756, 0.3448895072349573, -0.30920114813582733, -0.534994460237875, 1.6493680770755084, -0.46013030056963866, 1.152772546670192, 0.6453499264345925, 2.029099212089058, -0.253055324964787, -0.48364963512014075, 0.529666941207872, 1.5560339865017947]</td>\n",
       "    </tr>\n",
       "    <tr>\n",
       "      <th>23</th>\n",
       "      <td>Slide (feat. Frank Ocean &amp; Migos)</td>\n",
       "      <td>Calvin Harris, Frank Ocean, Migos</td>\n",
       "      <td>2017</td>\n",
       "      <td>[-0.7661330103874207, 1.5214853286743164, 1.1032226085662842, -0.28174737095832825, 0.49193069338798523, 0.2942112684249878, -0.9044767022132874, -0.021584870293736458, -0.018846429884433746, 0.09597235172986984, 0.6720815896987915, 0.6422156095504761, 1.322472333908081, -0.053187400102615356, 0.3116898238658905, -0.016690927339026995, 1.1294803631512478, 0.0017235875877324204, 1.1743634892194692, 3.2341406428378603, -0.5349906049259369, -1.1947493795585982, 0.26919221040683255, 1.4394839040995873, -1.5495469342051147, 1.8924722784925523, -0.2769077667386549, -0.4140326356596205, -0.06298456653197931, 1.5560339865017947]</td>\n",
       "    </tr>\n",
       "    <tr>\n",
       "      <th>24</th>\n",
       "      <td>Feels (feat. Pharrell Williams, Katy Perry &amp; Big Sean)</td>\n",
       "      <td>Calvin Harris, Pharrell Williams, Katy Perry, Big Sean, Funk Wav</td>\n",
       "      <td>2017</td>\n",
       "      <td>[-0.3526952862739563, 1.759653925895691, 1.200514554977417, -0.28091031312942505, 0.5146492123603821, 0.42372608184814453, -0.7893158793449402, -0.05972481518983841, -0.15717187523841858, 0.3994133174419403, 0.6084858179092407, 0.5392794609069824, 1.1312507390975952, -0.20143984258174896, 0.37428826093673706, -1.1702027324517734, 2.019515565973281, -0.05678689269603431, 0.9875450248085431, 3.2341406428378603, -0.534994460237875, 1.6493680770755084, -0.6407515786786554, 1.4735242978213146, -1.5495469342051147, 1.9835569008902227, -0.2614036795856408, -0.5131417502582498, 1.308471807148061, 1.5560339865017947]</td>\n",
       "    </tr>\n",
       "    <tr>\n",
       "      <th>25</th>\n",
       "      <td>Rollin (feat. Future &amp; Khalid)</td>\n",
       "      <td>Calvin Harris, Future, Khalid</td>\n",
       "      <td>2017</td>\n",
       "      <td>[-0.4438738226890564, 1.7850409746170044, 1.0244078636169434, -0.4142773449420929, 0.5018102526664734, 0.27930381894111633, -0.6746247410774231, -0.04121283069252968, -0.02653452381491661, 0.3095360994338989, 0.7085129618644714, 0.6772722601890564, 1.12412428855896, -0.2609180808067322, 0.23977094888687134, -0.14432708834735297, 1.2315226157040924, 0.3326557013440531, 1.0510633027082579, 3.2341406428378603, -0.5347819401500451, 0.22730934875845515, 0.09825724689672213, 1.2312058249877804, -1.5495469342051147, 1.5736761001007058, -0.09562920925725853, -0.8063070314988148, 0.5524612299670971, 1.5560339865017947]</td>\n",
       "    </tr>\n",
       "    <tr>\n",
       "      <th>26</th>\n",
       "      <td>Slide (feat. Frank Ocean &amp; Migos)</td>\n",
       "      <td>Calvin Harris, Frank Ocean, Migos, Funk Wav</td>\n",
       "      <td>2017</td>\n",
       "      <td>[-0.7595265507698059, 1.4282264709472656, 1.041591763496399, -0.2982432246208191, 0.465362548828125, 0.33768218755722046, -0.8599664568901062, 0.012871934100985527, -0.07398681342601776, 0.12011967599391937, 0.6228083372116089, 0.6240928173065186, 1.2596262693405151, -0.038431111723184586, 0.2671113908290863, -0.016690927339026995, 1.1294803631512478, 0.0017235875877324204, 1.1743634892194692, 3.2341406428378603, -0.5349906049259369, -1.1947493795585982, 0.26919221040683255, 1.4394839040995873, -1.5495469342051147, 1.6192184112995411, -0.2769077667386549, -0.4140326356596205, -0.06298456653197931, 1.5560339865017947]</td>\n",
       "    </tr>\n",
       "    <tr>\n",
       "      <th>27</th>\n",
       "      <td>Faking It (feat. Kehlani &amp; Lil Yachty)</td>\n",
       "      <td>Calvin Harris, Kehlani, Lil Yachty, Funk Wav</td>\n",
       "      <td>2017</td>\n",
       "      <td>[-0.39761361479759216, 1.6983751058578491, 0.999107837677002, -0.5045301914215088, 0.42755332589149475, 0.2733400762081146, -0.5620764493942261, -0.041728466749191284, -0.013983165845274925, 0.3422762453556061, 0.804722011089325, 0.5831785798072815, 1.1124651432037354, -0.19630081951618195, 0.12559163570404053, -0.49266744443257604, 1.3562409243797915, 0.0750988925922399, 0.4046714158464537, 3.2341406428378603, -0.534994460237875, 1.080544585748687, -0.7706621509463393, 1.2212042660076852, -1.5495469342051147, 1.391506855305365, 0.08386041509109778, 0.1051846681169255, 0.5334659893344095, 1.5560339865017947]</td>\n",
       "    </tr>\n",
       "    <tr>\n",
       "      <th>28</th>\n",
       "      <td>Rollin (feat. Future &amp; Khalid)</td>\n",
       "      <td>Calvin Harris, Future, Khalid, Funk Wav</td>\n",
       "      <td>2017</td>\n",
       "      <td>[-0.4902431070804596, 1.6374939680099487, 0.9690649509429932, -0.41051775217056274, 0.4706435203552246, 0.33008939027786255, -0.6634776592254639, 0.00034383393358439207, -0.086520254611969, 0.3007725477218628, 0.6476929187774658, 0.6512930393218994, 1.0873533487319946, -0.20990042388439178, 0.20222584903240204, -0.1549634350980468, 1.2258536016733788, 0.33254500584081353, 1.0435905641318208, 3.2341406428378603, -0.5348947319207974, 0.22730934875845515, -0.14105170201743256, 1.2255909146831656, -1.5495469342051147, 1.391506855305365, -0.08966609881379153, -0.807900321070774, 0.4916764599424969, 1.5560339865017947]</td>\n",
       "    </tr>\n",
       "    <tr>\n",
       "      <th>29</th>\n",
       "      <td>One Kiss (with Dua Lipa)</td>\n",
       "      <td>Calvin Harris, Dua Lipa</td>\n",
       "      <td>2018</td>\n",
       "      <td>[-0.34655284881591797, 1.6190217733383179, 0.9963108897209167, -0.11858359724283218, 0.570472002029419, 0.3798311948776245, -0.6855773329734802, 0.2904907763004303, 0.12902766466140747, 0.19351264834403992, 0.7003583312034607, 0.5296660661697388, 0.9469909071922302, -0.08288334310054779, 0.30176079273223877, -1.2425298903564914, 1.4412761348404952, -0.12451672703532429, 1.42470023153011, -0.30920114813582733, -0.5349246822780028, 1.080544585748687, -0.7142536129880029, 1.4498363949737207, -1.5495469342051147, 2.302353079282069, 0.05404486287376281, 0.23394847842223102, 0.24473833171755868, 1.5945621137637829]</td>\n",
       "    </tr>\n",
       "    <tr>\n",
       "      <th>30</th>\n",
       "      <td>Promises (with Sam Smith)</td>\n",
       "      <td>Calvin Harris, Sam Smith, Jessie Reyez</td>\n",
       "      <td>2018</td>\n",
       "      <td>[-0.3491469621658325, 1.2356107234954834, 1.1113810539245605, -0.36937379837036133, 0.5717609524726868, 0.6566994786262512, -0.9636581540107727, -0.2644793689250946, -0.05469280108809471, 0.46834152936935425, 0.8193925023078918, 0.6093714833259583, 0.9770198464393616, 0.015042567625641823, 0.17665882408618927, -1.3092729662170952, 1.3845859945333594, -0.13667741874835582, 1.0734815184375692, -0.30920114813582733, -0.5349788159555475, 1.6493680770755084, 0.673738290714094, 0.9671295747238638, 0.6453499264345925, 2.2568107680832337, -0.3669507344350065, 0.20390358935099281, -0.15796076969541709, 1.5945621137637829]</td>\n",
       "    </tr>\n",
       "    <tr>\n",
       "      <th>31</th>\n",
       "      <td>Giant (with Rag'n'Bone Man)</td>\n",
       "      <td>Calvin Harris', \"Rag'n'Bone Man\"</td>\n",
       "      <td>2019</td>\n",
       "      <td>[-0.43227389454841614, 1.261444091796875, 0.925396203994751, -0.29153648018836975, 0.3005582094192505, 0.8079017996788025, -0.7892948389053345, 0.09148834645748138, -0.1391611397266388, 0.4129541516304016, 0.8516017198562622, 0.40800946950912476, 0.44573575258255005, -0.40241071581840515, 0.06667100638151169, -1.2983707107976339, 1.5319803593319128, -0.01115662489635623, 1.518109463735573, -0.30920114813582733, -0.5333917975065642, -1.1947493795585982, -0.715962962623104, 1.2619123657161428, -1.5495469342051147, 2.1657261456855634, -0.38662899889844754, 0.16959908938329166, 0.29792500548908385, 1.6330902410257708]</td>\n",
       "    </tr>\n",
       "    <tr>\n",
       "      <th>32</th>\n",
       "      <td>Over Now (with The Weeknd)</td>\n",
       "      <td>Calvin Harris, The Weeknd</td>\n",
       "      <td>2020</td>\n",
       "      <td>[-0.527075469493866, 1.4616725444793701, 1.2064813375473022, -0.13955435156822205, 0.5352884531021118, 0.5153188705444336, -1.0257267951965332, 0.1606898158788681, -0.014632228761911392, 0.04046636074781418, 0.8984465003013611, 0.6045175194740295, 1.0271177291870117, -0.3147231638431549, 0.3803408741950989, -1.139091418205994, 0.426522623342763, -0.15655516840151656, 1.5069003558709175, 3.2341406428378603, -0.530788665396264, -0.34151414256836615, 0.22930738558780678, 1.296654623225947, -1.5495469342051147, 2.2568107680832337, -0.3311720717742045, 1.991411908521087, 0.5752555187263222, 1.671618368287759]</td>\n",
       "    </tr>\n",
       "  </tbody>\n",
       "</table>\n",
       "</div>"
      ],
      "text/plain": [
       "                                                 song_name  \\\n",
       "0                                                Flashback   \n",
       "1                                      You Used To Hold Me   \n",
       "2                               I'm Not Alone - Radio Edit   \n",
       "3                                            We Found Love   \n",
       "4                                Dance Wiv Me - Radio Edit   \n",
       "5                               Feel So Close - Radio Edit   \n",
       "6                     Sweet Nothing (feat. Florence Welch)   \n",
       "7                  I Need Your Love (feat. Ellie Goulding)   \n",
       "8                                   Let's Go (feat. Ne-Yo)   \n",
       "9                    Thinking About You (feat. Ayah Marar)   \n",
       "10            Spectrum (Say My Name) - Calvin Harris Remix   \n",
       "11                       Bounce (feat. Kelis) - Radio Edit   \n",
       "12                    We'll Be Coming Back (feat. Example)   \n",
       "13           Drinking from the Bottle (feat. Tinie Tempah)   \n",
       "14                                                  Summer   \n",
       "15                          Outside (feat. Ellie Goulding)   \n",
       "16                               Blame (feat. John Newman)   \n",
       "17                             Under Control (feat. Hurts)   \n",
       "18                                Pray to God (feat. HAIM)   \n",
       "19                              Open Wide (feat. Big Sean)   \n",
       "20                                   How Deep Is Your Love   \n",
       "21               This Is What You Came For (feat. Rihanna)   \n",
       "22                            The Weekend - Funk Wav Remix   \n",
       "23                       Slide (feat. Frank Ocean & Migos)   \n",
       "24  Feels (feat. Pharrell Williams, Katy Perry & Big Sean)   \n",
       "25                          Rollin (feat. Future & Khalid)   \n",
       "26                       Slide (feat. Frank Ocean & Migos)   \n",
       "27                  Faking It (feat. Kehlani & Lil Yachty)   \n",
       "28                          Rollin (feat. Future & Khalid)   \n",
       "29                                One Kiss (with Dua Lipa)   \n",
       "30                               Promises (with Sam Smith)   \n",
       "31                             Giant (with Rag'n'Bone Man)   \n",
       "32                              Over Now (with The Weeknd)   \n",
       "\n",
       "                                                        song_artists  \\\n",
       "0                                                      Calvin Harris   \n",
       "1                                                      Calvin Harris   \n",
       "2                                                      Calvin Harris   \n",
       "3                                             Rihanna, Calvin Harris   \n",
       "4                               Dizzee Rascal, Calvin Harris, Chrome   \n",
       "5                                                      Calvin Harris   \n",
       "6                                      Calvin Harris, Florence Welch   \n",
       "7                                      Calvin Harris, Ellie Goulding   \n",
       "8                                               Calvin Harris, Ne-Yo   \n",
       "9                                          Calvin Harris, Ayah Marar   \n",
       "10                             Florence + The Machine, Calvin Harris   \n",
       "11                                              Calvin Harris, Kelis   \n",
       "12                                            Calvin Harris, Example   \n",
       "13                                       Calvin Harris, Tinie Tempah   \n",
       "14                                                     Calvin Harris   \n",
       "15                                     Calvin Harris, Ellie Goulding   \n",
       "16                                        Calvin Harris, John Newman   \n",
       "17                                      Calvin Harris, Alesso, Hurts   \n",
       "18                                               Calvin Harris, HAIM   \n",
       "19                                           Calvin Harris, Big Sean   \n",
       "20                                          Calvin Harris, Disciples   \n",
       "21                                            Calvin Harris, Rihanna   \n",
       "22                                      SZA, Calvin Harris, Funk Wav   \n",
       "23                                 Calvin Harris, Frank Ocean, Migos   \n",
       "24  Calvin Harris, Pharrell Williams, Katy Perry, Big Sean, Funk Wav   \n",
       "25                                     Calvin Harris, Future, Khalid   \n",
       "26                       Calvin Harris, Frank Ocean, Migos, Funk Wav   \n",
       "27                      Calvin Harris, Kehlani, Lil Yachty, Funk Wav   \n",
       "28                           Calvin Harris, Future, Khalid, Funk Wav   \n",
       "29                                           Calvin Harris, Dua Lipa   \n",
       "30                            Calvin Harris, Sam Smith, Jessie Reyez   \n",
       "31                                  Calvin Harris', \"Rag'n'Bone Man\"   \n",
       "32                                         Calvin Harris, The Weeknd   \n",
       "\n",
       "    song_year  \\\n",
       "0        2009   \n",
       "1        2009   \n",
       "2        2009   \n",
       "3        2011   \n",
       "4        2011   \n",
       "5        2012   \n",
       "6        2012   \n",
       "7        2012   \n",
       "8        2012   \n",
       "9        2012   \n",
       "10       2012   \n",
       "11       2012   \n",
       "12       2012   \n",
       "13       2012   \n",
       "14       2014   \n",
       "15       2014   \n",
       "16       2014   \n",
       "17       2014   \n",
       "18       2014   \n",
       "19       2014   \n",
       "20       2015   \n",
       "21       2016   \n",
       "22       2017   \n",
       "23       2017   \n",
       "24       2017   \n",
       "25       2017   \n",
       "26       2017   \n",
       "27       2017   \n",
       "28       2017   \n",
       "29       2018   \n",
       "30       2018   \n",
       "31       2019   \n",
       "32       2020   \n",
       "\n",
       "                                                                                                                                                                                                                                                                                                                                                                                                                                                                                                                                                                                                                                         song_embeddings  \n",
       "0           [-0.4177802801132202, 1.1748639345169067, 0.6881563663482666, 0.013721980154514313, 0.9479737281799316, 0.3897114396095276, -0.6866428852081299, -0.019070934504270554, 0.014673478901386261, 0.21349138021469116, 0.4838828444480896, 0.747475266456604, 1.0940808057785034, -0.06278841197490692, 0.4147791266441345, -1.3351724705550345, -1.5406252453148515, -0.011030115749796733, 1.7460279903169027, -0.30920114813582733, -0.531394044956799, 1.080544585748687, -0.7039975151773963, 1.0250333372402045, -1.5495469342051147, 0.7539144985216722, -0.3073196300003366, 0.36420802995835594, -1.2520866301382192, 1.24780896840589]  \n",
       "1             [-0.1804826855659485, 1.3096168041229248, 1.0537090301513672, -0.13217858970165253, 0.7977455258369446, 0.44970786571502686, -1.2015180587768555, 0.3313247561454773, 0.05825001373887062, 0.05978407338261604, 1.5313469171524048, 0.1717090904712677, 1.2571277618408203, 0.007039185613393784, 0.279476523399353, -1.2794911953151524, 0.46053670752704456, 0.0042537705189223335, 1.8244917453694918, -0.30920114813582733, -0.5349904137534441, 1.6493680770755084, 0.6224578016610608, 0.9587072092669416, -1.5495469342051147, 0.5717452537263314, -0.3556208245924191, 0.39555356357813237, -1.2824790151505194, 1.24780896840589]  \n",
       "2               [-0.3499296307563782, 1.244738221168518, 0.9763027429580688, -0.14675182104110718, 0.7054509520530701, 0.5618191957473755, -1.0987207889556885, 0.4011222720146179, 0.022020503878593445, 0.24286241829395294, 1.2122381925582886, 0.3463975787162781, 1.0734851360321045, -0.2579449713230133, 0.26039785146713257, -1.3273547556932748, 0.30747332869777755, -0.14913856968446612, 0.7932538218211799, -0.30920114813582733, -0.14309084999684657, 0.5117210944218658, 0.491407662969976, 0.8665875870818543, 0.6453499264345925, 0.3895760089309906, -0.4110777517166621, 0.46191895166730623, -0.3631093685284425, 1.24780896840589]  \n",
       "3             [-0.22046250104904175, 1.4409897327423096, 1.0603516101837158, -0.15190696716308594, 0.7062567472457886, 0.4542839527130127, -1.1391438245773315, 0.2879817485809326, 0.00519922748208046, 0.17919489741325378, 1.0258654356002808, 0.5709000825881958, 1.2584115266799927, -0.15058273077011108, 0.18762657046318054, -1.2744389306085728, 1.1181423350898205, -0.12151213480453628, 1.0660087798611322, -0.30920114813582733, -0.5305974929034635, -1.1947493795585982, -0.562691278675705, 1.2313812909347996, 0.6453499264345925, 1.9835569008902227, -0.3735101559228201, 0.36375280436636764, 0.2751307167298588, 1.324865222929866]  \n",
       "4              [-0.4587083160877228, 1.0718482732772827, 0.7888512015342712, -0.19494929909706116, 0.5652546286582947, 0.5162851810455322, -0.7239663004875183, 0.22776807844638824, -0.27129143476486206, 0.2589092552661896, 0.6417447924613953, 0.29954248666763306, 0.8052375912666321, -0.016278591006994247, 0.2674573063850403, -1.2143435714671529, 1.9344803555125771, -0.2095466871666253, 0.9912813940967616, -0.30920114813582733, -0.534994460237875, 1.6493680770755084, -0.3005910012935356, 1.2671763441267194, 0.6453499264345925, 1.5281337889018707, -0.3329610049072446, -0.1561798539118747, 1.0045479570250604, 1.324865222929866]  \n",
       "5             [-0.3422718048095703, 1.2694331407546997, 0.8576171398162842, -0.13317301869392395, 0.7552549839019775, 0.6506489515304565, -1.012566328048706, 0.3336513340473175, -0.20709870755672455, 0.23876579105854034, 1.074584722518921, 0.40791648626327515, 1.2946882247924805, -0.191492959856987, 0.43210864067077637, -1.3383314655399907, 0.9650789562605536, -0.19120286091549843, 1.6563551273996584, -0.30920114813582733, -0.5125954164980829, 0.5117210944218658, -0.015699395443351603, 1.5196718418873678, 0.6453499264345925, 2.2112684568843988, -0.41704086216012914, 0.36215951479440783, 1.487027069095324, 1.3633933501918543]  \n",
       "6          [-0.46716997027397156, 1.4698059558868408, 1.016045331954956, -0.22955338656902313, 0.5113517642021179, 0.26787707209587097, -0.9305496215820312, 0.19582697749137878, -0.04030229523777962, 0.1288902312517166, 0.8014378547668457, 0.657159149646759, 0.9475064873695374, -0.1644292026758194, 0.12405990809202194, -0.8170760203287379, 0.20543107614493292, -0.1425996281716722, 1.6750369738407511, -0.30920114813582733, -0.5346376049179807, 0.7961328400852764, -0.8549900662779938, 1.3266593001662328, -1.5495469342051147, 1.8469299672937172, 0.048081752430295825, 0.36206196645326744, 0.20674785045218355, 1.3633933501918543]  \n",
       "7               [-0.3980206549167633, 1.5604792833328247, 0.9707034826278687, -0.20712758600711823, 0.5511788725852966, 0.23450858891010284, -0.9228985905647278, 0.22432084381580353, 0.12286277115345001, 0.23793652653694153, 0.9756612181663513, 0.3520347476005554, 1.0758312940597534, -0.2533856928348541, 0.1876349002122879, -0.2506905558542914, 0.8970507878919904, 0.03093138679965598, 1.4508548165476396, -0.30920114813582733, -0.534994460237875, 0.7961328400852764, 0.1723290644177699, 1.1294355757166366, 0.6453499264345925, 1.8013876560948818, -0.31387905148815026, 0.2663020115671249, 0.19914975419910855, 1.3633933501918543]  \n",
       "8            [-0.44666704535484314, 1.6260087490081787, 1.093656301498413, -0.414266437292099, 0.3919946849346161, 0.4949374496936798, -0.9291890263557434, 0.20859210193157196, 0.08626531064510345, 0.2943715453147888, 0.9521690011024475, 0.42693525552749634, 1.0828033685684204, -0.2554343342781067, 0.18166345357894897, -1.3202549942371866, 0.9820859983526944, 0.017434442226089787, 1.4994276172944805, -0.30920114813582733, -0.5104287949130105, -0.34151414256836615, 0.4971054950869797, 1.5038799066556385, -1.5495469342051147, 1.5736761001007058, -0.24709221452132002, 0.36472828777777105, 1.3198689515276736, 1.3633933501918543]  \n",
       "9                  [-0.3359251022338867, 1.3295100927352905, 0.7712640762329102, -0.15644732117652893, 0.4330350458621979, 0.34193432331085205, -0.7868435382843018, 0.21514126658439636, 0.036307867616415024, 0.30485799908638, 0.7842575311660767, 0.39300742745399475, 0.8902987837791443, -0.1127651110291481, 0.11857234686613083, -1.333949290678705, 1.0671212088133983, 0.13708837440639277, 1.4695366629887323, -0.30920114813582733, -0.5336817424539783, -1.4791611252220087, -0.6322048305031499, 1.3664900701395943, -1.5495469342051147, 1.6192184112995411, -0.365758112346313, 0.363720288252654, 0.83738983945741, 1.3633933501918543]  \n",
       "10         [-0.4551146924495697, 1.3833825588226318, 1.1262145042419434, -0.08172603696584702, 0.7477717995643616, 0.3381880819797516, -0.9005046486854553, 0.23503926396369934, -0.10083349049091339, -0.022722430527210236, 0.9179242253303528, 0.7581401467323303, 1.0869097709655762, -0.1468767523765564, 0.3763645589351654, -1.334933152753144, 0.23377614629850088, -0.09808422222604968, 1.7385552517404657, -0.30920114813582733, -0.5218672823989072, 1.6493680770755084, -0.627646564809547, 1.3428021672920005, -1.5495469342051147, 0.936083743317013, -0.31447536253249697, 0.30216728499307227, 0.22954213921140862, 1.3633933501918543]  \n",
       "11             [-0.5482932329177856, 1.4989278316497803, 0.9464470744132996, -0.26611295342445374, 0.4508720934391022, 0.40328389406204224, -0.7756748795509338, 0.17093780636787415, -0.0997968316078186, 0.3599936366081238, 0.5924645662307739, 0.4644133150577545, 1.0361995697021484, -0.17987921833992004, 0.3233492076396942, -1.2521026024321158, 1.3732479664719321, -0.06648065605115566, 1.8020735296401804, -0.30920114813582733, 1.0358061889395804, -0.9103376338951874, 2.605303378378342, 1.6454809259001442, -1.5495469342051147, 1.4370491665042002, -0.36396917921327293, 0.3622895792492618, 0.8791793688493226, 1.3633933501918543]  \n",
       "12              [-0.32255759835243225, 1.4080992937088013, 0.9990494251251221, -0.20599889755249023, 0.5074703693389893, 0.46566805243492126, -1.0416209697723389, 0.2794031500816345, 0.06899786740541458, 0.1606384664773941, 0.9983592629432678, 0.3025132119655609, 1.1002306938171387, -0.1926266849040985, 0.040876682847738266, -1.337432694239557, 0.3358183988513455, 0.02976908401564061, 1.7609734674697768, -0.30920114813582733, -0.534994460237875, 0.5117210944218658, 2.2292464586560987, 1.2526126705241245, 0.6453499264345925, 1.5281337889018707, -0.08131774419293777, 0.3624196437041154, 0.16495832106027095, 1.3633933501918543]  \n",
       "13          [-0.4916611909866333, 1.324865698814392, 0.9082754850387573, -0.18282833695411682, 0.47144946455955505, 0.3654361665248871, -0.7539269328117371, 0.11492204666137695, -0.06505227088928223, 0.18832656741142273, 0.6951460838317871, 0.4429301619529724, 0.6989584565162659, -0.23106196522712708, 0.13517031073570251, -1.2162049321485242, 0.7269803669705833, 0.07710722529387189, 1.5143730944473546, -0.30920114813582733, -0.5347956408453626, 1.080544585748687, -0.8789209611694093, 1.2857757345107559, -1.5495469342051147, 1.4370491665042002, -0.2953934091134026, 0.3662240290085909, 0.009197347872233395, 1.3633933501918543]  \n",
       "14           [-0.4880185127258301, 1.3927910327911377, 1.0464969873428345, 0.1108192652463913, 0.9500789642333984, 0.36835113167762756, -0.9142218828201294, 0.040910761803388596, -0.15625670552253723, 0.09858031570911407, 0.7263961434364319, 0.8162397146224976, 1.4721590280532837, -0.3058445155620575, 0.5858486890792847, -1.2848093686904993, 0.3358183988513455, -0.06374489575680657, 1.402282015800799, -0.30920114813582733, -0.4782799540403928, -0.34151414256836615, -0.3746628188145835, 1.3943891557156491, -1.5495469342051147, 2.2112684568843988, -0.395573664563648, 0.36254970815896936, 0.8183945988247224, 1.4404496047158304]  \n",
       "15          [-0.4897095561027527, 1.5699653625488281, 0.8926101326942444, -0.29120108485221863, 0.5620771050453186, 0.26164066791534424, -0.7117010951042175, 0.05555526912212372, 0.0710374265909195, 0.24435575306415558, 0.7196646332740784, 0.49324357509613037, 1.0745488405227661, -0.2406628280878067, 0.23750033974647522, -0.7745306333259627, 0.6192691003870251, -0.026314002018515803, 1.2789818292895876, -0.30920114813582733, -0.534994460237875, -0.9103376338951874, 0.656644794363083, 1.294899963755755, -1.5495469342051147, 2.2112684568843988, -0.3669507344350065, 0.36534609393832695, -0.41629604229996764, 1.4404496047158304]  \n",
       "16             [-0.6523669362068176, 1.6097309589385986, 1.0638433694839478, -0.09408582001924515, 0.790378212928772, 0.35893714427948, -1.1581063270568848, -0.06857531517744064, -0.03143932670354843, 0.3122243285179138, 0.581253170967102, 0.5099432468414307, 1.0311068296432495, -0.287195086479187, 0.34546977281570435, -1.2646003098641811, -0.6959421547385273, -0.13943689950768481, 1.4060183850890173, -0.30920114813582733, -0.5167056250932938, -1.4791611252220087, 0.7762992688201603, 1.3027959313716195, -1.5495469342051147, 2.029099212089058, -0.12007796207547321, 0.36498841668747906, -0.6822294111575933, 1.4404496047158304]  \n",
       "17           [-0.4686965048313141, 1.5294214487075806, 0.9410881400108337, -0.2656065821647644, 0.46868619322776794, 0.4293307363986969, -0.824219286441803, 0.19933249056339264, 0.002304652938619256, 0.2634362578392029, 0.7864428162574768, 0.5416689515113831, 0.97646564245224, -0.06533084809780121, 0.2580253481864929, -0.9978939150905332, 0.041029669254239384, -0.3662045447155807, 1.6227278038056918, -0.30920114813582733, -0.5320822659308807, 0.7961328400852764, -0.5228064538566791, 1.4208845137155506, 0.6453499264345925, 1.8924722784925523, -0.10039969761203217, 0.30223231722049904, -0.06678361465851683, 1.4404496047158304]  \n",
       "18      [-0.47382694482803345, 1.440103530883789, 0.8968604803085327, -0.20529291033744812, 0.44083479046821594, 0.32500001788139343, -0.8627090454101562, 0.1558535099029541, 0.07797694206237793, 0.1602782905101776, 0.7797490358352661, 0.5130726099014282, 0.9323323965072632, -0.16953730583190918, 0.11000072956085205, -1.3010297974853073, 0.39250853915848144, 0.012903833414927847, 1.7497643596051211, -0.30920114813582733, -0.5349065208911868, 0.5117210944218658, -0.5569934465587013, 1.5359901749601546, -1.5495469342051147, 1.4370491665042002, -0.35502451354807246, 0.10508711977578511, -0.34791317602229244, 1.4404496047158304]  \n",
       "19                   [-0.44009193778038025, 1.76226007938385, 1.1988070011138916, -0.2178504914045334, 0.5418226718902588, 0.26122957468032837, -0.7820425033569336, 0.01647438481450081, 0.0030186313670128584, 0.29939842224121094, 0.8628336191177368, 0.7391980290412903, 1.1117851734161377, -0.30600982904434204, 0.4093456268310547, -1.155311847000802, 1.265536699888374, -0.34037295835246373, 1.72734614387581, 3.2341406428378603, -0.534994460237875, -1.1947493795585982, 1.8133047141148304, 1.5440616085230388, 0.6453499264345925, 1.2548799217088595, -0.3854363768097541, 0.3634276432292329, 0.6018488556120847, 1.4404496047158304]  \n",
       "20             [-0.36919039487838745, 1.2596304416656494, 1.0158846378326416, -0.04599088802933693, 0.6566837430000305, 0.4178955554962158, -1.1075621843338013, 0.2440832406282425, -0.14452853798866272, 0.033575572073459625, 1.1771844625473022, 0.5143554210662842, 1.0139976739883423, -0.13899853825569153, 0.2763204574584961, -1.2374776256499118, 1.140818391212675, -0.14196708243887474, 1.4471184472594212, -0.30920114813582733, -0.5295460441930607, 1.6493680770755084, 1.0327017140853259, 1.2510334770009517, -1.5495469342051147, 2.074641523287893, -0.165993912490169, 0.1692088960187301, -0.7278179886760432, 1.4789777319778186]  \n",
       "21    [-0.39501821994781494, 1.6083414554595947, 1.1514337062835693, -0.1512695997953415, 0.36674046516418457, 0.44356778264045715, -1.1958787441253662, 0.30384552478790283, 0.025916293263435364, 0.14286206662654877, 1.1240661144256592, 0.3800697922706604, 1.1040403842926025, -0.26072946190834045, 0.17856277525424957, -0.811757846953391, 0.5285648758956076, -0.06669414023597482, 1.6713006045525325, -0.30920114813582733, -0.13990464178350487, 1.080544585748687, -0.33477799399555774, 1.5293224689734244, -1.5495469342051147, 2.1657261456855634, -0.40451833022884853, 0.23294047889711353, -0.23774078035270463, 1.5175058592398065]  \n",
       "22            [-0.5717301368713379, 1.1210581064224243, 0.8564850687980652, -0.16034497320652008, 0.5688947439193726, 0.46051207184791565, -0.6566710472106934, 0.14956511557102203, -0.23121485114097595, 0.17447973787784576, 0.6048105955123901, 0.6742080450057983, 1.0338671207427979, -0.0969606563448906, 0.27382224798202515, -0.02466818740204738, 1.3505719103490779, -0.46483423810202756, 0.3448895072349573, -0.30920114813582733, -0.534994460237875, 1.6493680770755084, -0.46013030056963866, 1.152772546670192, 0.6453499264345925, 2.029099212089058, -0.253055324964787, -0.48364963512014075, 0.529666941207872, 1.5560339865017947]  \n",
       "23  [-0.7661330103874207, 1.5214853286743164, 1.1032226085662842, -0.28174737095832825, 0.49193069338798523, 0.2942112684249878, -0.9044767022132874, -0.021584870293736458, -0.018846429884433746, 0.09597235172986984, 0.6720815896987915, 0.6422156095504761, 1.322472333908081, -0.053187400102615356, 0.3116898238658905, -0.016690927339026995, 1.1294803631512478, 0.0017235875877324204, 1.1743634892194692, 3.2341406428378603, -0.5349906049259369, -1.1947493795585982, 0.26919221040683255, 1.4394839040995873, -1.5495469342051147, 1.8924722784925523, -0.2769077667386549, -0.4140326356596205, -0.06298456653197931, 1.5560339865017947]  \n",
       "24               [-0.3526952862739563, 1.759653925895691, 1.200514554977417, -0.28091031312942505, 0.5146492123603821, 0.42372608184814453, -0.7893158793449402, -0.05972481518983841, -0.15717187523841858, 0.3994133174419403, 0.6084858179092407, 0.5392794609069824, 1.1312507390975952, -0.20143984258174896, 0.37428826093673706, -1.1702027324517734, 2.019515565973281, -0.05678689269603431, 0.9875450248085431, 3.2341406428378603, -0.534994460237875, 1.6493680770755084, -0.6407515786786554, 1.4735242978213146, -1.5495469342051147, 1.9835569008902227, -0.2614036795856408, -0.5131417502582498, 1.308471807148061, 1.5560339865017947]  \n",
       "25             [-0.4438738226890564, 1.7850409746170044, 1.0244078636169434, -0.4142773449420929, 0.5018102526664734, 0.27930381894111633, -0.6746247410774231, -0.04121283069252968, -0.02653452381491661, 0.3095360994338989, 0.7085129618644714, 0.6772722601890564, 1.12412428855896, -0.2609180808067322, 0.23977094888687134, -0.14432708834735297, 1.2315226157040924, 0.3326557013440531, 1.0510633027082579, 3.2341406428378603, -0.5347819401500451, 0.22730934875845515, 0.09825724689672213, 1.2312058249877804, -1.5495469342051147, 1.5736761001007058, -0.09562920925725853, -0.8063070314988148, 0.5524612299670971, 1.5560339865017947]  \n",
       "26      [-0.7595265507698059, 1.4282264709472656, 1.041591763496399, -0.2982432246208191, 0.465362548828125, 0.33768218755722046, -0.8599664568901062, 0.012871934100985527, -0.07398681342601776, 0.12011967599391937, 0.6228083372116089, 0.6240928173065186, 1.2596262693405151, -0.038431111723184586, 0.2671113908290863, -0.016690927339026995, 1.1294803631512478, 0.0017235875877324204, 1.1743634892194692, 3.2341406428378603, -0.5349906049259369, -1.1947493795585982, 0.26919221040683255, 1.4394839040995873, -1.5495469342051147, 1.6192184112995411, -0.2769077667386549, -0.4140326356596205, -0.06298456653197931, 1.5560339865017947]  \n",
       "27               [-0.39761361479759216, 1.6983751058578491, 0.999107837677002, -0.5045301914215088, 0.42755332589149475, 0.2733400762081146, -0.5620764493942261, -0.041728466749191284, -0.013983165845274925, 0.3422762453556061, 0.804722011089325, 0.5831785798072815, 1.1124651432037354, -0.19630081951618195, 0.12559163570404053, -0.49266744443257604, 1.3562409243797915, 0.0750988925922399, 0.4046714158464537, 3.2341406428378603, -0.534994460237875, 1.080544585748687, -0.7706621509463393, 1.2212042660076852, -1.5495469342051147, 1.391506855305365, 0.08386041509109778, 0.1051846681169255, 0.5334659893344095, 1.5560339865017947]  \n",
       "28          [-0.4902431070804596, 1.6374939680099487, 0.9690649509429932, -0.41051775217056274, 0.4706435203552246, 0.33008939027786255, -0.6634776592254639, 0.00034383393358439207, -0.086520254611969, 0.3007725477218628, 0.6476929187774658, 0.6512930393218994, 1.0873533487319946, -0.20990042388439178, 0.20222584903240204, -0.1549634350980468, 1.2258536016733788, 0.33254500584081353, 1.0435905641318208, 3.2341406428378603, -0.5348947319207974, 0.22730934875845515, -0.14105170201743256, 1.2255909146831656, -1.5495469342051147, 1.391506855305365, -0.08966609881379153, -0.807900321070774, 0.4916764599424969, 1.5560339865017947]  \n",
       "29              [-0.34655284881591797, 1.6190217733383179, 0.9963108897209167, -0.11858359724283218, 0.570472002029419, 0.3798311948776245, -0.6855773329734802, 0.2904907763004303, 0.12902766466140747, 0.19351264834403992, 0.7003583312034607, 0.5296660661697388, 0.9469909071922302, -0.08288334310054779, 0.30176079273223877, -1.2425298903564914, 1.4412761348404952, -0.12451672703532429, 1.42470023153011, -0.30920114813582733, -0.5349246822780028, 1.080544585748687, -0.7142536129880029, 1.4498363949737207, -1.5495469342051147, 2.302353079282069, 0.05404486287376281, 0.23394847842223102, 0.24473833171755868, 1.5945621137637829]  \n",
       "30          [-0.3491469621658325, 1.2356107234954834, 1.1113810539245605, -0.36937379837036133, 0.5717609524726868, 0.6566994786262512, -0.9636581540107727, -0.2644793689250946, -0.05469280108809471, 0.46834152936935425, 0.8193925023078918, 0.6093714833259583, 0.9770198464393616, 0.015042567625641823, 0.17665882408618927, -1.3092729662170952, 1.3845859945333594, -0.13667741874835582, 1.0734815184375692, -0.30920114813582733, -0.5349788159555475, 1.6493680770755084, 0.673738290714094, 0.9671295747238638, 0.6453499264345925, 2.2568107680832337, -0.3669507344350065, 0.20390358935099281, -0.15796076969541709, 1.5945621137637829]  \n",
       "31         [-0.43227389454841614, 1.261444091796875, 0.925396203994751, -0.29153648018836975, 0.3005582094192505, 0.8079017996788025, -0.7892948389053345, 0.09148834645748138, -0.1391611397266388, 0.4129541516304016, 0.8516017198562622, 0.40800946950912476, 0.44573575258255005, -0.40241071581840515, 0.06667100638151169, -1.2983707107976339, 1.5319803593319128, -0.01115662489635623, 1.518109463735573, -0.30920114813582733, -0.5333917975065642, -1.1947493795585982, -0.715962962623104, 1.2619123657161428, -1.5495469342051147, 2.1657261456855634, -0.38662899889844754, 0.16959908938329166, 0.29792500548908385, 1.6330902410257708]  \n",
       "32                   [-0.527075469493866, 1.4616725444793701, 1.2064813375473022, -0.13955435156822205, 0.5352884531021118, 0.5153188705444336, -1.0257267951965332, 0.1606898158788681, -0.014632228761911392, 0.04046636074781418, 0.8984465003013611, 0.6045175194740295, 1.0271177291870117, -0.3147231638431549, 0.3803408741950989, -1.139091418205994, 0.426522623342763, -0.15655516840151656, 1.5069003558709175, 3.2341406428378603, -0.530788665396264, -0.34151414256836615, 0.22930738558780678, 1.296654623225947, -1.5495469342051147, 2.2568107680832337, -0.3311720717742045, 1.991411908521087, 0.5752555187263222, 1.671618368287759]  "
      ]
     },
     "execution_count": 41,
     "metadata": {},
     "output_type": "execute_result"
    }
   ],
   "source": [
    "table.query(filter=[(\"like\", \"song_artists\", \"*Calvin Harris*\")], sort_by=\"song_year\")"
   ]
  },
  {
   "cell_type": "markdown",
   "id": "ea4f8da1",
   "metadata": {},
   "source": [
    "### Find A Specific Song"
   ]
  },
  {
   "cell_type": "markdown",
   "id": "1a8df467",
   "metadata": {},
   "source": [
    "We can filter this query further by looking for the song `We Found Love` by `Calvin Harris` in our dataset.\n",
    "\n",
    "This will only return one song as he only produced one song with this name."
   ]
  },
  {
   "cell_type": "code",
   "execution_count": 42,
   "id": "4e70a62b",
   "metadata": {},
   "outputs": [
    {
     "data": {
      "text/html": [
       "<div>\n",
       "<style scoped>\n",
       "    .dataframe tbody tr th:only-of-type {\n",
       "        vertical-align: middle;\n",
       "    }\n",
       "\n",
       "    .dataframe tbody tr th {\n",
       "        vertical-align: top;\n",
       "    }\n",
       "\n",
       "    .dataframe thead th {\n",
       "        text-align: right;\n",
       "    }\n",
       "</style>\n",
       "<table border=\"1\" class=\"dataframe\">\n",
       "  <thead>\n",
       "    <tr style=\"text-align: right;\">\n",
       "      <th></th>\n",
       "      <th>song_name</th>\n",
       "      <th>song_artists</th>\n",
       "      <th>song_year</th>\n",
       "      <th>song_embeddings</th>\n",
       "    </tr>\n",
       "  </thead>\n",
       "  <tbody>\n",
       "    <tr>\n",
       "      <th>0</th>\n",
       "      <td>We Found Love</td>\n",
       "      <td>Rihanna, Calvin Harris</td>\n",
       "      <td>2011</td>\n",
       "      <td>[-0.22046250104904175, 1.4409897327423096, 1.0603516101837158, -0.15190696716308594, 0.7062567472457886, 0.4542839527130127, -1.1391438245773315, 0.2879817485809326, 0.00519922748208046, 0.17919489741325378, 1.0258654356002808, 0.5709000825881958, 1.2584115266799927, -0.15058273077011108, 0.18762657046318054, -1.2744389306085728, 1.1181423350898205, -0.12151213480453628, 1.0660087798611322, -0.30920114813582733, -0.5305974929034635, -1.1947493795585982, -0.562691278675705, 1.2313812909347996, 0.6453499264345925, 1.9835569008902227, -0.3735101559228201, 0.36375280436636764, 0.2751307167298588, 1.324865222929866]</td>\n",
       "    </tr>\n",
       "  </tbody>\n",
       "</table>\n",
       "</div>"
      ],
      "text/plain": [
       "       song_name            song_artists  song_year  \\\n",
       "0  We Found Love  Rihanna, Calvin Harris       2011   \n",
       "\n",
       "                                                                                                                                                                                                                                                                                                                                                                                                                                                                                                                                                                                                                              song_embeddings  \n",
       "0  [-0.22046250104904175, 1.4409897327423096, 1.0603516101837158, -0.15190696716308594, 0.7062567472457886, 0.4542839527130127, -1.1391438245773315, 0.2879817485809326, 0.00519922748208046, 0.17919489741325378, 1.0258654356002808, 0.5709000825881958, 1.2584115266799927, -0.15058273077011108, 0.18762657046318054, -1.2744389306085728, 1.1181423350898205, -0.12151213480453628, 1.0660087798611322, -0.30920114813582733, -0.5305974929034635, -1.1947493795585982, -0.562691278675705, 1.2313812909347996, 0.6453499264345925, 1.9835569008902227, -0.3735101559228201, 0.36375280436636764, 0.2751307167298588, 1.324865222929866]  "
      ]
     },
     "execution_count": 42,
     "metadata": {},
     "output_type": "execute_result"
    }
   ],
   "source": [
    "table.query(\n",
    "    filter=[\n",
    "        (\"like\", \"song_artists\", \"*Calvin Harris*\"),\n",
    "        (\"like\", \"song_name\", \"*We Found Love*\"),\n",
    "    ]\n",
    ")"
   ]
  },
  {
   "cell_type": "markdown",
   "id": "f70fbb78",
   "metadata": {},
   "source": [
    "### Find Similar Songs To This Song"
   ]
  },
  {
   "cell_type": "markdown",
   "id": "d079845c",
   "metadata": {},
   "source": [
    "We can then copy and paste the vector associated with this song below and save it as the variable `my_vec`.\n",
    "\n",
    "We will then use KDB.AI's `.search()` function to find similar songs in the dataset to this song using this vector.\n",
    "We will pull out the 5 songs most similar to this song from the dataset.\n",
    "\n",
    "<div class=\"alert alert-block alert-warning\">\n",
    "    <b>Note: </b>\n",
    "    The most similar song will be \"We Found Love\" by \"Calvin Harris\" as this is the vector we are using for the search.\n",
    "</div>"
   ]
  },
  {
   "cell_type": "code",
   "execution_count": 43,
   "id": "7782270e",
   "metadata": {},
   "outputs": [],
   "source": [
    "my_vec = [-0.22046250104904175, 1.4409897327423096, 1.0603516101837158, -0.15190696716308594, 0.7062567472457886, 0.4542839527130127, -1.1391438245773315, 0.2879817485809326, 0.00519922748208046, 0.17919489741325378, 1.0258654356002808, 0.5709000825881958, 1.2584115266799927, -0.15058273077011108, 0.18762657046318054, -1.2744389306085728, 1.1181423350898205, -0.12151213480453628, 1.0660087798611322, -0.30920114813582733, -0.5305974929034635, -1.1947493795585982, -0.562691278675705, 1.2313812909347996, 0.6453499264345925, 1.9835569008902227, -0.3735101559228201, 0.36375280436636764, 0.2751307167298588, 1.324865222929866]"
   ]
  },
  {
   "cell_type": "code",
   "execution_count": 44,
   "id": "fbcc1335",
   "metadata": {},
   "outputs": [
    {
     "data": {
      "text/html": [
       "<div>\n",
       "<style scoped>\n",
       "    .dataframe tbody tr th:only-of-type {\n",
       "        vertical-align: middle;\n",
       "    }\n",
       "\n",
       "    .dataframe tbody tr th {\n",
       "        vertical-align: top;\n",
       "    }\n",
       "\n",
       "    .dataframe thead th {\n",
       "        text-align: right;\n",
       "    }\n",
       "</style>\n",
       "<table border=\"1\" class=\"dataframe\">\n",
       "  <thead>\n",
       "    <tr style=\"text-align: right;\">\n",
       "      <th></th>\n",
       "      <th>song_name</th>\n",
       "      <th>song_artists</th>\n",
       "      <th>song_year</th>\n",
       "      <th>song_embeddings</th>\n",
       "      <th>__nn_distance</th>\n",
       "    </tr>\n",
       "  </thead>\n",
       "  <tbody>\n",
       "    <tr>\n",
       "      <th>0</th>\n",
       "      <td>We Found Love</td>\n",
       "      <td>Rihanna, Calvin Harris</td>\n",
       "      <td>2011</td>\n",
       "      <td>[-0.22046250104904175, 1.4409897327423096, 1.0603516101837158, -0.15190696716308594, 0.7062567472457886, 0.4542839527130127, -1.1391438245773315, 0.2879817485809326, 0.00519922748208046, 0.17919489741325378, 1.0258654356002808, 0.5709000825881958, 1.2584115266799927, -0.15058273077011108, 0.18762657046318054, -1.2744389306085728, 1.1181423350898205, -0.12151213480453628, 1.0660087798611322, -0.30920114813582733, -0.5305974929034635, -1.1947493795585982, -0.562691278675705, 1.2313812909347996, 0.6453499264345925, 1.9835569008902227, -0.3735101559228201, 0.36375280436636764, 0.2751307167298588, 1.324865222929866]</td>\n",
       "      <td>0.000000</td>\n",
       "    </tr>\n",
       "    <tr>\n",
       "      <th>1</th>\n",
       "      <td>Bad At Love</td>\n",
       "      <td>Halsey</td>\n",
       "      <td>2017</td>\n",
       "      <td>[-0.20234839618206024, 1.2302510738372803, 1.3452625274658203, 0.19579169154167175, 0.3654645085334778, 0.6483091115951538, -1.0885369777679443, 0.4906502664089203, -0.1202155128121376, 0.16909970343112946, 1.3230335712432861, 0.5799967050552368, 0.8773004412651062, -0.06735996901988983, 0.3701416254043579, -1.1803072618649324, 0.7836705072777193, -0.3899329165171462, 1.0099632405378542, -0.30920114813582733, -0.534994460237875, -1.4791611252220087, -0.6692407392636738, 1.397372076814976, 0.6453499264345925, 1.9380145896913874, -0.4253892167809829, 0.051533080489714604, 0.3207192942483089, 1.5560339865017947]</td>\n",
       "      <td>1.207436</td>\n",
       "    </tr>\n",
       "    <tr>\n",
       "      <th>2</th>\n",
       "      <td>Sweet but Psycho</td>\n",
       "      <td>Ava Max</td>\n",
       "      <td>2020</td>\n",
       "      <td>[-0.22328363358974457, 1.0351508855819702, 0.9286673069000244, -0.19666792452335358, 0.6260932087898254, 0.5847731232643127, -1.0783933401107788, 0.35929977893829346, -0.19377990067005157, 0.5673081278800964, 0.9074316620826721, 0.620949923992157, 0.761772096157074, -0.33370736241340637, 0.021074196323752403, -1.1590345683635448, 1.0387761386598302, -0.34125061555672026, 0.8418266225680207, -0.30920114813582733, -0.534994460237875, -1.1947493795585982, -0.23221701588949137, 1.1903222593323037, 0.6453499264345925, 2.3934377016797397, -0.31984216193161724, 0.5268536307530883, 0.351111679260609, 1.671618368287759]</td>\n",
       "      <td>1.283543</td>\n",
       "    </tr>\n",
       "    <tr>\n",
       "      <th>3</th>\n",
       "      <td>No One Compares To You</td>\n",
       "      <td>Jack &amp; Jack</td>\n",
       "      <td>2019</td>\n",
       "      <td>[-0.3724234402179718, 1.1231266260147095, 1.107741355895996, -0.12134488672018051, 0.4830331802368164, 0.33535465598106384, -1.0928318500518799, 0.0477365180850029, -0.20143654942512512, 0.27681055665016174, 1.4722427129745483, 0.39361679553985596, 0.8545140027999878, -0.1336672306060791, 0.26146382093429565, -1.0032120884658802, 0.9253958580455585, -0.3769578221731379, 0.9987541326731987, -0.30920114813582733, -0.534994460237875, -1.1947493795585982, -0.6418911451020561, 0.9578298795318455, 0.6453499264345925, 1.8924722784925523, -0.3430982926611385, -0.15803327239354203, 0.3929012086525216, 1.6330902410257708]</td>\n",
       "      <td>1.354893</td>\n",
       "    </tr>\n",
       "    <tr>\n",
       "      <th>4</th>\n",
       "      <td>Stay Gold</td>\n",
       "      <td>BTS</td>\n",
       "      <td>2020</td>\n",
       "      <td>[-0.20532099902629852, 1.0667123794555664, 0.8290035128593445, -0.034996382892131805, 0.5100072026252747, 0.7065194249153137, -1.0525459051132202, 0.2753138542175293, -0.44233986735343933, 0.25172123312950134, 1.1644545793533325, 0.42643532156944275, 0.771487832069397, -0.2981712222099304, 0.29280340671539307, -1.103725565259937, 1.055783180751971, 0.10019514454097984, 0.5728080338162873, -0.30920114813582733, -0.534994460237875, -1.1947493795585982, -0.7296377597039129, 1.068197960206931, 0.6453499264345925, 2.2112684568843988, -0.27869669987169504, 0.3972769176049457, 0.20674785045218355, 1.671618368287759]</td>\n",
       "      <td>1.399699</td>\n",
       "    </tr>\n",
       "  </tbody>\n",
       "</table>\n",
       "</div>"
      ],
      "text/plain": [
       "                song_name            song_artists  song_year  \\\n",
       "0           We Found Love  Rihanna, Calvin Harris       2011   \n",
       "1             Bad At Love                  Halsey       2017   \n",
       "2        Sweet but Psycho                 Ava Max       2020   \n",
       "3  No One Compares To You             Jack & Jack       2019   \n",
       "4               Stay Gold                     BTS       2020   \n",
       "\n",
       "                                                                                                                                                                                                                                                                                                                                                                                                                                                                                                                                                                                                                               song_embeddings  \\\n",
       "0   [-0.22046250104904175, 1.4409897327423096, 1.0603516101837158, -0.15190696716308594, 0.7062567472457886, 0.4542839527130127, -1.1391438245773315, 0.2879817485809326, 0.00519922748208046, 0.17919489741325378, 1.0258654356002808, 0.5709000825881958, 1.2584115266799927, -0.15058273077011108, 0.18762657046318054, -1.2744389306085728, 1.1181423350898205, -0.12151213480453628, 1.0660087798611322, -0.30920114813582733, -0.5305974929034635, -1.1947493795585982, -0.562691278675705, 1.2313812909347996, 0.6453499264345925, 1.9835569008902227, -0.3735101559228201, 0.36375280436636764, 0.2751307167298588, 1.324865222929866]   \n",
       "1     [-0.20234839618206024, 1.2302510738372803, 1.3452625274658203, 0.19579169154167175, 0.3654645085334778, 0.6483091115951538, -1.0885369777679443, 0.4906502664089203, -0.1202155128121376, 0.16909970343112946, 1.3230335712432861, 0.5799967050552368, 0.8773004412651062, -0.06735996901988983, 0.3701416254043579, -1.1803072618649324, 0.7836705072777193, -0.3899329165171462, 1.0099632405378542, -0.30920114813582733, -0.534994460237875, -1.4791611252220087, -0.6692407392636738, 1.397372076814976, 0.6453499264345925, 1.9380145896913874, -0.4253892167809829, 0.051533080489714604, 0.3207192942483089, 1.5560339865017947]   \n",
       "2   [-0.22328363358974457, 1.0351508855819702, 0.9286673069000244, -0.19666792452335358, 0.6260932087898254, 0.5847731232643127, -1.0783933401107788, 0.35929977893829346, -0.19377990067005157, 0.5673081278800964, 0.9074316620826721, 0.620949923992157, 0.761772096157074, -0.33370736241340637, 0.021074196323752403, -1.1590345683635448, 1.0387761386598302, -0.34125061555672026, 0.8418266225680207, -0.30920114813582733, -0.534994460237875, -1.1947493795585982, -0.23221701588949137, 1.1903222593323037, 0.6453499264345925, 2.3934377016797397, -0.31984216193161724, 0.5268536307530883, 0.351111679260609, 1.671618368287759]   \n",
       "3  [-0.3724234402179718, 1.1231266260147095, 1.107741355895996, -0.12134488672018051, 0.4830331802368164, 0.33535465598106384, -1.0928318500518799, 0.0477365180850029, -0.20143654942512512, 0.27681055665016174, 1.4722427129745483, 0.39361679553985596, 0.8545140027999878, -0.1336672306060791, 0.26146382093429565, -1.0032120884658802, 0.9253958580455585, -0.3769578221731379, 0.9987541326731987, -0.30920114813582733, -0.534994460237875, -1.1947493795585982, -0.6418911451020561, 0.9578298795318455, 0.6453499264345925, 1.8924722784925523, -0.3430982926611385, -0.15803327239354203, 0.3929012086525216, 1.6330902410257708]   \n",
       "4     [-0.20532099902629852, 1.0667123794555664, 0.8290035128593445, -0.034996382892131805, 0.5100072026252747, 0.7065194249153137, -1.0525459051132202, 0.2753138542175293, -0.44233986735343933, 0.25172123312950134, 1.1644545793533325, 0.42643532156944275, 0.771487832069397, -0.2981712222099304, 0.29280340671539307, -1.103725565259937, 1.055783180751971, 0.10019514454097984, 0.5728080338162873, -0.30920114813582733, -0.534994460237875, -1.1947493795585982, -0.7296377597039129, 1.068197960206931, 0.6453499264345925, 2.2112684568843988, -0.27869669987169504, 0.3972769176049457, 0.20674785045218355, 1.671618368287759]   \n",
       "\n",
       "   __nn_distance  \n",
       "0       0.000000  \n",
       "1       1.207436  \n",
       "2       1.283543  \n",
       "3       1.354893  \n",
       "4       1.399699  "
      ]
     },
     "execution_count": 44,
     "metadata": {},
     "output_type": "execute_result"
    }
   ],
   "source": [
    "table.search(vectors=[my_vec], n=5)[0]"
   ]
  },
  {
   "cell_type": "markdown",
   "id": "8826521d",
   "metadata": {},
   "source": [
    "### Automate This Song Similarity Search Process"
   ]
  },
  {
   "cell_type": "markdown",
   "id": "63d21923",
   "metadata": {},
   "source": [
    "We can define a function to automate this process and find songs which are the most similar to any input song.\n",
    "This will allow us to use the KDB.AI vector database in a more production-like setting to perform similarity search and music recommendation."
   ]
  },
  {
   "cell_type": "code",
   "execution_count": 45,
   "id": "36709ce9",
   "metadata": {},
   "outputs": [],
   "source": [
    "def find_similar_songs(\n",
    "    vectorDB_song_tab,\n",
    "    song_name: str,\n",
    "    song_artists: list[str] = None,\n",
    "    song_year: int = None,\n",
    "    n_similar: int = 5,\n",
    "    exact: bool = False,\n",
    ") -> None:\n",
    "    # create filter list\n",
    "    filter_list = [(\"like\", \"song_name\", f\"{song_name}\" if exact else f\"*{song_name}*\")]\n",
    "    if song_artists:\n",
    "        if type(song_artists) == str:\n",
    "            song_artists = list(song_artists)\n",
    "        for artist in song_artists:\n",
    "            filter_list.append((\"like\", \"song_artists\", f\"*{artist}*\"))\n",
    "    if song_year:\n",
    "        filter_list.append((\"like\", \"song_year\", f\"{song_year}\"))\n",
    "\n",
    "    # find songs liks this in vector DB\n",
    "    resulting_song = vectorDB_song_tab.query(filter=filter_list, sort_by=\"song_year\")\n",
    "\n",
    "    # quality check\n",
    "    if resulting_song.empty:\n",
    "        print(\n",
    "            \"Song Not Found! Please double check the values entered or try another song\"\n",
    "        )\n",
    "        return\n",
    "\n",
    "    # find vectors associated with these songs\n",
    "    resulting_vectors = [v.tolist() for v in resulting_song[\"song_embeddings\"]]\n",
    "\n",
    "    # search for similar songs to selected songs\n",
    "    similar_songs = vectorDB_song_tab.search(vectors=resulting_vectors, n=n_similar + 1)\n",
    "\n",
    "    # process similar song table\n",
    "    for i, similar_df in enumerate(similar_songs):\n",
    "        name = resulting_song.loc[i, \"song_name\"]\n",
    "        artists = resulting_song.loc[i, \"song_artists\"]\n",
    "        year = resulting_song.loc[i, \"song_year\"]\n",
    "        print(f\"Songs Similar To '{name}' By '{artists}' ({year})\")\n",
    "        for j, song in similar_df[1:].iterrows():\n",
    "            print(\n",
    "                f\"   {j}. {song['song_name']} - {song['song_artists']} ({song['song_year']})\"\n",
    "            )\n",
    "        print()"
   ]
  },
  {
   "cell_type": "markdown",
   "id": "cb3a16f9",
   "metadata": {},
   "source": [
    "##### Songs by multiple artists\n",
    "\n",
    "Here, we will query this function to search the KDB.AI vector database to look for the song `Let's Go` by two artists - `Calvin Harris` and `Ne-Yo`. "
   ]
  },
  {
   "cell_type": "code",
   "execution_count": 46,
   "id": "9562fdb9",
   "metadata": {},
   "outputs": [
    {
     "name": "stdout",
     "output_type": "stream",
     "text": [
      "Songs Similar To 'Let's Go (feat. Ne-Yo)' By 'Calvin Harris, Ne-Yo' (2012)\n",
      "   1. I Cry - Flo Rida (2012)\n",
      "   2. Mmm Yeah (feat. Pitbull) - Austin Mahone, Pitbull (2014)\n",
      "   3. Too Much (feat. Usher) - Marshmello, Imanbek, Usher (2020)\n",
      "   4. All Around The World - Justin Bieber, Ludacris (2012)\n",
      "   5. No Money - Galantis (2016)\n",
      "\n"
     ]
    }
   ],
   "source": [
    "find_similar_songs(table, song_name=\"Let's Go\", song_artists=[\"Calvin Harris\", \"Ne-Yo\"])"
   ]
  },
  {
   "cell_type": "markdown",
   "id": "69cbc15c",
   "metadata": {},
   "source": [
    "If you search for these songs on [YouTube](https://www.youtube.com/), you will see that the results returned have quite a similar vibe to the song we searched for showing the similarity search power of KDB.AI.\n",
    "\n",
    "##### Specify different number of similar songs\n",
    "\n",
    "We can adjust the number of results returned to us by specifying the `n_similar` parameter.\n",
    "Here, we will search for the `8` most similar songs to the song `Californiacation` by `Red Hot Chili Peppers`."
   ]
  },
  {
   "cell_type": "code",
   "execution_count": 47,
   "id": "056f42b8",
   "metadata": {},
   "outputs": [
    {
     "name": "stdout",
     "output_type": "stream",
     "text": [
      "Songs Similar To 'Californication' By 'Red Hot Chili Peppers' (1999)\n",
      "   1. Police Station - Red Hot Chili Peppers (2011)\n",
      "   2. Charlie - Red Hot Chili Peppers (2006)\n",
      "   3. Dark Necessities - Red Hot Chili Peppers (2016)\n",
      "   4. Especially in Michigan - Red Hot Chili Peppers (2006)\n",
      "   5. Don't Forget Me - Red Hot Chili Peppers (2002)\n",
      "   6. Cabron - Red Hot Chili Peppers (2002)\n",
      "   7. Look Around - Red Hot Chili Peppers (2011)\n",
      "   8. Midnight City - M83 (2011)\n",
      "\n"
     ]
    }
   ],
   "source": [
    "find_similar_songs(\n",
    "    table,\n",
    "    song_name=\"Californication\",\n",
    "    song_artists=\"Red Hot Chili Peppers\",\n",
    "    n_similar=8,\n",
    ")"
   ]
  },
  {
   "cell_type": "markdown",
   "id": "9edd10a7",
   "metadata": {},
   "source": [
    "When we return these similar songs, you will notice that a lot of the similar songs are by the same artist as the original song we searched for - `Red Hot Chili Peppers`.\n",
    "This makes sense as their music usually has pretty unique features. \n",
    "\n",
    "#### All songs with a given name by any artist\n",
    "\n",
    "The final thing we will perform a similarity search on all songs stored in the KDB.AI vector database with a given song name - `Love Me`."
   ]
  },
  {
   "cell_type": "code",
   "execution_count": 48,
   "id": "b5474afc",
   "metadata": {},
   "outputs": [
    {
     "name": "stdout",
     "output_type": "stream",
     "text": [
      "Songs Similar To 'Love Me' By 'Elvis Presley' (1956)\n",
      "   1. Don't - Elvis Presley (1959)\n",
      "   2. Without Him - Elvis Presley (1967)\n",
      "   3. Everything I Have Is Yours - 10'' Version - Billie Holiday (1956)\n",
      "   4. His Hand in Mine - Elvis Presley (1960)\n",
      "   5. Fine And Mellow - Billie Holiday (1957)\n",
      "\n",
      "Songs Similar To 'Love Me' By 'Buddy Holly' (1958)\n",
      "   1. Midnight Shift - Buddy Holly (1958)\n",
      "   2. Johnny be good - Radio Version - Jonny Bombastic (1955)\n",
      "   3. A Love That's Worth Having - Willie Hutch (1969)\n",
      "   4. Lonely Weekends - Wanda Jackson (1961)\n",
      "   5. Rock & Roll Guitar - Johnny Knight (1959)\n",
      "\n",
      "Songs Similar To 'Love Me' By 'Sarah Vaughan' (1958)\n",
      "   1. Summer Is Gone - Carmen McRae (1956)\n",
      "   2. Make the World Go Away - Ray Price (1956)\n",
      "   3. Your Love Has Faded - Johnny Hodges (1961)\n",
      "   4. I'll Come Back For More - Dinah Washington (1961)\n",
      "   5. I'm Confessin' (That I Love You) - Judy Garland (1958)\n",
      "\n",
      "Songs Similar To 'Love Me' By 'Bo Diddley' (1960)\n",
      "   1. Keepin' Out Of Mischief Now - Barbra Streisand (1963)\n",
      "   2. It's a Bird, It's a Plane, It's Superman: You've Got Possibilities - Charles Strouse, Linda Lavin, Harold Hastings (1966)\n",
      "   3. Time To Go - Lesley Gore (1963)\n",
      "   4. Come Back Silly Girl - The Lettermen (1962)\n",
      "   5. What I Need Is Love - Barbara Lynn (1963)\n",
      "\n",
      "Songs Similar To 'Love Me' By 'Bee Gees' (1976)\n",
      "   1. Keep It Alive - Lee Ritenour (1982)\n",
      "   2. Go Down Easy - Dan Fogelberg (1985)\n",
      "   3. It Tears Me Up - Percy Sledge (1966)\n",
      "   4. Something's Gotten Hold Of My Heart - Gene Pitney (1975)\n",
      "   5. Save Me - Queen (1981)\n",
      "\n",
      "Songs Similar To 'Love Me' By 'The Cramps' (1983)\n",
      "   1. Football Fight - Remastered 2011 - Queen (1980)\n",
      "   2. Let's Get This Party Started - Korn (1999)\n",
      "   3. Coming Home - Live - Scorpions (1985)\n",
      "   4. Rock On The Moon - Remastered - The Cramps (1980)\n",
      "   5. World's On Heroin - All (1998)\n",
      "\n",
      "Songs Similar To 'Love Me' By 'Tesla' (1986)\n",
      "   1. Walks Like a Woman - Baton Rouge (1990)\n",
      "   2. She Sheila - The Producers (1982)\n",
      "   3. Kindergarten - Faith No More (1992)\n",
      "   4. Play with Me - Jeff Beck (1976)\n",
      "   5. Catch Me I'm Falling - Real Life (1983)\n",
      "\n",
      "Songs Similar To 'Love Me' By 'Love and Rockets' (1986)\n",
      "   1. No One Like You - Live - Scorpions (1985)\n",
      "   2. Loving You Sunday Morning - Scorpions (1979)\n",
      "   3. Promises - Fugazi (1989)\n",
      "   4. Strap Me In - The Cars (1987)\n",
      "   5. Double Trouble - The Cars (1987)\n",
      "\n",
      "Songs Similar To 'Love Me' By 'Yiruma' (2001)\n",
      "   1. Think Of Me - Stan Whitmire (1996)\n",
      "   2. I Feel My Savior's Love - Paul Cardall (2000)\n",
      "   3. O, I Love You - Essie Jain (2011)\n",
      "   4. Baby Mine - Fred Mollin (2000)\n",
      "   5. Just the Way You Are - The Piano Guys (2013)\n",
      "\n",
      "Songs Similar To 'Love Me' By 'Obie Trice, 50 Cent, Eminem' (2002)\n",
      "   1. Just a Moment (feat. Quan) - Nas, Quan (2004)\n",
      "   2. Spend Some Time - Eminem, Obie Trice, Stat Quo, 50 Cent (2004)\n",
      "   3. Jealous Got Me Strapped - Spice 1, 2Pac (1994)\n",
      "   4. Girls - D12 (2001)\n",
      "   5. LoveHate Thing (feat. Sam Dew) - Wale, Sam Dew (2013)\n",
      "\n",
      "Songs Similar To 'Love Me' By 'JJ Heller' (2006)\n",
      "   1. Snake Eyes - Ryan Bingham (2009)\n",
      "   2. Whenever We're Alone - Brantley Gilbert (2009)\n",
      "   3. I Believe - Shin Seung Hun (2002)\n",
      "   4. Oh, It Is Love - Hellogoodbye (2008)\n",
      "   5. Hard Times - Gillian Welch (2011)\n",
      "\n",
      "Songs Similar To 'Love Me' By 'Justin Bieber' (2009)\n",
      "   1. Somebody To Love - Justin Bieber (2010)\n",
      "   2. Cut To The Feeling - Carly Rae Jepsen (2017)\n",
      "   3. Somebody To Love Remix - Justin Bieber, Usher (2011)\n",
      "   4. 4 Minutes (feat. Justin Timberlake & Timbaland) - Madonna, Justin Timberlake, Timbaland (2009)\n",
      "   5. I Really Like You - Carly Rae Jepsen (2015)\n",
      "\n",
      "Songs Similar To 'Love Me' By 'Lil Wayne, Drake, Future' (2013)\n",
      "   1. That Way - Bonus Track - Lil Uzi Vert (2020)\n",
      "   2. Studio - ScHoolboy Q, BJ The Chicago Kid (2014)\n",
      "   3. Lies (feat. Lil Skies) - Lil Xan, Lil Skies (2018)\n",
      "   4. LOYALTY. FEAT. RIHANNA. - Kendrick Lamar, Rihanna (2017)\n",
      "   5. Tokyo Drifting (with Denzel Curry) - Glass Animals, Denzel Curry (2019)\n",
      "\n",
      "Songs Similar To 'Love Me' By 'The 1975' (2016)\n",
      "   1. Lotus Eater - Foster The People (2017)\n",
      "   2. Casual Sex - My Darkest Days (2012)\n",
      "   3. Moneygrabber - Fitz and The Tantrums (2010)\n",
      "   4. Nobody - Skindred (2004)\n",
      "   5. Monster - Lady Gaga (2009)\n",
      "\n",
      "Songs Similar To 'Love Me' By 'Lil Tecca' (2019)\n",
      "   1. Me and My Guitar - A Boogie Wit da Hoodie (2020)\n",
      "   2. Red Nose - Sage The Gemini (2014)\n",
      "   3. Run Me Dry - Bryson Tiller (2017)\n",
      "   4. Stuntin' On You (feat. DaBaby) - Tyla Yaweh, DaBaby (2020)\n",
      "   5. Best Friend - 50 Cent (2005)\n",
      "\n"
     ]
    }
   ],
   "source": [
    "find_similar_songs(table, song_name=\"Love Me\", exact=True)"
   ]
  },
  {
   "cell_type": "markdown",
   "id": "cf91f429",
   "metadata": {},
   "source": [
    "There are 15 songs in our vector database with `Love Me` as their title and we have returned the most similar songs to each of these.\n",
    "With that, we have built a recommendation system which is able to recommend music based both on user numerical and categorical song data."
   ]
  },
  {
   "cell_type": "markdown",
   "id": "2b4839ed",
   "metadata": {},
   "source": [
    "## 5. Delete the KDB.AI Table\n",
    "\n",
    "Once finished with the table, it is best practice to drop it."
   ]
  },
  {
   "cell_type": "code",
   "execution_count": 49,
   "id": "81c95d1c",
   "metadata": {},
   "outputs": [
    {
     "data": {
      "text/plain": [
       "True"
      ]
     },
     "execution_count": 49,
     "metadata": {},
     "output_type": "execute_result"
    }
   ],
   "source": [
    "table.drop()"
   ]
  },
  {
   "cell_type": "markdown",
   "id": "96a12b1f",
   "metadata": {},
   "source": [
    "We hope you found this sample helpful! Your feedback is important to us, and we would appreciate it if you could take a moment to fill out our brief survey. Your input helps us improve our content.\n",
    "\n",
    "[**Take the Survey**](https://delighted.com/t/gvqeAOuO)"
   ]
  }
 ],
 "metadata": {
  "kernelspec": {
   "display_name": "Python 3 (ipykernel)",
   "language": "python",
   "name": "python3"
  },
  "language_info": {
   "codemirror_mode": {
    "name": "ipython",
    "version": 3
   },
   "file_extension": ".py",
   "mimetype": "text/x-python",
   "name": "python",
   "nbconvert_exporter": "python",
   "pygments_lexer": "ipython3",
   "version": "3.10.12"
  }
 },
 "nbformat": 4,
 "nbformat_minor": 5
}
