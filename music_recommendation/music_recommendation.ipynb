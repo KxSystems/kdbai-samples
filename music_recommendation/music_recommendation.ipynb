{
 "cells": [
  {
   "cell_type": "markdown",
   "id": "1c9731fb",
   "metadata": {},
   "source": [
    "# Music Recommendation on Spotify Data\n",
    "\n",
    "This example demonstrates how you can use KDB.AI to perform similarity recommendations using vector embeddings created from both categorical and numeric music data.\n",
    "\n",
    "Applications like Spotify and YouTube Music perform hundreds of millions of song recommendations for users every single day. They do this by extracting a vast array of features about every given song and artist and comparing their characteristics.\n",
    "By leveraging this sort of data, KDB.AI can be used to productionize a music recommendation system and help to quickly and efficiently find music similar to given input songs.\n",
    "\n",
    "### Aim\n",
    "\n",
    "In this tutorial, we'll break down how you might perform similarity search on music, taking some Spotify data as an example and using KDB.AI as the vector database to store and query this data.\n",
    "This breaks down as follows:\n",
    "\n",
    "1. Load Song Data\n",
    "1. Create Song Vector Embeddings\n",
    "1. Store Embeddings In KDB.AI\n",
    "1. Search For Similar Songs To A Target Song\n",
    "\n",
    "---"
   ]
  },
  {
   "cell_type": "markdown",
   "id": "5a3605c7",
   "metadata": {},
   "source": [
    "## 0. Setup"
   ]
  },
  {
   "cell_type": "markdown",
   "id": "37f9672c",
   "metadata": {},
   "source": [
    "### Import Packages"
   ]
  },
  {
   "cell_type": "markdown",
   "id": "115f7122",
   "metadata": {},
   "source": [
    "We will start by importing all of the Python packages needed to run this music recommendation system example.\n",
    "This includes packages for reading in the data, embedding it as vectors, and interacting with the vector database."
   ]
  },
  {
   "cell_type": "code",
   "execution_count": 1,
   "id": "2d851ae9",
   "metadata": {},
   "outputs": [],
   "source": [
    "import pandas as pd\n",
    "import numpy as np"
   ]
  },
  {
   "cell_type": "code",
   "execution_count": 2,
   "id": "b91bc28a",
   "metadata": {},
   "outputs": [],
   "source": [
    "# embedding categorical data\n",
    "from nltk.tokenize import sent_tokenize, word_tokenize\n",
    "from gensim.models import Word2Vec"
   ]
  },
  {
   "cell_type": "code",
   "execution_count": 3,
   "id": "cc5a0f0c",
   "metadata": {},
   "outputs": [],
   "source": [
    "# embedding numeric data\n",
    "from sklearn.preprocessing import StandardScaler"
   ]
  },
  {
   "cell_type": "code",
   "execution_count": 4,
   "id": "afa4c3cd",
   "metadata": {},
   "outputs": [],
   "source": [
    "# vector DB\n",
    "import os\n",
    "import kdbai_client as kdbai\n",
    "from getpass import getpass\n",
    "import time"
   ]
  },
  {
   "cell_type": "markdown",
   "id": "95be3259",
   "metadata": {},
   "source": [
    "### Configure Console"
   ]
  },
  {
   "cell_type": "markdown",
   "id": "ec282385",
   "metadata": {},
   "source": [
    "In order to fully view our embeddings when it comes to displaying the results, we must increase the maximum allowed column width in Pandas DataFrames from the default value."
   ]
  },
  {
   "cell_type": "code",
   "execution_count": 5,
   "id": "b4f29527",
   "metadata": {},
   "outputs": [],
   "source": [
    "pd.set_option(\"max_colwidth\", 1000)"
   ]
  },
  {
   "cell_type": "markdown",
   "id": "4edaa685",
   "metadata": {},
   "source": [
    "This removes a warning that appears when performing in-place column assignment."
   ]
  },
  {
   "cell_type": "code",
   "execution_count": 6,
   "id": "d28588d9",
   "metadata": {},
   "outputs": [],
   "source": [
    "pd.options.mode.chained_assignment = None"
   ]
  },
  {
   "cell_type": "markdown",
   "id": "fc36e465",
   "metadata": {},
   "source": [
    "### Define Helper Functions\n",
    "\n",
    "Defining these two helper functions will allow us to easily show the shape and head of any Pandas DataFrames or embedding arrays passed."
   ]
  },
  {
   "cell_type": "code",
   "execution_count": 7,
   "id": "bf07de0a",
   "metadata": {},
   "outputs": [],
   "source": [
    "def show_df(df: pd.DataFrame) -> pd.DataFrame:\n",
    "    print(df.shape)\n",
    "    return df.head()"
   ]
  },
  {
   "cell_type": "code",
   "execution_count": 8,
   "id": "082ccef4",
   "metadata": {},
   "outputs": [],
   "source": [
    "def show_embeddings(embeddings: np.array) -> list[int]:\n",
    "    print(\"Num Embeddings:\", len(embeddings))\n",
    "    print(\"Embedding Size:\", len(embeddings[0]))\n",
    "    return list(embeddings[0])"
   ]
  },
  {
   "cell_type": "markdown",
   "id": "3f889dd7",
   "metadata": {},
   "source": [
    "## 1. Load Song Data"
   ]
  },
  {
   "cell_type": "markdown",
   "id": "24da7ed7",
   "metadata": {},
   "source": [
    "The song data we will read in will be taken from an [open-source Spotify dataset](https://www.kaggle.com/datasets/vatsalmavani/spotify-dataset) on Kaggle. There are 5 files on Kaggle, however, only one file is relevant to this analysis.\n",
    "This dataset contains a list of metadata on 170,000 songs from 1921 to 2020. This metadata includes:\n",
    "- Song Name\n",
    "- Artist Name\n",
    "- Song Year\n",
    "- Various features about the song's music, including:\n",
    "    * acousticness\n",
    "    * danceability\n",
    "    * duration_ms\n",
    "    * energy\n",
    "    * explicit\n",
    "    * instrumentalness\n",
    "    * key\n",
    "    * liveness\n",
    "    * loudness\n",
    "    * mode\n",
    "    * popularity\n",
    "    * release_date\n",
    "    * speechiness\n",
    "    * tempo\n",
    "    * valence\n",
    "   "
   ]
  },
  {
   "cell_type": "markdown",
   "id": "19c148de",
   "metadata": {},
   "source": [
    "### Read In The Spotify Data From The CSV"
   ]
  },
  {
   "cell_type": "markdown",
   "id": "ecc57e87",
   "metadata": {},
   "source": [
    "We can read this song data from a CSV into a Pandas DataFrame and show the resulting table."
   ]
  },
  {
   "cell_type": "code",
   "execution_count": 9,
   "id": "1e138b0a",
   "metadata": {},
   "outputs": [],
   "source": [
    "raw_song_df = pd.read_csv(\"data/song_data.csv\")"
   ]
  },
  {
   "cell_type": "code",
   "execution_count": 10,
   "id": "70881392",
   "metadata": {},
   "outputs": [
    {
     "name": "stdout",
     "output_type": "stream",
     "text": [
      "(170653, 19)\n"
     ]
    },
    {
     "data": {
      "text/html": [
       "<div>\n",
       "<style scoped>\n",
       "    .dataframe tbody tr th:only-of-type {\n",
       "        vertical-align: middle;\n",
       "    }\n",
       "\n",
       "    .dataframe tbody tr th {\n",
       "        vertical-align: top;\n",
       "    }\n",
       "\n",
       "    .dataframe thead th {\n",
       "        text-align: right;\n",
       "    }\n",
       "</style>\n",
       "<table border=\"1\" class=\"dataframe\">\n",
       "  <thead>\n",
       "    <tr style=\"text-align: right;\">\n",
       "      <th></th>\n",
       "      <th>id</th>\n",
       "      <th>name</th>\n",
       "      <th>artists</th>\n",
       "      <th>acousticness</th>\n",
       "      <th>danceability</th>\n",
       "      <th>duration_ms</th>\n",
       "      <th>energy</th>\n",
       "      <th>explicit</th>\n",
       "      <th>instrumentalness</th>\n",
       "      <th>key</th>\n",
       "      <th>liveness</th>\n",
       "      <th>loudness</th>\n",
       "      <th>mode</th>\n",
       "      <th>popularity</th>\n",
       "      <th>release_date</th>\n",
       "      <th>speechiness</th>\n",
       "      <th>tempo</th>\n",
       "      <th>valence</th>\n",
       "      <th>year</th>\n",
       "    </tr>\n",
       "  </thead>\n",
       "  <tbody>\n",
       "    <tr>\n",
       "      <th>0</th>\n",
       "      <td>4BJqT0PrAfrxzMOxytFOIz</td>\n",
       "      <td>Piano Concerto No. 3 in D Minor, Op. 30: III. Finale. Alla breve</td>\n",
       "      <td>['Sergei Rachmaninoff', 'James Levine', 'Berliner Philharmoniker']</td>\n",
       "      <td>0.982</td>\n",
       "      <td>0.279</td>\n",
       "      <td>831667</td>\n",
       "      <td>0.211</td>\n",
       "      <td>0</td>\n",
       "      <td>0.878000</td>\n",
       "      <td>10</td>\n",
       "      <td>0.665</td>\n",
       "      <td>-20.096</td>\n",
       "      <td>1</td>\n",
       "      <td>4</td>\n",
       "      <td>1921</td>\n",
       "      <td>0.0366</td>\n",
       "      <td>80.954</td>\n",
       "      <td>0.0594</td>\n",
       "      <td>1921</td>\n",
       "    </tr>\n",
       "    <tr>\n",
       "      <th>1</th>\n",
       "      <td>7xPhfUan2yNtyFG0cUWkt8</td>\n",
       "      <td>Clancy Lowered the Boom</td>\n",
       "      <td>['Dennis Day']</td>\n",
       "      <td>0.732</td>\n",
       "      <td>0.819</td>\n",
       "      <td>180533</td>\n",
       "      <td>0.341</td>\n",
       "      <td>0</td>\n",
       "      <td>0.000000</td>\n",
       "      <td>7</td>\n",
       "      <td>0.160</td>\n",
       "      <td>-12.441</td>\n",
       "      <td>1</td>\n",
       "      <td>5</td>\n",
       "      <td>1921</td>\n",
       "      <td>0.4150</td>\n",
       "      <td>60.936</td>\n",
       "      <td>0.9630</td>\n",
       "      <td>1921</td>\n",
       "    </tr>\n",
       "    <tr>\n",
       "      <th>2</th>\n",
       "      <td>1o6I8BglA6ylDMrIELygv1</td>\n",
       "      <td>Gati Bali</td>\n",
       "      <td>['KHP Kridhamardawa Karaton Ngayogyakarta Hadiningrat']</td>\n",
       "      <td>0.961</td>\n",
       "      <td>0.328</td>\n",
       "      <td>500062</td>\n",
       "      <td>0.166</td>\n",
       "      <td>0</td>\n",
       "      <td>0.913000</td>\n",
       "      <td>3</td>\n",
       "      <td>0.101</td>\n",
       "      <td>-14.850</td>\n",
       "      <td>1</td>\n",
       "      <td>5</td>\n",
       "      <td>1921</td>\n",
       "      <td>0.0339</td>\n",
       "      <td>110.339</td>\n",
       "      <td>0.0394</td>\n",
       "      <td>1921</td>\n",
       "    </tr>\n",
       "    <tr>\n",
       "      <th>3</th>\n",
       "      <td>3ftBPsC5vPBKxYSee08FDH</td>\n",
       "      <td>Danny Boy</td>\n",
       "      <td>['Frank Parker']</td>\n",
       "      <td>0.967</td>\n",
       "      <td>0.275</td>\n",
       "      <td>210000</td>\n",
       "      <td>0.309</td>\n",
       "      <td>0</td>\n",
       "      <td>0.000028</td>\n",
       "      <td>5</td>\n",
       "      <td>0.381</td>\n",
       "      <td>-9.316</td>\n",
       "      <td>1</td>\n",
       "      <td>3</td>\n",
       "      <td>1921</td>\n",
       "      <td>0.0354</td>\n",
       "      <td>100.109</td>\n",
       "      <td>0.1650</td>\n",
       "      <td>1921</td>\n",
       "    </tr>\n",
       "    <tr>\n",
       "      <th>4</th>\n",
       "      <td>4d6HGyGT8e121BsdKmw9v6</td>\n",
       "      <td>When Irish Eyes Are Smiling</td>\n",
       "      <td>['Phil Regan']</td>\n",
       "      <td>0.957</td>\n",
       "      <td>0.418</td>\n",
       "      <td>166693</td>\n",
       "      <td>0.193</td>\n",
       "      <td>0</td>\n",
       "      <td>0.000002</td>\n",
       "      <td>3</td>\n",
       "      <td>0.229</td>\n",
       "      <td>-10.096</td>\n",
       "      <td>1</td>\n",
       "      <td>2</td>\n",
       "      <td>1921</td>\n",
       "      <td>0.0380</td>\n",
       "      <td>101.665</td>\n",
       "      <td>0.2530</td>\n",
       "      <td>1921</td>\n",
       "    </tr>\n",
       "  </tbody>\n",
       "</table>\n",
       "</div>"
      ],
      "text/plain": [
       "                       id  \\\n",
       "0  4BJqT0PrAfrxzMOxytFOIz   \n",
       "1  7xPhfUan2yNtyFG0cUWkt8   \n",
       "2  1o6I8BglA6ylDMrIELygv1   \n",
       "3  3ftBPsC5vPBKxYSee08FDH   \n",
       "4  4d6HGyGT8e121BsdKmw9v6   \n",
       "\n",
       "                                                               name  \\\n",
       "0  Piano Concerto No. 3 in D Minor, Op. 30: III. Finale. Alla breve   \n",
       "1                                           Clancy Lowered the Boom   \n",
       "2                                                         Gati Bali   \n",
       "3                                                         Danny Boy   \n",
       "4                                       When Irish Eyes Are Smiling   \n",
       "\n",
       "                                                              artists  \\\n",
       "0  ['Sergei Rachmaninoff', 'James Levine', 'Berliner Philharmoniker']   \n",
       "1                                                      ['Dennis Day']   \n",
       "2             ['KHP Kridhamardawa Karaton Ngayogyakarta Hadiningrat']   \n",
       "3                                                    ['Frank Parker']   \n",
       "4                                                      ['Phil Regan']   \n",
       "\n",
       "   acousticness  danceability  duration_ms  energy  explicit  \\\n",
       "0         0.982         0.279       831667   0.211         0   \n",
       "1         0.732         0.819       180533   0.341         0   \n",
       "2         0.961         0.328       500062   0.166         0   \n",
       "3         0.967         0.275       210000   0.309         0   \n",
       "4         0.957         0.418       166693   0.193         0   \n",
       "\n",
       "   instrumentalness  key  liveness  loudness  mode  popularity release_date  \\\n",
       "0          0.878000   10     0.665   -20.096     1           4         1921   \n",
       "1          0.000000    7     0.160   -12.441     1           5         1921   \n",
       "2          0.913000    3     0.101   -14.850     1           5         1921   \n",
       "3          0.000028    5     0.381    -9.316     1           3         1921   \n",
       "4          0.000002    3     0.229   -10.096     1           2         1921   \n",
       "\n",
       "   speechiness    tempo  valence  year  \n",
       "0       0.0366   80.954   0.0594  1921  \n",
       "1       0.4150   60.936   0.9630  1921  \n",
       "2       0.0339  110.339   0.0394  1921  \n",
       "3       0.0354  100.109   0.1650  1921  \n",
       "4       0.0380  101.665   0.2530  1921  "
      ]
     },
     "execution_count": 10,
     "metadata": {},
     "output_type": "execute_result"
    }
   ],
   "source": [
    "show_df(raw_song_df)"
   ]
  },
  {
   "cell_type": "markdown",
   "id": "a918f77d",
   "metadata": {},
   "source": [
    "### Pre-process The Data"
   ]
  },
  {
   "cell_type": "markdown",
   "id": "9b71c3a9",
   "metadata": {},
   "source": [
    "Here we will perform a few operations on this Pandas DataFrame to get it into the correct format for creating the vector embeddings for our vector database.\n",
    "This will include:\n",
    "- Adding a column prefix\n",
    "- Removing excess columns\n",
    "- Fixing column values\n",
    "- Combining columns into one\n",
    "- Removing duplicate rows\n",
    "\n",
    "Once these pre-processing steps have been carried out, our data will be clean and in the correct format to start creating embeddings."
   ]
  },
  {
   "cell_type": "code",
   "execution_count": 11,
   "id": "44b59370",
   "metadata": {},
   "outputs": [],
   "source": [
    "# add \"song_\" prefix to col names\n",
    "song_df = raw_song_df.add_prefix(\"song_\")"
   ]
  },
  {
   "cell_type": "code",
   "execution_count": 12,
   "id": "781e33be",
   "metadata": {},
   "outputs": [],
   "source": [
    "# drop unused cols\n",
    "song_df = song_df.drop(columns=[\"song_id\", \"song_release_date\"])"
   ]
  },
  {
   "cell_type": "code",
   "execution_count": 13,
   "id": "d01ceb35",
   "metadata": {},
   "outputs": [],
   "source": [
    "# fix artists list names - remove quotes\n",
    "def fix_artists(str_list):\n",
    "    return \", \".join([v for v in str_list.rstrip(\"']\").lstrip(\"['\").split(\"', '\")])\n",
    "\n",
    "\n",
    "song_df[\"song_artists\"] = song_df[\"song_artists\"].apply(fix_artists)"
   ]
  },
  {
   "cell_type": "code",
   "execution_count": 14,
   "id": "6049043d",
   "metadata": {},
   "outputs": [],
   "source": [
    "# combine song_name & song_artists into song_description\n",
    "song_df.insert(\n",
    "    0, \"song_description\", song_df[\"song_name\"] + \" - \" + song_df[\"song_artists\"]\n",
    ")"
   ]
  },
  {
   "cell_type": "code",
   "execution_count": 15,
   "id": "4b9867c7",
   "metadata": {},
   "outputs": [],
   "source": [
    "# remove duplicate rows\n",
    "song_data = song_df[\n",
    "    ~song_df.duplicated(subset=[\"song_description\"], keep=\"first\")\n",
    "].reset_index(drop=True)"
   ]
  },
  {
   "cell_type": "code",
   "execution_count": 16,
   "id": "0f3b35c5",
   "metadata": {},
   "outputs": [
    {
     "name": "stdout",
     "output_type": "stream",
     "text": [
      "(170653, 18)\n"
     ]
    },
    {
     "data": {
      "text/html": [
       "<div>\n",
       "<style scoped>\n",
       "    .dataframe tbody tr th:only-of-type {\n",
       "        vertical-align: middle;\n",
       "    }\n",
       "\n",
       "    .dataframe tbody tr th {\n",
       "        vertical-align: top;\n",
       "    }\n",
       "\n",
       "    .dataframe thead th {\n",
       "        text-align: right;\n",
       "    }\n",
       "</style>\n",
       "<table border=\"1\" class=\"dataframe\">\n",
       "  <thead>\n",
       "    <tr style=\"text-align: right;\">\n",
       "      <th></th>\n",
       "      <th>song_description</th>\n",
       "      <th>song_name</th>\n",
       "      <th>song_artists</th>\n",
       "      <th>song_acousticness</th>\n",
       "      <th>song_danceability</th>\n",
       "      <th>song_duration_ms</th>\n",
       "      <th>song_energy</th>\n",
       "      <th>song_explicit</th>\n",
       "      <th>song_instrumentalness</th>\n",
       "      <th>song_key</th>\n",
       "      <th>song_liveness</th>\n",
       "      <th>song_loudness</th>\n",
       "      <th>song_mode</th>\n",
       "      <th>song_popularity</th>\n",
       "      <th>song_speechiness</th>\n",
       "      <th>song_tempo</th>\n",
       "      <th>song_valence</th>\n",
       "      <th>song_year</th>\n",
       "    </tr>\n",
       "  </thead>\n",
       "  <tbody>\n",
       "    <tr>\n",
       "      <th>0</th>\n",
       "      <td>Piano Concerto No. 3 in D Minor, Op. 30: III. Finale. Alla breve - Sergei Rachmaninoff, James Levine, Berliner Philharmoniker</td>\n",
       "      <td>Piano Concerto No. 3 in D Minor, Op. 30: III. Finale. Alla breve</td>\n",
       "      <td>Sergei Rachmaninoff, James Levine, Berliner Philharmoniker</td>\n",
       "      <td>0.982</td>\n",
       "      <td>0.279</td>\n",
       "      <td>831667</td>\n",
       "      <td>0.211</td>\n",
       "      <td>0</td>\n",
       "      <td>0.878000</td>\n",
       "      <td>10</td>\n",
       "      <td>0.665</td>\n",
       "      <td>-20.096</td>\n",
       "      <td>1</td>\n",
       "      <td>4</td>\n",
       "      <td>0.0366</td>\n",
       "      <td>80.954</td>\n",
       "      <td>0.0594</td>\n",
       "      <td>1921</td>\n",
       "    </tr>\n",
       "    <tr>\n",
       "      <th>1</th>\n",
       "      <td>Clancy Lowered the Boom - Dennis Day</td>\n",
       "      <td>Clancy Lowered the Boom</td>\n",
       "      <td>Dennis Day</td>\n",
       "      <td>0.732</td>\n",
       "      <td>0.819</td>\n",
       "      <td>180533</td>\n",
       "      <td>0.341</td>\n",
       "      <td>0</td>\n",
       "      <td>0.000000</td>\n",
       "      <td>7</td>\n",
       "      <td>0.160</td>\n",
       "      <td>-12.441</td>\n",
       "      <td>1</td>\n",
       "      <td>5</td>\n",
       "      <td>0.4150</td>\n",
       "      <td>60.936</td>\n",
       "      <td>0.9630</td>\n",
       "      <td>1921</td>\n",
       "    </tr>\n",
       "    <tr>\n",
       "      <th>2</th>\n",
       "      <td>Gati Bali - KHP Kridhamardawa Karaton Ngayogyakarta Hadiningrat</td>\n",
       "      <td>Gati Bali</td>\n",
       "      <td>KHP Kridhamardawa Karaton Ngayogyakarta Hadiningrat</td>\n",
       "      <td>0.961</td>\n",
       "      <td>0.328</td>\n",
       "      <td>500062</td>\n",
       "      <td>0.166</td>\n",
       "      <td>0</td>\n",
       "      <td>0.913000</td>\n",
       "      <td>3</td>\n",
       "      <td>0.101</td>\n",
       "      <td>-14.850</td>\n",
       "      <td>1</td>\n",
       "      <td>5</td>\n",
       "      <td>0.0339</td>\n",
       "      <td>110.339</td>\n",
       "      <td>0.0394</td>\n",
       "      <td>1921</td>\n",
       "    </tr>\n",
       "    <tr>\n",
       "      <th>3</th>\n",
       "      <td>Danny Boy - Frank Parker</td>\n",
       "      <td>Danny Boy</td>\n",
       "      <td>Frank Parker</td>\n",
       "      <td>0.967</td>\n",
       "      <td>0.275</td>\n",
       "      <td>210000</td>\n",
       "      <td>0.309</td>\n",
       "      <td>0</td>\n",
       "      <td>0.000028</td>\n",
       "      <td>5</td>\n",
       "      <td>0.381</td>\n",
       "      <td>-9.316</td>\n",
       "      <td>1</td>\n",
       "      <td>3</td>\n",
       "      <td>0.0354</td>\n",
       "      <td>100.109</td>\n",
       "      <td>0.1650</td>\n",
       "      <td>1921</td>\n",
       "    </tr>\n",
       "    <tr>\n",
       "      <th>4</th>\n",
       "      <td>When Irish Eyes Are Smiling - Phil Regan</td>\n",
       "      <td>When Irish Eyes Are Smiling</td>\n",
       "      <td>Phil Regan</td>\n",
       "      <td>0.957</td>\n",
       "      <td>0.418</td>\n",
       "      <td>166693</td>\n",
       "      <td>0.193</td>\n",
       "      <td>0</td>\n",
       "      <td>0.000002</td>\n",
       "      <td>3</td>\n",
       "      <td>0.229</td>\n",
       "      <td>-10.096</td>\n",
       "      <td>1</td>\n",
       "      <td>2</td>\n",
       "      <td>0.0380</td>\n",
       "      <td>101.665</td>\n",
       "      <td>0.2530</td>\n",
       "      <td>1921</td>\n",
       "    </tr>\n",
       "  </tbody>\n",
       "</table>\n",
       "</div>"
      ],
      "text/plain": [
       "                                                                                                                song_description  \\\n",
       "0  Piano Concerto No. 3 in D Minor, Op. 30: III. Finale. Alla breve - Sergei Rachmaninoff, James Levine, Berliner Philharmoniker   \n",
       "1                                                                                           Clancy Lowered the Boom - Dennis Day   \n",
       "2                                                                Gati Bali - KHP Kridhamardawa Karaton Ngayogyakarta Hadiningrat   \n",
       "3                                                                                                       Danny Boy - Frank Parker   \n",
       "4                                                                                       When Irish Eyes Are Smiling - Phil Regan   \n",
       "\n",
       "                                                          song_name  \\\n",
       "0  Piano Concerto No. 3 in D Minor, Op. 30: III. Finale. Alla breve   \n",
       "1                                           Clancy Lowered the Boom   \n",
       "2                                                         Gati Bali   \n",
       "3                                                         Danny Boy   \n",
       "4                                       When Irish Eyes Are Smiling   \n",
       "\n",
       "                                                 song_artists  \\\n",
       "0  Sergei Rachmaninoff, James Levine, Berliner Philharmoniker   \n",
       "1                                                  Dennis Day   \n",
       "2         KHP Kridhamardawa Karaton Ngayogyakarta Hadiningrat   \n",
       "3                                                Frank Parker   \n",
       "4                                                  Phil Regan   \n",
       "\n",
       "   song_acousticness  song_danceability  song_duration_ms  song_energy  \\\n",
       "0              0.982              0.279            831667        0.211   \n",
       "1              0.732              0.819            180533        0.341   \n",
       "2              0.961              0.328            500062        0.166   \n",
       "3              0.967              0.275            210000        0.309   \n",
       "4              0.957              0.418            166693        0.193   \n",
       "\n",
       "   song_explicit  song_instrumentalness  song_key  song_liveness  \\\n",
       "0              0               0.878000        10          0.665   \n",
       "1              0               0.000000         7          0.160   \n",
       "2              0               0.913000         3          0.101   \n",
       "3              0               0.000028         5          0.381   \n",
       "4              0               0.000002         3          0.229   \n",
       "\n",
       "   song_loudness  song_mode  song_popularity  song_speechiness  song_tempo  \\\n",
       "0        -20.096          1                4            0.0366      80.954   \n",
       "1        -12.441          1                5            0.4150      60.936   \n",
       "2        -14.850          1                5            0.0339     110.339   \n",
       "3         -9.316          1                3            0.0354     100.109   \n",
       "4        -10.096          1                2            0.0380     101.665   \n",
       "\n",
       "   song_valence  song_year  \n",
       "0        0.0594       1921  \n",
       "1        0.9630       1921  \n",
       "2        0.0394       1921  \n",
       "3        0.1650       1921  \n",
       "4        0.2530       1921  "
      ]
     },
     "execution_count": 16,
     "metadata": {},
     "output_type": "execute_result"
    }
   ],
   "source": [
    "show_df(song_df)"
   ]
  },
  {
   "cell_type": "markdown",
   "id": "92d0819e",
   "metadata": {},
   "source": [
    "## 2. Create Song Vector Embeddings"
   ]
  },
  {
   "cell_type": "markdown",
   "id": "76775144",
   "metadata": {},
   "source": [
    "We will create vector embeddings from this data in three steps:\n",
    "\n",
    "- A. Encoding the categorical `song_description` column as numeric values\n",
    "- B. Scaling the numeric column values\n",
    "- C. Joining these two sets of encodings together into one vector embedding"
   ]
  },
  {
   "cell_type": "markdown",
   "id": "7edae729",
   "metadata": {},
   "source": [
    "### A. Embed Categorical Song Metadata"
   ]
  },
  {
   "cell_type": "markdown",
   "id": "28410994",
   "metadata": {},
   "source": [
    "To embed the `song_description` column as numeric vectors, we must perform natural language processing on them.\n",
    "This involves tokenising the descriptions to break them up into their individual sub-parts and then using a `Word2Vec` model to turn these tokenised song descriptions into vectors.\n",
    "\n",
    "The length of the vectors we turn these desciptions into is configurable, however, in this case we chose to set this to `15` as there are also 15 numeric columns which describe the song. We do not want to bias the final embedding vectors in favour of either the categorical columns or the numeric columns, so it made sense to keep the number of values representing each the same for both."
   ]
  },
  {
   "cell_type": "code",
   "execution_count": 17,
   "id": "4c640b59",
   "metadata": {},
   "outputs": [],
   "source": [
    "# tokenize the descriptions\n",
    "tokenised_song_descs = [word_tokenize(v.lower()) for v in song_data[\"song_description\"]]"
   ]
  },
  {
   "cell_type": "code",
   "execution_count": 18,
   "id": "df2bc20b",
   "metadata": {},
   "outputs": [],
   "source": [
    "# create embedding model\n",
    "embedding_dim = 15\n",
    "\n",
    "word2Vec_model = Word2Vec(\n",
    "    sentences=tokenised_song_descs,\n",
    "    vector_size=embedding_dim,\n",
    "    window=5,\n",
    "    min_count=1,\n",
    "    sg=1,\n",
    ")"
   ]
  },
  {
   "cell_type": "code",
   "execution_count": 19,
   "id": "bedcbe34",
   "metadata": {},
   "outputs": [],
   "source": [
    "# function to create embedding vector from tokens\n",
    "def get_embedding(song_desc_tokens, model, embedding_dim):\n",
    "    vectors = [model.wv[token] for token in song_desc_tokens if token in model.wv]\n",
    "\n",
    "    # Average of word vectors OR zeros if no valid tokens found\n",
    "    return sum(vectors) / len(vectors) if vectors else [0] * embedding_dim"
   ]
  },
  {
   "cell_type": "code",
   "execution_count": 20,
   "id": "e20683ba",
   "metadata": {},
   "outputs": [],
   "source": [
    "# embed song descriptions as vectors\n",
    "categorical_embeddings = [\n",
    "    get_embedding(song_desc_tokens, word2Vec_model, embedding_dim)\n",
    "    for song_desc_tokens in tokenised_song_descs\n",
    "]"
   ]
  },
  {
   "cell_type": "code",
   "execution_count": 21,
   "id": "980bb2e3",
   "metadata": {},
   "outputs": [
    {
     "name": "stdout",
     "output_type": "stream",
     "text": [
      "Num Embeddings: 157685\n",
      "Embedding Size: 15\n"
     ]
    },
    {
     "data": {
      "text/plain": [
       "[-1.3061829,\n",
       " 1.449745,\n",
       " 1.2838475,\n",
       " -0.37391582,\n",
       " 0.62907904,\n",
       " -0.0010437369,\n",
       " -1.4169772,\n",
       " -0.21957593,\n",
       " -0.3732935,\n",
       " 1.2440405,\n",
       " 0.8359612,\n",
       " 0.15343893,\n",
       " 0.5153092,\n",
       " -0.5346563,\n",
       " -0.9461686]"
      ]
     },
     "execution_count": 21,
     "metadata": {},
     "output_type": "execute_result"
    }
   ],
   "source": [
    "show_embeddings(categorical_embeddings)"
   ]
  },
  {
   "cell_type": "markdown",
   "id": "6b222f5a",
   "metadata": {},
   "source": [
    "### B. Embed Numeric Song Metadata"
   ]
  },
  {
   "cell_type": "markdown",
   "id": "03623844",
   "metadata": {},
   "source": [
    "There are 15 numeric columns in our data which we will use to make up the other half of our final embedding vectors.\n",
    "First, however, we will scale these values to make them more uniform.\n",
    "\n",
    "The standard scaled score of a sample `x` is calculated as:\n",
    "\n",
    "$$\n",
    "    z = \\frac{(x - u)}{s}\n",
    "$$\n",
    "\n",
    "where `u` is the mean of the training samples and `s` is the standard deviation of the training samples."
   ]
  },
  {
   "cell_type": "code",
   "execution_count": 22,
   "id": "e8614aa0",
   "metadata": {},
   "outputs": [
    {
     "data": {
      "text/plain": [
       "['song_acousticness',\n",
       " 'song_danceability',\n",
       " 'song_duration_ms',\n",
       " 'song_energy',\n",
       " 'song_explicit',\n",
       " 'song_instrumentalness',\n",
       " 'song_key',\n",
       " 'song_liveness',\n",
       " 'song_loudness',\n",
       " 'song_mode',\n",
       " 'song_popularity',\n",
       " 'song_speechiness',\n",
       " 'song_tempo',\n",
       " 'song_valence',\n",
       " 'song_year']"
      ]
     },
     "execution_count": 22,
     "metadata": {},
     "output_type": "execute_result"
    }
   ],
   "source": [
    "# extract numeric columns\n",
    "numeric_cols = list(\n",
    "    song_data.drop(columns=[\"song_name\", \"song_artists\", \"song_description\"]).columns\n",
    ")\n",
    "numeric_cols"
   ]
  },
  {
   "cell_type": "code",
   "execution_count": 23,
   "id": "4305095d",
   "metadata": {},
   "outputs": [],
   "source": [
    "# scale these columns\n",
    "numeric_embeddings = StandardScaler().fit_transform(song_data[numeric_cols])"
   ]
  },
  {
   "cell_type": "code",
   "execution_count": 24,
   "id": "7ab28edb",
   "metadata": {},
   "outputs": [
    {
     "name": "stdout",
     "output_type": "stream",
     "text": [
      "Num Embeddings: 157685\n",
      "Embedding Size: 15\n"
     ]
    },
    {
     "data": {
      "text/plain": [
       "[1.2703070294949106,\n",
       " -1.461259048884883,\n",
       " 4.752569009266444,\n",
       " -1.007676175100162,\n",
       " -0.3092011481361043,\n",
       " 2.262496351074803,\n",
       " 1.3649563314116429,\n",
       " 2.6110012104955738,\n",
       " -1.5078176079821606,\n",
       " 0.6453499264358126,\n",
       " -1.2499471942272533,\n",
       " -0.38364744367670833,\n",
       " -1.1655450558051375,\n",
       " -1.7786347004763523,\n",
       " -2.142666230649]"
      ]
     },
     "execution_count": 24,
     "metadata": {},
     "output_type": "execute_result"
    }
   ],
   "source": [
    "show_embeddings(numeric_embeddings)"
   ]
  },
  {
   "cell_type": "markdown",
   "id": "1ccebdaf",
   "metadata": {},
   "source": [
    "### C. Merge Categorical & Numeric Embeddings"
   ]
  },
  {
   "cell_type": "markdown",
   "id": "1ec7954d",
   "metadata": {},
   "source": [
    "This leaves us with two sets of vectors: one representing the categorical column and one representing the numeric columns.\n",
    "Both sets have 15 values each, so when we join these together, the resulting vector will have 30 values."
   ]
  },
  {
   "cell_type": "code",
   "execution_count": 25,
   "id": "6c5849e6",
   "metadata": {},
   "outputs": [],
   "source": [
    "row_embeddings = [\n",
    "    np.concatenate([cat_row, num_row])\n",
    "    for cat_row, num_row in zip(categorical_embeddings, numeric_embeddings)\n",
    "]"
   ]
  },
  {
   "cell_type": "code",
   "execution_count": 26,
   "id": "d5150a08",
   "metadata": {},
   "outputs": [
    {
     "name": "stdout",
     "output_type": "stream",
     "text": [
      "Num Embeddings: 157685\n",
      "Embedding Size: 30\n"
     ]
    },
    {
     "data": {
      "text/plain": [
       "[-1.306182861328125,\n",
       " 1.4497450590133667,\n",
       " 1.283847451210022,\n",
       " -0.37391582131385803,\n",
       " 0.6290790438652039,\n",
       " -0.0010437369346618652,\n",
       " -1.4169771671295166,\n",
       " -0.2195759266614914,\n",
       " -0.3732934892177582,\n",
       " 1.2440404891967773,\n",
       " 0.8359612226486206,\n",
       " 0.15343892574310303,\n",
       " 0.51530921459198,\n",
       " -0.534656286239624,\n",
       " -0.9461686015129089,\n",
       " 1.2703070294949106,\n",
       " -1.461259048884883,\n",
       " 4.752569009266444,\n",
       " -1.007676175100162,\n",
       " -0.3092011481361043,\n",
       " 2.262496351074803,\n",
       " 1.3649563314116429,\n",
       " 2.6110012104955738,\n",
       " -1.5078176079821606,\n",
       " 0.6453499264358126,\n",
       " -1.2499471942272533,\n",
       " -0.38364744367670833,\n",
       " -1.1655450558051375,\n",
       " -1.7786347004763523,\n",
       " -2.142666230649]"
      ]
     },
     "execution_count": 26,
     "metadata": {},
     "output_type": "execute_result"
    }
   ],
   "source": [
    "show_embeddings(row_embeddings)"
   ]
  },
  {
   "cell_type": "markdown",
   "id": "f1d97c52",
   "metadata": {},
   "source": [
    "### Create DataFrame With Embeddings"
   ]
  },
  {
   "cell_type": "markdown",
   "id": "ae9205b8",
   "metadata": {},
   "source": [
    "We can take these defined embeddings and create a Pandas DataFrame containing them.\n",
    "This will be the table we insert into our vector database.\n",
    "\n",
    "To enable proper filtering of the data once inserted into the KDB.AI vector database, we will pair these embedding vectors with three song description columns: `song_name`, `song_artists`, and `song_year`."
   ]
  },
  {
   "cell_type": "code",
   "execution_count": 27,
   "id": "40e00e5f",
   "metadata": {},
   "outputs": [],
   "source": [
    "embedded_song_df = song_data[[\"song_name\", \"song_artists\", \"song_year\"]]"
   ]
  },
  {
   "cell_type": "code",
   "execution_count": 28,
   "id": "5af8b92f",
   "metadata": {},
   "outputs": [],
   "source": [
    "embedded_song_df[\"song_embeddings\"] = row_embeddings"
   ]
  },
  {
   "cell_type": "code",
   "execution_count": 29,
   "id": "a5430d33",
   "metadata": {},
   "outputs": [
    {
     "name": "stdout",
     "output_type": "stream",
     "text": [
      "(157685, 4)\n"
     ]
    },
    {
     "data": {
      "text/html": [
       "<div>\n",
       "<style scoped>\n",
       "    .dataframe tbody tr th:only-of-type {\n",
       "        vertical-align: middle;\n",
       "    }\n",
       "\n",
       "    .dataframe tbody tr th {\n",
       "        vertical-align: top;\n",
       "    }\n",
       "\n",
       "    .dataframe thead th {\n",
       "        text-align: right;\n",
       "    }\n",
       "</style>\n",
       "<table border=\"1\" class=\"dataframe\">\n",
       "  <thead>\n",
       "    <tr style=\"text-align: right;\">\n",
       "      <th></th>\n",
       "      <th>song_name</th>\n",
       "      <th>song_artists</th>\n",
       "      <th>song_year</th>\n",
       "      <th>song_embeddings</th>\n",
       "    </tr>\n",
       "  </thead>\n",
       "  <tbody>\n",
       "    <tr>\n",
       "      <th>0</th>\n",
       "      <td>Piano Concerto No. 3 in D Minor, Op. 30: III. Finale. Alla breve</td>\n",
       "      <td>Sergei Rachmaninoff, James Levine, Berliner Philharmoniker</td>\n",
       "      <td>1921</td>\n",
       "      <td>[-1.306182861328125, 1.4497450590133667, 1.283847451210022, -0.37391582131385803, 0.6290790438652039, -0.0010437369346618652, -1.4169771671295166, -0.2195759266614914, -0.3732934892177582, 1.2440404891967773, 0.8359612226486206, 0.15343892574310303, 0.51530921459198, -0.534656286239624, -0.9461686015129089, 1.2703070294949106, -1.461259048884883, 4.752569009266444, -1.007676175100162, -0.3092011481361043, 2.262496351074803, 1.3649563314116429, 2.6110012104955738, -1.5078176079821606, 0.6453499264358126, -1.2499471942272533, -0.38364744367670833, -1.1655450558051375, -1.7786347004763523, -2.142666230649]</td>\n",
       "    </tr>\n",
       "    <tr>\n",
       "      <th>1</th>\n",
       "      <td>Clancy Lowered the Boom</td>\n",
       "      <td>Dennis Day</td>\n",
       "      <td>1921</td>\n",
       "      <td>[-0.29974231123924255, 0.761445164680481, 1.224726676940918, 0.10159605741500854, 0.7863611578941345, 0.7182739973068237, -0.724828839302063, 0.01951512321829796, -0.19665169715881348, -0.04318639636039734, 0.8203275799751282, 0.3068835437297821, 0.6379690766334534, -0.533280074596405, 0.09706346690654755, 0.6055353575765545, 1.600008527700499, -0.3958314054754836, -0.5219481676317469, -0.3092011481361043, -0.5349944602375606, 0.5117210944216953, -0.26640400859153673, -0.1646257835500665, 0.6453499264358126, -1.2044048830284118, 1.872793548131166, -1.8164526201212032, 1.6541851866630062, -2.142666230649]</td>\n",
       "    </tr>\n",
       "    <tr>\n",
       "      <th>2</th>\n",
       "      <td>Gati Bali</td>\n",
       "      <td>KHP Kridhamardawa Karaton Ngayogyakarta Hadiningrat</td>\n",
       "      <td>1921</td>\n",
       "      <td>[-0.34657829999923706, 0.5139216184616089, -0.23727956414222717, 0.5176736116409302, 1.0185598134994507, 0.16897541284561157, 0.13408352434635162, -0.06599444150924683, -0.24015653133392334, 0.28537827730178833, 0.7764918208122253, 0.19054535031318665, 0.36814096570014954, 0.4701331853866577, -0.9946604371070862, 1.2144662090537686, -1.183477361379913, 2.1306274127125904, -1.1758127930699978, -0.3092011481361043, 2.374013638541697, -0.6259258882315683, -0.6025761034947833, -0.5873232499193564, 0.6453499264358126, -1.2044048830284118, -0.3997478418740689, -0.21005905433508043, -1.854615663007104, -2.142666230649]</td>\n",
       "    </tr>\n",
       "    <tr>\n",
       "      <th>3</th>\n",
       "      <td>Danny Boy</td>\n",
       "      <td>Frank Parker</td>\n",
       "      <td>1921</td>\n",
       "      <td>[-0.5785746574401855, 1.0987048149108887, 1.7012841701507568, 0.0821155458688736, 0.6395443081855774, 0.5136593580245972, -0.8803048133850098, 0.221713587641716, -0.030609577894210815, 0.20444893836975098, 1.0348442792892456, 0.35724061727523804, 1.0183840990066528, -0.5400786995887756, 0.3654381334781647, 1.2304207291798093, -1.4839351050077376, -0.16284109162119192, -0.6415119848547415, -0.3092011481361043, -0.5349062022700511, -0.05710239690493648, 0.9928168892663868, 0.3837053008849818, 0.6453499264358126, -1.295489505426095, -0.39080317620886856, -0.5426988976237884, -1.3774552183139837, -2.142666230649]</td>\n",
       "    </tr>\n",
       "    <tr>\n",
       "      <th>4</th>\n",
       "      <td>When Irish Eyes Are Smiling</td>\n",
       "      <td>Phil Regan</td>\n",
       "      <td>1921</td>\n",
       "      <td>[-0.27261143922805786, 0.833780825138092, 0.8910992741584778, -0.013010159134864807, 1.0156773328781128, 0.7111427783966064, -1.197956919670105, 0.241031214594841, -0.11696281284093857, -0.20735326409339905, 1.3338439464569092, -0.01072670891880989, 0.6512774229049683, -0.44728603959083557, 0.10168053209781647, 1.203829862303075, -0.6732660986156829, -0.5052618172494476, -1.0749308222880962, -0.3092011481361043, -0.5349891074077622, -0.6259258882315683, 0.12674640748175162, 0.24684186220999385, 0.6453499264358126, -1.3410318166249366, -0.3752990890558546, -0.4921038246856425, -1.0431389831786766, -2.142666230649]</td>\n",
       "    </tr>\n",
       "  </tbody>\n",
       "</table>\n",
       "</div>"
      ],
      "text/plain": [
       "                                                          song_name  \\\n",
       "0  Piano Concerto No. 3 in D Minor, Op. 30: III. Finale. Alla breve   \n",
       "1                                           Clancy Lowered the Boom   \n",
       "2                                                         Gati Bali   \n",
       "3                                                         Danny Boy   \n",
       "4                                       When Irish Eyes Are Smiling   \n",
       "\n",
       "                                                 song_artists  song_year  \\\n",
       "0  Sergei Rachmaninoff, James Levine, Berliner Philharmoniker       1921   \n",
       "1                                                  Dennis Day       1921   \n",
       "2         KHP Kridhamardawa Karaton Ngayogyakarta Hadiningrat       1921   \n",
       "3                                                Frank Parker       1921   \n",
       "4                                                  Phil Regan       1921   \n",
       "\n",
       "                                                                                                                                                                                                                                                                                                                                                                                                                                                                                                                                                                                                                                song_embeddings  \n",
       "0            [-1.306182861328125, 1.4497450590133667, 1.283847451210022, -0.37391582131385803, 0.6290790438652039, -0.0010437369346618652, -1.4169771671295166, -0.2195759266614914, -0.3732934892177582, 1.2440404891967773, 0.8359612226486206, 0.15343892574310303, 0.51530921459198, -0.534656286239624, -0.9461686015129089, 1.2703070294949106, -1.461259048884883, 4.752569009266444, -1.007676175100162, -0.3092011481361043, 2.262496351074803, 1.3649563314116429, 2.6110012104955738, -1.5078176079821606, 0.6453499264358126, -1.2499471942272533, -0.38364744367670833, -1.1655450558051375, -1.7786347004763523, -2.142666230649]  \n",
       "1           [-0.29974231123924255, 0.761445164680481, 1.224726676940918, 0.10159605741500854, 0.7863611578941345, 0.7182739973068237, -0.724828839302063, 0.01951512321829796, -0.19665169715881348, -0.04318639636039734, 0.8203275799751282, 0.3068835437297821, 0.6379690766334534, -0.533280074596405, 0.09706346690654755, 0.6055353575765545, 1.600008527700499, -0.3958314054754836, -0.5219481676317469, -0.3092011481361043, -0.5349944602375606, 0.5117210944216953, -0.26640400859153673, -0.1646257835500665, 0.6453499264358126, -1.2044048830284118, 1.872793548131166, -1.8164526201212032, 1.6541851866630062, -2.142666230649]  \n",
       "2   [-0.34657829999923706, 0.5139216184616089, -0.23727956414222717, 0.5176736116409302, 1.0185598134994507, 0.16897541284561157, 0.13408352434635162, -0.06599444150924683, -0.24015653133392334, 0.28537827730178833, 0.7764918208122253, 0.19054535031318665, 0.36814096570014954, 0.4701331853866577, -0.9946604371070862, 1.2144662090537686, -1.183477361379913, 2.1306274127125904, -1.1758127930699978, -0.3092011481361043, 2.374013638541697, -0.6259258882315683, -0.6025761034947833, -0.5873232499193564, 0.6453499264358126, -1.2044048830284118, -0.3997478418740689, -0.21005905433508043, -1.854615663007104, -2.142666230649]  \n",
       "3      [-0.5785746574401855, 1.0987048149108887, 1.7012841701507568, 0.0821155458688736, 0.6395443081855774, 0.5136593580245972, -0.8803048133850098, 0.221713587641716, -0.030609577894210815, 0.20444893836975098, 1.0348442792892456, 0.35724061727523804, 1.0183840990066528, -0.5400786995887756, 0.3654381334781647, 1.2304207291798093, -1.4839351050077376, -0.16284109162119192, -0.6415119848547415, -0.3092011481361043, -0.5349062022700511, -0.05710239690493648, 0.9928168892663868, 0.3837053008849818, 0.6453499264358126, -1.295489505426095, -0.39080317620886856, -0.5426988976237884, -1.3774552183139837, -2.142666230649]  \n",
       "4  [-0.27261143922805786, 0.833780825138092, 0.8910992741584778, -0.013010159134864807, 1.0156773328781128, 0.7111427783966064, -1.197956919670105, 0.241031214594841, -0.11696281284093857, -0.20735326409339905, 1.3338439464569092, -0.01072670891880989, 0.6512774229049683, -0.44728603959083557, 0.10168053209781647, 1.203829862303075, -0.6732660986156829, -0.5052618172494476, -1.0749308222880962, -0.3092011481361043, -0.5349891074077622, -0.6259258882315683, 0.12674640748175162, 0.24684186220999385, 0.6453499264358126, -1.3410318166249366, -0.3752990890558546, -0.4921038246856425, -1.0431389831786766, -2.142666230649]  "
      ]
     },
     "execution_count": 29,
     "metadata": {},
     "output_type": "execute_result"
    }
   ],
   "source": [
    "show_df(embedded_song_df)"
   ]
  },
  {
   "cell_type": "markdown",
   "id": "e59c8f54",
   "metadata": {},
   "source": [
    "## 3. Store Embeddings In KDB.AI"
   ]
  },
  {
   "cell_type": "markdown",
   "id": "9d2724a9",
   "metadata": {},
   "source": [
    "Now that our data has been read in and our embeddings have been defined, we can set about creating a KDB.AI vector database and ingesting the data into it.\n",
    "\n",
    "Once we have the database set up, we can then query our data and start deriving some insights"
   ]
  },
  {
   "cell_type": "markdown",
   "id": "fb7cbcea",
   "metadata": {},
   "source": [
    "### Connect to KDB.AI Session\n",
    "\n",
    "To use KDB.AI, you will need two session details - a URL endpoint and an API key. To get these you can sign up for free [here](https://trykdb.kx.com/kdbai/signup).\n",
    "\n",
    "You can connect to a KDB.AI session using `kdbai.Session` and passing the session URL endpoint and API key details from your KDB.AI Cloud portal.\n",
    "\n",
    "If the environment variables `KDBAI_ENDPOINTS` and `KDBAI_API_KEY` exist on your system containing your KDB.AI Cloud portal details, these variables will automatically be used to connect.\n",
    "If these do not exist, it will prompt you to enter your KDB.AI Cloud portal session URL endpoint and API key details."
   ]
  },
  {
   "cell_type": "code",
   "execution_count": 30,
   "id": "53c01082",
   "metadata": {},
   "outputs": [],
   "source": [
    "KDBAI_ENDPOINT = (\n",
    "    os.environ[\"KDBAI_ENDPOINT\"]\n",
    "    if \"KDBAI_ENDPOINT\" in os.environ\n",
    "    else input(\"KDB.AI endpoint: \")\n",
    ")\n",
    "KDBAI_API_KEY = (\n",
    "    os.environ[\"KDBAI_API_KEY\"]\n",
    "    if \"KDBAI_API_KEY\" in os.environ\n",
    "    else getpass(\"KDB.AI API key: \")\n",
    ")"
   ]
  },
  {
   "cell_type": "code",
   "execution_count": 31,
   "id": "8f2409e5",
   "metadata": {},
   "outputs": [],
   "source": [
    "session = kdbai.Session(api_key=KDBAI_API_KEY, endpoint=KDBAI_ENDPOINT)"
   ]
  },
  {
   "cell_type": "markdown",
   "id": "ecb9a4ac",
   "metadata": {},
   "source": [
    "We can check if there are any tables defined in this KDB.AI session - it should not contain a table called `songs`."
   ]
  },
  {
   "cell_type": "code",
   "execution_count": 32,
   "id": "61082605",
   "metadata": {},
   "outputs": [
    {
     "data": {
      "text/plain": [
       "[]"
      ]
     },
     "execution_count": 32,
     "metadata": {},
     "output_type": "execute_result"
    }
   ],
   "source": [
    "session.list()"
   ]
  },
  {
   "cell_type": "markdown",
   "id": "1a3e5fcc",
   "metadata": {},
   "source": [
    "### Define Vector DB Table Schema\n",
    "\n",
    "The next step is to define the schema for the table in KDB.AI which will store our embeddings.\n",
    "\n",
    "As mentioned above, our table will have four columns:\n",
    "- Song Name\n",
    "- Song Artists\n",
    "- Song Year\n",
    "- Song Embeddings\n",
    "\n",
    "When defining the schema, we must supply the types of these columns. We can use the `.dtypes()` function on the defined Pandas DataFrame to help with this."
   ]
  },
  {
   "cell_type": "code",
   "execution_count": 33,
   "id": "d535b113",
   "metadata": {},
   "outputs": [
    {
     "data": {
      "text/plain": [
       "song_name          object\n",
       "song_artists       object\n",
       "song_year           int64\n",
       "song_embeddings    object\n",
       "dtype: object"
      ]
     },
     "execution_count": 33,
     "metadata": {},
     "output_type": "execute_result"
    }
   ],
   "source": [
    "embedded_song_df.dtypes"
   ]
  },
  {
   "cell_type": "code",
   "execution_count": 34,
   "id": "c1c94ebc",
   "metadata": {},
   "outputs": [],
   "source": [
    "schema = {\n",
    "    \"columns\": [\n",
    "        {\n",
    "            \"name\": \"song_name\",\n",
    "            \"pytype\": \"str\",\n",
    "        },\n",
    "        {\n",
    "            \"name\": \"song_artists\",\n",
    "            \"pytype\": \"str\",\n",
    "        },\n",
    "        {\n",
    "            \"name\": \"song_year\",\n",
    "            \"pytype\": \"int64\",\n",
    "        },\n",
    "        {\n",
    "            \"name\": \"song_embeddings\",\n",
    "            \"vectorIndex\": {\n",
    "                \"dims\": len(numeric_cols) + embedding_dim,\n",
    "                \"metric\": \"L2\",\n",
    "                \"type\": \"flat\",\n",
    "            },\n",
    "        },\n",
    "    ]\n",
    "}"
   ]
  },
  {
   "cell_type": "markdown",
   "id": "c70075f1",
   "metadata": {},
   "source": [
    "### Create Vector DB Table\n",
    "\n",
    "Use the KDB.AI `create_table` function to create a table that matches the defined schema in the vector database."
   ]
  },
  {
   "cell_type": "code",
   "execution_count": 35,
   "id": "13bd4adf",
   "metadata": {},
   "outputs": [],
   "source": [
    "# First ensure the table does not already exist\n",
    "try:\n",
    "    session.table(\"songs\").drop()\n",
    "    time.sleep(5)\n",
    "except kdbai.KDBAIException:\n",
    "    pass"
   ]
  },
  {
   "cell_type": "code",
   "execution_count": 36,
   "id": "e1179907",
   "metadata": {
    "scrolled": true
   },
   "outputs": [],
   "source": [
    "table = session.create_table(\"songs\", schema)"
   ]
  },
  {
   "cell_type": "markdown",
   "id": "f7cef68a",
   "metadata": {},
   "source": [
    "### Add Embedded Data to KDB.AI Table\n",
    "\n",
    "When adding larger amounts of data, you should insert data into an index in chunks.\n",
    "\n",
    "It is a good idea to first get an idea of how large your dataset to insert is."
   ]
  },
  {
   "cell_type": "code",
   "execution_count": 37,
   "id": "a7c74728",
   "metadata": {},
   "outputs": [
    {
     "data": {
      "text/plain": [
       "79.63715362548828"
      ]
     },
     "execution_count": 37,
     "metadata": {},
     "output_type": "execute_result"
    }
   ],
   "source": [
    "embedded_song_df.memory_usage(deep=True).sum() / (1024**2)"
   ]
  },
  {
   "cell_type": "markdown",
   "id": "a3202579",
   "metadata": {},
   "source": [
    "This dataset is 80MB which exceeds the insert limit of <10MB at a time. As such, we'll insert this data in chunks, inserting 10,000 rows at a time."
   ]
  },
  {
   "cell_type": "code",
   "execution_count": 38,
   "id": "c2179418",
   "metadata": {},
   "outputs": [],
   "source": [
    "chunk_size = 10_000"
   ]
  },
  {
   "cell_type": "code",
   "execution_count": 39,
   "id": "a6a2fd78",
   "metadata": {
    "scrolled": true
   },
   "outputs": [],
   "source": [
    "for i in range((len(embedded_song_df) // chunk_size) + 1):\n",
    "    index = i * chunk_size\n",
    "    table.insert(\n",
    "        embedded_song_df.iloc[index : index + chunk_size].reset_index(drop=True)\n",
    "    )"
   ]
  },
  {
   "cell_type": "markdown",
   "id": "20a556b3",
   "metadata": {},
   "source": [
    "### Verify Data Has Been Inserted\n",
    "\n",
    "Running `table.query()` should show us that data has been added."
   ]
  },
  {
   "cell_type": "code",
   "execution_count": 40,
   "id": "f9a04081",
   "metadata": {},
   "outputs": [
    {
     "name": "stdout",
     "output_type": "stream",
     "text": [
      "(157685, 4)\n"
     ]
    },
    {
     "data": {
      "text/html": [
       "<div>\n",
       "<style scoped>\n",
       "    .dataframe tbody tr th:only-of-type {\n",
       "        vertical-align: middle;\n",
       "    }\n",
       "\n",
       "    .dataframe tbody tr th {\n",
       "        vertical-align: top;\n",
       "    }\n",
       "\n",
       "    .dataframe thead th {\n",
       "        text-align: right;\n",
       "    }\n",
       "</style>\n",
       "<table border=\"1\" class=\"dataframe\">\n",
       "  <thead>\n",
       "    <tr style=\"text-align: right;\">\n",
       "      <th></th>\n",
       "      <th>song_name</th>\n",
       "      <th>song_artists</th>\n",
       "      <th>song_year</th>\n",
       "      <th>song_embeddings</th>\n",
       "    </tr>\n",
       "  </thead>\n",
       "  <tbody>\n",
       "    <tr>\n",
       "      <th>0</th>\n",
       "      <td>Piano Concerto No. 3 in D Minor, Op. 30: III. Finale. Alla breve</td>\n",
       "      <td>Sergei Rachmaninoff, James Levine, Berliner Philharmoniker</td>\n",
       "      <td>1921</td>\n",
       "      <td>[-1.306182861328125, 1.4497450590133667, 1.283847451210022, -0.37391582131385803, 0.6290790438652039, -0.0010437369346618652, -1.4169771671295166, -0.2195759266614914, -0.3732934892177582, 1.2440404891967773, 0.8359612226486206, 0.15343892574310303, 0.51530921459198, -0.534656286239624, -0.9461686015129089, 1.2703070294949106, -1.461259048884883, 4.752569009266444, -1.007676175100162, -0.3092011481361043, 2.262496351074803, 1.3649563314116429, 2.6110012104955738, -1.5078176079821606, 0.6453499264358126, -1.2499471942272533, -0.38364744367670833, -1.1655450558051375, -1.7786347004763523, -2.142666230649]</td>\n",
       "    </tr>\n",
       "    <tr>\n",
       "      <th>1</th>\n",
       "      <td>Clancy Lowered the Boom</td>\n",
       "      <td>Dennis Day</td>\n",
       "      <td>1921</td>\n",
       "      <td>[-0.29974231123924255, 0.761445164680481, 1.224726676940918, 0.10159605741500854, 0.7863611578941345, 0.7182739973068237, -0.724828839302063, 0.01951512321829796, -0.19665169715881348, -0.04318639636039734, 0.8203275799751282, 0.3068835437297821, 0.6379690766334534, -0.533280074596405, 0.09706346690654755, 0.6055353575765545, 1.600008527700499, -0.3958314054754836, -0.5219481676317469, -0.3092011481361043, -0.5349944602375606, 0.5117210944216953, -0.26640400859153673, -0.1646257835500665, 0.6453499264358126, -1.2044048830284118, 1.872793548131166, -1.8164526201212032, 1.6541851866630062, -2.142666230649]</td>\n",
       "    </tr>\n",
       "    <tr>\n",
       "      <th>2</th>\n",
       "      <td>Gati Bali</td>\n",
       "      <td>KHP Kridhamardawa Karaton Ngayogyakarta Hadiningrat</td>\n",
       "      <td>1921</td>\n",
       "      <td>[-0.34657829999923706, 0.5139216184616089, -0.23727956414222717, 0.5176736116409302, 1.0185598134994507, 0.16897541284561157, 0.13408352434635162, -0.06599444150924683, -0.24015653133392334, 0.28537827730178833, 0.7764918208122253, 0.19054535031318665, 0.36814096570014954, 0.4701331853866577, -0.9946604371070862, 1.2144662090537686, -1.183477361379913, 2.1306274127125904, -1.1758127930699978, -0.3092011481361043, 2.374013638541697, -0.6259258882315683, -0.6025761034947833, -0.5873232499193564, 0.6453499264358126, -1.2044048830284118, -0.3997478418740689, -0.21005905433508043, -1.854615663007104, -2.142666230649]</td>\n",
       "    </tr>\n",
       "    <tr>\n",
       "      <th>3</th>\n",
       "      <td>Danny Boy</td>\n",
       "      <td>Frank Parker</td>\n",
       "      <td>1921</td>\n",
       "      <td>[-0.5785746574401855, 1.0987048149108887, 1.7012841701507568, 0.0821155458688736, 0.6395443081855774, 0.5136593580245972, -0.8803048133850098, 0.221713587641716, -0.030609577894210815, 0.20444893836975098, 1.0348442792892456, 0.35724061727523804, 1.0183840990066528, -0.5400786995887756, 0.3654381334781647, 1.2304207291798093, -1.4839351050077376, -0.16284109162119192, -0.6415119848547415, -0.3092011481361043, -0.5349062022700511, -0.05710239690493648, 0.9928168892663868, 0.3837053008849818, 0.6453499264358126, -1.295489505426095, -0.39080317620886856, -0.5426988976237884, -1.3774552183139837, -2.142666230649]</td>\n",
       "    </tr>\n",
       "    <tr>\n",
       "      <th>4</th>\n",
       "      <td>When Irish Eyes Are Smiling</td>\n",
       "      <td>Phil Regan</td>\n",
       "      <td>1921</td>\n",
       "      <td>[-0.27261143922805786, 0.833780825138092, 0.8910992741584778, -0.013010159134864807, 1.0156773328781128, 0.7111427783966064, -1.197956919670105, 0.241031214594841, -0.11696281284093857, -0.20735326409339905, 1.3338439464569092, -0.01072670891880989, 0.6512774229049683, -0.44728603959083557, 0.10168053209781647, 1.203829862303075, -0.6732660986156829, -0.5052618172494476, -1.0749308222880962, -0.3092011481361043, -0.5349891074077622, -0.6259258882315683, 0.12674640748175162, 0.24684186220999385, 0.6453499264358126, -1.3410318166249366, -0.3752990890558546, -0.4921038246856425, -1.0431389831786766, -2.142666230649]</td>\n",
       "    </tr>\n",
       "  </tbody>\n",
       "</table>\n",
       "</div>"
      ],
      "text/plain": [
       "                                                          song_name  \\\n",
       "0  Piano Concerto No. 3 in D Minor, Op. 30: III. Finale. Alla breve   \n",
       "1                                           Clancy Lowered the Boom   \n",
       "2                                                         Gati Bali   \n",
       "3                                                         Danny Boy   \n",
       "4                                       When Irish Eyes Are Smiling   \n",
       "\n",
       "                                                 song_artists  song_year  \\\n",
       "0  Sergei Rachmaninoff, James Levine, Berliner Philharmoniker       1921   \n",
       "1                                                  Dennis Day       1921   \n",
       "2         KHP Kridhamardawa Karaton Ngayogyakarta Hadiningrat       1921   \n",
       "3                                                Frank Parker       1921   \n",
       "4                                                  Phil Regan       1921   \n",
       "\n",
       "                                                                                                                                                                                                                                                                                                                                                                                                                                                                                                                                                                                                                                song_embeddings  \n",
       "0            [-1.306182861328125, 1.4497450590133667, 1.283847451210022, -0.37391582131385803, 0.6290790438652039, -0.0010437369346618652, -1.4169771671295166, -0.2195759266614914, -0.3732934892177582, 1.2440404891967773, 0.8359612226486206, 0.15343892574310303, 0.51530921459198, -0.534656286239624, -0.9461686015129089, 1.2703070294949106, -1.461259048884883, 4.752569009266444, -1.007676175100162, -0.3092011481361043, 2.262496351074803, 1.3649563314116429, 2.6110012104955738, -1.5078176079821606, 0.6453499264358126, -1.2499471942272533, -0.38364744367670833, -1.1655450558051375, -1.7786347004763523, -2.142666230649]  \n",
       "1           [-0.29974231123924255, 0.761445164680481, 1.224726676940918, 0.10159605741500854, 0.7863611578941345, 0.7182739973068237, -0.724828839302063, 0.01951512321829796, -0.19665169715881348, -0.04318639636039734, 0.8203275799751282, 0.3068835437297821, 0.6379690766334534, -0.533280074596405, 0.09706346690654755, 0.6055353575765545, 1.600008527700499, -0.3958314054754836, -0.5219481676317469, -0.3092011481361043, -0.5349944602375606, 0.5117210944216953, -0.26640400859153673, -0.1646257835500665, 0.6453499264358126, -1.2044048830284118, 1.872793548131166, -1.8164526201212032, 1.6541851866630062, -2.142666230649]  \n",
       "2   [-0.34657829999923706, 0.5139216184616089, -0.23727956414222717, 0.5176736116409302, 1.0185598134994507, 0.16897541284561157, 0.13408352434635162, -0.06599444150924683, -0.24015653133392334, 0.28537827730178833, 0.7764918208122253, 0.19054535031318665, 0.36814096570014954, 0.4701331853866577, -0.9946604371070862, 1.2144662090537686, -1.183477361379913, 2.1306274127125904, -1.1758127930699978, -0.3092011481361043, 2.374013638541697, -0.6259258882315683, -0.6025761034947833, -0.5873232499193564, 0.6453499264358126, -1.2044048830284118, -0.3997478418740689, -0.21005905433508043, -1.854615663007104, -2.142666230649]  \n",
       "3      [-0.5785746574401855, 1.0987048149108887, 1.7012841701507568, 0.0821155458688736, 0.6395443081855774, 0.5136593580245972, -0.8803048133850098, 0.221713587641716, -0.030609577894210815, 0.20444893836975098, 1.0348442792892456, 0.35724061727523804, 1.0183840990066528, -0.5400786995887756, 0.3654381334781647, 1.2304207291798093, -1.4839351050077376, -0.16284109162119192, -0.6415119848547415, -0.3092011481361043, -0.5349062022700511, -0.05710239690493648, 0.9928168892663868, 0.3837053008849818, 0.6453499264358126, -1.295489505426095, -0.39080317620886856, -0.5426988976237884, -1.3774552183139837, -2.142666230649]  \n",
       "4  [-0.27261143922805786, 0.833780825138092, 0.8910992741584778, -0.013010159134864807, 1.0156773328781128, 0.7111427783966064, -1.197956919670105, 0.241031214594841, -0.11696281284093857, -0.20735326409339905, 1.3338439464569092, -0.01072670891880989, 0.6512774229049683, -0.44728603959083557, 0.10168053209781647, 1.203829862303075, -0.6732660986156829, -0.5052618172494476, -1.0749308222880962, -0.3092011481361043, -0.5349891074077622, -0.6259258882315683, 0.12674640748175162, 0.24684186220999385, 0.6453499264358126, -1.3410318166249366, -0.3752990890558546, -0.4921038246856425, -1.0431389831786766, -2.142666230649]  "
      ]
     },
     "execution_count": 40,
     "metadata": {},
     "output_type": "execute_result"
    }
   ],
   "source": [
    "show_df(table.query())"
   ]
  },
  {
   "cell_type": "markdown",
   "id": "89aca5e4",
   "metadata": {},
   "source": [
    "## 4. Search For Similar Songs To A Target Song"
   ]
  },
  {
   "cell_type": "markdown",
   "id": "6d9a23b4",
   "metadata": {},
   "source": [
    "Now that the data has been inserted into the database, we can perform some queries on the data."
   ]
  },
  {
   "cell_type": "markdown",
   "id": "6465d403",
   "metadata": {},
   "source": [
    "### Find Songs By A Certain Artist"
   ]
  },
  {
   "cell_type": "markdown",
   "id": "3aa6798d",
   "metadata": {},
   "source": [
    "We can query the database to find songs by particular artists using KDB.AI's `.query()` function.\n",
    "\n",
    "Here, we want to return all songs in the dataset by the DJ `Calvin Harris`, sorted by the year they were produced. This returns 32 songs to us."
   ]
  },
  {
   "cell_type": "code",
   "execution_count": 41,
   "id": "d30ac168",
   "metadata": {
    "scrolled": true
   },
   "outputs": [
    {
     "data": {
      "text/html": [
       "<div>\n",
       "<style scoped>\n",
       "    .dataframe tbody tr th:only-of-type {\n",
       "        vertical-align: middle;\n",
       "    }\n",
       "\n",
       "    .dataframe tbody tr th {\n",
       "        vertical-align: top;\n",
       "    }\n",
       "\n",
       "    .dataframe thead th {\n",
       "        text-align: right;\n",
       "    }\n",
       "</style>\n",
       "<table border=\"1\" class=\"dataframe\">\n",
       "  <thead>\n",
       "    <tr style=\"text-align: right;\">\n",
       "      <th></th>\n",
       "      <th>song_name</th>\n",
       "      <th>song_artists</th>\n",
       "      <th>song_year</th>\n",
       "      <th>song_embeddings</th>\n",
       "    </tr>\n",
       "  </thead>\n",
       "  <tbody>\n",
       "    <tr>\n",
       "      <th>0</th>\n",
       "      <td>Flashback</td>\n",
       "      <td>Calvin Harris</td>\n",
       "      <td>2009</td>\n",
       "      <td>[-0.5308306217193604, 0.8614987730979919, 1.1055147647857666, -0.08214779198169708, 0.9314597845077515, 0.48097139596939087, -0.819793701171875, -0.2747561037540436, 0.33063453435897827, -0.007644712924957275, 0.7431244850158691, 0.5099509954452515, 0.7296927571296692, 0.18614216148853302, 0.3438257575035095, -1.3351724705550174, -1.5406252453148743, -0.011030115749796763, 1.7460279903169285, -0.3092011481361043, -0.5313940449564866, 1.0805445857483271, -0.7039975151774578, 1.0250333372402145, -1.549546934208044, 0.7539144985217788, -0.307319630000332, 0.36420802995835755, -1.2520866301382436, 1.247808968405853]</td>\n",
       "    </tr>\n",
       "    <tr>\n",
       "      <th>1</th>\n",
       "      <td>You Used To Hold Me</td>\n",
       "      <td>Calvin Harris</td>\n",
       "      <td>2009</td>\n",
       "      <td>[-0.015125058591365814, 1.257551670074463, 1.3064601421356201, -0.15788251161575317, 0.9448271989822388, 0.6127932071685791, -1.2258079051971436, 0.2828027307987213, 0.2980310022830963, -0.010570086538791656, 1.607230544090271, 0.05081271007657051, 0.8250176906585693, 0.042660534381866455, 0.17760735750198364, -1.279491195315136, 0.46053670752705134, 0.004253770518922344, 1.8244917453695186, -0.3092011481361043, -0.5349904137531296, 1.6493680770749588, 0.6224578016611152, 0.958707209266951, -1.549546934208044, 0.5717452537264123, -0.35562082459241384, 0.3955535635781341, -1.2824790151505443, 1.247808968405853]</td>\n",
       "    </tr>\n",
       "    <tr>\n",
       "      <th>2</th>\n",
       "      <td>I'm Not Alone - Radio Edit</td>\n",
       "      <td>Calvin Harris</td>\n",
       "      <td>2009</td>\n",
       "      <td>[-0.39972418546676636, 1.1283369064331055, 1.1839702129364014, -0.13868026435375214, 0.7734965085983276, 0.7137905359268188, -1.1721179485321045, 0.27151015400886536, 0.23957271873950958, 0.1312033236026764, 1.3197147846221924, 0.21488842368125916, 0.7364214658737183, -0.131475567817688, 0.24552437663078308, -1.3273547556932577, 0.3074733286977821, -0.1491385696844665, 0.7932538218211915, -0.3092011481361043, -0.14309084999676247, 0.5117210944216953, 0.4914076629700189, 0.8665875870818629, 0.6453499264358126, 0.3895760089310457, -0.411077751716656, 0.46191895166730823, -0.36310936852844955, 1.247808968405853]</td>\n",
       "    </tr>\n",
       "    <tr>\n",
       "      <th>3</th>\n",
       "      <td>We Found Love</td>\n",
       "      <td>Rihanna, Calvin Harris</td>\n",
       "      <td>2011</td>\n",
       "      <td>[-0.3097107410430908, 1.2280445098876953, 1.2125667333602905, -0.1728026419878006, 0.8294687271118164, 0.48141586780548096, -1.1926295757293701, 0.1443655639886856, 0.34478357434272766, 0.09496279805898666, 1.2233936786651611, 0.3410244882106781, 0.9546244144439697, -0.12350010871887207, 0.1781793236732483, -1.2744389306085564, 1.1181423350898372, -0.12151213480453658, 1.0660087798611477, -0.3092011481361043, -0.5305974929031516, -1.1947493795582, -0.5626912786757541, 1.2313812909348116, 0.6453499264358126, 1.9835569008905032, -0.37351015592281456, 0.36375280436636925, 0.2751307167298641, 1.3248652229298272]</td>\n",
       "    </tr>\n",
       "    <tr>\n",
       "      <th>4</th>\n",
       "      <td>Dance Wiv Me - Radio Edit</td>\n",
       "      <td>Dizzee Rascal, Calvin Harris, Chrome</td>\n",
       "      <td>2011</td>\n",
       "      <td>[-0.3572603762149811, 0.9557803273200989, 1.0952162742614746, -0.06817266345024109, 0.7185381650924683, 0.43593087792396545, -0.6681462526321411, 0.10622109472751617, 0.051009584218263626, 0.12988132238388062, 0.751168429851532, 0.2921321988105774, 0.5334352850914001, -0.01799139566719532, 0.14057756960391998, -1.2143435714671371, 1.9344803555126058, -0.20954668716662583, 0.9912813940967762, -0.3092011481361043, -0.5349944602375606, 1.6493680770749588, -0.30059100129356187, 1.2671763441267319, 0.6453499264358126, 1.5281337889020867, -0.3329610049072396, -0.1561798539118754, 1.00454795702508, 1.3248652229298272]</td>\n",
       "    </tr>\n",
       "    <tr>\n",
       "      <th>5</th>\n",
       "      <td>Feel So Close - Radio Edit</td>\n",
       "      <td>Calvin Harris</td>\n",
       "      <td>2012</td>\n",
       "      <td>[-0.42053648829460144, 1.1180672645568848, 1.255746841430664, -0.21703937649726868, 0.8270436525344849, 0.7070026993751526, -1.0651367902755737, 0.12035082280635834, 0.007855415344238281, -0.002819826127961278, 1.2384101152420044, 0.24876461923122406, 0.8643861413002014, 0.09457863867282867, 0.38695913553237915, -1.3383314655399736, 0.9650789562605678, -0.19120286091549893, 1.6563551273996828, -0.3092011481361043, -0.5125954164977816, 0.5117210944216953, -0.015699395443352974, 1.5196718418873827, 0.6453499264358126, 2.2112684568847114, -0.4170408621601229, 0.36215951479440944, 1.4870270690953529, 1.363393350191814]</td>\n",
       "    </tr>\n",
       "    <tr>\n",
       "      <th>6</th>\n",
       "      <td>Sweet Nothing (feat. Florence Welch)</td>\n",
       "      <td>Calvin Harris, Florence Welch</td>\n",
       "      <td>2012</td>\n",
       "      <td>[-0.4728338420391083, 1.1652030944824219, 1.3064470291137695, -0.17691859602928162, 0.5935453176498413, 0.31352493166923523, -0.9874248504638672, 0.04889082908630371, 0.21426185965538025, 0.08133811503648758, 1.0550730228424072, 0.619746208190918, 0.6964720487594604, -0.1069226861000061, 0.0710950419306755, -0.8170760203287275, 0.20543107614493594, -0.14259962817167257, 1.6750369738407758, -0.3092011481361043, -0.5346376049176665, 0.7961328400850112, -0.8549900662780685, 1.3266593001662457, -1.549546934208044, 1.8469299672939783, 0.048081752430295104, 0.36206196645326905, 0.20674785045218758, 1.363393350191814]</td>\n",
       "    </tr>\n",
       "    <tr>\n",
       "      <th>7</th>\n",
       "      <td>I Need Your Love (feat. Ellie Goulding)</td>\n",
       "      <td>Calvin Harris, Ellie Goulding</td>\n",
       "      <td>2012</td>\n",
       "      <td>[-0.35267454385757446, 1.3456084728240967, 1.2515703439712524, -0.23695574700832367, 0.55827397108078, 0.4133310317993164, -0.9813202619552612, 0.055671028792858124, 0.2792035639286041, 0.2638838291168213, 1.2146589756011963, 0.46945762634277344, 0.6721546649932861, 0.03832617402076721, 0.22597704827785492, -0.2506905558542882, 0.8970507878920038, 0.030931386799656055, 1.4508548165476611, -0.3092011481361043, -0.5349944602375606, 0.7961328400850112, 0.17232906441778495, 1.1294355757166477, 0.6453499264358126, 1.8013876560951365, -0.31387905148814554, 0.2663020115671261, 0.1991497541991124, 1.363393350191814]</td>\n",
       "    </tr>\n",
       "    <tr>\n",
       "      <th>8</th>\n",
       "      <td>Let's Go (feat. Ne-Yo)</td>\n",
       "      <td>Calvin Harris, Ne-Yo</td>\n",
       "      <td>2012</td>\n",
       "      <td>[-0.3434907793998718, 1.3320250511169434, 1.3410630226135254, -0.34950605034828186, 0.44290268421173096, 0.5276157259941101, -0.9156208038330078, 0.03466492146253586, 0.19983598589897156, 0.26867640018463135, 1.271316647529602, 0.5008113384246826, 0.8761880397796631, -0.09519098699092865, 0.13520392775535583, -1.3202549942371695, 0.9820859983527089, 0.01743444222608983, 1.4994276172945025, -0.3092011481361043, -0.5104287949127105, -0.34151414256825235, 0.4971054950870231, 1.5038799066556534, -1.549546934208044, 1.5736761001009283, -0.24709221452131636, 0.36472828777777266, 1.3198689515276991, 1.363393350191814]</td>\n",
       "    </tr>\n",
       "    <tr>\n",
       "      <th>9</th>\n",
       "      <td>Thinking About You (feat. Ayah Marar)</td>\n",
       "      <td>Calvin Harris, Ayah Marar</td>\n",
       "      <td>2012</td>\n",
       "      <td>[-0.3584692180156708, 1.1013504266738892, 1.0012038946151733, -0.13015100359916687, 0.4944094717502594, 0.3554432690143585, -0.8369216322898865, 0.0794147327542305, 0.2171076238155365, 0.2731579840183258, 0.9672940373420715, 0.3867509067058563, 0.6934841871261597, 0.007654920220375061, 0.15832526981830597, -1.3339492906786878, 1.067121208813414, 0.1370883744063931, 1.4695366629887539, -0.3092011481361043, -0.5336817424536646, -1.479161125221516, -0.6322048305032051, 1.3664900701396077, -1.549546934208044, 1.61921841129977, -0.36575811234630756, 0.3637202882526556, 0.8373898394574263, 1.363393350191814]</td>\n",
       "    </tr>\n",
       "    <tr>\n",
       "      <th>10</th>\n",
       "      <td>Spectrum (Say My Name) - Calvin Harris Remix</td>\n",
       "      <td>Florence + The Machine, Calvin Harris</td>\n",
       "      <td>2012</td>\n",
       "      <td>[-0.458465576171875, 1.0836573839187622, 1.5261197090148926, -0.0646461695432663, 0.777942955493927, 0.4926895499229431, -0.970902144908905, 0.012973898090422153, 0.2525928020477295, -0.11812563985586166, 1.1392813920974731, 0.5634701251983643, 0.6657187938690186, -0.10320383310317993, 0.18712788820266724, -1.334933152753127, 0.23377614629850432, -0.09808422222604993, 1.7385552517404912, -0.3092011481361043, -0.5218672823986005, 1.6493680770749588, -0.6276465648096017, 1.3428021672920136, -1.549546934208044, 0.9360837433171454, -0.31447536253249225, 0.30216728499307355, 0.2295421392114131, 1.363393350191814]</td>\n",
       "    </tr>\n",
       "    <tr>\n",
       "      <th>11</th>\n",
       "      <td>Bounce (feat. Kelis) - Radio Edit</td>\n",
       "      <td>Calvin Harris, Kelis</td>\n",
       "      <td>2012</td>\n",
       "      <td>[-0.48927852511405945, 1.2154144048690796, 1.3570432662963867, -0.2128237634897232, 0.490197092294693, 0.41530588269233704, -0.7994334101676941, -0.03718215227127075, 0.09695295989513397, 0.31227579712867737, 0.8824500441551208, 0.5993185639381409, 0.6767104864120483, 0.0521518848836422, 0.26373451948165894, -1.2521026024320998, 1.3732479664719526, -0.06648065605115584, 1.802073529640207, -0.3092011481361043, 1.0358061889389716, -0.9103376338948841, 2.6053033783785695, 1.6454809259001602, -1.549546934208044, 1.4370491665044034, -0.36396917921326755, 0.3622895792492634, 0.8791793688493397, 1.363393350191814]</td>\n",
       "    </tr>\n",
       "    <tr>\n",
       "      <th>12</th>\n",
       "      <td>We'll Be Coming Back (feat. Example)</td>\n",
       "      <td>Calvin Harris, Example</td>\n",
       "      <td>2012</td>\n",
       "      <td>[-0.20690402388572693, 1.1953444480895996, 1.2011915445327759, -0.08480106294155121, 0.5272095203399658, 0.6247615814208984, -1.0606058835983276, 0.18685421347618103, 0.26344525814056396, 0.2558353841304779, 1.2361079454421997, 0.4160565435886383, 0.7933045625686646, -0.15002597868442535, 0.07591798901557922, -1.3374326942395398, 0.3358183988513505, 0.029769084015640684, 1.7609734674698028, -0.3092011481361043, -0.5349944602375606, 0.5117210944216953, 2.2292464586562937, 1.252612670524137, 0.6453499264358126, 1.5281337889020867, -0.08131774419293655, 0.36241964370411694, 0.16495832106027414, 1.363393350191814]</td>\n",
       "    </tr>\n",
       "    <tr>\n",
       "      <th>13</th>\n",
       "      <td>Drinking from the Bottle (feat. Tinie Tempah)</td>\n",
       "      <td>Calvin Harris, Tinie Tempah</td>\n",
       "      <td>2012</td>\n",
       "      <td>[-0.4226875305175781, 1.1462374925613403, 1.06029212474823, -0.10758847743272781, 0.5176975131034851, 0.3955078125, -0.7416695952415466, 0.03685520961880684, 0.12793946266174316, 0.20842278003692627, 0.9035302400588989, 0.5393052697181702, 0.5396384596824646, -0.2079879492521286, 0.136649489402771, -1.2162049321485084, 0.7269803669705941, 0.07710722529387208, 1.5143730944473768, -0.3092011481361043, -0.5347956408450482, 1.0805445857483271, -0.878920961169486, 1.2857757345107685, -1.549546934208044, 1.4370491665044034, -0.2953934091133982, 0.3662240290085925, 0.009197347872233573, 1.363393350191814]</td>\n",
       "    </tr>\n",
       "    <tr>\n",
       "      <th>14</th>\n",
       "      <td>Summer</td>\n",
       "      <td>Calvin Harris</td>\n",
       "      <td>2014</td>\n",
       "      <td>[-0.6064839363098145, 1.0790575742721558, 1.5527331829071045, -0.14170029759407043, 0.898982048034668, 0.5763092041015625, -1.0188565254211426, -0.30734777450561523, 0.051215142011642456, -0.17791138589382172, 1.022530198097229, 0.5295568108558655, 0.8713873624801636, 0.06913535296916962, 0.4336416721343994, -1.284809368690483, 0.3358183988513505, -0.06374489575680674, 1.4022820158008196, -0.3092011481361043, -0.4782799540401117, -0.34151414256825235, -0.37466281881461627, 1.394389155715663, -1.549546934208044, 2.2112684568847114, -0.3955736645636421, 0.362549708158971, 0.8183945988247383, 1.440449604715788]</td>\n",
       "    </tr>\n",
       "    <tr>\n",
       "      <th>15</th>\n",
       "      <td>Outside (feat. Ellie Goulding)</td>\n",
       "      <td>Calvin Harris, Ellie Goulding</td>\n",
       "      <td>2014</td>\n",
       "      <td>[-0.4204120635986328, 1.2873870134353638, 1.2498987913131714, -0.26445356011390686, 0.5385411977767944, 0.36169859766960144, -0.7650333046913147, -0.141153484582901, 0.2279537469148636, 0.24299181997776031, 1.0413908958435059, 0.6988539099693298, 0.6815982460975647, 0.10174357891082764, 0.2852615416049957, -0.7745306333259528, 0.6192691003870343, -0.02631400201851587, 1.2789818292896065, -0.3092011481361043, -0.5349944602375606, -0.9103376338948841, 0.6566447943631403, 1.2948999637557677, -1.549546934208044, 2.2112684568847114, -0.366950734435001, 0.36534609393832856, -0.41629604229997574, 1.440449604715788]</td>\n",
       "    </tr>\n",
       "    <tr>\n",
       "      <th>16</th>\n",
       "      <td>Blame (feat. John Newman)</td>\n",
       "      <td>Calvin Harris, John Newman</td>\n",
       "      <td>2014</td>\n",
       "      <td>[-0.5285425782203674, 1.2728089094161987, 1.5391204357147217, -0.023601127788424492, 0.6945047974586487, 0.3795566260814667, -1.0958408117294312, -0.20445241034030914, 0.1283784955739975, 0.23754137754440308, 0.8742660284042358, 0.5902172923088074, 0.8817672729492188, -0.21660791337490082, 0.32548999786376953, -1.2646003098641647, -0.6959421547385375, -0.13943689950768517, 1.406018385089038, -0.3092011481361043, -0.51670562509299, -1.479161125221516, 0.7762992688202281, 1.3027959313716324, -1.549546934208044, 2.0290992120893447, -0.12007796207547143, 0.36498841668748067, -0.6822294111576065, 1.440449604715788]</td>\n",
       "    </tr>\n",
       "    <tr>\n",
       "      <th>17</th>\n",
       "      <td>Under Control (feat. Hurts)</td>\n",
       "      <td>Calvin Harris, Alesso, Hurts</td>\n",
       "      <td>2014</td>\n",
       "      <td>[-0.4152667224407196, 1.2260040044784546, 1.2381407022476196, -0.12765085697174072, 0.5559269785881042, 0.3944058120250702, -0.841521143913269, 0.04648079350590706, 0.28801673650741577, 0.237892746925354, 1.0497123003005981, 0.5543962717056274, 0.7254633903503418, -0.04301304742693901, 0.2142745405435562, -0.9978939150905204, 0.04102966925423999, -0.36620454471558167, 1.6227278038057156, -0.3092011481361043, -0.532082265930568, 0.7961328400850112, -0.5228064538567248, 1.4208845137155646, 0.6453499264358126, 1.8924722784928198, -0.10039969761203067, 0.30223231722050037, -0.06678361465851812, 1.440449604715788]</td>\n",
       "    </tr>\n",
       "    <tr>\n",
       "      <th>18</th>\n",
       "      <td>Pray to God (feat. HAIM)</td>\n",
       "      <td>Calvin Harris, HAIM</td>\n",
       "      <td>2014</td>\n",
       "      <td>[-0.3865477442741394, 1.198242425918579, 1.1574599742889404, -0.12872175872325897, 0.47283464670181274, 0.4114806354045868, -0.9328010082244873, -0.006969084031879902, 0.2998841106891632, 0.1843392252922058, 1.0056097507476807, 0.5567216277122498, 0.6339241862297058, -0.08579456061124802, 0.0853601023554802, -1.3010297974852907, 0.39250853915848727, 0.01290383341492788, 1.7497643596051469, -0.3092011481361043, -0.5349065208908724, 0.5117210944216953, -0.5569934465587499, 1.5359901749601697, -1.549546934208044, 1.4370491665044034, -0.3550245135480672, 0.10508711977578558, -0.3479131760222992, 1.440449604715788]</td>\n",
       "    </tr>\n",
       "    <tr>\n",
       "      <th>19</th>\n",
       "      <td>Open Wide (feat. Big Sean)</td>\n",
       "      <td>Calvin Harris, Big Sean</td>\n",
       "      <td>2014</td>\n",
       "      <td>[-0.4465634226799011, 1.4295555353164673, 1.4648340940475464, -0.22891812026500702, 0.6227225065231323, 0.3314497768878937, -0.877935528755188, -0.11961967498064041, 0.19314377009868622, 0.26140257716178894, 1.1644346714019775, 0.719255268573761, 0.7062605619430542, -0.10439344495534897, 0.4159752428531647, -1.1553118470007873, 1.2655366998883928, -0.3403729583524646, 1.7273461438758355, 3.2341406428407566, -0.5349944602375606, -1.1947493795582, 1.8133047141149887, 1.5440616085230539, 0.6453499264358126, 1.254879921709037, -0.38543637680974835, 0.36342764322923443, 0.6018488556120964, 1.440449604715788]</td>\n",
       "    </tr>\n",
       "    <tr>\n",
       "      <th>20</th>\n",
       "      <td>How Deep Is Your Love</td>\n",
       "      <td>Calvin Harris, Disciples</td>\n",
       "      <td>2015</td>\n",
       "      <td>[-0.3717888295650482, 1.1681870222091675, 1.164050579071045, -0.07348334044218063, 0.8693994283676147, 0.3623064458370209, -1.0788480043411255, 0.19320274889469147, 0.16350699961185455, -0.11493458598852158, 1.2751753330230713, 0.2482435703277588, 0.7694634199142456, -0.26915469765663147, 0.20645126700401306, -1.2374776256498958, 1.140818391212692, -0.1419670824388751, 1.4471184472594425, -0.3092011481361043, -0.5295460441927495, 1.6493680770749588, 1.032701714085416, 1.251033477000964, -1.549546934208044, 2.0746415232881863, -0.16599391249016654, 0.16920889601873085, -0.7278179886760573, 1.478977731977775]</td>\n",
       "    </tr>\n",
       "    <tr>\n",
       "      <th>21</th>\n",
       "      <td>This Is What You Came For (feat. Rihanna)</td>\n",
       "      <td>Calvin Harris, Rihanna</td>\n",
       "      <td>2016</td>\n",
       "      <td>[-0.392704039812088, 1.4662561416625977, 1.2891271114349365, -0.1879044473171234, 0.5128389000892639, 0.386226087808609, -1.1639164686203003, 0.20721033215522766, 0.2055543214082718, 0.10408657044172287, 1.3621946573257446, 0.3104645311832428, 0.887675404548645, -0.25594639778137207, 0.17937038838863373, -0.8117578469533806, 0.5285648758956155, -0.06669414023597499, 1.6713006045525571, -0.3092011481361043, -0.13990464178342266, 1.0805445857483271, -0.33477799399558694, 1.5293224689734395, -1.549546934208044, 2.16572614568587, -0.4045183302288425, 0.23294047889711456, -0.23774078035270924, 1.517505859239762]</td>\n",
       "    </tr>\n",
       "    <tr>\n",
       "      <th>22</th>\n",
       "      <td>The Weekend - Funk Wav Remix</td>\n",
       "      <td>SZA, Calvin Harris, Funk Wav</td>\n",
       "      <td>2017</td>\n",
       "      <td>[-0.552350640296936, 0.8962334394454956, 1.1301838159561157, -0.08495087176561356, 0.6230544447898865, 0.4102384150028229, -0.655830442905426, -0.021589966490864754, 0.09510967880487442, 0.07767271995544434, 0.8575208783149719, 0.5326446890830994, 0.7459362149238586, -0.12985451519489288, 0.16762693226337433, -0.024668187402047063, 1.3505719103490978, -0.46483423810202873, 0.3448895072349624, -0.3092011481361043, -0.5349944602375606, 1.6493680770749588, -0.46013030056967885, 1.1527725466702032, 0.6453499264358126, 2.0290992120893447, -0.2530553249647832, -0.48364963512014286, 0.5296669412078823, 1.556033986501749]</td>\n",
       "    </tr>\n",
       "    <tr>\n",
       "      <th>23</th>\n",
       "      <td>Slide (feat. Frank Ocean &amp; Migos)</td>\n",
       "      <td>Calvin Harris, Frank Ocean, Migos</td>\n",
       "      <td>2017</td>\n",
       "      <td>[-0.6432328820228577, 1.3010315895080566, 1.537070631980896, -0.2450026273727417, 0.5604984760284424, 0.3276706635951996, -0.9155614972114563, -0.29553329944610596, 0.2469097524881363, 0.008685892447829247, 0.9780592918395996, 0.5455515384674072, 0.8377413153648376, -0.05252854898571968, 0.12298240512609482, -0.016690927339026784, 1.1294803631512644, 0.0017235875877324247, 1.1743634892194865, 3.2341406428407566, -0.5349906049256224, -1.1947493795582, 0.2691922104068561, 1.4394839040996015, -1.549546934208044, 1.8924722784928198, -0.2769077667386508, -0.41403263565962234, -0.06298456653198053, 1.556033986501749]</td>\n",
       "    </tr>\n",
       "    <tr>\n",
       "      <th>24</th>\n",
       "      <td>Feels (feat. Pharrell Williams, Katy Perry &amp; Big Sean)</td>\n",
       "      <td>Calvin Harris, Pharrell Williams, Katy Perry, Big Sean, Funk Wav</td>\n",
       "      <td>2017</td>\n",
       "      <td>[-0.3629085123538971, 1.3717823028564453, 1.46051025390625, -0.23394794762134552, 0.684386134147644, 0.3138771653175354, -0.6643486022949219, -0.1978764832019806, 0.11980612576007843, 0.40977153182029724, 0.9549746513366699, 0.5381439328193665, 0.9431136846542358, -0.19591450691223145, 0.4049097001552582, -1.1702027324517583, 2.019515565973311, -0.05678689269603446, 0.9875450248085577, 3.2341406428407566, -0.5349944602375606, 1.6493680770749588, -0.6407515786787114, 1.473524297821329, -1.549546934208044, 1.9835569008905032, -0.26140367958563687, -0.513141750258252, 1.3084718071480863, 1.556033986501749]</td>\n",
       "    </tr>\n",
       "    <tr>\n",
       "      <th>25</th>\n",
       "      <td>Rollin (feat. Future &amp; Khalid)</td>\n",
       "      <td>Calvin Harris, Future, Khalid</td>\n",
       "      <td>2017</td>\n",
       "      <td>[-0.3997073471546173, 1.3841787576675415, 1.3178025484085083, -0.31669291853904724, 0.5100836157798767, 0.3767462372779846, -0.7676713466644287, -0.2970976233482361, 0.21112245321273804, 0.34393244981765747, 1.1112772226333618, 0.7948407530784607, 0.7522943019866943, -0.008278725668787956, 0.24492546916007996, -0.1443270883473511, 1.2315226157041106, 0.3326557013440539, 1.0510633027082734, 3.2341406428407566, -0.5347819401497308, 0.2273093487583794, 0.09825724689673071, 1.2312058249877926, -1.549546934208044, 1.5736761001009283, -0.09562920925725711, -0.8063070314988182, 0.5524612299671078, 1.556033986501749]</td>\n",
       "    </tr>\n",
       "    <tr>\n",
       "      <th>26</th>\n",
       "      <td>Slide (feat. Frank Ocean &amp; Migos)</td>\n",
       "      <td>Calvin Harris, Frank Ocean, Migos, Funk Wav</td>\n",
       "      <td>2017</td>\n",
       "      <td>[-0.6407497525215149, 1.219395637512207, 1.4497425556182861, -0.23294666409492493, 0.5497825741767883, 0.32114362716674805, -0.8445231318473816, -0.232695534825325, 0.22526271641254425, 0.040717270225286484, 0.9185088276863098, 0.5268732309341431, 0.8333078622817993, -0.09000778943300247, 0.09141890704631805, -0.016690927339026784, 1.1294803631512644, 0.0017235875877324247, 1.1743634892194865, 3.2341406428407566, -0.5349906049256224, -1.1947493795582, 0.2691922104068561, 1.4394839040996015, -1.549546934208044, 1.61921841129977, -0.2769077667386508, -0.41403263565962234, -0.06298456653198053, 1.556033986501749]</td>\n",
       "    </tr>\n",
       "    <tr>\n",
       "      <th>27</th>\n",
       "      <td>Faking It (feat. Kehlani &amp; Lil Yachty)</td>\n",
       "      <td>Calvin Harris, Kehlani, Lil Yachty, Funk Wav</td>\n",
       "      <td>2017</td>\n",
       "      <td>[-0.3604191541671753, 1.3211114406585693, 1.1927846670150757, -0.3958168923854828, 0.482144296169281, 0.34893035888671875, -0.66154545545578, -0.2714424729347229, 0.24087229371070862, 0.4307580590248108, 1.1531884670257568, 0.6753641366958618, 0.8286760449409485, -0.00842212326824665, 0.1408575028181076, -0.4926674444325697, 1.3562409243798115, 0.07509889259224008, 0.40467141584645966, 3.2341406428407566, -0.5349944602375606, 1.0805445857483271, -0.7706621509464066, 1.2212042660076972, -1.549546934208044, 1.3915068553055618, 0.08386041509109653, 0.10518466811692596, 0.5334659893344199, 1.556033986501749]</td>\n",
       "    </tr>\n",
       "    <tr>\n",
       "      <th>28</th>\n",
       "      <td>Rollin (feat. Future &amp; Khalid)</td>\n",
       "      <td>Calvin Harris, Future, Khalid, Funk Wav</td>\n",
       "      <td>2017</td>\n",
       "      <td>[-0.4375358521938324, 1.2796143293380737, 1.257315993309021, -0.29134902358055115, 0.506579577922821, 0.36131471395492554, -0.713388204574585, -0.22701716423034668, 0.19303469359874725, 0.3236484229564667, 1.022907018661499, 0.7325389385223389, 0.7616094350814819, -0.057297296822071075, 0.18953105807304382, -0.15496343509804483, 1.225853601673397, 0.33254500584081437, 1.0435905641318364, 3.2341406428407566, -0.534894731920483, 0.2273093487583794, -0.14105170201744485, 1.2255909146831776, -1.549546934208044, 1.3915068553055618, -0.0896660988137902, -0.8079003210707776, 0.4916764599425064, 1.556033986501749]</td>\n",
       "    </tr>\n",
       "    <tr>\n",
       "      <th>29</th>\n",
       "      <td>One Kiss (with Dua Lipa)</td>\n",
       "      <td>Calvin Harris, Dua Lipa</td>\n",
       "      <td>2018</td>\n",
       "      <td>[-0.339299738407135, 1.3223165273666382, 1.1950116157531738, -0.06779343634843826, 0.5769320726394653, 0.46091845631599426, -0.8122463822364807, 0.033115286380052567, 0.3890230059623718, 0.1969444900751114, 0.9960337281227112, 0.576686441898346, 0.6489747762680054, 0.10206007212400436, 0.26817604899406433, -1.2425298903564754, 1.4412761348405165, -0.12451672703532461, 1.424700231530131, -0.3092011481361043, -0.5349246822776885, 1.0805445857483271, -0.7142536129880652, 1.449836394973735, -1.549546934208044, 2.3023530792823945, 0.054044862873762006, 0.23394847842223204, 0.24473833171756343, 1.5945621137637358]</td>\n",
       "    </tr>\n",
       "    <tr>\n",
       "      <th>30</th>\n",
       "      <td>Promises (with Sam Smith)</td>\n",
       "      <td>Calvin Harris, Sam Smith, Jessie Reyez</td>\n",
       "      <td>2018</td>\n",
       "      <td>[-0.2160767912864685, 0.9054511785507202, 1.1671582460403442, -0.16221022605895996, 0.8288326263427734, 0.5575359463691711, -1.022782802581787, -0.2592553198337555, 0.20009349286556244, 0.37812259793281555, 0.9727256894111633, 0.5518180727958679, 0.9970858097076416, -0.2492804378271103, 0.11709412932395935, -1.3092729662170783, 1.3845859945333798, -0.13667741874835615, 1.073481518437585, -0.3092011481361043, -0.5349788159552331, 1.6493680770749588, 0.6737382907141528, 0.9671295747238734, 0.6453499264358126, 2.256810768083553, -0.366950734435001, 0.2039035893509937, -0.15796076969542017, 1.5945621137637358]</td>\n",
       "    </tr>\n",
       "    <tr>\n",
       "      <th>31</th>\n",
       "      <td>Giant (with Rag'n'Bone Man)</td>\n",
       "      <td>Calvin Harris', \"Rag'n'Bone Man\"</td>\n",
       "      <td>2019</td>\n",
       "      <td>[-0.3774932026863098, 1.1448938846588135, 0.7750874757766724, -0.12815140187740326, 0.5828753113746643, 0.5955464243888855, -0.6880506873130798, 0.2409621775150299, 0.23561082780361176, 0.4872855246067047, 0.9181811213493347, 0.44736626744270325, 0.6456294655799866, -0.6778466701507568, 0.12136649340391159, -1.2983707107976172, 1.5319803593319354, -0.011156624896356259, 1.5181094637355954, -0.3092011481361043, -0.5333917975062507, -1.1947493795582, -0.7159629626231665, 1.2619123657161553, -1.549546934208044, 2.16572614568587, -0.38662899889844177, 0.16959908938329238, 0.2979250054890896, 1.6330902410257229]</td>\n",
       "    </tr>\n",
       "    <tr>\n",
       "      <th>32</th>\n",
       "      <td>Over Now (with The Weeknd)</td>\n",
       "      <td>Calvin Harris, The Weeknd</td>\n",
       "      <td>2020</td>\n",
       "      <td>[-0.41466277837753296, 1.2525628805160522, 1.4432727098464966, -0.08165542781352997, 0.5888874530792236, 0.6940463185310364, -1.0342854261398315, -0.029609136283397675, 0.2530887722969055, 0.05246601998806, 1.1290931701660156, 0.5308862328529358, 0.6776129603385925, -0.3641107380390167, 0.2688460946083069, -1.1390914182059793, 0.4265226233427693, -0.15655516840151695, 1.5069003558709397, 3.2341406428407566, -0.530788665395952, -0.34151414256825235, 0.2293073855878268, 1.29665462322596, -1.549546934208044, 2.256810768083553, -0.33117207177419955, 1.9914119085210957, 0.5752555187263333, 1.67161836828771]</td>\n",
       "    </tr>\n",
       "  </tbody>\n",
       "</table>\n",
       "</div>"
      ],
      "text/plain": [
       "                                                 song_name  \\\n",
       "0                                                Flashback   \n",
       "1                                      You Used To Hold Me   \n",
       "2                               I'm Not Alone - Radio Edit   \n",
       "3                                            We Found Love   \n",
       "4                                Dance Wiv Me - Radio Edit   \n",
       "5                               Feel So Close - Radio Edit   \n",
       "6                     Sweet Nothing (feat. Florence Welch)   \n",
       "7                  I Need Your Love (feat. Ellie Goulding)   \n",
       "8                                   Let's Go (feat. Ne-Yo)   \n",
       "9                    Thinking About You (feat. Ayah Marar)   \n",
       "10            Spectrum (Say My Name) - Calvin Harris Remix   \n",
       "11                       Bounce (feat. Kelis) - Radio Edit   \n",
       "12                    We'll Be Coming Back (feat. Example)   \n",
       "13           Drinking from the Bottle (feat. Tinie Tempah)   \n",
       "14                                                  Summer   \n",
       "15                          Outside (feat. Ellie Goulding)   \n",
       "16                               Blame (feat. John Newman)   \n",
       "17                             Under Control (feat. Hurts)   \n",
       "18                                Pray to God (feat. HAIM)   \n",
       "19                              Open Wide (feat. Big Sean)   \n",
       "20                                   How Deep Is Your Love   \n",
       "21               This Is What You Came For (feat. Rihanna)   \n",
       "22                            The Weekend - Funk Wav Remix   \n",
       "23                       Slide (feat. Frank Ocean & Migos)   \n",
       "24  Feels (feat. Pharrell Williams, Katy Perry & Big Sean)   \n",
       "25                          Rollin (feat. Future & Khalid)   \n",
       "26                       Slide (feat. Frank Ocean & Migos)   \n",
       "27                  Faking It (feat. Kehlani & Lil Yachty)   \n",
       "28                          Rollin (feat. Future & Khalid)   \n",
       "29                                One Kiss (with Dua Lipa)   \n",
       "30                               Promises (with Sam Smith)   \n",
       "31                             Giant (with Rag'n'Bone Man)   \n",
       "32                              Over Now (with The Weeknd)   \n",
       "\n",
       "                                                        song_artists  \\\n",
       "0                                                      Calvin Harris   \n",
       "1                                                      Calvin Harris   \n",
       "2                                                      Calvin Harris   \n",
       "3                                             Rihanna, Calvin Harris   \n",
       "4                               Dizzee Rascal, Calvin Harris, Chrome   \n",
       "5                                                      Calvin Harris   \n",
       "6                                      Calvin Harris, Florence Welch   \n",
       "7                                      Calvin Harris, Ellie Goulding   \n",
       "8                                               Calvin Harris, Ne-Yo   \n",
       "9                                          Calvin Harris, Ayah Marar   \n",
       "10                             Florence + The Machine, Calvin Harris   \n",
       "11                                              Calvin Harris, Kelis   \n",
       "12                                            Calvin Harris, Example   \n",
       "13                                       Calvin Harris, Tinie Tempah   \n",
       "14                                                     Calvin Harris   \n",
       "15                                     Calvin Harris, Ellie Goulding   \n",
       "16                                        Calvin Harris, John Newman   \n",
       "17                                      Calvin Harris, Alesso, Hurts   \n",
       "18                                               Calvin Harris, HAIM   \n",
       "19                                           Calvin Harris, Big Sean   \n",
       "20                                          Calvin Harris, Disciples   \n",
       "21                                            Calvin Harris, Rihanna   \n",
       "22                                      SZA, Calvin Harris, Funk Wav   \n",
       "23                                 Calvin Harris, Frank Ocean, Migos   \n",
       "24  Calvin Harris, Pharrell Williams, Katy Perry, Big Sean, Funk Wav   \n",
       "25                                     Calvin Harris, Future, Khalid   \n",
       "26                       Calvin Harris, Frank Ocean, Migos, Funk Wav   \n",
       "27                      Calvin Harris, Kehlani, Lil Yachty, Funk Wav   \n",
       "28                           Calvin Harris, Future, Khalid, Funk Wav   \n",
       "29                                           Calvin Harris, Dua Lipa   \n",
       "30                            Calvin Harris, Sam Smith, Jessie Reyez   \n",
       "31                                  Calvin Harris', \"Rag'n'Bone Man\"   \n",
       "32                                         Calvin Harris, The Weeknd   \n",
       "\n",
       "    song_year  \\\n",
       "0        2009   \n",
       "1        2009   \n",
       "2        2009   \n",
       "3        2011   \n",
       "4        2011   \n",
       "5        2012   \n",
       "6        2012   \n",
       "7        2012   \n",
       "8        2012   \n",
       "9        2012   \n",
       "10       2012   \n",
       "11       2012   \n",
       "12       2012   \n",
       "13       2012   \n",
       "14       2014   \n",
       "15       2014   \n",
       "16       2014   \n",
       "17       2014   \n",
       "18       2014   \n",
       "19       2014   \n",
       "20       2015   \n",
       "21       2016   \n",
       "22       2017   \n",
       "23       2017   \n",
       "24       2017   \n",
       "25       2017   \n",
       "26       2017   \n",
       "27       2017   \n",
       "28       2017   \n",
       "29       2018   \n",
       "30       2018   \n",
       "31       2019   \n",
       "32       2020   \n",
       "\n",
       "                                                                                                                                                                                                                                                                                                                                                                                                                                                                                                                                                                                                                                   song_embeddings  \n",
       "0      [-0.5308306217193604, 0.8614987730979919, 1.1055147647857666, -0.08214779198169708, 0.9314597845077515, 0.48097139596939087, -0.819793701171875, -0.2747561037540436, 0.33063453435897827, -0.007644712924957275, 0.7431244850158691, 0.5099509954452515, 0.7296927571296692, 0.18614216148853302, 0.3438257575035095, -1.3351724705550174, -1.5406252453148743, -0.011030115749796763, 1.7460279903169285, -0.3092011481361043, -0.5313940449564866, 1.0805445857483271, -0.7039975151774578, 1.0250333372402145, -1.549546934208044, 0.7539144985217788, -0.307319630000332, 0.36420802995835755, -1.2520866301382436, 1.247808968405853]  \n",
       "1        [-0.015125058591365814, 1.257551670074463, 1.3064601421356201, -0.15788251161575317, 0.9448271989822388, 0.6127932071685791, -1.2258079051971436, 0.2828027307987213, 0.2980310022830963, -0.010570086538791656, 1.607230544090271, 0.05081271007657051, 0.8250176906585693, 0.042660534381866455, 0.17760735750198364, -1.279491195315136, 0.46053670752705134, 0.004253770518922344, 1.8244917453695186, -0.3092011481361043, -0.5349904137531296, 1.6493680770749588, 0.6224578016611152, 0.958707209266951, -1.549546934208044, 0.5717452537264123, -0.35562082459241384, 0.3955535635781341, -1.2824790151505443, 1.247808968405853]  \n",
       "2         [-0.39972418546676636, 1.1283369064331055, 1.1839702129364014, -0.13868026435375214, 0.7734965085983276, 0.7137905359268188, -1.1721179485321045, 0.27151015400886536, 0.23957271873950958, 0.1312033236026764, 1.3197147846221924, 0.21488842368125916, 0.7364214658737183, -0.131475567817688, 0.24552437663078308, -1.3273547556932577, 0.3074733286977821, -0.1491385696844665, 0.7932538218211915, -0.3092011481361043, -0.14309084999676247, 0.5117210944216953, 0.4914076629700189, 0.8665875870818629, 0.6453499264358126, 0.3895760089310457, -0.411077751716656, 0.46191895166730823, -0.36310936852844955, 1.247808968405853]  \n",
       "3          [-0.3097107410430908, 1.2280445098876953, 1.2125667333602905, -0.1728026419878006, 0.8294687271118164, 0.48141586780548096, -1.1926295757293701, 0.1443655639886856, 0.34478357434272766, 0.09496279805898666, 1.2233936786651611, 0.3410244882106781, 0.9546244144439697, -0.12350010871887207, 0.1781793236732483, -1.2744389306085564, 1.1181423350898372, -0.12151213480453658, 1.0660087798611477, -0.3092011481361043, -0.5305974929031516, -1.1947493795582, -0.5626912786757541, 1.2313812909348116, 0.6453499264358126, 1.9835569008905032, -0.37351015592281456, 0.36375280436636925, 0.2751307167298641, 1.3248652229298272]  \n",
       "4       [-0.3572603762149811, 0.9557803273200989, 1.0952162742614746, -0.06817266345024109, 0.7185381650924683, 0.43593087792396545, -0.6681462526321411, 0.10622109472751617, 0.051009584218263626, 0.12988132238388062, 0.751168429851532, 0.2921321988105774, 0.5334352850914001, -0.01799139566719532, 0.14057756960391998, -1.2143435714671371, 1.9344803555126058, -0.20954668716662583, 0.9912813940967762, -0.3092011481361043, -0.5349944602375606, 1.6493680770749588, -0.30059100129356187, 1.2671763441267319, 0.6453499264358126, 1.5281337889020867, -0.3329610049072396, -0.1561798539118754, 1.00454795702508, 1.3248652229298272]  \n",
       "5   [-0.42053648829460144, 1.1180672645568848, 1.255746841430664, -0.21703937649726868, 0.8270436525344849, 0.7070026993751526, -1.0651367902755737, 0.12035082280635834, 0.007855415344238281, -0.002819826127961278, 1.2384101152420044, 0.24876461923122406, 0.8643861413002014, 0.09457863867282867, 0.38695913553237915, -1.3383314655399736, 0.9650789562605678, -0.19120286091549893, 1.6563551273996828, -0.3092011481361043, -0.5125954164977816, 0.5117210944216953, -0.015699395443352974, 1.5196718418873827, 0.6453499264358126, 2.2112684568847114, -0.4170408621601229, 0.36215951479440944, 1.4870270690953529, 1.363393350191814]  \n",
       "6       [-0.4728338420391083, 1.1652030944824219, 1.3064470291137695, -0.17691859602928162, 0.5935453176498413, 0.31352493166923523, -0.9874248504638672, 0.04889082908630371, 0.21426185965538025, 0.08133811503648758, 1.0550730228424072, 0.619746208190918, 0.6964720487594604, -0.1069226861000061, 0.0710950419306755, -0.8170760203287275, 0.20543107614493594, -0.14259962817167257, 1.6750369738407758, -0.3092011481361043, -0.5346376049176665, 0.7961328400850112, -0.8549900662780685, 1.3266593001662457, -1.549546934208044, 1.8469299672939783, 0.048081752430295104, 0.36206196645326905, 0.20674785045218758, 1.363393350191814]  \n",
       "7          [-0.35267454385757446, 1.3456084728240967, 1.2515703439712524, -0.23695574700832367, 0.55827397108078, 0.4133310317993164, -0.9813202619552612, 0.055671028792858124, 0.2792035639286041, 0.2638838291168213, 1.2146589756011963, 0.46945762634277344, 0.6721546649932861, 0.03832617402076721, 0.22597704827785492, -0.2506905558542882, 0.8970507878920038, 0.030931386799656055, 1.4508548165476611, -0.3092011481361043, -0.5349944602375606, 0.7961328400850112, 0.17232906441778495, 1.1294355757166477, 0.6453499264358126, 1.8013876560951365, -0.31387905148814554, 0.2663020115671261, 0.1991497541991124, 1.363393350191814]  \n",
       "8       [-0.3434907793998718, 1.3320250511169434, 1.3410630226135254, -0.34950605034828186, 0.44290268421173096, 0.5276157259941101, -0.9156208038330078, 0.03466492146253586, 0.19983598589897156, 0.26867640018463135, 1.271316647529602, 0.5008113384246826, 0.8761880397796631, -0.09519098699092865, 0.13520392775535583, -1.3202549942371695, 0.9820859983527089, 0.01743444222608983, 1.4994276172945025, -0.3092011481361043, -0.5104287949127105, -0.34151414256825235, 0.4971054950870231, 1.5038799066556534, -1.549546934208044, 1.5736761001009283, -0.24709221452131636, 0.36472828777777266, 1.3198689515276991, 1.363393350191814]  \n",
       "9                [-0.3584692180156708, 1.1013504266738892, 1.0012038946151733, -0.13015100359916687, 0.4944094717502594, 0.3554432690143585, -0.8369216322898865, 0.0794147327542305, 0.2171076238155365, 0.2731579840183258, 0.9672940373420715, 0.3867509067058563, 0.6934841871261597, 0.007654920220375061, 0.15832526981830597, -1.3339492906786878, 1.067121208813414, 0.1370883744063931, 1.4695366629887539, -0.3092011481361043, -0.5336817424536646, -1.479161125221516, -0.6322048305032051, 1.3664900701396077, -1.549546934208044, 1.61921841129977, -0.36575811234630756, 0.3637202882526556, 0.8373898394574263, 1.363393350191814]  \n",
       "10         [-0.458465576171875, 1.0836573839187622, 1.5261197090148926, -0.0646461695432663, 0.777942955493927, 0.4926895499229431, -0.970902144908905, 0.012973898090422153, 0.2525928020477295, -0.11812563985586166, 1.1392813920974731, 0.5634701251983643, 0.6657187938690186, -0.10320383310317993, 0.18712788820266724, -1.334933152753127, 0.23377614629850432, -0.09808422222604993, 1.7385552517404912, -0.3092011481361043, -0.5218672823986005, 1.6493680770749588, -0.6276465648096017, 1.3428021672920136, -1.549546934208044, 0.9360837433171454, -0.31447536253249225, 0.30216728499307355, 0.2295421392114131, 1.363393350191814]  \n",
       "11          [-0.48927852511405945, 1.2154144048690796, 1.3570432662963867, -0.2128237634897232, 0.490197092294693, 0.41530588269233704, -0.7994334101676941, -0.03718215227127075, 0.09695295989513397, 0.31227579712867737, 0.8824500441551208, 0.5993185639381409, 0.6767104864120483, 0.0521518848836422, 0.26373451948165894, -1.2521026024320998, 1.3732479664719526, -0.06648065605115584, 1.802073529640207, -0.3092011481361043, 1.0358061889389716, -0.9103376338948841, 2.6053033783785695, 1.6454809259001602, -1.549546934208044, 1.4370491665044034, -0.36396917921326755, 0.3622895792492634, 0.8791793688493397, 1.363393350191814]  \n",
       "12       [-0.20690402388572693, 1.1953444480895996, 1.2011915445327759, -0.08480106294155121, 0.5272095203399658, 0.6247615814208984, -1.0606058835983276, 0.18685421347618103, 0.26344525814056396, 0.2558353841304779, 1.2361079454421997, 0.4160565435886383, 0.7933045625686646, -0.15002597868442535, 0.07591798901557922, -1.3374326942395398, 0.3358183988513505, 0.029769084015640684, 1.7609734674698028, -0.3092011481361043, -0.5349944602375606, 0.5117210944216953, 2.2292464586562937, 1.252612670524137, 0.6453499264358126, 1.5281337889020867, -0.08131774419293655, 0.36241964370411694, 0.16495832106027414, 1.363393350191814]  \n",
       "13                   [-0.4226875305175781, 1.1462374925613403, 1.06029212474823, -0.10758847743272781, 0.5176975131034851, 0.3955078125, -0.7416695952415466, 0.03685520961880684, 0.12793946266174316, 0.20842278003692627, 0.9035302400588989, 0.5393052697181702, 0.5396384596824646, -0.2079879492521286, 0.136649489402771, -1.2162049321485084, 0.7269803669705941, 0.07710722529387208, 1.5143730944473768, -0.3092011481361043, -0.5347956408450482, 1.0805445857483271, -0.878920961169486, 1.2857757345107685, -1.549546934208044, 1.4370491665044034, -0.2953934091133982, 0.3662240290085925, 0.009197347872233573, 1.363393350191814]  \n",
       "14         [-0.6064839363098145, 1.0790575742721558, 1.5527331829071045, -0.14170029759407043, 0.898982048034668, 0.5763092041015625, -1.0188565254211426, -0.30734777450561523, 0.051215142011642456, -0.17791138589382172, 1.022530198097229, 0.5295568108558655, 0.8713873624801636, 0.06913535296916962, 0.4336416721343994, -1.284809368690483, 0.3358183988513505, -0.06374489575680674, 1.4022820158008196, -0.3092011481361043, -0.4782799540401117, -0.34151414256825235, -0.37466281881461627, 1.394389155715663, -1.549546934208044, 2.2112684568847114, -0.3955736645636421, 0.362549708158971, 0.8183945988247383, 1.440449604715788]  \n",
       "15         [-0.4204120635986328, 1.2873870134353638, 1.2498987913131714, -0.26445356011390686, 0.5385411977767944, 0.36169859766960144, -0.7650333046913147, -0.141153484582901, 0.2279537469148636, 0.24299181997776031, 1.0413908958435059, 0.6988539099693298, 0.6815982460975647, 0.10174357891082764, 0.2852615416049957, -0.7745306333259528, 0.6192691003870343, -0.02631400201851587, 1.2789818292896065, -0.3092011481361043, -0.5349944602375606, -0.9103376338948841, 0.6566447943631403, 1.2948999637557677, -1.549546934208044, 2.2112684568847114, -0.366950734435001, 0.36534609393832856, -0.41629604229997574, 1.440449604715788]  \n",
       "16       [-0.5285425782203674, 1.2728089094161987, 1.5391204357147217, -0.023601127788424492, 0.6945047974586487, 0.3795566260814667, -1.0958408117294312, -0.20445241034030914, 0.1283784955739975, 0.23754137754440308, 0.8742660284042358, 0.5902172923088074, 0.8817672729492188, -0.21660791337490082, 0.32548999786376953, -1.2646003098641647, -0.6959421547385375, -0.13943689950768517, 1.406018385089038, -0.3092011481361043, -0.51670562509299, -1.479161125221516, 0.7762992688202281, 1.3027959313716324, -1.549546934208044, 2.0290992120893447, -0.12007796207547143, 0.36498841668748067, -0.6822294111576065, 1.440449604715788]  \n",
       "17        [-0.4152667224407196, 1.2260040044784546, 1.2381407022476196, -0.12765085697174072, 0.5559269785881042, 0.3944058120250702, -0.841521143913269, 0.04648079350590706, 0.28801673650741577, 0.237892746925354, 1.0497123003005981, 0.5543962717056274, 0.7254633903503418, -0.04301304742693901, 0.2142745405435562, -0.9978939150905204, 0.04102966925423999, -0.36620454471558167, 1.6227278038057156, -0.3092011481361043, -0.532082265930568, 0.7961328400850112, -0.5228064538567248, 1.4208845137155646, 0.6453499264358126, 1.8924722784928198, -0.10039969761203067, 0.30223231722050037, -0.06678361465851812, 1.440449604715788]  \n",
       "18       [-0.3865477442741394, 1.198242425918579, 1.1574599742889404, -0.12872175872325897, 0.47283464670181274, 0.4114806354045868, -0.9328010082244873, -0.006969084031879902, 0.2998841106891632, 0.1843392252922058, 1.0056097507476807, 0.5567216277122498, 0.6339241862297058, -0.08579456061124802, 0.0853601023554802, -1.3010297974852907, 0.39250853915848727, 0.01290383341492788, 1.7497643596051469, -0.3092011481361043, -0.5349065208908724, 0.5117210944216953, -0.5569934465587499, 1.5359901749601697, -1.549546934208044, 1.4370491665044034, -0.3550245135480672, 0.10508711977578558, -0.3479131760222992, 1.440449604715788]  \n",
       "19              [-0.4465634226799011, 1.4295555353164673, 1.4648340940475464, -0.22891812026500702, 0.6227225065231323, 0.3314497768878937, -0.877935528755188, -0.11961967498064041, 0.19314377009868622, 0.26140257716178894, 1.1644346714019775, 0.719255268573761, 0.7062605619430542, -0.10439344495534897, 0.4159752428531647, -1.1553118470007873, 1.2655366998883928, -0.3403729583524646, 1.7273461438758355, 3.2341406428407566, -0.5349944602375606, -1.1947493795582, 1.8133047141149887, 1.5440616085230539, 0.6453499264358126, 1.254879921709037, -0.38543637680974835, 0.36342764322923443, 0.6018488556120964, 1.440449604715788]  \n",
       "20          [-0.3717888295650482, 1.1681870222091675, 1.164050579071045, -0.07348334044218063, 0.8693994283676147, 0.3623064458370209, -1.0788480043411255, 0.19320274889469147, 0.16350699961185455, -0.11493458598852158, 1.2751753330230713, 0.2482435703277588, 0.7694634199142456, -0.26915469765663147, 0.20645126700401306, -1.2374776256498958, 1.140818391212692, -0.1419670824388751, 1.4471184472594425, -0.3092011481361043, -0.5295460441927495, 1.6493680770749588, 1.032701714085416, 1.251033477000964, -1.549546934208044, 2.0746415232881863, -0.16599391249016654, 0.16920889601873085, -0.7278179886760573, 1.478977731977775]  \n",
       "21          [-0.392704039812088, 1.4662561416625977, 1.2891271114349365, -0.1879044473171234, 0.5128389000892639, 0.386226087808609, -1.1639164686203003, 0.20721033215522766, 0.2055543214082718, 0.10408657044172287, 1.3621946573257446, 0.3104645311832428, 0.887675404548645, -0.25594639778137207, 0.17937038838863373, -0.8117578469533806, 0.5285648758956155, -0.06669414023597499, 1.6713006045525571, -0.3092011481361043, -0.13990464178342266, 1.0805445857483271, -0.33477799399558694, 1.5293224689734395, -1.549546934208044, 2.16572614568587, -0.4045183302288425, 0.23294047889711456, -0.23774078035270924, 1.517505859239762]  \n",
       "22   [-0.552350640296936, 0.8962334394454956, 1.1301838159561157, -0.08495087176561356, 0.6230544447898865, 0.4102384150028229, -0.655830442905426, -0.021589966490864754, 0.09510967880487442, 0.07767271995544434, 0.8575208783149719, 0.5326446890830994, 0.7459362149238586, -0.12985451519489288, 0.16762693226337433, -0.024668187402047063, 1.3505719103490978, -0.46483423810202873, 0.3448895072349624, -0.3092011481361043, -0.5349944602375606, 1.6493680770749588, -0.46013030056967885, 1.1527725466702032, 0.6453499264358126, 2.0290992120893447, -0.2530553249647832, -0.48364963512014286, 0.5296669412078823, 1.556033986501749]  \n",
       "23      [-0.6432328820228577, 1.3010315895080566, 1.537070631980896, -0.2450026273727417, 0.5604984760284424, 0.3276706635951996, -0.9155614972114563, -0.29553329944610596, 0.2469097524881363, 0.008685892447829247, 0.9780592918395996, 0.5455515384674072, 0.8377413153648376, -0.05252854898571968, 0.12298240512609482, -0.016690927339026784, 1.1294803631512644, 0.0017235875877324247, 1.1743634892194865, 3.2341406428407566, -0.5349906049256224, -1.1947493795582, 0.2691922104068561, 1.4394839040996015, -1.549546934208044, 1.8924722784928198, -0.2769077667386508, -0.41403263565962234, -0.06298456653198053, 1.556033986501749]  \n",
       "24              [-0.3629085123538971, 1.3717823028564453, 1.46051025390625, -0.23394794762134552, 0.684386134147644, 0.3138771653175354, -0.6643486022949219, -0.1978764832019806, 0.11980612576007843, 0.40977153182029724, 0.9549746513366699, 0.5381439328193665, 0.9431136846542358, -0.19591450691223145, 0.4049097001552582, -1.1702027324517583, 2.019515565973311, -0.05678689269603446, 0.9875450248085577, 3.2341406428407566, -0.5349944602375606, 1.6493680770749588, -0.6407515786787114, 1.473524297821329, -1.549546934208044, 1.9835569008905032, -0.26140367958563687, -0.513141750258252, 1.3084718071480863, 1.556033986501749]  \n",
       "25        [-0.3997073471546173, 1.3841787576675415, 1.3178025484085083, -0.31669291853904724, 0.5100836157798767, 0.3767462372779846, -0.7676713466644287, -0.2970976233482361, 0.21112245321273804, 0.34393244981765747, 1.1112772226333618, 0.7948407530784607, 0.7522943019866943, -0.008278725668787956, 0.24492546916007996, -0.1443270883473511, 1.2315226157041106, 0.3326557013440539, 1.0510633027082734, 3.2341406428407566, -0.5347819401497308, 0.2273093487583794, 0.09825724689673071, 1.2312058249877926, -1.549546934208044, 1.5736761001009283, -0.09562920925725711, -0.8063070314988182, 0.5524612299671078, 1.556033986501749]  \n",
       "26       [-0.6407497525215149, 1.219395637512207, 1.4497425556182861, -0.23294666409492493, 0.5497825741767883, 0.32114362716674805, -0.8445231318473816, -0.232695534825325, 0.22526271641254425, 0.040717270225286484, 0.9185088276863098, 0.5268732309341431, 0.8333078622817993, -0.09000778943300247, 0.09141890704631805, -0.016690927339026784, 1.1294803631512644, 0.0017235875877324247, 1.1743634892194865, 3.2341406428407566, -0.5349906049256224, -1.1947493795582, 0.2691922104068561, 1.4394839040996015, -1.549546934208044, 1.61921841129977, -0.2769077667386508, -0.41403263565962234, -0.06298456653198053, 1.556033986501749]  \n",
       "27             [-0.3604191541671753, 1.3211114406585693, 1.1927846670150757, -0.3958168923854828, 0.482144296169281, 0.34893035888671875, -0.66154545545578, -0.2714424729347229, 0.24087229371070862, 0.4307580590248108, 1.1531884670257568, 0.6753641366958618, 0.8286760449409485, -0.00842212326824665, 0.1408575028181076, -0.4926674444325697, 1.3562409243798115, 0.07509889259224008, 0.40467141584645966, 3.2341406428407566, -0.5349944602375606, 1.0805445857483271, -0.7706621509464066, 1.2212042660076972, -1.549546934208044, 1.3915068553055618, 0.08386041509109653, 0.10518466811692596, 0.5334659893344199, 1.556033986501749]  \n",
       "28           [-0.4375358521938324, 1.2796143293380737, 1.257315993309021, -0.29134902358055115, 0.506579577922821, 0.36131471395492554, -0.713388204574585, -0.22701716423034668, 0.19303469359874725, 0.3236484229564667, 1.022907018661499, 0.7325389385223389, 0.7616094350814819, -0.057297296822071075, 0.18953105807304382, -0.15496343509804483, 1.225853601673397, 0.33254500584081437, 1.0435905641318364, 3.2341406428407566, -0.534894731920483, 0.2273093487583794, -0.14105170201744485, 1.2255909146831776, -1.549546934208044, 1.3915068553055618, -0.0896660988137902, -0.8079003210707776, 0.4916764599425064, 1.556033986501749]  \n",
       "29         [-0.339299738407135, 1.3223165273666382, 1.1950116157531738, -0.06779343634843826, 0.5769320726394653, 0.46091845631599426, -0.8122463822364807, 0.033115286380052567, 0.3890230059623718, 0.1969444900751114, 0.9960337281227112, 0.576686441898346, 0.6489747762680054, 0.10206007212400436, 0.26817604899406433, -1.2425298903564754, 1.4412761348405165, -0.12451672703532461, 1.424700231530131, -0.3092011481361043, -0.5349246822776885, 1.0805445857483271, -0.7142536129880652, 1.449836394973735, -1.549546934208044, 2.3023530792823945, 0.054044862873762006, 0.23394847842223204, 0.24473833171756343, 1.5945621137637358]  \n",
       "30           [-0.2160767912864685, 0.9054511785507202, 1.1671582460403442, -0.16221022605895996, 0.8288326263427734, 0.5575359463691711, -1.022782802581787, -0.2592553198337555, 0.20009349286556244, 0.37812259793281555, 0.9727256894111633, 0.5518180727958679, 0.9970858097076416, -0.2492804378271103, 0.11709412932395935, -1.3092729662170783, 1.3845859945333798, -0.13667741874835615, 1.073481518437585, -0.3092011481361043, -0.5349788159552331, 1.6493680770749588, 0.6737382907141528, 0.9671295747238734, 0.6453499264358126, 2.256810768083553, -0.366950734435001, 0.2039035893509937, -0.15796076969542017, 1.5945621137637358]  \n",
       "31          [-0.3774932026863098, 1.1448938846588135, 0.7750874757766724, -0.12815140187740326, 0.5828753113746643, 0.5955464243888855, -0.6880506873130798, 0.2409621775150299, 0.23561082780361176, 0.4872855246067047, 0.9181811213493347, 0.44736626744270325, 0.6456294655799866, -0.6778466701507568, 0.12136649340391159, -1.2983707107976172, 1.5319803593319354, -0.011156624896356259, 1.5181094637355954, -0.3092011481361043, -0.5333917975062507, -1.1947493795582, -0.7159629626231665, 1.2619123657161553, -1.549546934208044, 2.16572614568587, -0.38662899889844177, 0.16959908938329238, 0.2979250054890896, 1.6330902410257229]  \n",
       "32               [-0.41466277837753296, 1.2525628805160522, 1.4432727098464966, -0.08165542781352997, 0.5888874530792236, 0.6940463185310364, -1.0342854261398315, -0.029609136283397675, 0.2530887722969055, 0.05246601998806, 1.1290931701660156, 0.5308862328529358, 0.6776129603385925, -0.3641107380390167, 0.2688460946083069, -1.1390914182059793, 0.4265226233427693, -0.15655516840151695, 1.5069003558709397, 3.2341406428407566, -0.530788665395952, -0.34151414256825235, 0.2293073855878268, 1.29665462322596, -1.549546934208044, 2.256810768083553, -0.33117207177419955, 1.9914119085210957, 0.5752555187263333, 1.67161836828771]  "
      ]
     },
     "execution_count": 41,
     "metadata": {},
     "output_type": "execute_result"
    }
   ],
   "source": [
    "table.query(filter=[(\"like\", \"song_artists\", \"*Calvin Harris*\")], sort_by=\"song_year\")"
   ]
  },
  {
   "cell_type": "markdown",
   "id": "ea4f8da1",
   "metadata": {},
   "source": [
    "### Find A Specific Song"
   ]
  },
  {
   "cell_type": "markdown",
   "id": "1a8df467",
   "metadata": {},
   "source": [
    "We can filter this query further by looking for the song `We Found Love` by `Calvin Harris` in our dataset.\n",
    "\n",
    "This will only return one song as he only produced one song with this name."
   ]
  },
  {
   "cell_type": "code",
   "execution_count": 42,
   "id": "4e70a62b",
   "metadata": {},
   "outputs": [
    {
     "data": {
      "text/html": [
       "<div>\n",
       "<style scoped>\n",
       "    .dataframe tbody tr th:only-of-type {\n",
       "        vertical-align: middle;\n",
       "    }\n",
       "\n",
       "    .dataframe tbody tr th {\n",
       "        vertical-align: top;\n",
       "    }\n",
       "\n",
       "    .dataframe thead th {\n",
       "        text-align: right;\n",
       "    }\n",
       "</style>\n",
       "<table border=\"1\" class=\"dataframe\">\n",
       "  <thead>\n",
       "    <tr style=\"text-align: right;\">\n",
       "      <th></th>\n",
       "      <th>song_name</th>\n",
       "      <th>song_artists</th>\n",
       "      <th>song_year</th>\n",
       "      <th>song_embeddings</th>\n",
       "    </tr>\n",
       "  </thead>\n",
       "  <tbody>\n",
       "    <tr>\n",
       "      <th>0</th>\n",
       "      <td>We Found Love</td>\n",
       "      <td>Rihanna, Calvin Harris</td>\n",
       "      <td>2011</td>\n",
       "      <td>[-0.3097107410430908, 1.2280445098876953, 1.2125667333602905, -0.1728026419878006, 0.8294687271118164, 0.48141586780548096, -1.1926295757293701, 0.1443655639886856, 0.34478357434272766, 0.09496279805898666, 1.2233936786651611, 0.3410244882106781, 0.9546244144439697, -0.12350010871887207, 0.1781793236732483, -1.2744389306085564, 1.1181423350898372, -0.12151213480453658, 1.0660087798611477, -0.3092011481361043, -0.5305974929031516, -1.1947493795582, -0.5626912786757541, 1.2313812909348116, 0.6453499264358126, 1.9835569008905032, -0.37351015592281456, 0.36375280436636925, 0.2751307167298641, 1.3248652229298272]</td>\n",
       "    </tr>\n",
       "  </tbody>\n",
       "</table>\n",
       "</div>"
      ],
      "text/plain": [
       "       song_name            song_artists  song_year  \\\n",
       "0  We Found Love  Rihanna, Calvin Harris       2011   \n",
       "\n",
       "                                                                                                                                                                                                                                                                                                                                                                                                                                                                                                                                                                                                                           song_embeddings  \n",
       "0  [-0.3097107410430908, 1.2280445098876953, 1.2125667333602905, -0.1728026419878006, 0.8294687271118164, 0.48141586780548096, -1.1926295757293701, 0.1443655639886856, 0.34478357434272766, 0.09496279805898666, 1.2233936786651611, 0.3410244882106781, 0.9546244144439697, -0.12350010871887207, 0.1781793236732483, -1.2744389306085564, 1.1181423350898372, -0.12151213480453658, 1.0660087798611477, -0.3092011481361043, -0.5305974929031516, -1.1947493795582, -0.5626912786757541, 1.2313812909348116, 0.6453499264358126, 1.9835569008905032, -0.37351015592281456, 0.36375280436636925, 0.2751307167298641, 1.3248652229298272]  "
      ]
     },
     "execution_count": 42,
     "metadata": {},
     "output_type": "execute_result"
    }
   ],
   "source": [
    "table.query(\n",
    "    filter=[\n",
    "        (\"like\", \"song_artists\", \"*Calvin Harris*\"),\n",
    "        (\"like\", \"song_name\", \"*We Found Love*\"),\n",
    "    ]\n",
    ")"
   ]
  },
  {
   "cell_type": "markdown",
   "id": "f70fbb78",
   "metadata": {},
   "source": [
    "### Find Similar Songs To This Song"
   ]
  },
  {
   "cell_type": "markdown",
   "id": "d079845c",
   "metadata": {},
   "source": [
    "We can then copy and paste the vector associated with this song below and save it as the variable `my_vec`.\n",
    "\n",
    "We will then use KDB.AI's `.search()` function to find similar songs in the dataset to this song using this vector.\n",
    "We will pull out the 5 songs most similar to this song from the dataset.\n",
    "\n",
    "<div class=\"alert alert-block alert-warning\">\n",
    "<b>Note:</b> The most similar song will be \"We Found Love\" by \"Calvin Harris\" as this is the vector we are using for the search.\n",
    "</div>"
   ]
  },
  {
   "cell_type": "code",
   "execution_count": 43,
   "id": "7782270e",
   "metadata": {},
   "outputs": [],
   "source": [
    "my_vec = [-0.3097107410430908, 1.2280445098876953, 1.2125667333602905, -0.1728026419878006, 0.8294687271118164, 0.48141586780548096, -1.1926295757293701, 0.1443655639886856, 0.34478357434272766, 0.09496279805898666, 1.2233936786651611, 0.3410244882106781, 0.9546244144439697, -0.12350010871887207, 0.1781793236732483, -1.2744389306085564, 1.1181423350898372, -0.12151213480453658, 1.0660087798611477, -0.3092011481361043, -0.5305974929031516, -1.1947493795582, -0.5626912786757541, 1.2313812909348116, 0.6453499264358126, 1.9835569008905032, -0.37351015592281456, 0.36375280436636925, 0.2751307167298641, 1.3248652229298272]"
   ]
  },
  {
   "cell_type": "code",
   "execution_count": 44,
   "id": "fbcc1335",
   "metadata": {},
   "outputs": [
    {
     "data": {
      "text/html": [
       "<div>\n",
       "<style scoped>\n",
       "    .dataframe tbody tr th:only-of-type {\n",
       "        vertical-align: middle;\n",
       "    }\n",
       "\n",
       "    .dataframe tbody tr th {\n",
       "        vertical-align: top;\n",
       "    }\n",
       "\n",
       "    .dataframe thead th {\n",
       "        text-align: right;\n",
       "    }\n",
       "</style>\n",
       "<table border=\"1\" class=\"dataframe\">\n",
       "  <thead>\n",
       "    <tr style=\"text-align: right;\">\n",
       "      <th></th>\n",
       "      <th>song_name</th>\n",
       "      <th>song_artists</th>\n",
       "      <th>song_year</th>\n",
       "      <th>song_embeddings</th>\n",
       "      <th>__nn_distance</th>\n",
       "    </tr>\n",
       "  </thead>\n",
       "  <tbody>\n",
       "    <tr>\n",
       "      <th>0</th>\n",
       "      <td>We Found Love</td>\n",
       "      <td>Rihanna, Calvin Harris</td>\n",
       "      <td>2011</td>\n",
       "      <td>[-0.3097107410430908, 1.2280445098876953, 1.2125667333602905, -0.1728026419878006, 0.8294687271118164, 0.48141586780548096, -1.1926295757293701, 0.1443655639886856, 0.34478357434272766, 0.09496279805898666, 1.2233936786651611, 0.3410244882106781, 0.9546244144439697, -0.12350010871887207, 0.1781793236732483, -1.2744389306085564, 1.1181423350898372, -0.12151213480453658, 1.0660087798611477, -0.3092011481361043, -0.5305974929031516, -1.1947493795582, -0.5626912786757541, 1.2313812909348116, 0.6453499264358126, 1.9835569008905032, -0.37351015592281456, 0.36375280436636925, 0.2751307167298641, 1.3248652229298272]</td>\n",
       "      <td>0.000000</td>\n",
       "    </tr>\n",
       "    <tr>\n",
       "      <th>1</th>\n",
       "      <td>Bad At Love</td>\n",
       "      <td>Halsey</td>\n",
       "      <td>2017</td>\n",
       "      <td>[-0.3356478810310364, 1.0972840785980225, 1.2874135971069336, 0.19179025292396545, 0.6721011400222778, 0.5797968506813049, -1.0475871562957764, 0.47525662183761597, 0.10440023988485336, 0.13717558979988098, 1.3927897214889526, 0.08936907351016998, 0.8013035655021667, -0.47465166449546814, 0.31363052129745483, -1.1803072618649173, 0.7836705072777309, -0.3899329165171471, 1.0099632405378691, -0.3092011481361043, -0.5349944602375606, -1.479161125221516, -0.6692407392637322, 1.3973720768149898, 0.6453499264358126, 1.9380145896916616, -0.4253892167809766, 0.051533080489714826, 0.32071929424831513, 1.556033986501749]</td>\n",
       "      <td>1.111526</td>\n",
       "    </tr>\n",
       "    <tr>\n",
       "      <th>2</th>\n",
       "      <td>Sweet but Psycho</td>\n",
       "      <td>Ava Max</td>\n",
       "      <td>2020</td>\n",
       "      <td>[-0.3523186147212982, 0.9123393893241882, 0.9346564412117004, -0.1309065967798233, 0.7823386788368225, 0.5283251404762268, -1.143739938735962, 0.3669535219669342, -0.02260895073413849, 0.41644683480262756, 0.9376603960990906, 0.45754924416542053, 0.8685446381568909, -0.28198787569999695, 0.21680830419063568, -1.15903456836353, 1.0387761386598457, -0.3412506155567211, 0.841826622568033, -0.3092011481361043, -0.5349944602375606, -1.1947493795582, -0.23221701588951166, 1.1903222593323153, 0.6453499264358126, 2.393437701680078, -0.31984216193161247, 0.5268536307530907, 0.3511116792606158, 1.67161836828771]</td>\n",
       "      <td>1.156976</td>\n",
       "    </tr>\n",
       "    <tr>\n",
       "      <th>3</th>\n",
       "      <td>No One Compares To You</td>\n",
       "      <td>Jack &amp; Jack</td>\n",
       "      <td>2019</td>\n",
       "      <td>[-0.3300929665565491, 0.9315669536590576, 1.1165355443954468, 0.0159626342356205, 0.7132259607315063, 0.3990531861782074, -1.1266071796417236, 0.06196334585547447, 0.14290468394756317, 0.3190250098705292, 1.5081255435943604, 0.2299031913280487, 0.6675042510032654, -0.5276877880096436, 0.15401417016983032, -1.0032120884658673, 0.9253958580455721, -0.37695782217313883, 0.9987541326732133, -0.3092011481361043, -0.5349944602375606, -1.1947493795582, -0.6418911451021122, 0.9578298795318549, 0.6453499264358126, 1.8924722784928198, -0.3430982926611334, -0.15803327239354273, 0.39290120865252925, 1.6330902410257229]</td>\n",
       "      <td>1.247350</td>\n",
       "    </tr>\n",
       "    <tr>\n",
       "      <th>4</th>\n",
       "      <td>Stay Gold</td>\n",
       "      <td>BTS</td>\n",
       "      <td>2020</td>\n",
       "      <td>[-0.2775978147983551, 0.8558111190795898, 1.0510300397872925, 0.06652789562940598, 0.6991321444511414, 0.6517294049263, -1.0060275793075562, 0.2261066883802414, -0.18408510088920593, 0.11624479293823242, 1.1917176246643066, 0.2641656994819641, 0.6267741322517395, -0.38359335064888, 0.27587199211120605, -1.1037255652599227, 1.0557831807519866, 0.1001951445409801, 0.5728080338162957, -0.3092011481361043, -0.5349944602375606, -1.1947493795582, -0.7296377597039766, 1.0681979602069414, 0.6453499264358126, 2.2112684568847114, -0.2786966998716909, 0.39727691760494743, 0.20674785045218758, 1.67161836828771]</td>\n",
       "      <td>1.349034</td>\n",
       "    </tr>\n",
       "  </tbody>\n",
       "</table>\n",
       "</div>"
      ],
      "text/plain": [
       "                song_name            song_artists  song_year  \\\n",
       "0           We Found Love  Rihanna, Calvin Harris       2011   \n",
       "1             Bad At Love                  Halsey       2017   \n",
       "2        Sweet but Psycho                 Ava Max       2020   \n",
       "3  No One Compares To You             Jack & Jack       2019   \n",
       "4               Stay Gold                     BTS       2020   \n",
       "\n",
       "                                                                                                                                                                                                                                                                                                                                                                                                                                                                                                                                                                                                                              song_embeddings  \\\n",
       "0     [-0.3097107410430908, 1.2280445098876953, 1.2125667333602905, -0.1728026419878006, 0.8294687271118164, 0.48141586780548096, -1.1926295757293701, 0.1443655639886856, 0.34478357434272766, 0.09496279805898666, 1.2233936786651611, 0.3410244882106781, 0.9546244144439697, -0.12350010871887207, 0.1781793236732483, -1.2744389306085564, 1.1181423350898372, -0.12151213480453658, 1.0660087798611477, -0.3092011481361043, -0.5305974929031516, -1.1947493795582, -0.5626912786757541, 1.2313812909348116, 0.6453499264358126, 1.9835569008905032, -0.37351015592281456, 0.36375280436636925, 0.2751307167298641, 1.3248652229298272]   \n",
       "1  [-0.3356478810310364, 1.0972840785980225, 1.2874135971069336, 0.19179025292396545, 0.6721011400222778, 0.5797968506813049, -1.0475871562957764, 0.47525662183761597, 0.10440023988485336, 0.13717558979988098, 1.3927897214889526, 0.08936907351016998, 0.8013035655021667, -0.47465166449546814, 0.31363052129745483, -1.1803072618649173, 0.7836705072777309, -0.3899329165171471, 1.0099632405378691, -0.3092011481361043, -0.5349944602375606, -1.479161125221516, -0.6692407392637322, 1.3973720768149898, 0.6453499264358126, 1.9380145896916616, -0.4253892167809766, 0.051533080489714826, 0.32071929424831513, 1.556033986501749]   \n",
       "2           [-0.3523186147212982, 0.9123393893241882, 0.9346564412117004, -0.1309065967798233, 0.7823386788368225, 0.5283251404762268, -1.143739938735962, 0.3669535219669342, -0.02260895073413849, 0.41644683480262756, 0.9376603960990906, 0.45754924416542053, 0.8685446381568909, -0.28198787569999695, 0.21680830419063568, -1.15903456836353, 1.0387761386598457, -0.3412506155567211, 0.841826622568033, -0.3092011481361043, -0.5349944602375606, -1.1947493795582, -0.23221701588951166, 1.1903222593323153, 0.6453499264358126, 2.393437701680078, -0.31984216193161247, 0.5268536307530907, 0.3511116792606158, 1.67161836828771]   \n",
       "3      [-0.3300929665565491, 0.9315669536590576, 1.1165355443954468, 0.0159626342356205, 0.7132259607315063, 0.3990531861782074, -1.1266071796417236, 0.06196334585547447, 0.14290468394756317, 0.3190250098705292, 1.5081255435943604, 0.2299031913280487, 0.6675042510032654, -0.5276877880096436, 0.15401417016983032, -1.0032120884658673, 0.9253958580455721, -0.37695782217313883, 0.9987541326732133, -0.3092011481361043, -0.5349944602375606, -1.1947493795582, -0.6418911451021122, 0.9578298795318549, 0.6453499264358126, 1.8924722784928198, -0.3430982926611334, -0.15803327239354273, 0.39290120865252925, 1.6330902410257229]   \n",
       "4              [-0.2775978147983551, 0.8558111190795898, 1.0510300397872925, 0.06652789562940598, 0.6991321444511414, 0.6517294049263, -1.0060275793075562, 0.2261066883802414, -0.18408510088920593, 0.11624479293823242, 1.1917176246643066, 0.2641656994819641, 0.6267741322517395, -0.38359335064888, 0.27587199211120605, -1.1037255652599227, 1.0557831807519866, 0.1001951445409801, 0.5728080338162957, -0.3092011481361043, -0.5349944602375606, -1.1947493795582, -0.7296377597039766, 1.0681979602069414, 0.6453499264358126, 2.2112684568847114, -0.2786966998716909, 0.39727691760494743, 0.20674785045218758, 1.67161836828771]   \n",
       "\n",
       "   __nn_distance  \n",
       "0       0.000000  \n",
       "1       1.111526  \n",
       "2       1.156976  \n",
       "3       1.247350  \n",
       "4       1.349034  "
      ]
     },
     "execution_count": 44,
     "metadata": {},
     "output_type": "execute_result"
    }
   ],
   "source": [
    "table.search(vectors=[my_vec], n=5)[0]"
   ]
  },
  {
   "cell_type": "markdown",
   "id": "8826521d",
   "metadata": {},
   "source": [
    "### Automate This Song Similarity Search Process"
   ]
  },
  {
   "cell_type": "markdown",
   "id": "63d21923",
   "metadata": {},
   "source": [
    "We can define a function to automate this process and find songs which are the most similar to any input song.\n",
    "This will allow us to use the KDB.AI vector database in a more production-like setting to perform similarity search and music recommendation."
   ]
  },
  {
   "cell_type": "code",
   "execution_count": 47,
   "id": "36709ce9",
   "metadata": {},
   "outputs": [],
   "source": [
    "def find_similar_songs(\n",
    "    vectorDB_song_tab,\n",
    "    song_name: str,\n",
    "    song_artists: list[str] = None,\n",
    "    song_year: int = None,\n",
    "    n_similar: int = 5,\n",
    "    exact: bool = False,\n",
    ") -> None:\n",
    "    # create filter list\n",
    "    filter_list = [(\"like\", \"song_name\", f\"{song_name}\" if exact else f\"*{song_name}*\")]\n",
    "    if song_artists:\n",
    "        if type(song_artists) == str:\n",
    "            song_artists = list(song_artists)\n",
    "        for artist in song_artists:\n",
    "            filter_list.append((\"like\", \"song_artists\", f\"*{artist}*\"))\n",
    "    if song_year:\n",
    "        filter_list.append((\"like\", \"song_year\", f\"{song_year}\"))\n",
    "\n",
    "    # find songs liks this in vector DB\n",
    "    resulting_song = vectorDB_song_tab.query(filter=filter_list, sort_by=\"song_year\")\n",
    "\n",
    "    # quality check\n",
    "    if resulting_song.empty:\n",
    "        print(\n",
    "            \"Song Not Found! Please double check the values entered or try another song\"\n",
    "        )\n",
    "        return\n",
    "\n",
    "    # find vectors associated with these songs\n",
    "    resulting_vectors = [v.tolist() for v in resulting_song[\"song_embeddings\"]]\n",
    "\n",
    "    # search for similar songs to selected songs\n",
    "    similar_songs = vectorDB_song_tab.search(vectors=resulting_vectors, n=n_similar + 1)\n",
    "\n",
    "    # process similar song table\n",
    "    for i, similar_df in enumerate(similar_songs):\n",
    "        name = resulting_song.loc[i, \"song_name\"]\n",
    "        artists = resulting_song.loc[i, \"song_artists\"]\n",
    "        year = resulting_song.loc[i, \"song_year\"]\n",
    "        print(f\"Songs Similar To '{name}' By '{artists}' ({year})\")\n",
    "        for j, song in similar_df[1:].iterrows():\n",
    "            print(\n",
    "                f\"   {j}. {song['song_name']} - {song['song_artists']} ({song['song_year']})\"\n",
    "            )\n",
    "        print()"
   ]
  },
  {
   "cell_type": "markdown",
   "id": "cb3a16f9",
   "metadata": {},
   "source": [
    "##### Songs by multiple artists\n",
    "\n",
    "Here, we will query this function to search the KDB.AI vector database to look for the song `Let's Go` by two artists - `Calvin Harris` and `Ne-Yo`. "
   ]
  },
  {
   "cell_type": "code",
   "execution_count": 48,
   "id": "9562fdb9",
   "metadata": {},
   "outputs": [
    {
     "name": "stdout",
     "output_type": "stream",
     "text": [
      "Songs Similar To 'Let's Go (feat. Ne-Yo)' By 'Calvin Harris, Ne-Yo' (2012)\n",
      "   1. I Cry - Flo Rida (2012)\n",
      "   2. Mmm Yeah (feat. Pitbull) - Austin Mahone, Pitbull (2014)\n",
      "   3. Too Much (feat. Usher) - Marshmello, Imanbek, Usher (2020)\n",
      "   4. All Around The World - Justin Bieber, Ludacris (2012)\n",
      "   5. No Money - Galantis (2016)\n",
      "\n"
     ]
    }
   ],
   "source": [
    "find_similar_songs(table, song_name=\"Let's Go\", song_artists=[\"Calvin Harris\", \"Ne-Yo\"])"
   ]
  },
  {
   "cell_type": "markdown",
   "id": "69cbc15c",
   "metadata": {},
   "source": [
    "If you search for these songs on [YouTube](https://www.youtube.com/), you will see that the results returned have quite a similar vibe to the song we searched for showing the similarity search power of KDB.AI.\n",
    "\n",
    "##### Specify different number of similar songs\n",
    "\n",
    "We can adjust the number of results returned to us by specifying the `n_similar` parameter.\n",
    "Here, we will search for the `8` most similar songs to the song `Californiacation` by `Red Hot Chili Peppers`."
   ]
  },
  {
   "cell_type": "code",
   "execution_count": 49,
   "id": "056f42b8",
   "metadata": {},
   "outputs": [
    {
     "name": "stdout",
     "output_type": "stream",
     "text": [
      "Songs Similar To 'Californication' By 'Red Hot Chili Peppers' (1999)\n",
      "   1. Police Station - Red Hot Chili Peppers (2011)\n",
      "   2. Charlie - Red Hot Chili Peppers (2006)\n",
      "   3. Dark Necessities - Red Hot Chili Peppers (2016)\n",
      "   4. Especially in Michigan - Red Hot Chili Peppers (2006)\n",
      "   5. Don't Forget Me - Red Hot Chili Peppers (2002)\n",
      "   6. Cabron - Red Hot Chili Peppers (2002)\n",
      "   7. Face Down - The Red Jumpsuit Apparatus (2006)\n",
      "   8. Look Around - Red Hot Chili Peppers (2011)\n",
      "\n"
     ]
    }
   ],
   "source": [
    "find_similar_songs(\n",
    "    table,\n",
    "    song_name=\"Californication\",\n",
    "    song_artists=\"Red Hot Chili Peppers\",\n",
    "    n_similar=8,\n",
    ")"
   ]
  },
  {
   "cell_type": "markdown",
   "id": "9edd10a7",
   "metadata": {},
   "source": [
    "When we return these similar songs, you will notice that a lot of the similar songs are by the same artist as the original song we searched for - `Red Hot Chili Peppers`.\n",
    "This makes sense as their music usually has pretty unique features. \n",
    "\n",
    "#### All songs with a given name by any artist\n",
    "\n",
    "The final thing we will perform a similarity search on all songs stored in the KDB.AI vector database with a given song name - `Love Me`."
   ]
  },
  {
   "cell_type": "code",
   "execution_count": 50,
   "id": "b5474afc",
   "metadata": {},
   "outputs": [
    {
     "name": "stdout",
     "output_type": "stream",
     "text": [
      "Songs Similar To 'Love Me' By 'Elvis Presley' (1956)\n",
      "   1. Don't - Elvis Presley (1959)\n",
      "   2. Without Him - Elvis Presley (1967)\n",
      "   3. Fine And Mellow - Billie Holiday (1957)\n",
      "   4. Everything I Have Is Yours - 10'' Version - Billie Holiday (1956)\n",
      "   5. Harbor Lights - Elvis Presley (1959)\n",
      "\n",
      "Songs Similar To 'Love Me' By 'Buddy Holly' (1958)\n",
      "   1. A Love That's Worth Having - Willie Hutch (1969)\n",
      "   2. Midnight Shift - Buddy Holly (1958)\n",
      "   3. Johnny be good - Radio Version - Jonny Bombastic (1955)\n",
      "   4. Lonely Weekends - Wanda Jackson (1961)\n",
      "   5. Oh, What a Good Thing We Had - Johnny Cash, June Carter Cash (1967)\n",
      "\n",
      "Songs Similar To 'Love Me' By 'Sarah Vaughan' (1958)\n",
      "   1. Summer Is Gone - Carmen McRae (1956)\n",
      "   2. Make the World Go Away - Ray Price (1956)\n",
      "   3. I'll Come Back For More - Dinah Washington (1961)\n",
      "   4. Stairway To The Stars - Dinah Washington, Chubby Jackson Orchestra (1956)\n",
      "   5. Last Night When We Were Young - Carmen McRae (1955)\n",
      "\n",
      "Songs Similar To 'Love Me' By 'Bo Diddley' (1960)\n",
      "   1. Time To Go - Lesley Gore (1963)\n",
      "   2. Keepin' Out Of Mischief Now - Barbra Streisand (1963)\n",
      "   3. It's a Bird, It's a Plane, It's Superman: You've Got Possibilities - Charles Strouse, Linda Lavin, Harold Hastings (1966)\n",
      "   4. Come Back Silly Girl - The Lettermen (1962)\n",
      "   5. Baby, What You Want Me To Do - Jimmy Reed (1960)\n",
      "\n",
      "Songs Similar To 'Love Me' By 'Bee Gees' (1976)\n",
      "   1. Keep It Alive - Lee Ritenour (1982)\n",
      "   2. Save Me - Queen (1981)\n",
      "   3. Don't You Ever Get Tired (Of Hurting Me) - Ronnie Milsap (1989)\n",
      "   4. Something's Gotten Hold Of My Heart - Gene Pitney (1975)\n",
      "   5. I Get the Picture - Keith Whitley (1985)\n",
      "\n",
      "Songs Similar To 'Love Me' By 'The Cramps' (1983)\n",
      "   1. Football Fight - Remastered 2011 - Queen (1980)\n",
      "   2. Let's Get This Party Started - Korn (1999)\n",
      "   3. Coming Home - Live - Scorpions (1985)\n",
      "   4. Rock On The Moon - Remastered - The Cramps (1980)\n",
      "   5. World's On Heroin - All (1998)\n",
      "\n",
      "Songs Similar To 'Love Me' By 'Tesla' (1986)\n",
      "   1. Walks Like a Woman - Baton Rouge (1990)\n",
      "   2. She Sheila - The Producers (1982)\n",
      "   3. Play with Me - Jeff Beck (1976)\n",
      "   4. Catch Me I'm Falling - Real Life (1983)\n",
      "   5. Kindergarten - Faith No More (1992)\n",
      "\n",
      "Songs Similar To 'Love Me' By 'Love and Rockets' (1986)\n",
      "   1. No One Like You - Live - Scorpions (1985)\n",
      "   2. Loving You Sunday Morning - Scorpions (1979)\n",
      "   3. Promises - Fugazi (1989)\n",
      "   4. Strap Me In - The Cars (1987)\n",
      "   5. Season In Hell (Fire Suite) - John Cafferty & the Beaver Brown Band (1983)\n",
      "\n",
      "Songs Similar To 'Love Me' By 'Yiruma' (2001)\n",
      "   1. Think Of Me - Stan Whitmire (1996)\n",
      "   2. I Feel My Savior's Love - Paul Cardall (2000)\n",
      "   3. Baby Mine - Fred Mollin (2000)\n",
      "   4. Just the Way You Are - The Piano Guys (2013)\n",
      "   5. O, I Love You - Essie Jain (2011)\n",
      "\n",
      "Songs Similar To 'Love Me' By 'Obie Trice, 50 Cent, Eminem' (2002)\n",
      "   1. Just a Moment (feat. Quan) - Nas, Quan (2004)\n",
      "   2. Spend Some Time - Eminem, Obie Trice, Stat Quo, 50 Cent (2004)\n",
      "   3. Can I Have It Like That - Pharrell Williams, Gwen Stefani (2006)\n",
      "   4. Jealous Got Me Strapped - Spice 1, 2Pac (1994)\n",
      "   5. Girls - D12 (2001)\n",
      "\n",
      "Songs Similar To 'Love Me' By 'JJ Heller' (2006)\n",
      "   1. Whenever We're Alone - Brantley Gilbert (2009)\n",
      "   2. Snake Eyes - Ryan Bingham (2009)\n",
      "   3. Oh, It Is Love - Hellogoodbye (2008)\n",
      "   4. Dream About You - Pop A.C. Mix - Stevie B (1998)\n",
      "   5. One More Dollar - Gillian Welch (1996)\n",
      "\n",
      "Songs Similar To 'Love Me' By 'Justin Bieber' (2009)\n",
      "   1. Somebody To Love - Justin Bieber (2010)\n",
      "   2. Somebody To Love Remix - Justin Bieber, Usher (2011)\n",
      "   3. Cut To The Feeling - Carly Rae Jepsen (2017)\n",
      "   4. 4 Minutes (feat. Justin Timberlake & Timbaland) - Madonna, Justin Timberlake, Timbaland (2009)\n",
      "   5. Why We Drink - Justin Moore (2019)\n",
      "\n",
      "Songs Similar To 'Love Me' By 'Lil Wayne, Drake, Future' (2013)\n",
      "   1. That Way - Bonus Track - Lil Uzi Vert (2020)\n",
      "   2. Studio - ScHoolboy Q, BJ The Chicago Kid (2014)\n",
      "   3. That Way - Lil Uzi Vert (2020)\n",
      "   4. Lies (feat. Lil Skies) - Lil Xan, Lil Skies (2018)\n",
      "   5. My Beyoncé - Lil Durk, DeJ Loaf (2016)\n",
      "\n",
      "Songs Similar To 'Love Me' By 'The 1975' (2016)\n",
      "   1. Lotus Eater - Foster The People (2017)\n",
      "   2. Casual Sex - My Darkest Days (2012)\n",
      "   3. Monster - Lady Gaga (2009)\n",
      "   4. Moneygrabber - Fitz and The Tantrums (2010)\n",
      "   5. She Lives in My Lap (feat. Rosario Dawson) - OutKast, Rosario Dawson (2003)\n",
      "\n",
      "Songs Similar To 'Love Me' By 'Lil Tecca' (2019)\n",
      "   1. Me and My Guitar - A Boogie Wit da Hoodie (2020)\n",
      "   2. Red Nose - Sage The Gemini (2014)\n",
      "   3. Stuntin' On You (feat. DaBaby) - Tyla Yaweh, DaBaby (2020)\n",
      "   4. Run Me Dry - Bryson Tiller (2017)\n",
      "   5. Best Friend - 50 Cent (2005)\n",
      "\n"
     ]
    }
   ],
   "source": [
    "find_similar_songs(table, song_name=\"Love Me\", exact=True)"
   ]
  },
  {
   "cell_type": "markdown",
   "id": "cf91f429",
   "metadata": {},
   "source": [
    "There are 15 songs in our vector database with `Love Me` as their title and we have returned the most similar songs to each of these.\n",
    "With that, we have built a recommendation system which is able to recommend music based both on user numerical and categorical song data."
   ]
  },
  {
   "cell_type": "markdown",
   "id": "2b4839ed",
   "metadata": {},
   "source": [
    "## 6. Delete the KDB.AI Table\n",
    "\n",
    "Once finished with the table, it is best practice to drop it."
   ]
  },
  {
   "cell_type": "code",
   "execution_count": 51,
   "id": "81c95d1c",
   "metadata": {},
   "outputs": [
    {
     "data": {
      "text/plain": [
       "True"
      ]
     },
     "execution_count": 51,
     "metadata": {},
     "output_type": "execute_result"
    }
   ],
   "source": [
    "table.drop()"
   ]
  },
  {
   "cell_type": "code",
   "execution_count": null,
   "id": "edbdc045",
   "metadata": {},
   "outputs": [],
   "source": []
  }
 ],
 "metadata": {
  "kernelspec": {
   "display_name": "Python 3 (ipykernel)",
   "language": "python",
   "name": "python3"
  },
  "language_info": {
   "codemirror_mode": {
    "name": "ipython",
    "version": 3
   },
   "file_extension": ".py",
   "mimetype": "text/x-python",
   "name": "python",
   "nbconvert_exporter": "python",
   "pygments_lexer": "ipython3",
   "version": "3.9.16"
  }
 },
 "nbformat": 4,
 "nbformat_minor": 5
}
