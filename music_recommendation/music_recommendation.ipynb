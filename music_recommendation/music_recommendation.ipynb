{
 "cells": [
  {
   "cell_type": "markdown",
   "id": "1c9731fb",
   "metadata": {},
   "source": [
    "# Music Recommendation on Spotify Data\n",
    "\n",
    "##### Note: This example requires a KDB.AI endpoint and API key. Sign up for a free [KDB.AI account](https://kdb.ai/get-started).\n",
    "\n",
    "This example demonstrates how you can use KDB.AI to perform similarity recommendations using vector embeddings created from both categorical and numeric music data.\n",
    "\n",
    "Applications like Spotify and YouTube Music perform hundreds of millions of song recommendations for users every single day. They do this by extracting a vast array of features about every given song and artist and comparing their characteristics.\n",
    "By leveraging this sort of data, KDB.AI can be used to productionize a music recommendation system and help to quickly and efficiently find music similar to given input songs.\n",
    "\n",
    "### Aim\n",
    "\n",
    "In this tutorial, we'll break down how you might perform similarity search on music, taking some Spotify data as an example and using KDB.AI as the vector database to store and query this data.\n",
    "This breaks down as follows:\n",
    "\n",
    "1. Load Song Data\n",
    "1. Create Song Vector Embeddings\n",
    "1. Store Embeddings In KDB.AI\n",
    "1. Search For Similar Songs To A Target Song\n",
    "1. Delete the KDB.AI Table\n",
    "\n",
    "---"
   ]
  },
  {
   "cell_type": "markdown",
   "id": "5a3605c7",
   "metadata": {},
   "source": [
    "## 0. Setup"
   ]
  },
  {
   "cell_type": "markdown",
   "id": "45d625ff",
   "metadata": {},
   "source": [
    "### Install dependencies \n",
    "\n",
    "In order to successfully run this sample, note the following steps depending on where you are running this notebook:\n",
    "\n",
    "-***Run Locally / Private Environment:*** The [Setup](https://github.com/KxSystems/kdbai-samples/blob/main/README.md#setup) steps in the repository's `README.md` will guide you on prerequisites and how to run this with Jupyter.\n",
    "\n",
    "\n",
    "-***Colab / Hosted Environment:*** Open this notebook in Colab and run through the cells."
   ]
  },
  {
   "cell_type": "code",
   "execution_count": null,
   "id": "4bcb2fc4",
   "metadata": {},
   "outputs": [],
   "source": [
    "!pip install kdbai_client\n",
    "!pip install gensim nltk"
   ]
  },
  {
   "cell_type": "code",
   "execution_count": null,
   "id": "15c41564",
   "metadata": {},
   "outputs": [],
   "source": [
    "### !!! Only run this cell if you need to download the data into your environment, for example in Colab\n",
    "### This downloads song data\n",
    "!mkdir ./data \n",
    "!wget -P ./data https://raw.githubusercontent.com/KxSystems/kdbai-samples/main/music_recommendation/data/song_data.csv"
   ]
  },
  {
   "cell_type": "markdown",
   "id": "37f9672c",
   "metadata": {},
   "source": [
    "### Import Packages"
   ]
  },
  {
   "cell_type": "markdown",
   "id": "115f7122",
   "metadata": {},
   "source": [
    "We will start by importing all of the Python packages needed to run this music recommendation system example.\n",
    "This includes packages for reading in the data, embedding it as vectors, and interacting with the vector database."
   ]
  },
  {
   "cell_type": "code",
   "execution_count": 3,
   "id": "2d851ae9",
   "metadata": {},
   "outputs": [],
   "source": [
    "import pandas as pd\n",
    "import numpy as np"
   ]
  },
  {
   "cell_type": "code",
   "execution_count": 4,
   "id": "b91bc28a",
   "metadata": {},
   "outputs": [
    {
     "name": "stderr",
     "output_type": "stream",
     "text": [
      "[nltk_data] Downloading package punkt_tab to /home/gflood/nltk_data...\n",
      "[nltk_data]   Package punkt_tab is already up-to-date!\n"
     ]
    }
   ],
   "source": [
    "# embedding categorical data\n",
    "import nltk\n",
    "nltk.download('punkt_tab')\n",
    "from nltk.tokenize import word_tokenize\n",
    "from gensim.models import Word2Vec"
   ]
  },
  {
   "cell_type": "code",
   "execution_count": 5,
   "id": "a1bf575c",
   "metadata": {},
   "outputs": [],
   "source": [
    "# timing\n",
    "from tqdm.auto import tqdm"
   ]
  },
  {
   "cell_type": "code",
   "execution_count": 6,
   "id": "afa4c3cd",
   "metadata": {},
   "outputs": [],
   "source": [
    "# vector DB\n",
    "import os\n",
    "import kdbai_client as kdbai\n",
    "from getpass import getpass\n",
    "import time"
   ]
  },
  {
   "cell_type": "markdown",
   "id": "95be3259",
   "metadata": {},
   "source": [
    "### Configure Console"
   ]
  },
  {
   "cell_type": "markdown",
   "id": "ec282385",
   "metadata": {},
   "source": [
    "In order to fully view our embeddings when it comes to displaying the results, we must increase the maximum allowed column width in Pandas DataFrames from the default value."
   ]
  },
  {
   "cell_type": "code",
   "execution_count": 7,
   "id": "b4f29527",
   "metadata": {},
   "outputs": [],
   "source": [
    "pd.set_option(\"max_colwidth\", 1000)"
   ]
  },
  {
   "cell_type": "markdown",
   "id": "4edaa685",
   "metadata": {},
   "source": [
    "This removes a warning that appears when performing in-place column assignment."
   ]
  },
  {
   "cell_type": "code",
   "execution_count": 8,
   "id": "d28588d9",
   "metadata": {},
   "outputs": [],
   "source": [
    "pd.options.mode.chained_assignment = None"
   ]
  },
  {
   "cell_type": "markdown",
   "id": "fc36e465",
   "metadata": {},
   "source": [
    "### Define Helper Functions\n",
    "\n",
    "Defining these two helper functions will allow us to easily show the shape and head of any Pandas DataFrames or embedding arrays passed."
   ]
  },
  {
   "cell_type": "code",
   "execution_count": 9,
   "id": "bf07de0a",
   "metadata": {},
   "outputs": [],
   "source": [
    "def show_df(df: pd.DataFrame) -> pd.DataFrame:\n",
    "    print(df.shape)\n",
    "    return df.head()"
   ]
  },
  {
   "cell_type": "code",
   "execution_count": 10,
   "id": "082ccef4",
   "metadata": {},
   "outputs": [],
   "source": [
    "def show_embeddings(embeddings: np.array) -> list[int]:\n",
    "    print(\"Num Embeddings:\", len(embeddings))\n",
    "    print(\"Embedding Size:\", len(embeddings[0]))\n",
    "    return list(embeddings[0])"
   ]
  },
  {
   "cell_type": "markdown",
   "id": "3f889dd7",
   "metadata": {},
   "source": [
    "## 1. Load Song Data"
   ]
  },
  {
   "cell_type": "markdown",
   "id": "24da7ed7",
   "metadata": {},
   "source": [
    "The song data we will read in will be taken from an [open-source Spotify dataset](https://www.kaggle.com/datasets/vatsalmavani/spotify-dataset) on Kaggle. There are 5 files on Kaggle, however, only one file is relevant to this analysis.\n",
    "This dataset contains a list of metadata on 170,000 songs from 1921 to 2020. This metadata includes:\n",
    "- Song Name\n",
    "- Artist Name\n",
    "- Song Year\n",
    "- Various features about the song's music, including:\n",
    "    * acousticness\n",
    "    * danceability\n",
    "    * duration_ms\n",
    "    * energy\n",
    "    * explicit\n",
    "    * instrumentalness\n",
    "    * key\n",
    "    * liveness\n",
    "    * loudness\n",
    "    * mode\n",
    "    * popularity\n",
    "    * release_date\n",
    "    * speechiness\n",
    "    * tempo\n",
    "    * valence"
   ]
  },
  {
   "cell_type": "markdown",
   "id": "19c148de",
   "metadata": {},
   "source": [
    "### Read In The Spotify Data From The CSV"
   ]
  },
  {
   "cell_type": "markdown",
   "id": "ecc57e87",
   "metadata": {},
   "source": [
    "We can read this song data from a CSV into a Pandas DataFrame and show the resulting table."
   ]
  },
  {
   "cell_type": "code",
   "execution_count": 11,
   "id": "1e138b0a",
   "metadata": {},
   "outputs": [],
   "source": [
    "raw_song_df = pd.read_csv(\"data/song_data.csv\")"
   ]
  },
  {
   "cell_type": "code",
   "execution_count": 12,
   "id": "70881392",
   "metadata": {},
   "outputs": [
    {
     "name": "stdout",
     "output_type": "stream",
     "text": [
      "(170653, 19)\n"
     ]
    },
    {
     "data": {
      "text/html": [
       "<div>\n",
       "<style scoped>\n",
       "    .dataframe tbody tr th:only-of-type {\n",
       "        vertical-align: middle;\n",
       "    }\n",
       "\n",
       "    .dataframe tbody tr th {\n",
       "        vertical-align: top;\n",
       "    }\n",
       "\n",
       "    .dataframe thead th {\n",
       "        text-align: right;\n",
       "    }\n",
       "</style>\n",
       "<table border=\"1\" class=\"dataframe\">\n",
       "  <thead>\n",
       "    <tr style=\"text-align: right;\">\n",
       "      <th></th>\n",
       "      <th>id</th>\n",
       "      <th>name</th>\n",
       "      <th>artists</th>\n",
       "      <th>acousticness</th>\n",
       "      <th>danceability</th>\n",
       "      <th>duration_ms</th>\n",
       "      <th>energy</th>\n",
       "      <th>explicit</th>\n",
       "      <th>instrumentalness</th>\n",
       "      <th>key</th>\n",
       "      <th>liveness</th>\n",
       "      <th>loudness</th>\n",
       "      <th>mode</th>\n",
       "      <th>popularity</th>\n",
       "      <th>release_date</th>\n",
       "      <th>speechiness</th>\n",
       "      <th>tempo</th>\n",
       "      <th>valence</th>\n",
       "      <th>year</th>\n",
       "    </tr>\n",
       "  </thead>\n",
       "  <tbody>\n",
       "    <tr>\n",
       "      <th>0</th>\n",
       "      <td>4BJqT0PrAfrxzMOxytFOIz</td>\n",
       "      <td>Piano Concerto No. 3 in D Minor, Op. 30: III. Finale. Alla breve</td>\n",
       "      <td>['Sergei Rachmaninoff', 'James Levine', 'Berliner Philharmoniker']</td>\n",
       "      <td>0.982</td>\n",
       "      <td>0.279</td>\n",
       "      <td>831667</td>\n",
       "      <td>0.211</td>\n",
       "      <td>0</td>\n",
       "      <td>0.878000</td>\n",
       "      <td>10</td>\n",
       "      <td>0.665</td>\n",
       "      <td>-20.096</td>\n",
       "      <td>1</td>\n",
       "      <td>4</td>\n",
       "      <td>1921</td>\n",
       "      <td>0.0366</td>\n",
       "      <td>80.954</td>\n",
       "      <td>0.0594</td>\n",
       "      <td>1921</td>\n",
       "    </tr>\n",
       "    <tr>\n",
       "      <th>1</th>\n",
       "      <td>7xPhfUan2yNtyFG0cUWkt8</td>\n",
       "      <td>Clancy Lowered the Boom</td>\n",
       "      <td>['Dennis Day']</td>\n",
       "      <td>0.732</td>\n",
       "      <td>0.819</td>\n",
       "      <td>180533</td>\n",
       "      <td>0.341</td>\n",
       "      <td>0</td>\n",
       "      <td>0.000000</td>\n",
       "      <td>7</td>\n",
       "      <td>0.160</td>\n",
       "      <td>-12.441</td>\n",
       "      <td>1</td>\n",
       "      <td>5</td>\n",
       "      <td>1921</td>\n",
       "      <td>0.4150</td>\n",
       "      <td>60.936</td>\n",
       "      <td>0.9630</td>\n",
       "      <td>1921</td>\n",
       "    </tr>\n",
       "    <tr>\n",
       "      <th>2</th>\n",
       "      <td>1o6I8BglA6ylDMrIELygv1</td>\n",
       "      <td>Gati Bali</td>\n",
       "      <td>['KHP Kridhamardawa Karaton Ngayogyakarta Hadiningrat']</td>\n",
       "      <td>0.961</td>\n",
       "      <td>0.328</td>\n",
       "      <td>500062</td>\n",
       "      <td>0.166</td>\n",
       "      <td>0</td>\n",
       "      <td>0.913000</td>\n",
       "      <td>3</td>\n",
       "      <td>0.101</td>\n",
       "      <td>-14.850</td>\n",
       "      <td>1</td>\n",
       "      <td>5</td>\n",
       "      <td>1921</td>\n",
       "      <td>0.0339</td>\n",
       "      <td>110.339</td>\n",
       "      <td>0.0394</td>\n",
       "      <td>1921</td>\n",
       "    </tr>\n",
       "    <tr>\n",
       "      <th>3</th>\n",
       "      <td>3ftBPsC5vPBKxYSee08FDH</td>\n",
       "      <td>Danny Boy</td>\n",
       "      <td>['Frank Parker']</td>\n",
       "      <td>0.967</td>\n",
       "      <td>0.275</td>\n",
       "      <td>210000</td>\n",
       "      <td>0.309</td>\n",
       "      <td>0</td>\n",
       "      <td>0.000028</td>\n",
       "      <td>5</td>\n",
       "      <td>0.381</td>\n",
       "      <td>-9.316</td>\n",
       "      <td>1</td>\n",
       "      <td>3</td>\n",
       "      <td>1921</td>\n",
       "      <td>0.0354</td>\n",
       "      <td>100.109</td>\n",
       "      <td>0.1650</td>\n",
       "      <td>1921</td>\n",
       "    </tr>\n",
       "    <tr>\n",
       "      <th>4</th>\n",
       "      <td>4d6HGyGT8e121BsdKmw9v6</td>\n",
       "      <td>When Irish Eyes Are Smiling</td>\n",
       "      <td>['Phil Regan']</td>\n",
       "      <td>0.957</td>\n",
       "      <td>0.418</td>\n",
       "      <td>166693</td>\n",
       "      <td>0.193</td>\n",
       "      <td>0</td>\n",
       "      <td>0.000002</td>\n",
       "      <td>3</td>\n",
       "      <td>0.229</td>\n",
       "      <td>-10.096</td>\n",
       "      <td>1</td>\n",
       "      <td>2</td>\n",
       "      <td>1921</td>\n",
       "      <td>0.0380</td>\n",
       "      <td>101.665</td>\n",
       "      <td>0.2530</td>\n",
       "      <td>1921</td>\n",
       "    </tr>\n",
       "  </tbody>\n",
       "</table>\n",
       "</div>"
      ],
      "text/plain": [
       "                       id  \\\n",
       "0  4BJqT0PrAfrxzMOxytFOIz   \n",
       "1  7xPhfUan2yNtyFG0cUWkt8   \n",
       "2  1o6I8BglA6ylDMrIELygv1   \n",
       "3  3ftBPsC5vPBKxYSee08FDH   \n",
       "4  4d6HGyGT8e121BsdKmw9v6   \n",
       "\n",
       "                                                               name  \\\n",
       "0  Piano Concerto No. 3 in D Minor, Op. 30: III. Finale. Alla breve   \n",
       "1                                           Clancy Lowered the Boom   \n",
       "2                                                         Gati Bali   \n",
       "3                                                         Danny Boy   \n",
       "4                                       When Irish Eyes Are Smiling   \n",
       "\n",
       "                                                              artists  \\\n",
       "0  ['Sergei Rachmaninoff', 'James Levine', 'Berliner Philharmoniker']   \n",
       "1                                                      ['Dennis Day']   \n",
       "2             ['KHP Kridhamardawa Karaton Ngayogyakarta Hadiningrat']   \n",
       "3                                                    ['Frank Parker']   \n",
       "4                                                      ['Phil Regan']   \n",
       "\n",
       "   acousticness  danceability  duration_ms  energy  explicit  \\\n",
       "0         0.982         0.279       831667   0.211         0   \n",
       "1         0.732         0.819       180533   0.341         0   \n",
       "2         0.961         0.328       500062   0.166         0   \n",
       "3         0.967         0.275       210000   0.309         0   \n",
       "4         0.957         0.418       166693   0.193         0   \n",
       "\n",
       "   instrumentalness  key  liveness  loudness  mode  popularity release_date  \\\n",
       "0          0.878000   10     0.665   -20.096     1           4         1921   \n",
       "1          0.000000    7     0.160   -12.441     1           5         1921   \n",
       "2          0.913000    3     0.101   -14.850     1           5         1921   \n",
       "3          0.000028    5     0.381    -9.316     1           3         1921   \n",
       "4          0.000002    3     0.229   -10.096     1           2         1921   \n",
       "\n",
       "   speechiness    tempo  valence  year  \n",
       "0       0.0366   80.954   0.0594  1921  \n",
       "1       0.4150   60.936   0.9630  1921  \n",
       "2       0.0339  110.339   0.0394  1921  \n",
       "3       0.0354  100.109   0.1650  1921  \n",
       "4       0.0380  101.665   0.2530  1921  "
      ]
     },
     "execution_count": 12,
     "metadata": {},
     "output_type": "execute_result"
    }
   ],
   "source": [
    "show_df(raw_song_df)"
   ]
  },
  {
   "cell_type": "markdown",
   "id": "a918f77d",
   "metadata": {},
   "source": [
    "### Pre-process The Data"
   ]
  },
  {
   "cell_type": "markdown",
   "id": "9b71c3a9",
   "metadata": {},
   "source": [
    "Here we will perform a few operations on this Pandas DataFrame to get it into the correct format for creating the vector embeddings for our vector database.\n",
    "This will include:\n",
    "- Adding a column prefix\n",
    "- Removing excess columns\n",
    "- Fixing column values\n",
    "- Combining columns into one\n",
    "- Removing duplicate rows\n",
    "\n",
    "Once these pre-processing steps have been carried out, our data will be clean and in the correct format to start creating embeddings."
   ]
  },
  {
   "cell_type": "code",
   "execution_count": 13,
   "id": "44b59370",
   "metadata": {},
   "outputs": [],
   "source": [
    "# add \"song_\" prefix to col names\n",
    "song_df = raw_song_df.add_prefix(\"song_\")"
   ]
  },
  {
   "cell_type": "code",
   "execution_count": 14,
   "id": "781e33be",
   "metadata": {},
   "outputs": [],
   "source": [
    "# drop unused cols\n",
    "song_df = song_df.drop(columns=[\"song_id\", \"song_release_date\"])"
   ]
  },
  {
   "cell_type": "code",
   "execution_count": 15,
   "id": "d01ceb35",
   "metadata": {},
   "outputs": [],
   "source": [
    "# fix artists list names - remove quotes\n",
    "def fix_artists(str_list):\n",
    "    return \", \".join([v for v in str_list.rstrip(\"']\").lstrip(\"['\").split(\"', '\")])\n",
    "\n",
    "\n",
    "song_df[\"song_artists\"] = song_df[\"song_artists\"].apply(fix_artists)"
   ]
  },
  {
   "cell_type": "code",
   "execution_count": 16,
   "id": "6049043d",
   "metadata": {},
   "outputs": [],
   "source": [
    "# combine song_name & song_artists into song_description\n",
    "song_df.insert(\n",
    "    0, \"song_description\", song_df[\"song_name\"] + \" - \" + song_df[\"song_artists\"]\n",
    ")"
   ]
  },
  {
   "cell_type": "code",
   "execution_count": 17,
   "id": "4b9867c7",
   "metadata": {},
   "outputs": [],
   "source": [
    "# remove duplicate rows\n",
    "song_data = song_df[\n",
    "    ~song_df.duplicated(subset=[\"song_description\"], keep=\"first\")\n",
    "].reset_index(drop=True)"
   ]
  },
  {
   "cell_type": "code",
   "execution_count": 18,
   "id": "0f3b35c5",
   "metadata": {},
   "outputs": [
    {
     "name": "stdout",
     "output_type": "stream",
     "text": [
      "(170653, 18)\n"
     ]
    },
    {
     "data": {
      "text/html": [
       "<div>\n",
       "<style scoped>\n",
       "    .dataframe tbody tr th:only-of-type {\n",
       "        vertical-align: middle;\n",
       "    }\n",
       "\n",
       "    .dataframe tbody tr th {\n",
       "        vertical-align: top;\n",
       "    }\n",
       "\n",
       "    .dataframe thead th {\n",
       "        text-align: right;\n",
       "    }\n",
       "</style>\n",
       "<table border=\"1\" class=\"dataframe\">\n",
       "  <thead>\n",
       "    <tr style=\"text-align: right;\">\n",
       "      <th></th>\n",
       "      <th>song_description</th>\n",
       "      <th>song_name</th>\n",
       "      <th>song_artists</th>\n",
       "      <th>song_acousticness</th>\n",
       "      <th>song_danceability</th>\n",
       "      <th>song_duration_ms</th>\n",
       "      <th>song_energy</th>\n",
       "      <th>song_explicit</th>\n",
       "      <th>song_instrumentalness</th>\n",
       "      <th>song_key</th>\n",
       "      <th>song_liveness</th>\n",
       "      <th>song_loudness</th>\n",
       "      <th>song_mode</th>\n",
       "      <th>song_popularity</th>\n",
       "      <th>song_speechiness</th>\n",
       "      <th>song_tempo</th>\n",
       "      <th>song_valence</th>\n",
       "      <th>song_year</th>\n",
       "    </tr>\n",
       "  </thead>\n",
       "  <tbody>\n",
       "    <tr>\n",
       "      <th>0</th>\n",
       "      <td>Piano Concerto No. 3 in D Minor, Op. 30: III. Finale. Alla breve - Sergei Rachmaninoff, James Levine, Berliner Philharmoniker</td>\n",
       "      <td>Piano Concerto No. 3 in D Minor, Op. 30: III. Finale. Alla breve</td>\n",
       "      <td>Sergei Rachmaninoff, James Levine, Berliner Philharmoniker</td>\n",
       "      <td>0.982</td>\n",
       "      <td>0.279</td>\n",
       "      <td>831667</td>\n",
       "      <td>0.211</td>\n",
       "      <td>0</td>\n",
       "      <td>0.878000</td>\n",
       "      <td>10</td>\n",
       "      <td>0.665</td>\n",
       "      <td>-20.096</td>\n",
       "      <td>1</td>\n",
       "      <td>4</td>\n",
       "      <td>0.0366</td>\n",
       "      <td>80.954</td>\n",
       "      <td>0.0594</td>\n",
       "      <td>1921</td>\n",
       "    </tr>\n",
       "    <tr>\n",
       "      <th>1</th>\n",
       "      <td>Clancy Lowered the Boom - Dennis Day</td>\n",
       "      <td>Clancy Lowered the Boom</td>\n",
       "      <td>Dennis Day</td>\n",
       "      <td>0.732</td>\n",
       "      <td>0.819</td>\n",
       "      <td>180533</td>\n",
       "      <td>0.341</td>\n",
       "      <td>0</td>\n",
       "      <td>0.000000</td>\n",
       "      <td>7</td>\n",
       "      <td>0.160</td>\n",
       "      <td>-12.441</td>\n",
       "      <td>1</td>\n",
       "      <td>5</td>\n",
       "      <td>0.4150</td>\n",
       "      <td>60.936</td>\n",
       "      <td>0.9630</td>\n",
       "      <td>1921</td>\n",
       "    </tr>\n",
       "    <tr>\n",
       "      <th>2</th>\n",
       "      <td>Gati Bali - KHP Kridhamardawa Karaton Ngayogyakarta Hadiningrat</td>\n",
       "      <td>Gati Bali</td>\n",
       "      <td>KHP Kridhamardawa Karaton Ngayogyakarta Hadiningrat</td>\n",
       "      <td>0.961</td>\n",
       "      <td>0.328</td>\n",
       "      <td>500062</td>\n",
       "      <td>0.166</td>\n",
       "      <td>0</td>\n",
       "      <td>0.913000</td>\n",
       "      <td>3</td>\n",
       "      <td>0.101</td>\n",
       "      <td>-14.850</td>\n",
       "      <td>1</td>\n",
       "      <td>5</td>\n",
       "      <td>0.0339</td>\n",
       "      <td>110.339</td>\n",
       "      <td>0.0394</td>\n",
       "      <td>1921</td>\n",
       "    </tr>\n",
       "    <tr>\n",
       "      <th>3</th>\n",
       "      <td>Danny Boy - Frank Parker</td>\n",
       "      <td>Danny Boy</td>\n",
       "      <td>Frank Parker</td>\n",
       "      <td>0.967</td>\n",
       "      <td>0.275</td>\n",
       "      <td>210000</td>\n",
       "      <td>0.309</td>\n",
       "      <td>0</td>\n",
       "      <td>0.000028</td>\n",
       "      <td>5</td>\n",
       "      <td>0.381</td>\n",
       "      <td>-9.316</td>\n",
       "      <td>1</td>\n",
       "      <td>3</td>\n",
       "      <td>0.0354</td>\n",
       "      <td>100.109</td>\n",
       "      <td>0.1650</td>\n",
       "      <td>1921</td>\n",
       "    </tr>\n",
       "    <tr>\n",
       "      <th>4</th>\n",
       "      <td>When Irish Eyes Are Smiling - Phil Regan</td>\n",
       "      <td>When Irish Eyes Are Smiling</td>\n",
       "      <td>Phil Regan</td>\n",
       "      <td>0.957</td>\n",
       "      <td>0.418</td>\n",
       "      <td>166693</td>\n",
       "      <td>0.193</td>\n",
       "      <td>0</td>\n",
       "      <td>0.000002</td>\n",
       "      <td>3</td>\n",
       "      <td>0.229</td>\n",
       "      <td>-10.096</td>\n",
       "      <td>1</td>\n",
       "      <td>2</td>\n",
       "      <td>0.0380</td>\n",
       "      <td>101.665</td>\n",
       "      <td>0.2530</td>\n",
       "      <td>1921</td>\n",
       "    </tr>\n",
       "  </tbody>\n",
       "</table>\n",
       "</div>"
      ],
      "text/plain": [
       "                                                                                                                song_description  \\\n",
       "0  Piano Concerto No. 3 in D Minor, Op. 30: III. Finale. Alla breve - Sergei Rachmaninoff, James Levine, Berliner Philharmoniker   \n",
       "1                                                                                           Clancy Lowered the Boom - Dennis Day   \n",
       "2                                                                Gati Bali - KHP Kridhamardawa Karaton Ngayogyakarta Hadiningrat   \n",
       "3                                                                                                       Danny Boy - Frank Parker   \n",
       "4                                                                                       When Irish Eyes Are Smiling - Phil Regan   \n",
       "\n",
       "                                                          song_name  \\\n",
       "0  Piano Concerto No. 3 in D Minor, Op. 30: III. Finale. Alla breve   \n",
       "1                                           Clancy Lowered the Boom   \n",
       "2                                                         Gati Bali   \n",
       "3                                                         Danny Boy   \n",
       "4                                       When Irish Eyes Are Smiling   \n",
       "\n",
       "                                                 song_artists  \\\n",
       "0  Sergei Rachmaninoff, James Levine, Berliner Philharmoniker   \n",
       "1                                                  Dennis Day   \n",
       "2         KHP Kridhamardawa Karaton Ngayogyakarta Hadiningrat   \n",
       "3                                                Frank Parker   \n",
       "4                                                  Phil Regan   \n",
       "\n",
       "   song_acousticness  song_danceability  song_duration_ms  song_energy  \\\n",
       "0              0.982              0.279            831667        0.211   \n",
       "1              0.732              0.819            180533        0.341   \n",
       "2              0.961              0.328            500062        0.166   \n",
       "3              0.967              0.275            210000        0.309   \n",
       "4              0.957              0.418            166693        0.193   \n",
       "\n",
       "   song_explicit  song_instrumentalness  song_key  song_liveness  \\\n",
       "0              0               0.878000        10          0.665   \n",
       "1              0               0.000000         7          0.160   \n",
       "2              0               0.913000         3          0.101   \n",
       "3              0               0.000028         5          0.381   \n",
       "4              0               0.000002         3          0.229   \n",
       "\n",
       "   song_loudness  song_mode  song_popularity  song_speechiness  song_tempo  \\\n",
       "0        -20.096          1                4            0.0366      80.954   \n",
       "1        -12.441          1                5            0.4150      60.936   \n",
       "2        -14.850          1                5            0.0339     110.339   \n",
       "3         -9.316          1                3            0.0354     100.109   \n",
       "4        -10.096          1                2            0.0380     101.665   \n",
       "\n",
       "   song_valence  song_year  \n",
       "0        0.0594       1921  \n",
       "1        0.9630       1921  \n",
       "2        0.0394       1921  \n",
       "3        0.1650       1921  \n",
       "4        0.2530       1921  "
      ]
     },
     "execution_count": 18,
     "metadata": {},
     "output_type": "execute_result"
    }
   ],
   "source": [
    "show_df(song_df)"
   ]
  },
  {
   "cell_type": "markdown",
   "id": "92d0819e",
   "metadata": {},
   "source": [
    "## 2. Create Song Vector Embeddings"
   ]
  },
  {
   "cell_type": "markdown",
   "id": "76775144",
   "metadata": {},
   "source": [
    "We will create vector embeddings from this data in three steps:\n",
    "\n",
    "- A. Encoding the categorical `song_description` column as numeric values\n",
    "- B. Scaling the numeric column values\n",
    "- C. Joining these two sets of encodings together into one vector embedding"
   ]
  },
  {
   "cell_type": "markdown",
   "id": "7edae729",
   "metadata": {},
   "source": [
    "### A. Embed Categorical Song Metadata"
   ]
  },
  {
   "cell_type": "markdown",
   "id": "28410994",
   "metadata": {},
   "source": [
    "To embed the `song_description` column as numeric vectors, we must perform natural language processing on them.\n",
    "This involves tokenising the descriptions to break them up into their individual sub-parts and then using a `Word2Vec` model to turn these tokenised song descriptions into vectors.\n",
    "\n",
    "The length of the vectors we turn these desciptions into is configurable, however, in this case we chose to set this to `15` as there are also 15 numeric columns which describe the song. We do not want to bias the final embedding vectors in favour of either the categorical columns or the numeric columns, so it made sense to keep the number of values representing each the same for both.\n"
   ]
  },
  {
   "cell_type": "code",
   "execution_count": 19,
   "id": "4c640b59",
   "metadata": {},
   "outputs": [],
   "source": [
    "# tokenize the descriptions\n",
    "tokenised_song_descs = [word_tokenize(v.lower()) for v in song_data[\"song_description\"]]"
   ]
  },
  {
   "cell_type": "code",
   "execution_count": 20,
   "id": "df2bc20b",
   "metadata": {},
   "outputs": [],
   "source": [
    "# create embedding model\n",
    "embedding_dim = 15\n",
    "\n",
    "word2Vec_model = Word2Vec(\n",
    "    sentences=tokenised_song_descs,\n",
    "    vector_size=embedding_dim,\n",
    "    window=5,\n",
    "    min_count=1,\n",
    "    sg=1,\n",
    ")"
   ]
  },
  {
   "cell_type": "code",
   "execution_count": 21,
   "id": "bedcbe34",
   "metadata": {},
   "outputs": [],
   "source": [
    "# function to create embedding vector from tokens\n",
    "def get_embedding(song_desc_tokens, model, embedding_dim):\n",
    "    vectors = [model.wv[token] for token in song_desc_tokens if token in model.wv]\n",
    "\n",
    "    # Average of word vectors OR zeros if no valid tokens found\n",
    "    return sum(vectors) / len(vectors) if vectors else [0] * embedding_dim"
   ]
  },
  {
   "cell_type": "code",
   "execution_count": 22,
   "id": "e20683ba",
   "metadata": {},
   "outputs": [],
   "source": [
    "# embed song descriptions as vectors\n",
    "categorical_embeddings = [\n",
    "    get_embedding(song_desc_tokens, word2Vec_model, embedding_dim)\n",
    "    for song_desc_tokens in tokenised_song_descs\n",
    "]"
   ]
  },
  {
   "cell_type": "code",
   "execution_count": 23,
   "id": "980bb2e3",
   "metadata": {},
   "outputs": [
    {
     "name": "stdout",
     "output_type": "stream",
     "text": [
      "Num Embeddings: 157685\n",
      "Embedding Size: 15\n"
     ]
    },
    {
     "data": {
      "text/plain": [
       "[-1.3666918,\n",
       " 1.3530807,\n",
       " 1.2024066,\n",
       " -0.22466607,\n",
       " 0.41878286,\n",
       " -0.46274975,\n",
       " -1.2627567,\n",
       " -0.48880932,\n",
       " -0.63431007,\n",
       " 1.3277227,\n",
       " 0.72425747,\n",
       " 0.22040178,\n",
       " 0.43592826,\n",
       " -0.46053427,\n",
       " -1.2532883]"
      ]
     },
     "execution_count": 23,
     "metadata": {},
     "output_type": "execute_result"
    }
   ],
   "source": [
    "show_embeddings(categorical_embeddings)"
   ]
  },
  {
   "cell_type": "markdown",
   "id": "6b222f5a",
   "metadata": {},
   "source": [
    "### B. Embed Numeric Song Metadata"
   ]
  },
  {
   "cell_type": "markdown",
   "id": "03623844",
   "metadata": {},
   "source": [
    "There are 15 numeric columns in our data which we will use to make up the other half of our final embedding vectors.\n",
    "First, however, we will scale these values to make them more uniform.\n",
    "\n",
    "The standard scaled score of a sample `x` is calculated as:\n",
    "\n",
    "$$\n",
    "    z = \\frac{(x - u)}{s}\n",
    "$$\n",
    "\n",
    "where `u` is the mean of the training samples and `s` is the standard deviation of the training samples."
   ]
  },
  {
   "cell_type": "code",
   "execution_count": 24,
   "id": "e8614aa0",
   "metadata": {},
   "outputs": [
    {
     "data": {
      "text/plain": [
       "['song_acousticness',\n",
       " 'song_danceability',\n",
       " 'song_duration_ms',\n",
       " 'song_energy',\n",
       " 'song_explicit',\n",
       " 'song_instrumentalness',\n",
       " 'song_key',\n",
       " 'song_liveness',\n",
       " 'song_loudness',\n",
       " 'song_mode',\n",
       " 'song_popularity',\n",
       " 'song_speechiness',\n",
       " 'song_tempo',\n",
       " 'song_valence',\n",
       " 'song_year']"
      ]
     },
     "execution_count": 24,
     "metadata": {},
     "output_type": "execute_result"
    }
   ],
   "source": [
    "# extract numeric columns\n",
    "numeric_cols = list(\n",
    "    song_data.drop(columns=[\"song_name\", \"song_artists\", \"song_description\"]).columns\n",
    ")\n",
    "numeric_cols"
   ]
  },
  {
   "cell_type": "code",
   "execution_count": 25,
   "id": "918e76d7",
   "metadata": {},
   "outputs": [],
   "source": [
    "# scale these columns\n",
    "scaled_numeric_cols = [\n",
    "    (song_data[col] - song_data[col].mean()) / np.std(song_data[col])\n",
    "    for col in numeric_cols\n",
    "]"
   ]
  },
  {
   "cell_type": "code",
   "execution_count": 26,
   "id": "2bb9a127",
   "metadata": {},
   "outputs": [],
   "source": [
    "# transpose the array to get row embeddings\n",
    "numeric_embeddings = list(map(list, zip(*scaled_numeric_cols)))"
   ]
  },
  {
   "cell_type": "code",
   "execution_count": 27,
   "id": "7ab28edb",
   "metadata": {},
   "outputs": [
    {
     "name": "stdout",
     "output_type": "stream",
     "text": [
      "Num Embeddings: 157685\n",
      "Embedding Size: 15\n"
     ]
    },
    {
     "data": {
      "text/plain": [
       "[1.2703070294949106,\n",
       " -1.461259048884883,\n",
       " 4.752569009266444,\n",
       " -1.007676175100162,\n",
       " -0.3092011481361043,\n",
       " 2.262496351074803,\n",
       " 1.3649563314116429,\n",
       " 2.6110012104955738,\n",
       " -1.5078176079821606,\n",
       " 0.6453499264358126,\n",
       " -1.2499471942272533,\n",
       " -0.38364744367670833,\n",
       " -1.1655450558051375,\n",
       " -1.7786347004763523,\n",
       " -2.142666230649]"
      ]
     },
     "execution_count": 27,
     "metadata": {},
     "output_type": "execute_result"
    }
   ],
   "source": [
    "show_embeddings(numeric_embeddings)"
   ]
  },
  {
   "cell_type": "markdown",
   "id": "1ccebdaf",
   "metadata": {},
   "source": [
    "### C. Merge Categorical & Numeric Embeddings"
   ]
  },
  {
   "cell_type": "markdown",
   "id": "1ec7954d",
   "metadata": {},
   "source": [
    "This leaves us with two sets of vectors: one representing the categorical column and one representing the numeric columns.\n",
    "Both sets have 15 values each, so when we join these together, the resulting vector will have 30 values."
   ]
  },
  {
   "cell_type": "code",
   "execution_count": 28,
   "id": "6c5849e6",
   "metadata": {},
   "outputs": [],
   "source": [
    "row_embeddings = [\n",
    "    np.concatenate([cat_row, num_row])\n",
    "    for cat_row, num_row in zip(categorical_embeddings, numeric_embeddings)\n",
    "]"
   ]
  },
  {
   "cell_type": "code",
   "execution_count": 29,
   "id": "d5150a08",
   "metadata": {},
   "outputs": [
    {
     "name": "stdout",
     "output_type": "stream",
     "text": [
      "Num Embeddings: 157685\n",
      "Embedding Size: 30\n"
     ]
    },
    {
     "data": {
      "text/plain": [
       "[-1.3666918277740479,\n",
       " 1.3530807495117188,\n",
       " 1.202406644821167,\n",
       " -0.2246660739183426,\n",
       " 0.4187828600406647,\n",
       " -0.46274974942207336,\n",
       " -1.2627567052841187,\n",
       " -0.4888093173503876,\n",
       " -0.6343100666999817,\n",
       " 1.3277226686477661,\n",
       " 0.7242574691772461,\n",
       " 0.22040177881717682,\n",
       " 0.43592825531959534,\n",
       " -0.4605342745780945,\n",
       " -1.2532882690429688,\n",
       " 1.2703070294949106,\n",
       " -1.461259048884883,\n",
       " 4.752569009266444,\n",
       " -1.007676175100162,\n",
       " -0.3092011481361043,\n",
       " 2.262496351074803,\n",
       " 1.3649563314116429,\n",
       " 2.6110012104955738,\n",
       " -1.5078176079821606,\n",
       " 0.6453499264358126,\n",
       " -1.2499471942272533,\n",
       " -0.38364744367670833,\n",
       " -1.1655450558051375,\n",
       " -1.7786347004763523,\n",
       " -2.142666230649]"
      ]
     },
     "execution_count": 29,
     "metadata": {},
     "output_type": "execute_result"
    }
   ],
   "source": [
    "show_embeddings(row_embeddings)"
   ]
  },
  {
   "cell_type": "markdown",
   "id": "f1d97c52",
   "metadata": {},
   "source": [
    "### Create DataFrame With Embeddings"
   ]
  },
  {
   "cell_type": "markdown",
   "id": "ae9205b8",
   "metadata": {},
   "source": [
    "We can take these defined embeddings and create a Pandas DataFrame containing them.\n",
    "This will be the table we insert into our vector database.\n",
    "\n",
    "To enable proper filtering of the data once inserted into the KDB.AI vector database, we will pair these embedding vectors with three song description columns: `song_name`, `song_artists`, and `song_year`."
   ]
  },
  {
   "cell_type": "code",
   "execution_count": 30,
   "id": "40e00e5f",
   "metadata": {},
   "outputs": [],
   "source": [
    "embedded_song_df = song_data[[\"song_name\", \"song_artists\", \"song_year\"]]"
   ]
  },
  {
   "cell_type": "code",
   "execution_count": 31,
   "id": "5af8b92f",
   "metadata": {},
   "outputs": [],
   "source": [
    "embedded_song_df[\"song_embeddings\"] = row_embeddings"
   ]
  },
  {
   "cell_type": "code",
   "execution_count": 32,
   "id": "a5430d33",
   "metadata": {},
   "outputs": [
    {
     "name": "stdout",
     "output_type": "stream",
     "text": [
      "(157685, 4)\n"
     ]
    },
    {
     "data": {
      "text/html": [
       "<div>\n",
       "<style scoped>\n",
       "    .dataframe tbody tr th:only-of-type {\n",
       "        vertical-align: middle;\n",
       "    }\n",
       "\n",
       "    .dataframe tbody tr th {\n",
       "        vertical-align: top;\n",
       "    }\n",
       "\n",
       "    .dataframe thead th {\n",
       "        text-align: right;\n",
       "    }\n",
       "</style>\n",
       "<table border=\"1\" class=\"dataframe\">\n",
       "  <thead>\n",
       "    <tr style=\"text-align: right;\">\n",
       "      <th></th>\n",
       "      <th>song_name</th>\n",
       "      <th>song_artists</th>\n",
       "      <th>song_year</th>\n",
       "      <th>song_embeddings</th>\n",
       "    </tr>\n",
       "  </thead>\n",
       "  <tbody>\n",
       "    <tr>\n",
       "      <th>0</th>\n",
       "      <td>Piano Concerto No. 3 in D Minor, Op. 30: III. Finale. Alla breve</td>\n",
       "      <td>Sergei Rachmaninoff, James Levine, Berliner Philharmoniker</td>\n",
       "      <td>1921</td>\n",
       "      <td>[-1.3666918277740479, 1.3530807495117188, 1.202406644821167, -0.2246660739183426, 0.4187828600406647, -0.46274974942207336, -1.2627567052841187, -0.4888093173503876, -0.6343100666999817, 1.3277226686477661, 0.7242574691772461, 0.22040177881717682, 0.43592825531959534, -0.4605342745780945, -1.2532882690429688, 1.2703070294949106, -1.461259048884883, 4.752569009266444, -1.007676175100162, -0.3092011481361043, 2.262496351074803, 1.3649563314116429, 2.6110012104955738, -1.5078176079821606, 0.6453499264358126, -1.2499471942272533, -0.38364744367670833, -1.1655450558051375, -1.7786347004763523, -2.142666230649]</td>\n",
       "    </tr>\n",
       "    <tr>\n",
       "      <th>1</th>\n",
       "      <td>Clancy Lowered the Boom</td>\n",
       "      <td>Dennis Day</td>\n",
       "      <td>1921</td>\n",
       "      <td>[-0.4902784526348114, 0.8817081451416016, 1.11865234375, 0.08565742522478104, 0.6903175711631775, 0.5949982404708862, -0.7584375143051147, -0.0548345223069191, -0.2068416178226471, 0.09101372212171555, 0.9204968214035034, 0.6219479441642761, 0.5529213547706604, -0.3401077389717102, -0.10770940780639648, 0.6055353575765545, 1.600008527700499, -0.3958314054754836, -0.5219481676317469, -0.3092011481361043, -0.5349944602375606, 0.5117210944216953, -0.26640400859153673, -0.1646257835500665, 0.6453499264358126, -1.2044048830284118, 1.872793548131166, -1.8164526201212032, 1.6541851866630062, -2.142666230649]</td>\n",
       "    </tr>\n",
       "    <tr>\n",
       "      <th>2</th>\n",
       "      <td>Gati Bali</td>\n",
       "      <td>KHP Kridhamardawa Karaton Ngayogyakarta Hadiningrat</td>\n",
       "      <td>1921</td>\n",
       "      <td>[-0.2844405770301819, 0.631794273853302, -0.17285339534282684, 0.5646762251853943, 0.9662110805511475, 0.2495516836643219, 0.417460560798645, -0.22620971500873566, -0.6103554964065552, 0.26909953355789185, 0.5071016550064087, -0.1065995916724205, 0.22436323761940002, 0.33269351720809937, -1.0331687927246094, 1.2144662090537686, -1.183477361379913, 2.1306274127125904, -1.1758127930699978, -0.3092011481361043, 2.374013638541697, -0.6259258882315683, -0.6025761034947833, -0.5873232499193564, 0.6453499264358126, -1.2044048830284118, -0.3997478418740689, -0.21005905433508043, -1.854615663007104, -2.142666230649]</td>\n",
       "    </tr>\n",
       "    <tr>\n",
       "      <th>3</th>\n",
       "      <td>Danny Boy</td>\n",
       "      <td>Frank Parker</td>\n",
       "      <td>1921</td>\n",
       "      <td>[-0.7487789988517761, 1.3591301441192627, 1.1782379150390625, -0.2647874355316162, 0.49281495809555054, 0.7352277636528015, -1.1125710010528564, 0.05070333927869797, -0.19258345663547516, 0.5183664560317993, 1.150445580482483, 0.5057250261306763, 0.8323601484298706, -0.2318739891052246, 0.04909057915210724, 1.2304207291798093, -1.4839351050077376, -0.16284109162119192, -0.6415119848547415, -0.3092011481361043, -0.5349062022700511, -0.05710239690493648, 0.9928168892663868, 0.3837053008849818, 0.6453499264358126, -1.295489505426095, -0.39080317620886856, -0.5426988976237884, -1.3774552183139837, -2.142666230649]</td>\n",
       "    </tr>\n",
       "    <tr>\n",
       "      <th>4</th>\n",
       "      <td>When Irish Eyes Are Smiling</td>\n",
       "      <td>Phil Regan</td>\n",
       "      <td>1921</td>\n",
       "      <td>[-0.3061518669128418, 0.8175497651100159, 0.9532014727592468, -0.05882035940885544, 1.183526635169983, 0.30472809076309204, -0.9971756935119629, 0.1633039265871048, -0.2687903046607971, 0.04581066593527794, 1.3318020105361938, 0.1084437295794487, 0.9008270502090454, -0.5091925263404846, -0.18293435871601105, 1.203829862303075, -0.6732660986156829, -0.5052618172494476, -1.0749308222880962, -0.3092011481361043, -0.5349891074077622, -0.6259258882315683, 0.12674640748175162, 0.24684186220999385, 0.6453499264358126, -1.3410318166249366, -0.3752990890558546, -0.4921038246856425, -1.0431389831786766, -2.142666230649]</td>\n",
       "    </tr>\n",
       "  </tbody>\n",
       "</table>\n",
       "</div>"
      ],
      "text/plain": [
       "                                                          song_name  \\\n",
       "0  Piano Concerto No. 3 in D Minor, Op. 30: III. Finale. Alla breve   \n",
       "1                                           Clancy Lowered the Boom   \n",
       "2                                                         Gati Bali   \n",
       "3                                                         Danny Boy   \n",
       "4                                       When Irish Eyes Are Smiling   \n",
       "\n",
       "                                                 song_artists  song_year  \\\n",
       "0  Sergei Rachmaninoff, James Levine, Berliner Philharmoniker       1921   \n",
       "1                                                  Dennis Day       1921   \n",
       "2         KHP Kridhamardawa Karaton Ngayogyakarta Hadiningrat       1921   \n",
       "3                                                Frank Parker       1921   \n",
       "4                                                  Phil Regan       1921   \n",
       "\n",
       "                                                                                                                                                                                                                                                                                                                                                                                                                                                                                                                                                                                                                             song_embeddings  \n",
       "0       [-1.3666918277740479, 1.3530807495117188, 1.202406644821167, -0.2246660739183426, 0.4187828600406647, -0.46274974942207336, -1.2627567052841187, -0.4888093173503876, -0.6343100666999817, 1.3277226686477661, 0.7242574691772461, 0.22040177881717682, 0.43592825531959534, -0.4605342745780945, -1.2532882690429688, 1.2703070294949106, -1.461259048884883, 4.752569009266444, -1.007676175100162, -0.3092011481361043, 2.262496351074803, 1.3649563314116429, 2.6110012104955738, -1.5078176079821606, 0.6453499264358126, -1.2499471942272533, -0.38364744367670833, -1.1655450558051375, -1.7786347004763523, -2.142666230649]  \n",
       "1           [-0.4902784526348114, 0.8817081451416016, 1.11865234375, 0.08565742522478104, 0.6903175711631775, 0.5949982404708862, -0.7584375143051147, -0.0548345223069191, -0.2068416178226471, 0.09101372212171555, 0.9204968214035034, 0.6219479441642761, 0.5529213547706604, -0.3401077389717102, -0.10770940780639648, 0.6055353575765545, 1.600008527700499, -0.3958314054754836, -0.5219481676317469, -0.3092011481361043, -0.5349944602375606, 0.5117210944216953, -0.26640400859153673, -0.1646257835500665, 0.6453499264358126, -1.2044048830284118, 1.872793548131166, -1.8164526201212032, 1.6541851866630062, -2.142666230649]  \n",
       "2     [-0.2844405770301819, 0.631794273853302, -0.17285339534282684, 0.5646762251853943, 0.9662110805511475, 0.2495516836643219, 0.417460560798645, -0.22620971500873566, -0.6103554964065552, 0.26909953355789185, 0.5071016550064087, -0.1065995916724205, 0.22436323761940002, 0.33269351720809937, -1.0331687927246094, 1.2144662090537686, -1.183477361379913, 2.1306274127125904, -1.1758127930699978, -0.3092011481361043, 2.374013638541697, -0.6259258882315683, -0.6025761034947833, -0.5873232499193564, 0.6453499264358126, -1.2044048830284118, -0.3997478418740689, -0.21005905433508043, -1.854615663007104, -2.142666230649]  \n",
       "3  [-0.7487789988517761, 1.3591301441192627, 1.1782379150390625, -0.2647874355316162, 0.49281495809555054, 0.7352277636528015, -1.1125710010528564, 0.05070333927869797, -0.19258345663547516, 0.5183664560317993, 1.150445580482483, 0.5057250261306763, 0.8323601484298706, -0.2318739891052246, 0.04909057915210724, 1.2304207291798093, -1.4839351050077376, -0.16284109162119192, -0.6415119848547415, -0.3092011481361043, -0.5349062022700511, -0.05710239690493648, 0.9928168892663868, 0.3837053008849818, 0.6453499264358126, -1.295489505426095, -0.39080317620886856, -0.5426988976237884, -1.3774552183139837, -2.142666230649]  \n",
       "4  [-0.3061518669128418, 0.8175497651100159, 0.9532014727592468, -0.05882035940885544, 1.183526635169983, 0.30472809076309204, -0.9971756935119629, 0.1633039265871048, -0.2687903046607971, 0.04581066593527794, 1.3318020105361938, 0.1084437295794487, 0.9008270502090454, -0.5091925263404846, -0.18293435871601105, 1.203829862303075, -0.6732660986156829, -0.5052618172494476, -1.0749308222880962, -0.3092011481361043, -0.5349891074077622, -0.6259258882315683, 0.12674640748175162, 0.24684186220999385, 0.6453499264358126, -1.3410318166249366, -0.3752990890558546, -0.4921038246856425, -1.0431389831786766, -2.142666230649]  "
      ]
     },
     "execution_count": 32,
     "metadata": {},
     "output_type": "execute_result"
    }
   ],
   "source": [
    "show_df(embedded_song_df)"
   ]
  },
  {
   "cell_type": "markdown",
   "id": "e59c8f54",
   "metadata": {},
   "source": [
    "## 3. Store Embeddings In KDB.AI"
   ]
  },
  {
   "cell_type": "markdown",
   "id": "9d2724a9",
   "metadata": {},
   "source": [
    "With the embeddings created, we need to store them in a vector database to enable efficient searching.\n",
    "\n",
    "### Define KDB.AI Session\n",
    "\n",
    "KDB.AI comes in two offerings:\n",
    "\n",
    "1. [KDB.AI Cloud](https://trykdb.kx.com/kdbai/signup/) - For experimenting with smaller generative AI projects with a vector database in our cloud.\n",
    "2. [KDB.AI Server](https://trykdb.kx.com/kdbaiserver/signup/) - For evaluating large scale generative AI applications on-premises or on your own cloud provider.\n",
    "\n",
    "Depending on which you use there will be different setup steps and connection details required.\n",
    "\n",
    "##### Option 1. KDB.AI Cloud\n",
    "\n",
    "To use KDB.AI Cloud, you will need two session details - a URL endpoint and an API key.\n",
    "To get these you can sign up for free [here](https://trykdb.kx.com/kdbai/signup).\n",
    "\n",
    "You can connect to a KDB.AI Cloud session using `kdbai.Session` and passing the session URL endpoint and API key details from your KDB.AI Cloud portal.\n",
    "\n",
    "If the environment variables `KDBAI_ENDPOINTS` and `KDBAI_API_KEY` exist on your system containing your KDB.AI Cloud portal details, these variables will automatically be used to connect.\n",
    "If these do not exist, it will prompt you to enter your KDB.AI Cloud portal session URL endpoint and API key details."
   ]
  },
  {
   "cell_type": "code",
   "execution_count": 33,
   "id": "53c01082",
   "metadata": {},
   "outputs": [],
   "source": [
    "KDBAI_ENDPOINT = (\n",
    "    os.environ[\"KDBAI_ENDPOINT\"]\n",
    "    if \"KDBAI_ENDPOINT\" in os.environ\n",
    "    else input(\"KDB.AI endpoint: \")\n",
    ")\n",
    "KDBAI_API_KEY = (\n",
    "    os.environ[\"KDBAI_API_KEY\"]\n",
    "    if \"KDBAI_API_KEY\" in os.environ\n",
    "    else getpass(\"KDB.AI API key: \")\n",
    ")"
   ]
  },
  {
   "cell_type": "code",
   "execution_count": null,
   "id": "8f2409e5",
   "metadata": {},
   "outputs": [],
   "source": [
    "session = kdbai.Session(api_key=KDBAI_API_KEY, endpoint=KDBAI_ENDPOINT)"
   ]
  },
  {
   "cell_type": "markdown",
   "id": "6981ac12",
   "metadata": {},
   "source": [
    "##### Option 2. KDB.AI Server\n",
    "\n",
    "To use KDB.AI Server, you will need download and run your own container.\n",
    "To do this, you will first need to sign up for free [here](https://trykdb.kx.com/kdbaiserver/signup/). \n",
    "\n",
    "You will receive an email with the required license file and bearer token needed to download your instance.\n",
    "Follow instructions in the signup email to get your session up and running.\n",
    "\n",
    "Once the [setup steps](https://code.kx.com/kdbai/gettingStarted/kdb-ai-server-setup.html) are complete you can then connect to your KDB.AI Server session using `kdbai.Session` and passing your local endpoint."
   ]
  },
  {
   "cell_type": "code",
   "execution_count": 35,
   "id": "6db4df5a",
   "metadata": {},
   "outputs": [],
   "source": [
    "# session = kdbai.Session(endpoint=\"http://localhost:8082\")"
   ]
  },
  {
   "cell_type": "markdown",
   "id": "1a3e5fcc",
   "metadata": {},
   "source": [
    "### Define Vector DB Table Schema\n",
    "\n",
    "The next step is to define the schema for the table in KDB.AI which will store our embeddings.\n",
    "\n",
    "As mentioned above, our table will have four columns:\n",
    "- Song Name\n",
    "- Song Artists\n",
    "- Song Year\n",
    "- Song Embeddings\n",
    "\n",
    "When defining the schema, we must supply the types of these columns. We can use the `.dtypes()` function on the defined Pandas DataFrame to help with this."
   ]
  },
  {
   "cell_type": "code",
   "execution_count": 36,
   "id": "d535b113",
   "metadata": {},
   "outputs": [
    {
     "data": {
      "text/plain": [
       "song_name          object\n",
       "song_artists       object\n",
       "song_year           int64\n",
       "song_embeddings    object\n",
       "dtype: object"
      ]
     },
     "execution_count": 36,
     "metadata": {},
     "output_type": "execute_result"
    }
   ],
   "source": [
    "embedded_song_df.dtypes"
   ]
  },
  {
   "cell_type": "code",
   "execution_count": 37,
   "id": "c1c94ebc",
   "metadata": {},
   "outputs": [],
   "source": [
    "schema =  [\n",
    "    {\n",
    "        \"name\": \"song_name\",\n",
    "        \"type\": \"str\",\n",
    "    },\n",
    "    {\n",
    "        \"name\": \"song_artists\",\n",
    "        \"type\": \"bytes\",\n",
    "    },\n",
    "    {\n",
    "        \"name\": \"song_year\",\n",
    "        \"type\": \"int64\",\n",
    "    },\n",
    "    {\n",
    "        \"name\": \"song_embeddings\",\n",
    "        \"type\": \"float64s\"\n",
    "    }\n",
    "]\n",
    "\n",
    "indexes = [\n",
    "    {\n",
    "        \"name\" : \"flat_index\",\n",
    "        \"column\" : \"song_embeddings\",\n",
    "        \"type\" : \"flat\",\n",
    "        \"params\":{\n",
    "            \"dims\": len(numeric_cols) + embedding_dim,\n",
    "            \"metric\": \"L2\"\n",
    "        }\n",
    "    }\n",
    "]"
   ]
  },
  {
   "cell_type": "markdown",
   "id": "c70075f1",
   "metadata": {},
   "source": [
    "### Create Vector DB Table\n",
    "\n",
    "Use the KDB.AI `create_table` function to create a table that matches the defined schema in the vector database."
   ]
  },
  {
   "cell_type": "code",
   "execution_count": 38,
   "id": "13bd4adf",
   "metadata": {},
   "outputs": [],
   "source": [
    "# Get database connection. Default database is 'default'.\n",
    "database = session.database(\"default\")\n",
    "\n",
    "# First ensure the table does not already exist\n",
    "try:\n",
    "    database.table(\"songs\").drop()\n",
    "    time.sleep(5)\n",
    "except kdbai.KDBAIException:\n",
    "    pass"
   ]
  },
  {
   "cell_type": "code",
   "execution_count": 39,
   "id": "e1179907",
   "metadata": {
    "scrolled": true
   },
   "outputs": [],
   "source": [
    "table = database.create_table(\"songs\", schema=schema, indexes=indexes)"
   ]
  },
  {
   "cell_type": "markdown",
   "id": "f7cef68a",
   "metadata": {},
   "source": [
    "### Add Embedded Data to KDB.AI Table\n",
    "\n",
    "When adding larger amounts of data, you should insert data into an index in chunks.\n",
    "\n",
    "It is a good idea to first get an idea of how large your dataset to insert is."
   ]
  },
  {
   "cell_type": "code",
   "execution_count": 40,
   "id": "a7c74728",
   "metadata": {},
   "outputs": [
    {
     "data": {
      "text/plain": [
       "79.63715362548828"
      ]
     },
     "execution_count": 40,
     "metadata": {},
     "output_type": "execute_result"
    }
   ],
   "source": [
    "embedded_song_df.memory_usage(deep=True).sum() / (1024**2)"
   ]
  },
  {
   "cell_type": "markdown",
   "id": "a3202579",
   "metadata": {},
   "source": [
    "This dataset is 80MB which exceeds the insert limit of <10MB at a time. As such, we'll insert this data in chunks, inserting 10,000 rows at a time."
   ]
  },
  {
   "cell_type": "code",
   "execution_count": 41,
   "id": "c2179418",
   "metadata": {},
   "outputs": [],
   "source": [
    "chunk_size = 10_000"
   ]
  },
  {
   "cell_type": "code",
   "execution_count": null,
   "id": "a6a2fd78",
   "metadata": {
    "scrolled": true
   },
   "outputs": [],
   "source": [
    "# Convert empty string values to None as empty string will create issue in search filter.\n",
    "for index, row in embedded_song_df.iterrows():\n",
    "    cast = row['song_artists']\n",
    "    if 1 == len(cast):\n",
    "        embedded_song_df.loc[index, 'song_artists'] = 'None'\n",
    "\n",
    "for i in tqdm(range((len(embedded_song_df) // chunk_size) + 1)):\n",
    "    index = i * chunk_size\n",
    "    data = embedded_song_df.iloc[index : index + chunk_size].reset_index(drop=True)\n",
    "    # change data types as per table schema\n",
    "    data['song_artists'] = data['song_artists'].str.encode('utf-8')\n",
    "    table.insert(data)"
   ]
  },
  {
   "cell_type": "markdown",
   "id": "20a556b3",
   "metadata": {},
   "source": [
    "### Verify Data Has Been Inserted\n",
    "\n",
    "Running `table.query()` should show us that data has been added."
   ]
  },
  {
   "cell_type": "code",
   "execution_count": 43,
   "id": "f9a04081",
   "metadata": {},
   "outputs": [
    {
     "name": "stdout",
     "output_type": "stream",
     "text": [
      "(157685, 4)\n"
     ]
    },
    {
     "data": {
      "text/html": [
       "<div>\n",
       "<style scoped>\n",
       "    .dataframe tbody tr th:only-of-type {\n",
       "        vertical-align: middle;\n",
       "    }\n",
       "\n",
       "    .dataframe tbody tr th {\n",
       "        vertical-align: top;\n",
       "    }\n",
       "\n",
       "    .dataframe thead th {\n",
       "        text-align: right;\n",
       "    }\n",
       "</style>\n",
       "<table border=\"1\" class=\"dataframe\">\n",
       "  <thead>\n",
       "    <tr style=\"text-align: right;\">\n",
       "      <th></th>\n",
       "      <th>song_name</th>\n",
       "      <th>song_artists</th>\n",
       "      <th>song_year</th>\n",
       "      <th>song_embeddings</th>\n",
       "    </tr>\n",
       "  </thead>\n",
       "  <tbody>\n",
       "    <tr>\n",
       "      <th>0</th>\n",
       "      <td>Piano Concerto No. 3 in D Minor, Op. 30: III. Finale. Alla breve</td>\n",
       "      <td>b'Sergei Rachmaninoff, James Levine, Berliner Philharmoniker'</td>\n",
       "      <td>1921</td>\n",
       "      <td>[-1.3666918277740479, 1.3530807495117188, 1.202406644821167, -0.2246660739183426, 0.4187828600406647, -0.46274974942207336, -1.2627567052841187, -0.4888093173503876, -0.6343100666999817, 1.3277226686477661, 0.7242574691772461, 0.22040177881717682, 0.43592825531959534, -0.4605342745780945, -1.2532882690429688, 1.2703070294949106, -1.461259048884883, 4.752569009266444, -1.007676175100162, -0.3092011481361043, 2.262496351074803, 1.3649563314116429, 2.6110012104955738, -1.5078176079821606, 0.6453499264358126, -1.2499471942272533, -0.38364744367670833, -1.1655450558051375, -1.7786347004763523, -2.142666230649]</td>\n",
       "    </tr>\n",
       "    <tr>\n",
       "      <th>1</th>\n",
       "      <td>Clancy Lowered the Boom</td>\n",
       "      <td>b'Dennis Day'</td>\n",
       "      <td>1921</td>\n",
       "      <td>[-0.4902784526348114, 0.8817081451416016, 1.11865234375, 0.08565742522478104, 0.6903175711631775, 0.5949982404708862, -0.7584375143051147, -0.0548345223069191, -0.2068416178226471, 0.09101372212171555, 0.9204968214035034, 0.6219479441642761, 0.5529213547706604, -0.3401077389717102, -0.10770940780639648, 0.6055353575765545, 1.600008527700499, -0.3958314054754836, -0.5219481676317469, -0.3092011481361043, -0.5349944602375606, 0.5117210944216953, -0.26640400859153673, -0.1646257835500665, 0.6453499264358126, -1.2044048830284118, 1.872793548131166, -1.8164526201212032, 1.6541851866630062, -2.142666230649]</td>\n",
       "    </tr>\n",
       "    <tr>\n",
       "      <th>2</th>\n",
       "      <td>Gati Bali</td>\n",
       "      <td>b'KHP Kridhamardawa Karaton Ngayogyakarta Hadiningrat'</td>\n",
       "      <td>1921</td>\n",
       "      <td>[-0.2844405770301819, 0.631794273853302, -0.17285339534282684, 0.5646762251853943, 0.9662110805511475, 0.2495516836643219, 0.417460560798645, -0.22620971500873566, -0.6103554964065552, 0.26909953355789185, 0.5071016550064087, -0.1065995916724205, 0.22436323761940002, 0.33269351720809937, -1.0331687927246094, 1.2144662090537686, -1.183477361379913, 2.1306274127125904, -1.1758127930699978, -0.3092011481361043, 2.374013638541697, -0.6259258882315683, -0.6025761034947833, -0.5873232499193564, 0.6453499264358126, -1.2044048830284118, -0.3997478418740689, -0.21005905433508043, -1.854615663007104, -2.142666230649]</td>\n",
       "    </tr>\n",
       "    <tr>\n",
       "      <th>3</th>\n",
       "      <td>Danny Boy</td>\n",
       "      <td>b'Frank Parker'</td>\n",
       "      <td>1921</td>\n",
       "      <td>[-0.7487789988517761, 1.3591301441192627, 1.1782379150390625, -0.2647874355316162, 0.49281495809555054, 0.7352277636528015, -1.1125710010528564, 0.05070333927869797, -0.19258345663547516, 0.5183664560317993, 1.150445580482483, 0.5057250261306763, 0.8323601484298706, -0.2318739891052246, 0.04909057915210724, 1.2304207291798093, -1.4839351050077376, -0.16284109162119192, -0.6415119848547415, -0.3092011481361043, -0.5349062022700511, -0.05710239690493648, 0.9928168892663868, 0.3837053008849818, 0.6453499264358126, -1.295489505426095, -0.39080317620886856, -0.5426988976237884, -1.3774552183139837, -2.142666230649]</td>\n",
       "    </tr>\n",
       "    <tr>\n",
       "      <th>4</th>\n",
       "      <td>When Irish Eyes Are Smiling</td>\n",
       "      <td>b'Phil Regan'</td>\n",
       "      <td>1921</td>\n",
       "      <td>[-0.3061518669128418, 0.8175497651100159, 0.9532014727592468, -0.05882035940885544, 1.183526635169983, 0.30472809076309204, -0.9971756935119629, 0.1633039265871048, -0.2687903046607971, 0.04581066593527794, 1.3318020105361938, 0.1084437295794487, 0.9008270502090454, -0.5091925263404846, -0.18293435871601105, 1.203829862303075, -0.6732660986156829, -0.5052618172494476, -1.0749308222880962, -0.3092011481361043, -0.5349891074077622, -0.6259258882315683, 0.12674640748175162, 0.24684186220999385, 0.6453499264358126, -1.3410318166249366, -0.3752990890558546, -0.4921038246856425, -1.0431389831786766, -2.142666230649]</td>\n",
       "    </tr>\n",
       "  </tbody>\n",
       "</table>\n",
       "</div>"
      ],
      "text/plain": [
       "                                                          song_name  \\\n",
       "0  Piano Concerto No. 3 in D Minor, Op. 30: III. Finale. Alla breve   \n",
       "1                                           Clancy Lowered the Boom   \n",
       "2                                                         Gati Bali   \n",
       "3                                                         Danny Boy   \n",
       "4                                       When Irish Eyes Are Smiling   \n",
       "\n",
       "                                                    song_artists  song_year  \\\n",
       "0  b'Sergei Rachmaninoff, James Levine, Berliner Philharmoniker'       1921   \n",
       "1                                                  b'Dennis Day'       1921   \n",
       "2         b'KHP Kridhamardawa Karaton Ngayogyakarta Hadiningrat'       1921   \n",
       "3                                                b'Frank Parker'       1921   \n",
       "4                                                  b'Phil Regan'       1921   \n",
       "\n",
       "                                                                                                                                                                                                                                                                                                                                                                                                                                                                                                                                                                                                                             song_embeddings  \n",
       "0       [-1.3666918277740479, 1.3530807495117188, 1.202406644821167, -0.2246660739183426, 0.4187828600406647, -0.46274974942207336, -1.2627567052841187, -0.4888093173503876, -0.6343100666999817, 1.3277226686477661, 0.7242574691772461, 0.22040177881717682, 0.43592825531959534, -0.4605342745780945, -1.2532882690429688, 1.2703070294949106, -1.461259048884883, 4.752569009266444, -1.007676175100162, -0.3092011481361043, 2.262496351074803, 1.3649563314116429, 2.6110012104955738, -1.5078176079821606, 0.6453499264358126, -1.2499471942272533, -0.38364744367670833, -1.1655450558051375, -1.7786347004763523, -2.142666230649]  \n",
       "1           [-0.4902784526348114, 0.8817081451416016, 1.11865234375, 0.08565742522478104, 0.6903175711631775, 0.5949982404708862, -0.7584375143051147, -0.0548345223069191, -0.2068416178226471, 0.09101372212171555, 0.9204968214035034, 0.6219479441642761, 0.5529213547706604, -0.3401077389717102, -0.10770940780639648, 0.6055353575765545, 1.600008527700499, -0.3958314054754836, -0.5219481676317469, -0.3092011481361043, -0.5349944602375606, 0.5117210944216953, -0.26640400859153673, -0.1646257835500665, 0.6453499264358126, -1.2044048830284118, 1.872793548131166, -1.8164526201212032, 1.6541851866630062, -2.142666230649]  \n",
       "2     [-0.2844405770301819, 0.631794273853302, -0.17285339534282684, 0.5646762251853943, 0.9662110805511475, 0.2495516836643219, 0.417460560798645, -0.22620971500873566, -0.6103554964065552, 0.26909953355789185, 0.5071016550064087, -0.1065995916724205, 0.22436323761940002, 0.33269351720809937, -1.0331687927246094, 1.2144662090537686, -1.183477361379913, 2.1306274127125904, -1.1758127930699978, -0.3092011481361043, 2.374013638541697, -0.6259258882315683, -0.6025761034947833, -0.5873232499193564, 0.6453499264358126, -1.2044048830284118, -0.3997478418740689, -0.21005905433508043, -1.854615663007104, -2.142666230649]  \n",
       "3  [-0.7487789988517761, 1.3591301441192627, 1.1782379150390625, -0.2647874355316162, 0.49281495809555054, 0.7352277636528015, -1.1125710010528564, 0.05070333927869797, -0.19258345663547516, 0.5183664560317993, 1.150445580482483, 0.5057250261306763, 0.8323601484298706, -0.2318739891052246, 0.04909057915210724, 1.2304207291798093, -1.4839351050077376, -0.16284109162119192, -0.6415119848547415, -0.3092011481361043, -0.5349062022700511, -0.05710239690493648, 0.9928168892663868, 0.3837053008849818, 0.6453499264358126, -1.295489505426095, -0.39080317620886856, -0.5426988976237884, -1.3774552183139837, -2.142666230649]  \n",
       "4  [-0.3061518669128418, 0.8175497651100159, 0.9532014727592468, -0.05882035940885544, 1.183526635169983, 0.30472809076309204, -0.9971756935119629, 0.1633039265871048, -0.2687903046607971, 0.04581066593527794, 1.3318020105361938, 0.1084437295794487, 0.9008270502090454, -0.5091925263404846, -0.18293435871601105, 1.203829862303075, -0.6732660986156829, -0.5052618172494476, -1.0749308222880962, -0.3092011481361043, -0.5349891074077622, -0.6259258882315683, 0.12674640748175162, 0.24684186220999385, 0.6453499264358126, -1.3410318166249366, -0.3752990890558546, -0.4921038246856425, -1.0431389831786766, -2.142666230649]  "
      ]
     },
     "execution_count": 43,
     "metadata": {},
     "output_type": "execute_result"
    }
   ],
   "source": [
    "show_df(table.query())"
   ]
  },
  {
   "cell_type": "markdown",
   "id": "89aca5e4",
   "metadata": {},
   "source": [
    "## 4. Search For Similar Songs To A Target Song"
   ]
  },
  {
   "cell_type": "markdown",
   "id": "6d9a23b4",
   "metadata": {},
   "source": [
    "Now that the data has been inserted into the database, we can perform some queries on the data."
   ]
  },
  {
   "cell_type": "markdown",
   "id": "6465d403",
   "metadata": {},
   "source": [
    "### Find Songs By A Certain Artist"
   ]
  },
  {
   "cell_type": "markdown",
   "id": "3aa6798d",
   "metadata": {},
   "source": [
    "We can query the database to find songs by particular artists using KDB.AI's `.query()` function.\n",
    "\n",
    "Here, we want to return all songs in the dataset by the DJ `Calvin Harris`, sorted by the year they were produced. This returns 32 songs to us."
   ]
  },
  {
   "cell_type": "code",
   "execution_count": 44,
   "id": "d30ac168",
   "metadata": {
    "scrolled": true
   },
   "outputs": [
    {
     "data": {
      "text/html": [
       "<div>\n",
       "<style scoped>\n",
       "    .dataframe tbody tr th:only-of-type {\n",
       "        vertical-align: middle;\n",
       "    }\n",
       "\n",
       "    .dataframe tbody tr th {\n",
       "        vertical-align: top;\n",
       "    }\n",
       "\n",
       "    .dataframe thead th {\n",
       "        text-align: right;\n",
       "    }\n",
       "</style>\n",
       "<table border=\"1\" class=\"dataframe\">\n",
       "  <thead>\n",
       "    <tr style=\"text-align: right;\">\n",
       "      <th></th>\n",
       "      <th>song_name</th>\n",
       "      <th>song_artists</th>\n",
       "      <th>song_year</th>\n",
       "      <th>song_embeddings</th>\n",
       "    </tr>\n",
       "  </thead>\n",
       "  <tbody>\n",
       "    <tr>\n",
       "      <th>0</th>\n",
       "      <td>Flashback</td>\n",
       "      <td>b'Calvin Harris'</td>\n",
       "      <td>2009</td>\n",
       "      <td>[-0.6639690399169922, 1.2091901302337646, 0.6080996990203857, -0.12048277258872986, 0.9051563739776611, 0.2514127492904663, -0.6373221278190613, -0.29814955592155457, 0.22219587862491608, 0.4700770080089569, 0.8792182207107544, 0.5950366258621216, 0.8773530721664429, -0.03305034339427948, 0.20640605688095093, -1.3351724705550174, -1.5406252453148743, -0.011030115749796763, 1.7460279903169285, -0.3092011481361043, -0.5313940449564866, 1.0805445857483271, -0.7039975151774578, 1.0250333372402145, -1.549546934208044, 0.7539144985217788, -0.307319630000332, 0.36420802995835755, -1.2520866301382436, 1.247808968405853]</td>\n",
       "    </tr>\n",
       "    <tr>\n",
       "      <th>1</th>\n",
       "      <td>You Used To Hold Me</td>\n",
       "      <td>b'Calvin Harris'</td>\n",
       "      <td>2009</td>\n",
       "      <td>[-0.18039822578430176, 1.2320046424865723, 1.0078709125518799, -0.3332071900367737, 1.0227277278900146, 0.3912988007068634, -1.1201367378234863, 0.06693186610937119, 0.01194898784160614, 0.4125801920890808, 1.7104941606521606, 0.0907072052359581, 1.1263823509216309, 0.005882999859750271, -0.15810611844062805, -1.279491195315136, 0.46053670752705134, 0.004253770518922344, 1.8244917453695186, -0.3092011481361043, -0.5349904137531296, 1.6493680770749588, 0.6224578016611152, 0.958707209266951, -1.549546934208044, 0.5717452537264123, -0.35562082459241384, 0.3955535635781341, -1.2824790151505443, 1.247808968405853]</td>\n",
       "    </tr>\n",
       "    <tr>\n",
       "      <th>2</th>\n",
       "      <td>I'm Not Alone - Radio Edit</td>\n",
       "      <td>b'Calvin Harris'</td>\n",
       "      <td>2009</td>\n",
       "      <td>[-0.4578489363193512, 1.1988781690597534, 0.9186619520187378, -0.3090927302837372, 0.8355614542961121, 0.3251281678676605, -0.956695556640625, 0.2001478672027588, -0.004034769721329212, 0.5499118566513062, 1.427262544631958, 0.3321062922477722, 0.9700223803520203, -0.3015604019165039, -0.10042643547058105, -1.3273547556932577, 0.3074733286977821, -0.1491385696844665, 0.7932538218211915, -0.3092011481361043, -0.14309084999676247, 0.5117210944216953, 0.4914076629700189, 0.8665875870818629, 0.6453499264358126, 0.3895760089310457, -0.411077751716656, 0.46191895166730823, -0.36310936852844955, 1.247808968405853]</td>\n",
       "    </tr>\n",
       "    <tr>\n",
       "      <th>3</th>\n",
       "      <td>We Found Love</td>\n",
       "      <td>b'Rihanna, Calvin Harris'</td>\n",
       "      <td>2011</td>\n",
       "      <td>[-0.32985055446624756, 1.3834985494613647, 0.926184356212616, -0.28489983081817627, 0.8302570581436157, 0.22301919758319855, -1.0492554903030396, -0.0061478391289711, 0.029022544622421265, 0.4409855902194977, 1.2905532121658325, 0.4727650284767151, 1.1560120582580566, -0.15044355392456055, -0.18808501958847046, -1.2744389306085564, 1.1181423350898372, -0.12151213480453658, 1.0660087798611477, -0.3092011481361043, -0.5305974929031516, -1.1947493795582, -0.5626912786757541, 1.2313812909348116, 0.6453499264358126, 1.9835569008905032, -0.37351015592281456, 0.36375280436636925, 0.2751307167298641, 1.3248652229298272]</td>\n",
       "    </tr>\n",
       "    <tr>\n",
       "      <th>4</th>\n",
       "      <td>Dance Wiv Me - Radio Edit</td>\n",
       "      <td>b'Dizzee Rascal, Calvin Harris, Chrome'</td>\n",
       "      <td>2011</td>\n",
       "      <td>[-0.5854893922805786, 1.0818036794662476, 0.7288601994514465, -0.25424012541770935, 0.6128330826759338, 0.41814619302749634, -0.6447377800941467, 0.027640312910079956, -0.1611126810312271, 0.39173322916030884, 0.8761189579963684, 0.3748489320278168, 0.6108167767524719, 0.0187530517578125, -0.023305920884013176, -1.2143435714671371, 1.9344803555126058, -0.20954668716662583, 0.9912813940967762, -0.3092011481361043, -0.5349944602375606, 1.6493680770749588, -0.30059100129356187, 1.2671763441267319, 0.6453499264358126, 1.5281337889020867, -0.3329610049072396, -0.1561798539118754, 1.00454795702508, 1.3248652229298272]</td>\n",
       "    </tr>\n",
       "    <tr>\n",
       "      <th>5</th>\n",
       "      <td>Feel So Close - Radio Edit</td>\n",
       "      <td>b'Calvin Harris'</td>\n",
       "      <td>2012</td>\n",
       "      <td>[-0.5671982169151306, 1.21516752243042, 0.8834764957427979, -0.34776613116264343, 0.8313254117965698, 0.4305516481399536, -0.8739187717437744, 0.12808793783187866, -0.13710293173789978, 0.49484601616859436, 1.3459782600402832, 0.40094777941703796, 1.118976354598999, -0.10406777262687683, 0.11825662106275558, -1.3383314655399736, 0.9650789562605678, -0.19120286091549893, 1.6563551273996828, -0.3092011481361043, -0.5125954164977816, 0.5117210944216953, -0.015699395443352974, 1.5196718418873827, 0.6453499264358126, 2.2112684568847114, -0.4170408621601229, 0.36215951479440944, 1.4870270690953529, 1.363393350191814]</td>\n",
       "    </tr>\n",
       "    <tr>\n",
       "      <th>6</th>\n",
       "      <td>Sweet Nothing (feat. Florence Welch)</td>\n",
       "      <td>b'Calvin Harris, Florence Welch'</td>\n",
       "      <td>2012</td>\n",
       "      <td>[-0.5403595566749573, 1.3501120805740356, 0.8737241625785828, -0.30949994921684265, 0.5602115988731384, 0.044263433665037155, -0.8665704727172852, -0.07287808507680893, 0.004971159156411886, 0.4264087975025177, 1.185262680053711, 0.6865300536155701, 0.7812601327896118, -0.16709819436073303, -0.27374014258384705, -0.8170760203287275, 0.20543107614493594, -0.14259962817167257, 1.6750369738407758, -0.3092011481361043, -0.5346376049176665, 0.7961328400850112, -0.8549900662780685, 1.3266593001662457, -1.549546934208044, 1.8469299672939783, 0.048081752430295104, 0.36206196645326905, 0.20674785045218758, 1.363393350191814]</td>\n",
       "    </tr>\n",
       "    <tr>\n",
       "      <th>7</th>\n",
       "      <td>I Need Your Love (feat. Ellie Goulding)</td>\n",
       "      <td>b'Calvin Harris, Ellie Goulding'</td>\n",
       "      <td>2012</td>\n",
       "      <td>[-0.3471231460571289, 1.4163035154342651, 0.9777242541313171, -0.3454452455043793, 0.5281813144683838, 0.0064859092235565186, -0.8150930404663086, -0.003013826906681061, -0.05287719517946243, 0.6403617858886719, 1.3331170082092285, 0.4529487192630768, 0.9392791390419006, -0.1485135555267334, -0.12306036055088043, -0.2506905558542882, 0.8970507878920038, 0.030931386799656055, 1.4508548165476611, -0.3092011481361043, -0.5349944602375606, 0.7961328400850112, 0.17232906441778495, 1.1294355757166477, 0.6453499264358126, 1.8013876560951365, -0.31387905148814554, 0.2663020115671261, 0.1991497541991124, 1.363393350191814]</td>\n",
       "    </tr>\n",
       "    <tr>\n",
       "      <th>8</th>\n",
       "      <td>Let's Go (feat. Ne-Yo)</td>\n",
       "      <td>b'Calvin Harris, Ne-Yo'</td>\n",
       "      <td>2012</td>\n",
       "      <td>[-0.4517887234687805, 1.4095631837844849, 1.0143579244613647, -0.42695263028144836, 0.3167036771774292, 0.22329269349575043, -0.8331954479217529, 0.06706950813531876, -0.11937189847230911, 0.6374547481536865, 1.3507567644119263, 0.6769067049026489, 1.002878189086914, -0.12010153383016586, -0.21650470793247223, -1.3202549942371695, 0.9820859983527089, 0.01743444222608983, 1.4994276172945025, -0.3092011481361043, -0.5104287949127105, -0.34151414256825235, 0.4971054950870231, 1.5038799066556534, -1.549546934208044, 1.5736761001009283, -0.24709221452131636, 0.36472828777777266, 1.3198689515276991, 1.363393350191814]</td>\n",
       "    </tr>\n",
       "    <tr>\n",
       "      <th>9</th>\n",
       "      <td>Thinking About You (feat. Ayah Marar)</td>\n",
       "      <td>b'Calvin Harris, Ayah Marar'</td>\n",
       "      <td>2012</td>\n",
       "      <td>[-0.4033048748970032, 1.201682209968567, 0.7232522368431091, -0.21271994709968567, 0.4565010666847229, 0.08975932747125626, -0.7079424262046814, 0.05442984402179718, -0.04738606885075569, 0.5769458413124084, 1.0412596464157104, 0.4582187235355377, 0.8240703344345093, -0.08101780712604523, -0.14304494857788086, -1.3339492906786878, 1.067121208813414, 0.1370883744063931, 1.4695366629887539, -0.3092011481361043, -0.5336817424536646, -1.479161125221516, -0.6322048305032051, 1.3664900701396077, -1.549546934208044, 1.61921841129977, -0.36575811234630756, 0.3637202882526556, 0.8373898394574263, 1.363393350191814]</td>\n",
       "    </tr>\n",
       "    <tr>\n",
       "      <th>10</th>\n",
       "      <td>Spectrum (Say My Name) - Calvin Harris Remix</td>\n",
       "      <td>b'Florence + The Machine, Calvin Harris'</td>\n",
       "      <td>2012</td>\n",
       "      <td>[-0.5985769033432007, 1.3303905725479126, 1.0559614896774292, -0.25539952516555786, 0.8112835884094238, 0.17980347573757172, -0.812416672706604, -0.08991655707359314, 0.104682557284832, 0.2630487084388733, 1.328857660293579, 0.6589300632476807, 0.8192211389541626, -0.11460264772176743, -0.08975117653608322, -1.334933152753127, 0.23377614629850432, -0.09808422222604993, 1.7385552517404912, -0.3092011481361043, -0.5218672823986005, 1.6493680770749588, -0.6276465648096017, 1.3428021672920136, -1.549546934208044, 0.9360837433171454, -0.31447536253249225, 0.30216728499307355, 0.2295421392114131, 1.363393350191814]</td>\n",
       "    </tr>\n",
       "    <tr>\n",
       "      <th>11</th>\n",
       "      <td>Bounce (feat. Kelis) - Radio Edit</td>\n",
       "      <td>b'Calvin Harris, Kelis'</td>\n",
       "      <td>2012</td>\n",
       "      <td>[-0.6689270734786987, 1.3969231843948364, 0.8880228400230408, -0.326450377702713, 0.34622687101364136, 0.18351785838603973, -0.7323996424674988, -0.0037096429150551558, -0.1328837126493454, 0.6257920861244202, 1.0089510679244995, 0.6650357842445374, 0.8406809568405151, 0.010336706414818764, 0.018450651317834854, -1.2521026024320998, 1.3732479664719526, -0.06648065605115584, 1.802073529640207, -0.3092011481361043, 1.0358061889389716, -0.9103376338948841, 2.6053033783785695, 1.6454809259001602, -1.549546934208044, 1.4370491665044034, -0.36396917921326755, 0.3622895792492634, 0.8791793688493397, 1.363393350191814]</td>\n",
       "    </tr>\n",
       "    <tr>\n",
       "      <th>12</th>\n",
       "      <td>We'll Be Coming Back (feat. Example)</td>\n",
       "      <td>b'Calvin Harris, Example'</td>\n",
       "      <td>2012</td>\n",
       "      <td>[-0.29318350553512573, 1.2344664335250854, 0.91950523853302, -0.2705417275428772, 0.5557699203491211, 0.24373485147953033, -0.9255906343460083, 0.11558005213737488, -0.09228789061307907, 0.5509446263313293, 1.300772786140442, 0.46837666630744934, 1.019039273262024, -0.2337048500776291, -0.30271509289741516, -1.3374326942395398, 0.3358183988513505, 0.029769084015640684, 1.7609734674698028, -0.3092011481361043, -0.5349944602375606, 0.5117210944216953, 2.2292464586562937, 1.252612670524137, 0.6453499264358126, 1.5281337889020867, -0.08131774419293655, 0.36241964370411694, 0.16495832106027414, 1.363393350191814]</td>\n",
       "    </tr>\n",
       "    <tr>\n",
       "      <th>13</th>\n",
       "      <td>Drinking from the Bottle (feat. Tinie Tempah)</td>\n",
       "      <td>b'Calvin Harris, Tinie Tempah'</td>\n",
       "      <td>2012</td>\n",
       "      <td>[-0.49500662088394165, 1.250335454940796, 0.836037278175354, -0.21671639382839203, 0.4340763986110687, 0.14523451030254364, -0.6550229787826538, -0.0313369482755661, -0.14998087286949158, 0.44496625661849976, 0.9944913387298584, 0.5686814188957214, 0.6103565096855164, -0.23264175653457642, -0.1452845335006714, -1.2162049321485084, 0.7269803669705941, 0.07710722529387208, 1.5143730944473768, -0.3092011481361043, -0.5347956408450482, 1.0805445857483271, -0.878920961169486, 1.2857757345107685, -1.549546934208044, 1.4370491665044034, -0.2953934091133982, 0.3662240290085925, 0.009197347872233573, 1.363393350191814]</td>\n",
       "    </tr>\n",
       "    <tr>\n",
       "      <th>14</th>\n",
       "      <td>Summer</td>\n",
       "      <td>b'Calvin Harris'</td>\n",
       "      <td>2014</td>\n",
       "      <td>[-0.8264520764350891, 1.3505786657333374, 1.0463076829910278, -0.22568410634994507, 0.913348913192749, 0.2567248046398163, -0.8605219125747681, -0.35306626558303833, 0.03924936056137085, 0.37715211510658264, 1.1773360967636108, 0.5755943655967712, 1.1420295238494873, -0.08487856388092041, 0.3010081648826599, -1.284809368690483, 0.3358183988513505, -0.06374489575680674, 1.4022820158008196, -0.3092011481361043, -0.4782799540401117, -0.34151414256825235, -0.37466281881461627, 1.394389155715663, -1.549546934208044, 2.2112684568847114, -0.3955736645636421, 0.362549708158971, 0.8183945988247383, 1.440449604715788]</td>\n",
       "    </tr>\n",
       "    <tr>\n",
       "      <th>15</th>\n",
       "      <td>Outside (feat. Ellie Goulding)</td>\n",
       "      <td>b'Calvin Harris, Ellie Goulding'</td>\n",
       "      <td>2014</td>\n",
       "      <td>[-0.45815980434417725, 1.4566391706466675, 0.8504025340080261, -0.373926043510437, 0.44716230034828186, 0.05849791318178177, -0.6436365842819214, -0.1507851779460907, -0.06338223814964294, 0.6237001419067383, 1.1598680019378662, 0.6893650889396667, 0.8899211883544922, -0.07148391753435135, -0.03473608195781708, -0.7745306333259528, 0.6192691003870343, -0.02631400201851587, 1.2789818292896065, -0.3092011481361043, -0.5349944602375606, -0.9103376338948841, 0.6566447943631403, 1.2948999637557677, -1.549546934208044, 2.2112684568847114, -0.366950734435001, 0.36534609393832856, -0.41629604229997574, 1.440449604715788]</td>\n",
       "    </tr>\n",
       "    <tr>\n",
       "      <th>16</th>\n",
       "      <td>Blame (feat. John Newman)</td>\n",
       "      <td>b'Calvin Harris, John Newman'</td>\n",
       "      <td>2014</td>\n",
       "      <td>[-0.6763609647750854, 1.6109453439712524, 0.9073587656021118, -0.1523026078939438, 0.6198676228523254, 0.2695436179637909, -1.1315089464187622, -0.25966623425483704, 0.04239802807569504, 0.6183485388755798, 1.0361096858978271, 0.6836062073707581, 0.8744892477989197, -0.3744211196899414, 0.004306115675717592, -1.2646003098641647, -0.6959421547385375, -0.13943689950768517, 1.406018385089038, -0.3092011481361043, -0.51670562509299, -1.479161125221516, 0.7762992688202281, 1.3027959313716324, -1.549546934208044, 2.0290992120893447, -0.12007796207547143, 0.36498841668748067, -0.6822294111576065, 1.440449604715788]</td>\n",
       "    </tr>\n",
       "    <tr>\n",
       "      <th>17</th>\n",
       "      <td>Under Control (feat. Hurts)</td>\n",
       "      <td>b'Calvin Harris, Alesso, Hurts'</td>\n",
       "      <td>2014</td>\n",
       "      <td>[-0.5020278692245483, 1.4283548593521118, 0.8164223432540894, -0.28505995869636536, 0.4534760117530823, 0.2287231981754303, -0.774612307548523, 0.002535061212256551, 0.015209964476525784, 0.5660685896873474, 1.197741150856018, 0.6164646148681641, 0.8045300841331482, -0.029482128098607063, -0.11208241432905197, -0.9978939150905204, 0.04102966925423999, -0.36620454471558167, 1.6227278038057156, -0.3092011481361043, -0.532082265930568, 0.7961328400850112, -0.5228064538567248, 1.4208845137155646, 0.6453499264358126, 1.8924722784928198, -0.10039969761203067, 0.30223231722050037, -0.06678361465851812, 1.440449604715788]</td>\n",
       "    </tr>\n",
       "    <tr>\n",
       "      <th>18</th>\n",
       "      <td>Pray to God (feat. HAIM)</td>\n",
       "      <td>b'Calvin Harris, HAIM'</td>\n",
       "      <td>2014</td>\n",
       "      <td>[-0.4818477928638458, 1.3358467817306519, 0.7798342108726501, -0.2659180760383606, 0.4285810887813568, 0.08754778653383255, -0.7763833999633789, -0.006817118264734745, -0.03107377141714096, 0.46428442001342773, 1.156795620918274, 0.6081282496452332, 0.8255685567855835, -0.1547342836856842, -0.21263934671878815, -1.3010297974852907, 0.39250853915848727, 0.01290383341492788, 1.7497643596051469, -0.3092011481361043, -0.5349065208908724, 0.5117210944216953, -0.5569934465587499, 1.5359901749601697, -1.549546934208044, 1.4370491665044034, -0.3550245135480672, 0.10508711977578558, -0.3479131760222992, 1.440449604715788]</td>\n",
       "    </tr>\n",
       "    <tr>\n",
       "      <th>19</th>\n",
       "      <td>Open Wide (feat. Big Sean)</td>\n",
       "      <td>b'Calvin Harris, Big Sean'</td>\n",
       "      <td>2014</td>\n",
       "      <td>[-0.49002212285995483, 1.6617223024368286, 1.0235131978988647, -0.33206960558891296, 0.4414531886577606, 0.11732295900583267, -0.8655310869216919, -0.186820387840271, -0.027344567701220512, 0.6834815144538879, 1.3333178758621216, 0.829616129398346, 0.8085821866989136, -0.11922396719455719, 0.046914491802453995, -1.1553118470007873, 1.2655366998883928, -0.3403729583524646, 1.7273461438758355, 3.2341406428407566, -0.5349944602375606, -1.1947493795582, 1.8133047141149887, 1.5440616085230539, 0.6453499264358126, 1.254879921709037, -0.38543637680974835, 0.36342764322923443, 0.6018488556120964, 1.440449604715788]</td>\n",
       "    </tr>\n",
       "    <tr>\n",
       "      <th>20</th>\n",
       "      <td>How Deep Is Your Love</td>\n",
       "      <td>b'Calvin Harris, Disciples'</td>\n",
       "      <td>2015</td>\n",
       "      <td>[-0.41091299057006836, 1.258643388748169, 0.8983922004699707, -0.262657105922699, 0.8501120805740356, 0.3192669153213501, -0.9955586194992065, -0.04502531513571739, -0.04089539870619774, 0.2862780690193176, 1.3955638408660889, 0.2914259135723114, 0.8563987612724304, -0.27214497327804565, -0.13632315397262573, -1.2374776256498958, 1.140818391212692, -0.1419670824388751, 1.4471184472594425, -0.3092011481361043, -0.5295460441927495, 1.6493680770749588, 1.032701714085416, 1.251033477000964, -1.549546934208044, 2.0746415232881863, -0.16599391249016654, 0.16920889601873085, -0.7278179886760573, 1.478977731977775]</td>\n",
       "    </tr>\n",
       "    <tr>\n",
       "      <th>21</th>\n",
       "      <td>This Is What You Came For (feat. Rihanna)</td>\n",
       "      <td>b'Calvin Harris, Rihanna'</td>\n",
       "      <td>2016</td>\n",
       "      <td>[-0.3814137876033783, 1.4554016590118408, 1.0522133111953735, -0.3466358184814453, 0.49159470200538635, 0.13975763320922852, -1.058195948600769, 0.060457807034254074, -0.1191626563668251, 0.4785536825656891, 1.4339147806167603, 0.35597559809684753, 1.0968818664550781, -0.28769201040267944, -0.22834518551826477, -0.8117578469533806, 0.5285648758956155, -0.06669414023597499, 1.6713006045525571, -0.3092011481361043, -0.13990464178342266, 1.0805445857483271, -0.33477799399558694, 1.5293224689734395, -1.549546934208044, 2.16572614568587, -0.4045183302288425, 0.23294047889711456, -0.23774078035270924, 1.517505859239762]</td>\n",
       "    </tr>\n",
       "    <tr>\n",
       "      <th>22</th>\n",
       "      <td>The Weekend - Funk Wav Remix</td>\n",
       "      <td>b'SZA, Calvin Harris, Funk Wav'</td>\n",
       "      <td>2017</td>\n",
       "      <td>[-0.7186599373817444, 1.1158796548843384, 0.731167197227478, -0.19770754873752594, 0.5679613947868347, 0.3211177885532379, -0.6246710419654846, -0.09280967712402344, -0.07223807275295258, 0.3498360812664032, 0.9513226747512817, 0.6551465392112732, 0.7420637011528015, -0.03915492817759514, -0.06295780837535858, -0.024668187402047063, 1.3505719103490978, -0.46483423810202873, 0.3448895072349624, -0.3092011481361043, -0.5349944602375606, 1.6493680770749588, -0.46013030056967885, 1.1527725466702032, 0.6453499264358126, 2.0290992120893447, -0.2530553249647832, -0.48364963512014286, 0.5296669412078823, 1.556033986501749]</td>\n",
       "    </tr>\n",
       "    <tr>\n",
       "      <th>23</th>\n",
       "      <td>Slide (feat. Frank Ocean &amp; Migos)</td>\n",
       "      <td>b'Calvin Harris, Frank Ocean, Migos'</td>\n",
       "      <td>2017</td>\n",
       "      <td>[-0.8330506086349487, 1.4721840620040894, 0.9542821049690247, -0.4979126751422882, 0.4859296679496765, 0.20288336277008057, -0.7739049792289734, -0.3222369849681854, 0.03495460003614426, 0.4573882222175598, 1.1311147212982178, 0.6848472952842712, 1.0187188386917114, -0.017646288499236107, -0.1254880428314209, -0.016690927339026784, 1.1294803631512644, 0.0017235875877324247, 1.1743634892194865, 3.2341406428407566, -0.5349906049256224, -1.1947493795582, 0.2691922104068561, 1.4394839040996015, -1.549546934208044, 1.8924722784928198, -0.2769077667386508, -0.41403263565962234, -0.06298456653198053, 1.556033986501749]</td>\n",
       "    </tr>\n",
       "    <tr>\n",
       "      <th>24</th>\n",
       "      <td>Feels (feat. Pharrell Williams, Katy Perry &amp; Big Sean)</td>\n",
       "      <td>b'Calvin Harris, Pharrell Williams, Katy Perry, Big Sean, Funk Wav'</td>\n",
       "      <td>2017</td>\n",
       "      <td>[-0.4316557049751282, 1.6159189939498901, 1.0156694650650024, -0.3224739134311676, 0.3746965825557709, 0.37119245529174805, -0.8607751131057739, -0.24534280598163605, -0.11486667394638062, 0.7656596302986145, 1.0190465450286865, 0.7592442631721497, 0.878508985042572, -0.08537297695875168, 0.03988835588097572, -1.1702027324517583, 2.019515565973311, -0.05678689269603446, 0.9875450248085577, 3.2341406428407566, -0.5349944602375606, 1.6493680770749588, -0.6407515786787114, 1.473524297821329, -1.549546934208044, 1.9835569008905032, -0.26140367958563687, -0.513141750258252, 1.3084718071480863, 1.556033986501749]</td>\n",
       "    </tr>\n",
       "    <tr>\n",
       "      <th>25</th>\n",
       "      <td>Rollin (feat. Future &amp; Khalid)</td>\n",
       "      <td>b'Calvin Harris, Future, Khalid'</td>\n",
       "      <td>2017</td>\n",
       "      <td>[-0.45464855432510376, 1.5903383493423462, 0.9394875764846802, -0.3995354473590851, 0.38158369064331055, 0.07916951924562454, -0.6712697744369507, -0.25031328201293945, -0.08396566659212112, 0.6828315854072571, 1.174385666847229, 0.8878921270370483, 0.8390617370605469, -0.02976704202592373, -0.09085194766521454, -0.1443270883473511, 1.2315226157041106, 0.3326557013440539, 1.0510633027082734, 3.2341406428407566, -0.5347819401497308, 0.2273093487583794, 0.09825724689673071, 1.2312058249877926, -1.549546934208044, 1.5736761001009283, -0.09562920925725711, -0.8063070314988182, 0.5524612299671078, 1.556033986501749]</td>\n",
       "    </tr>\n",
       "    <tr>\n",
       "      <th>26</th>\n",
       "      <td>Slide (feat. Frank Ocean &amp; Migos)</td>\n",
       "      <td>b'Calvin Harris, Frank Ocean, Migos, Funk Wav'</td>\n",
       "      <td>2017</td>\n",
       "      <td>[-0.8306244015693665, 1.3914999961853027, 0.8867557644844055, -0.4634178578853607, 0.46206897497177124, 0.2473207265138626, -0.7462942004203796, -0.27696043252944946, 0.0020592056680470705, 0.4404282569885254, 1.0507673025131226, 0.6723338961601257, 0.9572036862373352, -0.017701195552945137, -0.15432587265968323, -0.016690927339026784, 1.1294803631512644, 0.0017235875877324247, 1.1743634892194865, 3.2341406428407566, -0.5349906049256224, -1.1947493795582, 0.2691922104068561, 1.4394839040996015, -1.549546934208044, 1.61921841129977, -0.2769077667386508, -0.41403263565962234, -0.06298456653198053, 1.556033986501749]</td>\n",
       "    </tr>\n",
       "    <tr>\n",
       "      <th>27</th>\n",
       "      <td>Faking It (feat. Kehlani &amp; Lil Yachty)</td>\n",
       "      <td>b'Calvin Harris, Kehlani, Lil Yachty, Funk Wav'</td>\n",
       "      <td>2017</td>\n",
       "      <td>[-0.3710099756717682, 1.4853330850601196, 0.8649624586105347, -0.42896997928619385, 0.30232155323028564, 0.11700998991727829, -0.5737792253494263, -0.23985503613948822, -0.13998503983020782, 0.7621097564697266, 1.1860604286193848, 0.8189935088157654, 0.8819252252578735, -0.015730898827314377, -0.18540021777153015, -0.4926674444325697, 1.3562409243798115, 0.07509889259224008, 0.40467141584645966, 3.2341406428407566, -0.5349944602375606, 1.0805445857483271, -0.7706621509464066, 1.2212042660076972, -1.549546934208044, 1.3915068553055618, 0.08386041509109653, 0.10518466811692596, 0.5334659893344199, 1.556033986501749]</td>\n",
       "    </tr>\n",
       "    <tr>\n",
       "      <th>28</th>\n",
       "      <td>Rollin (feat. Future &amp; Khalid)</td>\n",
       "      <td>b'Calvin Harris, Future, Khalid, Funk Wav'</td>\n",
       "      <td>2017</td>\n",
       "      <td>[-0.5150197744369507, 1.480997085571289, 0.8669241070747375, -0.37760406732559204, 0.3724628686904907, 0.14916333556175232, -0.6576970219612122, -0.2119932770729065, -0.10069605708122253, 0.6264132857322693, 1.0778988599777222, 0.8401476740837097, 0.8006543517112732, -0.027807924896478653, -0.12866665422916412, -0.15496343509804483, 1.225853601673397, 0.33254500584081437, 1.0435905641318364, 3.2341406428407566, -0.534894731920483, 0.2273093487583794, -0.14105170201744485, 1.2255909146831776, -1.549546934208044, 1.3915068553055618, -0.0896660988137902, -0.8079003210707776, 0.4916764599425064, 1.556033986501749]</td>\n",
       "    </tr>\n",
       "    <tr>\n",
       "      <th>29</th>\n",
       "      <td>One Kiss (with Dua Lipa)</td>\n",
       "      <td>b'Calvin Harris, Dua Lipa'</td>\n",
       "      <td>2018</td>\n",
       "      <td>[-0.3802143335342407, 1.540840983390808, 0.8170551657676697, -0.15833815932273865, 0.4922180473804474, 0.14575688540935516, -0.7095619440078735, 0.06333868205547333, 0.08945013582706451, 0.5746606588363647, 1.1774417161941528, 0.595933198928833, 0.7621734142303467, 0.0023274512495845556, -0.030562711879611015, -1.2425298903564754, 1.4412761348405165, -0.12451672703532461, 1.424700231530131, -0.3092011481361043, -0.5349246822776885, 1.0805445857483271, -0.7142536129880652, 1.449836394973735, -1.549546934208044, 2.3023530792823945, 0.054044862873762006, 0.23394847842223204, 0.24473833171756343, 1.5945621137637358]</td>\n",
       "    </tr>\n",
       "    <tr>\n",
       "      <th>30</th>\n",
       "      <td>Promises (with Sam Smith)</td>\n",
       "      <td>b'Calvin Harris, Sam Smith, Jessie Reyez'</td>\n",
       "      <td>2018</td>\n",
       "      <td>[-0.4551751911640167, 1.2134348154067993, 0.7615858316421509, -0.199832022190094, 0.5633880496025085, 0.6762082576751709, -1.0863019227981567, -0.2817540466785431, -0.037644486874341965, 0.6317135095596313, 1.1003193855285645, 0.8381323218345642, 0.7380902171134949, -0.047631580382585526, -0.15066808462142944, -1.3092729662170783, 1.3845859945333798, -0.13667741874835615, 1.073481518437585, -0.3092011481361043, -0.5349788159552331, 1.6493680770749588, 0.6737382907141528, 0.9671295747238734, 0.6453499264358126, 2.256810768083553, -0.366950734435001, 0.2039035893509937, -0.15796076969542017, 1.5945621137637358]</td>\n",
       "    </tr>\n",
       "    <tr>\n",
       "      <th>31</th>\n",
       "      <td>Giant (with Rag'n'Bone Man)</td>\n",
       "      <td>b'Calvin Harris\\', \"Rag\\'n\\'Bone Man\"'</td>\n",
       "      <td>2019</td>\n",
       "      <td>[-0.3992515802383423, 1.2729873657226562, 0.7182956337928772, -0.26333242654800415, 0.3592974543571472, 0.4867834448814392, -0.6996715664863586, 0.08461927622556686, -0.16724444925785065, 0.6392613649368286, 0.9774713516235352, 0.48773056268692017, 0.5017319321632385, -0.6514177918434143, -0.211467906832695, -1.2983707107976172, 1.5319803593319354, -0.011156624896356259, 1.5181094637355954, -0.3092011481361043, -0.5333917975062507, -1.1947493795582, -0.7159629626231665, 1.2619123657161553, -1.549546934208044, 2.16572614568587, -0.38662899889844177, 0.16959908938329238, 0.2979250054890896, 1.6330902410257229]</td>\n",
       "    </tr>\n",
       "    <tr>\n",
       "      <th>32</th>\n",
       "      <td>Over Now (with The Weeknd)</td>\n",
       "      <td>b'Calvin Harris, The Weeknd'</td>\n",
       "      <td>2020</td>\n",
       "      <td>[-0.5559015274047852, 1.355072021484375, 1.1667373180389404, -0.22373133897781372, 0.5634499788284302, 0.28147223591804504, -0.9545113444328308, -0.043781451880931854, 0.010776842944324017, 0.37074705958366394, 1.331946611404419, 0.7073851227760315, 0.8230187296867371, -0.3093962073326111, -0.0394388772547245, -1.1390914182059793, 0.4265226233427693, -0.15655516840151695, 1.5069003558709397, 3.2341406428407566, -0.530788665395952, -0.34151414256825235, 0.2293073855878268, 1.29665462322596, -1.549546934208044, 2.256810768083553, -0.33117207177419955, 1.9914119085210957, 0.5752555187263333, 1.67161836828771]</td>\n",
       "    </tr>\n",
       "  </tbody>\n",
       "</table>\n",
       "</div>"
      ],
      "text/plain": [
       "                                                 song_name  \\\n",
       "0                                                Flashback   \n",
       "1                                      You Used To Hold Me   \n",
       "2                               I'm Not Alone - Radio Edit   \n",
       "3                                            We Found Love   \n",
       "4                                Dance Wiv Me - Radio Edit   \n",
       "5                               Feel So Close - Radio Edit   \n",
       "6                     Sweet Nothing (feat. Florence Welch)   \n",
       "7                  I Need Your Love (feat. Ellie Goulding)   \n",
       "8                                   Let's Go (feat. Ne-Yo)   \n",
       "9                    Thinking About You (feat. Ayah Marar)   \n",
       "10            Spectrum (Say My Name) - Calvin Harris Remix   \n",
       "11                       Bounce (feat. Kelis) - Radio Edit   \n",
       "12                    We'll Be Coming Back (feat. Example)   \n",
       "13           Drinking from the Bottle (feat. Tinie Tempah)   \n",
       "14                                                  Summer   \n",
       "15                          Outside (feat. Ellie Goulding)   \n",
       "16                               Blame (feat. John Newman)   \n",
       "17                             Under Control (feat. Hurts)   \n",
       "18                                Pray to God (feat. HAIM)   \n",
       "19                              Open Wide (feat. Big Sean)   \n",
       "20                                   How Deep Is Your Love   \n",
       "21               This Is What You Came For (feat. Rihanna)   \n",
       "22                            The Weekend - Funk Wav Remix   \n",
       "23                       Slide (feat. Frank Ocean & Migos)   \n",
       "24  Feels (feat. Pharrell Williams, Katy Perry & Big Sean)   \n",
       "25                          Rollin (feat. Future & Khalid)   \n",
       "26                       Slide (feat. Frank Ocean & Migos)   \n",
       "27                  Faking It (feat. Kehlani & Lil Yachty)   \n",
       "28                          Rollin (feat. Future & Khalid)   \n",
       "29                                One Kiss (with Dua Lipa)   \n",
       "30                               Promises (with Sam Smith)   \n",
       "31                             Giant (with Rag'n'Bone Man)   \n",
       "32                              Over Now (with The Weeknd)   \n",
       "\n",
       "                                                           song_artists  \\\n",
       "0                                                      b'Calvin Harris'   \n",
       "1                                                      b'Calvin Harris'   \n",
       "2                                                      b'Calvin Harris'   \n",
       "3                                             b'Rihanna, Calvin Harris'   \n",
       "4                               b'Dizzee Rascal, Calvin Harris, Chrome'   \n",
       "5                                                      b'Calvin Harris'   \n",
       "6                                      b'Calvin Harris, Florence Welch'   \n",
       "7                                      b'Calvin Harris, Ellie Goulding'   \n",
       "8                                               b'Calvin Harris, Ne-Yo'   \n",
       "9                                          b'Calvin Harris, Ayah Marar'   \n",
       "10                             b'Florence + The Machine, Calvin Harris'   \n",
       "11                                              b'Calvin Harris, Kelis'   \n",
       "12                                            b'Calvin Harris, Example'   \n",
       "13                                       b'Calvin Harris, Tinie Tempah'   \n",
       "14                                                     b'Calvin Harris'   \n",
       "15                                     b'Calvin Harris, Ellie Goulding'   \n",
       "16                                        b'Calvin Harris, John Newman'   \n",
       "17                                      b'Calvin Harris, Alesso, Hurts'   \n",
       "18                                               b'Calvin Harris, HAIM'   \n",
       "19                                           b'Calvin Harris, Big Sean'   \n",
       "20                                          b'Calvin Harris, Disciples'   \n",
       "21                                            b'Calvin Harris, Rihanna'   \n",
       "22                                      b'SZA, Calvin Harris, Funk Wav'   \n",
       "23                                 b'Calvin Harris, Frank Ocean, Migos'   \n",
       "24  b'Calvin Harris, Pharrell Williams, Katy Perry, Big Sean, Funk Wav'   \n",
       "25                                     b'Calvin Harris, Future, Khalid'   \n",
       "26                       b'Calvin Harris, Frank Ocean, Migos, Funk Wav'   \n",
       "27                      b'Calvin Harris, Kehlani, Lil Yachty, Funk Wav'   \n",
       "28                           b'Calvin Harris, Future, Khalid, Funk Wav'   \n",
       "29                                           b'Calvin Harris, Dua Lipa'   \n",
       "30                            b'Calvin Harris, Sam Smith, Jessie Reyez'   \n",
       "31                               b'Calvin Harris\\', \"Rag\\'n\\'Bone Man\"'   \n",
       "32                                         b'Calvin Harris, The Weeknd'   \n",
       "\n",
       "    song_year  \\\n",
       "0        2009   \n",
       "1        2009   \n",
       "2        2009   \n",
       "3        2011   \n",
       "4        2011   \n",
       "5        2012   \n",
       "6        2012   \n",
       "7        2012   \n",
       "8        2012   \n",
       "9        2012   \n",
       "10       2012   \n",
       "11       2012   \n",
       "12       2012   \n",
       "13       2012   \n",
       "14       2014   \n",
       "15       2014   \n",
       "16       2014   \n",
       "17       2014   \n",
       "18       2014   \n",
       "19       2014   \n",
       "20       2015   \n",
       "21       2016   \n",
       "22       2017   \n",
       "23       2017   \n",
       "24       2017   \n",
       "25       2017   \n",
       "26       2017   \n",
       "27       2017   \n",
       "28       2017   \n",
       "29       2018   \n",
       "30       2018   \n",
       "31       2019   \n",
       "32       2020   \n",
       "\n",
       "                                                                                                                                                                                                                                                                                                                                                                                                                                                                                                                                                                                                                                    song_embeddings  \n",
       "0       [-0.6639690399169922, 1.2091901302337646, 0.6080996990203857, -0.12048277258872986, 0.9051563739776611, 0.2514127492904663, -0.6373221278190613, -0.29814955592155457, 0.22219587862491608, 0.4700770080089569, 0.8792182207107544, 0.5950366258621216, 0.8773530721664429, -0.03305034339427948, 0.20640605688095093, -1.3351724705550174, -1.5406252453148743, -0.011030115749796763, 1.7460279903169285, -0.3092011481361043, -0.5313940449564866, 1.0805445857483271, -0.7039975151774578, 1.0250333372402145, -1.549546934208044, 0.7539144985217788, -0.307319630000332, 0.36420802995835755, -1.2520866301382436, 1.247808968405853]  \n",
       "1          [-0.18039822578430176, 1.2320046424865723, 1.0078709125518799, -0.3332071900367737, 1.0227277278900146, 0.3912988007068634, -1.1201367378234863, 0.06693186610937119, 0.01194898784160614, 0.4125801920890808, 1.7104941606521606, 0.0907072052359581, 1.1263823509216309, 0.005882999859750271, -0.15810611844062805, -1.279491195315136, 0.46053670752705134, 0.004253770518922344, 1.8244917453695186, -0.3092011481361043, -0.5349904137531296, 1.6493680770749588, 0.6224578016611152, 0.958707209266951, -1.549546934208044, 0.5717452537264123, -0.35562082459241384, 0.3955535635781341, -1.2824790151505443, 1.247808968405853]  \n",
       "2            [-0.4578489363193512, 1.1988781690597534, 0.9186619520187378, -0.3090927302837372, 0.8355614542961121, 0.3251281678676605, -0.956695556640625, 0.2001478672027588, -0.004034769721329212, 0.5499118566513062, 1.427262544631958, 0.3321062922477722, 0.9700223803520203, -0.3015604019165039, -0.10042643547058105, -1.3273547556932577, 0.3074733286977821, -0.1491385696844665, 0.7932538218211915, -0.3092011481361043, -0.14309084999676247, 0.5117210944216953, 0.4914076629700189, 0.8665875870818629, 0.6453499264358126, 0.3895760089310457, -0.411077751716656, 0.46191895166730823, -0.36310936852844955, 1.247808968405853]  \n",
       "3       [-0.32985055446624756, 1.3834985494613647, 0.926184356212616, -0.28489983081817627, 0.8302570581436157, 0.22301919758319855, -1.0492554903030396, -0.0061478391289711, 0.029022544622421265, 0.4409855902194977, 1.2905532121658325, 0.4727650284767151, 1.1560120582580566, -0.15044355392456055, -0.18808501958847046, -1.2744389306085564, 1.1181423350898372, -0.12151213480453658, 1.0660087798611477, -0.3092011481361043, -0.5305974929031516, -1.1947493795582, -0.5626912786757541, 1.2313812909348116, 0.6453499264358126, 1.9835569008905032, -0.37351015592281456, 0.36375280436636925, 0.2751307167298641, 1.3248652229298272]  \n",
       "4       [-0.5854893922805786, 1.0818036794662476, 0.7288601994514465, -0.25424012541770935, 0.6128330826759338, 0.41814619302749634, -0.6447377800941467, 0.027640312910079956, -0.1611126810312271, 0.39173322916030884, 0.8761189579963684, 0.3748489320278168, 0.6108167767524719, 0.0187530517578125, -0.023305920884013176, -1.2143435714671371, 1.9344803555126058, -0.20954668716662583, 0.9912813940967762, -0.3092011481361043, -0.5349944602375606, 1.6493680770749588, -0.30059100129356187, 1.2671763441267319, 0.6453499264358126, 1.5281337889020867, -0.3329610049072396, -0.1561798539118754, 1.00454795702508, 1.3248652229298272]  \n",
       "5        [-0.5671982169151306, 1.21516752243042, 0.8834764957427979, -0.34776613116264343, 0.8313254117965698, 0.4305516481399536, -0.8739187717437744, 0.12808793783187866, -0.13710293173789978, 0.49484601616859436, 1.3459782600402832, 0.40094777941703796, 1.118976354598999, -0.10406777262687683, 0.11825662106275558, -1.3383314655399736, 0.9650789562605678, -0.19120286091549893, 1.6563551273996828, -0.3092011481361043, -0.5125954164977816, 0.5117210944216953, -0.015699395443352974, 1.5196718418873827, 0.6453499264358126, 2.2112684568847114, -0.4170408621601229, 0.36215951479440944, 1.4870270690953529, 1.363393350191814]  \n",
       "6   [-0.5403595566749573, 1.3501120805740356, 0.8737241625785828, -0.30949994921684265, 0.5602115988731384, 0.044263433665037155, -0.8665704727172852, -0.07287808507680893, 0.004971159156411886, 0.4264087975025177, 1.185262680053711, 0.6865300536155701, 0.7812601327896118, -0.16709819436073303, -0.27374014258384705, -0.8170760203287275, 0.20543107614493594, -0.14259962817167257, 1.6750369738407758, -0.3092011481361043, -0.5346376049176665, 0.7961328400850112, -0.8549900662780685, 1.3266593001662457, -1.549546934208044, 1.8469299672939783, 0.048081752430295104, 0.36206196645326905, 0.20674785045218758, 1.363393350191814]  \n",
       "7     [-0.3471231460571289, 1.4163035154342651, 0.9777242541313171, -0.3454452455043793, 0.5281813144683838, 0.0064859092235565186, -0.8150930404663086, -0.003013826906681061, -0.05287719517946243, 0.6403617858886719, 1.3331170082092285, 0.4529487192630768, 0.9392791390419006, -0.1485135555267334, -0.12306036055088043, -0.2506905558542882, 0.8970507878920038, 0.030931386799656055, 1.4508548165476611, -0.3092011481361043, -0.5349944602375606, 0.7961328400850112, 0.17232906441778495, 1.1294355757166477, 0.6453499264358126, 1.8013876560951365, -0.31387905148814554, 0.2663020115671261, 0.1991497541991124, 1.363393350191814]  \n",
       "8       [-0.4517887234687805, 1.4095631837844849, 1.0143579244613647, -0.42695263028144836, 0.3167036771774292, 0.22329269349575043, -0.8331954479217529, 0.06706950813531876, -0.11937189847230911, 0.6374547481536865, 1.3507567644119263, 0.6769067049026489, 1.002878189086914, -0.12010153383016586, -0.21650470793247223, -1.3202549942371695, 0.9820859983527089, 0.01743444222608983, 1.4994276172945025, -0.3092011481361043, -0.5104287949127105, -0.34151414256825235, 0.4971054950870231, 1.5038799066556534, -1.549546934208044, 1.5736761001009283, -0.24709221452131636, 0.36472828777777266, 1.3198689515276991, 1.363393350191814]  \n",
       "9             [-0.4033048748970032, 1.201682209968567, 0.7232522368431091, -0.21271994709968567, 0.4565010666847229, 0.08975932747125626, -0.7079424262046814, 0.05442984402179718, -0.04738606885075569, 0.5769458413124084, 1.0412596464157104, 0.4582187235355377, 0.8240703344345093, -0.08101780712604523, -0.14304494857788086, -1.3339492906786878, 1.067121208813414, 0.1370883744063931, 1.4695366629887539, -0.3092011481361043, -0.5336817424536646, -1.479161125221516, -0.6322048305032051, 1.3664900701396077, -1.549546934208044, 1.61921841129977, -0.36575811234630756, 0.3637202882526556, 0.8373898394574263, 1.363393350191814]  \n",
       "10         [-0.5985769033432007, 1.3303905725479126, 1.0559614896774292, -0.25539952516555786, 0.8112835884094238, 0.17980347573757172, -0.812416672706604, -0.08991655707359314, 0.104682557284832, 0.2630487084388733, 1.328857660293579, 0.6589300632476807, 0.8192211389541626, -0.11460264772176743, -0.08975117653608322, -1.334933152753127, 0.23377614629850432, -0.09808422222604993, 1.7385552517404912, -0.3092011481361043, -0.5218672823986005, 1.6493680770749588, -0.6276465648096017, 1.3428021672920136, -1.549546934208044, 0.9360837433171454, -0.31447536253249225, 0.30216728499307355, 0.2295421392114131, 1.363393350191814]  \n",
       "11       [-0.6689270734786987, 1.3969231843948364, 0.8880228400230408, -0.326450377702713, 0.34622687101364136, 0.18351785838603973, -0.7323996424674988, -0.0037096429150551558, -0.1328837126493454, 0.6257920861244202, 1.0089510679244995, 0.6650357842445374, 0.8406809568405151, 0.010336706414818764, 0.018450651317834854, -1.2521026024320998, 1.3732479664719526, -0.06648065605115584, 1.802073529640207, -0.3092011481361043, 1.0358061889389716, -0.9103376338948841, 2.6053033783785695, 1.6454809259001602, -1.549546934208044, 1.4370491665044034, -0.36396917921326755, 0.3622895792492634, 0.8791793688493397, 1.363393350191814]  \n",
       "12          [-0.29318350553512573, 1.2344664335250854, 0.91950523853302, -0.2705417275428772, 0.5557699203491211, 0.24373485147953033, -0.9255906343460083, 0.11558005213737488, -0.09228789061307907, 0.5509446263313293, 1.300772786140442, 0.46837666630744934, 1.019039273262024, -0.2337048500776291, -0.30271509289741516, -1.3374326942395398, 0.3358183988513505, 0.029769084015640684, 1.7609734674698028, -0.3092011481361043, -0.5349944602375606, 0.5117210944216953, 2.2292464586562937, 1.252612670524137, 0.6453499264358126, 1.5281337889020867, -0.08131774419293655, 0.36241964370411694, 0.16495832106027414, 1.363393350191814]  \n",
       "13        [-0.49500662088394165, 1.250335454940796, 0.836037278175354, -0.21671639382839203, 0.4340763986110687, 0.14523451030254364, -0.6550229787826538, -0.0313369482755661, -0.14998087286949158, 0.44496625661849976, 0.9944913387298584, 0.5686814188957214, 0.6103565096855164, -0.23264175653457642, -0.1452845335006714, -1.2162049321485084, 0.7269803669705941, 0.07710722529387208, 1.5143730944473768, -0.3092011481361043, -0.5347956408450482, 1.0805445857483271, -0.878920961169486, 1.2857757345107685, -1.549546934208044, 1.4370491665044034, -0.2953934091133982, 0.3662240290085925, 0.009197347872233573, 1.363393350191814]  \n",
       "14          [-0.8264520764350891, 1.3505786657333374, 1.0463076829910278, -0.22568410634994507, 0.913348913192749, 0.2567248046398163, -0.8605219125747681, -0.35306626558303833, 0.03924936056137085, 0.37715211510658264, 1.1773360967636108, 0.5755943655967712, 1.1420295238494873, -0.08487856388092041, 0.3010081648826599, -1.284809368690483, 0.3358183988513505, -0.06374489575680674, 1.4022820158008196, -0.3092011481361043, -0.4782799540401117, -0.34151414256825235, -0.37466281881461627, 1.394389155715663, -1.549546934208044, 2.2112684568847114, -0.3955736645636421, 0.362549708158971, 0.8183945988247383, 1.440449604715788]  \n",
       "15     [-0.45815980434417725, 1.4566391706466675, 0.8504025340080261, -0.373926043510437, 0.44716230034828186, 0.05849791318178177, -0.6436365842819214, -0.1507851779460907, -0.06338223814964294, 0.6237001419067383, 1.1598680019378662, 0.6893650889396667, 0.8899211883544922, -0.07148391753435135, -0.03473608195781708, -0.7745306333259528, 0.6192691003870343, -0.02631400201851587, 1.2789818292896065, -0.3092011481361043, -0.5349944602375606, -0.9103376338948841, 0.6566447943631403, 1.2948999637557677, -1.549546934208044, 2.2112684568847114, -0.366950734435001, 0.36534609393832856, -0.41629604229997574, 1.440449604715788]  \n",
       "16          [-0.6763609647750854, 1.6109453439712524, 0.9073587656021118, -0.1523026078939438, 0.6198676228523254, 0.2695436179637909, -1.1315089464187622, -0.25966623425483704, 0.04239802807569504, 0.6183485388755798, 1.0361096858978271, 0.6836062073707581, 0.8744892477989197, -0.3744211196899414, 0.004306115675717592, -1.2646003098641647, -0.6959421547385375, -0.13943689950768517, 1.406018385089038, -0.3092011481361043, -0.51670562509299, -1.479161125221516, 0.7762992688202281, 1.3027959313716324, -1.549546934208044, 2.0290992120893447, -0.12007796207547143, 0.36498841668748067, -0.6822294111576065, 1.440449604715788]  \n",
       "17    [-0.5020278692245483, 1.4283548593521118, 0.8164223432540894, -0.28505995869636536, 0.4534760117530823, 0.2287231981754303, -0.774612307548523, 0.002535061212256551, 0.015209964476525784, 0.5660685896873474, 1.197741150856018, 0.6164646148681641, 0.8045300841331482, -0.029482128098607063, -0.11208241432905197, -0.9978939150905204, 0.04102966925423999, -0.36620454471558167, 1.6227278038057156, -0.3092011481361043, -0.532082265930568, 0.7961328400850112, -0.5228064538567248, 1.4208845137155646, 0.6453499264358126, 1.8924722784928198, -0.10039969761203067, 0.30223231722050037, -0.06678361465851812, 1.440449604715788]  \n",
       "18     [-0.4818477928638458, 1.3358467817306519, 0.7798342108726501, -0.2659180760383606, 0.4285810887813568, 0.08754778653383255, -0.7763833999633789, -0.006817118264734745, -0.03107377141714096, 0.46428442001342773, 1.156795620918274, 0.6081282496452332, 0.8255685567855835, -0.1547342836856842, -0.21263934671878815, -1.3010297974852907, 0.39250853915848727, 0.01290383341492788, 1.7497643596051469, -0.3092011481361043, -0.5349065208908724, 0.5117210944216953, -0.5569934465587499, 1.5359901749601697, -1.549546934208044, 1.4370491665044034, -0.3550245135480672, 0.10508711977578558, -0.3479131760222992, 1.440449604715788]  \n",
       "19           [-0.49002212285995483, 1.6617223024368286, 1.0235131978988647, -0.33206960558891296, 0.4414531886577606, 0.11732295900583267, -0.8655310869216919, -0.186820387840271, -0.027344567701220512, 0.6834815144538879, 1.3333178758621216, 0.829616129398346, 0.8085821866989136, -0.11922396719455719, 0.046914491802453995, -1.1553118470007873, 1.2655366998883928, -0.3403729583524646, 1.7273461438758355, 3.2341406428407566, -0.5349944602375606, -1.1947493795582, 1.8133047141149887, 1.5440616085230539, 0.6453499264358126, 1.254879921709037, -0.38543637680974835, 0.36342764322923443, 0.6018488556120964, 1.440449604715788]  \n",
       "20           [-0.41091299057006836, 1.258643388748169, 0.8983922004699707, -0.262657105922699, 0.8501120805740356, 0.3192669153213501, -0.9955586194992065, -0.04502531513571739, -0.04089539870619774, 0.2862780690193176, 1.3955638408660889, 0.2914259135723114, 0.8563987612724304, -0.27214497327804565, -0.13632315397262573, -1.2374776256498958, 1.140818391212692, -0.1419670824388751, 1.4471184472594425, -0.3092011481361043, -0.5295460441927495, 1.6493680770749588, 1.032701714085416, 1.251033477000964, -1.549546934208044, 2.0746415232881863, -0.16599391249016654, 0.16920889601873085, -0.7278179886760573, 1.478977731977775]  \n",
       "21    [-0.3814137876033783, 1.4554016590118408, 1.0522133111953735, -0.3466358184814453, 0.49159470200538635, 0.13975763320922852, -1.058195948600769, 0.060457807034254074, -0.1191626563668251, 0.4785536825656891, 1.4339147806167603, 0.35597559809684753, 1.0968818664550781, -0.28769201040267944, -0.22834518551826477, -0.8117578469533806, 0.5285648758956155, -0.06669414023597499, 1.6713006045525571, -0.3092011481361043, -0.13990464178342266, 1.0805445857483271, -0.33477799399558694, 1.5293224689734395, -1.549546934208044, 2.16572614568587, -0.4045183302288425, 0.23294047889711456, -0.23774078035270924, 1.517505859239762]  \n",
       "22   [-0.7186599373817444, 1.1158796548843384, 0.731167197227478, -0.19770754873752594, 0.5679613947868347, 0.3211177885532379, -0.6246710419654846, -0.09280967712402344, -0.07223807275295258, 0.3498360812664032, 0.9513226747512817, 0.6551465392112732, 0.7420637011528015, -0.03915492817759514, -0.06295780837535858, -0.024668187402047063, 1.3505719103490978, -0.46483423810202873, 0.3448895072349624, -0.3092011481361043, -0.5349944602375606, 1.6493680770749588, -0.46013030056967885, 1.1527725466702032, 0.6453499264358126, 2.0290992120893447, -0.2530553249647832, -0.48364963512014286, 0.5296669412078823, 1.556033986501749]  \n",
       "23      [-0.8330506086349487, 1.4721840620040894, 0.9542821049690247, -0.4979126751422882, 0.4859296679496765, 0.20288336277008057, -0.7739049792289734, -0.3222369849681854, 0.03495460003614426, 0.4573882222175598, 1.1311147212982178, 0.6848472952842712, 1.0187188386917114, -0.017646288499236107, -0.1254880428314209, -0.016690927339026784, 1.1294803631512644, 0.0017235875877324247, 1.1743634892194865, 3.2341406428407566, -0.5349906049256224, -1.1947493795582, 0.2691922104068561, 1.4394839040996015, -1.549546934208044, 1.8924722784928198, -0.2769077667386508, -0.41403263565962234, -0.06298456653198053, 1.556033986501749]  \n",
       "24           [-0.4316557049751282, 1.6159189939498901, 1.0156694650650024, -0.3224739134311676, 0.3746965825557709, 0.37119245529174805, -0.8607751131057739, -0.24534280598163605, -0.11486667394638062, 0.7656596302986145, 1.0190465450286865, 0.7592442631721497, 0.878508985042572, -0.08537297695875168, 0.03988835588097572, -1.1702027324517583, 2.019515565973311, -0.05678689269603446, 0.9875450248085577, 3.2341406428407566, -0.5349944602375606, 1.6493680770749588, -0.6407515786787114, 1.473524297821329, -1.549546934208044, 1.9835569008905032, -0.26140367958563687, -0.513141750258252, 1.3084718071480863, 1.556033986501749]  \n",
       "25       [-0.45464855432510376, 1.5903383493423462, 0.9394875764846802, -0.3995354473590851, 0.38158369064331055, 0.07916951924562454, -0.6712697744369507, -0.25031328201293945, -0.08396566659212112, 0.6828315854072571, 1.174385666847229, 0.8878921270370483, 0.8390617370605469, -0.02976704202592373, -0.09085194766521454, -0.1443270883473511, 1.2315226157041106, 0.3326557013440539, 1.0510633027082734, 3.2341406428407566, -0.5347819401497308, 0.2273093487583794, 0.09825724689673071, 1.2312058249877926, -1.549546934208044, 1.5736761001009283, -0.09562920925725711, -0.8063070314988182, 0.5524612299671078, 1.556033986501749]  \n",
       "26    [-0.8306244015693665, 1.3914999961853027, 0.8867557644844055, -0.4634178578853607, 0.46206897497177124, 0.2473207265138626, -0.7462942004203796, -0.27696043252944946, 0.0020592056680470705, 0.4404282569885254, 1.0507673025131226, 0.6723338961601257, 0.9572036862373352, -0.017701195552945137, -0.15432587265968323, -0.016690927339026784, 1.1294803631512644, 0.0017235875877324247, 1.1743634892194865, 3.2341406428407566, -0.5349906049256224, -1.1947493795582, 0.2691922104068561, 1.4394839040996015, -1.549546934208044, 1.61921841129977, -0.2769077667386508, -0.41403263565962234, -0.06298456653198053, 1.556033986501749]  \n",
       "27    [-0.3710099756717682, 1.4853330850601196, 0.8649624586105347, -0.42896997928619385, 0.30232155323028564, 0.11700998991727829, -0.5737792253494263, -0.23985503613948822, -0.13998503983020782, 0.7621097564697266, 1.1860604286193848, 0.8189935088157654, 0.8819252252578735, -0.015730898827314377, -0.18540021777153015, -0.4926674444325697, 1.3562409243798115, 0.07509889259224008, 0.40467141584645966, 3.2341406428407566, -0.5349944602375606, 1.0805445857483271, -0.7706621509464066, 1.2212042660076972, -1.549546934208044, 1.3915068553055618, 0.08386041509109653, 0.10518466811692596, 0.5334659893344199, 1.556033986501749]  \n",
       "28        [-0.5150197744369507, 1.480997085571289, 0.8669241070747375, -0.37760406732559204, 0.3724628686904907, 0.14916333556175232, -0.6576970219612122, -0.2119932770729065, -0.10069605708122253, 0.6264132857322693, 1.0778988599777222, 0.8401476740837097, 0.8006543517112732, -0.027807924896478653, -0.12866665422916412, -0.15496343509804483, 1.225853601673397, 0.33254500584081437, 1.0435905641318364, 3.2341406428407566, -0.534894731920483, 0.2273093487583794, -0.14105170201744485, 1.2255909146831776, -1.549546934208044, 1.3915068553055618, -0.0896660988137902, -0.8079003210707776, 0.4916764599425064, 1.556033986501749]  \n",
       "29      [-0.3802143335342407, 1.540840983390808, 0.8170551657676697, -0.15833815932273865, 0.4922180473804474, 0.14575688540935516, -0.7095619440078735, 0.06333868205547333, 0.08945013582706451, 0.5746606588363647, 1.1774417161941528, 0.595933198928833, 0.7621734142303467, 0.0023274512495845556, -0.030562711879611015, -1.2425298903564754, 1.4412761348405165, -0.12451672703532461, 1.424700231530131, -0.3092011481361043, -0.5349246822776885, 1.0805445857483271, -0.7142536129880652, 1.449836394973735, -1.549546934208044, 2.3023530792823945, 0.054044862873762006, 0.23394847842223204, 0.24473833171756343, 1.5945621137637358]  \n",
       "30         [-0.4551751911640167, 1.2134348154067993, 0.7615858316421509, -0.199832022190094, 0.5633880496025085, 0.6762082576751709, -1.0863019227981567, -0.2817540466785431, -0.037644486874341965, 0.6317135095596313, 1.1003193855285645, 0.8381323218345642, 0.7380902171134949, -0.047631580382585526, -0.15066808462142944, -1.3092729662170783, 1.3845859945333798, -0.13667741874835615, 1.073481518437585, -0.3092011481361043, -0.5349788159552331, 1.6493680770749588, 0.6737382907141528, 0.9671295747238734, 0.6453499264358126, 2.256810768083553, -0.366950734435001, 0.2039035893509937, -0.15796076969542017, 1.5945621137637358]  \n",
       "31          [-0.3992515802383423, 1.2729873657226562, 0.7182956337928772, -0.26333242654800415, 0.3592974543571472, 0.4867834448814392, -0.6996715664863586, 0.08461927622556686, -0.16724444925785065, 0.6392613649368286, 0.9774713516235352, 0.48773056268692017, 0.5017319321632385, -0.6514177918434143, -0.211467906832695, -1.2983707107976172, 1.5319803593319354, -0.011156624896356259, 1.5181094637355954, -0.3092011481361043, -0.5333917975062507, -1.1947493795582, -0.7159629626231665, 1.2619123657161553, -1.549546934208044, 2.16572614568587, -0.38662899889844177, 0.16959908938329238, 0.2979250054890896, 1.6330902410257229]  \n",
       "32            [-0.5559015274047852, 1.355072021484375, 1.1667373180389404, -0.22373133897781372, 0.5634499788284302, 0.28147223591804504, -0.9545113444328308, -0.043781451880931854, 0.010776842944324017, 0.37074705958366394, 1.331946611404419, 0.7073851227760315, 0.8230187296867371, -0.3093962073326111, -0.0394388772547245, -1.1390914182059793, 0.4265226233427693, -0.15655516840151695, 1.5069003558709397, 3.2341406428407566, -0.530788665395952, -0.34151414256825235, 0.2293073855878268, 1.29665462322596, -1.549546934208044, 2.256810768083553, -0.33117207177419955, 1.9914119085210957, 0.5752555187263333, 1.67161836828771]  "
      ]
     },
     "execution_count": 44,
     "metadata": {},
     "output_type": "execute_result"
    }
   ],
   "source": [
    "table.query(filter=[(\"like\", \"song_artists\", \"*Calvin Harris*\")], sort_columns=[\"song_year\"])"
   ]
  },
  {
   "cell_type": "markdown",
   "id": "ea4f8da1",
   "metadata": {},
   "source": [
    "### Find A Specific Song"
   ]
  },
  {
   "cell_type": "markdown",
   "id": "1a8df467",
   "metadata": {},
   "source": [
    "We can filter this query further by looking for the song `We Found Love` by `Calvin Harris` in our dataset.\n",
    "\n",
    "This will only return one song as he only produced one song with this name."
   ]
  },
  {
   "cell_type": "code",
   "execution_count": 45,
   "id": "4e70a62b",
   "metadata": {},
   "outputs": [
    {
     "data": {
      "text/html": [
       "<div>\n",
       "<style scoped>\n",
       "    .dataframe tbody tr th:only-of-type {\n",
       "        vertical-align: middle;\n",
       "    }\n",
       "\n",
       "    .dataframe tbody tr th {\n",
       "        vertical-align: top;\n",
       "    }\n",
       "\n",
       "    .dataframe thead th {\n",
       "        text-align: right;\n",
       "    }\n",
       "</style>\n",
       "<table border=\"1\" class=\"dataframe\">\n",
       "  <thead>\n",
       "    <tr style=\"text-align: right;\">\n",
       "      <th></th>\n",
       "      <th>song_name</th>\n",
       "      <th>song_artists</th>\n",
       "      <th>song_year</th>\n",
       "      <th>song_embeddings</th>\n",
       "    </tr>\n",
       "  </thead>\n",
       "  <tbody>\n",
       "    <tr>\n",
       "      <th>0</th>\n",
       "      <td>We Found Love</td>\n",
       "      <td>b'Rihanna, Calvin Harris'</td>\n",
       "      <td>2011</td>\n",
       "      <td>[-0.32985055446624756, 1.3834985494613647, 0.926184356212616, -0.28489983081817627, 0.8302570581436157, 0.22301919758319855, -1.0492554903030396, -0.0061478391289711, 0.029022544622421265, 0.4409855902194977, 1.2905532121658325, 0.4727650284767151, 1.1560120582580566, -0.15044355392456055, -0.18808501958847046, -1.2744389306085564, 1.1181423350898372, -0.12151213480453658, 1.0660087798611477, -0.3092011481361043, -0.5305974929031516, -1.1947493795582, -0.5626912786757541, 1.2313812909348116, 0.6453499264358126, 1.9835569008905032, -0.37351015592281456, 0.36375280436636925, 0.2751307167298641, 1.3248652229298272]</td>\n",
       "    </tr>\n",
       "  </tbody>\n",
       "</table>\n",
       "</div>"
      ],
      "text/plain": [
       "       song_name               song_artists  song_year  \\\n",
       "0  We Found Love  b'Rihanna, Calvin Harris'       2011   \n",
       "\n",
       "                                                                                                                                                                                                                                                                                                                                                                                                                                                                                                                                                                                                                               song_embeddings  \n",
       "0  [-0.32985055446624756, 1.3834985494613647, 0.926184356212616, -0.28489983081817627, 0.8302570581436157, 0.22301919758319855, -1.0492554903030396, -0.0061478391289711, 0.029022544622421265, 0.4409855902194977, 1.2905532121658325, 0.4727650284767151, 1.1560120582580566, -0.15044355392456055, -0.18808501958847046, -1.2744389306085564, 1.1181423350898372, -0.12151213480453658, 1.0660087798611477, -0.3092011481361043, -0.5305974929031516, -1.1947493795582, -0.5626912786757541, 1.2313812909348116, 0.6453499264358126, 1.9835569008905032, -0.37351015592281456, 0.36375280436636925, 0.2751307167298641, 1.3248652229298272]  "
      ]
     },
     "execution_count": 45,
     "metadata": {},
     "output_type": "execute_result"
    }
   ],
   "source": [
    "table.query(\n",
    "    filter=[\n",
    "        (\"like\", \"song_artists\", \"*Calvin Harris*\"),\n",
    "        (\"like\", \"song_name\", \"*We Found Love*\"),\n",
    "    ]\n",
    ")"
   ]
  },
  {
   "cell_type": "markdown",
   "id": "f70fbb78",
   "metadata": {},
   "source": [
    "### Find Similar Songs To This Song"
   ]
  },
  {
   "cell_type": "markdown",
   "id": "d079845c",
   "metadata": {},
   "source": [
    "We can then copy and paste the vector associated with this song below and save it as the variable `my_vec`.\n",
    "\n",
    "We will then use KDB.AI's `.search()` function to find similar songs in the dataset to this song using this vector.\n",
    "We will pull out the 5 songs most similar to this song from the dataset.\n",
    "\n",
    "<div class=\"alert alert-block alert-warning\">\n",
    "    <b>Note: </b>\n",
    "    The most similar song will be \"We Found Love\" by \"Calvin Harris\" as this is the vector we are using for the search.\n",
    "</div>"
   ]
  },
  {
   "cell_type": "code",
   "execution_count": 46,
   "id": "7782270e",
   "metadata": {},
   "outputs": [],
   "source": [
    "my_vec = [[-0.22046250104904175, 1.4409897327423096, 1.0603516101837158, -0.15190696716308594, 0.7062567472457886, 0.4542839527130127, -1.1391438245773315, 0.2879817485809326, 0.00519922748208046, 0.17919489741325378, 1.0258654356002808, 0.5709000825881958, 1.2584115266799927, -0.15058273077011108, 0.18762657046318054, -1.2744389306085728, 1.1181423350898205, -0.12151213480453628, 1.0660087798611322, -0.30920114813582733, -0.5305974929034635, -1.1947493795585982, -0.562691278675705, 1.2313812909347996, 0.6453499264345925, 1.9835569008902227, -0.3735101559228201, 0.36375280436636764, 0.2751307167298588, 1.324865222929866]]\n",
    "vector = {'flat_index' : my_vec}"
   ]
  },
  {
   "cell_type": "code",
   "execution_count": 47,
   "id": "fbcc1335",
   "metadata": {},
   "outputs": [
    {
     "data": {
      "text/html": [
       "<div>\n",
       "<style scoped>\n",
       "    .dataframe tbody tr th:only-of-type {\n",
       "        vertical-align: middle;\n",
       "    }\n",
       "\n",
       "    .dataframe tbody tr th {\n",
       "        vertical-align: top;\n",
       "    }\n",
       "\n",
       "    .dataframe thead th {\n",
       "        text-align: right;\n",
       "    }\n",
       "</style>\n",
       "<table border=\"1\" class=\"dataframe\">\n",
       "  <thead>\n",
       "    <tr style=\"text-align: right;\">\n",
       "      <th></th>\n",
       "      <th>__nn_distance</th>\n",
       "      <th>song_name</th>\n",
       "      <th>song_artists</th>\n",
       "      <th>song_year</th>\n",
       "      <th>song_embeddings</th>\n",
       "    </tr>\n",
       "  </thead>\n",
       "  <tbody>\n",
       "    <tr>\n",
       "      <th>0</th>\n",
       "      <td>0.514847</td>\n",
       "      <td>We Found Love</td>\n",
       "      <td>b'Rihanna, Calvin Harris'</td>\n",
       "      <td>2011</td>\n",
       "      <td>[-0.32985055446624756, 1.3834985494613647, 0.926184356212616, -0.28489983081817627, 0.8302570581436157, 0.22301919758319855, -1.0492554903030396, -0.0061478391289711, 0.029022544622421265, 0.4409855902194977, 1.2905532121658325, 0.4727650284767151, 1.1560120582580566, -0.15044355392456055, -0.18808501958847046, -1.2744389306085564, 1.1181423350898372, -0.12151213480453658, 1.0660087798611477, -0.3092011481361043, -0.5305974929031516, -1.1947493795582, -0.5626912786757541, 1.2313812909348116, 0.6453499264358126, 1.9835569008905032, -0.37351015592281456, 0.36375280436636925, 0.2751307167298641, 1.3248652229298272]</td>\n",
       "    </tr>\n",
       "    <tr>\n",
       "      <th>1</th>\n",
       "      <td>1.471889</td>\n",
       "      <td>Bad At Love</td>\n",
       "      <td>b'Halsey'</td>\n",
       "      <td>2017</td>\n",
       "      <td>[-0.33408525586128235, 1.2016308307647705, 1.164484977722168, 0.007420691661536694, 0.6395940780639648, 0.3916250765323639, -1.0832836627960205, 0.2853870987892151, 0.03573070093989372, 0.391010582447052, 1.6295465230941772, 0.3820643723011017, 0.6865345239639282, -0.18368127942085266, -0.13861115276813507, -1.1803072618649173, 0.7836705072777309, -0.3899329165171471, 1.0099632405378691, -0.3092011481361043, -0.5349944602375606, -1.479161125221516, -0.6692407392637322, 1.3973720768149898, 0.6453499264358126, 1.9380145896916616, -0.4253892167809766, 0.051533080489714826, 0.32071929424831513, 1.556033986501749]</td>\n",
       "    </tr>\n",
       "    <tr>\n",
       "      <th>2</th>\n",
       "      <td>1.572724</td>\n",
       "      <td>Sweet but Psycho</td>\n",
       "      <td>b'Ava Max'</td>\n",
       "      <td>2020</td>\n",
       "      <td>[-0.34748899936676025, 1.084930658340454, 0.8265242576599121, -0.12685643136501312, 0.7913858294487, 0.2851320207118988, -1.0733402967453003, 0.2622759938240051, -0.07236860692501068, 0.6118565201759338, 0.9629176259040833, 0.5539129376411438, 0.650129497051239, -0.33480215072631836, -0.23625598847866058, -1.15903456836353, 1.0387761386598457, -0.3412506155567211, 0.841826622568033, -0.3092011481361043, -0.5349944602375606, -1.1947493795582, -0.23221701588951166, 1.1903222593323153, 0.6453499264358126, 2.393437701680078, -0.31984216193161247, 0.5268536307530907, 0.3511116792606158, 1.67161836828771]</td>\n",
       "    </tr>\n",
       "    <tr>\n",
       "      <th>3</th>\n",
       "      <td>1.677343</td>\n",
       "      <td>Stay Gold</td>\n",
       "      <td>b'BTS'</td>\n",
       "      <td>2020</td>\n",
       "      <td>[-0.39910316467285156, 0.949821412563324, 0.8702532052993774, -0.15616460144519806, 0.7773756980895996, 0.3858698010444641, -0.999448299407959, 0.16055533289909363, -0.40568050742149353, 0.41508427262306213, 1.3218148946762085, 0.34586480259895325, 0.6678043603897095, -0.3104383945465088, 0.05108780786395073, -1.1037255652599227, 1.0557831807519866, 0.1001951445409801, 0.5728080338162957, -0.3092011481361043, -0.5349944602375606, -1.1947493795582, -0.7296377597039766, 1.0681979602069414, 0.6453499264358126, 2.2112684568847114, -0.2786966998716909, 0.39727691760494743, 0.20674785045218758, 1.67161836828771]</td>\n",
       "    </tr>\n",
       "    <tr>\n",
       "      <th>4</th>\n",
       "      <td>1.864022</td>\n",
       "      <td>Baby</td>\n",
       "      <td>b'Madison Beer'</td>\n",
       "      <td>2020</td>\n",
       "      <td>[-0.264282763004303, 1.3024324178695679, 0.9755517840385437, -0.4190329313278198, 0.732369065284729, 0.6265831589698792, -1.0190303325653076, 0.062001943588256836, -0.19904416799545288, 0.2775894105434418, 1.141913652420044, 0.5574018955230713, 0.4761144518852234, 0.11363387852907181, -0.10809878259897232, -1.1284550714552857, 0.9537409281991405, -0.18075794950268054, 0.8455629918562516, -0.3092011481361043, -0.5349944602375606, -1.479161125221516, -0.3290801618785828, 1.1104852534385723, 0.6453499264358126, 2.16572614568587, -0.2834671882264644, 0.038201473867195856, -0.28712840599769784, 1.67161836828771]</td>\n",
       "    </tr>\n",
       "  </tbody>\n",
       "</table>\n",
       "</div>"
      ],
      "text/plain": [
       "   __nn_distance         song_name               song_artists  song_year  \\\n",
       "0       0.514847     We Found Love  b'Rihanna, Calvin Harris'       2011   \n",
       "1       1.471889       Bad At Love                  b'Halsey'       2017   \n",
       "2       1.572724  Sweet but Psycho                 b'Ava Max'       2020   \n",
       "3       1.677343         Stay Gold                     b'BTS'       2020   \n",
       "4       1.864022              Baby            b'Madison Beer'       2020   \n",
       "\n",
       "                                                                                                                                                                                                                                                                                                                                                                                                                                                                                                                                                                                                                               song_embeddings  \n",
       "0  [-0.32985055446624756, 1.3834985494613647, 0.926184356212616, -0.28489983081817627, 0.8302570581436157, 0.22301919758319855, -1.0492554903030396, -0.0061478391289711, 0.029022544622421265, 0.4409855902194977, 1.2905532121658325, 0.4727650284767151, 1.1560120582580566, -0.15044355392456055, -0.18808501958847046, -1.2744389306085564, 1.1181423350898372, -0.12151213480453658, 1.0660087798611477, -0.3092011481361043, -0.5305974929031516, -1.1947493795582, -0.5626912786757541, 1.2313812909348116, 0.6453499264358126, 1.9835569008905032, -0.37351015592281456, 0.36375280436636925, 0.2751307167298641, 1.3248652229298272]  \n",
       "1     [-0.33408525586128235, 1.2016308307647705, 1.164484977722168, 0.007420691661536694, 0.6395940780639648, 0.3916250765323639, -1.0832836627960205, 0.2853870987892151, 0.03573070093989372, 0.391010582447052, 1.6295465230941772, 0.3820643723011017, 0.6865345239639282, -0.18368127942085266, -0.13861115276813507, -1.1803072618649173, 0.7836705072777309, -0.3899329165171471, 1.0099632405378691, -0.3092011481361043, -0.5349944602375606, -1.479161125221516, -0.6692407392637322, 1.3973720768149898, 0.6453499264358126, 1.9380145896916616, -0.4253892167809766, 0.051533080489714826, 0.32071929424831513, 1.556033986501749]  \n",
       "2               [-0.34748899936676025, 1.084930658340454, 0.8265242576599121, -0.12685643136501312, 0.7913858294487, 0.2851320207118988, -1.0733402967453003, 0.2622759938240051, -0.07236860692501068, 0.6118565201759338, 0.9629176259040833, 0.5539129376411438, 0.650129497051239, -0.33480215072631836, -0.23625598847866058, -1.15903456836353, 1.0387761386598457, -0.3412506155567211, 0.841826622568033, -0.3092011481361043, -0.5349944602375606, -1.1947493795582, -0.23221701588951166, 1.1903222593323153, 0.6453499264358126, 2.393437701680078, -0.31984216193161247, 0.5268536307530907, 0.3511116792606158, 1.67161836828771]  \n",
       "3        [-0.39910316467285156, 0.949821412563324, 0.8702532052993774, -0.15616460144519806, 0.7773756980895996, 0.3858698010444641, -0.999448299407959, 0.16055533289909363, -0.40568050742149353, 0.41508427262306213, 1.3218148946762085, 0.34586480259895325, 0.6678043603897095, -0.3104383945465088, 0.05108780786395073, -1.1037255652599227, 1.0557831807519866, 0.1001951445409801, 0.5728080338162957, -0.3092011481361043, -0.5349944602375606, -1.1947493795582, -0.7296377597039766, 1.0681979602069414, 0.6453499264358126, 2.2112684568847114, -0.2786966998716909, 0.39727691760494743, 0.20674785045218758, 1.67161836828771]  \n",
       "4       [-0.264282763004303, 1.3024324178695679, 0.9755517840385437, -0.4190329313278198, 0.732369065284729, 0.6265831589698792, -1.0190303325653076, 0.062001943588256836, -0.19904416799545288, 0.2775894105434418, 1.141913652420044, 0.5574018955230713, 0.4761144518852234, 0.11363387852907181, -0.10809878259897232, -1.1284550714552857, 0.9537409281991405, -0.18075794950268054, 0.8455629918562516, -0.3092011481361043, -0.5349944602375606, -1.479161125221516, -0.3290801618785828, 1.1104852534385723, 0.6453499264358126, 2.16572614568587, -0.2834671882264644, 0.038201473867195856, -0.28712840599769784, 1.67161836828771]  "
      ]
     },
     "execution_count": 47,
     "metadata": {},
     "output_type": "execute_result"
    }
   ],
   "source": [
    "table.search(vectors=vector, n=5)[0]"
   ]
  },
  {
   "cell_type": "markdown",
   "id": "8826521d",
   "metadata": {},
   "source": [
    "### Automate This Song Similarity Search Process"
   ]
  },
  {
   "cell_type": "markdown",
   "id": "63d21923",
   "metadata": {},
   "source": [
    "We can define a function to automate this process and find songs which are the most similar to any input song.\n",
    "This will allow us to use the KDB.AI vector database in a more production-like setting to perform similarity search and music recommendation."
   ]
  },
  {
   "cell_type": "code",
   "execution_count": 48,
   "id": "36709ce9",
   "metadata": {},
   "outputs": [],
   "source": [
    "def find_similar_songs(\n",
    "    vectorDB_song_tab,\n",
    "    song_name: str,\n",
    "    song_artists: list[str] = None,\n",
    "    song_year: int = None,\n",
    "    n_similar: int = 5,\n",
    "    exact: bool = False,\n",
    ") -> None:\n",
    "    # create filter list\n",
    "    filter_list = [(\"like\", \"song_name\", f\"{song_name}\" if exact else f\"*{song_name}*\")]\n",
    "    if song_artists:\n",
    "        if type(song_artists) == str:\n",
    "            song_artists = list(song_artists)\n",
    "        for artist in song_artists:\n",
    "            filter_list.append((\"like\", \"song_artists\", f\"*{artist}*\"))\n",
    "    if song_year:\n",
    "        filter_list.append((\"like\", \"song_year\", f\"{song_year}\"))\n",
    "\n",
    "    # find songs liks this in vector DB\n",
    "    resulting_song = vectorDB_song_tab.query(filter=filter_list, sort_columns=[\"song_year\"])\n",
    "\n",
    "    # quality check\n",
    "    if resulting_song.empty:\n",
    "        print(\n",
    "            \"Song Not Found! Please double check the values entered or try another song\"\n",
    "        )\n",
    "        return\n",
    "\n",
    "    # find vectors associated with these songs\n",
    "    resulting_vectors = {'flat_index': [v.tolist() for v in resulting_song[\"song_embeddings\"]]}\n",
    "\n",
    "    # search for similar songs to selected songs\n",
    "    similar_songs = vectorDB_song_tab.search(vectors=resulting_vectors, n=n_similar + 1)\n",
    "\n",
    "    # process similar song table\n",
    "    for i, similar_df in enumerate(similar_songs):\n",
    "        name = resulting_song.loc[i, \"song_name\"]\n",
    "        artists = resulting_song.loc[i, \"song_artists\"]\n",
    "        year = resulting_song.loc[i, \"song_year\"]\n",
    "        print(f\"Songs Similar To '{name}' By '{artists}' ({year})\")\n",
    "        for j, song in similar_df[1:].iterrows():\n",
    "            print(\n",
    "                f\"   {j}. {song['song_name']} - {song['song_artists']} ({song['song_year']})\"\n",
    "            )\n",
    "        print()"
   ]
  },
  {
   "cell_type": "markdown",
   "id": "cb3a16f9",
   "metadata": {},
   "source": [
    "##### Songs by multiple artists\n",
    "\n",
    "Here, we will query this function to search the KDB.AI vector database to look for the song `Let's Go` by two artists - `Calvin Harris` and `Ne-Yo`. "
   ]
  },
  {
   "cell_type": "code",
   "execution_count": 49,
   "id": "9562fdb9",
   "metadata": {},
   "outputs": [
    {
     "name": "stdout",
     "output_type": "stream",
     "text": [
      "Songs Similar To 'Let's Go (feat. Ne-Yo)' By 'b'Calvin Harris, Ne-Yo'' (2012)\n",
      "   1. I Cry - b'Flo Rida' (2012)\n",
      "   2. Mmm Yeah (feat. Pitbull) - b'Austin Mahone, Pitbull' (2014)\n",
      "   3. Too Much (feat. Usher) - b'Marshmello, Imanbek, Usher' (2020)\n",
      "   4. All Around The World - b'Justin Bieber, Ludacris' (2012)\n",
      "   5. No Money - b'Galantis' (2016)\n",
      "\n"
     ]
    }
   ],
   "source": [
    "find_similar_songs(table, song_name=\"Let's Go\", song_artists=[\"Calvin Harris\", \"Ne-Yo\"])"
   ]
  },
  {
   "cell_type": "markdown",
   "id": "69cbc15c",
   "metadata": {},
   "source": [
    "If you search for these songs on [YouTube](https://www.youtube.com/), you will see that the results returned have quite a similar vibe to the song we searched for showing the similarity search power of KDB.AI.\n",
    "\n",
    "##### Specify different number of similar songs\n",
    "\n",
    "We can adjust the number of results returned to us by specifying the `n_similar` parameter.\n",
    "Here, we will search for the `8` most similar songs to the song `Californiacation` by `Red Hot Chili Peppers`."
   ]
  },
  {
   "cell_type": "code",
   "execution_count": 50,
   "id": "056f42b8",
   "metadata": {},
   "outputs": [
    {
     "name": "stdout",
     "output_type": "stream",
     "text": [
      "Songs Similar To 'Californication' By 'b'Red Hot Chili Peppers'' (1999)\n",
      "   1. Police Station - b'Red Hot Chili Peppers' (2011)\n",
      "   2. Charlie - b'Red Hot Chili Peppers' (2006)\n",
      "   3. Dark Necessities - b'Red Hot Chili Peppers' (2016)\n",
      "   4. Especially in Michigan - b'Red Hot Chili Peppers' (2006)\n",
      "   5. Don't Forget Me - b'Red Hot Chili Peppers' (2002)\n",
      "   6. Cabron - b'Red Hot Chili Peppers' (2002)\n",
      "   7. Midnight City - b'M83' (2011)\n",
      "   8. Face Down - b'The Red Jumpsuit Apparatus' (2006)\n",
      "\n"
     ]
    }
   ],
   "source": [
    "find_similar_songs(\n",
    "    table,\n",
    "    song_name=\"Californication\",\n",
    "    song_artists=\"Red Hot Chili Peppers\",\n",
    "    n_similar=8,\n",
    ")"
   ]
  },
  {
   "cell_type": "markdown",
   "id": "9edd10a7",
   "metadata": {},
   "source": [
    "When we return these similar songs, you will notice that a lot of the similar songs are by the same artist as the original song we searched for - `Red Hot Chili Peppers`.\n",
    "This makes sense as their music usually has pretty unique features. \n",
    "\n",
    "#### All songs with a given name by any artist\n",
    "\n",
    "The final thing we will perform a similarity search on all songs stored in the KDB.AI vector database with a given song name - `Love Me`."
   ]
  },
  {
   "cell_type": "code",
   "execution_count": 51,
   "id": "b5474afc",
   "metadata": {},
   "outputs": [
    {
     "name": "stdout",
     "output_type": "stream",
     "text": [
      "Songs Similar To 'Love Me' By 'b'Elvis Presley'' (1956)\n",
      "   1. Without Him - b'Elvis Presley' (1967)\n",
      "   2. Don't - b'Elvis Presley' (1959)\n",
      "   3. Harbor Lights - b'Elvis Presley' (1959)\n",
      "   4. His Hand in Mine - b'Elvis Presley' (1960)\n",
      "   5. Fine And Mellow - b'Billie Holiday' (1957)\n",
      "\n",
      "Songs Similar To 'Love Me' By 'b'Buddy Holly'' (1958)\n",
      "   1. Midnight Shift - b'Buddy Holly' (1958)\n",
      "   2. A Love That's Worth Having - b'Willie Hutch' (1969)\n",
      "   3. Lonely Weekends - b'Wanda Jackson' (1961)\n",
      "   4. Johnny be good - Radio Version - b'Jonny Bombastic' (1955)\n",
      "   5. Rock & Roll Guitar - b'Johnny Knight' (1959)\n",
      "\n",
      "Songs Similar To 'Love Me' By 'b'Sarah Vaughan'' (1958)\n",
      "   1. Summer Is Gone - b'Carmen McRae' (1956)\n",
      "   2. Make the World Go Away - b'Ray Price' (1956)\n",
      "   3. Last Night When We Were Young - b'Carmen McRae' (1955)\n",
      "   4. I'm Just A Lucky So And So - b'Ella Fitzgerald' (1957)\n",
      "   5. I'll Come Back For More - b'Dinah Washington' (1961)\n",
      "\n",
      "Songs Similar To 'Love Me' By 'b'Bo Diddley'' (1960)\n",
      "   1. Keepin' Out Of Mischief Now - b'Barbra Streisand' (1963)\n",
      "   2. It's a Bird, It's a Plane, It's Superman: You've Got Possibilities - b'Charles Strouse, Linda Lavin, Harold Hastings' (1966)\n",
      "   3. Time To Go - b'Lesley Gore' (1963)\n",
      "   4. Come Back Silly Girl - b'The Lettermen' (1962)\n",
      "   5. Baby, What You Want Me To Do - b'Jimmy Reed' (1960)\n",
      "\n",
      "Songs Similar To 'Love Me' By 'b'Bee Gees'' (1976)\n",
      "   1. Keep It Alive - b'Lee Ritenour' (1982)\n",
      "   2. Something's Gotten Hold Of My Heart - b'Gene Pitney' (1975)\n",
      "   3. It Tears Me Up - b'Percy Sledge' (1966)\n",
      "   4. Don't You Ever Get Tired (Of Hurting Me) - b'Ronnie Milsap' (1989)\n",
      "   5. Where There Is Love - b'Patrice Rushen' (1982)\n",
      "\n",
      "Songs Similar To 'Love Me' By 'b'The Cramps'' (1983)\n",
      "   1. Football Fight - Remastered 2011 - b'Queen' (1980)\n",
      "   2. Let's Get This Party Started - b'Korn' (1999)\n",
      "   3. Coming Home - Live - b'Scorpions' (1985)\n",
      "   4. Rock On The Moon - Remastered - b'The Cramps' (1980)\n",
      "   5. World's On Heroin - b'All' (1998)\n",
      "\n",
      "Songs Similar To 'Love Me' By 'b'Tesla'' (1986)\n",
      "   1. Walks Like a Woman - b'Baton Rouge' (1990)\n",
      "   2. She Sheila - b'The Producers' (1982)\n",
      "   3. Play with Me - b'Jeff Beck' (1976)\n",
      "   4. Kindergarten - b'Faith No More' (1992)\n",
      "   5. Away - b'Toadies' (1994)\n",
      "\n",
      "Songs Similar To 'Love Me' By 'b'Love and Rockets'' (1986)\n",
      "   1. No One Like You - Live - b'Scorpions' (1985)\n",
      "   2. Loving You Sunday Morning - b'Scorpions' (1979)\n",
      "   3. Promises - b'Fugazi' (1989)\n",
      "   4. Strap Me In - b'The Cars' (1987)\n",
      "   5. Season In Hell (Fire Suite) - b'John Cafferty & the Beaver Brown Band' (1983)\n",
      "\n",
      "Songs Similar To 'Love Me' By 'b'Yiruma'' (2001)\n",
      "   1. Think Of Me - b'Stan Whitmire' (1996)\n",
      "   2. I Feel My Savior's Love - b'Paul Cardall' (2000)\n",
      "   3. O, I Love You - b'Essie Jain' (2011)\n",
      "   4. Just the Way You Are - b'The Piano Guys' (2013)\n",
      "   5. Baby Mine - b'Fred Mollin' (2000)\n",
      "\n",
      "Songs Similar To 'Love Me' By 'b'Obie Trice, 50 Cent, Eminem'' (2002)\n",
      "   1. Just a Moment (feat. Quan) - b'Nas, Quan' (2004)\n",
      "   2. Spend Some Time - b'Eminem, Obie Trice, Stat Quo, 50 Cent' (2004)\n",
      "   3. Jealous Got Me Strapped - b'Spice 1, 2Pac' (1994)\n",
      "   4. Girls - b'D12' (2001)\n",
      "   5. A Week Ago - b'JAY-Z, Too $hort' (1998)\n",
      "\n",
      "Songs Similar To 'Love Me' By 'b'JJ Heller'' (2006)\n",
      "   1. Snake Eyes - b'Ryan Bingham' (2009)\n",
      "   2. Oh, It Is Love - b'Hellogoodbye' (2008)\n",
      "   3. One More Dollar - b'Gillian Welch' (1996)\n",
      "   4. Hard Times - b'Gillian Welch' (2011)\n",
      "   5. Dream About You - Pop A.C. Mix - b'Stevie B' (1998)\n",
      "\n",
      "Songs Similar To 'Love Me' By 'b'Justin Bieber'' (2009)\n",
      "   1. Somebody To Love - b'Justin Bieber' (2010)\n",
      "   2. Somebody To Love Remix - b'Justin Bieber, Usher' (2011)\n",
      "   3. Cut To The Feeling - b'Carly Rae Jepsen' (2017)\n",
      "   4. I Really Like You - b'Carly Rae Jepsen' (2015)\n",
      "   5. 4 Minutes (feat. Justin Timberlake & Timbaland) - b'Madonna, Justin Timberlake, Timbaland' (2009)\n",
      "\n",
      "Songs Similar To 'Love Me' By 'b'Lil Wayne, Drake, Future'' (2013)\n",
      "   1. That Way - Bonus Track - b'Lil Uzi Vert' (2020)\n",
      "   2. Studio - b'ScHoolboy Q, BJ The Chicago Kid' (2014)\n",
      "   3. That Way - b'Lil Uzi Vert' (2020)\n",
      "   4. Lies (feat. Lil Skies) - b'Lil Xan, Lil Skies' (2018)\n",
      "   5. Tokyo Drifting (with Denzel Curry) - b'Glass Animals, Denzel Curry' (2019)\n",
      "\n",
      "Songs Similar To 'Love Me' By 'b'The 1975'' (2016)\n",
      "   1. Casual Sex - b'My Darkest Days' (2012)\n",
      "   2. Lotus Eater - b'Foster The People' (2017)\n",
      "   3. Monster - b'Lady Gaga' (2009)\n",
      "   4. Moneygrabber - b'Fitz and The Tantrums' (2010)\n",
      "   5. She Lives in My Lap (feat. Rosario Dawson) - b'OutKast, Rosario Dawson' (2003)\n",
      "\n",
      "Songs Similar To 'Love Me' By 'b'Lil Tecca'' (2019)\n",
      "   1. Me and My Guitar - b'A Boogie Wit da Hoodie' (2020)\n",
      "   2. Red Nose - b'Sage The Gemini' (2014)\n",
      "   3. Run Me Dry - b'Bryson Tiller' (2017)\n",
      "   4. Stuntin' On You (feat. DaBaby) - b'Tyla Yaweh, DaBaby' (2020)\n",
      "   5. Best Friend - b'50 Cent' (2005)\n",
      "\n"
     ]
    }
   ],
   "source": [
    "find_similar_songs(table, song_name=\"Love Me\", exact=True)"
   ]
  },
  {
   "cell_type": "markdown",
   "id": "cf91f429",
   "metadata": {},
   "source": [
    "There are 15 songs in our vector database with `Love Me` as their title and we have returned the most similar songs to each of these.\n",
    "With that, we have built a recommendation system which is able to recommend music based both on user numerical and categorical song data."
   ]
  },
  {
   "cell_type": "markdown",
   "id": "2b4839ed",
   "metadata": {},
   "source": [
    "## 5. Delete the KDB.AI Table\n",
    "\n",
    "Once finished with the table, it is best practice to drop it."
   ]
  },
  {
   "cell_type": "code",
   "execution_count": 52,
   "id": "81c95d1c",
   "metadata": {},
   "outputs": [],
   "source": [
    "table.drop()"
   ]
  },
  {
   "cell_type": "markdown",
   "id": "96a12b1f",
   "metadata": {},
   "source": [
    "## Take Our Survey\n",
    "\n",
    "We hope you found this sample helpful! Your feedback is important to us, and we would appreciate it if you could take a moment to fill out our brief survey. Your input helps us improve our content.\n",
    "\n",
    "[**Take the Survey**](https://delighted.com/t/gvqeAOuO)"
   ]
  }
 ],
 "metadata": {
  "kernelspec": {
   "display_name": "Python 3",
   "language": "python",
   "name": "python3"
  },
  "language_info": {
   "codemirror_mode": {
    "name": "ipython",
    "version": 3
   },
   "file_extension": ".py",
   "mimetype": "text/x-python",
   "name": "python",
   "nbconvert_exporter": "python",
   "pygments_lexer": "ipython3",
   "version": "3.10.12"
  }
 },
 "nbformat": 4,
 "nbformat_minor": 5
}
