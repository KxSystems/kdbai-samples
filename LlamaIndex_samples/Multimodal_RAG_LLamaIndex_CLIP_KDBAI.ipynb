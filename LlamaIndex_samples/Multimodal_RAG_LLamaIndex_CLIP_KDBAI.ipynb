{
  "cells": [
    {
      "cell_type": "markdown",
      "id": "TTMDGImH5JOM",
      "metadata": {
        "id": "TTMDGImH5JOM"
      },
      "source": [
        "# Multimodal RAG using LlamaIndex, CLIP, & KDB.AI\n",
        "\n",
        "Note: This example requires a KDB.AI endpoint and API key. Sign up for a free [KDB.AI account](https://kdb.ai/offerings/).\n",
        "\n",
        "This example explores preparing, embedding (with CLIP), and storing both text and image data within a KDB.AI vector database using LlamaIndex."
      ]
    },
    {
      "cell_type": "markdown",
      "id": "e89b2a80-22b7-4f06-918c-8fe75ced9572",
      "metadata": {
        "id": "e89b2a80-22b7-4f06-918c-8fe75ced9572"
      },
      "source": [
        "## Install dependencies"
      ]
    },
    {
      "cell_type": "code",
      "execution_count": null,
      "id": "f80ee03b-e9f7-405a-bdc9-58b130275815",
      "metadata": {
        "id": "f80ee03b-e9f7-405a-bdc9-58b130275815",
        "scrolled": true
      },
      "outputs": [],
      "source": [
        "!pip install llama-index llama-index-embeddings-huggingface llama-index-llms-openai llama-index-readers-file llama-index-vector-stores-kdbai llama-index-embeddings-clip\n",
        "!pip install llama-index-embeddings-clip\n",
        "!pip install 'git+https://github.com/openai/CLIP.git'\n",
        "!pip install kdbai_client matplotlib wikipedia tqdm"
      ]
    },
    {
      "cell_type": "markdown",
      "id": "c2e890c7-fd56-4c38-a596-e53e3d5a8ab1",
      "metadata": {
        "id": "c2e890c7-fd56-4c38-a596-e53e3d5a8ab1"
      },
      "source": [
        "## Download data"
      ]
    },
    {
      "cell_type": "markdown",
      "id": "5c84d1c1-6741-434c-ba95-91e2ebb9992e",
      "metadata": {
        "id": "5c84d1c1-6741-434c-ba95-91e2ebb9992e"
      },
      "source": [
        "**Libraries**"
      ]
    },
    {
      "cell_type": "code",
      "execution_count": 2,
      "id": "8a84d604-67b0-4299-9665-ebd2c13c7d1c",
      "metadata": {
        "id": "8a84d604-67b0-4299-9665-ebd2c13c7d1c"
      },
      "outputs": [],
      "source": [
        "import os\n",
        "from tqdm import tqdm\n",
        "import wikipedia\n",
        "import urllib.request"
      ]
    },
    {
      "cell_type": "markdown",
      "id": "a08e73fd-1d8f-4806-87f5-49949f4d42c8",
      "metadata": {
        "id": "a08e73fd-1d8f-4806-87f5-49949f4d42c8"
      },
      "source": [
        "**Data directories and paths**"
      ]
    },
    {
      "cell_type": "code",
      "execution_count": 3,
      "id": "efb9b47d-63c4-44ff-9ccd-2b126cce6945",
      "metadata": {
        "id": "efb9b47d-63c4-44ff-9ccd-2b126cce6945"
      },
      "outputs": [],
      "source": [
        "# Root path\n",
        "root_path = os.path.abspath(os.getcwd())\n",
        "\n",
        "# Data directory and path\n",
        "data_dir = \"data\"\n",
        "data_path = os.path.join(root_path, data_dir)\n",
        "if not os.path.exists(data_path):\n",
        "    os.mkdir(data_path)"
      ]
    },
    {
      "cell_type": "markdown",
      "id": "7133fc24-c66c-4b91-b20f-033cdf571142",
      "metadata": {
        "id": "7133fc24-c66c-4b91-b20f-033cdf571142"
      },
      "source": [
        "**Download data - wikipedia images & texts**"
      ]
    },
    {
      "cell_type": "code",
      "execution_count": 4,
      "id": "ad75539c-7531-4f11-a5fc-d052a211085c",
      "metadata": {
        "id": "ad75539c-7531-4f11-a5fc-d052a211085c",
        "scrolled": true
      },
      "outputs": [],
      "source": [
        "def download_data(WIKI_TITLES, MAX_IMAGES_PER_TITLE):\n",
        "    # Text metadata\n",
        "    text_uuid = 0\n",
        "    text_metadata = dict()\n",
        "\n",
        "    # Image metadata\n",
        "    image_uuid = 0\n",
        "    image_metadata = dict()\n",
        "\n",
        "    # Download data - text and images from wiki pages\n",
        "    for title in tqdm(WIKI_TITLES):\n",
        "        images_per_wiki_page = 0\n",
        "        print(title)\n",
        "        try:\n",
        "            wiki_page = wikipedia.page(title)\n",
        "\n",
        "            # Text - data and metadata\n",
        "            text_uuid += 1\n",
        "            page_content = wiki_page.content\n",
        "\n",
        "            content_path = os.path.join(data_path, f\"{title}.txt\")\n",
        "            with open(content_path, 'w') as f:\n",
        "                f.write(page_content)\n",
        "            text_file_name = f\"{title}.txt\"\n",
        "\n",
        "            text_metadata[text_uuid] = {\n",
        "                \"filename\": text_file_name,\n",
        "                \"file_path\": content_path\n",
        "            }\n",
        "\n",
        "            list_img_urls = wiki_page.images\n",
        "            for url in list_img_urls:\n",
        "                if url.endswith(\".jpg\") or url.endswith(\".png\"):\n",
        "                    # Limiting images to downloaded per wikipedia page\n",
        "                    images_per_wiki_page += 1\n",
        "                    if images_per_wiki_page > MAX_IMAGES_PER_TITLE:\n",
        "                        break\n",
        "\n",
        "                    # Image - data and metadata\n",
        "                    image_uuid += 1\n",
        "                    image_path = os.path.join(data_path, f\"{image_uuid}.jpg\")\n",
        "                    image_file_name = f\"{image_uuid}.jpg\"\n",
        "\n",
        "                    urllib.request.urlretrieve(\n",
        "                        url, image_path\n",
        "                    )\n",
        "\n",
        "                    image_metadata[image_uuid] = {\n",
        "                        \"filename\": image_file_name,\n",
        "                        \"file_path\": image_path,\n",
        "                    }\n",
        "        except Exception:\n",
        "            print(str(Exception(\"No images found for Wikipedia page: \")) + title)\n",
        "            continue\n",
        "\n",
        "    return image_metadata, text_metadata"
      ]
    },
    {
      "cell_type": "code",
      "execution_count": null,
      "id": "ae283b70-dc68-4061-9fa1-2f436d37c4ef",
      "metadata": {
        "colab": {
          "base_uri": "https://localhost:8080/"
        },
        "id": "ae283b70-dc68-4061-9fa1-2f436d37c4ef",
        "outputId": "9245435d-8c8d-4059-e3df-a2447d0588d6"
      },
      "outputs": [],
      "source": [
        "# Wikipedia titles to retrieve data & max images per title to retrieve\n",
        "WIKI_TITLES = [\n",
        "    \"Machiavelli\",\n",
        "    \"Beethoven\",\n",
        "    \"Burj khalifa\",\n",
        "    \"Cherry Blossom\",\n",
        "    \"Video Game\"\n",
        "]\n",
        "MAX_IMAGES_PER_TITLE = 10\n",
        "\n",
        "# Download the data if not downloaded yet\n",
        "image_metadata, text_metadata = download_data(WIKI_TITLES, MAX_IMAGES_PER_TITLE)"
      ]
    },
    {
      "cell_type": "markdown",
      "id": "567cef3f-f19e-4f91-a3fe-eaca7c756ea2",
      "metadata": {
        "id": "567cef3f-f19e-4f91-a3fe-eaca7c756ea2"
      },
      "source": [
        "**Resize Images**"
      ]
    },
    {
      "cell_type": "code",
      "execution_count": 6,
      "id": "a335ad0b-2206-4843-9888-a5dd28b2c5a2",
      "metadata": {
        "id": "a335ad0b-2206-4843-9888-a5dd28b2c5a2"
      },
      "outputs": [],
      "source": [
        "import os\n",
        "import math\n",
        "from PIL import Image\n",
        "from tqdm import tqdm"
      ]
    },
    {
      "cell_type": "code",
      "execution_count": 7,
      "id": "3fae01a0-9ebc-411a-89b9-2433ac850313",
      "metadata": {
        "id": "3fae01a0-9ebc-411a-89b9-2433ac850313"
      },
      "outputs": [],
      "source": [
        "def resize_images(data_path):\n",
        "    for file in tqdm(os.listdir(data_path)):\n",
        "        if file.endswith('.jpg'):\n",
        "            img_path = os.path.join(data_path, file)\n",
        "            img = Image.open(img_path)\n",
        "            img_width, img_height = img.size\n",
        "            aspect_ratio = img_width/img_height\n",
        "\n",
        "            if img_width > 2048:\n",
        "                new_width = 2048\n",
        "                new_height = round(new_width/aspect_ratio)\n",
        "\n",
        "                img = img.resize((new_width, new_height))\n",
        "                img.save(img_path)"
      ]
    },
    {
      "cell_type": "code",
      "execution_count": null,
      "id": "e49408d8-77c6-46ff-9f48-59e5655bc6ad",
      "metadata": {
        "colab": {
          "base_uri": "https://localhost:8080/"
        },
        "id": "e49408d8-77c6-46ff-9f48-59e5655bc6ad",
        "outputId": "af661e8a-246a-4332-c690-6e761639052f"
      },
      "outputs": [],
      "source": [
        "resize_images(data_path)"
      ]
    },
    {
      "cell_type": "markdown",
      "id": "a4234209-3f2e-40c0-9a4d-3c7b5048f0b4",
      "metadata": {
        "id": "a4234209-3f2e-40c0-9a4d-3c7b5048f0b4"
      },
      "source": [
        "**Show images**"
      ]
    },
    {
      "cell_type": "code",
      "execution_count": 9,
      "id": "9f6dac3d-6f26-4de7-adb5-87be0f01b005",
      "metadata": {
        "id": "9f6dac3d-6f26-4de7-adb5-87be0f01b005"
      },
      "outputs": [],
      "source": [
        "from PIL import Image\n",
        "import matplotlib.pyplot as plt\n",
        "import os"
      ]
    },
    {
      "cell_type": "code",
      "execution_count": 10,
      "id": "a3619c4a-dc69-415d-a727-cbbb57730d93",
      "metadata": {
        "id": "a3619c4a-dc69-415d-a727-cbbb57730d93"
      },
      "outputs": [],
      "source": [
        "def show_images(image_paths):\n",
        "    images_shown = 0\n",
        "    plt.figure(figsize=(16,9))\n",
        "    for img_path in image_paths:\n",
        "        if os.path.isfile(img_path):\n",
        "            image = Image.open(img_path)\n",
        "\n",
        "            plt.subplot(3, 3, images_shown+1)\n",
        "            plt.imshow(image)\n",
        "            plt.xticks([])\n",
        "            plt.yticks([])\n",
        "\n",
        "            images_shown += 1\n",
        "            if images_shown >= 9:\n",
        "                break"
      ]
    },
    {
      "cell_type": "code",
      "execution_count": null,
      "id": "3d64d559-f157-4dee-8668-0678cf22c58e",
      "metadata": {
        "colab": {
          "base_uri": "https://localhost:8080/",
          "height": 677
        },
        "id": "3d64d559-f157-4dee-8668-0678cf22c58e",
        "outputId": "8a5a92b9-1f36-4fdf-943a-f7d4fd19c4ad"
      },
      "outputs": [],
      "source": [
        "image_paths = []\n",
        "for file in os.listdir(data_path):\n",
        "    if file.endswith('.jpg'):\n",
        "        img_path = os.path.join(data_path, file)\n",
        "        image_paths.append(img_path)\n",
        "show_images(image_paths)"
      ]
    },
    {
      "cell_type": "markdown",
      "id": "9fa19ce1-c4c4-4ade-9589-76e1abb9c30a",
      "metadata": {
        "id": "9fa19ce1-c4c4-4ade-9589-76e1abb9c30a"
      },
      "source": [
        "**Show texts**"
      ]
    },
    {
      "cell_type": "code",
      "execution_count": 12,
      "id": "e173c761-89f8-4d5b-bdf4-44fc2181ff54",
      "metadata": {
        "id": "e173c761-89f8-4d5b-bdf4-44fc2181ff54"
      },
      "outputs": [],
      "source": [
        "def show_texts(text_paths):\n",
        "    texts_shown = 0\n",
        "    for text_path in text_paths:\n",
        "        if os.path.isfile(text_path):\n",
        "            with open(text_path, 'r') as text_file:\n",
        "                content = text_file.read()\n",
        "            print(content[0:512])\n",
        "            print(\"=\"*80)\n",
        "\n",
        "            texts_shown += 1\n",
        "            if texts_shown >= 3:\n",
        "                break"
      ]
    },
    {
      "cell_type": "code",
      "execution_count": null,
      "id": "a65cbd86-4375-40c4-a732-229a54101e18",
      "metadata": {
        "colab": {
          "base_uri": "https://localhost:8080/"
        },
        "id": "a65cbd86-4375-40c4-a732-229a54101e18",
        "outputId": "bcaaf48a-24a5-42b0-cf1f-bb058d678393"
      },
      "outputs": [],
      "source": [
        "text_paths = []\n",
        "for file in os.listdir(data_path):\n",
        "    if file.endswith('.txt'):\n",
        "        text_path = os.path.join(data_path, file)\n",
        "        text_paths.append(text_path)\n",
        "show_texts(text_paths)"
      ]
    },
    {
      "cell_type": "markdown",
      "id": "53ea1fc4-611f-43f4-8d56-e894c22c1b1b",
      "metadata": {
        "id": "53ea1fc4-611f-43f4-8d56-e894c22c1b1b"
      },
      "source": [
        "## KDB.ai session and tables"
      ]
    },
    {
      "cell_type": "markdown",
      "id": "f927b018-4a8c-41d7-9ff4-0f125de0e8ba",
      "metadata": {
        "id": "f927b018-4a8c-41d7-9ff4-0f125de0e8ba"
      },
      "source": [
        "**Libraries**"
      ]
    },
    {
      "cell_type": "code",
      "execution_count": 14,
      "id": "cb740f79-ac84-44ca-88c9-6acc2185f85e",
      "metadata": {
        "id": "cb740f79-ac84-44ca-88c9-6acc2185f85e"
      },
      "outputs": [],
      "source": [
        "import kdbai_client as kdbai\n",
        "from getpass import getpass"
      ]
    },
    {
      "cell_type": "markdown",
      "id": "1fcf4957-c194-4320-8463-62be7a0d8d1a",
      "metadata": {
        "id": "1fcf4957-c194-4320-8463-62be7a0d8d1a"
      },
      "source": [
        "**KDB.ai session**"
      ]
    },
    {
      "cell_type": "markdown",
      "id": "ToBBSeoJ3isR",
      "metadata": {
        "id": "ToBBSeoJ3isR"
      },
      "source": [
        "With the embeddings created, we need to store them in a vector database to enable efficient searching.\n",
        "\n",
        "### Define KDB.AI Session\n",
        "\n",
        "KDB.AI comes in two offerings:\n",
        "\n",
        "1. [KDB.AI Cloud](https://trykdb.kx.com/kdbai/signup/) - For experimenting with smaller generative AI projects with a vector database in our cloud.\n",
        "2. [KDB.AI Server](https://trykdb.kx.com/kdbaiserver/signup/) - For evaluating large scale generative AI applications on-premises or on your own cloud provider.\n",
        "\n",
        "Depending on which you use there will be different setup steps and connection details required.\n",
        "\n",
        "##### Option 1. KDB.AI Cloud\n",
        "\n",
        "To use KDB.AI Cloud, you will need two session details - a URL endpoint and an API key.\n",
        "To get these you can sign up for free [here](https://trykdb.kx.com/kdbai/signup).\n",
        "\n",
        "You can connect to a KDB.AI Cloud session using `kdbai.Session` and passing the session URL endpoint and API key details from your KDB.AI Cloud portal.\n",
        "\n",
        "If the environment variables `KDBAI_ENDPOINTS` and `KDBAI_API_KEY` exist on your system containing your KDB.AI Cloud portal details, these variables will automatically be used to connect.\n",
        "If these do not exist, it will prompt you to enter your KDB.AI Cloud portal session URL endpoint and API key details."
      ]
    },
    {
      "cell_type": "code",
      "execution_count": null,
      "id": "ZNfk_x1i3iVs",
      "metadata": {
        "id": "ZNfk_x1i3iVs"
      },
      "outputs": [],
      "source": [
        "KDBAI_ENDPOINT = (\n",
        "    os.environ[\"KDBAI_ENDPOINT\"]\n",
        "    if \"KDBAI_ENDPOINT\" in os.environ\n",
        "    else input(\"KDB.AI endpoint: \")\n",
        ")\n",
        "KDBAI_API_KEY = (\n",
        "    os.environ[\"KDBAI_API_KEY\"]\n",
        "    if \"KDBAI_API_KEY\" in os.environ\n",
        "    else getpass(\"KDB.AI API key: \")\n",
        ")\n",
        "\n",
        "session = kdbai.Session(api_key=KDBAI_API_KEY, endpoint=KDBAI_ENDPOINT)"
      ]
    },
    {
      "cell_type": "markdown",
      "id": "ddJvMup83pyA",
      "metadata": {
        "id": "ddJvMup83pyA"
      },
      "source": [
        "##### Option 2. KDB.AI Server\n",
        "\n",
        "To use KDB.AI Server, you will need download and run your own container.\n",
        "To do this, you will first need to sign up for free [here](https://trykdb.kx.com/kdbaiserver/signup/).\n",
        "\n",
        "You willreceive an email with the required license file and bearer  token needed to download your instance.\n",
        "Follow instructions in the signup email to get your session up and running.\n",
        "\n",
        "Once the [setup steps](https://code.kx.com/kdbai/gettingStarted/kdb-ai-server-setup.html) are complete you can then connect to your KDB.AI Server session using `kdbai.Session` and passing your local endpoint."
      ]
    },
    {
      "cell_type": "code",
      "execution_count": 16,
      "id": "f2e55908-ab86-4725-937a-1a66dde06644",
      "metadata": {
        "id": "f2e55908-ab86-4725-937a-1a66dde06644"
      },
      "outputs": [],
      "source": [
        "# session = kdbai.Session(endpoint=\"http://localhost:8082\")"
      ]
    },
    {
      "cell_type": "markdown",
      "id": "4a66f72d-221d-4eab-b66b-15d66cce9502",
      "metadata": {
        "id": "4a66f72d-221d-4eab-b66b-15d66cce9502"
      },
      "source": [
        "**Table for storing Text data**"
      ]
    },
    {
      "cell_type": "code",
      "execution_count": 17,
      "id": "dcfd6eeb-1b83-49d9-a242-d041e71432bb",
      "metadata": {
        "id": "dcfd6eeb-1b83-49d9-a242-d041e71432bb"
      },
      "outputs": [],
      "source": [
        "# Texts table name and schema\n",
        "text_table_name = \"wiki_texts\"\n",
        "text_table_schema = [\n",
        "        dict(name=\"document_id\", type=\"bytes\"),\n",
        "        dict(name=\"text\", type=\"bytes\"),\n",
        "        dict(name=\"embeddings\", type=\"float32s\"),\n",
        "        dict(name=\"filename\", type=\"str\"),\n",
        "        dict(name=\"file_path\", type=\"str\"),\n",
        "    ]\n",
        "\n",
        "indexFlat = {\n",
        "        \"name\": \"flat\",\n",
        "        \"type\": \"flat\",\n",
        "        \"column\": \"embeddings\",\n",
        "        \"params\": {'dims': 1536, 'metric': 'L2'},\n",
        "    }"
      ]
    },
    {
      "cell_type": "code",
      "execution_count": 18,
      "id": "bc779e19",
      "metadata": {},
      "outputs": [],
      "source": [
        "# Connect with kdbai database\n",
        "db = session.database(\"default\")"
      ]
    },
    {
      "cell_type": "code",
      "execution_count": 19,
      "id": "5bfe935c-9895-4dac-aff6-c8ba62185a6c",
      "metadata": {
        "id": "5bfe935c-9895-4dac-aff6-c8ba62185a6c"
      },
      "outputs": [],
      "source": [
        "# Drop table if exists\n",
        "try:\n",
        "    db.table(text_table_name).drop()\n",
        "except kdbai.KDBAIException:\n",
        "    pass"
      ]
    },
    {
      "cell_type": "code",
      "execution_count": 20,
      "id": "044792bd-391c-4a3e-a5d2-0d7a9728bf9d",
      "metadata": {
        "id": "044792bd-391c-4a3e-a5d2-0d7a9728bf9d"
      },
      "outputs": [],
      "source": [
        "# Texts table\n",
        "texts_table = db.create_table(text_table_name, text_table_schema, indexes=[indexFlat])"
      ]
    },
    {
      "cell_type": "code",
      "execution_count": null,
      "id": "082401c5-7786-4e46-b6cc-2fda65886025",
      "metadata": {
        "colab": {
          "base_uri": "https://localhost:8080/"
        },
        "id": "082401c5-7786-4e46-b6cc-2fda65886025",
        "outputId": "8f6a0ed0-0c88-4377-de23-6667743a0287"
      },
      "outputs": [],
      "source": [
        "# Show texts table scheme\n",
        "texts_table.schema"
      ]
    },
    {
      "cell_type": "markdown",
      "id": "88128ba1-04c5-4aa6-8c0e-378235cb7c36",
      "metadata": {
        "id": "88128ba1-04c5-4aa6-8c0e-378235cb7c36"
      },
      "source": [
        "**Table for storing Image data**"
      ]
    },
    {
      "cell_type": "code",
      "execution_count": 22,
      "id": "e3ffb18e-234a-4e6d-8a01-d285a8685a0f",
      "metadata": {
        "id": "e3ffb18e-234a-4e6d-8a01-d285a8685a0f"
      },
      "outputs": [],
      "source": [
        "# Image table name and schema\n",
        "image_table_name = \"wiki_imgs\"\n",
        "image_table_schema = [\n",
        "        dict(name=\"document_id\", type=\"bytes\"),\n",
        "        dict(name=\"text\", type=\"bytes\"),\n",
        "        dict(name=\"embeddings\", type=\"float32s\"),\n",
        "        dict(name=\"filename\", type=\"bytes\"),\n",
        "        dict(name=\"file_path\", type=\"bytes\")\n",
        "    ]\n",
        "\n",
        "indexFlatImg = {\n",
        "        \"name\": \"flat\", # Note: In this multi-index setup, ensure that both the text and image indexes share the same name.\n",
        "        \"type\": \"flat\",\n",
        "        \"column\": \"embeddings\",\n",
        "        \"params\": {'dims': 512, 'metric': 'L2'},\n",
        "    }"
      ]
    },
    {
      "cell_type": "code",
      "execution_count": 23,
      "id": "06674cca-bfcf-4d12-a13a-7fbff9bd9a35",
      "metadata": {
        "id": "06674cca-bfcf-4d12-a13a-7fbff9bd9a35"
      },
      "outputs": [],
      "source": [
        "# Drop table if exists\n",
        "try:\n",
        "    db.table(image_table_name).drop()\n",
        "except kdbai.KDBAIException:\n",
        "    pass"
      ]
    },
    {
      "cell_type": "code",
      "execution_count": 24,
      "id": "b14118fe-adf6-4139-a382-8c7e1330ffc2",
      "metadata": {
        "id": "b14118fe-adf6-4139-a382-8c7e1330ffc2"
      },
      "outputs": [],
      "source": [
        "# Images table\n",
        "imgs_table = db.create_table(image_table_name, image_table_schema, indexes=[indexFlatImg])"
      ]
    },
    {
      "cell_type": "markdown",
      "id": "40eadab5-b64e-4e23-b3c4-462380aa4314",
      "metadata": {
        "id": "40eadab5-b64e-4e23-b3c4-462380aa4314"
      },
      "source": [
        "## Loading data"
      ]
    },
    {
      "cell_type": "markdown",
      "id": "5c4e070b-0306-47e8-a1ac-59575dfc61fc",
      "metadata": {
        "id": "5c4e070b-0306-47e8-a1ac-59575dfc61fc"
      },
      "source": [
        "**Consolidating both image and text metadata**"
      ]
    },
    {
      "cell_type": "code",
      "execution_count": 25,
      "id": "62362d3d-a864-4f02-bb38-02bf1908e9d6",
      "metadata": {
        "id": "62362d3d-a864-4f02-bb38-02bf1908e9d6",
        "scrolled": true
      },
      "outputs": [],
      "source": [
        "metadata_dict = dict()\n",
        "\n",
        "# Adding image metadata to final metadata dictionary\n",
        "for k, v in image_metadata.items():\n",
        "    ondisk_file_name = v[\"file_path\"].split('/')[-1]\n",
        "    metadata_key = f\"{data_dir}/{ondisk_file_name}\"\n",
        "    metadata_value = {\n",
        "        \"filename\": v[\"filename\"].encode(\"utf-8\"),\n",
        "        \"file_path\": f\"{data_dir}/{ondisk_file_name}\".encode(\"utf-8\")\n",
        "    }\n",
        "    metadata_dict[metadata_key] = metadata_value\n",
        "\n",
        "# Adding text metadata to final metadata dictionary\n",
        "for k, v in text_metadata.items():\n",
        "    ondisk_file_name = v[\"file_path\"].split('/')[-1]\n",
        "    metadata_key = f\"{data_dir}/{ondisk_file_name}\"\n",
        "    metadata_value = {\n",
        "        \"filename\": v[\"filename\"].encode(\"utf-8\"),\n",
        "        \"file_path\": f\"{data_dir}/{ondisk_file_name}\".encode(\"utf-8\")\n",
        "    }\n",
        "    metadata_dict[metadata_key] = metadata_value"
      ]
    },
    {
      "cell_type": "markdown",
      "id": "296404d8-a335-4b39-81a4-639feb68b384",
      "metadata": {
        "id": "296404d8-a335-4b39-81a4-639feb68b384"
      },
      "source": [
        "**Consolidating input paths**"
      ]
    },
    {
      "cell_type": "code",
      "execution_count": null,
      "id": "91603f21-b751-446c-96d3-de4622183aa8",
      "metadata": {
        "colab": {
          "base_uri": "https://localhost:8080/"
        },
        "id": "91603f21-b751-446c-96d3-de4622183aa8",
        "outputId": "bef949fd-5da5-45e5-d838-bd25f95f275e"
      },
      "outputs": [],
      "source": [
        "local_files = []\n",
        "for k in metadata_dict:\n",
        "    local_files.append(k)\n",
        "print(len(local_files))"
      ]
    },
    {
      "cell_type": "markdown",
      "id": "cf970c7f-f3a7-4d9d-b65c-6d2e3e96466c",
      "metadata": {
        "id": "cf970c7f-f3a7-4d9d-b65c-6d2e3e96466c"
      },
      "source": [
        "**Loading data**"
      ]
    },
    {
      "cell_type": "code",
      "execution_count": 27,
      "id": "81d827e5-7744-4602-8c92-72e455914273",
      "metadata": {
        "id": "81d827e5-7744-4602-8c92-72e455914273"
      },
      "outputs": [],
      "source": [
        "from llama_index.core import SimpleDirectoryReader"
      ]
    },
    {
      "cell_type": "code",
      "execution_count": 28,
      "id": "e13762c3-1af8-4098-a89c-abfe64749861",
      "metadata": {
        "id": "e13762c3-1af8-4098-a89c-abfe64749861"
      },
      "outputs": [],
      "source": [
        "def get_metadata(filepath):\n",
        "    return metadata_dict[filepath]"
      ]
    },
    {
      "cell_type": "code",
      "execution_count": null,
      "id": "c0132dee-b001-4eae-94c7-d38020ea301b",
      "metadata": {
        "colab": {
          "base_uri": "https://localhost:8080/"
        },
        "id": "c0132dee-b001-4eae-94c7-d38020ea301b",
        "outputId": "1be0bd17-966b-4815-fa65-e86b27b471d5"
      },
      "outputs": [],
      "source": [
        "%%time\n",
        "\n",
        "documents = SimpleDirectoryReader(input_files=local_files, file_metadata=get_metadata)\n",
        "\n",
        "docs = documents.load_data()\n",
        "len(docs)"
      ]
    },
    {
      "cell_type": "markdown",
      "id": "d8a1b387-16ac-4901-898e-f1a84b1378d2",
      "metadata": {
        "id": "d8a1b387-16ac-4901-898e-f1a84b1378d2"
      },
      "source": [
        "## Creating Multi Modal Vector Index for data"
      ]
    },
    {
      "cell_type": "markdown",
      "id": "ce8d0f69-50c8-4631-a744-93ce4046c384",
      "metadata": {
        "id": "ce8d0f69-50c8-4631-a744-93ce4046c384"
      },
      "source": [
        "**OpenAI API Key for CLIP Embeddings**"
      ]
    },
    {
      "cell_type": "code",
      "execution_count": 30,
      "id": "ba8a3866-38e0-4d17-a35e-86e1fb80b896",
      "metadata": {
        "id": "ba8a3866-38e0-4d17-a35e-86e1fb80b896"
      },
      "outputs": [],
      "source": [
        "import os\n",
        "from getpass import getpass"
      ]
    },
    {
      "cell_type": "code",
      "execution_count": 31,
      "id": "11e2afc5-be43-4b8f-ae69-a5da30ef0dbe",
      "metadata": {
        "colab": {
          "base_uri": "https://localhost:8080/"
        },
        "id": "11e2afc5-be43-4b8f-ae69-a5da30ef0dbe",
        "outputId": "c04fdee4-f0f4-4f9d-cd30-7d60a702edce"
      },
      "outputs": [],
      "source": [
        "OPENAI_API_KEY = (\n",
        "    os.environ[\"OPENAI_API_KEY\"]\n",
        "    if \"OPENAI_API_KEY\" in os.environ\n",
        "    else getpass(\"OpenAI API key: \")\n",
        ")\n"
      ]
    },
    {
      "cell_type": "markdown",
      "id": "f1e641c1-5143-4386-89d6-d82cffb004f8",
      "metadata": {
        "id": "f1e641c1-5143-4386-89d6-d82cffb004f8"
      },
      "source": [
        "**Create vector store, storage context and the index for retrieval, query purposes**"
      ]
    },
    {
      "cell_type": "code",
      "execution_count": 32,
      "id": "d0b512af-b171-4ce2-8149-cc9b93f8be94",
      "metadata": {
        "colab": {
          "base_uri": "https://localhost:8080/"
        },
        "id": "d0b512af-b171-4ce2-8149-cc9b93f8be94",
        "outputId": "3843c05c-ee6a-496f-c5bc-2fba8155c32a",
        "scrolled": true
      },
      "outputs": [],
      "source": [
        "from llama_index.vector_stores.kdbai import KDBAIVectorStore\n",
        "from llama_index.core import StorageContext\n",
        "from llama_index.core import Settings\n",
        "from llama_index.core.indices import MultiModalVectorStoreIndex\n",
        "from llama_index.core.node_parser import SentenceSplitter\n",
        "\n",
        "# Store\n",
        "text_store = KDBAIVectorStore(texts_table)\n",
        "image_store = KDBAIVectorStore(imgs_table)\n",
        "\n",
        "# Storage context\n",
        "storage_context = StorageContext.from_defaults(\n",
        "    vector_store=text_store,\n",
        "    image_store=image_store,\n",
        ")\n",
        "\n",
        "# Settings\n",
        "Settings.transformations = [SentenceSplitter(chunk_size=500, chunk_overlap=0)]\n",
        "\n",
        "# Multi Modal Vector Store Index\n",
        "index = MultiModalVectorStoreIndex.from_documents(\n",
        "    docs,\n",
        "    storage_context=storage_context,\n",
        ")"
      ]
    },
    {
      "cell_type": "markdown",
      "id": "uWGLtvxJ6awf",
      "metadata": {
        "id": "uWGLtvxJ6awf"
      },
      "source": [
        "#### Now the data is inserted into the KDB.AI vector database, let's take a look:"
      ]
    },
    {
      "cell_type": "code",
      "execution_count": null,
      "id": "d1gtNm7A6SL8",
      "metadata": {
        "colab": {
          "base_uri": "https://localhost:8080/",
          "height": 597
        },
        "id": "d1gtNm7A6SL8",
        "outputId": "f5ec43d8-85d1-4d99-ac2b-730373efd77f"
      },
      "outputs": [],
      "source": [
        "texts_table.query()"
      ]
    },
    {
      "cell_type": "code",
      "execution_count": null,
      "id": "AzMNx0-Q6WqV",
      "metadata": {
        "colab": {
          "base_uri": "https://localhost:8080/",
          "height": 927
        },
        "id": "AzMNx0-Q6WqV",
        "outputId": "cc186595-865b-4d2e-d719-2ae33c067210"
      },
      "outputs": [],
      "source": [
        "imgs_table.query()"
      ]
    },
    {
      "cell_type": "markdown",
      "id": "d9cd570f-9ed7-4e20-8a91-e3238bc43760",
      "metadata": {
        "id": "d9cd570f-9ed7-4e20-8a91-e3238bc43760"
      },
      "source": [
        "## Multi Modal Retrieval from user's query"
      ]
    },
    {
      "cell_type": "markdown",
      "id": "762bb4ba-ac4f-4b36-977b-dc80065035b6",
      "metadata": {
        "id": "762bb4ba-ac4f-4b36-977b-dc80065035b6"
      },
      "source": [
        "**Using index as retriever**"
      ]
    },
    {
      "cell_type": "code",
      "execution_count": 35,
      "id": "6967b815-e4ba-42a0-85ec-0d872c4c4009",
      "metadata": {
        "id": "6967b815-e4ba-42a0-85ec-0d872c4c4009"
      },
      "outputs": [],
      "source": [
        "retriever_engine = index.as_retriever(\n",
        "                            similarity_top_k=1,     \n",
        "                            image_similarity_top_k=4,\n",
        "                            vector_store_kwargs={\n",
        "                                \"index\" : \"flat\",\n",
        "                            },\n",
        "                        )"
      ]
    },
    {
      "cell_type": "markdown",
      "id": "2e6f74db-6056-4e20-996f-a5690944947c",
      "metadata": {
        "id": "2e6f74db-6056-4e20-996f-a5690944947c"
      },
      "source": [
        "**Retrieve most similar text/image embeddings based on query**"
      ]
    },
    {
      "cell_type": "code",
      "execution_count": 36,
      "id": "c0eea60a-144c-4a15-b68c-dac49ec98493",
      "metadata": {
        "id": "c0eea60a-144c-4a15-b68c-dac49ec98493"
      },
      "outputs": [],
      "source": [
        "from llama_index.core.response.notebook_utils import display_source_node\n",
        "\n",
        "def retrieve(retriever_engine, query_str):\n",
        "    retrieved_results = retriever_engine.retrieve(query_str)\n",
        "\n",
        "    retrieved_image = []\n",
        "    retrieved_text = []\n",
        "    for res_node in retrieved_results:\n",
        "        if res_node.text == '':\n",
        "            retrieved_image.append(res_node.node.metadata[\"file_path\"])\n",
        "        else:\n",
        "            retrieved_text.append(res_node.text)\n",
        "\n",
        "    return retrieved_image, retrieved_text"
      ]
    },
    {
      "cell_type": "code",
      "execution_count": null,
      "id": "c9466661-98f5-48ee-bc6c-5046bff711e3",
      "metadata": {
        "colab": {
          "base_uri": "https://localhost:8080/",
          "height": 295
        },
        "id": "c9466661-98f5-48ee-bc6c-5046bff711e3",
        "outputId": "cedadabd-7775-4c33-9eba-0265317287eb"
      },
      "outputs": [],
      "source": [
        "query_str = \"Tell me about the machiavelli, where he lived and what he did?\"\n",
        "\n",
        "imgs, txts = retrieve(retriever_engine=retriever_engine, query_str=query_str)\n",
        "\n",
        "# Show retrieved texts\n",
        "context_str = \"\".join(txts)\n",
        "print(context_str[:512])\n",
        "\n",
        "# Show retrieved images\n",
        "show_images(imgs)"
      ]
    },
    {
      "cell_type": "markdown",
      "id": "2bc7bc78-8675-4622-b609-d61d70cea567",
      "metadata": {
        "id": "2bc7bc78-8675-4622-b609-d61d70cea567"
      },
      "source": [
        "## Multi Modal RAG"
      ]
    },
    {
      "cell_type": "markdown",
      "id": "8e78948d-d2b3-4413-80f1-538264748682",
      "metadata": {
        "id": "8e78948d-d2b3-4413-80f1-538264748682"
      },
      "source": [
        "**Multi Modal Model: GPT-4o**"
      ]
    },
    {
      "cell_type": "code",
      "execution_count": 63,
      "id": "bb9e8b15-564f-4a0c-9f21-c0f91fbf1cc1",
      "metadata": {
        "id": "bb9e8b15-564f-4a0c-9f21-c0f91fbf1cc1"
      },
      "outputs": [],
      "source": [
        "from llama_index.multi_modal_llms.openai import OpenAIMultiModal"
      ]
    },
    {
      "cell_type": "code",
      "execution_count": 64,
      "id": "d851ecdc-041d-4c4c-8c0d-bb8073896d89",
      "metadata": {
        "id": "d851ecdc-041d-4c4c-8c0d-bb8073896d89"
      },
      "outputs": [],
      "source": [
        "mm_model_name = \"gpt-4o\"\n",
        "openai_mm_llm = OpenAIMultiModal(\n",
        "    model=mm_model_name, api_key=os.environ[\"OPENAI_API_KEY\"], max_new_tokens=1500\n",
        ")"
      ]
    },
    {
      "cell_type": "markdown",
      "id": "7855dacc-716c-4278-a954-2d5133a34b0a",
      "metadata": {
        "id": "7855dacc-716c-4278-a954-2d5133a34b0a"
      },
      "source": [
        "**Setting Prompt Template and Query Engine for MM-RAG**"
      ]
    },
    {
      "cell_type": "code",
      "execution_count": 61,
      "id": "d10c816b-b41a-465c-9cef-b634c98bf2f3",
      "metadata": {
        "id": "d10c816b-b41a-465c-9cef-b634c98bf2f3"
      },
      "outputs": [],
      "source": [
        "from llama_index.core import PromptTemplate\n",
        "from llama_index.core.query_engine import SimpleMultiModalQueryEngine"
      ]
    },
    {
      "cell_type": "code",
      "execution_count": 65,
      "id": "f649004f-a5de-45ee-bbfb-120ec258617f",
      "metadata": {
        "id": "f649004f-a5de-45ee-bbfb-120ec258617f"
      },
      "outputs": [],
      "source": [
        "qa_tmpl_str = (\n",
        "    \"Context information is below.\\n\"\n",
        "    \"---------------------\\n\"\n",
        "    \"{context_str}\\n\"\n",
        "    \"---------------------\\n\"\n",
        "    \"Given the context information and not prior knowledge, \"\n",
        "    \"answer the query.\\n\"\n",
        "    \"Query: {query_str}\\n\"\n",
        "    \"Answer: \"\n",
        ")\n",
        "qa_tmpl = PromptTemplate(qa_tmpl_str)\n",
        "\n",
        "query_engine = index.as_query_engine(\n",
        "    llm=openai_mm_llm,\n",
        "    text_qa_template=qa_tmpl,\n",
        "    vector_store_kwargs={\n",
        "            \"index\" : \"flat\",\n",
        "            },\n",
        ")"
      ]
    },
    {
      "cell_type": "markdown",
      "id": "745190cc-490b-4823-abb3-9084ca961f56",
      "metadata": {
        "id": "745190cc-490b-4823-abb3-9084ca961f56"
      },
      "source": [
        "**MM-RAG: Question Answering**"
      ]
    },
    {
      "cell_type": "code",
      "execution_count": null,
      "id": "c4941a5e-ac3c-4c7e-ae0a-2071a1873037",
      "metadata": {
        "colab": {
          "base_uri": "https://localhost:8080/"
        },
        "id": "c4941a5e-ac3c-4c7e-ae0a-2071a1873037",
        "outputId": "c1a7b3d4-8d02-4cd6-d28c-3effacd47914"
      },
      "outputs": [],
      "source": [
        "# Query by the user\n",
        "query_str = \"Tell me more about the machiavelli, where did he lived and what did he do?\"\n",
        "\n",
        "# Response from Multi Modal model\n",
        "response = query_engine.query(query_str)\n",
        "\n",
        "# Printing response\n",
        "print(response.response)"
      ]
    },
    {
      "cell_type": "markdown",
      "id": "145a7b15-03bf-4bc0-b62c-6123344610c9",
      "metadata": {
        "id": "145a7b15-03bf-4bc0-b62c-6123344610c9"
      },
      "source": [
        "**Showing the retrieved documents i.e images and text used for answering the query**"
      ]
    },
    {
      "cell_type": "code",
      "execution_count": null,
      "id": "cf45d30d-c88a-4237-8017-d21323f12528",
      "metadata": {
        "colab": {
          "base_uri": "https://localhost:8080/",
          "height": 468
        },
        "id": "cf45d30d-c88a-4237-8017-d21323f12528",
        "outputId": "316e2bf8-ea36-438b-b15a-9c6304acbb9b"
      },
      "outputs": [],
      "source": [
        "# Populate retrieved documents - texts and images\n",
        "imgs = []\n",
        "txts = []\n",
        "for text_node in response.metadata[\"text_nodes\"]:\n",
        "    if text_node.text == '':\n",
        "        imgs.append(text_node.metadata['file_path'].decode('utf-8'))\n",
        "    else:\n",
        "        txts.append(text_node.text)\n",
        "\n",
        "# Display retrieved documents - texts and images\n",
        "for txt in txts:\n",
        "    print(txt)\n",
        "show_images(imgs)"
      ]
    },
    {
      "cell_type": "markdown",
      "id": "6ECxF_Wr4f_S",
      "metadata": {
        "id": "6ECxF_Wr4f_S"
      },
      "source": [
        "## Delete the KDB.AI Table\n",
        "Once finished with the table, it is best practice to drop it."
      ]
    },
    {
      "cell_type": "code",
      "execution_count": null,
      "id": "4957ba34-612c-478c-b6db-e5735a6bd44c",
      "metadata": {
        "colab": {
          "base_uri": "https://localhost:8080/"
        },
        "id": "4957ba34-612c-478c-b6db-e5735a6bd44c",
        "outputId": "49baca60-af52-4ee9-ce34-d01dc3649127"
      },
      "outputs": [],
      "source": [
        "texts_table.drop()\n",
        "imgs_table.drop()"
      ]
    }
  ],
  "metadata": {
    "colab": {
      "provenance": []
    },
    "kernelspec": {
      "display_name": "Python 3 (ipykernel)",
      "language": "python",
      "name": "python3"
    },
    "language_info": {
      "codemirror_mode": {
        "name": "ipython",
        "version": 3
      },
      "file_extension": ".py",
      "mimetype": "text/x-python",
      "name": "python",
      "nbconvert_exporter": "python",
      "pygments_lexer": "ipython3",
      "version": "3.10.12"
    }
  },
  "nbformat": 4,
  "nbformat_minor": 5
}
