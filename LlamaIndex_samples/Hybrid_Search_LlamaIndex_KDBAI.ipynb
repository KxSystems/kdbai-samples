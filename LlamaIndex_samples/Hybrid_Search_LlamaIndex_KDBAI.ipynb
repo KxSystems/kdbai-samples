{
 "cells": [
  {
   "cell_type": "markdown",
   "id": "36bda246-f167-4114-a5d1-a053d8bb6faa",
   "metadata": {
    "id": "36bda246-f167-4114-a5d1-a053d8bb6faa"
   },
   "source": [
    "# Hybrid Search with LlamaIndex & KDB.AI\n",
    "\n",
    "Note: This example requires a KDB.AI endpoint and API key. Sign up for a free [KDB.AI account](https://kdb.ai/offerings/).\n",
    "\n",
    "KDB.AI hybrid search is a method of similarity search to increase the relevancy of results retrieved from the vector database. It combines two search methods: sparse vector search, and dense vector search.\n",
    "\n",
    "Sparse vector search uses the BM25 algorithm to find the most relevant keyword matches, while dense vector search finds the most semantically relevant matches.\n",
    "\n",
    "In KDB.AI, users can run sparse or dense searches independently, or run a hybrid search which combines both sparse and dense vector searches. The results from each search are re-ranked based on user-defined weights for the sparse and dense indexes. The higher the weight for a specific index (sparse or dense), the more influence it will have in determining the final ranking."
   ]
  },
  {
   "cell_type": "markdown",
   "id": "6db1388d-fb91-4445-bda3-9ce1ba230e2a",
   "metadata": {
    "id": "6db1388d-fb91-4445-bda3-9ce1ba230e2a"
   },
   "source": [
    "## Install dependencies"
   ]
  },
  {
   "cell_type": "code",
   "execution_count": null,
   "id": "cc0fded7-4a7b-42bd-8b89-c350e3c616ff",
   "metadata": {
    "id": "cc0fded7-4a7b-42bd-8b89-c350e3c616ff"
   },
   "outputs": [],
   "source": [
    "%pip install llama-index llama-index-embeddings-huggingface llama-index-llms-openai llama-index-readers-file llama-index-vector-stores-kdbai\n",
    "%pip install kdbai_client langchain-text-splitters pandas"
   ]
  },
  {
   "cell_type": "markdown",
   "id": "0f5a20b9-8d2a-4986-b72c-38743ffea15e",
   "metadata": {
    "id": "0f5a20b9-8d2a-4986-b72c-38743ffea15e"
   },
   "source": [
    "## Downloading data"
   ]
  },
  {
   "cell_type": "markdown",
   "id": "4b149b4c-8be7-451c-943a-60a919f3a1fd",
   "metadata": {
    "id": "4b149b4c-8be7-451c-943a-60a919f3a1fd"
   },
   "source": [
    "**Libraries**"
   ]
  },
  {
   "cell_type": "code",
   "execution_count": 1,
   "id": "2fee394b-9ed8-4f48-96e0-68fed3181a68",
   "metadata": {
    "id": "2fee394b-9ed8-4f48-96e0-68fed3181a68"
   },
   "outputs": [],
   "source": [
    "import os\n",
    "import urllib.request"
   ]
  },
  {
   "cell_type": "code",
   "execution_count": 2,
   "id": "bdLs4OLftHti",
   "metadata": {
    "id": "bdLs4OLftHti"
   },
   "outputs": [],
   "source": [
    "import nest_asyncio\n",
    "\n",
    "nest_asyncio.apply()"
   ]
  },
  {
   "cell_type": "markdown",
   "id": "e15527fd-ad03-4ebb-9622-1bbd0beec9c7",
   "metadata": {
    "id": "e15527fd-ad03-4ebb-9622-1bbd0beec9c7"
   },
   "source": [
    "**Data directories and paths**"
   ]
  },
  {
   "cell_type": "code",
   "execution_count": 3,
   "id": "974ceca4-7c46-4185-b9b9-0ed5da7eca7f",
   "metadata": {
    "id": "974ceca4-7c46-4185-b9b9-0ed5da7eca7f"
   },
   "outputs": [],
   "source": [
    "# Root path\n",
    "root_path = os.path.abspath(os.getcwd())\n",
    "\n",
    "# Data directory and path\n",
    "data_dir = \"data\"\n",
    "data_path = os.path.join(root_path, data_dir)\n",
    "if not os.path.exists(data_path):\n",
    "    os.mkdir(data_path)"
   ]
  },
  {
   "cell_type": "markdown",
   "id": "aecef7f4-0633-41e7-8600-2d894705564b",
   "metadata": {
    "id": "aecef7f4-0633-41e7-8600-2d894705564b"
   },
   "source": [
    "**Downloading text**"
   ]
  },
  {
   "cell_type": "code",
   "execution_count": 4,
   "id": "516e1f6d-d06e-40c5-bdb3-77e2cdce2cff",
   "metadata": {
    "id": "516e1f6d-d06e-40c5-bdb3-77e2cdce2cff"
   },
   "outputs": [],
   "source": [
    "text_url = \"https://raw.githubusercontent.com/KxSystems/kdbai-samples/main/hybrid_search/data/inflation.txt\"\n",
    "with urllib.request.urlopen(text_url) as response:\n",
    "    text_content = response.read().decode(\"utf-8\")\n",
    "\n",
    "text_file_name = text_url.split('/')[-1]\n",
    "text_path = os.path.join(data_path, text_file_name)\n",
    "if not os.path.exists(text_path):\n",
    "    with open(text_path, 'w') as text_file:\n",
    "        text_file.write(text_content)\n",
    "\n",
    "metadata = {\n",
    "    f\"{data_dir}/{text_file_name}\": {\n",
    "        \"title\": text_file_name,\n",
    "        \"file_path\": text_path\n",
    "    }\n",
    "}"
   ]
  },
  {
   "cell_type": "markdown",
   "id": "f718c60d-b577-4e4d-a256-42747173568b",
   "metadata": {
    "id": "f718c60d-b577-4e4d-a256-42747173568b"
   },
   "source": [
    "**Show text data**"
   ]
  },
  {
   "cell_type": "code",
   "execution_count": 5,
   "id": "20948a9b-7b95-4ccd-87b4-5fa1c0eecc8b",
   "metadata": {
    "id": "20948a9b-7b95-4ccd-87b4-5fa1c0eecc8b"
   },
   "outputs": [],
   "source": [
    "def show_text(text_path):\n",
    "    with open(text_path, 'r') as text_file:\n",
    "        contents = text_file.read()\n",
    "    print(contents[:500])\n",
    "    print(\"=\"*80)"
   ]
  },
  {
   "cell_type": "code",
   "execution_count": 6,
   "id": "deea78d6-acc8-4819-b948-a6d5d00c04e2",
   "metadata": {
    "colab": {
     "base_uri": "https://localhost:8080/"
    },
    "id": "deea78d6-acc8-4819-b948-a6d5d00c04e2",
    "outputId": "0793df34-5f11-4d87-ad34-262a74e2c999"
   },
   "outputs": [
    {
     "name": "stdout",
     "output_type": "stream",
     "text": [
      " At last year's Jackson Hole symposium, I delivered a brief, direct message. My remarks this year will be a bit longer, but the message is the same: It is the Fed's job to bring inflation down to our 2 percent goal, and we will do so. We have tightened policy significantly over the past year. Although inflation has moved down from its peak—a welcome development—it remains too high. We are prepared to raise rates further if appropriate, and intend to hold policy at a restrictive level until we ar\n",
      "================================================================================\n"
     ]
    }
   ],
   "source": [
    "show_text(text_path)"
   ]
  },
  {
   "cell_type": "markdown",
   "id": "720a9744-a9d4-4691-9077-229e1c526522",
   "metadata": {
    "id": "720a9744-a9d4-4691-9077-229e1c526522"
   },
   "source": [
    "## KDB.ai Vector Database - session and tables"
   ]
  },
  {
   "cell_type": "markdown",
   "id": "9ee3143e-69b8-4182-bdd8-4aa4c471517d",
   "metadata": {
    "id": "9ee3143e-69b8-4182-bdd8-4aa4c471517d"
   },
   "source": [
    "**Libraries**"
   ]
  },
  {
   "cell_type": "code",
   "execution_count": 7,
   "id": "e536e1f9-67a6-409b-85e0-70aa89b9c26e",
   "metadata": {
    "id": "e536e1f9-67a6-409b-85e0-70aa89b9c26e"
   },
   "outputs": [],
   "source": [
    "import kdbai_client as kdbai\n",
    "from getpass import getpass"
   ]
  },
  {
   "cell_type": "markdown",
   "id": "ae5d76e2-a62b-4b4e-904c-7408bcd0274f",
   "metadata": {
    "id": "ae5d76e2-a62b-4b4e-904c-7408bcd0274f"
   },
   "source": [
    "**KDB.AI session**\n",
    "\n",
    "With the embeddings created, we need to store them in a vector database to enable efficient searching.\n",
    "\n",
    "### Define KDB.AI Session\n",
    "\n",
    "KDB.AI comes in two offerings:\n",
    "\n",
    "1. [KDB.AI Cloud](https://trykdb.kx.com/kdbai/signup/) - For experimenting with smaller generative AI projects with a vector database in our cloud.\n",
    "2. [KDB.AI Server](https://trykdb.kx.com/kdbaiserver/signup/) - For evaluating large scale generative AI applications on-premises or on your own cloud provider.\n",
    "\n",
    "Depending on which you use there will be different setup steps and connection details required.\n",
    "\n",
    "##### Option 1. KDB.AI Cloud\n",
    "\n",
    "To use KDB.AI Cloud, you will need two session details - a URL endpoint and an API key.\n",
    "To get these you can sign up for free [here](https://trykdb.kx.com/kdbai/signup).\n",
    "\n",
    "You can connect to a KDB.AI Cloud session using `kdbai.Session` and passing the session URL endpoint and API key details from your KDB.AI Cloud portal.\n",
    "\n",
    "If the environment variables `KDBAI_ENDPOINTS` and `KDBAI_API_KEY` exist on your system containing your KDB.AI Cloud portal details, these variables will automatically be used to connect.\n",
    "If these do not exist, it will prompt you to enter your KDB.AI Cloud portal session URL endpoint and API key details."
   ]
  },
  {
   "cell_type": "code",
   "execution_count": null,
   "id": "HPMi-P35jKFd",
   "metadata": {
    "id": "HPMi-P35jKFd"
   },
   "outputs": [],
   "source": [
    "KDBAI_ENDPOINT = (\n",
    "    os.environ[\"KDBAI_ENDPOINT\"]\n",
    "    if \"KDBAI_ENDPOINT\" in os.environ\n",
    "    else input(\"KDB.AI endpoint: \")\n",
    ")\n",
    "KDBAI_API_KEY = (\n",
    "    os.environ[\"KDBAI_API_KEY\"]\n",
    "    if \"KDBAI_API_KEY\" in os.environ\n",
    "    else getpass(\"KDB.AI API key: \")\n",
    ")\n",
    "\n",
    "session = kdbai.Session(api_key=KDBAI_API_KEY, endpoint=KDBAI_ENDPOINT)"
   ]
  },
  {
   "cell_type": "markdown",
   "id": "W885kIuMjOpl",
   "metadata": {
    "id": "W885kIuMjOpl"
   },
   "source": [
    "##### Option 2. KDB.AI Server\n",
    "\n",
    "To use KDB.AI Server, you will need download and run your own container.\n",
    "To do this, you will first need to sign up for free [here](https://trykdb.kx.com/kdbaiserver/signup/).\n",
    "\n",
    "You willreceive an email with the required license file and bearer  token needed to download your instance.\n",
    "Follow instructions in the signup email to get your session up and running.\n",
    "\n",
    "Once the [setup steps](https://code.kx.com/kdbai/gettingStarted/kdb-ai-server-setup.html) are complete you can then connect to your KDB.AI Server session using `kdbai.Session` and passing your local endpoint."
   ]
  },
  {
   "cell_type": "code",
   "execution_count": null,
   "id": "940990b1-32b7-4ba4-8c8c-fc6c0ca0a372",
   "metadata": {
    "id": "940990b1-32b7-4ba4-8c8c-fc6c0ca0a372"
   },
   "outputs": [],
   "source": [
    "# session = kdbai.Session(endpoint=\"http://localhost:8082\")"
   ]
  },
  {
   "cell_type": "markdown",
   "id": "9f843740-08a5-4379-9b9a-9ac2f554cad0",
   "metadata": {
    "id": "9f843740-08a5-4379-9b9a-9ac2f554cad0"
   },
   "source": [
    "**KDB.AI table**"
   ]
  },
  {
   "cell_type": "code",
   "execution_count": 31,
   "id": "7949d844-6991-4a4f-9ebc-09d0c9e4d4f9",
   "metadata": {
    "id": "7949d844-6991-4a4f-9ebc-09d0c9e4d4f9"
   },
   "outputs": [],
   "source": [
    "# Table - name & schema\n",
    "table_name = \"hs_docs\"\n",
    "table_schema = [\n",
    "        {\"name\":\"document_id\", \"type\":\"bytes\"},\n",
    "        {\"name\":\"text\", \"type\":\"bytes\"},\n",
    "        {\"name\":\"embeddings\",\"type\":\"float32s\"},\n",
    "        {\"name\":\"sparseVectors\", \"type\":\"general\"},\n",
    "        {\"name\":\"title\", \"type\":\"str\"},\n",
    "        {\"name\":\"file_path\", \"type\":\"str\"},\n",
    "        ]\n",
    "\n",
    "indexeSparse = {\n",
    "        \"name\": \"sparse_index\",\n",
    "        \"type\": \"bm25\",\n",
    "        \"column\": \"sparseVectors\",\n",
    "        \"params\": {'k': 1.25, 'b': 0.75},\n",
    "    }\n",
    "\n",
    "indexFlat = {\n",
    "        \"name\": \"flat\",\n",
    "        \"type\": \"flat\",\n",
    "        \"column\": \"embeddings\",\n",
    "        \"params\": {'dims': 768, 'metric': 'L2'},\n",
    "    }"
   ]
  },
  {
   "cell_type": "code",
   "execution_count": 11,
   "id": "88d4e8ca",
   "metadata": {},
   "outputs": [],
   "source": [
    "# Connect with kdbai database\n",
    "db = session.database(\"default\")"
   ]
  },
  {
   "cell_type": "code",
   "execution_count": 32,
   "id": "89681936-0a1c-4976-b8eb-8fc63df0cd1b",
   "metadata": {
    "id": "89681936-0a1c-4976-b8eb-8fc63df0cd1b"
   },
   "outputs": [],
   "source": [
    "# Drop table if exists\n",
    "try:\n",
    "    db.table(table_name).drop()\n",
    "except kdbai.KDBAIException:\n",
    "    pass"
   ]
  },
  {
   "cell_type": "code",
   "execution_count": 33,
   "id": "72fa4f5d-e24e-4a7d-be8f-863d955c5f25",
   "metadata": {
    "id": "72fa4f5d-e24e-4a7d-be8f-863d955c5f25"
   },
   "outputs": [],
   "source": [
    "# texts table\n",
    "table = db.create_table(table_name, table_schema, indexes=[indexFlat, indexeSparse])"
   ]
  },
  {
   "cell_type": "markdown",
   "id": "51b64e18-57e0-43a5-84ee-9076a9695673",
   "metadata": {
    "id": "51b64e18-57e0-43a5-84ee-9076a9695673"
   },
   "source": [
    "## Loading data"
   ]
  },
  {
   "cell_type": "code",
   "execution_count": 26,
   "id": "WPxPi5gurf-m",
   "metadata": {
    "id": "WPxPi5gurf-m"
   },
   "outputs": [],
   "source": [
    "from llama_index.vector_stores.kdbai import KDBAIVectorStore\n",
    "from llama_index.core import StorageContext\n",
    "from llama_index.core import Settings\n",
    "from llama_index.core.indices import VectorStoreIndex\n",
    "from llama_index.core.node_parser import SentenceSplitter\n",
    "from llama_index.core.callbacks import CallbackManager\n",
    "from llama_index.core import SimpleDirectoryReader"
   ]
  },
  {
   "cell_type": "code",
   "execution_count": 27,
   "id": "pPiL0bAKtypG",
   "metadata": {
    "id": "pPiL0bAKtypG"
   },
   "outputs": [],
   "source": [
    "# Helper function - for getting metadata\n",
    "def get_metadata(file_path):\n",
    "    return metadata[file_path]"
   ]
  },
  {
   "cell_type": "code",
   "execution_count": 28,
   "id": "O5T4OFdEt0AC",
   "metadata": {
    "colab": {
     "base_uri": "https://localhost:8080/"
    },
    "id": "O5T4OFdEt0AC",
    "outputId": "ca398606-6579-4bce-ecc1-02a4a9aebbe6"
   },
   "outputs": [
    {
     "name": "stdout",
     "output_type": "stream",
     "text": [
      "CPU times: user 12.7 ms, sys: 0 ns, total: 12.7 ms\n",
      "Wall time: 12.9 ms\n"
     ]
    },
    {
     "data": {
      "text/plain": [
       "1"
      ]
     },
     "execution_count": 28,
     "metadata": {},
     "output_type": "execute_result"
    }
   ],
   "source": [
    "%%time\n",
    "\n",
    "local_files = [fpath for fpath in metadata]\n",
    "documents = SimpleDirectoryReader(input_files=local_files, file_metadata=get_metadata)\n",
    "\n",
    "docs = documents.load_data()\n",
    "len(docs)"
   ]
  },
  {
   "cell_type": "code",
   "execution_count": null,
   "id": "ZLDNbxPRChuw",
   "metadata": {
    "colab": {
     "base_uri": "https://localhost:8080/",
     "height": 528
    },
    "id": "ZLDNbxPRChuw",
    "outputId": "66e6d333-cb7b-4a8d-9330-9a3d33a4560d"
   },
   "outputs": [],
   "source": [
    "from llama_index.embeddings.huggingface import HuggingFaceEmbedding\n",
    "EMBEDDING = \"sentence-transformers/all-mpnet-base-v2\"\n",
    "embeddings_model = HuggingFaceEmbedding(model_name=EMBEDDING)"
   ]
  },
  {
   "cell_type": "markdown",
   "id": "rVfjqWmFFPlo",
   "metadata": {
    "id": "rVfjqWmFFPlo"
   },
   "source": [
    "### Create vector store, storage context and the index for retrieval, query purposes"
   ]
  },
  {
   "cell_type": "code",
   "execution_count": null,
   "id": "uAWvF9PKrf9x",
   "metadata": {
    "colab": {
     "base_uri": "https://localhost:8080/",
     "height": 252
    },
    "id": "uAWvF9PKrf9x",
    "outputId": "d2c3dc88-4e87-4778-aea0-976d0aa465e9"
   },
   "outputs": [],
   "source": [
    "%%time\n",
    "\n",
    "# Vector Store\n",
    "text_store = KDBAIVectorStore(table=table, hybrid_search=True)\n",
    "\n",
    "# Storage context\n",
    "storage_context = StorageContext.from_defaults(vector_store=text_store)\n",
    "\n",
    "# Settings\n",
    "#Settings.callback_manager = callback_manager\n",
    "Settings.transformations = [SentenceSplitter(chunk_size=500, chunk_overlap=0)]\n",
    "Settings.embed_model = embeddings_model\n",
    "Settings.llm = None\n",
    "\n",
    "# Vector Store Index\n",
    "index = VectorStoreIndex.from_documents(\n",
    "    docs,\n",
    "    use_async=True,\n",
    "    storage_context=storage_context,\n",
    ")"
   ]
  },
  {
   "cell_type": "code",
   "execution_count": 35,
   "id": "rJIVN9IZrf8F",
   "metadata": {
    "colab": {
     "base_uri": "https://localhost:8080/",
     "height": 341
    },
    "id": "rJIVN9IZrf8F",
    "outputId": "af51a11e-5a4b-4309-800b-b5a6f173608b"
   },
   "outputs": [
    {
     "data": {
      "application/vnd.google.colaboratory.intrinsic+json": {
       "summary": "{\n  \"name\": \"table\",\n  \"rows\": 6,\n  \"fields\": [\n    {\n      \"column\": \"document_id\",\n      \"properties\": {\n        \"dtype\": \"string\",\n        \"num_unique_values\": 6,\n        \"samples\": [\n          \"b'c26bcfc2-951e-40bd-959a-ae2b8edd2467'\",\n          \"b'e4d97506-7118-49ae-87bf-47c41abe670c'\",\n          \"b'0decb50d-966f-448f-a2a4-88dacc50a375'\"\n        ],\n        \"semantic_type\": \"\",\n        \"description\": \"\"\n      }\n    },\n    {\n      \"column\": \"text\",\n      \"properties\": {\n        \"dtype\": \"string\",\n        \"num_unique_values\": 6,\n        \"samples\": [\n          \"b'At last year\\\\'s Jackson Hole symposium, I delivered a brief, direct message. My remarks this year will be a bit longer, but the message is the same: It is the Fed\\\\'s job to bring inflation down to our 2 percent goal, and we will do so. We have tightened policy significantly over the past year. Although inflation has moved down from its peak\\\\xe2\\\\x80\\\\x94a welcome development\\\\xe2\\\\x80\\\\x94it remains too high. We are prepared to raise rates further if appropriate, and intend to hold policy at a restrictive level until we are confident that inflation is moving sustainably down toward our objective.\\\\n\\\\nToday I will review our progress so far and discuss the outlook and the uncertainties we face as we pursue our dual mandate goals. I will conclude with a summary of what this means for policy. Given how far we have come, at upcoming meetings we are in a position to proceed carefully as we assess the incoming data and the evolving outlook and risks.\\\\n\\\\nThe Decline in Inflation So Far\\\\nThe ongoing episode of high inflation initially emerged from a collision between very strong demand and pandemic-constrained supply. By the time the Federal Open Market Committee raised the policy rate in March 2022, it was clear that bringing down inflation would depend on both the unwinding of the unprecedented pandemic-related demand and supply distortions and on our tightening of monetary policy, which would slow the growth of aggregate demand, allowing supply time to catch up. While these two forces are now working together to bring down inflation, the process still has a long way to go, even with the more favorable recent readings.\\\\n\\\\nOn a 12-month basis, U.S. total, or \\\"headline,\\\" PCE (personal consumption expenditures) inflation peaked at 7 percent in June 2022 and declined to 3.3 percent as of July, following a trajectory roughly in line with global trends (figure 1, panel A).1 The effects of Russia\\\\'s war against Ukraine have been a primary driver of the changes in headline inflation around the world since early 2022. Headline inflation is what households and businesses experience most directly, so this decline is very good news. But food and energy prices are influenced by global factors that remain volatile, and can provide a misleading signal of where inflation is headed. In my remaining comments, I will focus on core PCE inflation, which omits the food and energy components.'\",\n          \"b\\\"On a 12-month basis, core PCE inflation peaked at 5.4 percent in February 2022 and declined gradually to 4.3 percent in July (figure 1, panel B). The lower monthly readings for core inflation in June and July were welcome, but two months of good data are only the beginning of what it will take to build confidence that inflation is moving down sustainably toward our goal. We can't yet know the extent to which these lower readings will continue or where underlying inflation will settle over coming quarters. Twelve-month core inflation is still elevated, and there is substantial further ground to cover to get back to price stability.\\\\n\\\\nTo understand the factors that will likely drive further progress, it is useful to separately examine the three broad components of core PCE inflation\\\\xe2\\\\x80\\\\x94inflation for goods, for housing services, and for all other services, sometimes referred to as nonhousing services (figure 2).\\\\n\\\\nCore goods inflation has fallen sharply, particularly for durable goods, as both tighter monetary policy and the slow unwinding of supply and demand dislocations are bringing it down. The motor vehicle sector provides a good illustration. Earlier in the pandemic, demand for vehicles rose sharply, supported by low interest rates, fiscal transfers, curtailed spending on in-person services, and shifts in preference away from using public transportation and from living in cities. But because of a shortage of semiconductors, vehicle supply actually fell. Vehicle prices spiked, and a large pool of pent-up demand emerged. As the pandemic and its effects have waned, production and inventories have grown, and supply has improved. At the same time, higher interest rates have weighed on demand. Interest rates on auto loans have nearly doubled since early last year, and customers report feeling the effect of higher rates on affordability.2 On net, motor vehicle inflation has declined sharply because of the combined effects of these supply and demand factors.\\\\n\\\\nSimilar dynamics are playing out for core goods inflation overall. As they do, the effects of monetary restraint should show through more fully over time. Core goods prices fell the past two months, but on a 12-month basis, core goods inflation remains well above its pre-pandemic level. Sustained progress is needed, and restrictive monetary policy is called for to achieve that progress.\\\"\",\n          \"b'Doing too little could allow above-target inflation to become entrenched and ultimately require monetary policy to wring more persistent inflation from the economy at a high cost to employment. Doing too much could also do unnecessary harm to the economy.\\\\n\\\\nConclusion\\\\nAs is often the case, we are navigating by the stars under cloudy skies. In such circumstances, risk-management considerations are critical. At upcoming meetings, we will assess our progress based on the totality of the data and the evolving outlook and risks. Based on this assessment, we will proceed carefully as we decide whether to tighten further or, instead, to hold the policy rate constant and await further data. Restoring price stability is essential to achieving both sides of our dual mandate. We will need price stability to achieve a sustained period of strong labor market conditions that benefit all.\\\\n\\\\nWe will keep at it until the job is done.'\"\n        ],\n        \"semantic_type\": \"\",\n        \"description\": \"\"\n      }\n    },\n    {\n      \"column\": \"embedding\",\n      \"properties\": {\n        \"dtype\": \"object\",\n        \"semantic_type\": \"\",\n        \"description\": \"\"\n      }\n    },\n    {\n      \"column\": \"sparseVectors\",\n      \"properties\": {\n        \"dtype\": \"object\",\n        \"semantic_type\": \"\",\n        \"description\": \"\"\n      }\n    },\n    {\n      \"column\": \"title\",\n      \"properties\": {\n        \"dtype\": \"category\",\n        \"num_unique_values\": 1,\n        \"samples\": [\n          \"inflation.txt\"\n        ],\n        \"semantic_type\": \"\",\n        \"description\": \"\"\n      }\n    },\n    {\n      \"column\": \"file_path\",\n      \"properties\": {\n        \"dtype\": \"category\",\n        \"num_unique_values\": 1,\n        \"samples\": [\n          \"/content/data/inflation.txt\"\n        ],\n        \"semantic_type\": \"\",\n        \"description\": \"\"\n      }\n    }\n  ]\n}",
       "type": "dataframe"
      },
      "text/html": [
       "\n",
       "  <div id=\"df-38b7f2cf-4d8b-46f2-9e1a-87d1ccf8de3d\" class=\"colab-df-container\">\n",
       "    <div>\n",
       "<style scoped>\n",
       "    .dataframe tbody tr th:only-of-type {\n",
       "        vertical-align: middle;\n",
       "    }\n",
       "\n",
       "    .dataframe tbody tr th {\n",
       "        vertical-align: top;\n",
       "    }\n",
       "\n",
       "    .dataframe thead th {\n",
       "        text-align: right;\n",
       "    }\n",
       "</style>\n",
       "<table border=\"1\" class=\"dataframe\">\n",
       "  <thead>\n",
       "    <tr style=\"text-align: right;\">\n",
       "      <th></th>\n",
       "      <th>document_id</th>\n",
       "      <th>text</th>\n",
       "      <th>embedding</th>\n",
       "      <th>sparseVectors</th>\n",
       "      <th>title</th>\n",
       "      <th>file_path</th>\n",
       "    </tr>\n",
       "  </thead>\n",
       "  <tbody>\n",
       "    <tr>\n",
       "      <th>0</th>\n",
       "      <td>b'c26bcfc2-951e-40bd-959a-ae2b8edd2467'</td>\n",
       "      <td>b'At last year\\'s Jackson Hole symposium, I de...</td>\n",
       "      <td>[-0.035284244, 0.0753799, -0.022666411, -0.017...</td>\n",
       "      <td>{101: 1, 2012: 4, 2197: 1, 2095: 3, 1005: 3, 1...</td>\n",
       "      <td>inflation.txt</td>\n",
       "      <td>/content/data/inflation.txt</td>\n",
       "    </tr>\n",
       "    <tr>\n",
       "      <th>1</th>\n",
       "      <td>b'e4d97506-7118-49ae-87bf-47c41abe670c'</td>\n",
       "      <td>b\"On a 12-month basis, core PCE inflation peak...</td>\n",
       "      <td>[-0.04378559, 0.046354603, -0.030167095, 0.013...</td>\n",
       "      <td>{101: 1, 2006: 7, 1037: 5, 2260: 2, 1011: 6, 3...</td>\n",
       "      <td>inflation.txt</td>\n",
       "      <td>/content/data/inflation.txt</td>\n",
       "    </tr>\n",
       "    <tr>\n",
       "      <th>2</th>\n",
       "      <td>b'0014da23-8348-48af-ab56-c64ec48c47cc'</td>\n",
       "      <td>b'In the highly interest-sensitive housing sec...</td>\n",
       "      <td>[-0.07940253, 0.008506958, -0.035946056, -0.00...</td>\n",
       "      <td>{101: 1, 1999: 7, 1996: 21, 3811: 1, 3037: 2, ...</td>\n",
       "      <td>inflation.txt</td>\n",
       "      <td>/content/data/inflation.txt</td>\n",
       "    </tr>\n",
       "    <tr>\n",
       "      <th>3</th>\n",
       "      <td>b'1c00e107-b816-40d2-8445-a0ae707c2564'</td>\n",
       "      <td>b\"Getting inflation sustainably back down to 2...</td>\n",
       "      <td>[-0.046816133, 0.052543037, -0.038334284, -0.0...</td>\n",
       "      <td>{101: 1, 2893: 1, 14200: 2, 15770: 1, 8231: 1,...</td>\n",
       "      <td>inflation.txt</td>\n",
       "      <td>/content/data/inflation.txt</td>\n",
       "    </tr>\n",
       "    <tr>\n",
       "      <th>4</th>\n",
       "      <td>b'73ac6d92-a93f-4b5f-a8c6-8bba94068e3f'</td>\n",
       "      <td>b'While nominal wage growth must ultimately sl...</td>\n",
       "      <td>[-0.033225708, 0.037619803, -0.030979052, -0.0...</td>\n",
       "      <td>{101: 1, 2096: 1, 15087: 2, 11897: 4, 3930: 4,...</td>\n",
       "      <td>inflation.txt</td>\n",
       "      <td>/content/data/inflation.txt</td>\n",
       "    </tr>\n",
       "    <tr>\n",
       "      <th>5</th>\n",
       "      <td>b'0decb50d-966f-448f-a2a4-88dacc50a375'</td>\n",
       "      <td>b'Doing too little could allow above-target in...</td>\n",
       "      <td>[-0.042863447, 0.02854309, -0.030805789, -0.03...</td>\n",
       "      <td>{101: 1, 2725: 2, 2205: 2, 2210: 1, 2071: 2, 3...</td>\n",
       "      <td>inflation.txt</td>\n",
       "      <td>/content/data/inflation.txt</td>\n",
       "    </tr>\n",
       "  </tbody>\n",
       "</table>\n",
       "</div>\n",
       "    <div class=\"colab-df-buttons\">\n",
       "\n",
       "  <div class=\"colab-df-container\">\n",
       "    <button class=\"colab-df-convert\" onclick=\"convertToInteractive('df-38b7f2cf-4d8b-46f2-9e1a-87d1ccf8de3d')\"\n",
       "            title=\"Convert this dataframe to an interactive table.\"\n",
       "            style=\"display:none;\">\n",
       "\n",
       "  <svg xmlns=\"http://www.w3.org/2000/svg\" height=\"24px\" viewBox=\"0 -960 960 960\">\n",
       "    <path d=\"M120-120v-720h720v720H120Zm60-500h600v-160H180v160Zm220 220h160v-160H400v160Zm0 220h160v-160H400v160ZM180-400h160v-160H180v160Zm440 0h160v-160H620v160ZM180-180h160v-160H180v160Zm440 0h160v-160H620v160Z\"/>\n",
       "  </svg>\n",
       "    </button>\n",
       "\n",
       "  <style>\n",
       "    .colab-df-container {\n",
       "      display:flex;\n",
       "      gap: 12px;\n",
       "    }\n",
       "\n",
       "    .colab-df-convert {\n",
       "      background-color: #E8F0FE;\n",
       "      border: none;\n",
       "      border-radius: 50%;\n",
       "      cursor: pointer;\n",
       "      display: none;\n",
       "      fill: #1967D2;\n",
       "      height: 32px;\n",
       "      padding: 0 0 0 0;\n",
       "      width: 32px;\n",
       "    }\n",
       "\n",
       "    .colab-df-convert:hover {\n",
       "      background-color: #E2EBFA;\n",
       "      box-shadow: 0px 1px 2px rgba(60, 64, 67, 0.3), 0px 1px 3px 1px rgba(60, 64, 67, 0.15);\n",
       "      fill: #174EA6;\n",
       "    }\n",
       "\n",
       "    .colab-df-buttons div {\n",
       "      margin-bottom: 4px;\n",
       "    }\n",
       "\n",
       "    [theme=dark] .colab-df-convert {\n",
       "      background-color: #3B4455;\n",
       "      fill: #D2E3FC;\n",
       "    }\n",
       "\n",
       "    [theme=dark] .colab-df-convert:hover {\n",
       "      background-color: #434B5C;\n",
       "      box-shadow: 0px 1px 3px 1px rgba(0, 0, 0, 0.15);\n",
       "      filter: drop-shadow(0px 1px 2px rgba(0, 0, 0, 0.3));\n",
       "      fill: #FFFFFF;\n",
       "    }\n",
       "  </style>\n",
       "\n",
       "    <script>\n",
       "      const buttonEl =\n",
       "        document.querySelector('#df-38b7f2cf-4d8b-46f2-9e1a-87d1ccf8de3d button.colab-df-convert');\n",
       "      buttonEl.style.display =\n",
       "        google.colab.kernel.accessAllowed ? 'block' : 'none';\n",
       "\n",
       "      async function convertToInteractive(key) {\n",
       "        const element = document.querySelector('#df-38b7f2cf-4d8b-46f2-9e1a-87d1ccf8de3d');\n",
       "        const dataTable =\n",
       "          await google.colab.kernel.invokeFunction('convertToInteractive',\n",
       "                                                    [key], {});\n",
       "        if (!dataTable) return;\n",
       "\n",
       "        const docLinkHtml = 'Like what you see? Visit the ' +\n",
       "          '<a target=\"_blank\" href=https://colab.research.google.com/notebooks/data_table.ipynb>data table notebook</a>'\n",
       "          + ' to learn more about interactive tables.';\n",
       "        element.innerHTML = '';\n",
       "        dataTable['output_type'] = 'display_data';\n",
       "        await google.colab.output.renderOutput(dataTable, element);\n",
       "        const docLink = document.createElement('div');\n",
       "        docLink.innerHTML = docLinkHtml;\n",
       "        element.appendChild(docLink);\n",
       "      }\n",
       "    </script>\n",
       "  </div>\n",
       "\n",
       "\n",
       "<div id=\"df-a080320c-b4bd-4625-b9fa-04a7aa5e59f4\">\n",
       "  <button class=\"colab-df-quickchart\" onclick=\"quickchart('df-a080320c-b4bd-4625-b9fa-04a7aa5e59f4')\"\n",
       "            title=\"Suggest charts\"\n",
       "            style=\"display:none;\">\n",
       "\n",
       "<svg xmlns=\"http://www.w3.org/2000/svg\" height=\"24px\"viewBox=\"0 0 24 24\"\n",
       "     width=\"24px\">\n",
       "    <g>\n",
       "        <path d=\"M19 3H5c-1.1 0-2 .9-2 2v14c0 1.1.9 2 2 2h14c1.1 0 2-.9 2-2V5c0-1.1-.9-2-2-2zM9 17H7v-7h2v7zm4 0h-2V7h2v10zm4 0h-2v-4h2v4z\"/>\n",
       "    </g>\n",
       "</svg>\n",
       "  </button>\n",
       "\n",
       "<style>\n",
       "  .colab-df-quickchart {\n",
       "      --bg-color: #E8F0FE;\n",
       "      --fill-color: #1967D2;\n",
       "      --hover-bg-color: #E2EBFA;\n",
       "      --hover-fill-color: #174EA6;\n",
       "      --disabled-fill-color: #AAA;\n",
       "      --disabled-bg-color: #DDD;\n",
       "  }\n",
       "\n",
       "  [theme=dark] .colab-df-quickchart {\n",
       "      --bg-color: #3B4455;\n",
       "      --fill-color: #D2E3FC;\n",
       "      --hover-bg-color: #434B5C;\n",
       "      --hover-fill-color: #FFFFFF;\n",
       "      --disabled-bg-color: #3B4455;\n",
       "      --disabled-fill-color: #666;\n",
       "  }\n",
       "\n",
       "  .colab-df-quickchart {\n",
       "    background-color: var(--bg-color);\n",
       "    border: none;\n",
       "    border-radius: 50%;\n",
       "    cursor: pointer;\n",
       "    display: none;\n",
       "    fill: var(--fill-color);\n",
       "    height: 32px;\n",
       "    padding: 0;\n",
       "    width: 32px;\n",
       "  }\n",
       "\n",
       "  .colab-df-quickchart:hover {\n",
       "    background-color: var(--hover-bg-color);\n",
       "    box-shadow: 0 1px 2px rgba(60, 64, 67, 0.3), 0 1px 3px 1px rgba(60, 64, 67, 0.15);\n",
       "    fill: var(--button-hover-fill-color);\n",
       "  }\n",
       "\n",
       "  .colab-df-quickchart-complete:disabled,\n",
       "  .colab-df-quickchart-complete:disabled:hover {\n",
       "    background-color: var(--disabled-bg-color);\n",
       "    fill: var(--disabled-fill-color);\n",
       "    box-shadow: none;\n",
       "  }\n",
       "\n",
       "  .colab-df-spinner {\n",
       "    border: 2px solid var(--fill-color);\n",
       "    border-color: transparent;\n",
       "    border-bottom-color: var(--fill-color);\n",
       "    animation:\n",
       "      spin 1s steps(1) infinite;\n",
       "  }\n",
       "\n",
       "  @keyframes spin {\n",
       "    0% {\n",
       "      border-color: transparent;\n",
       "      border-bottom-color: var(--fill-color);\n",
       "      border-left-color: var(--fill-color);\n",
       "    }\n",
       "    20% {\n",
       "      border-color: transparent;\n",
       "      border-left-color: var(--fill-color);\n",
       "      border-top-color: var(--fill-color);\n",
       "    }\n",
       "    30% {\n",
       "      border-color: transparent;\n",
       "      border-left-color: var(--fill-color);\n",
       "      border-top-color: var(--fill-color);\n",
       "      border-right-color: var(--fill-color);\n",
       "    }\n",
       "    40% {\n",
       "      border-color: transparent;\n",
       "      border-right-color: var(--fill-color);\n",
       "      border-top-color: var(--fill-color);\n",
       "    }\n",
       "    60% {\n",
       "      border-color: transparent;\n",
       "      border-right-color: var(--fill-color);\n",
       "    }\n",
       "    80% {\n",
       "      border-color: transparent;\n",
       "      border-right-color: var(--fill-color);\n",
       "      border-bottom-color: var(--fill-color);\n",
       "    }\n",
       "    90% {\n",
       "      border-color: transparent;\n",
       "      border-bottom-color: var(--fill-color);\n",
       "    }\n",
       "  }\n",
       "</style>\n",
       "\n",
       "  <script>\n",
       "    async function quickchart(key) {\n",
       "      const quickchartButtonEl =\n",
       "        document.querySelector('#' + key + ' button');\n",
       "      quickchartButtonEl.disabled = true;  // To prevent multiple clicks.\n",
       "      quickchartButtonEl.classList.add('colab-df-spinner');\n",
       "      try {\n",
       "        const charts = await google.colab.kernel.invokeFunction(\n",
       "            'suggestCharts', [key], {});\n",
       "      } catch (error) {\n",
       "        console.error('Error during call to suggestCharts:', error);\n",
       "      }\n",
       "      quickchartButtonEl.classList.remove('colab-df-spinner');\n",
       "      quickchartButtonEl.classList.add('colab-df-quickchart-complete');\n",
       "    }\n",
       "    (() => {\n",
       "      let quickchartButtonEl =\n",
       "        document.querySelector('#df-a080320c-b4bd-4625-b9fa-04a7aa5e59f4 button');\n",
       "      quickchartButtonEl.style.display =\n",
       "        google.colab.kernel.accessAllowed ? 'block' : 'none';\n",
       "    })();\n",
       "  </script>\n",
       "</div>\n",
       "\n",
       "    </div>\n",
       "  </div>\n"
      ],
      "text/plain": [
       "                               document_id  \\\n",
       "0  b'c26bcfc2-951e-40bd-959a-ae2b8edd2467'   \n",
       "1  b'e4d97506-7118-49ae-87bf-47c41abe670c'   \n",
       "2  b'0014da23-8348-48af-ab56-c64ec48c47cc'   \n",
       "3  b'1c00e107-b816-40d2-8445-a0ae707c2564'   \n",
       "4  b'73ac6d92-a93f-4b5f-a8c6-8bba94068e3f'   \n",
       "5  b'0decb50d-966f-448f-a2a4-88dacc50a375'   \n",
       "\n",
       "                                                text  \\\n",
       "0  b'At last year\\'s Jackson Hole symposium, I de...   \n",
       "1  b\"On a 12-month basis, core PCE inflation peak...   \n",
       "2  b'In the highly interest-sensitive housing sec...   \n",
       "3  b\"Getting inflation sustainably back down to 2...   \n",
       "4  b'While nominal wage growth must ultimately sl...   \n",
       "5  b'Doing too little could allow above-target in...   \n",
       "\n",
       "                                           embedding  \\\n",
       "0  [-0.035284244, 0.0753799, -0.022666411, -0.017...   \n",
       "1  [-0.04378559, 0.046354603, -0.030167095, 0.013...   \n",
       "2  [-0.07940253, 0.008506958, -0.035946056, -0.00...   \n",
       "3  [-0.046816133, 0.052543037, -0.038334284, -0.0...   \n",
       "4  [-0.033225708, 0.037619803, -0.030979052, -0.0...   \n",
       "5  [-0.042863447, 0.02854309, -0.030805789, -0.03...   \n",
       "\n",
       "                                       sparseVectors          title  \\\n",
       "0  {101: 1, 2012: 4, 2197: 1, 2095: 3, 1005: 3, 1...  inflation.txt   \n",
       "1  {101: 1, 2006: 7, 1037: 5, 2260: 2, 1011: 6, 3...  inflation.txt   \n",
       "2  {101: 1, 1999: 7, 1996: 21, 3811: 1, 3037: 2, ...  inflation.txt   \n",
       "3  {101: 1, 2893: 1, 14200: 2, 15770: 1, 8231: 1,...  inflation.txt   \n",
       "4  {101: 1, 2096: 1, 15087: 2, 11897: 4, 3930: 4,...  inflation.txt   \n",
       "5  {101: 1, 2725: 2, 2205: 2, 2210: 1, 2071: 2, 3...  inflation.txt   \n",
       "\n",
       "                     file_path  \n",
       "0  /content/data/inflation.txt  \n",
       "1  /content/data/inflation.txt  \n",
       "2  /content/data/inflation.txt  \n",
       "3  /content/data/inflation.txt  \n",
       "4  /content/data/inflation.txt  \n",
       "5  /content/data/inflation.txt  "
      ]
     },
     "execution_count": 21,
     "metadata": {},
     "output_type": "execute_result"
    }
   ],
   "source": [
    "table.query()"
   ]
  },
  {
   "cell_type": "markdown",
   "id": "fe013a42-6b5a-416c-bc87-30b0ebe02e9a",
   "metadata": {
    "id": "fe013a42-6b5a-416c-bc87-30b0ebe02e9a"
   },
   "source": [
    "## Retrieval from query using Hybrid Search"
   ]
  },
  {
   "cell_type": "markdown",
   "id": "c30441b4-3fd6-45b3-86cd-a50ab4101d0b",
   "metadata": {
    "id": "c30441b4-3fd6-45b3-86cd-a50ab4101d0b"
   },
   "source": [
    "**Query**"
   ]
  },
  {
   "cell_type": "code",
   "execution_count": 36,
   "id": "d7dd1230-c0d5-4c07-a4e9-23537ccb6373",
   "metadata": {
    "id": "d7dd1230-c0d5-4c07-a4e9-23537ccb6373"
   },
   "outputs": [],
   "source": [
    "query = '12-month basis'"
   ]
  },
  {
   "cell_type": "markdown",
   "id": "38f5eb97-b6dd-4b36-a1c0-67b5e6a4f525",
   "metadata": {
    "id": "38f5eb97-b6dd-4b36-a1c0-67b5e6a4f525"
   },
   "source": [
    "**Helper function: To display search results**"
   ]
  },
  {
   "cell_type": "code",
   "execution_count": 37,
   "id": "ef30aa91-3ea2-44f5-9043-53b99dc701a5",
   "metadata": {
    "id": "ef30aa91-3ea2-44f5-9043-53b99dc701a5"
   },
   "outputs": [],
   "source": [
    "import pandas as pd"
   ]
  },
  {
   "cell_type": "code",
   "execution_count": 38,
   "id": "80d572c8-409e-4869-a04d-f6fa9b510a3f",
   "metadata": {
    "id": "80d572c8-409e-4869-a04d-f6fa9b510a3f"
   },
   "outputs": [],
   "source": [
    "def display_search_results(nodes):\n",
    "    nodes_df = pd.DataFrame(columns=['score', 'text'])\n",
    "    for node in nodes:\n",
    "        nodes_df.loc[len(nodes_df.index)] = (node.score, node.text)\n",
    "    return nodes_df"
   ]
  },
  {
   "cell_type": "markdown",
   "id": "87740e80-6285-4228-8c4a-2037c4cc233c",
   "metadata": {
    "id": "87740e80-6285-4228-8c4a-2037c4cc233c"
   },
   "source": [
    "**Hybrid Search: Giving equal priority to both sparse and dense vector search**"
   ]
  },
  {
   "cell_type": "code",
   "execution_count": 39,
   "id": "a28e06f9-f848-4a87-8107-0425b5bd4c4f",
   "metadata": {
    "colab": {
     "base_uri": "https://localhost:8080/"
    },
    "id": "a28e06f9-f848-4a87-8107-0425b5bd4c4f",
    "outputId": "326e6e34-67ff-489d-860d-0fbd2a6f7e51"
   },
   "outputs": [
    {
     "name": "stdout",
     "output_type": "stream",
     "text": [
      "CPU times: user 49 μs, sys: 0 ns, total: 49 μs\n",
      "Wall time: 51 μs\n"
     ]
    }
   ],
   "source": [
    "%%time\n",
    "\n",
    "retriever = index.as_retriever(\n",
    "                        vector_store_query_mode=\"hybrid\",\n",
    "                        similarity_top_k=5,\n",
    "                        vector_store_kwargs={\n",
    "                                \"index\" : \"flat\",\n",
    "                                \"indexWeight\" : 0.5,\n",
    "                                \"indexSparse\" : \"sparse_index\",\n",
    "                                \"indexSparseWeight\" : 0.5,\n",
    "                                },\n",
    "                            )"
   ]
  },
  {
   "cell_type": "code",
   "execution_count": 40,
   "id": "40ab98b9-31e2-4d8b-94a7-8973c05f8e91",
   "metadata": {
    "colab": {
     "base_uri": "https://localhost:8080/",
     "height": 261
    },
    "id": "40ab98b9-31e2-4d8b-94a7-8973c05f8e91",
    "outputId": "fc1fe691-994f-42da-a4ec-c320253cb1f8"
   },
   "outputs": [
    {
     "name": "stderr",
     "output_type": "stream",
     "text": [
      "/home/alexg/miniforge/envs/llama_v1.4/lib/python3.10/site-packages/transformers/tokenization_utils_base.py:1617: FutureWarning: `clean_up_tokenization_spaces` was not set. It will be set to `True` by default. This behavior will be deprecated in transformers v4.45, and will be then set to `False` by default. For more details check this issue: https://github.com/huggingface/transformers/issues/31884\n",
      "  warnings.warn(\n"
     ]
    },
    {
     "data": {
      "text/html": [
       "<div>\n",
       "<style scoped>\n",
       "    .dataframe tbody tr th:only-of-type {\n",
       "        vertical-align: middle;\n",
       "    }\n",
       "\n",
       "    .dataframe tbody tr th {\n",
       "        vertical-align: top;\n",
       "    }\n",
       "\n",
       "    .dataframe thead th {\n",
       "        text-align: right;\n",
       "    }\n",
       "</style>\n",
       "<table border=\"1\" class=\"dataframe\">\n",
       "  <thead>\n",
       "    <tr style=\"text-align: right;\">\n",
       "      <th></th>\n",
       "      <th>score</th>\n",
       "      <th>text</th>\n",
       "    </tr>\n",
       "  </thead>\n",
       "  <tbody>\n",
       "    <tr>\n",
       "      <th>0</th>\n",
       "      <td>0.375000</td>\n",
       "      <td>At last year's Jackson Hole symposium, I deliv...</td>\n",
       "    </tr>\n",
       "    <tr>\n",
       "      <th>1</th>\n",
       "      <td>0.333333</td>\n",
       "      <td>In my remaining comments, I will focus on core...</td>\n",
       "    </tr>\n",
       "    <tr>\n",
       "      <th>2</th>\n",
       "      <td>0.291667</td>\n",
       "      <td>Core goods prices fell the past two months, bu...</td>\n",
       "    </tr>\n",
       "    <tr>\n",
       "      <th>3</th>\n",
       "      <td>0.250000</td>\n",
       "      <td>Total hours worked has been flat over the past...</td>\n",
       "    </tr>\n",
       "    <tr>\n",
       "      <th>4</th>\n",
       "      <td>0.200000</td>\n",
       "      <td>Over time, restrictive monetary policy will he...</td>\n",
       "    </tr>\n",
       "  </tbody>\n",
       "</table>\n",
       "</div>"
      ],
      "text/plain": [
       "      score                                               text\n",
       "0  0.375000  At last year's Jackson Hole symposium, I deliv...\n",
       "1  0.333333  In my remaining comments, I will focus on core...\n",
       "2  0.291667  Core goods prices fell the past two months, bu...\n",
       "3  0.250000  Total hours worked has been flat over the past...\n",
       "4  0.200000  Over time, restrictive monetary policy will he..."
      ]
     },
     "execution_count": 40,
     "metadata": {},
     "output_type": "execute_result"
    }
   ],
   "source": [
    "equal_priority_nodes = retriever.retrieve(query)\n",
    "display_search_results(equal_priority_nodes)"
   ]
  },
  {
   "cell_type": "markdown",
   "id": "7d065aa5-c685-4c4d-a808-e28913c1cfdc",
   "metadata": {
    "id": "7d065aa5-c685-4c4d-a808-e28913c1cfdc"
   },
   "source": [
    "**Hybrid Search: Giving more priority to sparse vector search**"
   ]
  },
  {
   "cell_type": "code",
   "execution_count": 41,
   "id": "0f5b7356-8dae-40f3-b787-cb34d6b58045",
   "metadata": {
    "colab": {
     "base_uri": "https://localhost:8080/"
    },
    "id": "0f5b7356-8dae-40f3-b787-cb34d6b58045",
    "outputId": "ede097c6-b0fc-49b4-b7cd-f6292f9373ff"
   },
   "outputs": [
    {
     "name": "stdout",
     "output_type": "stream",
     "text": [
      "CPU times: user 0 ns, sys: 39 μs, total: 39 μs\n",
      "Wall time: 41 μs\n"
     ]
    }
   ],
   "source": [
    "%%time\n",
    "\n",
    "retriever = index.as_retriever(\n",
    "                        vector_store_query_mode=\"hybrid\",\n",
    "                        similarity_top_k=5,\n",
    "                        vector_store_kwargs={\n",
    "                                \"index\" : \"flat\",\n",
    "                                \"indexWeight\" : 0.1,\n",
    "                                \"indexSparse\" : \"sparse_index\",\n",
    "                                \"indexSparseWeight\" : 0.9,\n",
    "                                },\n",
    "                            )"
   ]
  },
  {
   "cell_type": "code",
   "execution_count": 42,
   "id": "ecfd0feb-3752-461b-b23b-05a81abe49c9",
   "metadata": {
    "colab": {
     "base_uri": "https://localhost:8080/",
     "height": 261
    },
    "id": "ecfd0feb-3752-461b-b23b-05a81abe49c9",
    "outputId": "24bcefd5-f714-4345-efba-f089c8372cb7"
   },
   "outputs": [
    {
     "name": "stderr",
     "output_type": "stream",
     "text": [
      "/home/alexg/miniforge/envs/llama_v1.4/lib/python3.10/site-packages/transformers/tokenization_utils_base.py:1617: FutureWarning: `clean_up_tokenization_spaces` was not set. It will be set to `True` by default. This behavior will be deprecated in transformers v4.45, and will be then set to `False` by default. For more details check this issue: https://github.com/huggingface/transformers/issues/31884\n",
      "  warnings.warn(\n"
     ]
    },
    {
     "data": {
      "text/html": [
       "<div>\n",
       "<style scoped>\n",
       "    .dataframe tbody tr th:only-of-type {\n",
       "        vertical-align: middle;\n",
       "    }\n",
       "\n",
       "    .dataframe tbody tr th {\n",
       "        vertical-align: top;\n",
       "    }\n",
       "\n",
       "    .dataframe thead th {\n",
       "        text-align: right;\n",
       "    }\n",
       "</style>\n",
       "<table border=\"1\" class=\"dataframe\">\n",
       "  <thead>\n",
       "    <tr style=\"text-align: right;\">\n",
       "      <th></th>\n",
       "      <th>score</th>\n",
       "      <th>text</th>\n",
       "    </tr>\n",
       "  </thead>\n",
       "  <tbody>\n",
       "    <tr>\n",
       "      <th>0</th>\n",
       "      <td>0.466667</td>\n",
       "      <td>In my remaining comments, I will focus on core...</td>\n",
       "    </tr>\n",
       "    <tr>\n",
       "      <th>1</th>\n",
       "      <td>0.325000</td>\n",
       "      <td>Core goods prices fell the past two months, bu...</td>\n",
       "    </tr>\n",
       "    <tr>\n",
       "      <th>2</th>\n",
       "      <td>0.275000</td>\n",
       "      <td>At last year's Jackson Hole symposium, I deliv...</td>\n",
       "    </tr>\n",
       "    <tr>\n",
       "      <th>3</th>\n",
       "      <td>0.200000</td>\n",
       "      <td>Over time, restrictive monetary policy will he...</td>\n",
       "    </tr>\n",
       "    <tr>\n",
       "      <th>4</th>\n",
       "      <td>0.183333</td>\n",
       "      <td>Total hours worked has been flat over the past...</td>\n",
       "    </tr>\n",
       "  </tbody>\n",
       "</table>\n",
       "</div>"
      ],
      "text/plain": [
       "      score                                               text\n",
       "0  0.466667  In my remaining comments, I will focus on core...\n",
       "1  0.325000  Core goods prices fell the past two months, bu...\n",
       "2  0.275000  At last year's Jackson Hole symposium, I deliv...\n",
       "3  0.200000  Over time, restrictive monetary policy will he...\n",
       "4  0.183333  Total hours worked has been flat over the past..."
      ]
     },
     "execution_count": 42,
     "metadata": {},
     "output_type": "execute_result"
    }
   ],
   "source": [
    "sparse_priority_nodes = retriever.retrieve(query)\n",
    "display_search_results(sparse_priority_nodes)"
   ]
  },
  {
   "cell_type": "markdown",
   "id": "f62f9812-6242-47ae-9a1a-b582bc04f54b",
   "metadata": {
    "id": "f62f9812-6242-47ae-9a1a-b582bc04f54b"
   },
   "source": [
    "**Hybrid Search: Giving more priority to dense vector search**"
   ]
  },
  {
   "cell_type": "code",
   "execution_count": 43,
   "id": "70583f73-a841-45fd-9169-461ca6b4953a",
   "metadata": {
    "colab": {
     "base_uri": "https://localhost:8080/"
    },
    "id": "70583f73-a841-45fd-9169-461ca6b4953a",
    "outputId": "b0eb3a83-9dae-4a9a-cb7d-6f2e4176e9a2"
   },
   "outputs": [
    {
     "name": "stdout",
     "output_type": "stream",
     "text": [
      "CPU times: user 30 μs, sys: 6 μs, total: 36 μs\n",
      "Wall time: 37.7 μs\n"
     ]
    }
   ],
   "source": [
    "%%time\n",
    "\n",
    "retriever = index.as_retriever(\n",
    "                        vector_store_query_mode=\"hybrid\",\n",
    "                        similarity_top_k=5,\n",
    "                        vector_store_kwargs={\n",
    "                                \"index\" : \"flat\",\n",
    "                                \"indexWeight\" : 0.9,\n",
    "                                \"indexSparse\" : \"sparse_index\",\n",
    "                                \"indexSparseWeight\" : 0.1,\n",
    "                                },\n",
    "                            )"
   ]
  },
  {
   "cell_type": "code",
   "execution_count": 44,
   "id": "ac810657-ba83-4f53-91e5-3a3407afa31e",
   "metadata": {
    "colab": {
     "base_uri": "https://localhost:8080/",
     "height": 261
    },
    "id": "ac810657-ba83-4f53-91e5-3a3407afa31e",
    "outputId": "1675c444-5b76-4466-bad0-0f24a8014922"
   },
   "outputs": [
    {
     "name": "stderr",
     "output_type": "stream",
     "text": [
      "/home/alexg/miniforge/envs/llama_v1.4/lib/python3.10/site-packages/transformers/tokenization_utils_base.py:1617: FutureWarning: `clean_up_tokenization_spaces` was not set. It will be set to `True` by default. This behavior will be deprecated in transformers v4.45, and will be then set to `False` by default. For more details check this issue: https://github.com/huggingface/transformers/issues/31884\n",
      "  warnings.warn(\n"
     ]
    },
    {
     "data": {
      "text/html": [
       "<div>\n",
       "<style scoped>\n",
       "    .dataframe tbody tr th:only-of-type {\n",
       "        vertical-align: middle;\n",
       "    }\n",
       "\n",
       "    .dataframe tbody tr th {\n",
       "        vertical-align: top;\n",
       "    }\n",
       "\n",
       "    .dataframe thead th {\n",
       "        text-align: right;\n",
       "    }\n",
       "</style>\n",
       "<table border=\"1\" class=\"dataframe\">\n",
       "  <thead>\n",
       "    <tr style=\"text-align: right;\">\n",
       "      <th></th>\n",
       "      <th>score</th>\n",
       "      <th>text</th>\n",
       "    </tr>\n",
       "  </thead>\n",
       "  <tbody>\n",
       "    <tr>\n",
       "      <th>0</th>\n",
       "      <td>0.475000</td>\n",
       "      <td>At last year's Jackson Hole symposium, I deliv...</td>\n",
       "    </tr>\n",
       "    <tr>\n",
       "      <th>1</th>\n",
       "      <td>0.316667</td>\n",
       "      <td>Total hours worked has been flat over the past...</td>\n",
       "    </tr>\n",
       "    <tr>\n",
       "      <th>2</th>\n",
       "      <td>0.258333</td>\n",
       "      <td>Core goods prices fell the past two months, bu...</td>\n",
       "    </tr>\n",
       "    <tr>\n",
       "      <th>3</th>\n",
       "      <td>0.200000</td>\n",
       "      <td>Over time, restrictive monetary policy will he...</td>\n",
       "    </tr>\n",
       "    <tr>\n",
       "      <th>4</th>\n",
       "      <td>0.200000</td>\n",
       "      <td>In my remaining comments, I will focus on core...</td>\n",
       "    </tr>\n",
       "  </tbody>\n",
       "</table>\n",
       "</div>"
      ],
      "text/plain": [
       "      score                                               text\n",
       "0  0.475000  At last year's Jackson Hole symposium, I deliv...\n",
       "1  0.316667  Total hours worked has been flat over the past...\n",
       "2  0.258333  Core goods prices fell the past two months, bu...\n",
       "3  0.200000  Over time, restrictive monetary policy will he...\n",
       "4  0.200000  In my remaining comments, I will focus on core..."
      ]
     },
     "execution_count": 44,
     "metadata": {},
     "output_type": "execute_result"
    }
   ],
   "source": [
    "dense_priority_nodes = retriever.retrieve(query)\n",
    "display_search_results(dense_priority_nodes)"
   ]
  },
  {
   "cell_type": "markdown",
   "id": "f65513f0-97bc-409d-8140-5be63f2ebe2a",
   "metadata": {
    "id": "f65513f0-97bc-409d-8140-5be63f2ebe2a"
   },
   "source": [
    "**Conclusion**\n",
    "- In the sparse search results, we can see the terms we are interested directly i.e \"12-month basis\" rather than terms having similar meanings.\n",
    "- In the dense search resutls, we can see the most related or similar text to the query."
   ]
  },
  {
   "cell_type": "markdown",
   "id": "0n9ozZmwPJTm",
   "metadata": {
    "id": "0n9ozZmwPJTm"
   },
   "source": [
    "## Delete the KDB.AI Table\n",
    "Once finished with the table, it is best practice to drop it."
   ]
  },
  {
   "cell_type": "code",
   "execution_count": 45,
   "id": "XLng6hT-PPzi",
   "metadata": {
    "id": "XLng6hT-PPzi"
   },
   "outputs": [],
   "source": [
    "table.drop()"
   ]
  }
 ],
 "metadata": {
  "colab": {
   "provenance": []
  },
  "kernelspec": {
   "display_name": "Python 3 (ipykernel)",
   "language": "python",
   "name": "python3"
  },
  "language_info": {
   "codemirror_mode": {
    "name": "ipython",
    "version": 3
   },
   "file_extension": ".py",
   "mimetype": "text/x-python",
   "name": "python",
   "nbconvert_exporter": "python",
   "pygments_lexer": "ipython3",
   "version": "3.10.15"
  }
 },
 "nbformat": 4,
 "nbformat_minor": 5
}
