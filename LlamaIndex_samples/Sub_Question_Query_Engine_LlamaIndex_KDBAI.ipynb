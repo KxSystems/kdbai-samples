{
 "cells": [
  {
   "cell_type": "markdown",
   "id": "f134f72f-ba98-4eed-ac63-276c3057fa95",
   "metadata": {
    "id": "f134f72f-ba98-4eed-ac63-276c3057fa95"
   },
   "source": [
    "# Sub Question Query Engine - LlamaIndex + KDB.AI\n",
    "\n",
    "Note: This example requires KDB.AI server. Sign up for a free [KDB.AI account](https://kdb.ai/offerings/).\n",
    "\n",
    "In this notebook, we will walk through using KDB.AI and LlamaIndex's Sub Question Query Engine to create a RAG pipeline on a state of the union speech. The goal of the Sub Question Query Engine is to easily handle user queries that contain multiple questions within them by splitting the questions up."
   ]
  },
  {
   "cell_type": "markdown",
   "id": "62d858ff-3397-44fc-b0c8-7136b7daba88",
   "metadata": {
    "id": "62d858ff-3397-44fc-b0c8-7136b7daba88"
   },
   "source": [
    "## Install requirements"
   ]
  },
  {
   "cell_type": "markdown",
   "id": "057f4e5e-72a3-4016-9621-6ac219d69f63",
   "metadata": {
    "id": "057f4e5e-72a3-4016-9621-6ac219d69f63"
   },
   "source": [
    "**Install required packages**"
   ]
  },
  {
   "cell_type": "code",
   "execution_count": 1,
   "id": "54070ca2-534a-4563-ace4-f90313c1de1d",
   "metadata": {
    "id": "54070ca2-534a-4563-ace4-f90313c1de1d",
    "scrolled": true
   },
   "outputs": [],
   "source": [
    "%pip install llama-index llama-index-embeddings-huggingface llama-index-llms-openai llama-index-readers-file llama-index-vector-stores-kdbai\n",
    "%pip install kdbai_client sentence-transformers"
   ]
  },
  {
   "cell_type": "markdown",
   "id": "cc5fcc7c-d2af-48d8-a351-915ce9674ed8",
   "metadata": {
    "id": "cc5fcc7c-d2af-48d8-a351-915ce9674ed8"
   },
   "source": [
    "**Helper Library - To allow nested loop events**\n",
    "\n",
    "---\n",
    "\n"
   ]
  },
  {
   "cell_type": "code",
   "execution_count": 2,
   "id": "7aa17679-f501-4316-8940-f5811f907663",
   "metadata": {
    "id": "7aa17679-f501-4316-8940-f5811f907663"
   },
   "outputs": [],
   "source": [
    "import nest_asyncio\n",
    "\n",
    "nest_asyncio.apply()"
   ]
  },
  {
   "cell_type": "markdown",
   "id": "2780cbaf-a716-4dad-851b-de74e2d982bf",
   "metadata": {
    "id": "2780cbaf-a716-4dad-851b-de74e2d982bf"
   },
   "source": [
    "## Downloading data"
   ]
  },
  {
   "cell_type": "markdown",
   "id": "9d8ae84a-09b5-401c-92f5-0283033cd409",
   "metadata": {
    "id": "9d8ae84a-09b5-401c-92f5-0283033cd409"
   },
   "source": [
    "**Libraries**"
   ]
  },
  {
   "cell_type": "code",
   "execution_count": 3,
   "id": "a79a17d8-965c-48d0-ac41-bb2e4a109b31",
   "metadata": {
    "id": "a79a17d8-965c-48d0-ac41-bb2e4a109b31"
   },
   "outputs": [],
   "source": [
    "import os\n",
    "import urllib.request"
   ]
  },
  {
   "cell_type": "markdown",
   "id": "700eb791-4299-4424-ba34-9c64323cd6a7",
   "metadata": {
    "id": "700eb791-4299-4424-ba34-9c64323cd6a7"
   },
   "source": [
    "**Data directories and paths**"
   ]
  },
  {
   "cell_type": "code",
   "execution_count": 4,
   "id": "87c2e167-6a24-41f4-8f3b-80da3b004e07",
   "metadata": {
    "id": "87c2e167-6a24-41f4-8f3b-80da3b004e07"
   },
   "outputs": [],
   "source": [
    "# Root path\n",
    "root_path = os.path.abspath(os.getcwd())\n",
    "\n",
    "# Data directory and path\n",
    "data_dir = \"data\"\n",
    "data_path = os.path.join(root_path, data_dir)\n",
    "if not os.path.exists(data_path):\n",
    "    os.mkdir(data_path)"
   ]
  },
  {
   "cell_type": "markdown",
   "id": "6117b372-5b6f-4fa4-a53f-49e9d59281c4",
   "metadata": {
    "id": "6117b372-5b6f-4fa4-a53f-49e9d59281c4"
   },
   "source": [
    "**Downloading text**"
   ]
  },
  {
   "cell_type": "code",
   "execution_count": 5,
   "id": "b2aa8ec7-32ef-4847-8183-3bee9a69ed03",
   "metadata": {
    "id": "b2aa8ec7-32ef-4847-8183-3bee9a69ed03"
   },
   "outputs": [],
   "source": [
    "text_url = \"https://raw.githubusercontent.com/KxSystems/kdbai-samples/main/retrieval_augmented_generation/data/state_of_the_union.txt\"\n",
    "with urllib.request.urlopen(text_url) as response:\n",
    "    text_content = response.read().decode(\"utf-8\")\n",
    "\n",
    "text_file_name = text_url.split('/')[-1]\n",
    "text_path = os.path.join(data_path, text_file_name)\n",
    "if not os.path.exists(text_path):\n",
    "    with open(text_path, 'w') as text_file:\n",
    "        text_file.write(text_content)\n",
    "\n",
    "metadata = {\n",
    "    f\"{data_dir}/{text_file_name}\": {\n",
    "        \"title\": text_file_name.split('.')[0],\n",
    "        \"file_path\": text_path\n",
    "    }\n",
    "}"
   ]
  },
  {
   "cell_type": "markdown",
   "id": "9b2b7088-9220-4246-a840-ed4ba518a9e9",
   "metadata": {
    "id": "9b2b7088-9220-4246-a840-ed4ba518a9e9"
   },
   "source": [
    "**Show text data**"
   ]
  },
  {
   "cell_type": "code",
   "execution_count": 6,
   "id": "5bbb4b90-5029-42c5-82a0-e8ce20b8fa61",
   "metadata": {
    "id": "5bbb4b90-5029-42c5-82a0-e8ce20b8fa61"
   },
   "outputs": [],
   "source": [
    "def show_text(text_path):\n",
    "    if os.path.isfile(text_path):\n",
    "        with open(text_path, 'r') as text_file:\n",
    "            contents = text_file.read()\n",
    "        print(contents[:500])\n",
    "        print(\"=\"*80)"
   ]
  },
  {
   "cell_type": "code",
   "execution_count": 7,
   "id": "59cd13c8-8b49-4f07-8915-175c76bb80bf",
   "metadata": {
    "colab": {
     "base_uri": "https://localhost:8080/"
    },
    "id": "59cd13c8-8b49-4f07-8915-175c76bb80bf",
    "outputId": "3826e306-a632-4619-ca82-c315da882e01"
   },
   "outputs": [
    {
     "name": "stdout",
     "output_type": "stream",
     "text": [
      "Madam Speaker, Madam Vice President, our First Lady and Second Gentleman. Members of Congress and the Cabinet. Justices of the Supreme Court. My fellow Americans.  \n",
      "\n",
      "Last year COVID-19 kept us apart. This year we are finally together again. \n",
      "\n",
      "Tonight, we meet as Democrats Republicans and Independents. But most importantly as Americans. \n",
      "\n",
      "With a duty to one another to the American people to the Constitution. \n",
      "\n",
      "And with an unwavering resolve that freedom will always triumph over tyranny. \n",
      "\n",
      "Six day\n",
      "================================================================================\n"
     ]
    }
   ],
   "source": [
    "show_text(text_path)"
   ]
  },
  {
   "cell_type": "markdown",
   "id": "8782d349-0ecc-4692-9b16-0ee22afc2d3c",
   "metadata": {
    "id": "8782d349-0ecc-4692-9b16-0ee22afc2d3c"
   },
   "source": [
    "## KDB.AI Vector Database - session and tables"
   ]
  },
  {
   "cell_type": "markdown",
   "id": "4dcc3ce4-1580-488b-9bca-61076013dbaa",
   "metadata": {
    "id": "4dcc3ce4-1580-488b-9bca-61076013dbaa"
   },
   "source": [
    "**Libraries**"
   ]
  },
  {
   "cell_type": "code",
   "execution_count": 8,
   "id": "4338610e-6b47-4589-ba5e-151ab974631f",
   "metadata": {
    "id": "4338610e-6b47-4589-ba5e-151ab974631f"
   },
   "outputs": [],
   "source": [
    "import kdbai_client as kdbai\n",
    "from getpass import getpass"
   ]
  },
  {
   "cell_type": "markdown",
   "id": "4a5bb078-1e01-49df-8971-718d7e0bc76c",
   "metadata": {
    "id": "4a5bb078-1e01-49df-8971-718d7e0bc76c"
   },
   "source": [
    "**KDB.ai session**"
   ]
  },
  {
   "cell_type": "markdown",
   "id": "LhY6jyI2bNQk",
   "metadata": {
    "id": "LhY6jyI2bNQk"
   },
   "source": [
    "With the embeddings created, we need to store them in a vector database to enable efficient searching.\n",
    "\n",
    "### Define KDB.AI Session\n",
    "\n",
    "To use KDB.AI Server, you will need download and run your own container.\n",
    "To do this, you will first need to sign up for free [here](https://trykdb.kx.com/kdbaiserver/signup/).\n",
    "\n",
    "You will receive an email with the required license file and bearer token needed to download your instance.\n",
    "Follow instructions in the signup email to get your session up and running.\n",
    "\n",
    "Once the [setup steps](https://code.kx.com/kdbai/gettingStarted/kdb-ai-server-setup.html) are complete you can then connect to your KDB.AI Server session using `kdbai.Session` and passing your local endpoint.\n"
   ]
  },
  {
   "cell_type": "code",
   "execution_count": null,
   "id": "UWZ_jBw8bTyW",
   "metadata": {
    "id": "UWZ_jBw8bTyW"
   },
   "outputs": [],
   "source": [
    "#Set up KDB.AI server endpoint \n",
    "KDBAI_ENDPOINT = (\n",
    "    os.environ[\"KDBAI_ENDPOINT\"]\n",
    "    if \"KDBAI_ENDPOINT\" in os.environ\n",
    "    else \"http://localhost:8082\"\n",
    ")\n",
    "\n",
    "#connect to KDB.AI Server, default mode is qipc\n",
    "session = kdbai.Session(endpoint=KDBAI_ENDPOINT)\n"
   ]
  },
  {
   "cell_type": "markdown",
   "id": "1785cada-7d7e-4f88-a7a7-60287b0b2110",
   "metadata": {
    "id": "1785cada-7d7e-4f88-a7a7-60287b0b2110"
   },
   "source": [
    "**KDB.AI table**"
   ]
  },
  {
   "cell_type": "code",
   "execution_count": 11,
   "id": "5ac72f6f-1226-484a-9c04-6bc89002973f",
   "metadata": {
    "id": "5ac72f6f-1226-484a-9c04-6bc89002973f"
   },
   "outputs": [],
   "source": [
    "# Table - name & schema\n",
    "table_name = \"sqqe_docs\"\n",
    "\n",
    "table_schema = [\n",
    "        dict(name=\"document_id\", type=\"bytes\"),\n",
    "        dict(name=\"text\", type=\"bytes\"),\n",
    "        dict(name=\"embeddings\", type=\"float32s\"),\n",
    "        dict(name=\"title\", type=\"str\"),\n",
    "        dict(name=\"file_path\", type=\"str\")\n",
    "    ]\n",
    "\n",
    "indexFlat = {\n",
    "        \"name\": \"flat\",\n",
    "        \"type\": \"flat\",\n",
    "        \"column\": \"embeddings\",\n",
    "        \"params\": {'dims': 768, 'metric': 'L2'},\n",
    "    }"
   ]
  },
  {
   "cell_type": "code",
   "execution_count": 12,
   "id": "b6adf640",
   "metadata": {},
   "outputs": [],
   "source": [
    "# Connect with kdbai database\n",
    "db = session.database(\"default\")"
   ]
  },
  {
   "cell_type": "code",
   "execution_count": 13,
   "id": "7c2852e9-f668-46b2-8952-89c1d0c95892",
   "metadata": {
    "id": "7c2852e9-f668-46b2-8952-89c1d0c95892"
   },
   "outputs": [],
   "source": [
    "# Drop table if exists\n",
    "try:\n",
    "    db.table(table_name).drop()\n",
    "except kdbai.KDBAIException:\n",
    "    pass"
   ]
  },
  {
   "cell_type": "code",
   "execution_count": 14,
   "id": "8ae4b5c0-6cac-4189-9305-55c3464a6e29",
   "metadata": {
    "id": "8ae4b5c0-6cac-4189-9305-55c3464a6e29"
   },
   "outputs": [],
   "source": [
    "# Create table\n",
    "table = db.create_table(table_name, table_schema, indexes=[indexFlat])"
   ]
  },
  {
   "cell_type": "markdown",
   "id": "46d1b3ef-44d5-4d89-96dd-2f9996a0a7e8",
   "metadata": {
    "id": "46d1b3ef-44d5-4d89-96dd-2f9996a0a7e8"
   },
   "source": [
    "## Loading data"
   ]
  },
  {
   "cell_type": "markdown",
   "id": "b5115549-73bb-43b7-8a9d-ec6619191c32",
   "metadata": {
    "id": "b5115549-73bb-43b7-8a9d-ec6619191c32"
   },
   "source": [
    "**Libraries**"
   ]
  },
  {
   "cell_type": "code",
   "execution_count": 15,
   "id": "7c80df4f-d690-4f0a-85d3-e36622072b6e",
   "metadata": {
    "id": "7c80df4f-d690-4f0a-85d3-e36622072b6e"
   },
   "outputs": [],
   "source": [
    "from llama_index.core import SimpleDirectoryReader"
   ]
  },
  {
   "cell_type": "markdown",
   "id": "09a4abe0-701f-4674-8106-4e040eee2b65",
   "metadata": {
    "id": "09a4abe0-701f-4674-8106-4e040eee2b65"
   },
   "source": [
    "**Loading data with metadata**"
   ]
  },
  {
   "cell_type": "code",
   "execution_count": 16,
   "id": "54a1db63-5405-4298-9101-3a3952ef816d",
   "metadata": {
    "id": "54a1db63-5405-4298-9101-3a3952ef816d"
   },
   "outputs": [],
   "source": [
    "# Helper function - for getting metadata\n",
    "def get_metadata(file_path):\n",
    "    return metadata[file_path]"
   ]
  },
  {
   "cell_type": "code",
   "execution_count": 17,
   "id": "c56d99f8-12cf-45a7-9f8c-52d47d5fe939",
   "metadata": {
    "colab": {
     "base_uri": "https://localhost:8080/"
    },
    "id": "c56d99f8-12cf-45a7-9f8c-52d47d5fe939",
    "outputId": "13a2517a-1422-4dd0-ffcb-801d9e6768c1"
   },
   "outputs": [
    {
     "name": "stdout",
     "output_type": "stream",
     "text": [
      "CPU times: user 11.3 ms, sys: 0 ns, total: 11.3 ms\n",
      "Wall time: 10.3 ms\n"
     ]
    },
    {
     "data": {
      "text/plain": [
       "1"
      ]
     },
     "execution_count": 17,
     "metadata": {},
     "output_type": "execute_result"
    }
   ],
   "source": [
    "%%time\n",
    "\n",
    "local_files = [fpath for fpath in metadata]\n",
    "documents = SimpleDirectoryReader(input_files=local_files, file_metadata=get_metadata)\n",
    "\n",
    "docs = documents.load_data()\n",
    "len(docs)"
   ]
  },
  {
   "cell_type": "markdown",
   "id": "a69f0061-1ce7-4d57-84e5-49cd2acf2652",
   "metadata": {
    "id": "a69f0061-1ce7-4d57-84e5-49cd2acf2652"
   },
   "source": [
    "## Creating Vector Store Index for data"
   ]
  },
  {
   "cell_type": "markdown",
   "id": "0bf4617a-efcb-47e0-a3c7-e148c87a52bf",
   "metadata": {
    "id": "0bf4617a-efcb-47e0-a3c7-e148c87a52bf"
   },
   "source": [
    "**OpenAI API Key**"
   ]
  },
  {
   "cell_type": "code",
   "execution_count": 18,
   "id": "c5ef3a99-e891-4026-b04b-c1a774d051f4",
   "metadata": {
    "id": "c5ef3a99-e891-4026-b04b-c1a774d051f4"
   },
   "outputs": [],
   "source": [
    "from getpass import getpass"
   ]
  },
  {
   "cell_type": "code",
   "execution_count": 19,
   "id": "c9186de3-03b5-45cc-8c7c-edc9db43a330",
   "metadata": {
    "colab": {
     "base_uri": "https://localhost:8080/"
    },
    "id": "c9186de3-03b5-45cc-8c7c-edc9db43a330",
    "outputId": "534003dd-3cf9-4973-b23b-3c4b8e7959b2"
   },
   "outputs": [],
   "source": [
    "os.environ[\"OPENAI_API_KEY\"] = (\n",
    "    os.environ[\"OPENAI_API_KEY\"]\n",
    "    if \"OPENAI_API_KEY\" in os.environ\n",
    "    else getpass(\"OpenAI API key: \")\n",
    ")\n"
   ]
  },
  {
   "cell_type": "markdown",
   "id": "24942ff8-59dc-4f2c-8ad5-4163f65ab2f7",
   "metadata": {
    "id": "24942ff8-59dc-4f2c-8ad5-4163f65ab2f7"
   },
   "source": [
    "**Text embeddings model**"
   ]
  },
  {
   "cell_type": "code",
   "execution_count": null,
   "id": "d063169d-1c36-404f-a79d-4ab29e1d266f",
   "metadata": {
    "id": "d063169d-1c36-404f-a79d-4ab29e1d266f"
   },
   "outputs": [],
   "source": [
    "from llama_index.embeddings.huggingface import HuggingFaceEmbedding"
   ]
  },
  {
   "cell_type": "code",
   "execution_count": null,
   "id": "fd01617e-fe4b-46c0-9127-a60dcca54ba2",
   "metadata": {
    "colab": {
     "base_uri": "https://localhost:8080/",
     "height": 528
    },
    "id": "fd01617e-fe4b-46c0-9127-a60dcca54ba2",
    "outputId": "2f903c85-b05d-459a-cc69-27c66a7750b1"
   },
   "outputs": [],
   "source": [
    "EMBEDDING = \"sentence-transformers/all-mpnet-base-v2\"\n",
    "embeddings_model = HuggingFaceEmbedding(model_name=EMBEDDING)"
   ]
  },
  {
   "cell_type": "markdown",
   "id": "14de2b8c-0381-4676-a8ca-545b31ed748d",
   "metadata": {
    "id": "14de2b8c-0381-4676-a8ca-545b31ed748d"
   },
   "source": [
    "**LLM model**"
   ]
  },
  {
   "cell_type": "code",
   "execution_count": 22,
   "id": "89f26d0a-50f8-4727-aa24-7fdd2f798edf",
   "metadata": {
    "id": "89f26d0a-50f8-4727-aa24-7fdd2f798edf"
   },
   "outputs": [],
   "source": [
    "from llama_index.llms.openai import OpenAI"
   ]
  },
  {
   "cell_type": "code",
   "execution_count": 23,
   "id": "44f5f8ea-7e1b-4d83-b2f1-a4fd4ad804e0",
   "metadata": {
    "id": "44f5f8ea-7e1b-4d83-b2f1-a4fd4ad804e0"
   },
   "outputs": [],
   "source": [
    "LLM = \"gpt-4o-mini\"\n",
    "llm_model = OpenAI(temperature=0, model=LLM)"
   ]
  },
  {
   "cell_type": "markdown",
   "id": "35b2019f-14c9-4d57-8113-9b794d0269e6",
   "metadata": {
    "id": "35b2019f-14c9-4d57-8113-9b794d0269e6"
   },
   "source": [
    "**Setting callbacks and debug handler**"
   ]
  },
  {
   "cell_type": "code",
   "execution_count": 24,
   "id": "5c34c26e-8eba-4a2a-b834-918b0f412a0a",
   "metadata": {
    "id": "5c34c26e-8eba-4a2a-b834-918b0f412a0a"
   },
   "outputs": [],
   "source": [
    "from llama_index.core.callbacks import LlamaDebugHandler\n",
    "from llama_index.core.callbacks import CallbackManager"
   ]
  },
  {
   "cell_type": "code",
   "execution_count": 25,
   "id": "a646792f-0b1b-4088-83f9-47f1034f7f58",
   "metadata": {
    "id": "a646792f-0b1b-4088-83f9-47f1034f7f58"
   },
   "outputs": [],
   "source": [
    "# Using the LlamaDebugHandler to print the trace of the sub questions captured by the SUB_QUESTION callback event type\n",
    "llama_debug = LlamaDebugHandler(print_trace_on_end=True)\n",
    "callback_manager = CallbackManager([llama_debug])"
   ]
  },
  {
   "cell_type": "markdown",
   "id": "43af046c-cbd8-4d92-8369-69a053a84200",
   "metadata": {
    "id": "43af046c-cbd8-4d92-8369-69a053a84200"
   },
   "source": [
    "**Create vector store, storage context and the index for retrieval, query purposes**"
   ]
  },
  {
   "cell_type": "code",
   "execution_count": 26,
   "id": "ba5a78bd-ec07-4799-80ad-24f976bb53d9",
   "metadata": {
    "id": "ba5a78bd-ec07-4799-80ad-24f976bb53d9"
   },
   "outputs": [],
   "source": [
    "from llama_index.vector_stores.kdbai import KDBAIVectorStore\n",
    "from llama_index.core import StorageContext\n",
    "from llama_index.core import Settings\n",
    "from llama_index.core.indices import VectorStoreIndex\n",
    "from llama_index.core.node_parser import SentenceSplitter"
   ]
  },
  {
   "cell_type": "code",
   "execution_count": 27,
   "id": "247968f8-88f4-4cbf-a62c-a33ef21049ed",
   "metadata": {
    "colab": {
     "base_uri": "https://localhost:8080/"
    },
    "id": "247968f8-88f4-4cbf-a62c-a33ef21049ed",
    "outputId": "209da4f5-a775-4354-d2d1-5ec3f692a654",
    "scrolled": true
   },
   "outputs": [
    {
     "name": "stdout",
     "output_type": "stream",
     "text": [
      "**********\n",
      "Trace: index_construction\n",
      "    |_embedding -> 9.827609 seconds\n",
      "    |_embedding -> 9.82735 seconds\n",
      "**********\n",
      "CPU times: user 7.24 s, sys: 4.45 s, total: 11.7 s\n",
      "Wall time: 10.5 s\n"
     ]
    }
   ],
   "source": [
    "%%time\n",
    "\n",
    "# Vector Store\n",
    "text_store = KDBAIVectorStore(table=table)\n",
    "\n",
    "# Storage context\n",
    "storage_context = StorageContext.from_defaults(vector_store=text_store)\n",
    "\n",
    "# Settings\n",
    "Settings.callback_manager = callback_manager\n",
    "Settings.transformations = [SentenceSplitter(chunk_size=500, chunk_overlap=0)]\n",
    "Settings.embed_model = embeddings_model\n",
    "Settings.llm = llm_model\n",
    "\n",
    "# Vector Store Index\n",
    "index = VectorStoreIndex.from_documents(\n",
    "    docs,\n",
    "    use_async=True,\n",
    "    storage_context=storage_context,\n",
    ")"
   ]
  },
  {
   "cell_type": "markdown",
   "id": "dcd5af0a-932e-47e2-b06f-612cc578865b",
   "metadata": {
    "id": "dcd5af0a-932e-47e2-b06f-612cc578865b"
   },
   "source": [
    "## Setup sub question query engine"
   ]
  },
  {
   "cell_type": "markdown",
   "id": "3fb2c86a-53c6-463f-ab03-37c04407945e",
   "metadata": {
    "id": "3fb2c86a-53c6-463f-ab03-37c04407945e"
   },
   "source": [
    "**Index as Vector Query Engine**"
   ]
  },
  {
   "cell_type": "code",
   "execution_count": 28,
   "id": "66204547-10ed-4e34-81d3-b49fd25a949d",
   "metadata": {
    "id": "66204547-10ed-4e34-81d3-b49fd25a949d"
   },
   "outputs": [],
   "source": [
    "# Vector query engine\n",
    "vector_query_engine = index.as_query_engine(\n",
    "                                vector_store_kwargs={\n",
    "                                    \"index\" : \"flat\",\n",
    "                                },\n",
    "                            )"
   ]
  },
  {
   "cell_type": "markdown",
   "id": "17b37b91-edfe-43c2-b603-2e74d058c90d",
   "metadata": {
    "id": "17b37b91-edfe-43c2-b603-2e74d058c90d"
   },
   "source": [
    "**Setting up Sub Question Query Engine**"
   ]
  },
  {
   "cell_type": "code",
   "execution_count": 29,
   "id": "df7779b4-6ea8-48b0-951e-99f9e82b3871",
   "metadata": {
    "id": "df7779b4-6ea8-48b0-951e-99f9e82b3871"
   },
   "outputs": [],
   "source": [
    "from llama_index.core.tools import QueryEngineTool, ToolMetadata\n",
    "from llama_index.core.query_engine import SubQuestionQueryEngine"
   ]
  },
  {
   "cell_type": "code",
   "execution_count": 30,
   "id": "eb9d7e79-999e-4a17-9089-824e74b7f26e",
   "metadata": {
    "id": "eb9d7e79-999e-4a17-9089-824e74b7f26e"
   },
   "outputs": [],
   "source": [
    "# setup base query engine as tool\n",
    "query_engine_tools = [\n",
    "    QueryEngineTool(\n",
    "        query_engine=vector_query_engine,\n",
    "        metadata=ToolMetadata(\n",
    "            name=\"state_of_union\",\n",
    "            description=\"State of Union Speech\",\n",
    "        ),\n",
    "    ),\n",
    "]\n",
    "\n",
    "query_engine = SubQuestionQueryEngine.from_defaults(\n",
    "    query_engine_tools=query_engine_tools,\n",
    "    use_async=True,\n",
    ")"
   ]
  },
  {
   "cell_type": "markdown",
   "id": "12137187-cfe5-40ff-a93e-6716b5a571c3",
   "metadata": {
    "id": "12137187-cfe5-40ff-a93e-6716b5a571c3"
   },
   "source": [
    "**Querying the Sub Question Query Engine**"
   ]
  },
  {
   "cell_type": "code",
   "execution_count": 31,
   "id": "519608b8-5be3-4e4b-8ca0-e77b9631c09e",
   "metadata": {
    "colab": {
     "base_uri": "https://localhost:8080/"
    },
    "id": "519608b8-5be3-4e4b-8ca0-e77b9631c09e",
    "outputId": "63c8f314-84b6-41fd-9b17-2a116e26d0b5"
   },
   "outputs": [
    {
     "name": "stdout",
     "output_type": "stream",
     "text": [
      "Generated 3 sub questions.\n",
      "\u001b[1;3;38;2;237;90;200m[state_of_union] Q: What did the president say about Ukraine in the State of the Union speech?\n",
      "\u001b[0m\u001b[1;3;38;2;90;149;237m[state_of_union] Q: What are the four common sense steps mentioned by the president in the State of the Union speech?\n",
      "\u001b[0m\u001b[1;3;38;2;11;159;203m[state_of_union] Q: How does the president plan to fight inflation according to the State of the Union speech?\n",
      "\u001b[0m\u001b[1;3;38;2;90;149;237m[state_of_union] A: The four common sense steps mentioned by the president in the State of the Union speech are to stay protected with vaccines and treatments, ensure vaccination and boosting for the highest degree of protection, continue efforts to vaccinate more Americans, and maintain vigilance against the virus as it mutates and spreads.\n",
      "\u001b[0m\u001b[1;3;38;2;237;90;200m[state_of_union] A: The president expressed strong support for Ukraine, highlighting the courage and determination of the Ukrainian people in their defense against Russian aggression. He emphasized that the United States stands with Ukraine and is providing over $1 billion in direct assistance to help them. While clarifying that U.S. forces would not engage in conflict with Russian forces in Ukraine, he stated that American military resources are mobilized to defend NATO allies. The president also acknowledged the challenges Ukraine would face in the coming days and weeks but affirmed that the Ukrainian people would not tolerate attempts to undermine their independence. He mentioned the coordinated international response to support Ukraine and the economic measures being taken against Russia.\n",
      "\u001b[0m\u001b[1;3;38;2;11;159;203m[state_of_union] A: The president plans to fight inflation by lowering costs rather than wages, increasing the production of goods like cars and semiconductors in America, and enhancing infrastructure and innovation. Key components of the plan include capping the cost of prescription drugs, specifically insulin, at $35 a month, closing tax loopholes for the wealthy, and promoting competition to prevent price exploitation. Additionally, the plan aims to reduce the deficit and ensure that the economy grows while providing families with a fair shot. The president also emphasizes the importance of training and hiring based on skills rather than degrees to support workers.\n",
      "\u001b[0m**********\n",
      "Trace: query\n",
      "    |_query -> 12.019963 seconds\n",
      "      |_llm -> 2.538993 seconds\n",
      "      |_sub_question -> 3.944205 seconds\n",
      "        |_query -> 3.943248 seconds\n",
      "          |_retrieve -> 0.16153 seconds\n",
      "            |_embedding -> 0.154742 seconds\n",
      "          |_synthesize -> 3.781092 seconds\n",
      "            |_templating -> 1.8e-05 seconds\n",
      "            |_llm -> 3.775643 seconds\n",
      "      |_sub_question -> 2.60479 seconds\n",
      "        |_query -> 2.60426 seconds\n",
      "          |_retrieve -> 0.058268 seconds\n",
      "            |_embedding -> 0.050883 seconds\n",
      "          |_synthesize -> 2.545506 seconds\n",
      "            |_templating -> 1.9e-05 seconds\n",
      "            |_llm -> 2.539947 seconds\n",
      "      |_sub_question -> 4.181837 seconds\n",
      "        |_query -> 4.181234 seconds\n",
      "          |_retrieve -> 0.05158 seconds\n",
      "            |_embedding -> 0.04598 seconds\n",
      "          |_synthesize -> 4.129155 seconds\n",
      "            |_templating -> 2.7e-05 seconds\n",
      "            |_llm -> 4.124066 seconds\n",
      "      |_synthesize -> 5.034915 seconds\n",
      "        |_templating -> 1.7e-05 seconds\n",
      "        |_llm -> 5.031635 seconds\n",
      "**********\n"
     ]
    }
   ],
   "source": [
    "response = query_engine.query(\n",
    "    \"what did the president say about ukraine, what are the four common sense steps and how he planned to fight inflation?\"\n",
    ")"
   ]
  },
  {
   "cell_type": "code",
   "execution_count": 32,
   "id": "e7a50222-9ff0-4ed4-8c93-365a6c042f7e",
   "metadata": {
    "colab": {
     "base_uri": "https://localhost:8080/"
    },
    "id": "e7a50222-9ff0-4ed4-8c93-365a6c042f7e",
    "outputId": "e399ffc1-5224-468c-b8e8-6c1b64e54109"
   },
   "outputs": [
    {
     "name": "stdout",
     "output_type": "stream",
     "text": [
      "The president expressed strong support for Ukraine, highlighting the courage and determination of the Ukrainian people in their defense against Russian aggression. He affirmed that the United States stands with Ukraine, providing over $1 billion in direct assistance, while clarifying that U.S. forces would not engage in conflict with Russian forces in Ukraine. He acknowledged the challenges Ukraine would face and emphasized the coordinated international response to support them.\n",
      "\n",
      "The four common sense steps mentioned are to stay protected with vaccines and treatments, ensure vaccination and boosting for the highest degree of protection, continue efforts to vaccinate more Americans, and maintain vigilance against the virus as it mutates and spreads.\n",
      "\n",
      "To fight inflation, the president plans to lower costs rather than wages, increase the production of goods in America, and enhance infrastructure and innovation. Key components include capping the cost of prescription drugs, closing tax loopholes for the wealthy, promoting competition to prevent price exploitation, reducing the deficit, and ensuring economic growth while providing families with a fair shot. He also emphasizes training and hiring based on skills rather than degrees to support workers.\n"
     ]
    }
   ],
   "source": [
    "print(response)"
   ]
  },
  {
   "cell_type": "markdown",
   "id": "b5867c4f-e601-41b8-9e60-bd6ad9530720",
   "metadata": {
    "id": "b5867c4f-e601-41b8-9e60-bd6ad9530720"
   },
   "source": [
    "**Iterate through all subquestions captured in SUB_QUESTION event**"
   ]
  },
  {
   "cell_type": "code",
   "execution_count": 33,
   "id": "0053423a-6f0c-47dc-b2bf-11773c08473d",
   "metadata": {
    "id": "0053423a-6f0c-47dc-b2bf-11773c08473d"
   },
   "outputs": [],
   "source": [
    "from llama_index.core.callbacks import CBEventType, EventPayload"
   ]
  },
  {
   "cell_type": "code",
   "execution_count": 34,
   "id": "04107827-4f16-4319-9e30-6c6a51737b53",
   "metadata": {
    "colab": {
     "base_uri": "https://localhost:8080/"
    },
    "id": "04107827-4f16-4319-9e30-6c6a51737b53",
    "outputId": "0c0bfb04-9b05-4cde-9aac-f178b44f0283"
   },
   "outputs": [
    {
     "name": "stdout",
     "output_type": "stream",
     "text": [
      "Sub Question 0: What did the president say about Ukraine in the State of the Union speech?\n",
      "Answer: The president expressed strong support for Ukraine, highlighting the courage and determination of the Ukrainian people in their defense against Russian aggression. He emphasized that the United States stands with Ukraine and is providing over $1 billion in direct assistance to help them. While clarifying that U.S. forces would not engage in conflict with Russian forces in Ukraine, he stated that American military resources are mobilized to defend NATO allies. The president also acknowledged the challenges Ukraine would face in the coming days and weeks but affirmed that the Ukrainian people would not tolerate attempts to undermine their independence. He mentioned the coordinated international response to support Ukraine and the economic measures being taken against Russia.\n",
      "================================================================================\n",
      "Sub Question 1: What are the four common sense steps mentioned by the president in the State of the Union speech?\n",
      "Answer: The four common sense steps mentioned by the president in the State of the Union speech are to stay protected with vaccines and treatments, ensure vaccination and boosting for the highest degree of protection, continue efforts to vaccinate more Americans, and maintain vigilance against the virus as it mutates and spreads.\n",
      "================================================================================\n",
      "Sub Question 2: How does the president plan to fight inflation according to the State of the Union speech?\n",
      "Answer: The president plans to fight inflation by lowering costs rather than wages, increasing the production of goods like cars and semiconductors in America, and enhancing infrastructure and innovation. Key components of the plan include capping the cost of prescription drugs, specifically insulin, at $35 a month, closing tax loopholes for the wealthy, and promoting competition to prevent price exploitation. Additionally, the plan aims to reduce the deficit and ensure that the economy grows while providing families with a fair shot. The president also emphasizes the importance of training and hiring based on skills rather than degrees to support workers.\n",
      "================================================================================\n"
     ]
    }
   ],
   "source": [
    "for i, (start_event, end_event) in enumerate(\n",
    "    llama_debug.get_event_pairs(CBEventType.SUB_QUESTION)\n",
    "):\n",
    "    end_event_exception = end_event.payload.get(EventPayload.EXCEPTION)\n",
    "    if end_event_exception is None:\n",
    "        qa_pair = end_event.payload[EventPayload.SUB_QUESTION]\n",
    "        print(\"Sub Question \" + str(i) + \": \" + qa_pair.sub_q.sub_question.strip())\n",
    "        print(\"Answer: \" + qa_pair.answer.strip())\n",
    "        print(\"=\"*80)"
   ]
  },
  {
   "cell_type": "markdown",
   "id": "VkyiADnChSnE",
   "metadata": {
    "id": "VkyiADnChSnE"
   },
   "source": [
    "## Delete the KDB.AI Table\n",
    "Once finished with the table, it is best practice to drop it."
   ]
  },
  {
   "cell_type": "code",
   "execution_count": 35,
   "id": "5c4118ee-8632-48af-b389-0e8da13480fc",
   "metadata": {
    "colab": {
     "base_uri": "https://localhost:8080/"
    },
    "id": "5c4118ee-8632-48af-b389-0e8da13480fc",
    "outputId": "0aa8bfd3-91fe-4a14-ca19-5821b5a65270"
   },
   "outputs": [],
   "source": [
    "table.drop()"
   ]
  }
 ],
 "metadata": {
  "colab": {
   "provenance": []
  },
  "kernelspec": {
   "display_name": "Python 3 (ipykernel)",
   "language": "python",
   "name": "python3"
  },
  "language_info": {
   "codemirror_mode": {
    "name": "ipython",
    "version": 3
   },
   "file_extension": ".py",
   "mimetype": "text/x-python",
   "name": "python",
   "nbconvert_exporter": "python",
   "pygments_lexer": "ipython3",
   "version": "3.10.15"
  }
 },
 "nbformat": 4,
 "nbformat_minor": 5
}
