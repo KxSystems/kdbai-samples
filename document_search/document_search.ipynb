{
  "cells": [
    {
      "cell_type": "markdown",
      "id": "3280b01a-d3b7-4ef6-9494-789d15bc48ec",
      "metadata": {
        "id": "3280b01a-d3b7-4ef6-9494-789d15bc48ec"
      },
      "source": [
        "# Semantic Search on PDF Documents\n",
        "\n",
        "##### Note: This example requires a KDB.AI endpoint and API key. Sign up for a free [KDB.AI account](https://kdb.ai/get-started).\n",
        "\n",
        "This example demonstrates how to use KDB.AI to run semantic search on unstructured text documents.\n",
        "\n",
        "Semantic search allows users to perform searches based on the meaning or similarity of the data rather than exact matches. It works by converting the query into a vector representation and then finding similar vectors in the database. This way, even if the query and the data in the database are not identical, the system can identify and retrieve the most relevant results based on their semantic meaning.\n",
        "\n",
        "### Aim\n",
        "In this tutorial, we'll walk you through the process of performing semantic search on documents, taking PDFs as example, using KDB.AI as the vector store. We will cover the following topics:\n",
        "\n",
        "0. Load PDF Data\n",
        "1. Create Sentence Vector Embeddings\n",
        "2. Store Embeddings in KDB.AI\n",
        "3. Search For Similar Sentences To A Target Sentence\n",
        "4. Delete the KDB.AI Table\n",
        "\n",
        "---"
      ]
    },
    {
      "cell_type": "markdown",
      "id": "75362bc9",
      "metadata": {
        "id": "75362bc9"
      },
      "source": [
        "## 0. Setup"
      ]
    },
    {
      "cell_type": "markdown",
      "id": "dda3d787",
      "metadata": {
        "id": "dda3d787"
      },
      "source": [
        "### Install dependencies\n",
        "\n",
        "In order to successfully run this sample, note the following steps depending on where you are running this notebook:\n",
        "\n",
        "-***Run Locally / Private Environment:*** The [Setup](https://github.com/KxSystems/kdbai-samples/blob/main/README.md#setup) steps in the repository's `README.md` will guide you on prerequisites and how to run this with Jupyter.\n",
        "\n",
        "\n",
        "-***Colab / Hosted Environment:*** Open this notebook in Colab and run through the cells."
      ]
    },
    {
      "cell_type": "markdown",
      "id": "b19c5107-001e-40c2-bfe7-6c9c99e4846d",
      "metadata": {
        "id": "b19c5107-001e-40c2-bfe7-6c9c99e4846d"
      },
      "source": [
        "### Set Environment Variables"
      ]
    },
    {
      "cell_type": "code",
      "execution_count": null,
      "id": "be0c1ece",
      "metadata": {},
      "outputs": [],
      "source": [
        "!pip install kdbai_client"
      ]
    },
    {
      "cell_type": "code",
      "execution_count": null,
      "id": "8bad9d73",
      "metadata": {
        "id": "8bad9d73"
      },
      "outputs": [],
      "source": [
        "!pip install pypdf sentence_transformers"
      ]
    },
    {
      "cell_type": "code",
      "execution_count": null,
      "id": "f23f6513",
      "metadata": {
        "id": "f23f6513"
      },
      "outputs": [],
      "source": [
        "### !!! Only run this cell if you need to download the data into your environment, for example in Colab\n",
        "### This downloads research paper pdf into your environment\n",
        "!mkdir ./data\n",
        "!wget -P ./data https://raw.githubusercontent.com/KxSystems/kdbai-samples/main/document_search/data/research_paper.pdf"
      ]
    },
    {
      "cell_type": "code",
      "execution_count": 4,
      "id": "2b1c0d58-c704-46e9-8705-93918444abd2",
      "metadata": {
        "id": "2b1c0d58-c704-46e9-8705-93918444abd2"
      },
      "outputs": [],
      "source": [
        "import os"
      ]
    },
    {
      "cell_type": "code",
      "execution_count": 5,
      "id": "e2784416-e45f-4c51-ad12-3ce84382ff38",
      "metadata": {
        "id": "e2784416-e45f-4c51-ad12-3ce84382ff38"
      },
      "outputs": [],
      "source": [
        "### ignore tensorflow warnings\n",
        "os.environ[\"TF_CPP_MIN_LOG_LEVEL\"] = \"3\""
      ]
    },
    {
      "cell_type": "markdown",
      "id": "21979389",
      "metadata": {
        "id": "21979389"
      },
      "source": [
        "### Import Packages"
      ]
    },
    {
      "cell_type": "code",
      "execution_count": null,
      "id": "e6858852",
      "metadata": {
        "id": "e6858852"
      },
      "outputs": [],
      "source": [
        "# load data\n",
        "import pypdf\n",
        "import nltk\n",
        "from nltk.tokenize import sent_tokenize\n",
        "nltk.download('punkt')"
      ]
    },
    {
      "cell_type": "code",
      "execution_count": null,
      "id": "9b5a731a",
      "metadata": {
        "id": "9b5a731a"
      },
      "outputs": [],
      "source": [
        "# embeddings\n",
        "import numpy as np\n",
        "import pandas as pd\n",
        "from sentence_transformers import SentenceTransformer"
      ]
    },
    {
      "cell_type": "code",
      "execution_count": 8,
      "id": "2030c51f",
      "metadata": {
        "id": "2030c51f"
      },
      "outputs": [],
      "source": [
        "# vector DB\n",
        "import os\n",
        "import kdbai_client as kdbai\n",
        "from getpass import getpass\n",
        "import time"
      ]
    },
    {
      "cell_type": "markdown",
      "id": "8594c911",
      "metadata": {
        "id": "8594c911"
      },
      "source": [
        "### Configure Console"
      ]
    },
    {
      "cell_type": "code",
      "execution_count": 9,
      "id": "b870117b",
      "metadata": {
        "id": "b870117b"
      },
      "outputs": [],
      "source": [
        "pd.set_option(\"display.max_colwidth\", 300)"
      ]
    },
    {
      "cell_type": "markdown",
      "id": "8a425b33",
      "metadata": {
        "id": "8a425b33"
      },
      "source": [
        "### Define Helper Functions"
      ]
    },
    {
      "cell_type": "code",
      "execution_count": 10,
      "id": "9a135635",
      "metadata": {
        "id": "9a135635"
      },
      "outputs": [],
      "source": [
        "def show_df(df: pd.DataFrame) -> pd.DataFrame:\n",
        "    print(df.shape)\n",
        "    return df.head()"
      ]
    },
    {
      "cell_type": "markdown",
      "id": "48826990",
      "metadata": {
        "id": "48826990"
      },
      "source": [
        "## 1. Load PDF Data"
      ]
    },
    {
      "cell_type": "markdown",
      "id": "b2992812-4705-489d-974f-b7b44132343a",
      "metadata": {
        "id": "b2992812-4705-489d-974f-b7b44132343a"
      },
      "source": [
        "### Read Text From PDF Document\n",
        "\n",
        "We leverage the power of PyPDF2 for PDF processing and `nltk` for advanced natural language processing. The code below extracts content from each page of the PDF and processes it to identify sentences.\n",
        "\n",
        "The PDF we are using is [this research paper](https://arxiv.org/pdf/2308.05801.pdf) presenting information on the formation of Interstellar Objects in the Milky Way."
      ]
    },
    {
      "cell_type": "code",
      "execution_count": 11,
      "id": "e0b573ca",
      "metadata": {
        "id": "e0b573ca"
      },
      "outputs": [],
      "source": [
        "# Read PDF file\n",
        "with open(\"data/research_paper.pdf\", \"rb\") as pdf_file:\n",
        "    pdf_pages = pypdf.PdfReader(pdf_file).pages\n",
        "    page_list = [page.extract_text() for page in pdf_pages]"
      ]
    },
    {
      "cell_type": "code",
      "execution_count": 12,
      "id": "7f36f018",
      "metadata": {
        "id": "7f36f018"
      },
      "outputs": [],
      "source": [
        "# Concatenate text from each page\n",
        "full_pdf_text = \"\".join(page_list)"
      ]
    },
    {
      "cell_type": "markdown",
      "id": "65ec052a",
      "metadata": {
        "id": "65ec052a"
      },
      "source": [
        "### Split The Text Into Sentences"
      ]
    },
    {
      "cell_type": "markdown",
      "id": "4f129e3b",
      "metadata": {
        "id": "4f129e3b"
      },
      "source": [
        "<div class=\"alert alert-block alert-warning\">\n",
        "    <b>Note: </b>\n",
        "    Before running the following line of code, please ensure that you have installed the English sentence tokenizer as stated in the `README.md` file in this repository.\n",
        "</div>"
      ]
    },
    {
      "cell_type": "code",
      "execution_count": 13,
      "id": "5cbf9ede-6ed3-4171-bc77-2da673dcff6b",
      "metadata": {
        "colab": {
          "base_uri": "https://localhost:8080/"
        },
        "id": "5cbf9ede-6ed3-4171-bc77-2da673dcff6b",
        "outputId": "f921eeeb-614d-4289-dcf3-e31c5cea3d2a"
      },
      "outputs": [
        {
          "data": {
            "text/plain": [
              "591"
            ]
          },
          "execution_count": 13,
          "metadata": {},
          "output_type": "execute_result"
        }
      ],
      "source": [
        "# Split the PDF into sentences\n",
        "pdf_sentences = sent_tokenize(full_pdf_text)\n",
        "len(pdf_sentences)"
      ]
    },
    {
      "cell_type": "code",
      "execution_count": 14,
      "id": "2558747e-4559-44b2-8ecb-88a583cc0ceb",
      "metadata": {
        "colab": {
          "base_uri": "https://localhost:8080/",
          "height": 59
        },
        "id": "2558747e-4559-44b2-8ecb-88a583cc0ceb",
        "outputId": "e5d48153-3f0f-4286-bf46-6eb95ce8ea84"
      },
      "outputs": [
        {
          "data": {
            "application/vnd.google.colaboratory.intrinsic+json": {
              "type": "string"
            },
            "text/plain": [
              "'Draft version August 14, 2023\\nTypeset using L ATEX default style in AASTeX631\\nThe Galactic Interstellar Object Population: A Framework for Prediction and Inference\\nMatthew J. Hopkins\\n ,1Chris Lintott\\n ,1Michele T. Bannister\\n ,2J.'"
            ]
          },
          "execution_count": 14,
          "metadata": {},
          "output_type": "execute_result"
        }
      ],
      "source": [
        "pdf_sentences[0]"
      ]
    },
    {
      "cell_type": "markdown",
      "id": "d9ea4179-8b26-4c40-89aa-ef6da11aafdf",
      "metadata": {
        "id": "d9ea4179-8b26-4c40-89aa-ef6da11aafdf"
      },
      "source": [
        "## 2. Create Sentence Vector Embeddings"
      ]
    },
    {
      "cell_type": "markdown",
      "id": "3ae1706a-6046-4dae-9b54-a59d4805f286",
      "metadata": {
        "id": "3ae1706a-6046-4dae-9b54-a59d4805f286"
      },
      "source": [
        "Next, we use the Sentence Transformers library to create embeddings for our collection of sentences.\n",
        "\n",
        "### Selecting a Sentence Transformer Model\n",
        "\n",
        "There are 100+ of different types of Sentence Transformers models available - see [HuggingFace](https://huggingface.co/sentence-transformers) for the full list. The diversity among these primarily stems from variations in their training data. Selecting the ideal model for your needs involves matching the domain and task closely, while also considering the benefits of incorporating larger datasets to enhance scale.\n",
        "\n",
        "This tutorial will use the `all-MiniLM-L6-v2` pre-trained model. This embedding model can create sentence and document embeddings that can be used for a wide variety of tasks including semantic search which makes it a good choice for our needs."
      ]
    },
    {
      "cell_type": "code",
      "execution_count": null,
      "id": "665d805f",
      "metadata": {
        "id": "665d805f"
      },
      "outputs": [],
      "source": [
        "model = SentenceTransformer(\"all-MiniLM-L6-v2\")"
      ]
    },
    {
      "cell_type": "markdown",
      "id": "7fa4aaf7-69c5-4c56-b058-32ced66a62ee",
      "metadata": {
        "id": "7fa4aaf7-69c5-4c56-b058-32ced66a62ee"
      },
      "source": [
        "### Generate Sentence Embeddings Using This Model\n",
        "\n",
        "We prepare embeddings by applying the sentence transformer model to our sentences to encode them. The we do some transformation to get this into DataFrame which is the format accepted by KDB.AI."
      ]
    },
    {
      "cell_type": "code",
      "execution_count": 16,
      "id": "bddc4003",
      "metadata": {
        "id": "bddc4003"
      },
      "outputs": [],
      "source": [
        "# Create embeddings\n",
        "embeddings_list = model.encode(np.array(pdf_sentences)).tolist()\n",
        "embeddings_df = pd.DataFrame({\"vectors\": embeddings_list, \"sentences\": pdf_sentences})"
      ]
    },
    {
      "cell_type": "code",
      "execution_count": 17,
      "id": "1d05b99a-121c-429e-864a-ee4bc5739224",
      "metadata": {
        "colab": {
          "base_uri": "https://localhost:8080/",
          "height": 570
        },
        "id": "1d05b99a-121c-429e-864a-ee4bc5739224",
        "outputId": "cfc5c36c-7414-4c81-8456-7e92d5bf7f49"
      },
      "outputs": [
        {
          "name": "stdout",
          "output_type": "stream",
          "text": [
            "(591, 2)\n"
          ]
        },
        {
          "data": {
            "application/vnd.google.colaboratory.intrinsic+json": {
              "summary": "{\n  \"name\": \"show_df(embeddings_df)\",\n  \"rows\": 5,\n  \"fields\": [\n    {\n      \"column\": \"vectors\",\n      \"properties\": {\n        \"dtype\": \"object\",\n        \"semantic_type\": \"\",\n        \"description\": \"\"\n      }\n    },\n    {\n      \"column\": \"sentences\",\n      \"properties\": {\n        \"dtype\": \"string\",\n        \"num_unique_values\": 5,\n        \"samples\": [\n          \"Ted Mackereth\\n ,3, 4, 5, \\u2217and\\nJohn C. Forbes\\n2\\n1Department of Physics, University of Oxford, Denys Wilkinson Building, Keble Road, Oxford, OX1 3RH, UK\\n2School of Physical and Chemical Sciences\\u2014Te Kura Mat\\u00af u, University of Canterbury, Private Bag 4800, Christchurch 8140, New Zealand\\n3Just Group plc, Enterprise House, Bancroft road, Reigate, Surrey RH2 7RP, UK\\n4Canadian Institute for Theoretical Astrophysics, University of Toronto, 60 St. George Street, Toronto, ON, M5S 3H8, Canada\\n5Dunlap Institute for Astronomy and Astrophysics, University of Toronto, 50 St. George Street, Toronto, ON M5S 3H4, Canada\\nABSTRACT\\nThe Milky Way is thought to host a huge population of interstellar objects (ISOs), numbering\\napproximately 1015pc\\u22123around the Sun, which are formed and shaped by a diverse set of processes\\nranging from planet formation to galactic dynamics.\",\n          \"Selecting ISO water mass\\nfraction as an example observable quantity, we evaluate its distribution both at the position of the Sun\\nand averaged over the Galactic disk; our prediction for the Solar neighbourhood is compatible with the\\ninferred water mass fraction of 2I/Borisov.\",\n          \"We define a novel framework: firstly to predict\\nthe properties of this Galactic ISO population by combining models of processes across planetary\\nand galactic scales, and secondly to make inferences about the processes modelled, by comparing the\\npredicted population to what is observed.\"\n        ],\n        \"semantic_type\": \"\",\n        \"description\": \"\"\n      }\n    }\n  ]\n}",
              "type": "dataframe"
            },
            "text/html": [
              "\n",
              "  <div id=\"df-c2442140-f159-488a-9166-e7b9ddf6c2a1\" class=\"colab-df-container\">\n",
              "    <div>\n",
              "<style scoped>\n",
              "    .dataframe tbody tr th:only-of-type {\n",
              "        vertical-align: middle;\n",
              "    }\n",
              "\n",
              "    .dataframe tbody tr th {\n",
              "        vertical-align: top;\n",
              "    }\n",
              "\n",
              "    .dataframe thead th {\n",
              "        text-align: right;\n",
              "    }\n",
              "</style>\n",
              "<table border=\"1\" class=\"dataframe\">\n",
              "  <thead>\n",
              "    <tr style=\"text-align: right;\">\n",
              "      <th></th>\n",
              "      <th>vectors</th>\n",
              "      <th>sentences</th>\n",
              "    </tr>\n",
              "  </thead>\n",
              "  <tbody>\n",
              "    <tr>\n",
              "      <th>0</th>\n",
              "      <td>[-0.059804268181324005, -0.09221810102462769, 0.058069996535778046, 0.06884294003248215, -0.0030452304054051638, 0.007304240483790636, -0.028959110379219055, 0.0595787838101387, 0.017943743616342545, 0.043501030653715134, 0.005012953653931618, -0.07875007390975952, -0.02570340223610401, -0.04147...</td>\n",
              "      <td>Draft version August 14, 2023\\nTypeset using L ATEX default style in AASTeX631\\nThe Galactic Interstellar Object Population: A Framework for Prediction and Inference\\nMatthew J. Hopkins\\n ,1Chris Lintott\\n ,1Michele T. Bannister\\n ,2J.</td>\n",
              "    </tr>\n",
              "    <tr>\n",
              "      <th>1</th>\n",
              "      <td>[-0.08154530823230743, -0.11342314630746841, 0.08425560593605042, 0.08849422633647919, 0.024723634123802185, -0.08773960173130035, -0.06128991022706032, 0.0106121264398098, 0.06387822329998016, 0.021902449429035187, -0.033225465565919876, -0.09321605414152145, -0.04425090178847313, -0.0568475760...</td>\n",
              "      <td>Ted Mackereth\\n ,3, 4, 5, ∗and\\nJohn C. Forbes\\n2\\n1Department of Physics, University of Oxford, Denys Wilkinson Building, Keble Road, Oxford, OX1 3RH, UK\\n2School of Physical and Chemical Sciences—Te Kura Mat¯ u, University of Canterbury, Private Bag 4800, Christchurch 8140, New Zealand\\n3Just ...</td>\n",
              "    </tr>\n",
              "    <tr>\n",
              "      <th>2</th>\n",
              "      <td>[-0.07799109816551208, -0.08398666232824326, 0.02723710611462593, 0.09858055412769318, 0.010515090078115463, -0.01670389622449875, -0.055797528475522995, 0.027984360232949257, 0.03926650434732437, 0.03248238563537598, 0.03837994113564491, -0.12464361637830734, -0.012645130045711994, -0.018288377...</td>\n",
              "      <td>We define a novel framework: firstly to predict\\nthe properties of this Galactic ISO population by combining models of processes across planetary\\nand galactic scales, and secondly to make inferences about the processes modelled, by comparing the\\npredicted population to what is observed.</td>\n",
              "    </tr>\n",
              "    <tr>\n",
              "      <th>3</th>\n",
              "      <td>[-0.05338575318455696, -0.037147365510463715, 0.07784582674503326, 0.05165949463844299, -0.07674478739500046, -0.007766904775053263, 0.008464669808745384, 0.04289115220308304, 0.04356798157095909, 0.06012833118438721, 0.04407043382525444, -0.10177762806415558, 0.030359704047441483, -0.0340371690...</td>\n",
              "      <td>We predict the spatial and compositional distribution of the\\nGalaxy’s population of ISOs by modelling the Galactic stellar population with data from the APOGEE\\nsurvey and combining this with a protoplanetary disk chemistry model.</td>\n",
              "    </tr>\n",
              "    <tr>\n",
              "      <th>4</th>\n",
              "      <td>[-0.06326982378959656, -0.01720457151532173, 0.047737207263708115, 0.08325360715389252, 0.03296627104282379, -0.0660020187497139, 0.0015915816184133291, 0.003246008651331067, 0.03456269949674606, -0.020524047315120697, 0.041225481778383255, -0.15274153649806976, -0.011771060526371002, 0.07314326...</td>\n",
              "      <td>Selecting ISO water mass\\nfraction as an example observable quantity, we evaluate its distribution both at the position of the Sun\\nand averaged over the Galactic disk; our prediction for the Solar neighbourhood is compatible with the\\ninferred water mass fraction of 2I/Borisov.</td>\n",
              "    </tr>\n",
              "  </tbody>\n",
              "</table>\n",
              "</div>\n",
              "    <div class=\"colab-df-buttons\">\n",
              "\n",
              "  <div class=\"colab-df-container\">\n",
              "    <button class=\"colab-df-convert\" onclick=\"convertToInteractive('df-c2442140-f159-488a-9166-e7b9ddf6c2a1')\"\n",
              "            title=\"Convert this dataframe to an interactive table.\"\n",
              "            style=\"display:none;\">\n",
              "\n",
              "  <svg xmlns=\"http://www.w3.org/2000/svg\" height=\"24px\" viewBox=\"0 -960 960 960\">\n",
              "    <path d=\"M120-120v-720h720v720H120Zm60-500h600v-160H180v160Zm220 220h160v-160H400v160Zm0 220h160v-160H400v160ZM180-400h160v-160H180v160Zm440 0h160v-160H620v160ZM180-180h160v-160H180v160Zm440 0h160v-160H620v160Z\"/>\n",
              "  </svg>\n",
              "    </button>\n",
              "\n",
              "  <style>\n",
              "    .colab-df-container {\n",
              "      display:flex;\n",
              "      gap: 12px;\n",
              "    }\n",
              "\n",
              "    .colab-df-convert {\n",
              "      background-color: #E8F0FE;\n",
              "      border: none;\n",
              "      border-radius: 50%;\n",
              "      cursor: pointer;\n",
              "      display: none;\n",
              "      fill: #1967D2;\n",
              "      height: 32px;\n",
              "      padding: 0 0 0 0;\n",
              "      width: 32px;\n",
              "    }\n",
              "\n",
              "    .colab-df-convert:hover {\n",
              "      background-color: #E2EBFA;\n",
              "      box-shadow: 0px 1px 2px rgba(60, 64, 67, 0.3), 0px 1px 3px 1px rgba(60, 64, 67, 0.15);\n",
              "      fill: #174EA6;\n",
              "    }\n",
              "\n",
              "    .colab-df-buttons div {\n",
              "      margin-bottom: 4px;\n",
              "    }\n",
              "\n",
              "    [theme=dark] .colab-df-convert {\n",
              "      background-color: #3B4455;\n",
              "      fill: #D2E3FC;\n",
              "    }\n",
              "\n",
              "    [theme=dark] .colab-df-convert:hover {\n",
              "      background-color: #434B5C;\n",
              "      box-shadow: 0px 1px 3px 1px rgba(0, 0, 0, 0.15);\n",
              "      filter: drop-shadow(0px 1px 2px rgba(0, 0, 0, 0.3));\n",
              "      fill: #FFFFFF;\n",
              "    }\n",
              "  </style>\n",
              "\n",
              "    <script>\n",
              "      const buttonEl =\n",
              "        document.querySelector('#df-c2442140-f159-488a-9166-e7b9ddf6c2a1 button.colab-df-convert');\n",
              "      buttonEl.style.display =\n",
              "        google.colab.kernel.accessAllowed ? 'block' : 'none';\n",
              "\n",
              "      async function convertToInteractive(key) {\n",
              "        const element = document.querySelector('#df-c2442140-f159-488a-9166-e7b9ddf6c2a1');\n",
              "        const dataTable =\n",
              "          await google.colab.kernel.invokeFunction('convertToInteractive',\n",
              "                                                    [key], {});\n",
              "        if (!dataTable) return;\n",
              "\n",
              "        const docLinkHtml = 'Like what you see? Visit the ' +\n",
              "          '<a target=\"_blank\" href=https://colab.research.google.com/notebooks/data_table.ipynb>data table notebook</a>'\n",
              "          + ' to learn more about interactive tables.';\n",
              "        element.innerHTML = '';\n",
              "        dataTable['output_type'] = 'display_data';\n",
              "        await google.colab.output.renderOutput(dataTable, element);\n",
              "        const docLink = document.createElement('div');\n",
              "        docLink.innerHTML = docLinkHtml;\n",
              "        element.appendChild(docLink);\n",
              "      }\n",
              "    </script>\n",
              "  </div>\n",
              "\n",
              "\n",
              "<div id=\"df-dd82115c-7178-457d-b7b9-ee4f0eeff816\">\n",
              "  <button class=\"colab-df-quickchart\" onclick=\"quickchart('df-dd82115c-7178-457d-b7b9-ee4f0eeff816')\"\n",
              "            title=\"Suggest charts\"\n",
              "            style=\"display:none;\">\n",
              "\n",
              "<svg xmlns=\"http://www.w3.org/2000/svg\" height=\"24px\"viewBox=\"0 0 24 24\"\n",
              "     width=\"24px\">\n",
              "    <g>\n",
              "        <path d=\"M19 3H5c-1.1 0-2 .9-2 2v14c0 1.1.9 2 2 2h14c1.1 0 2-.9 2-2V5c0-1.1-.9-2-2-2zM9 17H7v-7h2v7zm4 0h-2V7h2v10zm4 0h-2v-4h2v4z\"/>\n",
              "    </g>\n",
              "</svg>\n",
              "  </button>\n",
              "\n",
              "<style>\n",
              "  .colab-df-quickchart {\n",
              "      --bg-color: #E8F0FE;\n",
              "      --fill-color: #1967D2;\n",
              "      --hover-bg-color: #E2EBFA;\n",
              "      --hover-fill-color: #174EA6;\n",
              "      --disabled-fill-color: #AAA;\n",
              "      --disabled-bg-color: #DDD;\n",
              "  }\n",
              "\n",
              "  [theme=dark] .colab-df-quickchart {\n",
              "      --bg-color: #3B4455;\n",
              "      --fill-color: #D2E3FC;\n",
              "      --hover-bg-color: #434B5C;\n",
              "      --hover-fill-color: #FFFFFF;\n",
              "      --disabled-bg-color: #3B4455;\n",
              "      --disabled-fill-color: #666;\n",
              "  }\n",
              "\n",
              "  .colab-df-quickchart {\n",
              "    background-color: var(--bg-color);\n",
              "    border: none;\n",
              "    border-radius: 50%;\n",
              "    cursor: pointer;\n",
              "    display: none;\n",
              "    fill: var(--fill-color);\n",
              "    height: 32px;\n",
              "    padding: 0;\n",
              "    width: 32px;\n",
              "  }\n",
              "\n",
              "  .colab-df-quickchart:hover {\n",
              "    background-color: var(--hover-bg-color);\n",
              "    box-shadow: 0 1px 2px rgba(60, 64, 67, 0.3), 0 1px 3px 1px rgba(60, 64, 67, 0.15);\n",
              "    fill: var(--button-hover-fill-color);\n",
              "  }\n",
              "\n",
              "  .colab-df-quickchart-complete:disabled,\n",
              "  .colab-df-quickchart-complete:disabled:hover {\n",
              "    background-color: var(--disabled-bg-color);\n",
              "    fill: var(--disabled-fill-color);\n",
              "    box-shadow: none;\n",
              "  }\n",
              "\n",
              "  .colab-df-spinner {\n",
              "    border: 2px solid var(--fill-color);\n",
              "    border-color: transparent;\n",
              "    border-bottom-color: var(--fill-color);\n",
              "    animation:\n",
              "      spin 1s steps(1) infinite;\n",
              "  }\n",
              "\n",
              "  @keyframes spin {\n",
              "    0% {\n",
              "      border-color: transparent;\n",
              "      border-bottom-color: var(--fill-color);\n",
              "      border-left-color: var(--fill-color);\n",
              "    }\n",
              "    20% {\n",
              "      border-color: transparent;\n",
              "      border-left-color: var(--fill-color);\n",
              "      border-top-color: var(--fill-color);\n",
              "    }\n",
              "    30% {\n",
              "      border-color: transparent;\n",
              "      border-left-color: var(--fill-color);\n",
              "      border-top-color: var(--fill-color);\n",
              "      border-right-color: var(--fill-color);\n",
              "    }\n",
              "    40% {\n",
              "      border-color: transparent;\n",
              "      border-right-color: var(--fill-color);\n",
              "      border-top-color: var(--fill-color);\n",
              "    }\n",
              "    60% {\n",
              "      border-color: transparent;\n",
              "      border-right-color: var(--fill-color);\n",
              "    }\n",
              "    80% {\n",
              "      border-color: transparent;\n",
              "      border-right-color: var(--fill-color);\n",
              "      border-bottom-color: var(--fill-color);\n",
              "    }\n",
              "    90% {\n",
              "      border-color: transparent;\n",
              "      border-bottom-color: var(--fill-color);\n",
              "    }\n",
              "  }\n",
              "</style>\n",
              "\n",
              "  <script>\n",
              "    async function quickchart(key) {\n",
              "      const quickchartButtonEl =\n",
              "        document.querySelector('#' + key + ' button');\n",
              "      quickchartButtonEl.disabled = true;  // To prevent multiple clicks.\n",
              "      quickchartButtonEl.classList.add('colab-df-spinner');\n",
              "      try {\n",
              "        const charts = await google.colab.kernel.invokeFunction(\n",
              "            'suggestCharts', [key], {});\n",
              "      } catch (error) {\n",
              "        console.error('Error during call to suggestCharts:', error);\n",
              "      }\n",
              "      quickchartButtonEl.classList.remove('colab-df-spinner');\n",
              "      quickchartButtonEl.classList.add('colab-df-quickchart-complete');\n",
              "    }\n",
              "    (() => {\n",
              "      let quickchartButtonEl =\n",
              "        document.querySelector('#df-dd82115c-7178-457d-b7b9-ee4f0eeff816 button');\n",
              "      quickchartButtonEl.style.display =\n",
              "        google.colab.kernel.accessAllowed ? 'block' : 'none';\n",
              "    })();\n",
              "  </script>\n",
              "</div>\n",
              "\n",
              "    </div>\n",
              "  </div>\n"
            ],
            "text/plain": [
              "                                                                                                                                                                                                                                                                                                       vectors  \\\n",
              "0  [-0.059804268181324005, -0.09221810102462769, 0.058069996535778046, 0.06884294003248215, -0.0030452304054051638, 0.007304240483790636, -0.028959110379219055, 0.0595787838101387, 0.017943743616342545, 0.043501030653715134, 0.005012953653931618, -0.07875007390975952, -0.02570340223610401, -0.04147...   \n",
              "1  [-0.08154530823230743, -0.11342314630746841, 0.08425560593605042, 0.08849422633647919, 0.024723634123802185, -0.08773960173130035, -0.06128991022706032, 0.0106121264398098, 0.06387822329998016, 0.021902449429035187, -0.033225465565919876, -0.09321605414152145, -0.04425090178847313, -0.0568475760...   \n",
              "2  [-0.07799109816551208, -0.08398666232824326, 0.02723710611462593, 0.09858055412769318, 0.010515090078115463, -0.01670389622449875, -0.055797528475522995, 0.027984360232949257, 0.03926650434732437, 0.03248238563537598, 0.03837994113564491, -0.12464361637830734, -0.012645130045711994, -0.018288377...   \n",
              "3  [-0.05338575318455696, -0.037147365510463715, 0.07784582674503326, 0.05165949463844299, -0.07674478739500046, -0.007766904775053263, 0.008464669808745384, 0.04289115220308304, 0.04356798157095909, 0.06012833118438721, 0.04407043382525444, -0.10177762806415558, 0.030359704047441483, -0.0340371690...   \n",
              "4  [-0.06326982378959656, -0.01720457151532173, 0.047737207263708115, 0.08325360715389252, 0.03296627104282379, -0.0660020187497139, 0.0015915816184133291, 0.003246008651331067, 0.03456269949674606, -0.020524047315120697, 0.041225481778383255, -0.15274153649806976, -0.011771060526371002, 0.07314326...   \n",
              "\n",
              "                                                                                                                                                                                                                                                                                                     sentences  \n",
              "0                                                                  Draft version August 14, 2023\\nTypeset using L ATEX default style in AASTeX631\\nThe Galactic Interstellar Object Population: A Framework for Prediction and Inference\\nMatthew J. Hopkins\\n ,1Chris Lintott\\n ,1Michele T. Bannister\\n ,2J.  \n",
              "1  Ted Mackereth\\n ,3, 4, 5, ∗and\\nJohn C. Forbes\\n2\\n1Department of Physics, University of Oxford, Denys Wilkinson Building, Keble Road, Oxford, OX1 3RH, UK\\n2School of Physical and Chemical Sciences—Te Kura Mat¯ u, University of Canterbury, Private Bag 4800, Christchurch 8140, New Zealand\\n3Just ...  \n",
              "2            We define a novel framework: firstly to predict\\nthe properties of this Galactic ISO population by combining models of processes across planetary\\nand galactic scales, and secondly to make inferences about the processes modelled, by comparing the\\npredicted population to what is observed.  \n",
              "3                                                                      We predict the spatial and compositional distribution of the\\nGalaxy’s population of ISOs by modelling the Galactic stellar population with data from the APOGEE\\nsurvey and combining this with a protoplanetary disk chemistry model.  \n",
              "4                      Selecting ISO water mass\\nfraction as an example observable quantity, we evaluate its distribution both at the position of the Sun\\nand averaged over the Galactic disk; our prediction for the Solar neighbourhood is compatible with the\\ninferred water mass fraction of 2I/Borisov.  "
            ]
          },
          "execution_count": 17,
          "metadata": {},
          "output_type": "execute_result"
        }
      ],
      "source": [
        "show_df(embeddings_df)"
      ]
    },
    {
      "cell_type": "markdown",
      "id": "edd119e3",
      "metadata": {
        "id": "edd119e3"
      },
      "source": [
        "It is important to note the dimension of our embeddings is 384. This will need to match the dimensions we set in the KDB.AI index in the next step. We can easily check this using `len` to count elements in our vector."
      ]
    },
    {
      "cell_type": "code",
      "execution_count": 18,
      "id": "ce60a36c",
      "metadata": {
        "colab": {
          "base_uri": "https://localhost:8080/"
        },
        "id": "ce60a36c",
        "outputId": "3fd41491-9763-4dcb-a6de-0a4f03b8933d"
      },
      "outputs": [
        {
          "data": {
            "text/plain": [
              "384"
            ]
          },
          "execution_count": 18,
          "metadata": {},
          "output_type": "execute_result"
        }
      ],
      "source": [
        "len(embeddings_df[\"vectors\"][0])"
      ]
    },
    {
      "cell_type": "markdown",
      "id": "8c1f910b",
      "metadata": {
        "id": "8c1f910b"
      },
      "source": [
        "## 3. Store Embeddings in KDB.AI"
      ]
    },
    {
      "cell_type": "markdown",
      "id": "70505eae-4138-4ba8-80e9-fc13c37d0b32",
      "metadata": {
        "id": "70505eae-4138-4ba8-80e9-fc13c37d0b32"
      },
      "source": [
        "With the embeddings created, we need to store them in a vector database to enable efficient searching.\n",
        "\n",
        "### Define KDB.AI Session\n",
        "\n",
        "KDB.AI comes in two offerings:\n",
        "\n",
        "1. [KDB.AI Cloud](https://trykdb.kx.com/kdbai/signup/) - For experimenting with smaller generative AI projects with a vector database in our cloud.\n",
        "2. [KDB.AI Server](https://trykdb.kx.com/kdbaiserver/signup/) - For evaluating large scale generative AI applications on-premises or on your own cloud provider.\n",
        "\n",
        "Depending on which you use there will be different setup steps and connection details required.\n",
        "\n",
        "##### Option 1. KDB.AI Cloud\n",
        "\n",
        "To use KDB.AI Cloud, you will need two session details - a URL endpoint and an API key.\n",
        "To get these you can sign up for free [here](https://trykdb.kx.com/kdbai/signup).\n",
        "\n",
        "You can connect to a KDB.AI Cloud session using `kdbai.Session` and passing the session URL endpoint and API key details from your KDB.AI Cloud portal.\n",
        "\n",
        "If the environment variables `KDBAI_ENDPOINTS` and `KDBAI_API_KEY` exist on your system containing your KDB.AI Cloud portal details, these variables will automatically be used to connect.\n",
        "If these do not exist, it will prompt you to enter your KDB.AI Cloud portal session URL endpoint and API key details."
      ]
    },
    {
      "cell_type": "code",
      "execution_count": null,
      "id": "401f8162",
      "metadata": {
        "id": "401f8162"
      },
      "outputs": [],
      "source": [
        "KDBAI_ENDPOINT = (\n",
        "    os.environ[\"KDBAI_ENDPOINT\"]\n",
        "    if \"KDBAI_ENDPOINT\" in os.environ\n",
        "    else input(\"KDB.AI endpoint: \")\n",
        ")\n",
        "KDBAI_API_KEY = (\n",
        "    os.environ[\"KDBAI_API_KEY\"]\n",
        "    if \"KDBAI_API_KEY\" in os.environ\n",
        "    else getpass(\"KDB.AI API key: \")\n",
        ")"
      ]
    },
    {
      "cell_type": "code",
      "execution_count": null,
      "id": "3b3a4932",
      "metadata": {
        "id": "3b3a4932"
      },
      "outputs": [],
      "source": [
        "session = kdbai.Session(api_key=KDBAI_API_KEY, endpoint=KDBAI_ENDPOINT)"
      ]
    },
    {
      "cell_type": "markdown",
      "id": "b53a7384",
      "metadata": {
        "id": "b53a7384"
      },
      "source": [
        "##### Option 2. KDB.AI Server\n",
        "\n",
        "To use KDB.AI Server, you will need download and run your own container.\n",
        "To do this, you will first need to sign up for free [here](https://trykdb.kx.com/kdbaiserver/signup/).\n",
        "\n",
        "You will receive an email with the required license file and bearer token needed to download your instance.\n",
        "Follow instructions in the signup email to get your session up and running.\n",
        "\n",
        "Once the [setup steps](https://code.kx.com/kdbai/gettingStarted/kdb-ai-server-setup.html) are complete you can then connect to your KDB.AI Server session using `kdbai.Session` and passing your local endpoint."
      ]
    },
    {
      "cell_type": "code",
      "execution_count": null,
      "id": "f48fc536",
      "metadata": {
        "id": "f48fc536"
      },
      "outputs": [],
      "source": [
        "# session = kdbai.Session(endpoint=\"http://localhost:8082\")"
      ]
    },
    {
      "cell_type": "markdown",
      "id": "DgIi_1Z9wsKY",
      "metadata": {
        "id": "DgIi_1Z9wsKY"
      },
      "source": [
        "### Verify Defined Databases\n",
        "\n",
        "We can check our connection using the `session.databases()` function.\n",
        "This will return a list of all the databases we have defined in our vector database thus far.\n",
        "This should return a \"default\" database along with any other databases you have already created."
      ]
    },
    {
      "cell_type": "code",
      "execution_count": 30,
      "id": "-oYYPRLUwvY7",
      "metadata": {
        "colab": {
          "base_uri": "https://localhost:8080/"
        },
        "id": "-oYYPRLUwvY7",
        "outputId": "8458322c-2450-4b64-9089-949753cbc71b"
      },
      "outputs": [
        {
          "data": {
            "text/plain": [
              "[KDBAI database \"default\"]"
            ]
          },
          "execution_count": 30,
          "metadata": {},
          "output_type": "execute_result"
        }
      ],
      "source": [
        "session.databases()"
      ]
    },
    {
      "cell_type": "markdown",
      "id": "1g_FbKknwyQg",
      "metadata": {
        "id": "1g_FbKknwyQg"
      },
      "source": [
        "### Create a Database called \"myDatabase\""
      ]
    },
    {
      "cell_type": "code",
      "execution_count": 29,
      "id": "W5AN3mlyw22o",
      "metadata": {
        "id": "W5AN3mlyw22o"
      },
      "outputs": [],
      "source": [
        "# ensure no database called \"myDatabase\" exists\n",
        "try:\n",
        "    session.database(\"myDatabase\").drop()\n",
        "except kdbai.KDBAIException:\n",
        "    pass"
      ]
    },
    {
      "cell_type": "code",
      "execution_count": 31,
      "id": "uPK81d3lw4pf",
      "metadata": {
        "id": "uPK81d3lw4pf"
      },
      "outputs": [],
      "source": [
        "# Create the database\n",
        "db = session.create_database(\"myDatabase\")"
      ]
    },
    {
      "cell_type": "markdown",
      "id": "48c6525c",
      "metadata": {
        "id": "48c6525c"
      },
      "source": [
        "### Define Vector DB Table Schema\n",
        "\n",
        "The next step is to define a schema for our KDB.AI table where we will store our embeddings. Our table will have two columns: sentences and vectors.\n"
      ]
    },
    {
      "cell_type": "code",
      "execution_count": 50,
      "id": "af604df0",
      "metadata": {
        "id": "af604df0"
      },
      "outputs": [],
      "source": [
        "pdf_schema = [\n",
        "        {\"name\": \"sentences\", \"type\": \"str\"},\n",
        "        {\n",
        "            \"name\": \"vectors\",\n",
        "            \"type\": \"float64s\",\n",
        "        },\n",
        "    ]"
      ]
    },
    {
      "cell_type": "markdown",
      "id": "bSgwEmDuxTe_",
      "metadata": {
        "id": "bSgwEmDuxTe_"
      },
      "source": [
        "### Define the indexes\n",
        "We will define our dimensionality, similarity metric and index type with the vectorIndex attribute. For this example we chose:\n",
        "\n",
        "- type = hnsw : HNSW enhances efficiency while maintaining accuracy. You have the choice of using other indexes like, qHNSW, and IVFPQ, qFlat or a Flat index here, as with metrics the one you chose depends your data and your overall performance requirements.\n",
        "- name = hnsw_index : this is a custom name you give your index.\n",
        "- column = vectors : this is the column where the embeddings are stored.\n",
        "#### params:\n",
        "- dims = 384 : In the next section, we generate embeddings that are 384-dimensional to match this. The number of dimensions should mirror the output dimensions of your embedding model.\n",
        "- metric = L2 : We chose Euclidean Distance. You have the choice of using other metrics here like IP/Inner Product and CS/Cosine Similarity and the one you chose depends on the specific context and nature of your data.\n",
        "!Note, it is possible to define multiple indexes within a table!"
      ]
    },
    {
      "cell_type": "code",
      "execution_count": 51,
      "id": "jeB_WKGTxrM6",
      "metadata": {
        "id": "jeB_WKGTxrM6"
      },
      "outputs": [],
      "source": [
        "# Define the index\n",
        "indexes = [\n",
        "    {\n",
        "        'type': 'hnsw',\n",
        "        'name': 'hnsw_index',\n",
        "        'column': 'vectors',\n",
        "        'params': {'dims': 384, 'metric': \"L2\"},\n",
        "    },\n",
        "]"
      ]
    },
    {
      "cell_type": "markdown",
      "id": "518cfe1e",
      "metadata": {
        "id": "518cfe1e"
      },
      "source": [
        "### Create Vector DB Table\n",
        "\n",
        "Use the KDB.AI `create_table` function to create a table that matches the defined schema in the vector database."
      ]
    },
    {
      "cell_type": "code",
      "execution_count": 52,
      "id": "6e670f9e",
      "metadata": {
        "id": "6e670f9e"
      },
      "outputs": [],
      "source": [
        "# First ensure the table does not already exist\n",
        "try:\n",
        "    db.table(\"pdf\").drop()\n",
        "except kdbai.KDBAIException:\n",
        "    pass"
      ]
    },
    {
      "cell_type": "code",
      "execution_count": 53,
      "id": "e1d190db-7c19-418e-9140-3dff04c9d4c0",
      "metadata": {
        "id": "e1d190db-7c19-418e-9140-3dff04c9d4c0"
      },
      "outputs": [],
      "source": [
        "table = db.create_table(table=\"pdf\", schema=pdf_schema, indexes=indexes)"
      ]
    },
    {
      "cell_type": "markdown",
      "id": "466068bc",
      "metadata": {
        "id": "466068bc"
      },
      "source": [
        "We can use `query` to see our table exists but is empty."
      ]
    },
    {
      "cell_type": "code",
      "execution_count": 54,
      "id": "74e7332e",
      "metadata": {
        "colab": {
          "base_uri": "https://localhost:8080/",
          "height": 53
        },
        "id": "74e7332e",
        "outputId": "c53597c1-8f16-4cbb-d724-2cf1c86a901c"
      },
      "outputs": [
        {
          "data": {
            "application/vnd.google.colaboratory.intrinsic+json": {
              "repr_error": "Out of range float values are not JSON compliant: nan",
              "type": "dataframe"
            },
            "text/html": [
              "\n",
              "  <div id=\"df-54910f6f-6c5c-4901-8417-75986a94dca0\" class=\"colab-df-container\">\n",
              "    <div>\n",
              "<style scoped>\n",
              "    .dataframe tbody tr th:only-of-type {\n",
              "        vertical-align: middle;\n",
              "    }\n",
              "\n",
              "    .dataframe tbody tr th {\n",
              "        vertical-align: top;\n",
              "    }\n",
              "\n",
              "    .dataframe thead th {\n",
              "        text-align: right;\n",
              "    }\n",
              "</style>\n",
              "<table border=\"1\" class=\"dataframe\">\n",
              "  <thead>\n",
              "    <tr style=\"text-align: right;\">\n",
              "      <th></th>\n",
              "      <th>sentences</th>\n",
              "      <th>vectors</th>\n",
              "    </tr>\n",
              "  </thead>\n",
              "  <tbody>\n",
              "  </tbody>\n",
              "</table>\n",
              "</div>\n",
              "    <div class=\"colab-df-buttons\">\n",
              "\n",
              "  <div class=\"colab-df-container\">\n",
              "    <button class=\"colab-df-convert\" onclick=\"convertToInteractive('df-54910f6f-6c5c-4901-8417-75986a94dca0')\"\n",
              "            title=\"Convert this dataframe to an interactive table.\"\n",
              "            style=\"display:none;\">\n",
              "\n",
              "  <svg xmlns=\"http://www.w3.org/2000/svg\" height=\"24px\" viewBox=\"0 -960 960 960\">\n",
              "    <path d=\"M120-120v-720h720v720H120Zm60-500h600v-160H180v160Zm220 220h160v-160H400v160Zm0 220h160v-160H400v160ZM180-400h160v-160H180v160Zm440 0h160v-160H620v160ZM180-180h160v-160H180v160Zm440 0h160v-160H620v160Z\"/>\n",
              "  </svg>\n",
              "    </button>\n",
              "\n",
              "  <style>\n",
              "    .colab-df-container {\n",
              "      display:flex;\n",
              "      gap: 12px;\n",
              "    }\n",
              "\n",
              "    .colab-df-convert {\n",
              "      background-color: #E8F0FE;\n",
              "      border: none;\n",
              "      border-radius: 50%;\n",
              "      cursor: pointer;\n",
              "      display: none;\n",
              "      fill: #1967D2;\n",
              "      height: 32px;\n",
              "      padding: 0 0 0 0;\n",
              "      width: 32px;\n",
              "    }\n",
              "\n",
              "    .colab-df-convert:hover {\n",
              "      background-color: #E2EBFA;\n",
              "      box-shadow: 0px 1px 2px rgba(60, 64, 67, 0.3), 0px 1px 3px 1px rgba(60, 64, 67, 0.15);\n",
              "      fill: #174EA6;\n",
              "    }\n",
              "\n",
              "    .colab-df-buttons div {\n",
              "      margin-bottom: 4px;\n",
              "    }\n",
              "\n",
              "    [theme=dark] .colab-df-convert {\n",
              "      background-color: #3B4455;\n",
              "      fill: #D2E3FC;\n",
              "    }\n",
              "\n",
              "    [theme=dark] .colab-df-convert:hover {\n",
              "      background-color: #434B5C;\n",
              "      box-shadow: 0px 1px 3px 1px rgba(0, 0, 0, 0.15);\n",
              "      filter: drop-shadow(0px 1px 2px rgba(0, 0, 0, 0.3));\n",
              "      fill: #FFFFFF;\n",
              "    }\n",
              "  </style>\n",
              "\n",
              "    <script>\n",
              "      const buttonEl =\n",
              "        document.querySelector('#df-54910f6f-6c5c-4901-8417-75986a94dca0 button.colab-df-convert');\n",
              "      buttonEl.style.display =\n",
              "        google.colab.kernel.accessAllowed ? 'block' : 'none';\n",
              "\n",
              "      async function convertToInteractive(key) {\n",
              "        const element = document.querySelector('#df-54910f6f-6c5c-4901-8417-75986a94dca0');\n",
              "        const dataTable =\n",
              "          await google.colab.kernel.invokeFunction('convertToInteractive',\n",
              "                                                    [key], {});\n",
              "        if (!dataTable) return;\n",
              "\n",
              "        const docLinkHtml = 'Like what you see? Visit the ' +\n",
              "          '<a target=\"_blank\" href=https://colab.research.google.com/notebooks/data_table.ipynb>data table notebook</a>'\n",
              "          + ' to learn more about interactive tables.';\n",
              "        element.innerHTML = '';\n",
              "        dataTable['output_type'] = 'display_data';\n",
              "        await google.colab.output.renderOutput(dataTable, element);\n",
              "        const docLink = document.createElement('div');\n",
              "        docLink.innerHTML = docLinkHtml;\n",
              "        element.appendChild(docLink);\n",
              "      }\n",
              "    </script>\n",
              "  </div>\n",
              "\n",
              "\n",
              "    </div>\n",
              "  </div>\n"
            ],
            "text/plain": [
              "Empty DataFrame\n",
              "Columns: [sentences, vectors]\n",
              "Index: []"
            ]
          },
          "execution_count": 54,
          "metadata": {},
          "output_type": "execute_result"
        }
      ],
      "source": [
        "table.query()"
      ]
    },
    {
      "cell_type": "markdown",
      "id": "9a0a9d0e-80b8-4e09-9101-d22667da551f",
      "metadata": {
        "id": "9a0a9d0e-80b8-4e09-9101-d22667da551f"
      },
      "source": [
        "### Add Embedded Data to KDB.AI Table"
      ]
    },
    {
      "cell_type": "code",
      "execution_count": 55,
      "id": "83cc156c-8071-4784-8c3e-a049b61e8668",
      "metadata": {
        "colab": {
          "base_uri": "https://localhost:8080/"
        },
        "id": "83cc156c-8071-4784-8c3e-a049b61e8668",
        "outputId": "504e261e-70bc-4f61-c64f-9eccd1edf6a5"
      },
      "outputs": [
        {
          "data": {
            "text/plain": [
              "{'rowsInserted': 591}"
            ]
          },
          "execution_count": 55,
          "metadata": {},
          "output_type": "execute_result"
        }
      ],
      "source": [
        "table.insert(embeddings_df)"
      ]
    },
    {
      "cell_type": "markdown",
      "id": "e31a4ecd",
      "metadata": {
        "id": "e31a4ecd"
      },
      "source": [
        "### Verify Data Has Been Inserted\n",
        "\n",
        "Running `table.query()` should show us that data has been added."
      ]
    },
    {
      "cell_type": "code",
      "execution_count": 56,
      "id": "ee6ecb8d",
      "metadata": {
        "colab": {
          "base_uri": "https://localhost:8080/",
          "height": 570
        },
        "id": "ee6ecb8d",
        "outputId": "4d583a43-4791-414a-f47b-d7b62ffffaa6"
      },
      "outputs": [
        {
          "name": "stdout",
          "output_type": "stream",
          "text": [
            "(591, 2)\n"
          ]
        },
        {
          "data": {
            "application/vnd.google.colaboratory.intrinsic+json": {
              "summary": "{\n  \"name\": \"show_df(table\",\n  \"rows\": 5,\n  \"fields\": [\n    {\n      \"column\": \"vectors\",\n      \"properties\": {\n        \"dtype\": \"object\",\n        \"semantic_type\": \"\",\n        \"description\": \"\"\n      }\n    },\n    {\n      \"column\": \"sentences\",\n      \"properties\": {\n        \"dtype\": \"string\",\n        \"num_unique_values\": 5,\n        \"samples\": [\n          \"Ted Mackereth\\n ,3, 4, 5, \\u2217and\\nJohn C. Forbes\\n2\\n1Department of Physics, University of Oxford, Denys Wilkinson Building, Keble Road, Oxford, OX1 3RH, UK\\n2School of Physical and Chemical Sciences\\u2014Te Kura Mat\\u00af u, University of Canterbury, Private Bag 4800, Christchurch 8140, New Zealand\\n3Just Group plc, Enterprise House, Bancroft road, Reigate, Surrey RH2 7RP, UK\\n4Canadian Institute for Theoretical Astrophysics, University of Toronto, 60 St. George Street, Toronto, ON, M5S 3H8, Canada\\n5Dunlap Institute for Astronomy and Astrophysics, University of Toronto, 50 St. George Street, Toronto, ON M5S 3H4, Canada\\nABSTRACT\\nThe Milky Way is thought to host a huge population of interstellar objects (ISOs), numbering\\napproximately 1015pc\\u22123around the Sun, which are formed and shaped by a diverse set of processes\\nranging from planet formation to galactic dynamics.\",\n          \"Selecting ISO water mass\\nfraction as an example observable quantity, we evaluate its distribution both at the position of the Sun\\nand averaged over the Galactic disk; our prediction for the Solar neighbourhood is compatible with the\\ninferred water mass fraction of 2I/Borisov.\",\n          \"We define a novel framework: firstly to predict\\nthe properties of this Galactic ISO population by combining models of processes across planetary\\nand galactic scales, and secondly to make inferences about the processes modelled, by comparing the\\npredicted population to what is observed.\"\n        ],\n        \"semantic_type\": \"\",\n        \"description\": \"\"\n      }\n    }\n  ]\n}",
              "type": "dataframe"
            },
            "text/html": [
              "\n",
              "  <div id=\"df-36c49b9f-d285-4ffc-bc27-6fc21ce07f61\" class=\"colab-df-container\">\n",
              "    <div>\n",
              "<style scoped>\n",
              "    .dataframe tbody tr th:only-of-type {\n",
              "        vertical-align: middle;\n",
              "    }\n",
              "\n",
              "    .dataframe tbody tr th {\n",
              "        vertical-align: top;\n",
              "    }\n",
              "\n",
              "    .dataframe thead th {\n",
              "        text-align: right;\n",
              "    }\n",
              "</style>\n",
              "<table border=\"1\" class=\"dataframe\">\n",
              "  <thead>\n",
              "    <tr style=\"text-align: right;\">\n",
              "      <th></th>\n",
              "      <th>vectors</th>\n",
              "      <th>sentences</th>\n",
              "    </tr>\n",
              "  </thead>\n",
              "  <tbody>\n",
              "    <tr>\n",
              "      <th>0</th>\n",
              "      <td>[-0.059804268181324005, -0.09221810102462769, 0.058069996535778046, 0.06884294003248215, -0.0030452304054051638, 0.007304240483790636, -0.028959110379219055, 0.0595787838101387, 0.017943743616342545, 0.043501030653715134, 0.005012953653931618, -0.07875007390975952, -0.02570340223610401, -0.04147...</td>\n",
              "      <td>Draft version August 14, 2023\\nTypeset using L ATEX default style in AASTeX631\\nThe Galactic Interstellar Object Population: A Framework for Prediction and Inference\\nMatthew J. Hopkins\\n ,1Chris Lintott\\n ,1Michele T. Bannister\\n ,2J.</td>\n",
              "    </tr>\n",
              "    <tr>\n",
              "      <th>1</th>\n",
              "      <td>[-0.08154530823230743, -0.11342314630746841, 0.08425560593605042, 0.08849422633647919, 0.024723634123802185, -0.08773960173130035, -0.06128991022706032, 0.0106121264398098, 0.06387822329998016, 0.021902449429035187, -0.033225465565919876, -0.09321605414152145, -0.04425090178847313, -0.0568475760...</td>\n",
              "      <td>Ted Mackereth\\n ,3, 4, 5, ∗and\\nJohn C. Forbes\\n2\\n1Department of Physics, University of Oxford, Denys Wilkinson Building, Keble Road, Oxford, OX1 3RH, UK\\n2School of Physical and Chemical Sciences—Te Kura Mat¯ u, University of Canterbury, Private Bag 4800, Christchurch 8140, New Zealand\\n3Just ...</td>\n",
              "    </tr>\n",
              "    <tr>\n",
              "      <th>2</th>\n",
              "      <td>[-0.07799109816551208, -0.08398666232824326, 0.02723710611462593, 0.09858055412769318, 0.010515090078115463, -0.01670389622449875, -0.055797528475522995, 0.027984360232949257, 0.03926650434732437, 0.03248238563537598, 0.03837994113564491, -0.12464361637830734, -0.012645130045711994, -0.018288377...</td>\n",
              "      <td>We define a novel framework: firstly to predict\\nthe properties of this Galactic ISO population by combining models of processes across planetary\\nand galactic scales, and secondly to make inferences about the processes modelled, by comparing the\\npredicted population to what is observed.</td>\n",
              "    </tr>\n",
              "    <tr>\n",
              "      <th>3</th>\n",
              "      <td>[-0.05338575318455696, -0.037147365510463715, 0.07784582674503326, 0.05165949463844299, -0.07674478739500046, -0.007766904775053263, 0.008464669808745384, 0.04289115220308304, 0.04356798157095909, 0.06012833118438721, 0.04407043382525444, -0.10177762806415558, 0.030359704047441483, -0.0340371690...</td>\n",
              "      <td>We predict the spatial and compositional distribution of the\\nGalaxy’s population of ISOs by modelling the Galactic stellar population with data from the APOGEE\\nsurvey and combining this with a protoplanetary disk chemistry model.</td>\n",
              "    </tr>\n",
              "    <tr>\n",
              "      <th>4</th>\n",
              "      <td>[-0.06326982378959656, -0.01720457151532173, 0.047737207263708115, 0.08325360715389252, 0.03296627104282379, -0.0660020187497139, 0.0015915816184133291, 0.003246008651331067, 0.03456269949674606, -0.020524047315120697, 0.041225481778383255, -0.15274153649806976, -0.011771060526371002, 0.07314326...</td>\n",
              "      <td>Selecting ISO water mass\\nfraction as an example observable quantity, we evaluate its distribution both at the position of the Sun\\nand averaged over the Galactic disk; our prediction for the Solar neighbourhood is compatible with the\\ninferred water mass fraction of 2I/Borisov.</td>\n",
              "    </tr>\n",
              "  </tbody>\n",
              "</table>\n",
              "</div>\n",
              "    <div class=\"colab-df-buttons\">\n",
              "\n",
              "  <div class=\"colab-df-container\">\n",
              "    <button class=\"colab-df-convert\" onclick=\"convertToInteractive('df-36c49b9f-d285-4ffc-bc27-6fc21ce07f61')\"\n",
              "            title=\"Convert this dataframe to an interactive table.\"\n",
              "            style=\"display:none;\">\n",
              "\n",
              "  <svg xmlns=\"http://www.w3.org/2000/svg\" height=\"24px\" viewBox=\"0 -960 960 960\">\n",
              "    <path d=\"M120-120v-720h720v720H120Zm60-500h600v-160H180v160Zm220 220h160v-160H400v160Zm0 220h160v-160H400v160ZM180-400h160v-160H180v160Zm440 0h160v-160H620v160ZM180-180h160v-160H180v160Zm440 0h160v-160H620v160Z\"/>\n",
              "  </svg>\n",
              "    </button>\n",
              "\n",
              "  <style>\n",
              "    .colab-df-container {\n",
              "      display:flex;\n",
              "      gap: 12px;\n",
              "    }\n",
              "\n",
              "    .colab-df-convert {\n",
              "      background-color: #E8F0FE;\n",
              "      border: none;\n",
              "      border-radius: 50%;\n",
              "      cursor: pointer;\n",
              "      display: none;\n",
              "      fill: #1967D2;\n",
              "      height: 32px;\n",
              "      padding: 0 0 0 0;\n",
              "      width: 32px;\n",
              "    }\n",
              "\n",
              "    .colab-df-convert:hover {\n",
              "      background-color: #E2EBFA;\n",
              "      box-shadow: 0px 1px 2px rgba(60, 64, 67, 0.3), 0px 1px 3px 1px rgba(60, 64, 67, 0.15);\n",
              "      fill: #174EA6;\n",
              "    }\n",
              "\n",
              "    .colab-df-buttons div {\n",
              "      margin-bottom: 4px;\n",
              "    }\n",
              "\n",
              "    [theme=dark] .colab-df-convert {\n",
              "      background-color: #3B4455;\n",
              "      fill: #D2E3FC;\n",
              "    }\n",
              "\n",
              "    [theme=dark] .colab-df-convert:hover {\n",
              "      background-color: #434B5C;\n",
              "      box-shadow: 0px 1px 3px 1px rgba(0, 0, 0, 0.15);\n",
              "      filter: drop-shadow(0px 1px 2px rgba(0, 0, 0, 0.3));\n",
              "      fill: #FFFFFF;\n",
              "    }\n",
              "  </style>\n",
              "\n",
              "    <script>\n",
              "      const buttonEl =\n",
              "        document.querySelector('#df-36c49b9f-d285-4ffc-bc27-6fc21ce07f61 button.colab-df-convert');\n",
              "      buttonEl.style.display =\n",
              "        google.colab.kernel.accessAllowed ? 'block' : 'none';\n",
              "\n",
              "      async function convertToInteractive(key) {\n",
              "        const element = document.querySelector('#df-36c49b9f-d285-4ffc-bc27-6fc21ce07f61');\n",
              "        const dataTable =\n",
              "          await google.colab.kernel.invokeFunction('convertToInteractive',\n",
              "                                                    [key], {});\n",
              "        if (!dataTable) return;\n",
              "\n",
              "        const docLinkHtml = 'Like what you see? Visit the ' +\n",
              "          '<a target=\"_blank\" href=https://colab.research.google.com/notebooks/data_table.ipynb>data table notebook</a>'\n",
              "          + ' to learn more about interactive tables.';\n",
              "        element.innerHTML = '';\n",
              "        dataTable['output_type'] = 'display_data';\n",
              "        await google.colab.output.renderOutput(dataTable, element);\n",
              "        const docLink = document.createElement('div');\n",
              "        docLink.innerHTML = docLinkHtml;\n",
              "        element.appendChild(docLink);\n",
              "      }\n",
              "    </script>\n",
              "  </div>\n",
              "\n",
              "\n",
              "<div id=\"df-0fc63583-29a7-4fba-a9f4-0c90644b836a\">\n",
              "  <button class=\"colab-df-quickchart\" onclick=\"quickchart('df-0fc63583-29a7-4fba-a9f4-0c90644b836a')\"\n",
              "            title=\"Suggest charts\"\n",
              "            style=\"display:none;\">\n",
              "\n",
              "<svg xmlns=\"http://www.w3.org/2000/svg\" height=\"24px\"viewBox=\"0 0 24 24\"\n",
              "     width=\"24px\">\n",
              "    <g>\n",
              "        <path d=\"M19 3H5c-1.1 0-2 .9-2 2v14c0 1.1.9 2 2 2h14c1.1 0 2-.9 2-2V5c0-1.1-.9-2-2-2zM9 17H7v-7h2v7zm4 0h-2V7h2v10zm4 0h-2v-4h2v4z\"/>\n",
              "    </g>\n",
              "</svg>\n",
              "  </button>\n",
              "\n",
              "<style>\n",
              "  .colab-df-quickchart {\n",
              "      --bg-color: #E8F0FE;\n",
              "      --fill-color: #1967D2;\n",
              "      --hover-bg-color: #E2EBFA;\n",
              "      --hover-fill-color: #174EA6;\n",
              "      --disabled-fill-color: #AAA;\n",
              "      --disabled-bg-color: #DDD;\n",
              "  }\n",
              "\n",
              "  [theme=dark] .colab-df-quickchart {\n",
              "      --bg-color: #3B4455;\n",
              "      --fill-color: #D2E3FC;\n",
              "      --hover-bg-color: #434B5C;\n",
              "      --hover-fill-color: #FFFFFF;\n",
              "      --disabled-bg-color: #3B4455;\n",
              "      --disabled-fill-color: #666;\n",
              "  }\n",
              "\n",
              "  .colab-df-quickchart {\n",
              "    background-color: var(--bg-color);\n",
              "    border: none;\n",
              "    border-radius: 50%;\n",
              "    cursor: pointer;\n",
              "    display: none;\n",
              "    fill: var(--fill-color);\n",
              "    height: 32px;\n",
              "    padding: 0;\n",
              "    width: 32px;\n",
              "  }\n",
              "\n",
              "  .colab-df-quickchart:hover {\n",
              "    background-color: var(--hover-bg-color);\n",
              "    box-shadow: 0 1px 2px rgba(60, 64, 67, 0.3), 0 1px 3px 1px rgba(60, 64, 67, 0.15);\n",
              "    fill: var(--button-hover-fill-color);\n",
              "  }\n",
              "\n",
              "  .colab-df-quickchart-complete:disabled,\n",
              "  .colab-df-quickchart-complete:disabled:hover {\n",
              "    background-color: var(--disabled-bg-color);\n",
              "    fill: var(--disabled-fill-color);\n",
              "    box-shadow: none;\n",
              "  }\n",
              "\n",
              "  .colab-df-spinner {\n",
              "    border: 2px solid var(--fill-color);\n",
              "    border-color: transparent;\n",
              "    border-bottom-color: var(--fill-color);\n",
              "    animation:\n",
              "      spin 1s steps(1) infinite;\n",
              "  }\n",
              "\n",
              "  @keyframes spin {\n",
              "    0% {\n",
              "      border-color: transparent;\n",
              "      border-bottom-color: var(--fill-color);\n",
              "      border-left-color: var(--fill-color);\n",
              "    }\n",
              "    20% {\n",
              "      border-color: transparent;\n",
              "      border-left-color: var(--fill-color);\n",
              "      border-top-color: var(--fill-color);\n",
              "    }\n",
              "    30% {\n",
              "      border-color: transparent;\n",
              "      border-left-color: var(--fill-color);\n",
              "      border-top-color: var(--fill-color);\n",
              "      border-right-color: var(--fill-color);\n",
              "    }\n",
              "    40% {\n",
              "      border-color: transparent;\n",
              "      border-right-color: var(--fill-color);\n",
              "      border-top-color: var(--fill-color);\n",
              "    }\n",
              "    60% {\n",
              "      border-color: transparent;\n",
              "      border-right-color: var(--fill-color);\n",
              "    }\n",
              "    80% {\n",
              "      border-color: transparent;\n",
              "      border-right-color: var(--fill-color);\n",
              "      border-bottom-color: var(--fill-color);\n",
              "    }\n",
              "    90% {\n",
              "      border-color: transparent;\n",
              "      border-bottom-color: var(--fill-color);\n",
              "    }\n",
              "  }\n",
              "</style>\n",
              "\n",
              "  <script>\n",
              "    async function quickchart(key) {\n",
              "      const quickchartButtonEl =\n",
              "        document.querySelector('#' + key + ' button');\n",
              "      quickchartButtonEl.disabled = true;  // To prevent multiple clicks.\n",
              "      quickchartButtonEl.classList.add('colab-df-spinner');\n",
              "      try {\n",
              "        const charts = await google.colab.kernel.invokeFunction(\n",
              "            'suggestCharts', [key], {});\n",
              "      } catch (error) {\n",
              "        console.error('Error during call to suggestCharts:', error);\n",
              "      }\n",
              "      quickchartButtonEl.classList.remove('colab-df-spinner');\n",
              "      quickchartButtonEl.classList.add('colab-df-quickchart-complete');\n",
              "    }\n",
              "    (() => {\n",
              "      let quickchartButtonEl =\n",
              "        document.querySelector('#df-0fc63583-29a7-4fba-a9f4-0c90644b836a button');\n",
              "      quickchartButtonEl.style.display =\n",
              "        google.colab.kernel.accessAllowed ? 'block' : 'none';\n",
              "    })();\n",
              "  </script>\n",
              "</div>\n",
              "\n",
              "    </div>\n",
              "  </div>\n"
            ],
            "text/plain": [
              "                                                                                                                                                                                                                                                                                                       vectors  \\\n",
              "0  [-0.059804268181324005, -0.09221810102462769, 0.058069996535778046, 0.06884294003248215, -0.0030452304054051638, 0.007304240483790636, -0.028959110379219055, 0.0595787838101387, 0.017943743616342545, 0.043501030653715134, 0.005012953653931618, -0.07875007390975952, -0.02570340223610401, -0.04147...   \n",
              "1  [-0.08154530823230743, -0.11342314630746841, 0.08425560593605042, 0.08849422633647919, 0.024723634123802185, -0.08773960173130035, -0.06128991022706032, 0.0106121264398098, 0.06387822329998016, 0.021902449429035187, -0.033225465565919876, -0.09321605414152145, -0.04425090178847313, -0.0568475760...   \n",
              "2  [-0.07799109816551208, -0.08398666232824326, 0.02723710611462593, 0.09858055412769318, 0.010515090078115463, -0.01670389622449875, -0.055797528475522995, 0.027984360232949257, 0.03926650434732437, 0.03248238563537598, 0.03837994113564491, -0.12464361637830734, -0.012645130045711994, -0.018288377...   \n",
              "3  [-0.05338575318455696, -0.037147365510463715, 0.07784582674503326, 0.05165949463844299, -0.07674478739500046, -0.007766904775053263, 0.008464669808745384, 0.04289115220308304, 0.04356798157095909, 0.06012833118438721, 0.04407043382525444, -0.10177762806415558, 0.030359704047441483, -0.0340371690...   \n",
              "4  [-0.06326982378959656, -0.01720457151532173, 0.047737207263708115, 0.08325360715389252, 0.03296627104282379, -0.0660020187497139, 0.0015915816184133291, 0.003246008651331067, 0.03456269949674606, -0.020524047315120697, 0.041225481778383255, -0.15274153649806976, -0.011771060526371002, 0.07314326...   \n",
              "\n",
              "                                                                                                                                                                                                                                                                                                     sentences  \n",
              "0                                                                  Draft version August 14, 2023\\nTypeset using L ATEX default style in AASTeX631\\nThe Galactic Interstellar Object Population: A Framework for Prediction and Inference\\nMatthew J. Hopkins\\n ,1Chris Lintott\\n ,1Michele T. Bannister\\n ,2J.  \n",
              "1  Ted Mackereth\\n ,3, 4, 5, ∗and\\nJohn C. Forbes\\n2\\n1Department of Physics, University of Oxford, Denys Wilkinson Building, Keble Road, Oxford, OX1 3RH, UK\\n2School of Physical and Chemical Sciences—Te Kura Mat¯ u, University of Canterbury, Private Bag 4800, Christchurch 8140, New Zealand\\n3Just ...  \n",
              "2            We define a novel framework: firstly to predict\\nthe properties of this Galactic ISO population by combining models of processes across planetary\\nand galactic scales, and secondly to make inferences about the processes modelled, by comparing the\\npredicted population to what is observed.  \n",
              "3                                                                      We predict the spatial and compositional distribution of the\\nGalaxy’s population of ISOs by modelling the Galactic stellar population with data from the APOGEE\\nsurvey and combining this with a protoplanetary disk chemistry model.  \n",
              "4                      Selecting ISO water mass\\nfraction as an example observable quantity, we evaluate its distribution both at the position of the Sun\\nand averaged over the Galactic disk; our prediction for the Solar neighbourhood is compatible with the\\ninferred water mass fraction of 2I/Borisov.  "
            ]
          },
          "execution_count": 56,
          "metadata": {},
          "output_type": "execute_result"
        }
      ],
      "source": [
        "show_df(table.query())"
      ]
    },
    {
      "cell_type": "markdown",
      "id": "8bf8650d",
      "metadata": {
        "id": "8bf8650d"
      },
      "source": [
        "## 4. Search For Similar Sentences To A Target Sentence"
      ]
    },
    {
      "cell_type": "markdown",
      "id": "31ddb725-e0e7-4c00-a22b-3234eacf6bd1",
      "metadata": {
        "id": "31ddb725-e0e7-4c00-a22b-3234eacf6bd1"
      },
      "source": [
        "Now that the embeddings are stored in KDB.AI, we can perform semantic search using `search`.\n",
        "\n",
        "### Search 1\n",
        "\n",
        "First, we embed our search term using the Sentence Transformer model as before. Then we search our index to return the three most similar vectors."
      ]
    },
    {
      "cell_type": "code",
      "execution_count": 57,
      "id": "b24c1179",
      "metadata": {
        "id": "b24c1179"
      },
      "outputs": [],
      "source": [
        "search_term1 = \"number of interstellar objects in the milky way\""
      ]
    },
    {
      "cell_type": "code",
      "execution_count": 58,
      "id": "d5f8fa5b",
      "metadata": {
        "id": "d5f8fa5b"
      },
      "outputs": [],
      "source": [
        "encoded_search_term1 = model.encode(search_term1).tolist()"
      ]
    },
    {
      "cell_type": "code",
      "execution_count": 59,
      "id": "8666561e-e9b2-4c9f-95f4-add789be416d",
      "metadata": {
        "colab": {
          "base_uri": "https://localhost:8080/",
          "height": 455
        },
        "id": "8666561e-e9b2-4c9f-95f4-add789be416d",
        "outputId": "363d2d9d-3e75-4ac9-8873-d6815d69aac8"
      },
      "outputs": [
        {
          "data": {
            "application/vnd.google.colaboratory.intrinsic+json": {
              "summary": "{\n  \"name\": \"results1[0]\",\n  \"rows\": 3,\n  \"fields\": [\n    {\n      \"column\": \"__nn_distance\",\n      \"properties\": {\n        \"dtype\": \"float32\",\n        \"num_unique_values\": 3,\n        \"samples\": [\n          0.6786811947822571,\n          0.6655914783477783,\n          0.6293923854827881\n        ],\n        \"semantic_type\": \"\",\n        \"description\": \"\"\n      }\n    },\n    {\n      \"column\": \"vectors\",\n      \"properties\": {\n        \"dtype\": \"object\",\n        \"semantic_type\": \"\",\n        \"description\": \"\"\n      }\n    },\n    {\n      \"column\": \"sentences\",\n      \"properties\": {\n        \"dtype\": \"string\",\n        \"num_unique_values\": 3,\n        \"samples\": [\n          \"Ted Mackereth\\n ,3, 4, 5, \\u2217and\\nJohn C. Forbes\\n2\\n1Department of Physics, University of Oxford, Denys Wilkinson Building, Keble Road, Oxford, OX1 3RH, UK\\n2School of Physical and Chemical Sciences\\u2014Te Kura Mat\\u00af u, University of Canterbury, Private Bag 4800, Christchurch 8140, New Zealand\\n3Just Group plc, Enterprise House, Bancroft road, Reigate, Surrey RH2 7RP, UK\\n4Canadian Institute for Theoretical Astrophysics, University of Toronto, 60 St. George Street, Toronto, ON, M5S 3H8, Canada\\n5Dunlap Institute for Astronomy and Astrophysics, University of Toronto, 50 St. George Street, Toronto, ON M5S 3H4, Canada\\nABSTRACT\\nThe Milky Way is thought to host a huge population of interstellar objects (ISOs), numbering\\napproximately 1015pc\\u22123around the Sun, which are formed and shaped by a diverse set of processes\\nranging from planet formation to galactic dynamics.\",\n          \"In this work, we develop\\nthis method and apply it to the stellar population of the Milky Way, estimated with data from the APOGEE survey, to\\npredict a broader set of properties of our own Galaxy\\u2019s population of interstellar objects.\",\n          \"Keywords: Interstellar objects (52), Small Solar System bodies(1469), Galaxy Evolution (594)\\n1.INTRODUCTION\\n1I/\\u2018Oumuamua (Meech et al.\"\n        ],\n        \"semantic_type\": \"\",\n        \"description\": \"\"\n      }\n    }\n  ]\n}",
              "type": "dataframe"
            },
            "text/html": [
              "\n",
              "  <div id=\"df-6a5fc206-e056-489b-81d0-aff091e376ad\" class=\"colab-df-container\">\n",
              "    <div>\n",
              "<style scoped>\n",
              "    .dataframe tbody tr th:only-of-type {\n",
              "        vertical-align: middle;\n",
              "    }\n",
              "\n",
              "    .dataframe tbody tr th {\n",
              "        vertical-align: top;\n",
              "    }\n",
              "\n",
              "    .dataframe thead th {\n",
              "        text-align: right;\n",
              "    }\n",
              "</style>\n",
              "<table border=\"1\" class=\"dataframe\">\n",
              "  <thead>\n",
              "    <tr style=\"text-align: right;\">\n",
              "      <th></th>\n",
              "      <th>__nn_distance</th>\n",
              "      <th>vectors</th>\n",
              "      <th>sentences</th>\n",
              "    </tr>\n",
              "  </thead>\n",
              "  <tbody>\n",
              "    <tr>\n",
              "      <th>0</th>\n",
              "      <td>0.678681</td>\n",
              "      <td>[-0.08154530823230743, -0.11342314630746841, 0.08425560593605042, 0.08849422633647919, 0.024723634123802185, -0.08773960173130035, -0.06128991022706032, 0.0106121264398098, 0.06387822329998016, 0.021902449429035187, -0.033225465565919876, -0.09321605414152145, -0.04425090178847313, -0.0568475760...</td>\n",
              "      <td>Ted Mackereth\\n ,3, 4, 5, ∗and\\nJohn C. Forbes\\n2\\n1Department of Physics, University of Oxford, Denys Wilkinson Building, Keble Road, Oxford, OX1 3RH, UK\\n2School of Physical and Chemical Sciences—Te Kura Mat¯ u, University of Canterbury, Private Bag 4800, Christchurch 8140, New Zealand\\n3Just ...</td>\n",
              "    </tr>\n",
              "    <tr>\n",
              "      <th>1</th>\n",
              "      <td>0.665591</td>\n",
              "      <td>[-0.0868825614452362, -0.023635495454072952, 0.06744848191738129, 0.08018778264522552, -0.05974714457988739, -0.03222731873393059, -0.008770040236413479, 0.04886192828416824, -0.05181043595075607, 0.017594708129763603, 0.024309009313583374, -0.09147438406944275, 0.038199249655008316, -0.06181899...</td>\n",
              "      <td>In this work, we develop\\nthis method and apply it to the stellar population of the Milky Way, estimated with data from the APOGEE survey, to\\npredict a broader set of properties of our own Galaxy’s population of interstellar objects.</td>\n",
              "    </tr>\n",
              "    <tr>\n",
              "      <th>2</th>\n",
              "      <td>0.629392</td>\n",
              "      <td>[-0.07292614132165909, 0.021450141444802284, 0.01660231687128544, 0.05125197023153305, -0.017564907670021057, -0.08743879944086075, -0.020641718059778214, 0.037198327481746674, -0.024873124435544014, 0.039150986820459366, 0.043217096477746964, -0.1320355087518692, -0.033658064901828766, -0.06451...</td>\n",
              "      <td>Keywords: Interstellar objects (52), Small Solar System bodies(1469), Galaxy Evolution (594)\\n1.INTRODUCTION\\n1I/‘Oumuamua (Meech et al.</td>\n",
              "    </tr>\n",
              "  </tbody>\n",
              "</table>\n",
              "</div>\n",
              "    <div class=\"colab-df-buttons\">\n",
              "\n",
              "  <div class=\"colab-df-container\">\n",
              "    <button class=\"colab-df-convert\" onclick=\"convertToInteractive('df-6a5fc206-e056-489b-81d0-aff091e376ad')\"\n",
              "            title=\"Convert this dataframe to an interactive table.\"\n",
              "            style=\"display:none;\">\n",
              "\n",
              "  <svg xmlns=\"http://www.w3.org/2000/svg\" height=\"24px\" viewBox=\"0 -960 960 960\">\n",
              "    <path d=\"M120-120v-720h720v720H120Zm60-500h600v-160H180v160Zm220 220h160v-160H400v160Zm0 220h160v-160H400v160ZM180-400h160v-160H180v160Zm440 0h160v-160H620v160ZM180-180h160v-160H180v160Zm440 0h160v-160H620v160Z\"/>\n",
              "  </svg>\n",
              "    </button>\n",
              "\n",
              "  <style>\n",
              "    .colab-df-container {\n",
              "      display:flex;\n",
              "      gap: 12px;\n",
              "    }\n",
              "\n",
              "    .colab-df-convert {\n",
              "      background-color: #E8F0FE;\n",
              "      border: none;\n",
              "      border-radius: 50%;\n",
              "      cursor: pointer;\n",
              "      display: none;\n",
              "      fill: #1967D2;\n",
              "      height: 32px;\n",
              "      padding: 0 0 0 0;\n",
              "      width: 32px;\n",
              "    }\n",
              "\n",
              "    .colab-df-convert:hover {\n",
              "      background-color: #E2EBFA;\n",
              "      box-shadow: 0px 1px 2px rgba(60, 64, 67, 0.3), 0px 1px 3px 1px rgba(60, 64, 67, 0.15);\n",
              "      fill: #174EA6;\n",
              "    }\n",
              "\n",
              "    .colab-df-buttons div {\n",
              "      margin-bottom: 4px;\n",
              "    }\n",
              "\n",
              "    [theme=dark] .colab-df-convert {\n",
              "      background-color: #3B4455;\n",
              "      fill: #D2E3FC;\n",
              "    }\n",
              "\n",
              "    [theme=dark] .colab-df-convert:hover {\n",
              "      background-color: #434B5C;\n",
              "      box-shadow: 0px 1px 3px 1px rgba(0, 0, 0, 0.15);\n",
              "      filter: drop-shadow(0px 1px 2px rgba(0, 0, 0, 0.3));\n",
              "      fill: #FFFFFF;\n",
              "    }\n",
              "  </style>\n",
              "\n",
              "    <script>\n",
              "      const buttonEl =\n",
              "        document.querySelector('#df-6a5fc206-e056-489b-81d0-aff091e376ad button.colab-df-convert');\n",
              "      buttonEl.style.display =\n",
              "        google.colab.kernel.accessAllowed ? 'block' : 'none';\n",
              "\n",
              "      async function convertToInteractive(key) {\n",
              "        const element = document.querySelector('#df-6a5fc206-e056-489b-81d0-aff091e376ad');\n",
              "        const dataTable =\n",
              "          await google.colab.kernel.invokeFunction('convertToInteractive',\n",
              "                                                    [key], {});\n",
              "        if (!dataTable) return;\n",
              "\n",
              "        const docLinkHtml = 'Like what you see? Visit the ' +\n",
              "          '<a target=\"_blank\" href=https://colab.research.google.com/notebooks/data_table.ipynb>data table notebook</a>'\n",
              "          + ' to learn more about interactive tables.';\n",
              "        element.innerHTML = '';\n",
              "        dataTable['output_type'] = 'display_data';\n",
              "        await google.colab.output.renderOutput(dataTable, element);\n",
              "        const docLink = document.createElement('div');\n",
              "        docLink.innerHTML = docLinkHtml;\n",
              "        element.appendChild(docLink);\n",
              "      }\n",
              "    </script>\n",
              "  </div>\n",
              "\n",
              "\n",
              "<div id=\"df-dc4a0a36-62fa-4421-9b39-5ce2d09a9bb1\">\n",
              "  <button class=\"colab-df-quickchart\" onclick=\"quickchart('df-dc4a0a36-62fa-4421-9b39-5ce2d09a9bb1')\"\n",
              "            title=\"Suggest charts\"\n",
              "            style=\"display:none;\">\n",
              "\n",
              "<svg xmlns=\"http://www.w3.org/2000/svg\" height=\"24px\"viewBox=\"0 0 24 24\"\n",
              "     width=\"24px\">\n",
              "    <g>\n",
              "        <path d=\"M19 3H5c-1.1 0-2 .9-2 2v14c0 1.1.9 2 2 2h14c1.1 0 2-.9 2-2V5c0-1.1-.9-2-2-2zM9 17H7v-7h2v7zm4 0h-2V7h2v10zm4 0h-2v-4h2v4z\"/>\n",
              "    </g>\n",
              "</svg>\n",
              "  </button>\n",
              "\n",
              "<style>\n",
              "  .colab-df-quickchart {\n",
              "      --bg-color: #E8F0FE;\n",
              "      --fill-color: #1967D2;\n",
              "      --hover-bg-color: #E2EBFA;\n",
              "      --hover-fill-color: #174EA6;\n",
              "      --disabled-fill-color: #AAA;\n",
              "      --disabled-bg-color: #DDD;\n",
              "  }\n",
              "\n",
              "  [theme=dark] .colab-df-quickchart {\n",
              "      --bg-color: #3B4455;\n",
              "      --fill-color: #D2E3FC;\n",
              "      --hover-bg-color: #434B5C;\n",
              "      --hover-fill-color: #FFFFFF;\n",
              "      --disabled-bg-color: #3B4455;\n",
              "      --disabled-fill-color: #666;\n",
              "  }\n",
              "\n",
              "  .colab-df-quickchart {\n",
              "    background-color: var(--bg-color);\n",
              "    border: none;\n",
              "    border-radius: 50%;\n",
              "    cursor: pointer;\n",
              "    display: none;\n",
              "    fill: var(--fill-color);\n",
              "    height: 32px;\n",
              "    padding: 0;\n",
              "    width: 32px;\n",
              "  }\n",
              "\n",
              "  .colab-df-quickchart:hover {\n",
              "    background-color: var(--hover-bg-color);\n",
              "    box-shadow: 0 1px 2px rgba(60, 64, 67, 0.3), 0 1px 3px 1px rgba(60, 64, 67, 0.15);\n",
              "    fill: var(--button-hover-fill-color);\n",
              "  }\n",
              "\n",
              "  .colab-df-quickchart-complete:disabled,\n",
              "  .colab-df-quickchart-complete:disabled:hover {\n",
              "    background-color: var(--disabled-bg-color);\n",
              "    fill: var(--disabled-fill-color);\n",
              "    box-shadow: none;\n",
              "  }\n",
              "\n",
              "  .colab-df-spinner {\n",
              "    border: 2px solid var(--fill-color);\n",
              "    border-color: transparent;\n",
              "    border-bottom-color: var(--fill-color);\n",
              "    animation:\n",
              "      spin 1s steps(1) infinite;\n",
              "  }\n",
              "\n",
              "  @keyframes spin {\n",
              "    0% {\n",
              "      border-color: transparent;\n",
              "      border-bottom-color: var(--fill-color);\n",
              "      border-left-color: var(--fill-color);\n",
              "    }\n",
              "    20% {\n",
              "      border-color: transparent;\n",
              "      border-left-color: var(--fill-color);\n",
              "      border-top-color: var(--fill-color);\n",
              "    }\n",
              "    30% {\n",
              "      border-color: transparent;\n",
              "      border-left-color: var(--fill-color);\n",
              "      border-top-color: var(--fill-color);\n",
              "      border-right-color: var(--fill-color);\n",
              "    }\n",
              "    40% {\n",
              "      border-color: transparent;\n",
              "      border-right-color: var(--fill-color);\n",
              "      border-top-color: var(--fill-color);\n",
              "    }\n",
              "    60% {\n",
              "      border-color: transparent;\n",
              "      border-right-color: var(--fill-color);\n",
              "    }\n",
              "    80% {\n",
              "      border-color: transparent;\n",
              "      border-right-color: var(--fill-color);\n",
              "      border-bottom-color: var(--fill-color);\n",
              "    }\n",
              "    90% {\n",
              "      border-color: transparent;\n",
              "      border-bottom-color: var(--fill-color);\n",
              "    }\n",
              "  }\n",
              "</style>\n",
              "\n",
              "  <script>\n",
              "    async function quickchart(key) {\n",
              "      const quickchartButtonEl =\n",
              "        document.querySelector('#' + key + ' button');\n",
              "      quickchartButtonEl.disabled = true;  // To prevent multiple clicks.\n",
              "      quickchartButtonEl.classList.add('colab-df-spinner');\n",
              "      try {\n",
              "        const charts = await google.colab.kernel.invokeFunction(\n",
              "            'suggestCharts', [key], {});\n",
              "      } catch (error) {\n",
              "        console.error('Error during call to suggestCharts:', error);\n",
              "      }\n",
              "      quickchartButtonEl.classList.remove('colab-df-spinner');\n",
              "      quickchartButtonEl.classList.add('colab-df-quickchart-complete');\n",
              "    }\n",
              "    (() => {\n",
              "      let quickchartButtonEl =\n",
              "        document.querySelector('#df-dc4a0a36-62fa-4421-9b39-5ce2d09a9bb1 button');\n",
              "      quickchartButtonEl.style.display =\n",
              "        google.colab.kernel.accessAllowed ? 'block' : 'none';\n",
              "    })();\n",
              "  </script>\n",
              "</div>\n",
              "\n",
              "    </div>\n",
              "  </div>\n"
            ],
            "text/plain": [
              "   __nn_distance  \\\n",
              "0       0.678681   \n",
              "1       0.665591   \n",
              "2       0.629392   \n",
              "\n",
              "                                                                                                                                                                                                                                                                                                       vectors  \\\n",
              "0  [-0.08154530823230743, -0.11342314630746841, 0.08425560593605042, 0.08849422633647919, 0.024723634123802185, -0.08773960173130035, -0.06128991022706032, 0.0106121264398098, 0.06387822329998016, 0.021902449429035187, -0.033225465565919876, -0.09321605414152145, -0.04425090178847313, -0.0568475760...   \n",
              "1  [-0.0868825614452362, -0.023635495454072952, 0.06744848191738129, 0.08018778264522552, -0.05974714457988739, -0.03222731873393059, -0.008770040236413479, 0.04886192828416824, -0.05181043595075607, 0.017594708129763603, 0.024309009313583374, -0.09147438406944275, 0.038199249655008316, -0.06181899...   \n",
              "2  [-0.07292614132165909, 0.021450141444802284, 0.01660231687128544, 0.05125197023153305, -0.017564907670021057, -0.08743879944086075, -0.020641718059778214, 0.037198327481746674, -0.024873124435544014, 0.039150986820459366, 0.043217096477746964, -0.1320355087518692, -0.033658064901828766, -0.06451...   \n",
              "\n",
              "                                                                                                                                                                                                                                                                                                     sentences  \n",
              "0  Ted Mackereth\\n ,3, 4, 5, ∗and\\nJohn C. Forbes\\n2\\n1Department of Physics, University of Oxford, Denys Wilkinson Building, Keble Road, Oxford, OX1 3RH, UK\\n2School of Physical and Chemical Sciences—Te Kura Mat¯ u, University of Canterbury, Private Bag 4800, Christchurch 8140, New Zealand\\n3Just ...  \n",
              "1                                                                   In this work, we develop\\nthis method and apply it to the stellar population of the Milky Way, estimated with data from the APOGEE survey, to\\npredict a broader set of properties of our own Galaxy’s population of interstellar objects.  \n",
              "2                                                                                                                                                                     Keywords: Interstellar objects (52), Small Solar System bodies(1469), Galaxy Evolution (594)\\n1.INTRODUCTION\\n1I/‘Oumuamua (Meech et al.  "
            ]
          },
          "execution_count": 59,
          "metadata": {},
          "output_type": "execute_result"
        }
      ],
      "source": [
        "results1 = table.search(vectors={\"hnsw_index\":[encoded_search_term1]}, n=3)\n",
        "results1[0]"
      ]
    },
    {
      "cell_type": "markdown",
      "id": "91762de7",
      "metadata": {
        "id": "91762de7"
      },
      "source": [
        "The results returned from `table.search` show the closest matches along with value of nearest neighbor distances `nn_distance`.\n",
        "We can see these sentences do reference our search term 'number of interstellar objects in the milky way' in some way.\n",
        "\n",
        "### Search 2\n",
        "\n",
        "Let's try another search term."
      ]
    },
    {
      "cell_type": "code",
      "execution_count": 61,
      "id": "e7486a9c",
      "metadata": {
        "id": "e7486a9c"
      },
      "outputs": [],
      "source": [
        "search_term2 = \"how does planet formation occur\""
      ]
    },
    {
      "cell_type": "code",
      "execution_count": 62,
      "id": "6765075c",
      "metadata": {
        "id": "6765075c"
      },
      "outputs": [],
      "source": [
        "encoded_search_term2 = model.encode(search_term2).tolist()"
      ]
    },
    {
      "cell_type": "code",
      "execution_count": 63,
      "id": "2d3ce969",
      "metadata": {
        "colab": {
          "base_uri": "https://localhost:8080/",
          "height": 351
        },
        "id": "2d3ce969",
        "outputId": "e40add3e-2045-473a-aaec-968f0d3af7de"
      },
      "outputs": [
        {
          "data": {
            "application/vnd.google.colaboratory.intrinsic+json": {
              "summary": "{\n  \"name\": \"results2[0]\",\n  \"rows\": 3,\n  \"fields\": [\n    {\n      \"column\": \"__nn_distance\",\n      \"properties\": {\n        \"dtype\": \"float32\",\n        \"num_unique_values\": 3,\n        \"samples\": [\n          0.5463818311691284,\n          0.533591628074646,\n          0.5229740142822266\n        ],\n        \"semantic_type\": \"\",\n        \"description\": \"\"\n      }\n    },\n    {\n      \"column\": \"vectors\",\n      \"properties\": {\n        \"dtype\": \"object\",\n        \"semantic_type\": \"\",\n        \"description\": \"\"\n      }\n    },\n    {\n      \"column\": \"sentences\",\n      \"properties\": {\n        \"dtype\": \"string\",\n        \"num_unique_values\": 3,\n        \"samples\": [\n          \"The pop-\\nulation\\u2019s dominant dynamical formation mechanisms would preferentially harvest more distant, ice-rich planetesimals\\nfrom the disks of the source systems.\",\n          \"A protoplanetary disk has to first order the same composition as the star it forms around,\\nsince they both form from the same molecular cloud core.\",\n          \"While in reality, stars will each produce a distribution of ISOs that\\nformed at different positions in their protoplanetary disk and thus have a range of compositions, this simplification\\nof only modelling planetesimals which form exterior to the water ice line is justified by the proportionally greater\\nreservoir of snowline-exterior planetesimals, and the higher efficiencies of formation mechanisms dynamically stripping\\nthem into the interstellar population (Fitzsimmons et al.\"\n        ],\n        \"semantic_type\": \"\",\n        \"description\": \"\"\n      }\n    }\n  ]\n}",
              "type": "dataframe"
            },
            "text/html": [
              "\n",
              "  <div id=\"df-c5d1e9c5-6139-48b0-9178-f04a65d1083a\" class=\"colab-df-container\">\n",
              "    <div>\n",
              "<style scoped>\n",
              "    .dataframe tbody tr th:only-of-type {\n",
              "        vertical-align: middle;\n",
              "    }\n",
              "\n",
              "    .dataframe tbody tr th {\n",
              "        vertical-align: top;\n",
              "    }\n",
              "\n",
              "    .dataframe thead th {\n",
              "        text-align: right;\n",
              "    }\n",
              "</style>\n",
              "<table border=\"1\" class=\"dataframe\">\n",
              "  <thead>\n",
              "    <tr style=\"text-align: right;\">\n",
              "      <th></th>\n",
              "      <th>__nn_distance</th>\n",
              "      <th>vectors</th>\n",
              "      <th>sentences</th>\n",
              "    </tr>\n",
              "  </thead>\n",
              "  <tbody>\n",
              "    <tr>\n",
              "      <th>0</th>\n",
              "      <td>0.546382</td>\n",
              "      <td>[-0.07665147632360458, -0.06582025438547134, 0.034305740147829056, 0.026705816388130188, 0.07752171903848648, -0.05098922178149223, 0.007996230386197567, 0.023463979363441467, 0.09635236114263535, 0.05890350416302681, -0.009348639287054539, -0.04947573319077492, 0.04072212800383568, -0.086648009...</td>\n",
              "      <td>The pop-\\nulation’s dominant dynamical formation mechanisms would preferentially harvest more distant, ice-rich planetesimals\\nfrom the disks of the source systems.</td>\n",
              "    </tr>\n",
              "    <tr>\n",
              "      <th>1</th>\n",
              "      <td>0.533592</td>\n",
              "      <td>[-0.011731946840882301, -0.06267537921667099, 0.08392807841300964, -0.036336500197649, -0.0021244140807539225, -0.05082397535443306, -0.00048589325160719454, -0.02759421430528164, 0.13681785762310028, 0.06662701815366745, -0.02651246450841427, -0.019386690109968185, 0.0160849429666996, -0.083458...</td>\n",
              "      <td>A protoplanetary disk has to first order the same composition as the star it forms around,\\nsince they both form from the same molecular cloud core.</td>\n",
              "    </tr>\n",
              "    <tr>\n",
              "      <th>2</th>\n",
              "      <td>0.522974</td>\n",
              "      <td>[-0.0878974199295044, -0.053996648639440536, 0.08170221745967865, 0.05057608336210251, -0.001267113140784204, -0.051809072494506836, -0.03642294555902481, 0.014396563172340393, 0.10822276026010513, 0.043686095625162125, -0.07996439933776855, -0.07062527537345886, 0.05373870208859444, -0.06110462...</td>\n",
              "      <td>While in reality, stars will each produce a distribution of ISOs that\\nformed at different positions in their protoplanetary disk and thus have a range of compositions, this simplification\\nof only modelling planetesimals which form exterior to the water ice line is justified by the proportional...</td>\n",
              "    </tr>\n",
              "  </tbody>\n",
              "</table>\n",
              "</div>\n",
              "    <div class=\"colab-df-buttons\">\n",
              "\n",
              "  <div class=\"colab-df-container\">\n",
              "    <button class=\"colab-df-convert\" onclick=\"convertToInteractive('df-c5d1e9c5-6139-48b0-9178-f04a65d1083a')\"\n",
              "            title=\"Convert this dataframe to an interactive table.\"\n",
              "            style=\"display:none;\">\n",
              "\n",
              "  <svg xmlns=\"http://www.w3.org/2000/svg\" height=\"24px\" viewBox=\"0 -960 960 960\">\n",
              "    <path d=\"M120-120v-720h720v720H120Zm60-500h600v-160H180v160Zm220 220h160v-160H400v160Zm0 220h160v-160H400v160ZM180-400h160v-160H180v160Zm440 0h160v-160H620v160ZM180-180h160v-160H180v160Zm440 0h160v-160H620v160Z\"/>\n",
              "  </svg>\n",
              "    </button>\n",
              "\n",
              "  <style>\n",
              "    .colab-df-container {\n",
              "      display:flex;\n",
              "      gap: 12px;\n",
              "    }\n",
              "\n",
              "    .colab-df-convert {\n",
              "      background-color: #E8F0FE;\n",
              "      border: none;\n",
              "      border-radius: 50%;\n",
              "      cursor: pointer;\n",
              "      display: none;\n",
              "      fill: #1967D2;\n",
              "      height: 32px;\n",
              "      padding: 0 0 0 0;\n",
              "      width: 32px;\n",
              "    }\n",
              "\n",
              "    .colab-df-convert:hover {\n",
              "      background-color: #E2EBFA;\n",
              "      box-shadow: 0px 1px 2px rgba(60, 64, 67, 0.3), 0px 1px 3px 1px rgba(60, 64, 67, 0.15);\n",
              "      fill: #174EA6;\n",
              "    }\n",
              "\n",
              "    .colab-df-buttons div {\n",
              "      margin-bottom: 4px;\n",
              "    }\n",
              "\n",
              "    [theme=dark] .colab-df-convert {\n",
              "      background-color: #3B4455;\n",
              "      fill: #D2E3FC;\n",
              "    }\n",
              "\n",
              "    [theme=dark] .colab-df-convert:hover {\n",
              "      background-color: #434B5C;\n",
              "      box-shadow: 0px 1px 3px 1px rgba(0, 0, 0, 0.15);\n",
              "      filter: drop-shadow(0px 1px 2px rgba(0, 0, 0, 0.3));\n",
              "      fill: #FFFFFF;\n",
              "    }\n",
              "  </style>\n",
              "\n",
              "    <script>\n",
              "      const buttonEl =\n",
              "        document.querySelector('#df-c5d1e9c5-6139-48b0-9178-f04a65d1083a button.colab-df-convert');\n",
              "      buttonEl.style.display =\n",
              "        google.colab.kernel.accessAllowed ? 'block' : 'none';\n",
              "\n",
              "      async function convertToInteractive(key) {\n",
              "        const element = document.querySelector('#df-c5d1e9c5-6139-48b0-9178-f04a65d1083a');\n",
              "        const dataTable =\n",
              "          await google.colab.kernel.invokeFunction('convertToInteractive',\n",
              "                                                    [key], {});\n",
              "        if (!dataTable) return;\n",
              "\n",
              "        const docLinkHtml = 'Like what you see? Visit the ' +\n",
              "          '<a target=\"_blank\" href=https://colab.research.google.com/notebooks/data_table.ipynb>data table notebook</a>'\n",
              "          + ' to learn more about interactive tables.';\n",
              "        element.innerHTML = '';\n",
              "        dataTable['output_type'] = 'display_data';\n",
              "        await google.colab.output.renderOutput(dataTable, element);\n",
              "        const docLink = document.createElement('div');\n",
              "        docLink.innerHTML = docLinkHtml;\n",
              "        element.appendChild(docLink);\n",
              "      }\n",
              "    </script>\n",
              "  </div>\n",
              "\n",
              "\n",
              "<div id=\"df-0195e38a-0c0f-423b-9e06-2f1f02521f35\">\n",
              "  <button class=\"colab-df-quickchart\" onclick=\"quickchart('df-0195e38a-0c0f-423b-9e06-2f1f02521f35')\"\n",
              "            title=\"Suggest charts\"\n",
              "            style=\"display:none;\">\n",
              "\n",
              "<svg xmlns=\"http://www.w3.org/2000/svg\" height=\"24px\"viewBox=\"0 0 24 24\"\n",
              "     width=\"24px\">\n",
              "    <g>\n",
              "        <path d=\"M19 3H5c-1.1 0-2 .9-2 2v14c0 1.1.9 2 2 2h14c1.1 0 2-.9 2-2V5c0-1.1-.9-2-2-2zM9 17H7v-7h2v7zm4 0h-2V7h2v10zm4 0h-2v-4h2v4z\"/>\n",
              "    </g>\n",
              "</svg>\n",
              "  </button>\n",
              "\n",
              "<style>\n",
              "  .colab-df-quickchart {\n",
              "      --bg-color: #E8F0FE;\n",
              "      --fill-color: #1967D2;\n",
              "      --hover-bg-color: #E2EBFA;\n",
              "      --hover-fill-color: #174EA6;\n",
              "      --disabled-fill-color: #AAA;\n",
              "      --disabled-bg-color: #DDD;\n",
              "  }\n",
              "\n",
              "  [theme=dark] .colab-df-quickchart {\n",
              "      --bg-color: #3B4455;\n",
              "      --fill-color: #D2E3FC;\n",
              "      --hover-bg-color: #434B5C;\n",
              "      --hover-fill-color: #FFFFFF;\n",
              "      --disabled-bg-color: #3B4455;\n",
              "      --disabled-fill-color: #666;\n",
              "  }\n",
              "\n",
              "  .colab-df-quickchart {\n",
              "    background-color: var(--bg-color);\n",
              "    border: none;\n",
              "    border-radius: 50%;\n",
              "    cursor: pointer;\n",
              "    display: none;\n",
              "    fill: var(--fill-color);\n",
              "    height: 32px;\n",
              "    padding: 0;\n",
              "    width: 32px;\n",
              "  }\n",
              "\n",
              "  .colab-df-quickchart:hover {\n",
              "    background-color: var(--hover-bg-color);\n",
              "    box-shadow: 0 1px 2px rgba(60, 64, 67, 0.3), 0 1px 3px 1px rgba(60, 64, 67, 0.15);\n",
              "    fill: var(--button-hover-fill-color);\n",
              "  }\n",
              "\n",
              "  .colab-df-quickchart-complete:disabled,\n",
              "  .colab-df-quickchart-complete:disabled:hover {\n",
              "    background-color: var(--disabled-bg-color);\n",
              "    fill: var(--disabled-fill-color);\n",
              "    box-shadow: none;\n",
              "  }\n",
              "\n",
              "  .colab-df-spinner {\n",
              "    border: 2px solid var(--fill-color);\n",
              "    border-color: transparent;\n",
              "    border-bottom-color: var(--fill-color);\n",
              "    animation:\n",
              "      spin 1s steps(1) infinite;\n",
              "  }\n",
              "\n",
              "  @keyframes spin {\n",
              "    0% {\n",
              "      border-color: transparent;\n",
              "      border-bottom-color: var(--fill-color);\n",
              "      border-left-color: var(--fill-color);\n",
              "    }\n",
              "    20% {\n",
              "      border-color: transparent;\n",
              "      border-left-color: var(--fill-color);\n",
              "      border-top-color: var(--fill-color);\n",
              "    }\n",
              "    30% {\n",
              "      border-color: transparent;\n",
              "      border-left-color: var(--fill-color);\n",
              "      border-top-color: var(--fill-color);\n",
              "      border-right-color: var(--fill-color);\n",
              "    }\n",
              "    40% {\n",
              "      border-color: transparent;\n",
              "      border-right-color: var(--fill-color);\n",
              "      border-top-color: var(--fill-color);\n",
              "    }\n",
              "    60% {\n",
              "      border-color: transparent;\n",
              "      border-right-color: var(--fill-color);\n",
              "    }\n",
              "    80% {\n",
              "      border-color: transparent;\n",
              "      border-right-color: var(--fill-color);\n",
              "      border-bottom-color: var(--fill-color);\n",
              "    }\n",
              "    90% {\n",
              "      border-color: transparent;\n",
              "      border-bottom-color: var(--fill-color);\n",
              "    }\n",
              "  }\n",
              "</style>\n",
              "\n",
              "  <script>\n",
              "    async function quickchart(key) {\n",
              "      const quickchartButtonEl =\n",
              "        document.querySelector('#' + key + ' button');\n",
              "      quickchartButtonEl.disabled = true;  // To prevent multiple clicks.\n",
              "      quickchartButtonEl.classList.add('colab-df-spinner');\n",
              "      try {\n",
              "        const charts = await google.colab.kernel.invokeFunction(\n",
              "            'suggestCharts', [key], {});\n",
              "      } catch (error) {\n",
              "        console.error('Error during call to suggestCharts:', error);\n",
              "      }\n",
              "      quickchartButtonEl.classList.remove('colab-df-spinner');\n",
              "      quickchartButtonEl.classList.add('colab-df-quickchart-complete');\n",
              "    }\n",
              "    (() => {\n",
              "      let quickchartButtonEl =\n",
              "        document.querySelector('#df-0195e38a-0c0f-423b-9e06-2f1f02521f35 button');\n",
              "      quickchartButtonEl.style.display =\n",
              "        google.colab.kernel.accessAllowed ? 'block' : 'none';\n",
              "    })();\n",
              "  </script>\n",
              "</div>\n",
              "\n",
              "    </div>\n",
              "  </div>\n"
            ],
            "text/plain": [
              "   __nn_distance  \\\n",
              "0       0.546382   \n",
              "1       0.533592   \n",
              "2       0.522974   \n",
              "\n",
              "                                                                                                                                                                                                                                                                                                       vectors  \\\n",
              "0  [-0.07665147632360458, -0.06582025438547134, 0.034305740147829056, 0.026705816388130188, 0.07752171903848648, -0.05098922178149223, 0.007996230386197567, 0.023463979363441467, 0.09635236114263535, 0.05890350416302681, -0.009348639287054539, -0.04947573319077492, 0.04072212800383568, -0.086648009...   \n",
              "1  [-0.011731946840882301, -0.06267537921667099, 0.08392807841300964, -0.036336500197649, -0.0021244140807539225, -0.05082397535443306, -0.00048589325160719454, -0.02759421430528164, 0.13681785762310028, 0.06662701815366745, -0.02651246450841427, -0.019386690109968185, 0.0160849429666996, -0.083458...   \n",
              "2  [-0.0878974199295044, -0.053996648639440536, 0.08170221745967865, 0.05057608336210251, -0.001267113140784204, -0.051809072494506836, -0.03642294555902481, 0.014396563172340393, 0.10822276026010513, 0.043686095625162125, -0.07996439933776855, -0.07062527537345886, 0.05373870208859444, -0.06110462...   \n",
              "\n",
              "                                                                                                                                                                                                                                                                                                     sentences  \n",
              "0                                                                                                                                         The pop-\\nulation’s dominant dynamical formation mechanisms would preferentially harvest more distant, ice-rich planetesimals\\nfrom the disks of the source systems.  \n",
              "1                                                                                                                                                         A protoplanetary disk has to first order the same composition as the star it forms around,\\nsince they both form from the same molecular cloud core.  \n",
              "2  While in reality, stars will each produce a distribution of ISOs that\\nformed at different positions in their protoplanetary disk and thus have a range of compositions, this simplification\\nof only modelling planetesimals which form exterior to the water ice line is justified by the proportional...  "
            ]
          },
          "execution_count": 63,
          "metadata": {},
          "output_type": "execute_result"
        }
      ],
      "source": [
        "results2 = table.search(vectors={\"hnsw_index\":[encoded_search_term2]}, n=3)\n",
        "results2[0]"
      ]
    },
    {
      "cell_type": "markdown",
      "id": "25ce337f",
      "metadata": {
        "id": "25ce337f"
      },
      "source": [
        "Again, we can see these sentences do reference our search term 'how does planet formation occur' in some way."
      ]
    },
    {
      "cell_type": "markdown",
      "id": "f6e93878",
      "metadata": {
        "id": "f6e93878"
      },
      "source": [
        "## 5. Delete the KDB.AI Database & Table\n",
        "\n",
        "Once finished with the database & table, it is best practice to drop it."
      ]
    },
    {
      "cell_type": "code",
      "execution_count": 64,
      "id": "d74b6f20",
      "metadata": {
        "colab": {
          "base_uri": "https://localhost:8080/"
        },
        "id": "d74b6f20",
        "outputId": "9fbfd16b-ae0b-4e54-d6b5-3e0be2e0af26"
      },
      "outputs": [
        {
          "data": {
            "text/plain": [
              "True"
            ]
          },
          "execution_count": 64,
          "metadata": {},
          "output_type": "execute_result"
        }
      ],
      "source": [
        "table.drop()\n",
        "db.drop()"
      ]
    },
    {
      "cell_type": "markdown",
      "id": "346d56db",
      "metadata": {
        "id": "346d56db"
      },
      "source": [
        "## Take Our Survey\n",
        "\n",
        "We hope you found this sample helpful! Your feedback is important to us, and we would appreciate it if you could take a moment to fill out our brief survey. Your input helps us improve our content.\n",
        "\n",
        "[**Take the Survey**](https://delighted.com/t/ezUwZ88a)"
      ]
    }
  ],
  "metadata": {
    "colab": {
      "provenance": []
    },
    "kernelspec": {
      "display_name": "Python 3 (ipykernel)",
      "language": "python",
      "name": "python3"
    },
    "language_info": {
      "codemirror_mode": {
        "name": "ipython",
        "version": 3
      },
      "file_extension": ".py",
      "mimetype": "text/x-python",
      "name": "python",
      "nbconvert_exporter": "python",
      "pygments_lexer": "ipython3",
      "version": "3.10.12"
    }
  },
  "nbformat": 4,
  "nbformat_minor": 5
}
