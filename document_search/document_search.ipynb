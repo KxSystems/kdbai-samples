{
 "cells": [
  {
   "cell_type": "markdown",
   "id": "3280b01a-d3b7-4ef6-9494-789d15bc48ec",
   "metadata": {},
   "source": [
    "# Semantic Search on PDF Documents\n",
    "\n",
    "This example demonstrates how to use KDB.AI to run semantic search on unstructured text documents. \n",
    "\n",
    "Semantic search allows users to perform searches based on the meaning or similarity of the data rather than exact matches. It works by converting the query into a vector representation and then finding similar vectors in the database. This way, even if the query and the data in the database are not identical, the system can identify and retrieve the most relevant results based on their semantic meaning.\n",
    "\n",
    "### Aim\n",
    "In this tutorial, we'll walk you through the process of performing semantic search on documents, taking PDFs as example, using KDB.AI as the vector store. We will cover the following topics:\n",
    "\n",
    "1. Load PDF Data\n",
    "1. Create Sentence Vector Embeddings\n",
    "1. Store Embeddings in KDB.AI\n",
    "1. Search For Similar Sentences To A Target Sentence\n",
    "1. Delete the KDB.AI Table\n",
    "\n",
    "---"
   ]
  },
  {
   "cell_type": "markdown",
   "id": "75362bc9",
   "metadata": {},
   "source": [
    "## 0. Setup"
   ]
  },
  {
   "cell_type": "markdown",
   "id": "b19c5107-001e-40c2-bfe7-6c9c99e4846d",
   "metadata": {},
   "source": [
    "### Set Environment Variables"
   ]
  },
  {
   "cell_type": "code",
   "execution_count": 1,
   "id": "2b1c0d58-c704-46e9-8705-93918444abd2",
   "metadata": {},
   "outputs": [],
   "source": [
    "import os"
   ]
  },
  {
   "cell_type": "code",
   "execution_count": 2,
   "id": "e2784416-e45f-4c51-ad12-3ce84382ff38",
   "metadata": {},
   "outputs": [],
   "source": [
    "### ignore tensorflow warnings\n",
    "os.environ[\"TF_CPP_MIN_LOG_LEVEL\"] = \"3\""
   ]
  },
  {
   "cell_type": "markdown",
   "id": "21979389",
   "metadata": {},
   "source": [
    "### Import Packages"
   ]
  },
  {
   "cell_type": "code",
   "execution_count": 3,
   "id": "e6858852",
   "metadata": {},
   "outputs": [],
   "source": [
    "# load data\n",
    "import pypdf\n",
    "from nltk.tokenize import sent_tokenize"
   ]
  },
  {
   "cell_type": "code",
   "execution_count": 4,
   "id": "9b5a731a",
   "metadata": {},
   "outputs": [],
   "source": [
    "# embeddings\n",
    "import numpy as np\n",
    "import pandas as pd\n",
    "from sentence_transformers import SentenceTransformer"
   ]
  },
  {
   "cell_type": "code",
   "execution_count": 5,
   "id": "2030c51f",
   "metadata": {},
   "outputs": [],
   "source": [
    "# vector DB\n",
    "import os\n",
    "import kdbai_client as kdbai\n",
    "from getpass import getpass\n",
    "import time"
   ]
  },
  {
   "cell_type": "markdown",
   "id": "8594c911",
   "metadata": {},
   "source": [
    "### Configure Console"
   ]
  },
  {
   "cell_type": "code",
   "execution_count": 6,
   "id": "b870117b",
   "metadata": {},
   "outputs": [],
   "source": [
    "pd.set_option(\"display.max_colwidth\", 300)"
   ]
  },
  {
   "cell_type": "markdown",
   "id": "8a425b33",
   "metadata": {},
   "source": [
    "### Define Helper Functions"
   ]
  },
  {
   "cell_type": "code",
   "execution_count": 7,
   "id": "9a135635",
   "metadata": {},
   "outputs": [],
   "source": [
    "def show_df(df: pd.DataFrame) -> pd.DataFrame:\n",
    "    print(df.shape)\n",
    "    return df.head()"
   ]
  },
  {
   "cell_type": "markdown",
   "id": "48826990",
   "metadata": {},
   "source": [
    "## 1. Load PDF Data"
   ]
  },
  {
   "cell_type": "markdown",
   "id": "b2992812-4705-489d-974f-b7b44132343a",
   "metadata": {},
   "source": [
    "### Read Text From PDF Document\n",
    "\n",
    "We leverage the power of PyPDF2 for PDF processing and `nltk` for advanced natural language processing. The code below extracts content from each page of the PDF and processes it to identify sentences.\n",
    "\n",
    "The PDF we are using is [this research paper](https://arxiv.org/pdf/2308.05801.pdf) presenting information on the formation of Interstellar Objects in the Milky Way."
   ]
  },
  {
   "cell_type": "code",
   "execution_count": 8,
   "id": "e0b573ca",
   "metadata": {},
   "outputs": [],
   "source": [
    "# Read PDF file\n",
    "with open(\"data/research_paper.pdf\", \"rb\") as pdf_file:\n",
    "    pdf_pages = pypdf.PdfReader(pdf_file).pages\n",
    "    page_list = [page.extract_text() for page in pdf_pages]"
   ]
  },
  {
   "cell_type": "code",
   "execution_count": 9,
   "id": "7f36f018",
   "metadata": {},
   "outputs": [],
   "source": [
    "# Concatenate text from each page\n",
    "full_pdf_text = \"\".join(page_list)"
   ]
  },
  {
   "cell_type": "markdown",
   "id": "65ec052a",
   "metadata": {},
   "source": [
    "### Split The Text Into Sentences"
   ]
  },
  {
   "cell_type": "markdown",
   "id": "4f129e3b",
   "metadata": {},
   "source": [
    "<div class=\"alert alert-block alert-warning\">\n",
    "    <b>Note: </b>\n",
    "    Before running the following line of code, please ensure that you have installed the English sentence tokenizer as stated in the `README.md` file in this repository.\n",
    "</div>"
   ]
  },
  {
   "cell_type": "code",
   "execution_count": 10,
   "id": "5cbf9ede-6ed3-4171-bc77-2da673dcff6b",
   "metadata": {},
   "outputs": [
    {
     "data": {
      "text/plain": [
       "591"
      ]
     },
     "execution_count": 10,
     "metadata": {},
     "output_type": "execute_result"
    }
   ],
   "source": [
    "# Split the PDF into sentences\n",
    "pdf_sentences = sent_tokenize(full_pdf_text)\n",
    "len(pdf_sentences)"
   ]
  },
  {
   "cell_type": "code",
   "execution_count": 11,
   "id": "2558747e-4559-44b2-8ecb-88a583cc0ceb",
   "metadata": {},
   "outputs": [
    {
     "data": {
      "text/plain": [
       "'Draft version August 14, 2023\\nTypeset using L ATEX default style in AASTeX631\\nThe Galactic Interstellar Object Population: A Framework for Prediction and Inference\\nMatthew J. Hopkins\\n ,1Chris Lintott\\n ,1Michele T. Bannister\\n ,2J.'"
      ]
     },
     "execution_count": 11,
     "metadata": {},
     "output_type": "execute_result"
    }
   ],
   "source": [
    "pdf_sentences[0]"
   ]
  },
  {
   "cell_type": "markdown",
   "id": "d9ea4179-8b26-4c40-89aa-ef6da11aafdf",
   "metadata": {},
   "source": [
    "## 2. Create Sentence Vector Embeddings "
   ]
  },
  {
   "cell_type": "markdown",
   "id": "3ae1706a-6046-4dae-9b54-a59d4805f286",
   "metadata": {},
   "source": [
    "Next, we use the Sentence Transformers library to create embeddings for our collection of sentences.\n",
    "\n",
    "### Selecting a Sentence Transformer Model\n",
    "\n",
    "There are 100+ of different types of Sentence Transformers models available - see [HuggingFace](https://huggingface.co/sentence-transformers) for the full list. The diversity among these primarily stems from variations in their training data. Selecting the ideal model for your needs involves matching the domain and task closely, while also considering the benefits of incorporating larger datasets to enhance scale. \n",
    "\n",
    "This tutorial will use the `all-MiniLM-L6-v2` pre-trained model. This embedding model can create sentence and document embeddings that can be used for a wide variety of tasks including semantic search which makes it a good choice for our needs."
   ]
  },
  {
   "cell_type": "code",
   "execution_count": 12,
   "id": "665d805f",
   "metadata": {},
   "outputs": [],
   "source": [
    "model = SentenceTransformer(\"all-MiniLM-L6-v2\")"
   ]
  },
  {
   "cell_type": "markdown",
   "id": "7fa4aaf7-69c5-4c56-b058-32ced66a62ee",
   "metadata": {},
   "source": [
    "### Generate Sentence Embeddings Using This Model\n",
    "\n",
    "We prepare embeddings by applying the sentence transformer model to our sentences to encode them. The we do some transformation to get this into DataFrame which is the format accepted by KDB.AI."
   ]
  },
  {
   "cell_type": "code",
   "execution_count": 13,
   "id": "bddc4003",
   "metadata": {},
   "outputs": [],
   "source": [
    "# Create embeddings\n",
    "embeddings_list = model.encode(np.array(pdf_sentences)).tolist()\n",
    "embeddings_df = pd.DataFrame({\"vectors\": embeddings_list, \"sentences\": pdf_sentences})"
   ]
  },
  {
   "cell_type": "code",
   "execution_count": 14,
   "id": "1d05b99a-121c-429e-864a-ee4bc5739224",
   "metadata": {},
   "outputs": [
    {
     "name": "stdout",
     "output_type": "stream",
     "text": [
      "(591, 2)\n"
     ]
    },
    {
     "data": {
      "text/html": [
       "<div>\n",
       "<style scoped>\n",
       "    .dataframe tbody tr th:only-of-type {\n",
       "        vertical-align: middle;\n",
       "    }\n",
       "\n",
       "    .dataframe tbody tr th {\n",
       "        vertical-align: top;\n",
       "    }\n",
       "\n",
       "    .dataframe thead th {\n",
       "        text-align: right;\n",
       "    }\n",
       "</style>\n",
       "<table border=\"1\" class=\"dataframe\">\n",
       "  <thead>\n",
       "    <tr style=\"text-align: right;\">\n",
       "      <th></th>\n",
       "      <th>vectors</th>\n",
       "      <th>sentences</th>\n",
       "    </tr>\n",
       "  </thead>\n",
       "  <tbody>\n",
       "    <tr>\n",
       "      <th>0</th>\n",
       "      <td>[-0.059804268181324005, -0.09221812337636948, 0.058070000261068344, 0.06884292513132095, -0.00304530281573534, 0.0073042758740484715, -0.02895909734070301, 0.05957881733775139, 0.017943765968084335, 0.0435011088848114, 0.005012931302189827, -0.07875000685453415, -0.02570343017578125, -0.04147786...</td>\n",
       "      <td>Draft version August 14, 2023\\nTypeset using L ATEX default style in AASTeX631\\nThe Galactic Interstellar Object Population: A Framework for Prediction and Inference\\nMatthew J. Hopkins\\n ,1Chris Lintott\\n ,1Michele T. Bannister\\n ,2J.</td>\n",
       "    </tr>\n",
       "    <tr>\n",
       "      <th>1</th>\n",
       "      <td>[-0.08154534548521042, -0.1134231761097908, 0.08425557613372803, 0.08849424868822098, 0.024723690003156662, -0.08773959428071976, -0.06128990650177002, 0.01061215903609991, 0.06387816369533539, 0.021902453154325485, -0.03322550654411316, -0.09321600943803787, -0.04425088316202164, -0.05684755370...</td>\n",
       "      <td>Ted Mackereth\\n ,3, 4, 5, ∗and\\nJohn C. Forbes\\n2\\n1Department of Physics, University of Oxford, Denys Wilkinson Building, Keble Road, Oxford, OX1 3RH, UK\\n2School of Physical and Chemical Sciences—Te Kura Mat¯ u, University of Canterbury, Private Bag 4800, Christchurch 8140, New Zealand\\n3Just ...</td>\n",
       "    </tr>\n",
       "    <tr>\n",
       "      <th>2</th>\n",
       "      <td>[-0.07799113541841507, -0.08398672193288803, 0.027237098664045334, 0.09858059883117676, 0.010515064932405949, -0.016703935340046883, -0.05579749494791031, 0.027984393760561943, 0.03926646336913109, 0.03248242288827896, 0.038379862904548645, -0.12464363873004913, -0.012645186856389046, -0.0182884...</td>\n",
       "      <td>We define a novel framework: firstly to predict\\nthe properties of this Galactic ISO population by combining models of processes across planetary\\nand galactic scales, and secondly to make inferences about the processes modelled, by comparing the\\npredicted population to what is observed.</td>\n",
       "    </tr>\n",
       "    <tr>\n",
       "      <th>3</th>\n",
       "      <td>[-0.05338568240404129, -0.03714732825756073, 0.07784586399793625, 0.051659490913152695, -0.07674476504325867, -0.007766887079924345, 0.008464711718261242, 0.04289114475250244, 0.04356802999973297, 0.06012841686606407, 0.044070351868867874, -0.10177759826183319, 0.030359644442796707, -0.034037191...</td>\n",
       "      <td>We predict the spatial and compositional distribution of the\\nGalaxy’s population of ISOs by modelling the Galactic stellar population with data from the APOGEE\\nsurvey and combining this with a protoplanetary disk chemistry model.</td>\n",
       "    </tr>\n",
       "    <tr>\n",
       "      <th>4</th>\n",
       "      <td>[-0.06326980888843536, -0.01720455102622509, 0.04773722216486931, 0.0832536369562149, 0.0329662561416626, -0.0660020187497139, 0.0015915802214294672, 0.0032460016664117575, 0.03456268459558487, -0.020524034276604652, 0.0412253700196743, -0.15274155139923096, -0.011771155521273613, 0.073143251240...</td>\n",
       "      <td>Selecting ISO water mass\\nfraction as an example observable quantity, we evaluate its distribution both at the position of the Sun\\nand averaged over the Galactic disk; our prediction for the Solar neighbourhood is compatible with the\\ninferred water mass fraction of 2I/Borisov.</td>\n",
       "    </tr>\n",
       "  </tbody>\n",
       "</table>\n",
       "</div>"
      ],
      "text/plain": [
       "                                                                                                                                                                                                                                                                                                       vectors  \\\n",
       "0  [-0.059804268181324005, -0.09221812337636948, 0.058070000261068344, 0.06884292513132095, -0.00304530281573534, 0.0073042758740484715, -0.02895909734070301, 0.05957881733775139, 0.017943765968084335, 0.0435011088848114, 0.005012931302189827, -0.07875000685453415, -0.02570343017578125, -0.04147786...   \n",
       "1  [-0.08154534548521042, -0.1134231761097908, 0.08425557613372803, 0.08849424868822098, 0.024723690003156662, -0.08773959428071976, -0.06128990650177002, 0.01061215903609991, 0.06387816369533539, 0.021902453154325485, -0.03322550654411316, -0.09321600943803787, -0.04425088316202164, -0.05684755370...   \n",
       "2  [-0.07799113541841507, -0.08398672193288803, 0.027237098664045334, 0.09858059883117676, 0.010515064932405949, -0.016703935340046883, -0.05579749494791031, 0.027984393760561943, 0.03926646336913109, 0.03248242288827896, 0.038379862904548645, -0.12464363873004913, -0.012645186856389046, -0.0182884...   \n",
       "3  [-0.05338568240404129, -0.03714732825756073, 0.07784586399793625, 0.051659490913152695, -0.07674476504325867, -0.007766887079924345, 0.008464711718261242, 0.04289114475250244, 0.04356802999973297, 0.06012841686606407, 0.044070351868867874, -0.10177759826183319, 0.030359644442796707, -0.034037191...   \n",
       "4  [-0.06326980888843536, -0.01720455102622509, 0.04773722216486931, 0.0832536369562149, 0.0329662561416626, -0.0660020187497139, 0.0015915802214294672, 0.0032460016664117575, 0.03456268459558487, -0.020524034276604652, 0.0412253700196743, -0.15274155139923096, -0.011771155521273613, 0.073143251240...   \n",
       "\n",
       "                                                                                                                                                                                                                                                                                                     sentences  \n",
       "0                                                                  Draft version August 14, 2023\\nTypeset using L ATEX default style in AASTeX631\\nThe Galactic Interstellar Object Population: A Framework for Prediction and Inference\\nMatthew J. Hopkins\\n ,1Chris Lintott\\n ,1Michele T. Bannister\\n ,2J.  \n",
       "1  Ted Mackereth\\n ,3, 4, 5, ∗and\\nJohn C. Forbes\\n2\\n1Department of Physics, University of Oxford, Denys Wilkinson Building, Keble Road, Oxford, OX1 3RH, UK\\n2School of Physical and Chemical Sciences—Te Kura Mat¯ u, University of Canterbury, Private Bag 4800, Christchurch 8140, New Zealand\\n3Just ...  \n",
       "2            We define a novel framework: firstly to predict\\nthe properties of this Galactic ISO population by combining models of processes across planetary\\nand galactic scales, and secondly to make inferences about the processes modelled, by comparing the\\npredicted population to what is observed.  \n",
       "3                                                                      We predict the spatial and compositional distribution of the\\nGalaxy’s population of ISOs by modelling the Galactic stellar population with data from the APOGEE\\nsurvey and combining this with a protoplanetary disk chemistry model.  \n",
       "4                      Selecting ISO water mass\\nfraction as an example observable quantity, we evaluate its distribution both at the position of the Sun\\nand averaged over the Galactic disk; our prediction for the Solar neighbourhood is compatible with the\\ninferred water mass fraction of 2I/Borisov.  "
      ]
     },
     "execution_count": 14,
     "metadata": {},
     "output_type": "execute_result"
    }
   ],
   "source": [
    "show_df(embeddings_df)"
   ]
  },
  {
   "cell_type": "markdown",
   "id": "edd119e3",
   "metadata": {},
   "source": [
    "It is important to note the dimension of our embeddings is 384. This will need to match the dimensions we set in the KDB.AI index in the next step. We can easily check this using `len` to count elements in our vector."
   ]
  },
  {
   "cell_type": "code",
   "execution_count": 15,
   "id": "ce60a36c",
   "metadata": {},
   "outputs": [
    {
     "data": {
      "text/plain": [
       "384"
      ]
     },
     "execution_count": 15,
     "metadata": {},
     "output_type": "execute_result"
    }
   ],
   "source": [
    "len(embeddings_df[\"vectors\"][0])"
   ]
  },
  {
   "cell_type": "markdown",
   "id": "8c1f910b",
   "metadata": {},
   "source": [
    "## 3. Store Embeddings in KDB.AI"
   ]
  },
  {
   "cell_type": "markdown",
   "id": "70505eae-4138-4ba8-80e9-fc13c37d0b32",
   "metadata": {},
   "source": [
    "With the embeddings created, we need to store them in a vector database to enable efficient searching. KDB.AI is perfect for this task.\n",
    "\n",
    "KDB.AI comes in two offerings:\n",
    "\n",
    "1. [KDB.AI Cloud](https://trykdb.kx.com/kdbai/signup/) - For experimenting with smaller generative AI projects with a vector database in our cloud.\n",
    "2. [KDB.AI Server](https://trykdb.kx.com/kdbaiserver/signup/) - For evaluating large scale generative AI applications on-premises or on your own cloud provider.\n",
    "\n",
    "Depending on which you use there will be different setup steps and connection details required.\n",
    "\n",
    "### KDB.AI Cloud\n",
    "\n",
    "To use KDB.AI Cloud, you will need two session details - a URL endpoint and an API key. To get these you can sign up for free [here](https://trykdb.kx.com/kdbai/signup).\n",
    "\n",
    "You can connect to a KDB.AI Cloud session using `kdbai.Session` and passing the session URL endpoint and API key details from your KDB.AI Cloud portal.\n",
    "\n",
    "If the environment variables `KDBAI_ENDPOINTS` and `KDBAI_API_KEY` exist on your system containing your KDB.AI Cloud portal details, these variables will automatically be used to connect.\n",
    "If these do not exist, it will prompt you to enter your KDB.AI Cloud portal session URL endpoint and API key details."
   ]
  },
  {
   "cell_type": "code",
   "execution_count": 16,
   "id": "401f8162",
   "metadata": {},
   "outputs": [],
   "source": [
    "KDBAI_ENDPOINT = (\n",
    "    os.environ[\"KDBAI_ENDPOINT\"]\n",
    "    if \"KDBAI_ENDPOINT\" in os.environ\n",
    "    else input(\"KDB.AI endpoint: \")\n",
    ")\n",
    "KDBAI_API_KEY = (\n",
    "    os.environ[\"KDBAI_API_KEY\"]\n",
    "    if \"KDBAI_API_KEY\" in os.environ\n",
    "    else getpass(\"KDB.AI API key: \")\n",
    ")"
   ]
  },
  {
   "cell_type": "code",
   "execution_count": 17,
   "id": "3b3a4932",
   "metadata": {},
   "outputs": [],
   "source": [
    "session = kdbai.Session(api_key=KDBAI_API_KEY, endpoint=KDBAI_ENDPOINT)"
   ]
  },
  {
   "cell_type": "markdown",
   "id": "b53a7384",
   "metadata": {},
   "source": [
    "### KDB.AI Server\n",
    "\n",
    "To use KDB.AI Server, you will need download and run your own container. To do this you will first need to sign up for free [here](https://trykdb.kx.com/kdbaiserver/signup/). \n",
    "\n",
    "You will receive an email with the required license file and bearer token needed to download your instance. Follow instructions in the signup email to get your session up and running.\n",
    "\n",
    "Once the [setup steps](https://code.kx.com/kdbai/gettingStarted/kdb-ai-server-setup.html) are complete you can then connect to your KDB.AI Server session using `kdbai.Session` and passing your local endpoint."
   ]
  },
  {
   "cell_type": "code",
   "execution_count": null,
   "id": "f48fc536",
   "metadata": {},
   "outputs": [],
   "source": [
    "session = kdbai.Session(endpoint='http://localhost:8082')"
   ]
  },
  {
   "cell_type": "markdown",
   "id": "48c6525c",
   "metadata": {},
   "source": [
    "### Define Vector DB Table Schema\n",
    "\n",
    "The next step is to define a schema for our KDB.AI table where we will store our embeddings. Our table will have two columns.\n",
    "\n",
    "At this point you will select the index and metric you want to use for searching.\n",
    "\n",
    "With KDB.AI we have the choice between HNSW (Hierarchical Navigable Small World), IVF, IVFPQ and Flat indexing methods. Generally, for semantic search of documents, the HNSW indexing method might be more suitable. Here's why:\n",
    "\n",
    "- **Search Speed and Approximation**: HNSW is designed for fast approximate nearest neighbor searches. It can efficiently handle high-dimensional data, which is common in natural language processing tasks involving text documents.\n",
    "- **Semantic Representation**: The Sentence Transformers library, used in this example, generates embeddings that capture semantic meaning. HNSW is well-suited for indexing such embeddings and performing semantic searches.\n",
    "- **Scalability**: HNSW is scalable and can handle large datasets effectively, making it suitable for applications with a vast number of documents.\n",
    "\n",
    "HNSW provides approximate search results, meaning that the nearest neighbors might not be exact matches but are close in terms of similarity."
   ]
  },
  {
   "cell_type": "code",
   "execution_count": 18,
   "id": "af604df0",
   "metadata": {},
   "outputs": [],
   "source": [
    "pdf_schema = {\n",
    "    \"columns\": [\n",
    "        {\"name\": \"sentences\", \"pytype\": \"str\"},\n",
    "        {\n",
    "            \"name\": \"vectors\",\n",
    "            \"vectorIndex\": {\"dims\": 384, \"metric\": \"L2\", \"type\": \"hnsw\"},\n",
    "        },\n",
    "    ]\n",
    "}"
   ]
  },
  {
   "cell_type": "markdown",
   "id": "518cfe1e",
   "metadata": {},
   "source": [
    "### Create Vector DB Table\n",
    "\n",
    "Use the KDB.AI `create_table` function to create a table that matches the defined schema in the vector database."
   ]
  },
  {
   "cell_type": "code",
   "execution_count": 19,
   "id": "6e670f9e",
   "metadata": {},
   "outputs": [],
   "source": [
    "# First ensure the table does not already exist\n",
    "try:\n",
    "    session.table(\"pdf\").drop()\n",
    "    time.sleep(5)\n",
    "except kdbai.KDBAIException:\n",
    "    pass"
   ]
  },
  {
   "cell_type": "code",
   "execution_count": 20,
   "id": "e1d190db-7c19-418e-9140-3dff04c9d4c0",
   "metadata": {},
   "outputs": [],
   "source": [
    "table = session.create_table(\"pdf\", pdf_schema)"
   ]
  },
  {
   "cell_type": "markdown",
   "id": "466068bc",
   "metadata": {},
   "source": [
    "We can use `query` to see our table exists but is empty."
   ]
  },
  {
   "cell_type": "code",
   "execution_count": 21,
   "id": "74e7332e",
   "metadata": {},
   "outputs": [
    {
     "data": {
      "text/html": [
       "<div>\n",
       "<style scoped>\n",
       "    .dataframe tbody tr th:only-of-type {\n",
       "        vertical-align: middle;\n",
       "    }\n",
       "\n",
       "    .dataframe tbody tr th {\n",
       "        vertical-align: top;\n",
       "    }\n",
       "\n",
       "    .dataframe thead th {\n",
       "        text-align: right;\n",
       "    }\n",
       "</style>\n",
       "<table border=\"1\" class=\"dataframe\">\n",
       "  <thead>\n",
       "    <tr style=\"text-align: right;\">\n",
       "      <th></th>\n",
       "      <th>sentences</th>\n",
       "      <th>vectors</th>\n",
       "    </tr>\n",
       "  </thead>\n",
       "  <tbody>\n",
       "  </tbody>\n",
       "</table>\n",
       "</div>"
      ],
      "text/plain": [
       "Empty DataFrame\n",
       "Columns: [sentences, vectors]\n",
       "Index: []"
      ]
     },
     "execution_count": 21,
     "metadata": {},
     "output_type": "execute_result"
    }
   ],
   "source": [
    "table.query()"
   ]
  },
  {
   "cell_type": "markdown",
   "id": "9a0a9d0e-80b8-4e09-9101-d22667da551f",
   "metadata": {},
   "source": [
    "### Add Embedded Data to KDB.AI Table"
   ]
  },
  {
   "cell_type": "code",
   "execution_count": 22,
   "id": "83cc156c-8071-4784-8c3e-a049b61e8668",
   "metadata": {},
   "outputs": [
    {
     "data": {
      "text/plain": [
       "True"
      ]
     },
     "execution_count": 22,
     "metadata": {},
     "output_type": "execute_result"
    }
   ],
   "source": [
    "table.insert(embeddings_df)"
   ]
  },
  {
   "cell_type": "markdown",
   "id": "e31a4ecd",
   "metadata": {},
   "source": [
    "### Verify Data Has Been Inserted\n",
    "\n",
    "Running `table.query()` should show us that data has been added."
   ]
  },
  {
   "cell_type": "code",
   "execution_count": 23,
   "id": "ee6ecb8d",
   "metadata": {},
   "outputs": [
    {
     "name": "stdout",
     "output_type": "stream",
     "text": [
      "(591, 2)\n"
     ]
    },
    {
     "data": {
      "text/html": [
       "<div>\n",
       "<style scoped>\n",
       "    .dataframe tbody tr th:only-of-type {\n",
       "        vertical-align: middle;\n",
       "    }\n",
       "\n",
       "    .dataframe tbody tr th {\n",
       "        vertical-align: top;\n",
       "    }\n",
       "\n",
       "    .dataframe thead th {\n",
       "        text-align: right;\n",
       "    }\n",
       "</style>\n",
       "<table border=\"1\" class=\"dataframe\">\n",
       "  <thead>\n",
       "    <tr style=\"text-align: right;\">\n",
       "      <th></th>\n",
       "      <th>sentences</th>\n",
       "      <th>vectors</th>\n",
       "    </tr>\n",
       "  </thead>\n",
       "  <tbody>\n",
       "    <tr>\n",
       "      <th>0</th>\n",
       "      <td>Draft version August 14, 2023\\nTypeset using L ATEX default style in AASTeX631\\nThe Galactic Interstellar Object Population: A Framework for Prediction and Inference\\nMatthew J. Hopkins\\n ,1Chris Lintott\\n ,1Michele T. Bannister\\n ,2J.</td>\n",
       "      <td>[-0.059804268181324005, -0.09221812337636948, 0.058070000261068344, 0.06884292513132095, -0.00304530281573534, 0.0073042758740484715, -0.02895909734070301, 0.05957881733775139, 0.017943765968084335, 0.0435011088848114, 0.005012931302189827, -0.07875000685453415, -0.02570343017578125, -0.04147786...</td>\n",
       "    </tr>\n",
       "    <tr>\n",
       "      <th>1</th>\n",
       "      <td>Ted Mackereth\\n ,3, 4, 5, ∗and\\nJohn C. Forbes\\n2\\n1Department of Physics, University of Oxford, Denys Wilkinson Building, Keble Road, Oxford, OX1 3RH, UK\\n2School of Physical and Chemical Sciences—Te Kura Mat¯ u, University of Canterbury, Private Bag 4800, Christchurch 8140, New Zealand\\n3Just ...</td>\n",
       "      <td>[-0.08154534548521042, -0.1134231761097908, 0.08425557613372803, 0.08849424868822098, 0.024723690003156662, -0.08773959428071976, -0.06128990650177002, 0.01061215903609991, 0.06387816369533539, 0.021902453154325485, -0.03322550654411316, -0.09321600943803787, -0.04425088316202164, -0.05684755370...</td>\n",
       "    </tr>\n",
       "    <tr>\n",
       "      <th>2</th>\n",
       "      <td>We define a novel framework: firstly to predict\\nthe properties of this Galactic ISO population by combining models of processes across planetary\\nand galactic scales, and secondly to make inferences about the processes modelled, by comparing the\\npredicted population to what is observed.</td>\n",
       "      <td>[-0.07799113541841507, -0.08398672193288803, 0.027237098664045334, 0.09858059883117676, 0.010515064932405949, -0.016703935340046883, -0.05579749494791031, 0.027984393760561943, 0.03926646336913109, 0.03248242288827896, 0.038379862904548645, -0.12464363873004913, -0.012645186856389046, -0.0182884...</td>\n",
       "    </tr>\n",
       "    <tr>\n",
       "      <th>3</th>\n",
       "      <td>We predict the spatial and compositional distribution of the\\nGalaxy’s population of ISOs by modelling the Galactic stellar population with data from the APOGEE\\nsurvey and combining this with a protoplanetary disk chemistry model.</td>\n",
       "      <td>[-0.05338568240404129, -0.03714732825756073, 0.07784586399793625, 0.051659490913152695, -0.07674476504325867, -0.007766887079924345, 0.008464711718261242, 0.04289114475250244, 0.04356802999973297, 0.06012841686606407, 0.044070351868867874, -0.10177759826183319, 0.030359644442796707, -0.034037191...</td>\n",
       "    </tr>\n",
       "    <tr>\n",
       "      <th>4</th>\n",
       "      <td>Selecting ISO water mass\\nfraction as an example observable quantity, we evaluate its distribution both at the position of the Sun\\nand averaged over the Galactic disk; our prediction for the Solar neighbourhood is compatible with the\\ninferred water mass fraction of 2I/Borisov.</td>\n",
       "      <td>[-0.06326980888843536, -0.01720455102622509, 0.04773722216486931, 0.0832536369562149, 0.0329662561416626, -0.0660020187497139, 0.0015915802214294672, 0.0032460016664117575, 0.03456268459558487, -0.020524034276604652, 0.0412253700196743, -0.15274155139923096, -0.011771155521273613, 0.073143251240...</td>\n",
       "    </tr>\n",
       "  </tbody>\n",
       "</table>\n",
       "</div>"
      ],
      "text/plain": [
       "                                                                                                                                                                                                                                                                                                     sentences  \\\n",
       "0                                                                  Draft version August 14, 2023\\nTypeset using L ATEX default style in AASTeX631\\nThe Galactic Interstellar Object Population: A Framework for Prediction and Inference\\nMatthew J. Hopkins\\n ,1Chris Lintott\\n ,1Michele T. Bannister\\n ,2J.   \n",
       "1  Ted Mackereth\\n ,3, 4, 5, ∗and\\nJohn C. Forbes\\n2\\n1Department of Physics, University of Oxford, Denys Wilkinson Building, Keble Road, Oxford, OX1 3RH, UK\\n2School of Physical and Chemical Sciences—Te Kura Mat¯ u, University of Canterbury, Private Bag 4800, Christchurch 8140, New Zealand\\n3Just ...   \n",
       "2            We define a novel framework: firstly to predict\\nthe properties of this Galactic ISO population by combining models of processes across planetary\\nand galactic scales, and secondly to make inferences about the processes modelled, by comparing the\\npredicted population to what is observed.   \n",
       "3                                                                      We predict the spatial and compositional distribution of the\\nGalaxy’s population of ISOs by modelling the Galactic stellar population with data from the APOGEE\\nsurvey and combining this with a protoplanetary disk chemistry model.   \n",
       "4                      Selecting ISO water mass\\nfraction as an example observable quantity, we evaluate its distribution both at the position of the Sun\\nand averaged over the Galactic disk; our prediction for the Solar neighbourhood is compatible with the\\ninferred water mass fraction of 2I/Borisov.   \n",
       "\n",
       "                                                                                                                                                                                                                                                                                                       vectors  \n",
       "0  [-0.059804268181324005, -0.09221812337636948, 0.058070000261068344, 0.06884292513132095, -0.00304530281573534, 0.0073042758740484715, -0.02895909734070301, 0.05957881733775139, 0.017943765968084335, 0.0435011088848114, 0.005012931302189827, -0.07875000685453415, -0.02570343017578125, -0.04147786...  \n",
       "1  [-0.08154534548521042, -0.1134231761097908, 0.08425557613372803, 0.08849424868822098, 0.024723690003156662, -0.08773959428071976, -0.06128990650177002, 0.01061215903609991, 0.06387816369533539, 0.021902453154325485, -0.03322550654411316, -0.09321600943803787, -0.04425088316202164, -0.05684755370...  \n",
       "2  [-0.07799113541841507, -0.08398672193288803, 0.027237098664045334, 0.09858059883117676, 0.010515064932405949, -0.016703935340046883, -0.05579749494791031, 0.027984393760561943, 0.03926646336913109, 0.03248242288827896, 0.038379862904548645, -0.12464363873004913, -0.012645186856389046, -0.0182884...  \n",
       "3  [-0.05338568240404129, -0.03714732825756073, 0.07784586399793625, 0.051659490913152695, -0.07674476504325867, -0.007766887079924345, 0.008464711718261242, 0.04289114475250244, 0.04356802999973297, 0.06012841686606407, 0.044070351868867874, -0.10177759826183319, 0.030359644442796707, -0.034037191...  \n",
       "4  [-0.06326980888843536, -0.01720455102622509, 0.04773722216486931, 0.0832536369562149, 0.0329662561416626, -0.0660020187497139, 0.0015915802214294672, 0.0032460016664117575, 0.03456268459558487, -0.020524034276604652, 0.0412253700196743, -0.15274155139923096, -0.011771155521273613, 0.073143251240...  "
      ]
     },
     "execution_count": 23,
     "metadata": {},
     "output_type": "execute_result"
    }
   ],
   "source": [
    "show_df(table.query())"
   ]
  },
  {
   "cell_type": "markdown",
   "id": "8bf8650d",
   "metadata": {},
   "source": [
    "## 4. Search For Similar Sentences To A Target Sentence"
   ]
  },
  {
   "cell_type": "markdown",
   "id": "31ddb725-e0e7-4c00-a22b-3234eacf6bd1",
   "metadata": {},
   "source": [
    "Now that the embeddings are stored in KDB.AI, we can perform semantic search using `search`. \n",
    "\n",
    "### Search 1\n",
    "\n",
    "First, we embed our search term using the Sentence Transformer model as before. Then we search our index to return the three most similar vectors."
   ]
  },
  {
   "cell_type": "code",
   "execution_count": 24,
   "id": "b24c1179",
   "metadata": {},
   "outputs": [],
   "source": [
    "search_term1 = \"number of interstellar objects in the milky way\""
   ]
  },
  {
   "cell_type": "code",
   "execution_count": 25,
   "id": "d5f8fa5b",
   "metadata": {},
   "outputs": [],
   "source": [
    "encoded_search_term1 = model.encode(search_term1).tolist()"
   ]
  },
  {
   "cell_type": "code",
   "execution_count": 26,
   "id": "8666561e-e9b2-4c9f-95f4-add789be416d",
   "metadata": {},
   "outputs": [
    {
     "data": {
      "text/html": [
       "<div>\n",
       "<style scoped>\n",
       "    .dataframe tbody tr th:only-of-type {\n",
       "        vertical-align: middle;\n",
       "    }\n",
       "\n",
       "    .dataframe tbody tr th {\n",
       "        vertical-align: top;\n",
       "    }\n",
       "\n",
       "    .dataframe thead th {\n",
       "        text-align: right;\n",
       "    }\n",
       "</style>\n",
       "<table border=\"1\" class=\"dataframe\">\n",
       "  <thead>\n",
       "    <tr style=\"text-align: right;\">\n",
       "      <th></th>\n",
       "      <th>sentences</th>\n",
       "      <th>vectors</th>\n",
       "      <th>__nn_distance</th>\n",
       "    </tr>\n",
       "  </thead>\n",
       "  <tbody>\n",
       "    <tr>\n",
       "      <th>0</th>\n",
       "      <td>Ted Mackereth\\n ,3, 4, 5, ∗and\\nJohn C. Forbes\\n2\\n1Department of Physics, University of Oxford, Denys Wilkinson Building, Keble Road, Oxford, OX1 3RH, UK\\n2School of Physical and Chemical Sciences—Te Kura Mat¯ u, University of Canterbury, Private Bag 4800, Christchurch 8140, New Zealand\\n3Just ...</td>\n",
       "      <td>[-0.08154534548521042, -0.1134231761097908, 0.08425557613372803, 0.08849424868822098, 0.024723690003156662, -0.08773959428071976, -0.06128990650177002, 0.01061215903609991, 0.06387816369533539, 0.021902453154325485, -0.03322550654411316, -0.09321600943803787, -0.04425088316202164, -0.05684755370...</td>\n",
       "      <td>0.642638</td>\n",
       "    </tr>\n",
       "    <tr>\n",
       "      <th>1</th>\n",
       "      <td>In this work, we develop\\nthis method and apply it to the stellar population of the Milky Way, estimated with data from the APOGEE survey, to\\npredict a broader set of properties of our own Galaxy’s population of interstellar objects.</td>\n",
       "      <td>[-0.08688255399465561, -0.023635543882846832, 0.06744849681854248, 0.08018781244754791, -0.05974710360169411, -0.032227396965026855, -0.008770059794187546, 0.04886196553707123, -0.05181039124727249, 0.01759468950331211, 0.024308934807777405, -0.09147436916828156, 0.03819924220442772, -0.06181903...</td>\n",
       "      <td>0.668817</td>\n",
       "    </tr>\n",
       "    <tr>\n",
       "      <th>2</th>\n",
       "      <td>Keywords: Interstellar objects (52), Small Solar System bodies(1469), Galaxy Evolution (594)\\n1.INTRODUCTION\\n1I/‘Oumuamua (Meech et al.</td>\n",
       "      <td>[-0.07292623072862625, 0.02145012468099594, 0.01660236530005932, 0.051251962780952454, -0.017564918845891953, -0.08743888139724731, -0.02064172923564911, 0.03719828650355339, -0.024873126298189163, 0.039150986820459366, 0.04321705549955368, -0.13203547894954681, -0.03365805745124817, -0.06451229...</td>\n",
       "      <td>0.741215</td>\n",
       "    </tr>\n",
       "  </tbody>\n",
       "</table>\n",
       "</div>"
      ],
      "text/plain": [
       "                                                                                                                                                                                                                                                                                                     sentences  \\\n",
       "0  Ted Mackereth\\n ,3, 4, 5, ∗and\\nJohn C. Forbes\\n2\\n1Department of Physics, University of Oxford, Denys Wilkinson Building, Keble Road, Oxford, OX1 3RH, UK\\n2School of Physical and Chemical Sciences—Te Kura Mat¯ u, University of Canterbury, Private Bag 4800, Christchurch 8140, New Zealand\\n3Just ...   \n",
       "1                                                                   In this work, we develop\\nthis method and apply it to the stellar population of the Milky Way, estimated with data from the APOGEE survey, to\\npredict a broader set of properties of our own Galaxy’s population of interstellar objects.   \n",
       "2                                                                                                                                                                     Keywords: Interstellar objects (52), Small Solar System bodies(1469), Galaxy Evolution (594)\\n1.INTRODUCTION\\n1I/‘Oumuamua (Meech et al.   \n",
       "\n",
       "                                                                                                                                                                                                                                                                                                       vectors  \\\n",
       "0  [-0.08154534548521042, -0.1134231761097908, 0.08425557613372803, 0.08849424868822098, 0.024723690003156662, -0.08773959428071976, -0.06128990650177002, 0.01061215903609991, 0.06387816369533539, 0.021902453154325485, -0.03322550654411316, -0.09321600943803787, -0.04425088316202164, -0.05684755370...   \n",
       "1  [-0.08688255399465561, -0.023635543882846832, 0.06744849681854248, 0.08018781244754791, -0.05974710360169411, -0.032227396965026855, -0.008770059794187546, 0.04886196553707123, -0.05181039124727249, 0.01759468950331211, 0.024308934807777405, -0.09147436916828156, 0.03819924220442772, -0.06181903...   \n",
       "2  [-0.07292623072862625, 0.02145012468099594, 0.01660236530005932, 0.051251962780952454, -0.017564918845891953, -0.08743888139724731, -0.02064172923564911, 0.03719828650355339, -0.024873126298189163, 0.039150986820459366, 0.04321705549955368, -0.13203547894954681, -0.03365805745124817, -0.06451229...   \n",
       "\n",
       "   __nn_distance  \n",
       "0       0.642638  \n",
       "1       0.668817  \n",
       "2       0.741215  "
      ]
     },
     "execution_count": 26,
     "metadata": {},
     "output_type": "execute_result"
    }
   ],
   "source": [
    "results1 = table.search([encoded_search_term1], n=3)\n",
    "results1[0]"
   ]
  },
  {
   "cell_type": "markdown",
   "id": "91762de7",
   "metadata": {},
   "source": [
    "The results returned from `table.search` show the closest matches along with value of nearest neighbor distances `nn_distance`.\n",
    "We can see these sentences do reference our search term 'number of interstellar objects in the milky way' in some way.\n",
    "\n",
    "### Search 2\n",
    "\n",
    "Let's try another search term."
   ]
  },
  {
   "cell_type": "code",
   "execution_count": 27,
   "id": "e7486a9c",
   "metadata": {},
   "outputs": [],
   "source": [
    "search_term2 = \"how does planet formation occur\""
   ]
  },
  {
   "cell_type": "code",
   "execution_count": 28,
   "id": "6765075c",
   "metadata": {},
   "outputs": [],
   "source": [
    "encoded_search_term2 = model.encode(search_term2).tolist()"
   ]
  },
  {
   "cell_type": "code",
   "execution_count": 29,
   "id": "2d3ce969",
   "metadata": {},
   "outputs": [
    {
     "data": {
      "text/html": [
       "<div>\n",
       "<style scoped>\n",
       "    .dataframe tbody tr th:only-of-type {\n",
       "        vertical-align: middle;\n",
       "    }\n",
       "\n",
       "    .dataframe tbody tr th {\n",
       "        vertical-align: top;\n",
       "    }\n",
       "\n",
       "    .dataframe thead th {\n",
       "        text-align: right;\n",
       "    }\n",
       "</style>\n",
       "<table border=\"1\" class=\"dataframe\">\n",
       "  <thead>\n",
       "    <tr style=\"text-align: right;\">\n",
       "      <th></th>\n",
       "      <th>sentences</th>\n",
       "      <th>vectors</th>\n",
       "      <th>__nn_distance</th>\n",
       "    </tr>\n",
       "  </thead>\n",
       "  <tbody>\n",
       "    <tr>\n",
       "      <th>0</th>\n",
       "      <td>The pop-\\nulation’s dominant dynamical formation mechanisms would preferentially harvest more distant, ice-rich planetesimals\\nfrom the disks of the source systems.</td>\n",
       "      <td>[-0.07665152102708817, -0.06582032889127731, 0.03430570662021637, 0.026705782860517502, 0.07752171158790588, -0.05098922923207283, 0.007996325381100178, 0.023464038968086243, 0.09635236859321594, 0.05890347808599472, -0.00934863742440939, -0.04947571083903313, 0.04072216525673866, -0.08664802461...</td>\n",
       "      <td>0.907237</td>\n",
       "    </tr>\n",
       "    <tr>\n",
       "      <th>1</th>\n",
       "      <td>A protoplanetary disk has to first order the same composition as the star it forms around,\\nsince they both form from the same molecular cloud core.</td>\n",
       "      <td>[-0.011731932871043682, -0.0626753717660904, 0.08392807096242905, -0.036336500197649, -0.0021243898663669825, -0.05082395672798157, -0.00048589648213237524, -0.02759409509599209, 0.1368178427219391, 0.06662701815366745, -0.02651246450841427, -0.01938665471971035, 0.016084985807538033, -0.0834580...</td>\n",
       "      <td>0.932817</td>\n",
       "    </tr>\n",
       "    <tr>\n",
       "      <th>2</th>\n",
       "      <td>While in reality, stars will each produce a distribution of ISOs that\\nformed at different positions in their protoplanetary disk and thus have a range of compositions, this simplification\\nof only modelling planetesimals which form exterior to the water ice line is justified by the proportional...</td>\n",
       "      <td>[-0.0878973975777626, -0.053996723145246506, 0.08170220255851746, 0.05057612806558609, -0.0012670933501794934, -0.05180908739566803, -0.036422982811927795, 0.014396519400179386, 0.10822281986474991, 0.04368608072400093, -0.07996443659067154, -0.07062524557113647, 0.05373862758278847, -0.06110461...</td>\n",
       "      <td>0.954052</td>\n",
       "    </tr>\n",
       "  </tbody>\n",
       "</table>\n",
       "</div>"
      ],
      "text/plain": [
       "                                                                                                                                                                                                                                                                                                     sentences  \\\n",
       "0                                                                                                                                         The pop-\\nulation’s dominant dynamical formation mechanisms would preferentially harvest more distant, ice-rich planetesimals\\nfrom the disks of the source systems.   \n",
       "1                                                                                                                                                         A protoplanetary disk has to first order the same composition as the star it forms around,\\nsince they both form from the same molecular cloud core.   \n",
       "2  While in reality, stars will each produce a distribution of ISOs that\\nformed at different positions in their protoplanetary disk and thus have a range of compositions, this simplification\\nof only modelling planetesimals which form exterior to the water ice line is justified by the proportional...   \n",
       "\n",
       "                                                                                                                                                                                                                                                                                                       vectors  \\\n",
       "0  [-0.07665152102708817, -0.06582032889127731, 0.03430570662021637, 0.026705782860517502, 0.07752171158790588, -0.05098922923207283, 0.007996325381100178, 0.023464038968086243, 0.09635236859321594, 0.05890347808599472, -0.00934863742440939, -0.04947571083903313, 0.04072216525673866, -0.08664802461...   \n",
       "1  [-0.011731932871043682, -0.0626753717660904, 0.08392807096242905, -0.036336500197649, -0.0021243898663669825, -0.05082395672798157, -0.00048589648213237524, -0.02759409509599209, 0.1368178427219391, 0.06662701815366745, -0.02651246450841427, -0.01938665471971035, 0.016084985807538033, -0.0834580...   \n",
       "2  [-0.0878973975777626, -0.053996723145246506, 0.08170220255851746, 0.05057612806558609, -0.0012670933501794934, -0.05180908739566803, -0.036422982811927795, 0.014396519400179386, 0.10822281986474991, 0.04368608072400093, -0.07996443659067154, -0.07062524557113647, 0.05373862758278847, -0.06110461...   \n",
       "\n",
       "   __nn_distance  \n",
       "0       0.907237  \n",
       "1       0.932817  \n",
       "2       0.954052  "
      ]
     },
     "execution_count": 29,
     "metadata": {},
     "output_type": "execute_result"
    }
   ],
   "source": [
    "results2 = table.search([encoded_search_term2], n=3)\n",
    "results2[0]"
   ]
  },
  {
   "cell_type": "markdown",
   "id": "25ce337f",
   "metadata": {},
   "source": [
    "Again, we can see these sentences do reference our search term 'how does planet formation occur' in some way. "
   ]
  },
  {
   "cell_type": "markdown",
   "id": "f6e93878",
   "metadata": {},
   "source": [
    "## 5. Delete the KDB.AI Table\n",
    "\n",
    "Once finished with the table, it is best practice to drop it."
   ]
  },
  {
   "cell_type": "code",
   "execution_count": 30,
   "id": "d74b6f20",
   "metadata": {},
   "outputs": [
    {
     "data": {
      "text/plain": [
       "True"
      ]
     },
     "execution_count": 30,
     "metadata": {},
     "output_type": "execute_result"
    }
   ],
   "source": [
    "table.drop()"
   ]
  },
  {
   "cell_type": "markdown",
   "id": "346d56db",
   "metadata": {},
   "source": [
    "We hope you found this sample helpful! Your feedback is important to us, and we would appreciate it if you could take a moment to fill out our brief survey. Your input helps us improve our content.\n",
    "\n",
    "[**Take the Survey**](https://delighted.com/t/ezUwZ88a)"
   ]
  }
 ],
 "metadata": {
  "kernelspec": {
   "display_name": "Python 3 (ipykernel)",
   "language": "python",
   "name": "python3"
  },
  "language_info": {
   "codemirror_mode": {
    "name": "ipython",
    "version": 3
   },
   "file_extension": ".py",
   "mimetype": "text/x-python",
   "name": "python",
   "nbconvert_exporter": "python",
   "pygments_lexer": "ipython3",
   "version": "3.10.12"
  }
 },
 "nbformat": 4,
 "nbformat_minor": 5
}
