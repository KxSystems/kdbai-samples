{
  "cells": [
    {
      "cell_type": "markdown",
      "metadata": {
        "id": "WgVm-xwOXyhY"
      },
      "source": [
        "# Fuzzy Filtering on Metadata with KDB.AI Vector Database\n",
        "\n",
        "##### Note: This example requires a KDB.AI endpoint and API key. Sign up for a free [KDB.AI account](https://kdb.ai/get-started).\n",
        "\n",
        "#### In this example, we will show how to use metadata filtering along with fuzzy filtering in a KDB.AI vector database to increase the speed and accuracy of vector similarity searches.\n",
        "\n",
        "#### NOTE! KDB.AI Also has 'fuzzy filter' capabilities on metadata columns.\n",
        "Data often contains errors such as typos, misspellings, or international spelling variations, which can hinder the accuracy of search results. Fuzzy filters address this issue by enabling the retrieval of documents that contain terms and metadata entries similar to the specified query term and filters, even if there are slight variations.\n",
        "\n",
        "There are many distance metrics you can use for fuzzy filtering, it defaults to Levenshtein distance, but you have the ability to choose the distance metric from a variety of options including: Levenshtein, Damerau-Levenshtein, Hamming, Indel, Jaro, JaroWinkler, Longest Common Subsequence, Optimal String Alignment (OSA), Prefix, or Postfix.\n",
        "\n",
        "#### Agenda:\n",
        "1. Set Up\n",
        "2. Data Import and Understanding\n",
        "3. Set Up KDB.AI Vector Database\n",
        "4. Insert Movie Data into the KDB.AI table\n",
        "5. Run Filtered & Fuzzy Similarity Searches on our KDB.AI vector database\n",
        "\n",
        "Movie Dataset Source: https://www.kaggle.com/datasets/jrobischon/wikipedia-movie-plots"
      ]
    },
    {
      "cell_type": "markdown",
      "metadata": {
        "id": "D6Py6iDPXyhb"
      },
      "source": [
        "## 1. Set Up\n",
        "#### Installs, imports, and API Key setup\n",
        "\n",
        "In order to successfully run this sample, note the following steps depending on where you are running this notebook:\n",
        "\n",
        "-***Run Locally / Private Environment:*** The [Setup](https://github.com/KxSystems/kdbai-samples/blob/main/README.md#setup) steps in the repository's `README.md` will guide you on prerequisites and how to run this with Jupyter.\n",
        "\n",
        "\n",
        "-***Colab / Hosted Environment:*** Open this notebook in Colab and run through the cells."
      ]
    },
    {
      "cell_type": "code",
      "execution_count": null,
      "metadata": {
        "id": "Z9Fia3FQXyhb"
      },
      "outputs": [],
      "source": [
        "!pip install kdbai_client sentence_transformers"
      ]
    },
    {
      "cell_type": "code",
      "execution_count": 2,
      "metadata": {
        "id": "reDIVkL5Xyhc"
      },
      "outputs": [],
      "source": [
        "import pandas as pd\n",
        "import os\n",
        "from getpass import getpass"
      ]
    },
    {
      "cell_type": "code",
      "execution_count": 3,
      "metadata": {
        "id": "sLp8fEsWXyhc",
        "colab": {
          "base_uri": "https://localhost:8080/"
        },
        "outputId": "6ab59395-f66d-486f-fb7e-2445b301ef7d"
      },
      "outputs": [
        {
          "output_type": "stream",
          "name": "stdout",
          "text": [
            "--2024-09-16 19:51:48--  https://raw.githubusercontent.com/KxSystems/kdbai-samples/main/metadata_filtering/data/filtered_embedded_movies.pkl\n",
            "Resolving raw.githubusercontent.com (raw.githubusercontent.com)... 185.199.110.133, 185.199.109.133, 185.199.108.133, ...\n",
            "Connecting to raw.githubusercontent.com (raw.githubusercontent.com)|185.199.110.133|:443... connected.\n",
            "HTTP request sent, awaiting response... 200 OK\n",
            "Length: 76970270 (73M) [application/octet-stream]\n",
            "Saving to: ‘./data/filtered_embedded_movies.pkl’\n",
            "\n",
            "filtered_embedded_m 100%[===================>]  73.40M   232MB/s    in 0.3s    \n",
            "\n",
            "2024-09-16 19:51:49 (232 MB/s) - ‘./data/filtered_embedded_movies.pkl’ saved [76970270/76970270]\n",
            "\n"
          ]
        }
      ],
      "source": [
        "### !!! Only run this cell if you need to download the data into your environment, for example in Colab\n",
        "### This downloads movie data\n",
        "if os.path.exists(\"./data/filtered_embedded_movies.pkl\") == False:\n",
        "  !mkdir ./data\n",
        "  !wget -P ./data https://raw.githubusercontent.com/KxSystems/kdbai-samples/main/metadata_filtering/data/filtered_embedded_movies.pkl"
      ]
    },
    {
      "cell_type": "markdown",
      "metadata": {
        "id": "CEhGKVP4Xyhd"
      },
      "source": [
        "## 2. Data Import and Understanding\n",
        "### Import movies dataframe"
      ]
    },
    {
      "cell_type": "code",
      "execution_count": null,
      "metadata": {
        "id": "CyHi02nGXyhd",
        "scrolled": true
      },
      "outputs": [],
      "source": [
        "# Read in the Movies dataframe\n",
        "df = pd.read_pickle(\"./data/filtered_embedded_movies.pkl\")"
      ]
    },
    {
      "cell_type": "markdown",
      "metadata": {
        "id": "RtktEmpwXyhd"
      },
      "source": [
        "### Initial data exploration: Let's understand the data!"
      ]
    },
    {
      "cell_type": "code",
      "execution_count": null,
      "metadata": {
        "id": "aucHA297Xyhd",
        "outputId": "9f5fda4e-d047-4cc8-be46-8a7281940e62"
      },
      "outputs": [
        {
          "name": "stdout",
          "output_type": "stream",
          "text": [
            "19161\n"
          ]
        }
      ],
      "source": [
        "#How many rows do we have?\n",
        "print(df.shape[0])"
      ]
    },
    {
      "cell_type": "code",
      "execution_count": null,
      "metadata": {
        "id": "aOVfpVChXyhe",
        "outputId": "bde3fcba-f107-45dd-974d-574679e1ca07"
      },
      "outputs": [
        {
          "name": "stdout",
          "output_type": "stream",
          "text": [
            "ReleaseYear\n",
            "Title\n",
            "Origin\n",
            "Director\n",
            "Cast\n",
            "Genre\n",
            "Plot\n",
            "embeddings\n"
          ]
        }
      ],
      "source": [
        "#What columns do we have?\n",
        "for column in df.columns:\n",
        "    print(column)"
      ]
    },
    {
      "cell_type": "code",
      "execution_count": null,
      "metadata": {
        "id": "JMCgWg3OXyhe",
        "outputId": "bd1b2f80-ef5f-4e15-c8d0-d1c893221aa6"
      },
      "outputs": [
        {
          "data": {
            "text/html": [
              "<div>\n",
              "<style scoped>\n",
              "    .dataframe tbody tr th:only-of-type {\n",
              "        vertical-align: middle;\n",
              "    }\n",
              "\n",
              "    .dataframe tbody tr th {\n",
              "        vertical-align: top;\n",
              "    }\n",
              "\n",
              "    .dataframe thead th {\n",
              "        text-align: right;\n",
              "    }\n",
              "</style>\n",
              "<table border=\"1\" class=\"dataframe\">\n",
              "  <thead>\n",
              "    <tr style=\"text-align: right;\">\n",
              "      <th></th>\n",
              "      <th>ReleaseYear</th>\n",
              "      <th>Title</th>\n",
              "      <th>Origin</th>\n",
              "      <th>Director</th>\n",
              "      <th>Cast</th>\n",
              "      <th>Genre</th>\n",
              "      <th>Plot</th>\n",
              "      <th>embeddings</th>\n",
              "    </tr>\n",
              "  </thead>\n",
              "  <tbody>\n",
              "    <tr>\n",
              "      <th>0</th>\n",
              "      <td>1975</td>\n",
              "      <td>The Candy Tangerine Man</td>\n",
              "      <td>American</td>\n",
              "      <td>Matt Cimber</td>\n",
              "      <td>John Daniels Eli Haines Tom Hankason</td>\n",
              "      <td>action</td>\n",
              "      <td>A successful Los Angeles-based businessperson ...</td>\n",
              "      <td>[-0.06835174, -0.013138616, -0.12417501, 0.002...</td>\n",
              "    </tr>\n",
              "    <tr>\n",
              "      <th>1</th>\n",
              "      <td>1975</td>\n",
              "      <td>Capone</td>\n",
              "      <td>American</td>\n",
              "      <td>Steve Carver</td>\n",
              "      <td>Ben Gazzara Susan Blakely John Cassavetes Sylv...</td>\n",
              "      <td>crime drama</td>\n",
              "      <td>The story is of the rise and fall of the Chica...</td>\n",
              "      <td>[-0.01411798, 0.040705115, -0.0014280609, 0.00...</td>\n",
              "    </tr>\n",
              "    <tr>\n",
              "      <th>2</th>\n",
              "      <td>1975</td>\n",
              "      <td>Cleopatra Jones and the Casino of Gold</td>\n",
              "      <td>American</td>\n",
              "      <td>Charles Bail</td>\n",
              "      <td>Tamara Dobson Stella Stevens</td>\n",
              "      <td>action</td>\n",
              "      <td>The story begins with two government agents Ma...</td>\n",
              "      <td>[-0.0925895, 0.01188509, -0.08999529, -0.01541...</td>\n",
              "    </tr>\n",
              "    <tr>\n",
              "      <th>3</th>\n",
              "      <td>1975</td>\n",
              "      <td>Conduct Unbecoming</td>\n",
              "      <td>American</td>\n",
              "      <td>Michael Anderson</td>\n",
              "      <td>Stacy Keach Richard Attenborough Christopher P...</td>\n",
              "      <td>drama</td>\n",
              "      <td>Around 1880 two young British officers arrive ...</td>\n",
              "      <td>[-0.07435084, -0.06386179, 0.017042944, 0.0288...</td>\n",
              "    </tr>\n",
              "    <tr>\n",
              "      <th>4</th>\n",
              "      <td>1975</td>\n",
              "      <td>Cooley High</td>\n",
              "      <td>American</td>\n",
              "      <td>Michael Schultz</td>\n",
              "      <td>Lawrence Hilton-Jacobs Glynn Turman Garrett Mo...</td>\n",
              "      <td>comedy</td>\n",
              "      <td>Set in 1964 Chicago Preach an aspiring playwri...</td>\n",
              "      <td>[-0.041632336, 0.037923656, -0.072276264, -0.0...</td>\n",
              "    </tr>\n",
              "  </tbody>\n",
              "</table>\n",
              "</div>"
            ],
            "text/plain": [
              "   ReleaseYear                                   Title    Origin  \\\n",
              "0         1975                 The Candy Tangerine Man  American   \n",
              "1         1975                                  Capone  American   \n",
              "2         1975  Cleopatra Jones and the Casino of Gold  American   \n",
              "3         1975                      Conduct Unbecoming  American   \n",
              "4         1975                             Cooley High  American   \n",
              "\n",
              "           Director                                               Cast  \\\n",
              "0       Matt Cimber               John Daniels Eli Haines Tom Hankason   \n",
              "1      Steve Carver  Ben Gazzara Susan Blakely John Cassavetes Sylv...   \n",
              "2      Charles Bail                       Tamara Dobson Stella Stevens   \n",
              "3  Michael Anderson  Stacy Keach Richard Attenborough Christopher P...   \n",
              "4   Michael Schultz  Lawrence Hilton-Jacobs Glynn Turman Garrett Mo...   \n",
              "\n",
              "         Genre                                               Plot  \\\n",
              "0       action  A successful Los Angeles-based businessperson ...   \n",
              "1  crime drama  The story is of the rise and fall of the Chica...   \n",
              "2       action  The story begins with two government agents Ma...   \n",
              "3        drama  Around 1880 two young British officers arrive ...   \n",
              "4       comedy  Set in 1964 Chicago Preach an aspiring playwri...   \n",
              "\n",
              "                                          embeddings  \n",
              "0  [-0.06835174, -0.013138616, -0.12417501, 0.002...  \n",
              "1  [-0.01411798, 0.040705115, -0.0014280609, 0.00...  \n",
              "2  [-0.0925895, 0.01188509, -0.08999529, -0.01541...  \n",
              "3  [-0.07435084, -0.06386179, 0.017042944, 0.0288...  \n",
              "4  [-0.041632336, 0.037923656, -0.072276264, -0.0...  "
            ]
          },
          "execution_count": 7,
          "metadata": {},
          "output_type": "execute_result"
        }
      ],
      "source": [
        "#Let us inspect the dataframe\n",
        "df.head()"
      ]
    },
    {
      "cell_type": "markdown",
      "metadata": {
        "id": "D3RntWE6Xyhe"
      },
      "source": [
        "## 3. Set up KDB.AI Vector Database\n",
        "Now that we understand our dataset, we can set up our vector db\n",
        "\n"
      ]
    },
    {
      "cell_type": "code",
      "execution_count": null,
      "metadata": {
        "id": "h0YJMpNeXyhe"
      },
      "outputs": [],
      "source": [
        "# vector DB\n",
        "import os\n",
        "from getpass import getpass\n",
        "import kdbai_client as kdbai\n",
        "import time"
      ]
    },
    {
      "cell_type": "markdown",
      "metadata": {
        "id": "-EM1jAhQXyhf"
      },
      "source": [
        "##### Option 1. KDB.AI Cloud\n",
        "\n",
        "To use KDB.AI Cloud, you will need two session details - a URL endpoint and an API key.\n",
        "To get these you can sign up for free [here](https://trykdb.kx.com/kdbai/signup).\n",
        "\n",
        "You can connect to a KDB.AI Cloud session using `kdbai.Session` and passing the session URL endpoint and API key details from your KDB.AI Cloud portal.\n",
        "\n",
        "If the environment variables `KDBAI_ENDPOINTS` and `KDBAI_API_KEY` exist on your system containing your KDB.AI Cloud portal details, these variables will automatically be used to connect.\n",
        "If these do not exist, it will prompt you to enter your KDB.AI Cloud portal session URL endpoint and API key details."
      ]
    },
    {
      "cell_type": "code",
      "execution_count": null,
      "metadata": {
        "id": "vi9id_5KXyhf",
        "outputId": "28deefb4-5eff-4615-9ab5-8cb9eab5c915"
      },
      "outputs": [
        {
          "name": "stdout",
          "output_type": "stream",
          "text": [
            "KDB.AI endpoint: your_kdbai_endpoint\n",
            "KDB.AI API key: ········\n"
          ]
        }
      ],
      "source": [
        "#Set up KDB.AI endpoint and API key\n",
        "KDBAI_ENDPOINT = (\n",
        "    os.environ[\"KDBAI_ENDPOINT\"]\n",
        "    if \"KDBAI_ENDPOINT\" in os.environ\n",
        "    else input(\"KDB.AI endpoint: \")\n",
        ")\n",
        "KDBAI_API_KEY = (\n",
        "    os.environ[\"KDBAI_API_KEY\"]\n",
        "    if \"KDBAI_API_KEY\" in os.environ\n",
        "    else getpass(\"KDB.AI API key: \")\n",
        ")"
      ]
    },
    {
      "cell_type": "code",
      "execution_count": null,
      "metadata": {
        "id": "R1-2e8l-Xyhf"
      },
      "outputs": [],
      "source": [
        "session = kdbai.Session(api_key=KDBAI_API_KEY, endpoint=KDBAI_ENDPOINT)"
      ]
    },
    {
      "cell_type": "markdown",
      "metadata": {
        "id": "WeHjUwHCXyhf"
      },
      "source": [
        "##### Option 2. KDB.AI Server\n",
        "\n",
        "To use KDB.AI Server, you will need download and run your own container.\n",
        "To do this, you will first need to sign up for free [here](https://trykdb.kx.com/kdbaiserver/signup/).\n",
        "\n",
        "You will receive an email with the required license file and bearer token needed to download your instance.\n",
        "Follow instructions in the signup email to get your session up and running.\n",
        "\n",
        "Once the [setup steps](https://code.kx.com/kdbai/gettingStarted/kdb-ai-server-setup.html) are complete you can then connect to your KDB.AI Server session using `kdbai.Session` and passing your local endpoint."
      ]
    },
    {
      "cell_type": "code",
      "execution_count": null,
      "metadata": {
        "id": "nRRR7lvfXyhf"
      },
      "outputs": [],
      "source": [
        "session = kdbai.Session()"
      ]
    },
    {
      "cell_type": "markdown",
      "metadata": {
        "id": "CkpOqe6FXyhf"
      },
      "source": [
        "### Set up the table schema\n",
        "Have a table column for each column in the dataframe, as well as an 'embeddings' column for the movie description embeddings"
      ]
    },
    {
      "cell_type": "code",
      "execution_count": null,
      "metadata": {
        "id": "DwGylgw9Xyhf"
      },
      "outputs": [],
      "source": [
        "#Set up the schema for KDB.AI table, specifying embeddings column with 384 dimensions, Euclidean Distance, and flat index\n",
        "table_schema = {\n",
        "    \"columns\": [\n",
        "        {\"name\": \"ReleaseYear\", \"pytype\": \"int64\"},\n",
        "        {\"name\": \"Title\", \"pytype\": \"str\"},\n",
        "        {\"name\": \"Origin\", \"pytype\": \"str\"},\n",
        "        {\"name\": \"Director\", \"pytype\": \"str\"},\n",
        "        {\"name\": \"Cast\", \"pytype\": \"str\"},\n",
        "        {\"name\": \"Genre\", \"pytype\": \"str\"},\n",
        "        {\"name\": \"Plot\", \"pytype\": \"str\"},\n",
        "        {\n",
        "            \"name\": \"embeddings\",\n",
        "            \"pytype\": \"float64\",\n",
        "            \"vectorIndex\": {\"dims\": 384, \"metric\": \"L2\", \"type\": \"flat\"},\n",
        "        },\n",
        "    ]\n",
        "}"
      ]
    },
    {
      "cell_type": "markdown",
      "metadata": {
        "id": "RVcZ7PbNXyhf"
      },
      "source": [
        "### Create a table called \"metadata_demo\"\n",
        "First check if the table already exists, then create a new table with the table schema from above"
      ]
    },
    {
      "cell_type": "code",
      "execution_count": null,
      "metadata": {
        "id": "dH23tks9Xyhf"
      },
      "outputs": [],
      "source": [
        "# First ensure the table does not already exist\n",
        "try:\n",
        "    session.table(\"metadata_demo\").drop()\n",
        "    time.sleep(5)\n",
        "except kdbai.KDBAIException:\n",
        "    pass"
      ]
    },
    {
      "cell_type": "code",
      "execution_count": null,
      "metadata": {
        "id": "mQCdzNeZXyhf"
      },
      "outputs": [],
      "source": [
        "#Create the table called \"metadata_demo\"\n",
        "table = session.create_table(\"metadata_demo\", table_schema)"
      ]
    },
    {
      "cell_type": "markdown",
      "metadata": {
        "id": "ubHHWAxfXyhf"
      },
      "source": [
        "## 4. Insert Movie Data into the KDB.AI table"
      ]
    },
    {
      "cell_type": "code",
      "execution_count": null,
      "metadata": {
        "id": "LN6N0IRsXyhf",
        "outputId": "7eb511a5-4af9-4164-ae07-fb0557063623"
      },
      "outputs": [
        {
          "name": "stderr",
          "output_type": "stream",
          "text": [
            "100%|██████████████████████████████████████████████████████████████████████████████████| 10/10 [00:40<00:00,  4.00s/it]\n"
          ]
        }
      ],
      "source": [
        "#Insert the data into the table, split into 2000 row batches\n",
        "from tqdm import tqdm\n",
        "n = 2000  # chunk row size\n",
        "\n",
        "for i in tqdm(range(0, df.shape[0], n)):\n",
        "    table.insert(df[i:i+n].reset_index(drop=True))"
      ]
    },
    {
      "cell_type": "code",
      "execution_count": null,
      "metadata": {
        "id": "JL4_xRa0Xyhg"
      },
      "outputs": [],
      "source": [
        "#function to view the dataframe within the table\n",
        "def show_df(df: pd.DataFrame) -> pd.DataFrame:\n",
        "    print(df.shape)\n",
        "    return df.head()"
      ]
    },
    {
      "cell_type": "code",
      "execution_count": null,
      "metadata": {
        "id": "-FpZO-9cXyhg",
        "outputId": "c9ebc9dc-184d-4195-daac-b95f74e2be44"
      },
      "outputs": [
        {
          "name": "stdout",
          "output_type": "stream",
          "text": [
            "(19161, 8)\n"
          ]
        },
        {
          "data": {
            "text/html": [
              "<div>\n",
              "<style scoped>\n",
              "    .dataframe tbody tr th:only-of-type {\n",
              "        vertical-align: middle;\n",
              "    }\n",
              "\n",
              "    .dataframe tbody tr th {\n",
              "        vertical-align: top;\n",
              "    }\n",
              "\n",
              "    .dataframe thead th {\n",
              "        text-align: right;\n",
              "    }\n",
              "</style>\n",
              "<table border=\"1\" class=\"dataframe\">\n",
              "  <thead>\n",
              "    <tr style=\"text-align: right;\">\n",
              "      <th></th>\n",
              "      <th>ReleaseYear</th>\n",
              "      <th>Title</th>\n",
              "      <th>Origin</th>\n",
              "      <th>Director</th>\n",
              "      <th>Cast</th>\n",
              "      <th>Genre</th>\n",
              "      <th>Plot</th>\n",
              "      <th>embeddings</th>\n",
              "    </tr>\n",
              "  </thead>\n",
              "  <tbody>\n",
              "    <tr>\n",
              "      <th>0</th>\n",
              "      <td>1975</td>\n",
              "      <td>The Candy Tangerine Man</td>\n",
              "      <td>American</td>\n",
              "      <td>Matt Cimber</td>\n",
              "      <td>John Daniels Eli Haines Tom Hankason</td>\n",
              "      <td>action</td>\n",
              "      <td>A successful Los Angeles-based businessperson ...</td>\n",
              "      <td>[-0.06835174, -0.013138616, -0.12417501, 0.002...</td>\n",
              "    </tr>\n",
              "    <tr>\n",
              "      <th>1</th>\n",
              "      <td>1975</td>\n",
              "      <td>Capone</td>\n",
              "      <td>American</td>\n",
              "      <td>Steve Carver</td>\n",
              "      <td>Ben Gazzara Susan Blakely John Cassavetes Sylv...</td>\n",
              "      <td>crime drama</td>\n",
              "      <td>The story is of the rise and fall of the Chica...</td>\n",
              "      <td>[-0.01411798, 0.040705115, -0.0014280609, 0.00...</td>\n",
              "    </tr>\n",
              "    <tr>\n",
              "      <th>2</th>\n",
              "      <td>1975</td>\n",
              "      <td>Cleopatra Jones and the Casino of Gold</td>\n",
              "      <td>American</td>\n",
              "      <td>Charles Bail</td>\n",
              "      <td>Tamara Dobson Stella Stevens</td>\n",
              "      <td>action</td>\n",
              "      <td>The story begins with two government agents Ma...</td>\n",
              "      <td>[-0.0925895, 0.01188509, -0.08999529, -0.01541...</td>\n",
              "    </tr>\n",
              "    <tr>\n",
              "      <th>3</th>\n",
              "      <td>1975</td>\n",
              "      <td>Conduct Unbecoming</td>\n",
              "      <td>American</td>\n",
              "      <td>Michael Anderson</td>\n",
              "      <td>Stacy Keach Richard Attenborough Christopher P...</td>\n",
              "      <td>drama</td>\n",
              "      <td>Around 1880 two young British officers arrive ...</td>\n",
              "      <td>[-0.07435084, -0.06386179, 0.017042944, 0.0288...</td>\n",
              "    </tr>\n",
              "    <tr>\n",
              "      <th>4</th>\n",
              "      <td>1975</td>\n",
              "      <td>Cooley High</td>\n",
              "      <td>American</td>\n",
              "      <td>Michael Schultz</td>\n",
              "      <td>Lawrence Hilton-Jacobs Glynn Turman Garrett Mo...</td>\n",
              "      <td>comedy</td>\n",
              "      <td>Set in 1964 Chicago Preach an aspiring playwri...</td>\n",
              "      <td>[-0.041632336, 0.037923656, -0.072276264, -0.0...</td>\n",
              "    </tr>\n",
              "  </tbody>\n",
              "</table>\n",
              "</div>"
            ],
            "text/plain": [
              "   ReleaseYear                                   Title    Origin  \\\n",
              "0         1975                 The Candy Tangerine Man  American   \n",
              "1         1975                                  Capone  American   \n",
              "2         1975  Cleopatra Jones and the Casino of Gold  American   \n",
              "3         1975                      Conduct Unbecoming  American   \n",
              "4         1975                             Cooley High  American   \n",
              "\n",
              "           Director                                               Cast  \\\n",
              "0       Matt Cimber               John Daniels Eli Haines Tom Hankason   \n",
              "1      Steve Carver  Ben Gazzara Susan Blakely John Cassavetes Sylv...   \n",
              "2      Charles Bail                       Tamara Dobson Stella Stevens   \n",
              "3  Michael Anderson  Stacy Keach Richard Attenborough Christopher P...   \n",
              "4   Michael Schultz  Lawrence Hilton-Jacobs Glynn Turman Garrett Mo...   \n",
              "\n",
              "         Genre                                               Plot  \\\n",
              "0       action  A successful Los Angeles-based businessperson ...   \n",
              "1  crime drama  The story is of the rise and fall of the Chica...   \n",
              "2       action  The story begins with two government agents Ma...   \n",
              "3        drama  Around 1880 two young British officers arrive ...   \n",
              "4       comedy  Set in 1964 Chicago Preach an aspiring playwri...   \n",
              "\n",
              "                                          embeddings  \n",
              "0  [-0.06835174, -0.013138616, -0.12417501, 0.002...  \n",
              "1  [-0.01411798, 0.040705115, -0.0014280609, 0.00...  \n",
              "2  [-0.0925895, 0.01188509, -0.08999529, -0.01541...  \n",
              "3  [-0.07435084, -0.06386179, 0.017042944, 0.0288...  \n",
              "4  [-0.041632336, 0.037923656, -0.072276264, -0.0...  "
            ]
          },
          "execution_count": 23,
          "metadata": {},
          "output_type": "execute_result"
        }
      ],
      "source": [
        "#View contents of the table\n",
        "show_df(table.query())"
      ]
    },
    {
      "cell_type": "markdown",
      "metadata": {
        "id": "eWD7Q4ntXyhg"
      },
      "source": [
        "## 5. Run Filtered Similarity Searches on our KDB.AI Vector Database"
      ]
    },
    {
      "cell_type": "markdown",
      "metadata": {
        "id": "qUn-stWwXyhg"
      },
      "source": [
        "#### Set up embedding model to embed our natural language queries"
      ]
    },
    {
      "cell_type": "code",
      "execution_count": null,
      "metadata": {
        "id": "U78VR-7UXyhg"
      },
      "outputs": [],
      "source": [
        "# embedding model to be used to embed user input query\n",
        "from sentence_transformers import SentenceTransformer\n",
        "embedding_model = SentenceTransformer(\"all-MiniLM-L6-v2\")"
      ]
    },
    {
      "cell_type": "markdown",
      "metadata": {
        "id": "VDRi-wDwXyhg"
      },
      "source": [
        "#### Create a query vector by using the embedding model to embed a natural language query"
      ]
    },
    {
      "cell_type": "code",
      "execution_count": null,
      "metadata": {
        "id": "e3NbLcaOXyhg"
      },
      "outputs": [],
      "source": [
        "#Embed a query\n",
        "query_vector = [embedding_model.encode('star wars Luke Skywalker').tolist()]"
      ]
    },
    {
      "cell_type": "markdown",
      "metadata": {
        "id": "k3nWaUvyXyhg"
      },
      "source": [
        "#### Run vector similarity search, return the top-3 similar movies"
      ]
    },
    {
      "cell_type": "code",
      "execution_count": null,
      "metadata": {
        "id": "HEYbnoBUXyhg",
        "outputId": "2ffeb3d2-d44b-4625-9fba-05571afe6693"
      },
      "outputs": [
        {
          "name": "stdout",
          "output_type": "stream",
          "text": [
            "[   ReleaseYear                                             Title    Origin  \\\n",
            "0         1983                                Return of the Jedi  American   \n",
            "1         1977  Star Wars Episode IV: A New Hope (aka Star Wars)  American   \n",
            "2         1980                           The Empire Strikes Back  American   \n",
            "\n",
            "           Director                                               Cast  \\\n",
            "0  Richard Marquand  Mark Hamill Harrison Ford Carrie Fisher Billy ...   \n",
            "1      George Lucas  Mark Hamill Harrison Ford Carrie Fisher Alec G...   \n",
            "2    Irvin Kershner  Carrie Fisher Harrison Ford Mark Hamill Billy ...   \n",
            "\n",
            "             Genre                                               Plot  \\\n",
            "0  science fiction  Luke Skywalker initiates a plan to rescue Han ...   \n",
            "1  science fiction  The galaxy is in the midst of a civil war. Spi...   \n",
            "2  science fiction  Three years after the destruction of the Death...   \n",
            "\n",
            "                                          embeddings  __nn_distance  \n",
            "0  [-0.047360003, -0.08337291, 0.009671548, -0.03...       0.748475  \n",
            "1  [-0.100305825, 0.008335104, 0.03792797, -0.038...       0.910225  \n",
            "2  [-0.050230544, -0.02365108, 0.016264591, -0.00...       0.942763  ]\n"
          ]
        }
      ],
      "source": [
        "#Search vector db to find most relevant movies\n",
        "print(table.search(query_vector, n=3))"
      ]
    },
    {
      "cell_type": "markdown",
      "metadata": {
        "id": "0hdIcL2GXyhg"
      },
      "source": [
        "#### Repeat the search with metadata filters to narrow the search space"
      ]
    },
    {
      "cell_type": "code",
      "execution_count": null,
      "metadata": {
        "id": "1vaqdT0CXyhh",
        "outputId": "2d206c83-5731-463e-d2f2-f6f6509ea60a"
      },
      "outputs": [
        {
          "name": "stdout",
          "output_type": "stream",
          "text": [
            "[   ReleaseYear                                             Title    Origin  \\\n",
            "0         1977  Star Wars Episode IV: A New Hope (aka Star Wars)  American   \n",
            "\n",
            "       Director                                               Cast  \\\n",
            "0  George Lucas  Mark Hamill Harrison Ford Carrie Fisher Alec G...   \n",
            "\n",
            "             Genre                                               Plot  \\\n",
            "0  science fiction  The galaxy is in the midst of a civil war. Spi...   \n",
            "\n",
            "                                          embeddings  __nn_distance  \n",
            "0  [-0.100305825, 0.008335104, 0.03792797, -0.038...       0.910225  ]\n"
          ]
        }
      ],
      "source": [
        "print(table.search(query_vector, n=3, filter=[(\"like\", \"Director\", \"George Lucas\"),(\"=\", \"ReleaseYear\", 1977)]))"
      ]
    },
    {
      "cell_type": "markdown",
      "metadata": {
        "id": "AsnPmebLZbT6"
      },
      "source": [
        "### Fuzzy Filtering\n",
        "What if there are some spelling mistakes?"
      ]
    },
    {
      "cell_type": "code",
      "execution_count": null,
      "metadata": {
        "id": "XtAynAljZa6t"
      },
      "outputs": [],
      "source": [
        "# Fuzzy filter with a misspelled name\n",
        "print(table.search(query_vector, n=3, filter=[['fuzzy','Director',[[\"Goerge Lucas\",2]]]]))"
      ]
    },
    {
      "cell_type": "code",
      "execution_count": null,
      "metadata": {
        "id": "Q7-bIyiQZpsj"
      },
      "outputs": [],
      "source": [
        "# Fuzzy filter with a misspelled genre, choosing the distance metric algorithm to use, in this case 'jaro'. This defaults to 'Levenshtein'\n",
        "print(table.search(query_vector, n=3, filter=[['fuzzy','Genre',[[\"ficton\",2,\"jaro\"]]]]))"
      ]
    },
    {
      "cell_type": "markdown",
      "metadata": {
        "id": "P_3kKzl1Xyhh"
      },
      "source": [
        "#### More Examples"
      ]
    },
    {
      "cell_type": "code",
      "execution_count": null,
      "metadata": {
        "colab": {
          "referenced_widgets": [
            "16655cbc0f364ee1a6c4f00c8cfae8cd"
          ]
        },
        "id": "q0g8NZONXyhh",
        "outputId": "1a50018b-a3ba-466c-b650-be752e9bcf41"
      },
      "outputs": [
        {
          "data": {
            "application/vnd.jupyter.widget-view+json": {
              "model_id": "16655cbc0f364ee1a6c4f00c8cfae8cd",
              "version_major": 2,
              "version_minor": 0
            },
            "text/plain": [
              "Batches:   0%|          | 0/1 [00:00<?, ?it/s]"
            ]
          },
          "metadata": {},
          "output_type": "display_data"
        }
      ],
      "source": [
        "#Another query\n",
        "query_vector = [embedding_model.encode('conspiracy theories involving art').tolist()]"
      ]
    },
    {
      "cell_type": "code",
      "execution_count": null,
      "metadata": {
        "id": "k5PvOBvDXyhh",
        "outputId": "cff04ee4-e3a7-44fd-a36c-f36f919cb3fe"
      },
      "outputs": [
        {
          "name": "stdout",
          "output_type": "stream",
          "text": [
            "[   ReleaseYear               Title    Origin          Director  \\\n",
            "0         2006   The Da Vinci Code  American        Ron Howard   \n",
            "1         2017          The Circle  American    James Ponsoldt   \n",
            "2         2017            The Post  American  Steven Spielberg   \n",
            "\n",
            "                                                Cast  \\\n",
            "0  Tom Hanks Audrey Tautou Ian McKellen Alfred Mo...   \n",
            "1  James Ponsoldt (director/screenplay); Tom Hank...   \n",
            "2  Steven Spielberg (director); Liz Hannah Josh S...   \n",
            "\n",
            "                              Genre  \\\n",
            "0                          thriller   \n",
            "1             sci-fi drama thriller   \n",
            "2  biography drama history thriller   \n",
            "\n",
            "                                                Plot  \\\n",
            "0  Jacques Sauni¨re the Louvres curator is pursue...   \n",
            "1  When her car breaks down Mae Holland contacts ...   \n",
            "2  In 1966 Vietnam State Department military anal...   \n",
            "\n",
            "                                          embeddings  __nn_distance  \n",
            "0  [-0.11887315, -0.049770635, -0.022621859, -0.0...       1.276896  \n",
            "1  [-0.0758997, -0.052303415, -0.03175389, -0.017...       1.395944  \n",
            "2  [-0.062428504, -0.034977995, -0.035489008, 0.0...       1.607656  ]\n"
          ]
        }
      ],
      "source": [
        "#Another filtered search example\n",
        "print(table.search(query_vector, n=3, filter=[(\"like\", \"Genre\", \"*thriller*\"),(\"like\",\"Cast\",\"*Tom Hanks*\")]))"
      ]
    },
    {
      "cell_type": "code",
      "execution_count": null,
      "metadata": {
        "colab": {
          "referenced_widgets": [
            "c72be00dcfd24dea9847766712fb5fd4"
          ]
        },
        "id": "HhbmuhVXXyhl",
        "outputId": "eb95d7c4-fa2d-4b53-edde-782b24be3c03"
      },
      "outputs": [
        {
          "data": {
            "application/vnd.jupyter.widget-view+json": {
              "model_id": "c72be00dcfd24dea9847766712fb5fd4",
              "version_major": 2,
              "version_minor": 0
            },
            "text/plain": [
              "Batches:   0%|          | 0/1 [00:00<?, ?it/s]"
            ]
          },
          "metadata": {},
          "output_type": "display_data"
        }
      ],
      "source": [
        "#Another query\n",
        "query_vector = [embedding_model.encode('middle earth fantasy adventure in the Shire').tolist()]"
      ]
    },
    {
      "cell_type": "code",
      "execution_count": null,
      "metadata": {
        "id": "-I708ZtyXyhl",
        "outputId": "dc5aba31-fb9d-4936-8eeb-6fa315202a04"
      },
      "outputs": [
        {
          "name": "stdout",
          "output_type": "stream",
          "text": [
            "[   ReleaseYear                                              Title    Origin  \\\n",
            "0         2001  The Lord of the Rings: The Fellowship of the Ring  American   \n",
            "1         2002              The Lord of the Rings: The Two Towers  American   \n",
            "2         2003      The Lord of the Rings: The Return of the King  American   \n",
            "\n",
            "        Director                                               Cast  \\\n",
            "0  Peter Jackson  Elijah Wood Ian McKellen Liv Tyler Sean Astin ...   \n",
            "1  Peter Jackson  Elijah Wood Ian McKellen Liv Tyler Viggo Morte...   \n",
            "2  Peter Jackson  Elijah Wood Ian McKellen Liv Tyler Sean Astin ...   \n",
            "\n",
            "               Genre                                               Plot  \\\n",
            "0            fantasy  In the Second Age of Middle-earth the lords of...   \n",
            "1  adventure fantasy  After awakening from a dream of Gandalf the Gr...   \n",
            "2  adventure fantasy  Many years ago two Hobbits Smeagol and Dagol a...   \n",
            "\n",
            "                                          embeddings  __nn_distance  \n",
            "0  [-0.047063936, 0.036902286, -0.045477457, -0.0...       1.014505  \n",
            "1  [-0.05915825, 0.033268802, -0.03859481, 0.0110...       1.099138  \n",
            "2  [-0.07969464, -0.006237573, -0.056435574, -0.0...       1.153412  ]\n"
          ]
        }
      ],
      "source": [
        "#Another filtered search example\n",
        "print(table.search(query_vector, n=3, filter=[(\"within\",\"ReleaseYear\",[2000,2010])]))"
      ]
    },
    {
      "cell_type": "markdown",
      "source": [
        "#### Another Fuzzy Filtering Example on the Genre metadata column"
      ],
      "metadata": {
        "id": "WDyBpe5u_RjS"
      }
    },
    {
      "cell_type": "code",
      "execution_count": null,
      "metadata": {
        "id": "HIkGoJF4cXZ0"
      },
      "outputs": [],
      "source": [
        "#Another filtered search example, with fuzzy filtering the Genre column reconciling for a typo\n",
        "print(table.search(query_vector, n=3, filter=[(\"within\",\"ReleaseYear\",[2000,2010]),['fuzzy','Genre',[[\"fantesy\",2,\"damerau-levenshtein\"]]]]))"
      ]
    },
    {
      "cell_type": "markdown",
      "metadata": {
        "id": "unLQEoaPXyhl"
      },
      "source": [
        "## Delete the KDB.AI Table\n",
        "Once finished with the table, it is best practice to drop it."
      ]
    },
    {
      "cell_type": "code",
      "execution_count": null,
      "metadata": {
        "id": "WS99DOEFXyhl"
      },
      "outputs": [],
      "source": [
        "table.drop()"
      ]
    },
    {
      "cell_type": "markdown",
      "metadata": {
        "id": "Ii2Hd3chXyhl"
      },
      "source": [
        "#### Take Our Survey\n",
        "We hope you found this sample helpful! Your feedback is important to us, and we would appreciate it if you could take a moment to fill out our brief survey. Your input helps us improve our content.\n",
        "\n",
        "Take the [Survey](https://delighted.com/t/wtS7T4Lg)\n"
      ]
    }
  ],
  "metadata": {
    "colab": {
      "provenance": []
    },
    "kernelspec": {
      "display_name": "Python 3 (ipykernel)",
      "language": "python",
      "name": "python3"
    },
    "language_info": {
      "codemirror_mode": {
        "name": "ipython",
        "version": 3
      },
      "file_extension": ".py",
      "mimetype": "text/x-python",
      "name": "python",
      "nbconvert_exporter": "python",
      "pygments_lexer": "ipython3",
      "version": "3.11.5"
    }
  },
  "nbformat": 4,
  "nbformat_minor": 0
}