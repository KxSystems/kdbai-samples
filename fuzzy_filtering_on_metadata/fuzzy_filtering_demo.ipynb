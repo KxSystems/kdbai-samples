{
  "cells": [
    {
      "cell_type": "markdown",
      "metadata": {
        "id": "WgVm-xwOXyhY"
      },
      "source": [
        "# Fuzzy Filtering on Metadata with KDB.AI Vector Database\n",
        "\n",
        "##### Note: This example requires a KDB.AI endpoint and API key. Sign up for a free [KDB.AI account](https://kdb.ai/get-started).\n",
        "\n",
        "#### In this example, we will show how to use metadata filtering along with fuzzy filtering in a KDB.AI vector database to increase the speed and accuracy of vector similarity searches.\n",
        "\n",
        "#### NOTE! KDB.AI Also has 'fuzzy filter' capabilities on metadata columns.\n",
        "Data often contains errors such as typos, misspellings, or international spelling variations, which can hinder the accuracy of search results. Fuzzy filters address this issue by enabling the retrieval of documents that contain terms and metadata entries similar to the specified query term and filters, even if there are slight variations.\n",
        "\n",
        "There are many distance metrics you can use for fuzzy filtering, it defaults to Levenshtein distance, but you have the ability to choose the distance metric from a variety of options including: Levenshtein, Damerau-Levenshtein, Hamming, Indel, Jaro, JaroWinkler, Longest Common Subsequence, Optimal String Alignment (OSA), Prefix, or Postfix.\n",
        "\n",
        "#### Agenda:\n",
        "1. Set Up\n",
        "2. Data Import and Understanding\n",
        "3. Set Up KDB.AI Vector Database\n",
        "4. Insert Movie Data into the KDB.AI table\n",
        "5. Run Filtered & Fuzzy Similarity Searches on our KDB.AI vector database\n",
        "\n",
        "Movie Dataset Source: https://www.kaggle.com/datasets/jrobischon/wikipedia-movie-plots"
      ]
    },
    {
      "cell_type": "markdown",
      "metadata": {
        "id": "D6Py6iDPXyhb"
      },
      "source": [
        "## 1. Set Up\n",
        "#### Installs, imports, and API Key setup\n",
        "\n",
        "In order to successfully run this sample, note the following steps depending on where you are running this notebook:\n",
        "\n",
        "-***Run Locally / Private Environment:*** The [Setup](https://github.com/KxSystems/kdbai-samples/blob/main/README.md#setup) steps in the repository's `README.md` will guide you on prerequisites and how to run this with Jupyter.\n",
        "\n",
        "\n",
        "-***Colab / Hosted Environment:*** Open this notebook in Colab and run through the cells."
      ]
    },
    {
      "cell_type": "code",
      "execution_count": null,
      "metadata": {
        "id": "Z9Fia3FQXyhb"
      },
      "outputs": [],
      "source": [
        "!pip install kdbai_client sentence_transformers"
      ]
    },
    {
      "cell_type": "code",
      "execution_count": 2,
      "metadata": {
        "id": "reDIVkL5Xyhc"
      },
      "outputs": [],
      "source": [
        "import pandas as pd\n",
        "import os\n",
        "from getpass import getpass"
      ]
    },
    {
      "cell_type": "code",
      "execution_count": null,
      "metadata": {
        "id": "sLp8fEsWXyhc"
      },
      "outputs": [],
      "source": [
        "### !!! Only run this cell if you need to download the data into your environment, for example in Colab\n",
        "### This downloads movie data\n",
        "if os.path.exists(\"./data/filtered_embedded_movies.pkl\") == False:\n",
        "  !mkdir ./data\n",
        "  !wget -P ./data https://raw.githubusercontent.com/KxSystems/kdbai-samples/main/metadata_filtering/data/filtered_embedded_movies.pkl"
      ]
    },
    {
      "cell_type": "markdown",
      "metadata": {
        "id": "CEhGKVP4Xyhd"
      },
      "source": [
        "## 2. Data Import and Understanding\n",
        "### Import movies dataframe"
      ]
    },
    {
      "cell_type": "code",
      "execution_count": 4,
      "metadata": {
        "id": "CyHi02nGXyhd",
        "scrolled": true
      },
      "outputs": [],
      "source": [
        "# Read in the Movies dataframe\n",
        "df = pd.read_pickle(\"./data/filtered_embedded_movies.pkl\")"
      ]
    },
    {
      "cell_type": "markdown",
      "metadata": {
        "id": "RtktEmpwXyhd"
      },
      "source": [
        "### Initial data exploration: Let's understand the data!"
      ]
    },
    {
      "cell_type": "code",
      "execution_count": 5,
      "metadata": {
        "colab": {
          "base_uri": "https://localhost:8080/"
        },
        "id": "aucHA297Xyhd",
        "outputId": "11869edd-c29e-4e33-83c7-7eaf03dd49cf"
      },
      "outputs": [
        {
          "name": "stdout",
          "output_type": "stream",
          "text": [
            "19161\n"
          ]
        }
      ],
      "source": [
        "#How many rows do we have?\n",
        "print(df.shape[0])"
      ]
    },
    {
      "cell_type": "code",
      "execution_count": 6,
      "metadata": {
        "colab": {
          "base_uri": "https://localhost:8080/"
        },
        "id": "aOVfpVChXyhe",
        "outputId": "c061e2ac-9d13-4b54-aa50-17f511ed95ac"
      },
      "outputs": [
        {
          "name": "stdout",
          "output_type": "stream",
          "text": [
            "ReleaseYear\n",
            "Title\n",
            "Origin\n",
            "Director\n",
            "Cast\n",
            "Genre\n",
            "Plot\n",
            "embeddings\n"
          ]
        }
      ],
      "source": [
        "#What columns do we have?\n",
        "for column in df.columns:\n",
        "    print(column)"
      ]
    },
    {
      "cell_type": "code",
      "execution_count": 7,
      "metadata": {
        "colab": {
          "base_uri": "https://localhost:8080/",
          "height": 206
        },
        "id": "JMCgWg3OXyhe",
        "outputId": "e5498cfa-a4e1-4a31-bde9-264b60d27232"
      },
      "outputs": [
        {
          "data": {
            "application/vnd.google.colaboratory.intrinsic+json": {
              "summary": "{\n  \"name\": \"df\",\n  \"rows\": 19161,\n  \"fields\": [\n    {\n      \"column\": \"ReleaseYear\",\n      \"properties\": {\n        \"dtype\": \"number\",\n        \"std\": 21,\n        \"min\": 1920,\n        \"max\": 2017,\n        \"num_unique_values\": 98,\n        \"samples\": [\n          1934,\n          2015,\n          1966\n        ],\n        \"semantic_type\": \"\",\n        \"description\": \"\"\n      }\n    },\n    {\n      \"column\": \"Title\",\n      \"properties\": {\n        \"dtype\": \"string\",\n        \"num_unique_values\": 18308,\n        \"samples\": [\n          \"Chasing Amy\",\n          \"Jai Chiranjeeva\",\n          \"Kick-Ass 2\"\n        ],\n        \"semantic_type\": \"\",\n        \"description\": \"\"\n      }\n    },\n    {\n      \"column\": \"Origin\",\n      \"properties\": {\n        \"dtype\": \"category\",\n        \"num_unique_values\": 24,\n        \"samples\": [\n          \"Filipino\",\n          \"Tamil\",\n          \"American\"\n        ],\n        \"semantic_type\": \"\",\n        \"description\": \"\"\n      }\n    },\n    {\n      \"column\": \"Director\",\n      \"properties\": {\n        \"dtype\": \"category\",\n        \"num_unique_values\": 8914,\n        \"samples\": [\n          \"Rosss Kagan Marks\",\n          \"D. Sabapathy\",\n          \"Craig Strachan\"\n        ],\n        \"semantic_type\": \"\",\n        \"description\": \"\"\n      }\n    },\n    {\n      \"column\": \"Cast\",\n      \"properties\": {\n        \"dtype\": \"string\",\n        \"num_unique_values\": 18827,\n        \"samples\": [\n          \"John Turturro Katherine Borowitz Christopher Walken Susan Sarandon\",\n          \"Chad Cunningham\",\n          \"Tom Berenger William Katt\"\n        ],\n        \"semantic_type\": \"\",\n        \"description\": \"\"\n      }\n    },\n    {\n      \"column\": \"Genre\",\n      \"properties\": {\n        \"dtype\": \"category\",\n        \"num_unique_values\": 1950,\n        \"samples\": [\n          \"road movie\",\n          \"crime fiction drama historical\",\n          \"animation / fantasy / adventure\"\n        ],\n        \"semantic_type\": \"\",\n        \"description\": \"\"\n      }\n    },\n    {\n      \"column\": \"Plot\",\n      \"properties\": {\n        \"dtype\": \"string\",\n        \"num_unique_values\": 18839,\n        \"samples\": [\n          \"Battersea housewife Margery (June Ritchie) lives a life of drudgery in a working class terrace with her feckless husband (Mike Pratt) and her small daughter. Lodging next door with her mother is Harry (Ian Hendry) a flashy salesman and nightclub owner who repeatedly attempts to seduce Marge. At first showing little interest Marge finally gives in after he helps find her missing daughter. Harry eventually tires of Marge and turns his attentions to her younger educated sister Jinny (Annette Andre). Marge though is infatuated and when she discovers Harry plans to marry her sister she attempts to kill herself   leaving a suicide note exposing her affair with Harry.\",\n          \"Ten stories each inspired by one of the Ten Commandments:\\r\\nA man (Adam Brody) becomes a celebrity after falling out of a plane and becoming permanently embedded in the ground thanks to a superstar agent (Ron Silver). After a swift rise to stardom he becomes prideful and arrogant referring to himself as a god. His career falls apart and he loses everything. His fiance (Winona Ryder) leaves him for a TV anchor man.\\r\\nA librarian (Gretchen Mol) has a sexual awakening in Mexico with a swarthy local (Justin Theroux) who turns out to be Jesus Christ. She eventually settles down and marries her coworker (A. D. Miles) but is secretly reminded of her fling with Jesus whenever her family prays before a meal.\\r\\nA doctor (Ken Marino) kills his patient by leaving a pair of scissors inside her abdomen during surgery. Despite expecting the charges to be dropped because he left the scissors in as a goof the judge and jury sentence him to life in prison. The judge also disbars the plaintiffs lawyer who is then told that he should consider a job as a tour guide at the local nuclear plant.\\r\\nA white mother (Kerri Kenney-Silver) enlists an Arnold Schwarzenegger impersonator (Oliver Platt) to be a father figure to her black children after telling them he is their biological father. It is revealed that their father is in reality Arsenio Hall but they decide to keep the Arnold impersonator as part of the family; despite not being able to imitate Arsenio he can do a pretty good Eddie Murphy impression.\\r\\nA police detective (Liev Schreiber) covets his neighbors (Joe Lo Truglio) CAT Scan machine. After continuously buying additional CAT Scan machines to one up each other both of their wives leave them. After hitting rock bottom the two neighbors reconcile and go out for a drink. Meanwhile a disaster at a nuclear power plant during a school tour (led by the former lawyer from the third story) leaves a busload of school children in need of several CAT Scan machines. They arrive at the neighbors houses but the doors are locked and the two men are at the bar so all the children die.\\r\\nA prisoner (Rob Corddry) desires a fellow inmates bitch (the doctor from the third story) for his own.\\r\\nThe woman (Winona Ryder) from the first story having recently married the TV anchor man falls in love with a ventriloquist (Michael Ziegfelds) puppet steals it and runs off to have a romantic relationship with it.\\r\\nThe ventriloquist having lost his dummy and become a homeless heroin addict is told by another homeless man a story about an animated rhinoceros (voice of H. Jon Benjamin) who earns a reputation as a liar. After learning that a band of weiner dogs is intent on infecting others with a fatal STD the rhinoceros tries to warn everyone. Unfortunately nobody believes him and they all succumb to the STD (following an orgy). It is then revealed that the rhinoceros now sells drugs to the homeless men.\\r\\nJeff Reigert (Paul Rudd) presents all of these stories to the audience while struggling with his own moral dilemma: having to choose between his beautiful wife (Famke Janssen) and his also beautiful but somewhat younger mistress (Jessica Alba).\\r\\nThe husband from the second story (A.D. Miles) skips church with his family to get naked with his friends and listen to Roberta Flack.\",\n          \"Jenn (played by Jenn Harris) a yoga instructor and Matt (played by Matthew Wilkas) a comic book store worker are best friends from college who are now single and in their 30s. In agreement with a pact they made in their youth the two decide to have a baby (gayby) together even though Jenn is straight and Matt is gay. Jenns grandmother set her up with a trust fund if she ever had a child so Jenn is confident that she and Matt will have the finances to have one. However Jenn states that she wants to have a baby through natural conception so the two begin awkwardly having sex. Meanwhile Jenn is concerned with the stunted life she is living treated as an underling at her yoga studio. Matt is recovering from a devastating break up with his partner of six years Tom who is a rising comic book publisher. Matt finds difficulty in getting back into the dating game and finds himself constantly avoiding awkward run-ins with Tom.\\r\\nThe two friends resolve to reinvigorate their dating lives and achieve their longterm goals Jenn pushes the idea of innovative warm yoga classes at her studio while Matt works on his own comic book Gayby about the adventures of a heroic gay baby to pitch to a distributor. Both receive advice from friends about their goals and the pregnancy attempts Jenn from her gay co-worker Jamie and her aggressive sister Kelly who is in the process of adopting a child and Matt from his dry-witted friend Nelson who helps them with their fertility treatments having been a surrogate father himself.\\r\\nAfter dating around Jenn has a one-off night of passionate sex with her bosss brother Louis. Meanwhile Matt meets a divorced newly out gay father Scott who buys comic books at his store. The two begin a relationship but Matt is frustrated at how slowly Scott wishes to proceed. Jenn and Matt are later thrilled when they learn Jenn is finally pregnant.\\r\\nWhile talking with Louis Jenn is furious to learn that Louis has a girlfriend and that he cheated on her with Jenn. In trying to defend himself Louis reveals that their condoms broke during sex but that he thought Jenn knew and was okay with it. Jenn is devastated by the possibility that the child may not be Matts after all. Her boss upon learning that her brother cheated on his girlfriend again with Jenn angrily asks her to take a leave of absence from the yoga studio.\\r\\nWhile attending Matts birthday party Jenn hesitantly reveals that the child might be Louiss which devastates Matt. He asks Jenn to return his apartment key and refuses to speak to her. Falling into a depression Jenn is visited by Kelly who tells her that her adoption process failed. She instead offers to raise Jenns baby arguing that Jenn is not fit either in lifestyle or career to raise a child on her own and will block the trust fund if necessary. Jenn is taken aback and exclaims that she will be able to raise the child and give it a great life even if Matt never forgives her and she is forced to raise it alone. Satisfied that Jenn has what it takes Kelly reveals that the adoption went through and that her offer was a ruse to bolster her sisters conviction.\\r\\nJenn returns to work and offers to buy into the yoga studio with some of her trust fund money securing her future with the studio and furthering her career. Enticed by the opportunity to split the responsibility of studio ownership with someone and seeing that Jenns warm yoga has become an immense hit her boss accepts and they both agree to restart their friendship. Nelson reads over Matts comic and convinces him that it is worth submitting to a publisher. Matt finds closure with Tom by finally speaking with him and asking him if he would pass his proposal up to one of his superiors. Tom happily agrees stating that he is pleased to see Matt is doing better. Though he is excited about this development Matt is still depressed that the child may not be his. Nelson tells him that even if the child isnt his biologically it is still his child because he and Jenn wanted to have it together. That it has a loving family is whats most important.\\r\\nJenn arrives at the comic book store to ask for Matts forgiveness and offers to raise the child with him one last time. Though silent at first Matt relents and the two make up preparing for the babys arrival.\\r\\nOne year later Matts comic book is a success and he has furthered his relationship with Scott who enthusiastically helps care for the baby. Jenn has begun a relationship with one of Matts straight co-workers and stops by Matt and Scotts place to give them the night off of baby-duty. It is then that Scott tells Jenn of his plan to secretly propose to Matt that evening. After Matt and Scott leave Jenn cuddles with the baby and says You sure do look like your father leaving the true identity of the babys father unknown.\"\n        ],\n        \"semantic_type\": \"\",\n        \"description\": \"\"\n      }\n    },\n    {\n      \"column\": \"embeddings\",\n      \"properties\": {\n        \"dtype\": \"object\",\n        \"semantic_type\": \"\",\n        \"description\": \"\"\n      }\n    }\n  ]\n}",
              "type": "dataframe",
              "variable_name": "df"
            },
            "text/html": [
              "\n",
              "  <div id=\"df-910869f9-3a26-4683-94aa-8f650513cd89\" class=\"colab-df-container\">\n",
              "    <div>\n",
              "<style scoped>\n",
              "    .dataframe tbody tr th:only-of-type {\n",
              "        vertical-align: middle;\n",
              "    }\n",
              "\n",
              "    .dataframe tbody tr th {\n",
              "        vertical-align: top;\n",
              "    }\n",
              "\n",
              "    .dataframe thead th {\n",
              "        text-align: right;\n",
              "    }\n",
              "</style>\n",
              "<table border=\"1\" class=\"dataframe\">\n",
              "  <thead>\n",
              "    <tr style=\"text-align: right;\">\n",
              "      <th></th>\n",
              "      <th>ReleaseYear</th>\n",
              "      <th>Title</th>\n",
              "      <th>Origin</th>\n",
              "      <th>Director</th>\n",
              "      <th>Cast</th>\n",
              "      <th>Genre</th>\n",
              "      <th>Plot</th>\n",
              "      <th>embeddings</th>\n",
              "    </tr>\n",
              "  </thead>\n",
              "  <tbody>\n",
              "    <tr>\n",
              "      <th>0</th>\n",
              "      <td>1975</td>\n",
              "      <td>The Candy Tangerine Man</td>\n",
              "      <td>American</td>\n",
              "      <td>Matt Cimber</td>\n",
              "      <td>John Daniels Eli Haines Tom Hankason</td>\n",
              "      <td>action</td>\n",
              "      <td>A successful Los Angeles-based businessperson ...</td>\n",
              "      <td>[-0.06835174, -0.013138616, -0.12417501, 0.002...</td>\n",
              "    </tr>\n",
              "    <tr>\n",
              "      <th>1</th>\n",
              "      <td>1975</td>\n",
              "      <td>Capone</td>\n",
              "      <td>American</td>\n",
              "      <td>Steve Carver</td>\n",
              "      <td>Ben Gazzara Susan Blakely John Cassavetes Sylv...</td>\n",
              "      <td>crime drama</td>\n",
              "      <td>The story is of the rise and fall of the Chica...</td>\n",
              "      <td>[-0.01411798, 0.040705115, -0.0014280609, 0.00...</td>\n",
              "    </tr>\n",
              "    <tr>\n",
              "      <th>2</th>\n",
              "      <td>1975</td>\n",
              "      <td>Cleopatra Jones and the Casino of Gold</td>\n",
              "      <td>American</td>\n",
              "      <td>Charles Bail</td>\n",
              "      <td>Tamara Dobson Stella Stevens</td>\n",
              "      <td>action</td>\n",
              "      <td>The story begins with two government agents Ma...</td>\n",
              "      <td>[-0.0925895, 0.01188509, -0.08999529, -0.01541...</td>\n",
              "    </tr>\n",
              "    <tr>\n",
              "      <th>3</th>\n",
              "      <td>1975</td>\n",
              "      <td>Conduct Unbecoming</td>\n",
              "      <td>American</td>\n",
              "      <td>Michael Anderson</td>\n",
              "      <td>Stacy Keach Richard Attenborough Christopher P...</td>\n",
              "      <td>drama</td>\n",
              "      <td>Around 1880 two young British officers arrive ...</td>\n",
              "      <td>[-0.07435084, -0.06386179, 0.017042944, 0.0288...</td>\n",
              "    </tr>\n",
              "    <tr>\n",
              "      <th>4</th>\n",
              "      <td>1975</td>\n",
              "      <td>Cooley High</td>\n",
              "      <td>American</td>\n",
              "      <td>Michael Schultz</td>\n",
              "      <td>Lawrence Hilton-Jacobs Glynn Turman Garrett Mo...</td>\n",
              "      <td>comedy</td>\n",
              "      <td>Set in 1964 Chicago Preach an aspiring playwri...</td>\n",
              "      <td>[-0.041632336, 0.037923656, -0.072276264, -0.0...</td>\n",
              "    </tr>\n",
              "  </tbody>\n",
              "</table>\n",
              "</div>\n",
              "    <div class=\"colab-df-buttons\">\n",
              "\n",
              "  <div class=\"colab-df-container\">\n",
              "    <button class=\"colab-df-convert\" onclick=\"convertToInteractive('df-910869f9-3a26-4683-94aa-8f650513cd89')\"\n",
              "            title=\"Convert this dataframe to an interactive table.\"\n",
              "            style=\"display:none;\">\n",
              "\n",
              "  <svg xmlns=\"http://www.w3.org/2000/svg\" height=\"24px\" viewBox=\"0 -960 960 960\">\n",
              "    <path d=\"M120-120v-720h720v720H120Zm60-500h600v-160H180v160Zm220 220h160v-160H400v160Zm0 220h160v-160H400v160ZM180-400h160v-160H180v160Zm440 0h160v-160H620v160ZM180-180h160v-160H180v160Zm440 0h160v-160H620v160Z\"/>\n",
              "  </svg>\n",
              "    </button>\n",
              "\n",
              "  <style>\n",
              "    .colab-df-container {\n",
              "      display:flex;\n",
              "      gap: 12px;\n",
              "    }\n",
              "\n",
              "    .colab-df-convert {\n",
              "      background-color: #E8F0FE;\n",
              "      border: none;\n",
              "      border-radius: 50%;\n",
              "      cursor: pointer;\n",
              "      display: none;\n",
              "      fill: #1967D2;\n",
              "      height: 32px;\n",
              "      padding: 0 0 0 0;\n",
              "      width: 32px;\n",
              "    }\n",
              "\n",
              "    .colab-df-convert:hover {\n",
              "      background-color: #E2EBFA;\n",
              "      box-shadow: 0px 1px 2px rgba(60, 64, 67, 0.3), 0px 1px 3px 1px rgba(60, 64, 67, 0.15);\n",
              "      fill: #174EA6;\n",
              "    }\n",
              "\n",
              "    .colab-df-buttons div {\n",
              "      margin-bottom: 4px;\n",
              "    }\n",
              "\n",
              "    [theme=dark] .colab-df-convert {\n",
              "      background-color: #3B4455;\n",
              "      fill: #D2E3FC;\n",
              "    }\n",
              "\n",
              "    [theme=dark] .colab-df-convert:hover {\n",
              "      background-color: #434B5C;\n",
              "      box-shadow: 0px 1px 3px 1px rgba(0, 0, 0, 0.15);\n",
              "      filter: drop-shadow(0px 1px 2px rgba(0, 0, 0, 0.3));\n",
              "      fill: #FFFFFF;\n",
              "    }\n",
              "  </style>\n",
              "\n",
              "    <script>\n",
              "      const buttonEl =\n",
              "        document.querySelector('#df-910869f9-3a26-4683-94aa-8f650513cd89 button.colab-df-convert');\n",
              "      buttonEl.style.display =\n",
              "        google.colab.kernel.accessAllowed ? 'block' : 'none';\n",
              "\n",
              "      async function convertToInteractive(key) {\n",
              "        const element = document.querySelector('#df-910869f9-3a26-4683-94aa-8f650513cd89');\n",
              "        const dataTable =\n",
              "          await google.colab.kernel.invokeFunction('convertToInteractive',\n",
              "                                                    [key], {});\n",
              "        if (!dataTable) return;\n",
              "\n",
              "        const docLinkHtml = 'Like what you see? Visit the ' +\n",
              "          '<a target=\"_blank\" href=https://colab.research.google.com/notebooks/data_table.ipynb>data table notebook</a>'\n",
              "          + ' to learn more about interactive tables.';\n",
              "        element.innerHTML = '';\n",
              "        dataTable['output_type'] = 'display_data';\n",
              "        await google.colab.output.renderOutput(dataTable, element);\n",
              "        const docLink = document.createElement('div');\n",
              "        docLink.innerHTML = docLinkHtml;\n",
              "        element.appendChild(docLink);\n",
              "      }\n",
              "    </script>\n",
              "  </div>\n",
              "\n",
              "\n",
              "<div id=\"df-308d17c9-b19a-404e-a828-bccea75ce9f6\">\n",
              "  <button class=\"colab-df-quickchart\" onclick=\"quickchart('df-308d17c9-b19a-404e-a828-bccea75ce9f6')\"\n",
              "            title=\"Suggest charts\"\n",
              "            style=\"display:none;\">\n",
              "\n",
              "<svg xmlns=\"http://www.w3.org/2000/svg\" height=\"24px\"viewBox=\"0 0 24 24\"\n",
              "     width=\"24px\">\n",
              "    <g>\n",
              "        <path d=\"M19 3H5c-1.1 0-2 .9-2 2v14c0 1.1.9 2 2 2h14c1.1 0 2-.9 2-2V5c0-1.1-.9-2-2-2zM9 17H7v-7h2v7zm4 0h-2V7h2v10zm4 0h-2v-4h2v4z\"/>\n",
              "    </g>\n",
              "</svg>\n",
              "  </button>\n",
              "\n",
              "<style>\n",
              "  .colab-df-quickchart {\n",
              "      --bg-color: #E8F0FE;\n",
              "      --fill-color: #1967D2;\n",
              "      --hover-bg-color: #E2EBFA;\n",
              "      --hover-fill-color: #174EA6;\n",
              "      --disabled-fill-color: #AAA;\n",
              "      --disabled-bg-color: #DDD;\n",
              "  }\n",
              "\n",
              "  [theme=dark] .colab-df-quickchart {\n",
              "      --bg-color: #3B4455;\n",
              "      --fill-color: #D2E3FC;\n",
              "      --hover-bg-color: #434B5C;\n",
              "      --hover-fill-color: #FFFFFF;\n",
              "      --disabled-bg-color: #3B4455;\n",
              "      --disabled-fill-color: #666;\n",
              "  }\n",
              "\n",
              "  .colab-df-quickchart {\n",
              "    background-color: var(--bg-color);\n",
              "    border: none;\n",
              "    border-radius: 50%;\n",
              "    cursor: pointer;\n",
              "    display: none;\n",
              "    fill: var(--fill-color);\n",
              "    height: 32px;\n",
              "    padding: 0;\n",
              "    width: 32px;\n",
              "  }\n",
              "\n",
              "  .colab-df-quickchart:hover {\n",
              "    background-color: var(--hover-bg-color);\n",
              "    box-shadow: 0 1px 2px rgba(60, 64, 67, 0.3), 0 1px 3px 1px rgba(60, 64, 67, 0.15);\n",
              "    fill: var(--button-hover-fill-color);\n",
              "  }\n",
              "\n",
              "  .colab-df-quickchart-complete:disabled,\n",
              "  .colab-df-quickchart-complete:disabled:hover {\n",
              "    background-color: var(--disabled-bg-color);\n",
              "    fill: var(--disabled-fill-color);\n",
              "    box-shadow: none;\n",
              "  }\n",
              "\n",
              "  .colab-df-spinner {\n",
              "    border: 2px solid var(--fill-color);\n",
              "    border-color: transparent;\n",
              "    border-bottom-color: var(--fill-color);\n",
              "    animation:\n",
              "      spin 1s steps(1) infinite;\n",
              "  }\n",
              "\n",
              "  @keyframes spin {\n",
              "    0% {\n",
              "      border-color: transparent;\n",
              "      border-bottom-color: var(--fill-color);\n",
              "      border-left-color: var(--fill-color);\n",
              "    }\n",
              "    20% {\n",
              "      border-color: transparent;\n",
              "      border-left-color: var(--fill-color);\n",
              "      border-top-color: var(--fill-color);\n",
              "    }\n",
              "    30% {\n",
              "      border-color: transparent;\n",
              "      border-left-color: var(--fill-color);\n",
              "      border-top-color: var(--fill-color);\n",
              "      border-right-color: var(--fill-color);\n",
              "    }\n",
              "    40% {\n",
              "      border-color: transparent;\n",
              "      border-right-color: var(--fill-color);\n",
              "      border-top-color: var(--fill-color);\n",
              "    }\n",
              "    60% {\n",
              "      border-color: transparent;\n",
              "      border-right-color: var(--fill-color);\n",
              "    }\n",
              "    80% {\n",
              "      border-color: transparent;\n",
              "      border-right-color: var(--fill-color);\n",
              "      border-bottom-color: var(--fill-color);\n",
              "    }\n",
              "    90% {\n",
              "      border-color: transparent;\n",
              "      border-bottom-color: var(--fill-color);\n",
              "    }\n",
              "  }\n",
              "</style>\n",
              "\n",
              "  <script>\n",
              "    async function quickchart(key) {\n",
              "      const quickchartButtonEl =\n",
              "        document.querySelector('#' + key + ' button');\n",
              "      quickchartButtonEl.disabled = true;  // To prevent multiple clicks.\n",
              "      quickchartButtonEl.classList.add('colab-df-spinner');\n",
              "      try {\n",
              "        const charts = await google.colab.kernel.invokeFunction(\n",
              "            'suggestCharts', [key], {});\n",
              "      } catch (error) {\n",
              "        console.error('Error during call to suggestCharts:', error);\n",
              "      }\n",
              "      quickchartButtonEl.classList.remove('colab-df-spinner');\n",
              "      quickchartButtonEl.classList.add('colab-df-quickchart-complete');\n",
              "    }\n",
              "    (() => {\n",
              "      let quickchartButtonEl =\n",
              "        document.querySelector('#df-308d17c9-b19a-404e-a828-bccea75ce9f6 button');\n",
              "      quickchartButtonEl.style.display =\n",
              "        google.colab.kernel.accessAllowed ? 'block' : 'none';\n",
              "    })();\n",
              "  </script>\n",
              "</div>\n",
              "\n",
              "    </div>\n",
              "  </div>\n"
            ],
            "text/plain": [
              "   ReleaseYear                                   Title    Origin  \\\n",
              "0         1975                 The Candy Tangerine Man  American   \n",
              "1         1975                                  Capone  American   \n",
              "2         1975  Cleopatra Jones and the Casino of Gold  American   \n",
              "3         1975                      Conduct Unbecoming  American   \n",
              "4         1975                             Cooley High  American   \n",
              "\n",
              "           Director                                               Cast  \\\n",
              "0       Matt Cimber               John Daniels Eli Haines Tom Hankason   \n",
              "1      Steve Carver  Ben Gazzara Susan Blakely John Cassavetes Sylv...   \n",
              "2      Charles Bail                       Tamara Dobson Stella Stevens   \n",
              "3  Michael Anderson  Stacy Keach Richard Attenborough Christopher P...   \n",
              "4   Michael Schultz  Lawrence Hilton-Jacobs Glynn Turman Garrett Mo...   \n",
              "\n",
              "         Genre                                               Plot  \\\n",
              "0       action  A successful Los Angeles-based businessperson ...   \n",
              "1  crime drama  The story is of the rise and fall of the Chica...   \n",
              "2       action  The story begins with two government agents Ma...   \n",
              "3        drama  Around 1880 two young British officers arrive ...   \n",
              "4       comedy  Set in 1964 Chicago Preach an aspiring playwri...   \n",
              "\n",
              "                                          embeddings  \n",
              "0  [-0.06835174, -0.013138616, -0.12417501, 0.002...  \n",
              "1  [-0.01411798, 0.040705115, -0.0014280609, 0.00...  \n",
              "2  [-0.0925895, 0.01188509, -0.08999529, -0.01541...  \n",
              "3  [-0.07435084, -0.06386179, 0.017042944, 0.0288...  \n",
              "4  [-0.041632336, 0.037923656, -0.072276264, -0.0...  "
            ]
          },
          "execution_count": 7,
          "metadata": {},
          "output_type": "execute_result"
        }
      ],
      "source": [
        "#Let us inspect the dataframe\n",
        "df.head()"
      ]
    },
    {
      "cell_type": "markdown",
      "metadata": {
        "id": "D3RntWE6Xyhe"
      },
      "source": [
        "## 3. Set up KDB.AI Vector Database\n",
        "Now that we understand our dataset, we can set up our vector db\n",
        "\n"
      ]
    },
    {
      "cell_type": "code",
      "execution_count": 8,
      "metadata": {
        "id": "h0YJMpNeXyhe"
      },
      "outputs": [],
      "source": [
        "# vector DB\n",
        "import os\n",
        "from getpass import getpass\n",
        "import kdbai_client as kdbai\n",
        "import time"
      ]
    },
    {
      "cell_type": "markdown",
      "metadata": {
        "id": "-EM1jAhQXyhf"
      },
      "source": [
        "##### Option 1. KDB.AI Cloud\n",
        "\n",
        "To use KDB.AI Cloud, you will need two session details - a URL endpoint and an API key.\n",
        "To get these you can sign up for free [here](https://trykdb.kx.com/kdbai/signup).\n",
        "\n",
        "You can connect to a KDB.AI Cloud session using `kdbai.Session` and passing the session URL endpoint and API key details from your KDB.AI Cloud portal.\n",
        "\n",
        "If the environment variables `KDBAI_ENDPOINTS` and `KDBAI_API_KEY` exist on your system containing your KDB.AI Cloud portal details, these variables will automatically be used to connect.\n",
        "If these do not exist, it will prompt you to enter your KDB.AI Cloud portal session URL endpoint and API key details."
      ]
    },
    {
      "cell_type": "code",
      "execution_count": null,
      "metadata": {
        "id": "vi9id_5KXyhf"
      },
      "outputs": [],
      "source": [
        "#Set up KDB.AI endpoint and API key\n",
        "KDBAI_ENDPOINT = (\n",
        "    os.environ[\"KDBAI_ENDPOINT\"]\n",
        "    if \"KDBAI_ENDPOINT\" in os.environ\n",
        "    else input(\"KDB.AI endpoint: \")\n",
        ")\n",
        "KDBAI_API_KEY = (\n",
        "    os.environ[\"KDBAI_API_KEY\"]\n",
        "    if \"KDBAI_API_KEY\" in os.environ\n",
        "    else getpass(\"KDB.AI API key: \")\n",
        ")"
      ]
    },
    {
      "cell_type": "code",
      "execution_count": 10,
      "metadata": {
        "id": "R1-2e8l-Xyhf"
      },
      "outputs": [],
      "source": [
        "session = kdbai.Session(api_key=KDBAI_API_KEY, endpoint=KDBAI_ENDPOINT)"
      ]
    },
    {
      "cell_type": "markdown",
      "metadata": {
        "id": "WeHjUwHCXyhf"
      },
      "source": [
        "##### Option 2. KDB.AI Server\n",
        "\n",
        "To use KDB.AI Server, you will need download and run your own container.\n",
        "To do this, you will first need to sign up for free [here](https://trykdb.kx.com/kdbaiserver/signup/).\n",
        "\n",
        "You will receive an email with the required license file and bearer token needed to download your instance.\n",
        "Follow instructions in the signup email to get your session up and running.\n",
        "\n",
        "Once the [setup steps](https://code.kx.com/kdbai/gettingStarted/kdb-ai-server-setup.html) are complete you can then connect to your KDB.AI Server session using `kdbai.Session` and passing your local endpoint."
      ]
    },
    {
      "cell_type": "code",
      "execution_count": null,
      "metadata": {
        "id": "nRRR7lvfXyhf"
      },
      "outputs": [],
      "source": [
        "#session = kdbai.Session()"
      ]
    },
    {
      "cell_type": "markdown",
      "metadata": {
        "id": "CkpOqe6FXyhf"
      },
      "source": [
        "### Set up the table schema\n",
        "Have a table column for each column in the dataframe, as well as an 'embeddings' column for the movie description embeddings"
      ]
    },
    {
      "cell_type": "code",
      "execution_count": 11,
      "metadata": {
        "id": "DwGylgw9Xyhf"
      },
      "outputs": [],
      "source": [
        "#Set up the schema for KDB.AI table, specifying embeddings column with 384 dimensions, Euclidean Distance, and flat index\n",
        "table_schema = {\n",
        "    \"columns\": [\n",
        "        {\"name\": \"ReleaseYear\", \"pytype\": \"int64\"},\n",
        "        {\"name\": \"Title\", \"pytype\": \"str\"},\n",
        "        {\"name\": \"Origin\", \"pytype\": \"str\"},\n",
        "        {\"name\": \"Director\", \"pytype\": \"str\"},\n",
        "        {\"name\": \"Cast\", \"pytype\": \"str\"},\n",
        "        {\"name\": \"Genre\", \"pytype\": \"str\"},\n",
        "        {\"name\": \"Plot\", \"pytype\": \"str\"},\n",
        "        {\n",
        "            \"name\": \"embeddings\",\n",
        "            \"pytype\": \"float64\",\n",
        "            \"vectorIndex\": {\"dims\": 384, \"metric\": \"L2\", \"type\": \"flat\"},\n",
        "        },\n",
        "    ]\n",
        "}"
      ]
    },
    {
      "cell_type": "markdown",
      "metadata": {
        "id": "RVcZ7PbNXyhf"
      },
      "source": [
        "### Create a table called \"metadata_demo\"\n",
        "First check if the table already exists, then create a new table with the table schema from above"
      ]
    },
    {
      "cell_type": "code",
      "execution_count": 12,
      "metadata": {
        "id": "dH23tks9Xyhf"
      },
      "outputs": [],
      "source": [
        "# First ensure the table does not already exist\n",
        "try:\n",
        "    session.table(\"metadata_demo\").drop()\n",
        "    time.sleep(5)\n",
        "except kdbai.KDBAIException:\n",
        "    pass"
      ]
    },
    {
      "cell_type": "code",
      "execution_count": 13,
      "metadata": {
        "id": "mQCdzNeZXyhf"
      },
      "outputs": [],
      "source": [
        "#Create the table called \"metadata_demo\"\n",
        "table = session.create_table(\"metadata_demo\", table_schema)"
      ]
    },
    {
      "cell_type": "markdown",
      "metadata": {
        "id": "ubHHWAxfXyhf"
      },
      "source": [
        "## 4. Insert Movie Data into the KDB.AI table"
      ]
    },
    {
      "cell_type": "code",
      "execution_count": 14,
      "metadata": {
        "colab": {
          "base_uri": "https://localhost:8080/"
        },
        "id": "LN6N0IRsXyhf",
        "outputId": "dd2cb866-7e9b-4fa5-8b70-17b47e0ab067"
      },
      "outputs": [
        {
          "name": "stderr",
          "output_type": "stream",
          "text": [
            "100%|██████████| 10/10 [00:11<00:00,  1.18s/it]\n"
          ]
        }
      ],
      "source": [
        "#Insert the data into the table, split into 2000 row batches\n",
        "from tqdm import tqdm\n",
        "n = 2000  # chunk row size\n",
        "\n",
        "for i in tqdm(range(0, df.shape[0], n)):\n",
        "    table.insert(df[i:i+n].reset_index(drop=True))"
      ]
    },
    {
      "cell_type": "code",
      "execution_count": 15,
      "metadata": {
        "id": "JL4_xRa0Xyhg"
      },
      "outputs": [],
      "source": [
        "#function to view the dataframe within the table\n",
        "def show_df(df: pd.DataFrame) -> pd.DataFrame:\n",
        "    print(df.shape)\n",
        "    return df.head()"
      ]
    },
    {
      "cell_type": "code",
      "execution_count": 16,
      "metadata": {
        "colab": {
          "base_uri": "https://localhost:8080/",
          "height": 223
        },
        "id": "-FpZO-9cXyhg",
        "outputId": "926fec9e-5d5a-452f-e7c7-5e6add439e4c"
      },
      "outputs": [
        {
          "name": "stdout",
          "output_type": "stream",
          "text": [
            "(19161, 8)\n"
          ]
        },
        {
          "data": {
            "application/vnd.google.colaboratory.intrinsic+json": {
              "summary": "{\n  \"name\": \"show_df(table\",\n  \"rows\": 5,\n  \"fields\": [\n    {\n      \"column\": \"ReleaseYear\",\n      \"properties\": {\n        \"dtype\": \"number\",\n        \"std\": 0,\n        \"min\": 1975,\n        \"max\": 1975,\n        \"num_unique_values\": 1,\n        \"samples\": [\n          1975\n        ],\n        \"semantic_type\": \"\",\n        \"description\": \"\"\n      }\n    },\n    {\n      \"column\": \"Title\",\n      \"properties\": {\n        \"dtype\": \"string\",\n        \"num_unique_values\": 5,\n        \"samples\": [\n          \"Capone\"\n        ],\n        \"semantic_type\": \"\",\n        \"description\": \"\"\n      }\n    },\n    {\n      \"column\": \"Origin\",\n      \"properties\": {\n        \"dtype\": \"category\",\n        \"num_unique_values\": 1,\n        \"samples\": [\n          \"American\"\n        ],\n        \"semantic_type\": \"\",\n        \"description\": \"\"\n      }\n    },\n    {\n      \"column\": \"Director\",\n      \"properties\": {\n        \"dtype\": \"string\",\n        \"num_unique_values\": 5,\n        \"samples\": [\n          \"Steve Carver\"\n        ],\n        \"semantic_type\": \"\",\n        \"description\": \"\"\n      }\n    },\n    {\n      \"column\": \"Cast\",\n      \"properties\": {\n        \"dtype\": \"string\",\n        \"num_unique_values\": 5,\n        \"samples\": [\n          \"Ben Gazzara Susan Blakely John Cassavetes Sylvester Stallone\"\n        ],\n        \"semantic_type\": \"\",\n        \"description\": \"\"\n      }\n    },\n    {\n      \"column\": \"Genre\",\n      \"properties\": {\n        \"dtype\": \"string\",\n        \"num_unique_values\": 4,\n        \"samples\": [\n          \"crime drama\"\n        ],\n        \"semantic_type\": \"\",\n        \"description\": \"\"\n      }\n    },\n    {\n      \"column\": \"Plot\",\n      \"properties\": {\n        \"dtype\": \"string\",\n        \"num_unique_values\": 5,\n        \"samples\": [\n          \"The story is of the rise and fall of the Chicago gangster Al Capone and the control he exhibited over the city during the prohibition years.\\r\\nStarting in 1918 Capone hangs out with other gangs until he is found by racketeers Johnny Torrio (Harry Guardino) and Frankie Yale (John Cassavetes). Then he pushes his way into the Chicago underworld battling mobsters Hymie Weiss and George Bugs Moran while romancing flapper Iris Crawford (Susan Blakely) and becoming kingpin of Chicago crime with the help his ambitious bodyguard Frank The Enforcer Nitti (played by Sylvester Stallone).\\r\\nLater in the wake of the St. Valentines Day Massacre Capone is sent to prison not for murder or other violent crime but for tax evasion. He contracts syphilis in prison and dies in 1947.\"\n        ],\n        \"semantic_type\": \"\",\n        \"description\": \"\"\n      }\n    },\n    {\n      \"column\": \"embeddings\",\n      \"properties\": {\n        \"dtype\": \"object\",\n        \"semantic_type\": \"\",\n        \"description\": \"\"\n      }\n    }\n  ]\n}",
              "type": "dataframe"
            },
            "text/html": [
              "\n",
              "  <div id=\"df-a51ccf6d-e3f7-44b7-a547-7dc4ba5f20f6\" class=\"colab-df-container\">\n",
              "    <div>\n",
              "<style scoped>\n",
              "    .dataframe tbody tr th:only-of-type {\n",
              "        vertical-align: middle;\n",
              "    }\n",
              "\n",
              "    .dataframe tbody tr th {\n",
              "        vertical-align: top;\n",
              "    }\n",
              "\n",
              "    .dataframe thead th {\n",
              "        text-align: right;\n",
              "    }\n",
              "</style>\n",
              "<table border=\"1\" class=\"dataframe\">\n",
              "  <thead>\n",
              "    <tr style=\"text-align: right;\">\n",
              "      <th></th>\n",
              "      <th>ReleaseYear</th>\n",
              "      <th>Title</th>\n",
              "      <th>Origin</th>\n",
              "      <th>Director</th>\n",
              "      <th>Cast</th>\n",
              "      <th>Genre</th>\n",
              "      <th>Plot</th>\n",
              "      <th>embeddings</th>\n",
              "    </tr>\n",
              "  </thead>\n",
              "  <tbody>\n",
              "    <tr>\n",
              "      <th>0</th>\n",
              "      <td>1975</td>\n",
              "      <td>The Candy Tangerine Man</td>\n",
              "      <td>American</td>\n",
              "      <td>Matt Cimber</td>\n",
              "      <td>John Daniels Eli Haines Tom Hankason</td>\n",
              "      <td>action</td>\n",
              "      <td>A successful Los Angeles-based businessperson ...</td>\n",
              "      <td>[-0.06835174, -0.013138616, -0.12417501, 0.002...</td>\n",
              "    </tr>\n",
              "    <tr>\n",
              "      <th>1</th>\n",
              "      <td>1975</td>\n",
              "      <td>Capone</td>\n",
              "      <td>American</td>\n",
              "      <td>Steve Carver</td>\n",
              "      <td>Ben Gazzara Susan Blakely John Cassavetes Sylv...</td>\n",
              "      <td>crime drama</td>\n",
              "      <td>The story is of the rise and fall of the Chica...</td>\n",
              "      <td>[-0.01411798, 0.040705115, -0.0014280609, 0.00...</td>\n",
              "    </tr>\n",
              "    <tr>\n",
              "      <th>2</th>\n",
              "      <td>1975</td>\n",
              "      <td>Cleopatra Jones and the Casino of Gold</td>\n",
              "      <td>American</td>\n",
              "      <td>Charles Bail</td>\n",
              "      <td>Tamara Dobson Stella Stevens</td>\n",
              "      <td>action</td>\n",
              "      <td>The story begins with two government agents Ma...</td>\n",
              "      <td>[-0.0925895, 0.01188509, -0.08999529, -0.01541...</td>\n",
              "    </tr>\n",
              "    <tr>\n",
              "      <th>3</th>\n",
              "      <td>1975</td>\n",
              "      <td>Conduct Unbecoming</td>\n",
              "      <td>American</td>\n",
              "      <td>Michael Anderson</td>\n",
              "      <td>Stacy Keach Richard Attenborough Christopher P...</td>\n",
              "      <td>drama</td>\n",
              "      <td>Around 1880 two young British officers arrive ...</td>\n",
              "      <td>[-0.07435084, -0.06386179, 0.017042944, 0.0288...</td>\n",
              "    </tr>\n",
              "    <tr>\n",
              "      <th>4</th>\n",
              "      <td>1975</td>\n",
              "      <td>Cooley High</td>\n",
              "      <td>American</td>\n",
              "      <td>Michael Schultz</td>\n",
              "      <td>Lawrence Hilton-Jacobs Glynn Turman Garrett Mo...</td>\n",
              "      <td>comedy</td>\n",
              "      <td>Set in 1964 Chicago Preach an aspiring playwri...</td>\n",
              "      <td>[-0.041632336, 0.037923656, -0.072276264, -0.0...</td>\n",
              "    </tr>\n",
              "  </tbody>\n",
              "</table>\n",
              "</div>\n",
              "    <div class=\"colab-df-buttons\">\n",
              "\n",
              "  <div class=\"colab-df-container\">\n",
              "    <button class=\"colab-df-convert\" onclick=\"convertToInteractive('df-a51ccf6d-e3f7-44b7-a547-7dc4ba5f20f6')\"\n",
              "            title=\"Convert this dataframe to an interactive table.\"\n",
              "            style=\"display:none;\">\n",
              "\n",
              "  <svg xmlns=\"http://www.w3.org/2000/svg\" height=\"24px\" viewBox=\"0 -960 960 960\">\n",
              "    <path d=\"M120-120v-720h720v720H120Zm60-500h600v-160H180v160Zm220 220h160v-160H400v160Zm0 220h160v-160H400v160ZM180-400h160v-160H180v160Zm440 0h160v-160H620v160ZM180-180h160v-160H180v160Zm440 0h160v-160H620v160Z\"/>\n",
              "  </svg>\n",
              "    </button>\n",
              "\n",
              "  <style>\n",
              "    .colab-df-container {\n",
              "      display:flex;\n",
              "      gap: 12px;\n",
              "    }\n",
              "\n",
              "    .colab-df-convert {\n",
              "      background-color: #E8F0FE;\n",
              "      border: none;\n",
              "      border-radius: 50%;\n",
              "      cursor: pointer;\n",
              "      display: none;\n",
              "      fill: #1967D2;\n",
              "      height: 32px;\n",
              "      padding: 0 0 0 0;\n",
              "      width: 32px;\n",
              "    }\n",
              "\n",
              "    .colab-df-convert:hover {\n",
              "      background-color: #E2EBFA;\n",
              "      box-shadow: 0px 1px 2px rgba(60, 64, 67, 0.3), 0px 1px 3px 1px rgba(60, 64, 67, 0.15);\n",
              "      fill: #174EA6;\n",
              "    }\n",
              "\n",
              "    .colab-df-buttons div {\n",
              "      margin-bottom: 4px;\n",
              "    }\n",
              "\n",
              "    [theme=dark] .colab-df-convert {\n",
              "      background-color: #3B4455;\n",
              "      fill: #D2E3FC;\n",
              "    }\n",
              "\n",
              "    [theme=dark] .colab-df-convert:hover {\n",
              "      background-color: #434B5C;\n",
              "      box-shadow: 0px 1px 3px 1px rgba(0, 0, 0, 0.15);\n",
              "      filter: drop-shadow(0px 1px 2px rgba(0, 0, 0, 0.3));\n",
              "      fill: #FFFFFF;\n",
              "    }\n",
              "  </style>\n",
              "\n",
              "    <script>\n",
              "      const buttonEl =\n",
              "        document.querySelector('#df-a51ccf6d-e3f7-44b7-a547-7dc4ba5f20f6 button.colab-df-convert');\n",
              "      buttonEl.style.display =\n",
              "        google.colab.kernel.accessAllowed ? 'block' : 'none';\n",
              "\n",
              "      async function convertToInteractive(key) {\n",
              "        const element = document.querySelector('#df-a51ccf6d-e3f7-44b7-a547-7dc4ba5f20f6');\n",
              "        const dataTable =\n",
              "          await google.colab.kernel.invokeFunction('convertToInteractive',\n",
              "                                                    [key], {});\n",
              "        if (!dataTable) return;\n",
              "\n",
              "        const docLinkHtml = 'Like what you see? Visit the ' +\n",
              "          '<a target=\"_blank\" href=https://colab.research.google.com/notebooks/data_table.ipynb>data table notebook</a>'\n",
              "          + ' to learn more about interactive tables.';\n",
              "        element.innerHTML = '';\n",
              "        dataTable['output_type'] = 'display_data';\n",
              "        await google.colab.output.renderOutput(dataTable, element);\n",
              "        const docLink = document.createElement('div');\n",
              "        docLink.innerHTML = docLinkHtml;\n",
              "        element.appendChild(docLink);\n",
              "      }\n",
              "    </script>\n",
              "  </div>\n",
              "\n",
              "\n",
              "<div id=\"df-73836357-976b-46c9-86c3-0b4a527085ba\">\n",
              "  <button class=\"colab-df-quickchart\" onclick=\"quickchart('df-73836357-976b-46c9-86c3-0b4a527085ba')\"\n",
              "            title=\"Suggest charts\"\n",
              "            style=\"display:none;\">\n",
              "\n",
              "<svg xmlns=\"http://www.w3.org/2000/svg\" height=\"24px\"viewBox=\"0 0 24 24\"\n",
              "     width=\"24px\">\n",
              "    <g>\n",
              "        <path d=\"M19 3H5c-1.1 0-2 .9-2 2v14c0 1.1.9 2 2 2h14c1.1 0 2-.9 2-2V5c0-1.1-.9-2-2-2zM9 17H7v-7h2v7zm4 0h-2V7h2v10zm4 0h-2v-4h2v4z\"/>\n",
              "    </g>\n",
              "</svg>\n",
              "  </button>\n",
              "\n",
              "<style>\n",
              "  .colab-df-quickchart {\n",
              "      --bg-color: #E8F0FE;\n",
              "      --fill-color: #1967D2;\n",
              "      --hover-bg-color: #E2EBFA;\n",
              "      --hover-fill-color: #174EA6;\n",
              "      --disabled-fill-color: #AAA;\n",
              "      --disabled-bg-color: #DDD;\n",
              "  }\n",
              "\n",
              "  [theme=dark] .colab-df-quickchart {\n",
              "      --bg-color: #3B4455;\n",
              "      --fill-color: #D2E3FC;\n",
              "      --hover-bg-color: #434B5C;\n",
              "      --hover-fill-color: #FFFFFF;\n",
              "      --disabled-bg-color: #3B4455;\n",
              "      --disabled-fill-color: #666;\n",
              "  }\n",
              "\n",
              "  .colab-df-quickchart {\n",
              "    background-color: var(--bg-color);\n",
              "    border: none;\n",
              "    border-radius: 50%;\n",
              "    cursor: pointer;\n",
              "    display: none;\n",
              "    fill: var(--fill-color);\n",
              "    height: 32px;\n",
              "    padding: 0;\n",
              "    width: 32px;\n",
              "  }\n",
              "\n",
              "  .colab-df-quickchart:hover {\n",
              "    background-color: var(--hover-bg-color);\n",
              "    box-shadow: 0 1px 2px rgba(60, 64, 67, 0.3), 0 1px 3px 1px rgba(60, 64, 67, 0.15);\n",
              "    fill: var(--button-hover-fill-color);\n",
              "  }\n",
              "\n",
              "  .colab-df-quickchart-complete:disabled,\n",
              "  .colab-df-quickchart-complete:disabled:hover {\n",
              "    background-color: var(--disabled-bg-color);\n",
              "    fill: var(--disabled-fill-color);\n",
              "    box-shadow: none;\n",
              "  }\n",
              "\n",
              "  .colab-df-spinner {\n",
              "    border: 2px solid var(--fill-color);\n",
              "    border-color: transparent;\n",
              "    border-bottom-color: var(--fill-color);\n",
              "    animation:\n",
              "      spin 1s steps(1) infinite;\n",
              "  }\n",
              "\n",
              "  @keyframes spin {\n",
              "    0% {\n",
              "      border-color: transparent;\n",
              "      border-bottom-color: var(--fill-color);\n",
              "      border-left-color: var(--fill-color);\n",
              "    }\n",
              "    20% {\n",
              "      border-color: transparent;\n",
              "      border-left-color: var(--fill-color);\n",
              "      border-top-color: var(--fill-color);\n",
              "    }\n",
              "    30% {\n",
              "      border-color: transparent;\n",
              "      border-left-color: var(--fill-color);\n",
              "      border-top-color: var(--fill-color);\n",
              "      border-right-color: var(--fill-color);\n",
              "    }\n",
              "    40% {\n",
              "      border-color: transparent;\n",
              "      border-right-color: var(--fill-color);\n",
              "      border-top-color: var(--fill-color);\n",
              "    }\n",
              "    60% {\n",
              "      border-color: transparent;\n",
              "      border-right-color: var(--fill-color);\n",
              "    }\n",
              "    80% {\n",
              "      border-color: transparent;\n",
              "      border-right-color: var(--fill-color);\n",
              "      border-bottom-color: var(--fill-color);\n",
              "    }\n",
              "    90% {\n",
              "      border-color: transparent;\n",
              "      border-bottom-color: var(--fill-color);\n",
              "    }\n",
              "  }\n",
              "</style>\n",
              "\n",
              "  <script>\n",
              "    async function quickchart(key) {\n",
              "      const quickchartButtonEl =\n",
              "        document.querySelector('#' + key + ' button');\n",
              "      quickchartButtonEl.disabled = true;  // To prevent multiple clicks.\n",
              "      quickchartButtonEl.classList.add('colab-df-spinner');\n",
              "      try {\n",
              "        const charts = await google.colab.kernel.invokeFunction(\n",
              "            'suggestCharts', [key], {});\n",
              "      } catch (error) {\n",
              "        console.error('Error during call to suggestCharts:', error);\n",
              "      }\n",
              "      quickchartButtonEl.classList.remove('colab-df-spinner');\n",
              "      quickchartButtonEl.classList.add('colab-df-quickchart-complete');\n",
              "    }\n",
              "    (() => {\n",
              "      let quickchartButtonEl =\n",
              "        document.querySelector('#df-73836357-976b-46c9-86c3-0b4a527085ba button');\n",
              "      quickchartButtonEl.style.display =\n",
              "        google.colab.kernel.accessAllowed ? 'block' : 'none';\n",
              "    })();\n",
              "  </script>\n",
              "</div>\n",
              "\n",
              "    </div>\n",
              "  </div>\n"
            ],
            "text/plain": [
              "   ReleaseYear                                   Title    Origin  \\\n",
              "0         1975                 The Candy Tangerine Man  American   \n",
              "1         1975                                  Capone  American   \n",
              "2         1975  Cleopatra Jones and the Casino of Gold  American   \n",
              "3         1975                      Conduct Unbecoming  American   \n",
              "4         1975                             Cooley High  American   \n",
              "\n",
              "           Director                                               Cast  \\\n",
              "0       Matt Cimber               John Daniels Eli Haines Tom Hankason   \n",
              "1      Steve Carver  Ben Gazzara Susan Blakely John Cassavetes Sylv...   \n",
              "2      Charles Bail                       Tamara Dobson Stella Stevens   \n",
              "3  Michael Anderson  Stacy Keach Richard Attenborough Christopher P...   \n",
              "4   Michael Schultz  Lawrence Hilton-Jacobs Glynn Turman Garrett Mo...   \n",
              "\n",
              "         Genre                                               Plot  \\\n",
              "0       action  A successful Los Angeles-based businessperson ...   \n",
              "1  crime drama  The story is of the rise and fall of the Chica...   \n",
              "2       action  The story begins with two government agents Ma...   \n",
              "3        drama  Around 1880 two young British officers arrive ...   \n",
              "4       comedy  Set in 1964 Chicago Preach an aspiring playwri...   \n",
              "\n",
              "                                          embeddings  \n",
              "0  [-0.06835174, -0.013138616, -0.12417501, 0.002...  \n",
              "1  [-0.01411798, 0.040705115, -0.0014280609, 0.00...  \n",
              "2  [-0.0925895, 0.01188509, -0.08999529, -0.01541...  \n",
              "3  [-0.07435084, -0.06386179, 0.017042944, 0.0288...  \n",
              "4  [-0.041632336, 0.037923656, -0.072276264, -0.0...  "
            ]
          },
          "execution_count": 16,
          "metadata": {},
          "output_type": "execute_result"
        }
      ],
      "source": [
        "#View contents of the table\n",
        "show_df(table.query())"
      ]
    },
    {
      "cell_type": "markdown",
      "metadata": {
        "id": "eWD7Q4ntXyhg"
      },
      "source": [
        "## 5. Run Filtered Similarity Searches on our KDB.AI Vector Database"
      ]
    },
    {
      "cell_type": "markdown",
      "metadata": {
        "id": "qUn-stWwXyhg"
      },
      "source": [
        "#### Set up embedding model to embed our natural language queries"
      ]
    },
    {
      "cell_type": "code",
      "execution_count": null,
      "metadata": {
        "id": "U78VR-7UXyhg"
      },
      "outputs": [],
      "source": [
        "# embedding model to be used to embed user input query\n",
        "from sentence_transformers import SentenceTransformer\n",
        "embedding_model = SentenceTransformer(\"all-MiniLM-L6-v2\")"
      ]
    },
    {
      "cell_type": "markdown",
      "metadata": {
        "id": "VDRi-wDwXyhg"
      },
      "source": [
        "#### Create a query vector by using the embedding model to embed a natural language query"
      ]
    },
    {
      "cell_type": "code",
      "execution_count": 18,
      "metadata": {
        "id": "e3NbLcaOXyhg"
      },
      "outputs": [],
      "source": [
        "#Embed a query\n",
        "query_vector = [embedding_model.encode('star wars Luke Skywalker').tolist()]"
      ]
    },
    {
      "cell_type": "markdown",
      "metadata": {
        "id": "k3nWaUvyXyhg"
      },
      "source": [
        "#### Run vector similarity search, return the top-3 similar movies"
      ]
    },
    {
      "cell_type": "code",
      "execution_count": 19,
      "metadata": {
        "colab": {
          "base_uri": "https://localhost:8080/"
        },
        "id": "HEYbnoBUXyhg",
        "outputId": "2e91caa3-385b-42e3-d962-8fac2ccc7b0f"
      },
      "outputs": [
        {
          "name": "stdout",
          "output_type": "stream",
          "text": [
            "[   __nn_distance  ReleaseYear  \\\n",
            "0       0.748475         1983   \n",
            "1       0.910225         1977   \n",
            "2       0.942763         1980   \n",
            "\n",
            "                                              Title    Origin  \\\n",
            "0                                Return of the Jedi  American   \n",
            "1  Star Wars Episode IV: A New Hope (aka Star Wars)  American   \n",
            "2                           The Empire Strikes Back  American   \n",
            "\n",
            "           Director                                               Cast  \\\n",
            "0  Richard Marquand  Mark Hamill Harrison Ford Carrie Fisher Billy ...   \n",
            "1      George Lucas  Mark Hamill Harrison Ford Carrie Fisher Alec G...   \n",
            "2    Irvin Kershner  Carrie Fisher Harrison Ford Mark Hamill Billy ...   \n",
            "\n",
            "             Genre                                               Plot  \\\n",
            "0  science fiction  Luke Skywalker initiates a plan to rescue Han ...   \n",
            "1  science fiction  The galaxy is in the midst of a civil war. Spi...   \n",
            "2  science fiction  Three years after the destruction of the Death...   \n",
            "\n",
            "                                          embeddings  \n",
            "0  [-0.047360003, -0.08337291, 0.009671548, -0.03...  \n",
            "1  [-0.100305825, 0.008335104, 0.03792797, -0.038...  \n",
            "2  [-0.050230544, -0.02365108, 0.016264591, -0.00...  ]\n"
          ]
        }
      ],
      "source": [
        "#Search vector db to find most relevant movies\n",
        "print(table.search(query_vector, n=3))"
      ]
    },
    {
      "cell_type": "markdown",
      "metadata": {
        "id": "0hdIcL2GXyhg"
      },
      "source": [
        "#### Repeat the search with metadata filters to narrow the search space"
      ]
    },
    {
      "cell_type": "code",
      "execution_count": 20,
      "metadata": {
        "colab": {
          "base_uri": "https://localhost:8080/"
        },
        "id": "1vaqdT0CXyhh",
        "outputId": "893b008a-699d-4ef7-f36a-fd34a830c096"
      },
      "outputs": [
        {
          "name": "stdout",
          "output_type": "stream",
          "text": [
            "[   __nn_distance  ReleaseYear  \\\n",
            "0       0.910225         1977   \n",
            "\n",
            "                                              Title    Origin      Director  \\\n",
            "0  Star Wars Episode IV: A New Hope (aka Star Wars)  American  George Lucas   \n",
            "\n",
            "                                                Cast            Genre  \\\n",
            "0  Mark Hamill Harrison Ford Carrie Fisher Alec G...  science fiction   \n",
            "\n",
            "                                                Plot  \\\n",
            "0  The galaxy is in the midst of a civil war. Spi...   \n",
            "\n",
            "                                          embeddings  \n",
            "0  [-0.100305825, 0.008335104, 0.03792797, -0.038...  ]\n"
          ]
        }
      ],
      "source": [
        "print(table.search(query_vector, n=3, filter=[(\"like\", \"Director\", \"George Lucas\"),(\"=\", \"ReleaseYear\", 1977)]))"
      ]
    },
    {
      "cell_type": "markdown",
      "metadata": {
        "id": "AsnPmebLZbT6"
      },
      "source": [
        "### Fuzzy Filtering\n",
        "What if there are some spelling mistakes?"
      ]
    },
    {
      "cell_type": "code",
      "execution_count": 21,
      "metadata": {
        "colab": {
          "base_uri": "https://localhost:8080/"
        },
        "id": "XtAynAljZa6t",
        "outputId": "9a5e5685-c432-41ab-8057-e86757555b7a"
      },
      "outputs": [
        {
          "name": "stdout",
          "output_type": "stream",
          "text": [
            "[   __nn_distance  ReleaseYear  \\\n",
            "0       0.910225         1977   \n",
            "1       1.166750         2005   \n",
            "2       1.210034         2002   \n",
            "\n",
            "                                              Title    Origin      Director  \\\n",
            "0  Star Wars Episode IV: A New Hope (aka Star Wars)  American  George Lucas   \n",
            "1      Star Wars: Episode III   Revenge of the Sith  American  George Lucas   \n",
            "2      Star Wars: Episode II   Attack of the Clones  American  George Lucas   \n",
            "\n",
            "                                                Cast                   Genre  \\\n",
            "0  Mark Hamill Harrison Ford Carrie Fisher Alec G...         science fiction   \n",
            "1  Ewan McGregor Hayden Christensen Natalie Portm...  science fiction action   \n",
            "2   Ewan McGregor Natalie Portman Hayden Christensen         science fiction   \n",
            "\n",
            "                                                Plot  \\\n",
            "0  The galaxy is in the midst of a civil war. Spi...   \n",
            "1  Three years after the Battle of Geonosis the g...   \n",
            "2  Ten years after the Trade Federations invasion...   \n",
            "\n",
            "                                          embeddings  \n",
            "0  [-0.100305825, 0.008335104, 0.03792797, -0.038...  \n",
            "1  [0.008934416, -0.053307254, 0.02181957, -0.028...  \n",
            "2  [-0.11154423, -0.043663837, -0.087314166, -0.0...  ]\n"
          ]
        }
      ],
      "source": [
        "# Fuzzy filter with a misspelled name. This defaults to 'Levenshtein' distance metric\n",
        "print(table.search(query_vector, n=3, filter=[['fuzzy','Director',[[\"Goerge Lucas\",2]]]]))"
      ]
    },
    {
      "cell_type": "code",
      "execution_count": 31,
      "metadata": {
        "colab": {
          "base_uri": "https://localhost:8080/"
        },
        "id": "Q7-bIyiQZpsj",
        "outputId": "4f90d256-689c-436a-b4a5-9883c6ebc956"
      },
      "outputs": [
        {
          "name": "stdout",
          "output_type": "stream",
          "text": [
            "[   __nn_distance  ReleaseYear  \\\n",
            "0       0.748475         1983   \n",
            "1       0.910225         1977   \n",
            "2       0.942763         1980   \n",
            "\n",
            "                                              Title    Origin  \\\n",
            "0                                Return of the Jedi  American   \n",
            "1  Star Wars Episode IV: A New Hope (aka Star Wars)  American   \n",
            "2                           The Empire Strikes Back  American   \n",
            "\n",
            "           Director                                               Cast  \\\n",
            "0  Richard Marquand  Mark Hamill Harrison Ford Carrie Fisher Billy ...   \n",
            "1      George Lucas  Mark Hamill Harrison Ford Carrie Fisher Alec G...   \n",
            "2    Irvin Kershner  Carrie Fisher Harrison Ford Mark Hamill Billy ...   \n",
            "\n",
            "             Genre                                               Plot  \\\n",
            "0  science fiction  Luke Skywalker initiates a plan to rescue Han ...   \n",
            "1  science fiction  The galaxy is in the midst of a civil war. Spi...   \n",
            "2  science fiction  Three years after the destruction of the Death...   \n",
            "\n",
            "                                          embeddings  \n",
            "0  [-0.047360003, -0.08337291, 0.009671548, -0.03...  \n",
            "1  [-0.100305825, 0.008335104, 0.03792797, -0.038...  \n",
            "2  [-0.050230544, -0.02365108, 0.016264591, -0.00...  ]\n"
          ]
        }
      ],
      "source": [
        "# Fuzzy filter with a misspelled genre, choosing the distance metric algorithm to use, in this case 'osa', Optimal String Alignment.\n",
        "print(table.search(query_vector, n=3, filter=[['fuzzy','Genre',[[\"sceince fictoin\",2,'osa']]]]))"
      ]
    },
    {
      "cell_type": "markdown",
      "metadata": {
        "id": "P_3kKzl1Xyhh"
      },
      "source": [
        "#### More Examples"
      ]
    },
    {
      "cell_type": "code",
      "execution_count": 32,
      "metadata": {
        "id": "q0g8NZONXyhh"
      },
      "outputs": [],
      "source": [
        "#Another query\n",
        "query_vector = [embedding_model.encode('conspiracy theories involving art').tolist()]"
      ]
    },
    {
      "cell_type": "code",
      "execution_count": 33,
      "metadata": {
        "colab": {
          "base_uri": "https://localhost:8080/"
        },
        "id": "k5PvOBvDXyhh",
        "outputId": "6eaf221f-1101-4131-a6e5-b43a0a803b44"
      },
      "outputs": [
        {
          "name": "stdout",
          "output_type": "stream",
          "text": [
            "[   __nn_distance  ReleaseYear               Title    Origin          Director  \\\n",
            "0       1.276896         2006   The Da Vinci Code  American        Ron Howard   \n",
            "1       1.395944         2017          The Circle  American    James Ponsoldt   \n",
            "2       1.607655         2017            The Post  American  Steven Spielberg   \n",
            "\n",
            "                                                Cast  \\\n",
            "0  Tom Hanks Audrey Tautou Ian McKellen Alfred Mo...   \n",
            "1  James Ponsoldt (director/screenplay); Tom Hank...   \n",
            "2  Steven Spielberg (director); Liz Hannah Josh S...   \n",
            "\n",
            "                              Genre  \\\n",
            "0                          thriller   \n",
            "1             sci-fi drama thriller   \n",
            "2  biography drama history thriller   \n",
            "\n",
            "                                                Plot  \\\n",
            "0  Jacques Sauni¨re the Louvres curator is pursue...   \n",
            "1  When her car breaks down Mae Holland contacts ...   \n",
            "2  In 1966 Vietnam State Department military anal...   \n",
            "\n",
            "                                          embeddings  \n",
            "0  [-0.11887315, -0.049770635, -0.022621859, -0.0...  \n",
            "1  [-0.0758997, -0.052303415, -0.03175389, -0.017...  \n",
            "2  [-0.062428504, -0.034977995, -0.035489008, 0.0...  ]\n"
          ]
        }
      ],
      "source": [
        "#Another filtered search example\n",
        "print(table.search(query_vector, n=3, filter=[(\"like\", \"Genre\", \"*thriller*\"),(\"like\",\"Cast\",\"*Tom Hanks*\")]))"
      ]
    },
    {
      "cell_type": "code",
      "execution_count": 34,
      "metadata": {
        "id": "HhbmuhVXXyhl"
      },
      "outputs": [],
      "source": [
        "#Another query\n",
        "query_vector = [embedding_model.encode('middle earth fantasy adventure in the Shire').tolist()]"
      ]
    },
    {
      "cell_type": "code",
      "execution_count": 35,
      "metadata": {
        "colab": {
          "base_uri": "https://localhost:8080/"
        },
        "id": "-I708ZtyXyhl",
        "outputId": "4a278528-1f71-4805-aa18-bed16c8a25e1"
      },
      "outputs": [
        {
          "name": "stdout",
          "output_type": "stream",
          "text": [
            "[   __nn_distance  ReleaseYear  \\\n",
            "0       1.014505         2001   \n",
            "1       1.099138         2002   \n",
            "2       1.153412         2003   \n",
            "\n",
            "                                               Title    Origin       Director  \\\n",
            "0  The Lord of the Rings: The Fellowship of the Ring  American  Peter Jackson   \n",
            "1              The Lord of the Rings: The Two Towers  American  Peter Jackson   \n",
            "2      The Lord of the Rings: The Return of the King  American  Peter Jackson   \n",
            "\n",
            "                                                Cast              Genre  \\\n",
            "0  Elijah Wood Ian McKellen Liv Tyler Sean Astin ...            fantasy   \n",
            "1  Elijah Wood Ian McKellen Liv Tyler Viggo Morte...  adventure fantasy   \n",
            "2  Elijah Wood Ian McKellen Liv Tyler Sean Astin ...  adventure fantasy   \n",
            "\n",
            "                                                Plot  \\\n",
            "0  In the Second Age of Middle-earth the lords of...   \n",
            "1  After awakening from a dream of Gandalf the Gr...   \n",
            "2  Many years ago two Hobbits Smeagol and Dagol a...   \n",
            "\n",
            "                                          embeddings  \n",
            "0  [-0.047063936, 0.036902286, -0.045477457, -0.0...  \n",
            "1  [-0.05915825, 0.033268802, -0.03859481, 0.0110...  \n",
            "2  [-0.07969464, -0.006237573, -0.056435574, -0.0...  ]\n"
          ]
        }
      ],
      "source": [
        "#Another filtered search example\n",
        "print(table.search(query_vector, n=3, filter=[(\"within\",\"ReleaseYear\",[2000,2010])]))"
      ]
    },
    {
      "cell_type": "markdown",
      "metadata": {
        "id": "WDyBpe5u_RjS"
      },
      "source": [
        "#### Another Fuzzy Filtering Example on the Genre metadata column"
      ]
    },
    {
      "cell_type": "code",
      "execution_count": 42,
      "metadata": {
        "colab": {
          "base_uri": "https://localhost:8080/"
        },
        "id": "HIkGoJF4cXZ0",
        "outputId": "1815d586-8cd2-4f0f-db82-fef3ed8574a7"
      },
      "outputs": [
        {
          "name": "stdout",
          "output_type": "stream",
          "text": [
            "[   __nn_distance  ReleaseYear  \\\n",
            "0       1.014505         2001   \n",
            "1       1.099138         2002   \n",
            "2       1.153412         2003   \n",
            "\n",
            "                                               Title    Origin       Director  \\\n",
            "0  The Lord of the Rings: The Fellowship of the Ring  American  Peter Jackson   \n",
            "1              The Lord of the Rings: The Two Towers  American  Peter Jackson   \n",
            "2      The Lord of the Rings: The Return of the King  American  Peter Jackson   \n",
            "\n",
            "                                                Cast              Genre  \\\n",
            "0  Elijah Wood Ian McKellen Liv Tyler Sean Astin ...            fantasy   \n",
            "1  Elijah Wood Ian McKellen Liv Tyler Viggo Morte...  adventure fantasy   \n",
            "2  Elijah Wood Ian McKellen Liv Tyler Sean Astin ...  adventure fantasy   \n",
            "\n",
            "                                                Plot  \\\n",
            "0  In the Second Age of Middle-earth the lords of...   \n",
            "1  After awakening from a dream of Gandalf the Gr...   \n",
            "2  Many years ago two Hobbits Smeagol and Dagol a...   \n",
            "\n",
            "                                          embeddings  \n",
            "0  [-0.047063936, 0.036902286, -0.045477457, -0.0...  \n",
            "1  [-0.05915825, 0.033268802, -0.03859481, 0.0110...  \n",
            "2  [-0.07969464, -0.006237573, -0.056435574, -0.0...  ]\n"
          ]
        }
      ],
      "source": [
        "#Another filtered search example, with fuzzy filtering the Director column reconciling for a typo in what should be 'Peter Jackson'\n",
        "print(table.search(query_vector, n=3, filter=[(\"within\",\"ReleaseYear\",[2000,2010]),['fuzzy','Director',[[\"Peter Jacksen\",1,\"damerau_levenshtein\"]]]]))"
      ]
    },
    {
      "cell_type": "markdown",
      "metadata": {
        "id": "unLQEoaPXyhl"
      },
      "source": [
        "## Delete the KDB.AI Table\n",
        "Once finished with the table, it is best practice to drop it."
      ]
    },
    {
      "cell_type": "code",
      "execution_count": 43,
      "metadata": {
        "colab": {
          "base_uri": "https://localhost:8080/"
        },
        "id": "WS99DOEFXyhl",
        "outputId": "c9071a16-8079-4a91-c4ff-2daa3020eab0"
      },
      "outputs": [
        {
          "data": {
            "text/plain": [
              "True"
            ]
          },
          "execution_count": 43,
          "metadata": {},
          "output_type": "execute_result"
        }
      ],
      "source": [
        "table.drop()"
      ]
    },
    {
      "cell_type": "markdown",
      "metadata": {
        "id": "Ii2Hd3chXyhl"
      },
      "source": [
        "#### Take Our Survey\n",
        "We hope you found this sample helpful! Your feedback is important to us, and we would appreciate it if you could take a moment to fill out our brief survey. Your input helps us improve our content.\n",
        "\n",
        "Take the [Survey](https://delighted.com/t/Jvlbdqvt)\n"
      ]
    }
  ],
  "metadata": {
    "colab": {
      "provenance": []
    },
    "kernelspec": {
      "display_name": "Python 3 (ipykernel)",
      "language": "python",
      "name": "python3"
    },
    "language_info": {
      "codemirror_mode": {
        "name": "ipython",
        "version": 3
      },
      "file_extension": ".py",
      "mimetype": "text/x-python",
      "name": "python",
      "nbconvert_exporter": "python",
      "pygments_lexer": "ipython3",
      "version": "3.11.5"
    }
  },
  "nbformat": 4,
  "nbformat_minor": 0
}
