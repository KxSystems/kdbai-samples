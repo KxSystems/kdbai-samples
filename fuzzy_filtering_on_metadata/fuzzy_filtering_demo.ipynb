{
 "cells": [
  {
   "cell_type": "markdown",
   "metadata": {
    "id": "WgVm-xwOXyhY"
   },
   "source": [
    "# Fuzzy Filtering on Metadata with KDB.AI Vector Database\n",
    "\n",
    "##### Note: This example requires a KDB.AI server. Sign up for a free [KDB.AI account](https://kdb.ai/get-started).\n",
    "\n",
    "#### In this example, we will show how to use metadata filtering along with fuzzy filtering in a KDB.AI vector database to increase the speed and accuracy of vector similarity searches.\n",
    "\n",
    "#### NOTE! KDB.AI Also has 'fuzzy filter' capabilities on metadata columns.\n",
    "Data often contains errors such as typos, misspellings, or international spelling variations, which can hinder the accuracy of search results. Fuzzy filters address this issue by enabling the retrieval of documents that contain terms and metadata entries similar to the specified query term and filters, even if there are slight variations.\n",
    "\n",
    "There are many distance metrics you can use for fuzzy filtering, it defaults to Levenshtein distance, but you have the ability to choose the distance metric from a variety of options including: Levenshtein, Damerau-Levenshtein, Hamming, Indel, Jaro, JaroWinkler, Longest Common Subsequence, Optimal String Alignment (OSA), Prefix, or Postfix.\n",
    "\n",
    "#### Agenda:\n",
    "1. Set Up\n",
    "2. Data Import and Understanding\n",
    "3. Set Up KDB.AI Vector Database\n",
    "4. Insert Movie Data into the KDB.AI table\n",
    "5. Run Filtered & Fuzzy Similarity Searches on our KDB.AI vector database\n",
    "\n",
    "Movie Dataset Source: https://www.kaggle.com/datasets/jrobischon/wikipedia-movie-plots"
   ]
  },
  {
   "cell_type": "markdown",
   "metadata": {
    "id": "D6Py6iDPXyhb"
   },
   "source": [
    "## 1. Set Up\n",
    "#### Installs, imports, and API Key setup\n",
    "\n",
    "In order to successfully run this sample, note the following steps depending on where you are running this notebook:\n",
    "\n",
    "-***Run Locally / Private Environment:*** The [Setup](https://github.com/KxSystems/kdbai-samples/blob/main/README.md#setup) steps in the repository's `README.md` will guide you on prerequisites and how to run this with Jupyter.\n",
    "\n",
    "\n",
    "-***Colab / Hosted Environment:*** Open this notebook in Colab and run through the cells."
   ]
  },
  {
   "cell_type": "code",
   "execution_count": null,
   "metadata": {
    "id": "Z9Fia3FQXyhb"
   },
   "outputs": [],
   "source": [
    "!pip install kdbai_client\n",
    "!pip install sentence_transformers"
   ]
  },
  {
   "cell_type": "code",
   "execution_count": 2,
   "metadata": {
    "id": "reDIVkL5Xyhc"
   },
   "outputs": [],
   "source": [
    "import pandas as pd\n",
    "import os\n",
    "from getpass import getpass"
   ]
  },
  {
   "cell_type": "code",
   "execution_count": 3,
   "metadata": {
    "id": "sLp8fEsWXyhc"
   },
   "outputs": [],
   "source": [
    "### !!! Only run this cell if you need to download the data into your environment, for example in Colab\n",
    "### This downloads movie data\n",
    "if os.path.exists(\"./data/filtered_embedded_movies.pkl\") == False:\n",
    "  !mkdir ./data\n",
    "  !wget -P ./data https://raw.githubusercontent.com/KxSystems/kdbai-samples/main/metadata_filtering/data/filtered_embedded_movies.pkl"
   ]
  },
  {
   "cell_type": "markdown",
   "metadata": {
    "id": "CEhGKVP4Xyhd"
   },
   "source": [
    "## 2. Data Import and Understanding\n",
    "### Import movies dataframe"
   ]
  },
  {
   "cell_type": "code",
   "execution_count": 4,
   "metadata": {
    "id": "CyHi02nGXyhd",
    "scrolled": true
   },
   "outputs": [],
   "source": [
    "# Read in the Movies dataframe\n",
    "df = pd.read_pickle(\"./data/filtered_embedded_movies.pkl\")"
   ]
  },
  {
   "cell_type": "markdown",
   "metadata": {
    "id": "RtktEmpwXyhd"
   },
   "source": [
    "### Initial data exploration: Let's understand the data!"
   ]
  },
  {
   "cell_type": "code",
   "execution_count": 5,
   "metadata": {
    "colab": {
     "base_uri": "https://localhost:8080/"
    },
    "id": "aucHA297Xyhd",
    "outputId": "11869edd-c29e-4e33-83c7-7eaf03dd49cf"
   },
   "outputs": [
    {
     "name": "stdout",
     "output_type": "stream",
     "text": [
      "19161\n"
     ]
    }
   ],
   "source": [
    "# How many rows do we have?\n",
    "print(df.shape[0])"
   ]
  },
  {
   "cell_type": "code",
   "execution_count": 6,
   "metadata": {
    "colab": {
     "base_uri": "https://localhost:8080/"
    },
    "id": "aOVfpVChXyhe",
    "outputId": "c061e2ac-9d13-4b54-aa50-17f511ed95ac"
   },
   "outputs": [
    {
     "name": "stdout",
     "output_type": "stream",
     "text": [
      "ReleaseYear\n",
      "Title\n",
      "Origin\n",
      "Director\n",
      "Cast\n",
      "Genre\n",
      "Plot\n",
      "embeddings\n"
     ]
    }
   ],
   "source": [
    "# What columns do we have?\n",
    "for column in df.columns:\n",
    "    print(column)"
   ]
  },
  {
   "cell_type": "code",
   "execution_count": 7,
   "metadata": {
    "colab": {
     "base_uri": "https://localhost:8080/",
     "height": 206
    },
    "id": "JMCgWg3OXyhe",
    "outputId": "e5498cfa-a4e1-4a31-bde9-264b60d27232"
   },
   "outputs": [
    {
     "data": {
      "text/html": [
       "<div>\n",
       "<style scoped>\n",
       "    .dataframe tbody tr th:only-of-type {\n",
       "        vertical-align: middle;\n",
       "    }\n",
       "\n",
       "    .dataframe tbody tr th {\n",
       "        vertical-align: top;\n",
       "    }\n",
       "\n",
       "    .dataframe thead th {\n",
       "        text-align: right;\n",
       "    }\n",
       "</style>\n",
       "<table border=\"1\" class=\"dataframe\">\n",
       "  <thead>\n",
       "    <tr style=\"text-align: right;\">\n",
       "      <th></th>\n",
       "      <th>ReleaseYear</th>\n",
       "      <th>Title</th>\n",
       "      <th>Origin</th>\n",
       "      <th>Director</th>\n",
       "      <th>Cast</th>\n",
       "      <th>Genre</th>\n",
       "      <th>Plot</th>\n",
       "      <th>embeddings</th>\n",
       "    </tr>\n",
       "  </thead>\n",
       "  <tbody>\n",
       "    <tr>\n",
       "      <th>0</th>\n",
       "      <td>1975</td>\n",
       "      <td>The Candy Tangerine Man</td>\n",
       "      <td>American</td>\n",
       "      <td>Matt Cimber</td>\n",
       "      <td>John Daniels Eli Haines Tom Hankason</td>\n",
       "      <td>action</td>\n",
       "      <td>A successful Los Angeles-based businessperson ...</td>\n",
       "      <td>[-0.06835174, -0.013138616, -0.12417501, 0.002...</td>\n",
       "    </tr>\n",
       "    <tr>\n",
       "      <th>1</th>\n",
       "      <td>1975</td>\n",
       "      <td>Capone</td>\n",
       "      <td>American</td>\n",
       "      <td>Steve Carver</td>\n",
       "      <td>Ben Gazzara Susan Blakely John Cassavetes Sylv...</td>\n",
       "      <td>crime drama</td>\n",
       "      <td>The story is of the rise and fall of the Chica...</td>\n",
       "      <td>[-0.01411798, 0.040705115, -0.0014280609, 0.00...</td>\n",
       "    </tr>\n",
       "    <tr>\n",
       "      <th>2</th>\n",
       "      <td>1975</td>\n",
       "      <td>Cleopatra Jones and the Casino of Gold</td>\n",
       "      <td>American</td>\n",
       "      <td>Charles Bail</td>\n",
       "      <td>Tamara Dobson Stella Stevens</td>\n",
       "      <td>action</td>\n",
       "      <td>The story begins with two government agents Ma...</td>\n",
       "      <td>[-0.0925895, 0.01188509, -0.08999529, -0.01541...</td>\n",
       "    </tr>\n",
       "    <tr>\n",
       "      <th>3</th>\n",
       "      <td>1975</td>\n",
       "      <td>Conduct Unbecoming</td>\n",
       "      <td>American</td>\n",
       "      <td>Michael Anderson</td>\n",
       "      <td>Stacy Keach Richard Attenborough Christopher P...</td>\n",
       "      <td>drama</td>\n",
       "      <td>Around 1880 two young British officers arrive ...</td>\n",
       "      <td>[-0.07435084, -0.06386179, 0.017042944, 0.0288...</td>\n",
       "    </tr>\n",
       "    <tr>\n",
       "      <th>4</th>\n",
       "      <td>1975</td>\n",
       "      <td>Cooley High</td>\n",
       "      <td>American</td>\n",
       "      <td>Michael Schultz</td>\n",
       "      <td>Lawrence Hilton-Jacobs Glynn Turman Garrett Mo...</td>\n",
       "      <td>comedy</td>\n",
       "      <td>Set in 1964 Chicago Preach an aspiring playwri...</td>\n",
       "      <td>[-0.041632336, 0.037923656, -0.072276264, -0.0...</td>\n",
       "    </tr>\n",
       "  </tbody>\n",
       "</table>\n",
       "</div>"
      ],
      "text/plain": [
       "   ReleaseYear                                   Title    Origin  \\\n",
       "0         1975                 The Candy Tangerine Man  American   \n",
       "1         1975                                  Capone  American   \n",
       "2         1975  Cleopatra Jones and the Casino of Gold  American   \n",
       "3         1975                      Conduct Unbecoming  American   \n",
       "4         1975                             Cooley High  American   \n",
       "\n",
       "           Director                                               Cast  \\\n",
       "0       Matt Cimber               John Daniels Eli Haines Tom Hankason   \n",
       "1      Steve Carver  Ben Gazzara Susan Blakely John Cassavetes Sylv...   \n",
       "2      Charles Bail                       Tamara Dobson Stella Stevens   \n",
       "3  Michael Anderson  Stacy Keach Richard Attenborough Christopher P...   \n",
       "4   Michael Schultz  Lawrence Hilton-Jacobs Glynn Turman Garrett Mo...   \n",
       "\n",
       "         Genre                                               Plot  \\\n",
       "0       action  A successful Los Angeles-based businessperson ...   \n",
       "1  crime drama  The story is of the rise and fall of the Chica...   \n",
       "2       action  The story begins with two government agents Ma...   \n",
       "3        drama  Around 1880 two young British officers arrive ...   \n",
       "4       comedy  Set in 1964 Chicago Preach an aspiring playwri...   \n",
       "\n",
       "                                          embeddings  \n",
       "0  [-0.06835174, -0.013138616, -0.12417501, 0.002...  \n",
       "1  [-0.01411798, 0.040705115, -0.0014280609, 0.00...  \n",
       "2  [-0.0925895, 0.01188509, -0.08999529, -0.01541...  \n",
       "3  [-0.07435084, -0.06386179, 0.017042944, 0.0288...  \n",
       "4  [-0.041632336, 0.037923656, -0.072276264, -0.0...  "
      ]
     },
     "execution_count": 7,
     "metadata": {},
     "output_type": "execute_result"
    }
   ],
   "source": [
    "# Let us inspect the dataframe\n",
    "df.head()"
   ]
  },
  {
   "cell_type": "markdown",
   "metadata": {
    "id": "D3RntWE6Xyhe"
   },
   "source": [
    "## 3. Set up KDB.AI Vector Database\n",
    "Now that we understand our dataset, we can set up our vector db\n",
    "\n"
   ]
  },
  {
   "cell_type": "code",
   "execution_count": 8,
   "metadata": {
    "id": "h0YJMpNeXyhe"
   },
   "outputs": [],
   "source": [
    "# vector DB\n",
    "import os\n",
    "from getpass import getpass\n",
    "import kdbai_client as kdbai\n",
    "import time"
   ]
  },
  {
   "cell_type": "markdown",
   "metadata": {},
   "source": [
    "### Connect to KDB.AI Server\n",
    "\n",
    "To use KDB.AI Server, you will need download and run your own container.\n",
    "To do this, you will first need to sign up for free [here](https://trykdb.kx.com/kdbaiserver/signup/).\n",
    "\n",
    "You will receive an email with the required license file and bearer token needed to download your instance.\n",
    "Follow instructions in the signup email to get your session up and running.\n",
    "\n",
    "Once the [setup steps](https://code.kx.com/kdbai/gettingStarted/kdb-ai-server-setup.html) are complete you can then connect to your KDB.AI Server session using `kdbai.Session` and passing your local endpoint."
   ]
  },
  {
   "cell_type": "code",
   "execution_count": null,
   "metadata": {
    "id": "R1-2e8l-Xyhf"
   },
   "outputs": [],
   "source": [
    "#Set up KDB.AI server endpoint \n",
    "KDBAI_ENDPOINT = (\n",
    "    os.environ[\"KDBAI_ENDPOINT\"]\n",
    "    if \"KDBAI_ENDPOINT\" in os.environ\n",
    "    else \"http://localhost:8082\"\n",
    ")\n",
    "\n",
    "#connect to KDB.AI Server, default mode is qipc\n",
    "session = kdbai.Session(endpoint=KDBAI_ENDPOINT)\n"
   ]
  },
  {
   "cell_type": "markdown",
   "metadata": {
    "id": "CkpOqe6FXyhf"
   },
   "source": [
    "### Set up the table schema\n",
    "Have a table column for each column in the dataframe, as well as an 'embeddings' column for the movie description embeddings"
   ]
  },
  {
   "cell_type": "code",
   "execution_count": 12,
   "metadata": {
    "id": "DwGylgw9Xyhf"
   },
   "outputs": [],
   "source": [
    "# Set up the schema for KDB.AI table, specifying column information\n",
    "table_schema = [\n",
    "        {\"name\": \"ReleaseYear\", \"type\": \"int64\"},\n",
    "        {\"name\": \"Title\", \"type\": \"str\"},\n",
    "        {\"name\": \"Origin\", \"type\": \"str\"},\n",
    "        {\"name\": \"Director\", \"type\": \"str\"},\n",
    "        {\"name\": \"Cast\", \"type\": \"str\"},\n",
    "        {\"name\": \"Genre\", \"type\": \"str\"},\n",
    "        {\"name\": \"Plot\", \"type\": \"str\"},\n",
    "        {\"name\": \"embeddings\", \"type\": \"float64s\"},\n",
    "    ]\n",
    "\n",
    "# Set up the index with 384 dimensions, Euclidean Distance, and flat index\n",
    "indexes = [\n",
    "    {\n",
    "        \"name\": \"flat_index\",\n",
    "        \"type\": \"flat\",\n",
    "        \"column\": \"embeddings\",\n",
    "        \"params\": {\"dims\": 384, \"metric\": \"L2\"},\n",
    "    }\n",
    "]\n"
   ]
  },
  {
   "cell_type": "markdown",
   "metadata": {
    "id": "RVcZ7PbNXyhf"
   },
   "source": [
    "### Create a table called \"metadata_demo\"\n",
    "First check if the table already exists, then create a new table with the table schema from above"
   ]
  },
  {
   "cell_type": "code",
   "execution_count": 13,
   "metadata": {
    "id": "dH23tks9Xyhf"
   },
   "outputs": [],
   "source": [
    "# get the database connection. Default database name is 'default'\n",
    "database = session.database('default')\n",
    "\n",
    "# First ensure the table does not already exist\n",
    "try:\n",
    "    database.table(\"metadata_demo\").drop()\n",
    "    time.sleep(5)\n",
    "except kdbai.KDBAIException:\n",
    "    pass"
   ]
  },
  {
   "cell_type": "code",
   "execution_count": 14,
   "metadata": {
    "id": "mQCdzNeZXyhf"
   },
   "outputs": [],
   "source": [
    "# Create the table called \"metadata_demo\"\n",
    "table = database.create_table(\"metadata_demo\", table_schema, indexes=indexes)"
   ]
  },
  {
   "cell_type": "markdown",
   "metadata": {
    "id": "ubHHWAxfXyhf"
   },
   "source": [
    "## 4. Insert Movie Data into the KDB.AI table"
   ]
  },
  {
   "cell_type": "code",
   "execution_count": 15,
   "metadata": {
    "colab": {
     "base_uri": "https://localhost:8080/"
    },
    "id": "LN6N0IRsXyhf",
    "outputId": "dd2cb866-7e9b-4fa5-8b70-17b47e0ab067"
   },
   "outputs": [
    {
     "name": "stderr",
     "output_type": "stream",
     "text": [
      "100%|██████████| 10/10 [00:01<00:00,  5.29it/s]\n"
     ]
    }
   ],
   "source": [
    "# Insert the data into the table, split into 2000 row batches\n",
    "from tqdm import tqdm\n",
    "n = 2000  # chunk row size\n",
    "\n",
    "for i in tqdm(range(0, df.shape[0], n)):\n",
    "    table.insert(df[i:i+n].reset_index(drop=True))"
   ]
  },
  {
   "cell_type": "code",
   "execution_count": 16,
   "metadata": {
    "id": "JL4_xRa0Xyhg"
   },
   "outputs": [],
   "source": [
    "# function to view the dataframe within the table\n",
    "def show_df(df: pd.DataFrame) -> pd.DataFrame:\n",
    "    print(df.shape)\n",
    "    return df.head()"
   ]
  },
  {
   "cell_type": "code",
   "execution_count": 17,
   "metadata": {
    "colab": {
     "base_uri": "https://localhost:8080/",
     "height": 223
    },
    "id": "-FpZO-9cXyhg",
    "outputId": "926fec9e-5d5a-452f-e7c7-5e6add439e4c"
   },
   "outputs": [
    {
     "name": "stdout",
     "output_type": "stream",
     "text": [
      "(19161, 8)\n"
     ]
    },
    {
     "data": {
      "text/html": [
       "<div>\n",
       "<style scoped>\n",
       "    .dataframe tbody tr th:only-of-type {\n",
       "        vertical-align: middle;\n",
       "    }\n",
       "\n",
       "    .dataframe tbody tr th {\n",
       "        vertical-align: top;\n",
       "    }\n",
       "\n",
       "    .dataframe thead th {\n",
       "        text-align: right;\n",
       "    }\n",
       "</style>\n",
       "<table border=\"1\" class=\"dataframe\">\n",
       "  <thead>\n",
       "    <tr style=\"text-align: right;\">\n",
       "      <th></th>\n",
       "      <th>ReleaseYear</th>\n",
       "      <th>Title</th>\n",
       "      <th>Origin</th>\n",
       "      <th>Director</th>\n",
       "      <th>Cast</th>\n",
       "      <th>Genre</th>\n",
       "      <th>Plot</th>\n",
       "      <th>embeddings</th>\n",
       "    </tr>\n",
       "  </thead>\n",
       "  <tbody>\n",
       "    <tr>\n",
       "      <th>0</th>\n",
       "      <td>1975</td>\n",
       "      <td>The Candy Tangerine Man</td>\n",
       "      <td>American</td>\n",
       "      <td>Matt Cimber</td>\n",
       "      <td>John Daniels Eli Haines Tom Hankason</td>\n",
       "      <td>action</td>\n",
       "      <td>A successful Los Angeles-based businessperson ...</td>\n",
       "      <td>[-0.06835173815488815, -0.01313861645758152, -...</td>\n",
       "    </tr>\n",
       "    <tr>\n",
       "      <th>1</th>\n",
       "      <td>1975</td>\n",
       "      <td>Capone</td>\n",
       "      <td>American</td>\n",
       "      <td>Steve Carver</td>\n",
       "      <td>Ben Gazzara Susan Blakely John Cassavetes Sylv...</td>\n",
       "      <td>crime drama</td>\n",
       "      <td>The story is of the rise and fall of the Chica...</td>\n",
       "      <td>[-0.014117980375885963, 0.0407051146030426, -0...</td>\n",
       "    </tr>\n",
       "    <tr>\n",
       "      <th>2</th>\n",
       "      <td>1975</td>\n",
       "      <td>Cleopatra Jones and the Casino of Gold</td>\n",
       "      <td>American</td>\n",
       "      <td>Charles Bail</td>\n",
       "      <td>Tamara Dobson Stella Stevens</td>\n",
       "      <td>action</td>\n",
       "      <td>The story begins with two government agents Ma...</td>\n",
       "      <td>[-0.09258949756622314, 0.011885089799761772, -...</td>\n",
       "    </tr>\n",
       "    <tr>\n",
       "      <th>3</th>\n",
       "      <td>1975</td>\n",
       "      <td>Conduct Unbecoming</td>\n",
       "      <td>American</td>\n",
       "      <td>Michael Anderson</td>\n",
       "      <td>Stacy Keach Richard Attenborough Christopher P...</td>\n",
       "      <td>drama</td>\n",
       "      <td>Around 1880 two young British officers arrive ...</td>\n",
       "      <td>[-0.07435084134340286, -0.06386178731918335, 0...</td>\n",
       "    </tr>\n",
       "    <tr>\n",
       "      <th>4</th>\n",
       "      <td>1975</td>\n",
       "      <td>Cooley High</td>\n",
       "      <td>American</td>\n",
       "      <td>Michael Schultz</td>\n",
       "      <td>Lawrence Hilton-Jacobs Glynn Turman Garrett Mo...</td>\n",
       "      <td>comedy</td>\n",
       "      <td>Set in 1964 Chicago Preach an aspiring playwri...</td>\n",
       "      <td>[-0.041632335633039474, 0.0379236564040184, -0...</td>\n",
       "    </tr>\n",
       "  </tbody>\n",
       "</table>\n",
       "</div>"
      ],
      "text/plain": [
       "   ReleaseYear                                   Title    Origin  \\\n",
       "0         1975                 The Candy Tangerine Man  American   \n",
       "1         1975                                  Capone  American   \n",
       "2         1975  Cleopatra Jones and the Casino of Gold  American   \n",
       "3         1975                      Conduct Unbecoming  American   \n",
       "4         1975                             Cooley High  American   \n",
       "\n",
       "           Director                                               Cast  \\\n",
       "0       Matt Cimber               John Daniels Eli Haines Tom Hankason   \n",
       "1      Steve Carver  Ben Gazzara Susan Blakely John Cassavetes Sylv...   \n",
       "2      Charles Bail                       Tamara Dobson Stella Stevens   \n",
       "3  Michael Anderson  Stacy Keach Richard Attenborough Christopher P...   \n",
       "4   Michael Schultz  Lawrence Hilton-Jacobs Glynn Turman Garrett Mo...   \n",
       "\n",
       "         Genre                                               Plot  \\\n",
       "0       action  A successful Los Angeles-based businessperson ...   \n",
       "1  crime drama  The story is of the rise and fall of the Chica...   \n",
       "2       action  The story begins with two government agents Ma...   \n",
       "3        drama  Around 1880 two young British officers arrive ...   \n",
       "4       comedy  Set in 1964 Chicago Preach an aspiring playwri...   \n",
       "\n",
       "                                          embeddings  \n",
       "0  [-0.06835173815488815, -0.01313861645758152, -...  \n",
       "1  [-0.014117980375885963, 0.0407051146030426, -0...  \n",
       "2  [-0.09258949756622314, 0.011885089799761772, -...  \n",
       "3  [-0.07435084134340286, -0.06386178731918335, 0...  \n",
       "4  [-0.041632335633039474, 0.0379236564040184, -0...  "
      ]
     },
     "execution_count": 17,
     "metadata": {},
     "output_type": "execute_result"
    }
   ],
   "source": [
    "# View contents of the table\n",
    "show_df(table.query())"
   ]
  },
  {
   "cell_type": "markdown",
   "metadata": {
    "id": "eWD7Q4ntXyhg"
   },
   "source": [
    "## 5. Run Filtered Similarity Searches on our KDB.AI Vector Database"
   ]
  },
  {
   "cell_type": "markdown",
   "metadata": {
    "id": "qUn-stWwXyhg"
   },
   "source": [
    "#### Set up embedding model to embed our natural language queries"
   ]
  },
  {
   "cell_type": "code",
   "execution_count": null,
   "metadata": {
    "id": "U78VR-7UXyhg"
   },
   "outputs": [],
   "source": [
    "# embedding model to be used to embed user input query\n",
    "from sentence_transformers import SentenceTransformer\n",
    "embedding_model = SentenceTransformer(\"all-MiniLM-L6-v2\")"
   ]
  },
  {
   "cell_type": "markdown",
   "metadata": {
    "id": "VDRi-wDwXyhg"
   },
   "source": [
    "#### Create a query vector by using the embedding model to embed a natural language query"
   ]
  },
  {
   "cell_type": "code",
   "execution_count": 19,
   "metadata": {
    "id": "e3NbLcaOXyhg"
   },
   "outputs": [],
   "source": [
    "# Embed a query\n",
    "query_vector = {'flat_index' : [embedding_model.encode('star wars Luke Skywalker').tolist()]}"
   ]
  },
  {
   "cell_type": "markdown",
   "metadata": {
    "id": "k3nWaUvyXyhg"
   },
   "source": [
    "#### Run vector similarity search, return the top-3 similar movies"
   ]
  },
  {
   "cell_type": "code",
   "execution_count": 20,
   "metadata": {
    "colab": {
     "base_uri": "https://localhost:8080/"
    },
    "id": "HEYbnoBUXyhg",
    "outputId": "2e91caa3-385b-42e3-d962-8fac2ccc7b0f"
   },
   "outputs": [
    {
     "name": "stdout",
     "output_type": "stream",
     "text": [
      "[   __nn_distance  ReleaseYear  \\\n",
      "0       0.748475         1983   \n",
      "1       0.910225         1977   \n",
      "2       0.942763         1980   \n",
      "\n",
      "                                              Title    Origin  \\\n",
      "0                                Return of the Jedi  American   \n",
      "1  Star Wars Episode IV: A New Hope (aka Star Wars)  American   \n",
      "2                           The Empire Strikes Back  American   \n",
      "\n",
      "           Director                                               Cast  \\\n",
      "0  Richard Marquand  Mark Hamill Harrison Ford Carrie Fisher Billy ...   \n",
      "1      George Lucas  Mark Hamill Harrison Ford Carrie Fisher Alec G...   \n",
      "2    Irvin Kershner  Carrie Fisher Harrison Ford Mark Hamill Billy ...   \n",
      "\n",
      "             Genre                                               Plot  \\\n",
      "0  science fiction  Luke Skywalker initiates a plan to rescue Han ...   \n",
      "1  science fiction  The galaxy is in the midst of a civil war. Spi...   \n",
      "2  science fiction  Three years after the destruction of the Death...   \n",
      "\n",
      "                                          embeddings  \n",
      "0  [-0.047360002994537354, -0.08337291330099106, ...  \n",
      "1  [-0.10030582547187805, 0.008335104212164879, 0...  \n",
      "2  [-0.050230544060468674, -0.023651080206036568,...  ]\n"
     ]
    }
   ],
   "source": [
    "# Search vector db to find most relevant movies\n",
    "print(table.search(vectors=query_vector, n=3))"
   ]
  },
  {
   "cell_type": "markdown",
   "metadata": {
    "id": "0hdIcL2GXyhg"
   },
   "source": [
    "#### Repeat the search with metadata filters to narrow the search space"
   ]
  },
  {
   "cell_type": "code",
   "execution_count": 21,
   "metadata": {
    "colab": {
     "base_uri": "https://localhost:8080/"
    },
    "id": "1vaqdT0CXyhh",
    "outputId": "893b008a-699d-4ef7-f36a-fd34a830c096"
   },
   "outputs": [
    {
     "name": "stdout",
     "output_type": "stream",
     "text": [
      "[   __nn_distance  ReleaseYear  \\\n",
      "0       0.910225         1977   \n",
      "\n",
      "                                              Title    Origin      Director  \\\n",
      "0  Star Wars Episode IV: A New Hope (aka Star Wars)  American  George Lucas   \n",
      "\n",
      "                                                Cast            Genre  \\\n",
      "0  Mark Hamill Harrison Ford Carrie Fisher Alec G...  science fiction   \n",
      "\n",
      "                                                Plot  \\\n",
      "0  The galaxy is in the midst of a civil war. Spi...   \n",
      "\n",
      "                                          embeddings  \n",
      "0  [-0.10030582547187805, 0.008335104212164879, 0...  ]\n"
     ]
    }
   ],
   "source": [
    "print(table.search(vectors=query_vector, n=3, filter=[(\"like\", \"Director\", \"George Lucas\"),(\"=\", \"ReleaseYear\", 1977)]))"
   ]
  },
  {
   "cell_type": "markdown",
   "metadata": {
    "id": "AsnPmebLZbT6"
   },
   "source": [
    "### Fuzzy Filtering\n",
    "What if there are some spelling mistakes?"
   ]
  },
  {
   "cell_type": "code",
   "execution_count": 22,
   "metadata": {
    "colab": {
     "base_uri": "https://localhost:8080/"
    },
    "id": "XtAynAljZa6t",
    "outputId": "9a5e5685-c432-41ab-8057-e86757555b7a"
   },
   "outputs": [
    {
     "name": "stdout",
     "output_type": "stream",
     "text": [
      "[   __nn_distance  ReleaseYear  \\\n",
      "0       0.910225         1977   \n",
      "1       1.166750         2005   \n",
      "2       1.210034         2002   \n",
      "\n",
      "                                              Title    Origin      Director  \\\n",
      "0  Star Wars Episode IV: A New Hope (aka Star Wars)  American  George Lucas   \n",
      "1      Star Wars: Episode III   Revenge of the Sith  American  George Lucas   \n",
      "2      Star Wars: Episode II   Attack of the Clones  American  George Lucas   \n",
      "\n",
      "                                                Cast                   Genre  \\\n",
      "0  Mark Hamill Harrison Ford Carrie Fisher Alec G...         science fiction   \n",
      "1  Ewan McGregor Hayden Christensen Natalie Portm...  science fiction action   \n",
      "2   Ewan McGregor Natalie Portman Hayden Christensen         science fiction   \n",
      "\n",
      "                                                Plot  \\\n",
      "0  The galaxy is in the midst of a civil war. Spi...   \n",
      "1  Three years after the Battle of Geonosis the g...   \n",
      "2  Ten years after the Trade Federations invasion...   \n",
      "\n",
      "                                          embeddings  \n",
      "0  [-0.10030582547187805, 0.008335104212164879, 0...  \n",
      "1  [0.008934415876865387, -0.05330725386738777, 0...  \n",
      "2  [-0.11154422909021378, -0.043663837015628815, ...  ]\n"
     ]
    }
   ],
   "source": [
    "# Fuzzy filter with a misspelled name. This defaults to 'Levenshtein' distance metric\n",
    "print(table.search(vectors=query_vector, n=3, filter=[['fuzzy','Director',[[\"Goerge Lucas\",2]]]]))"
   ]
  },
  {
   "cell_type": "code",
   "execution_count": 23,
   "metadata": {
    "colab": {
     "base_uri": "https://localhost:8080/"
    },
    "id": "Q7-bIyiQZpsj",
    "outputId": "4f90d256-689c-436a-b4a5-9883c6ebc956"
   },
   "outputs": [
    {
     "name": "stdout",
     "output_type": "stream",
     "text": [
      "[   __nn_distance  ReleaseYear  \\\n",
      "0       0.748475         1983   \n",
      "1       0.910225         1977   \n",
      "2       0.942763         1980   \n",
      "\n",
      "                                              Title    Origin  \\\n",
      "0                                Return of the Jedi  American   \n",
      "1  Star Wars Episode IV: A New Hope (aka Star Wars)  American   \n",
      "2                           The Empire Strikes Back  American   \n",
      "\n",
      "           Director                                               Cast  \\\n",
      "0  Richard Marquand  Mark Hamill Harrison Ford Carrie Fisher Billy ...   \n",
      "1      George Lucas  Mark Hamill Harrison Ford Carrie Fisher Alec G...   \n",
      "2    Irvin Kershner  Carrie Fisher Harrison Ford Mark Hamill Billy ...   \n",
      "\n",
      "             Genre                                               Plot  \\\n",
      "0  science fiction  Luke Skywalker initiates a plan to rescue Han ...   \n",
      "1  science fiction  The galaxy is in the midst of a civil war. Spi...   \n",
      "2  science fiction  Three years after the destruction of the Death...   \n",
      "\n",
      "                                          embeddings  \n",
      "0  [-0.047360002994537354, -0.08337291330099106, ...  \n",
      "1  [-0.10030582547187805, 0.008335104212164879, 0...  \n",
      "2  [-0.050230544060468674, -0.023651080206036568,...  ]\n"
     ]
    }
   ],
   "source": [
    "# Fuzzy filter with a misspelled genre, choosing the distance metric algorithm to use, in this case 'osa', Optimal String Alignment.\n",
    "print(table.search(vectors=query_vector, n=3, filter=[['fuzzy','Genre',[[\"sceince fictoin\",2,'osa']]]]))"
   ]
  },
  {
   "cell_type": "markdown",
   "metadata": {
    "id": "P_3kKzl1Xyhh"
   },
   "source": [
    "#### More Examples"
   ]
  },
  {
   "cell_type": "code",
   "execution_count": 24,
   "metadata": {
    "id": "q0g8NZONXyhh"
   },
   "outputs": [],
   "source": [
    "# Another query\n",
    "query_vector = {'flat_index' :[embedding_model.encode('conspiracy theories involving art').tolist()]}"
   ]
  },
  {
   "cell_type": "code",
   "execution_count": 25,
   "metadata": {
    "colab": {
     "base_uri": "https://localhost:8080/"
    },
    "id": "k5PvOBvDXyhh",
    "outputId": "6eaf221f-1101-4131-a6e5-b43a0a803b44"
   },
   "outputs": [
    {
     "name": "stdout",
     "output_type": "stream",
     "text": [
      "[   __nn_distance  ReleaseYear               Title    Origin          Director  \\\n",
      "0       1.276896         2006   The Da Vinci Code  American        Ron Howard   \n",
      "1       1.395944         2017          The Circle  American    James Ponsoldt   \n",
      "2       1.607655         2017            The Post  American  Steven Spielberg   \n",
      "\n",
      "                                                Cast  \\\n",
      "0  Tom Hanks Audrey Tautou Ian McKellen Alfred Mo...   \n",
      "1  James Ponsoldt (director/screenplay); Tom Hank...   \n",
      "2  Steven Spielberg (director); Liz Hannah Josh S...   \n",
      "\n",
      "                              Genre  \\\n",
      "0                          thriller   \n",
      "1             sci-fi drama thriller   \n",
      "2  biography drama history thriller   \n",
      "\n",
      "                                                Plot  \\\n",
      "0  Jacques Sauni¨re the Louvres curator is pursue...   \n",
      "1  When her car breaks down Mae Holland contacts ...   \n",
      "2  In 1966 Vietnam State Department military anal...   \n",
      "\n",
      "                                          embeddings  \n",
      "0  [-0.11887314915657043, -0.04977063462138176, -...  \n",
      "1  [-0.07589969784021378, -0.052303414791822433, ...  \n",
      "2  [-0.06242850422859192, -0.0349779948592186, -0...  ]\n"
     ]
    }
   ],
   "source": [
    "# Another filtered search example\n",
    "print(table.search(vectors=query_vector, n=3, filter=[(\"like\", \"Genre\", \"*thriller*\"),(\"like\",\"Cast\",\"*Tom Hanks*\")]))"
   ]
  },
  {
   "cell_type": "code",
   "execution_count": 26,
   "metadata": {
    "id": "HhbmuhVXXyhl"
   },
   "outputs": [],
   "source": [
    "# Another query\n",
    "query_vector = {'flat_index' :[embedding_model.encode('middle earth fantasy adventure in the Shire').tolist()]}"
   ]
  },
  {
   "cell_type": "code",
   "execution_count": 27,
   "metadata": {
    "colab": {
     "base_uri": "https://localhost:8080/"
    },
    "id": "-I708ZtyXyhl",
    "outputId": "4a278528-1f71-4805-aa18-bed16c8a25e1"
   },
   "outputs": [
    {
     "name": "stdout",
     "output_type": "stream",
     "text": [
      "[   __nn_distance  ReleaseYear  \\\n",
      "0       1.014505         2001   \n",
      "1       1.099138         2002   \n",
      "2       1.153412         2003   \n",
      "\n",
      "                                               Title    Origin       Director  \\\n",
      "0  The Lord of the Rings: The Fellowship of the Ring  American  Peter Jackson   \n",
      "1              The Lord of the Rings: The Two Towers  American  Peter Jackson   \n",
      "2      The Lord of the Rings: The Return of the King  American  Peter Jackson   \n",
      "\n",
      "                                                Cast              Genre  \\\n",
      "0  Elijah Wood Ian McKellen Liv Tyler Sean Astin ...            fantasy   \n",
      "1  Elijah Wood Ian McKellen Liv Tyler Viggo Morte...  adventure fantasy   \n",
      "2  Elijah Wood Ian McKellen Liv Tyler Sean Astin ...  adventure fantasy   \n",
      "\n",
      "                                                Plot  \\\n",
      "0  In the Second Age of Middle-earth the lords of...   \n",
      "1  After awakening from a dream of Gandalf the Gr...   \n",
      "2  Many years ago two Hobbits Smeagol and Dagol a...   \n",
      "\n",
      "                                          embeddings  \n",
      "0  [-0.04706393554806709, 0.0369022861123085, -0....  \n",
      "1  [-0.05915825068950653, 0.033268801867961884, -...  \n",
      "2  [-0.07969464361667633, -0.006237572990357876, ...  ]\n"
     ]
    }
   ],
   "source": [
    "# Another filtered search example\n",
    "print(table.search(vectors=query_vector, n=3, filter=[(\"within\",\"ReleaseYear\",[2000,2010])]))\n"
   ]
  },
  {
   "cell_type": "markdown",
   "metadata": {
    "id": "WDyBpe5u_RjS"
   },
   "source": [
    "#### Another Fuzzy Filtering Example on the Genre metadata column"
   ]
  },
  {
   "cell_type": "code",
   "execution_count": 28,
   "metadata": {
    "colab": {
     "base_uri": "https://localhost:8080/"
    },
    "id": "HIkGoJF4cXZ0",
    "outputId": "1815d586-8cd2-4f0f-db82-fef3ed8574a7"
   },
   "outputs": [
    {
     "name": "stdout",
     "output_type": "stream",
     "text": [
      "[   __nn_distance  ReleaseYear  \\\n",
      "0       1.014505         2001   \n",
      "1       1.099138         2002   \n",
      "2       1.153412         2003   \n",
      "\n",
      "                                               Title    Origin       Director  \\\n",
      "0  The Lord of the Rings: The Fellowship of the Ring  American  Peter Jackson   \n",
      "1              The Lord of the Rings: The Two Towers  American  Peter Jackson   \n",
      "2      The Lord of the Rings: The Return of the King  American  Peter Jackson   \n",
      "\n",
      "                                                Cast              Genre  \\\n",
      "0  Elijah Wood Ian McKellen Liv Tyler Sean Astin ...            fantasy   \n",
      "1  Elijah Wood Ian McKellen Liv Tyler Viggo Morte...  adventure fantasy   \n",
      "2  Elijah Wood Ian McKellen Liv Tyler Sean Astin ...  adventure fantasy   \n",
      "\n",
      "                                                Plot  \\\n",
      "0  In the Second Age of Middle-earth the lords of...   \n",
      "1  After awakening from a dream of Gandalf the Gr...   \n",
      "2  Many years ago two Hobbits Smeagol and Dagol a...   \n",
      "\n",
      "                                          embeddings  \n",
      "0  [-0.04706393554806709, 0.0369022861123085, -0....  \n",
      "1  [-0.05915825068950653, 0.033268801867961884, -...  \n",
      "2  [-0.07969464361667633, -0.006237572990357876, ...  ]\n"
     ]
    }
   ],
   "source": [
    "# Another filtered search example, with fuzzy filtering the Director column reconciling for a typo in what should be 'Peter Jackson'\n",
    "print(table.search(vectors=query_vector, n=3, filter=[(\"within\",\"ReleaseYear\",[2000,2010]),['fuzzy','Director',[[\"Peter Jacksen\",1,\"damerau_levenshtein\"]]]]))\n"
   ]
  },
  {
   "cell_type": "markdown",
   "metadata": {
    "id": "unLQEoaPXyhl"
   },
   "source": [
    "## Delete the KDB.AI Table\n",
    "Once finished with the table, it is best practice to drop it."
   ]
  },
  {
   "cell_type": "code",
   "execution_count": 29,
   "metadata": {
    "colab": {
     "base_uri": "https://localhost:8080/"
    },
    "id": "WS99DOEFXyhl",
    "outputId": "c9071a16-8079-4a91-c4ff-2daa3020eab0"
   },
   "outputs": [],
   "source": [
    "table.drop()"
   ]
  },
  {
   "cell_type": "markdown",
   "metadata": {
    "id": "Ii2Hd3chXyhl"
   },
   "source": [
    "#### Take Our Survey\n",
    "We hope you found this sample helpful! Your feedback is important to us, and we would appreciate it if you could take a moment to fill out our brief survey. Your input helps us improve our content.\n",
    "\n",
    "Take the [Survey](https://delighted.com/t/Jvlbdqvt)\n"
   ]
  }
 ],
 "metadata": {
  "colab": {
   "provenance": []
  },
  "kernelspec": {
   "display_name": "Python 3 (ipykernel)",
   "language": "python",
   "name": "python3"
  },
  "language_info": {
   "codemirror_mode": {
    "name": "ipython",
    "version": 3
   },
   "file_extension": ".py",
   "mimetype": "text/x-python",
   "name": "python",
   "nbconvert_exporter": "python",
   "pygments_lexer": "ipython3",
   "version": "3.10.12"
  }
 },
 "nbformat": 4,
 "nbformat_minor": 0
}
