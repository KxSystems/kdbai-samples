{
 "cells": [
  {
   "cell_type": "markdown",
   "metadata": {
    "id": "Rt-9l5M4gmSD"
   },
   "source": [
    "# RAG with Unstructured, LangChain, & KDB.AI\n",
    "##### Note: This example requires a KDB.AI endpoint and API key. Sign up for a free [KDB.AI account](https://kdb.ai/get-started).\n",
    "\n",
    "> [KDB.AI](https://kdb.ai/) is a powerful knowledge-based vector database and search engine that allows you to build scalable, reliable AI applications, using real-time data, by providing advanced search, recommendation and personalization.\n",
    "\n",
    "PDFs and other complex document types are notoriously difficult to work with, yet are the common file formats used for publishing important business related information. Since these file types are so common, it is key to have the capability to parse and ingest these documents swiftly, with accuracy, while cleanly extracting embedded entities such as images, tables, and graphs. If extracted correctly, all of the data held in a complex document like a PDF can be ingested into a RAG workflow to generate accurate and contextual responses for users and the business.\n",
    "\n",
    "This sample will illustrate how to use Unstructured, a complex document parsing technology, to ingest complex documentation, partition it into useful elements, perform chunking and embedding, and finally store the embeddings in KDB.AI. After this, we can complete a RAG pipeline with LangChain and query the KDB.AI vector database to retrieve the most relevant elements and pass them to an LLM to generate a response.\n",
    "\n",
    "We will focus in on how to enhance table elements with context and standardized formatting to enhance retrieval and generation.\n",
    "\n",
    "Agenda:\n",
    "1. Dependencies, Imports & Setup\n",
    "2. Use Unstructured to Process Complex PDF Documentation\n",
    "3. Embed Extracted Elements with OpenAI Embedding Model\n",
    "4. Define KDB.AI Session\n",
    "5. Create Schema and KDB.AI Table\n",
    "6. Use LangChain and KDB.AI to Perform RAG!"
   ]
  },
  {
   "cell_type": "markdown",
   "metadata": {
    "id": "xzRDHnFJgmSF"
   },
   "source": [
    "## 1. Dependencies, Imports & Setup\n",
    "\n",
    "In order to successfully run this sample, note the following steps depending on where you are running this notebook:\n",
    "\n",
    "-***Run Locally / Private Environment:*** The [Setup](https://github.com/KxSystems/kdbai-samples/blob/main/README.md#setup) steps in the repository's `README.md` will guide you on prerequisites and how to run this with Jupyter.\n",
    "\n",
    "\n",
    "-***Colab / Hosted Environment:*** Open this notebook in Colab and run through the cells."
   ]
  },
  {
   "cell_type": "code",
   "execution_count": null,
   "metadata": {
    "id": "KCwO5V1QgmSF"
   },
   "outputs": [],
   "source": [
    "!apt-get -qq install poppler-utils tesseract-ocr\n",
    "%pip install -q --user --upgrade pillow\n",
    "%pip install -q --upgrade unstructured[\"all-docs\"]\n",
    "%pip install pymupdf\n",
    "%pip install kdbai_client\n",
    "%pip install langchain-openai\n",
    "%pip install langchain\n",
    "#%pip install langchain-community\n",
    "import os\n",
    "!git clone -b KDBAI_v1.4 https://github.com/KxSystems/langchain.git\n",
    "#!cd langchain/libs/community\n",
    "os.chdir('langchain/libs/community')\n",
    "!pip install .\n",
    "%pip install --upgrade nltk"
   ]
  },
  {
   "cell_type": "code",
   "execution_count": null,
   "metadata": {
    "colab": {
     "base_uri": "https://localhost:8080/"
    },
    "id": "60Fu7hWzPiHR",
    "outputId": "294a4e05-226a-4f06-983a-e8f9f4744832"
   },
   "outputs": [],
   "source": [
    "from unstructured.partition.pdf import partition_pdf\n",
    "from unstructured.partition.auto import partition\n",
    "from unstructured.embed.openai import OpenAIEmbeddingConfig, OpenAIEmbeddingEncoder\n",
    "import fitz\n",
    "from langchain_openai import OpenAIEmbeddings\n",
    "import kdbai_client as kdbai\n",
    "from langchain_community.vectorstores import KDBAI\n",
    "from langchain.chains import RetrievalQA\n",
    "from langchain_openai import ChatOpenAI\n",
    "import nltk\n",
    "nltk.download('punkt')"
   ]
  },
  {
   "cell_type": "markdown",
   "metadata": {
    "id": "fi5RfSrUPfKz"
   },
   "source": [
    "Get OpenAI API key here:\n",
    "- [OpenAI](https://platform.openai.com/api-keys)"
   ]
  },
  {
   "cell_type": "code",
   "execution_count": 4,
   "metadata": {
    "colab": {
     "base_uri": "https://localhost:8080/"
    },
    "id": "D4ow48pYHqXT",
    "outputId": "2f084d4a-093b-4899-8b33-8fc468b144c7"
   },
   "outputs": [],
   "source": [
    "import os\n",
    "from getpass import getpass\n",
    "# Set OpenAI API\n",
    "if \"OPENAI_API_KEY\" in os.environ:\n",
    "    OPENAI_API_KEY = os.environ[\"OPENAI_API_KEY\"]\n",
    "else:\n",
    "    # Prompt the user to enter the API key\n",
    "    OPENAI_API_KEY = getpass(\"OPENAI API KEY: \")\n",
    "    # Save the API key as an environment variable for the current session\n",
    "    os.environ[\"OPENAI_API_KEY\"] = OPENAI_API_KEY"
   ]
  },
  {
   "cell_type": "markdown",
   "metadata": {
    "id": "PmtLAqJTgmSG"
   },
   "source": [
    "\n",
    "\n",
    "#### Download Earnings Report"
   ]
  },
  {
   "cell_type": "code",
   "execution_count": 5,
   "metadata": {
    "colab": {
     "base_uri": "https://localhost:8080/"
    },
    "id": "0hpV7S8QB6dx",
    "outputId": "8d8197a7-7d63-4394-de6d-9aa954fd6b47"
   },
   "outputs": [
    {
     "name": "stdout",
     "output_type": "stream",
     "text": [
      "--2024-10-01 01:10:17--  https://s21.q4cdn.com/399680738/files/doc_news/Meta-Reports-Second-Quarter-2024-Results-2024.pdf\n",
      "Resolving s21.q4cdn.com (s21.q4cdn.com)... 194.26.213.25, 2a09:cd46:f:426e::1\n",
      "Connecting to s21.q4cdn.com (s21.q4cdn.com)|194.26.213.25|:443... connected.\n",
      "HTTP request sent, awaiting response... 200 OK\n",
      "Length: 195613 (191K) [application/pdf]\n",
      "Saving to: ‘./doc1.pdf’\n",
      "\n",
      "./doc1.pdf          100%[===================>] 191.03K  --.-KB/s    in 0.03s   \n",
      "\n",
      "2024-10-01 01:10:17 (5.77 MB/s) - ‘./doc1.pdf’ saved [195613/195613]\n",
      "\n"
     ]
    }
   ],
   "source": [
    "!wget 'https://s21.q4cdn.com/399680738/files/doc_news/Meta-Reports-Second-Quarter-2024-Results-2024.pdf' -O './doc1.pdf'"
   ]
  },
  {
   "cell_type": "markdown",
   "metadata": {
    "id": "YJm74SuKgmSH"
   },
   "source": [
    "# 2. Use Unstructured to Process Complex PDF Documentation\n",
    "\n",
    "1. Read in data\n",
    "2. Partition using the 'hi_res' strategy\n",
    "3. Chunk"
   ]
  },
  {
   "cell_type": "code",
   "execution_count": 7,
   "metadata": {
    "id": "v1zHd-TiPkgM"
   },
   "outputs": [],
   "source": [
    "elements = partition_pdf('./doc1.pdf',\n",
    "                              strategy=\"hi_res\",\n",
    "                              chunking_strategy=\"by_title\",\n",
    "                              )"
   ]
  },
  {
   "cell_type": "markdown",
   "metadata": {
    "id": "g5ghZBkbgmSH"
   },
   "source": [
    "#### Explore the extracted elements"
   ]
  },
  {
   "cell_type": "code",
   "execution_count": 8,
   "metadata": {
    "colab": {
     "base_uri": "https://localhost:8080/",
     "height": 52
    },
    "id": "evyLF4fgPsQX",
    "outputId": "0eb3a00b-2b2b-4cc2-8a64-561ca68a717b"
   },
   "outputs": [
    {
     "data": {
      "text/plain": [
       "Counter({unstructured.documents.elements.CompositeElement: 17,\n",
       "         unstructured.documents.elements.Table: 10})"
      ]
     },
     "metadata": {},
     "output_type": "display_data"
    }
   ],
   "source": [
    "from collections import Counter\n",
    "display(Counter(type(element) for element in elements))"
   ]
  },
  {
   "cell_type": "code",
   "execution_count": 9,
   "metadata": {
    "id": "015XC0HgPuyF"
   },
   "outputs": [
    {
     "name": "stdout",
     "output_type": "stream",
     "text": [
      "<class 'unstructured.documents.elements.CompositeElement'>\n",
      "<class 'unstructured.documents.elements.Table'>\n",
      "<class 'unstructured.documents.elements.CompositeElement'>\n",
      "<class 'unstructured.documents.elements.CompositeElement'>\n",
      "<class 'unstructured.documents.elements.CompositeElement'>\n",
      "<class 'unstructured.documents.elements.CompositeElement'>\n",
      "<class 'unstructured.documents.elements.CompositeElement'>\n",
      "<class 'unstructured.documents.elements.CompositeElement'>\n",
      "<class 'unstructured.documents.elements.CompositeElement'>\n",
      "<class 'unstructured.documents.elements.Table'>\n",
      "<class 'unstructured.documents.elements.CompositeElement'>\n",
      "<class 'unstructured.documents.elements.Table'>\n",
      "<class 'unstructured.documents.elements.CompositeElement'>\n",
      "<class 'unstructured.documents.elements.Table'>\n",
      "<class 'unstructured.documents.elements.CompositeElement'>\n",
      "<class 'unstructured.documents.elements.Table'>\n",
      "<class 'unstructured.documents.elements.CompositeElement'>\n",
      "<class 'unstructured.documents.elements.Table'>\n",
      "<class 'unstructured.documents.elements.CompositeElement'>\n",
      "<class 'unstructured.documents.elements.Table'>\n",
      "<class 'unstructured.documents.elements.CompositeElement'>\n",
      "<class 'unstructured.documents.elements.Table'>\n",
      "<class 'unstructured.documents.elements.CompositeElement'>\n",
      "<class 'unstructured.documents.elements.Table'>\n",
      "<class 'unstructured.documents.elements.CompositeElement'>\n",
      "<class 'unstructured.documents.elements.Table'>\n",
      "<class 'unstructured.documents.elements.CompositeElement'>\n"
     ]
    }
   ],
   "source": [
    "for element in elements:\n",
    "  print(type(element))"
   ]
  },
  {
   "cell_type": "code",
   "execution_count": 10,
   "metadata": {
    "colab": {
     "base_uri": "https://localhost:8080/"
    },
    "id": "Uk1uVI0GrKEI",
    "outputId": "e1784f18-2e27-4a3d-b31b-49498b98fd9f"
   },
   "outputs": [
    {
     "name": "stdout",
     "output_type": "stream",
     "text": [
      "Three Months Ended June 30, In millions, except percentages and per share amounts 2024 2023 % Change Revenue $ 39,071 $ 31,999 22 % Costs and expenses 24,224 22,607 7 % Income from operations $ 14,847 $ 9,392 58 % Operating margin 38 % 29 % Provision for income taxes $ 1,641 $ 1,505 9 % Effective tax rate 11 % 16 % Net income $ 13,465 $ 7,788 73 % Diluted earnings per share (EPS) $ 5.16 $ 2.98 73 %\n",
      "2024 2023 2024 2023 Revenue $ 39,071 Costs and expenses: Cost of revenue 7,308 5,945 13,948 Research and development 10,537 9,344 20,515 Marketing and sales 2,721 3,154 5,285 General and administrative (1) 3,658 4,164 7,114 Total costs and expenses 24,224 22,607 46,862 Income from operations 14,847 9,392 28,665 Interest and other income (expense), net 259 (99) 624 Income before provision for income taxes 15,106 9,293 29,289 Provision for income taxes 1,641 1,505 3,455 Net income $ 13,465\n",
      "Basic $ 5.31 Diluted $ 5.16 Weighted-average shares used to compute earnings per share: Basic 2,534 2,568 2,540\n",
      "June 30, 2024 December 31, 2023 Assets Current assets: Cash and cash equivalents $ 32,045 $ 41,862 Marketable securities 26,035 23,541 Accounts receivable, net 14,505 16,169 Prepaid expenses and other current assets 3,846 3,793 Total current assets 76,431 85,365 Non-marketable equity securities 6,207 6,141 Property and equipment, net 102,959 96,587 Operating lease right-of-use assets 14,058 13,294 Goodwill 20,654 20,654 Other assets 9,929 7,582 Total assets $ 230,238 $ 229,623 Liabilities and stockholders' equity Current liabilities: Accounts payable $ 3,173 $ 4,849 Operating lease liabilities, current 1,917 1,623 Accrued expenses and other current liabilities 21,914 25,488 Total current liabilities 27,004 31,960 Operating lease liabilities, non-current 17,685 17,226 Long-term debt 18,389 18,385 Long-term income taxes 7,897 7,514 Other liabilities 2,500 1,370 Total liabilities 73,475 76,455 Commitments and contingencies Stockholders' equity:\n",
      "(2,695) (2,155) 81,188 82,070 156,763 153,168 $ 230,238 $ 229,623\n",
      "(Unaudited) 2024 2023 2024 2023 Cash flows from operating activities Net income $ 13,465 $ 7,788 $ 25,834 Adjustments to reconcile net income to net cash provided by operating activities: Depreciation and amortization 3,637 2,623 7,011 Share-based compensation 4,616 4,060 8,178 Deferred income taxes (1,643) (1,137) (2,098) Impairment charges for facilities consolidation, net 41 232 280 Other (6) 212 (71) Changes in assets and liabilities: Accounts receivable (1,171) (1,424) 1,350 Prepaid expenses and other current assets (84) (54) 16 Other assets 54 37 (41) Accounts payable 250 (51) (862) Accrued expenses and other current liabilities (497) 5,174 (1,771) Other liabilities 708 (151) 790 Net cash provided by operating activities 19,370 17,309 38,616 Cash flows from investing activities Purchases of property and equipment, net (8,173) (6,134) (14,573) Purchases of marketable debt securities (3,289) (717) (10,176) Sales and maturities of marketable debt securities 3,233 1,816 7,858 Acquisitions of businesses and intangible assets (57) (83) (129) Other investing activities (12) (85) (12) Net cash used in investing activities (8,298) (5,203) (17,032) Cash flows from financing activities Taxes paid related to net share settlement of equity awards (3,208) (1,692) (6,370) Repurchases of Class A common stock (6,299) (898) (21,307) Dividend payments (1,266) — (2,539) Proceeds from issuance of long-term debt, net — 8,455 — Principal payments on finance leases (299) (220) (614) Other financing activities (106) (353) (115) Net cash provided by (used in) financing activities (11,178) 5,292 (30,945) Effect of exchange rate changes on cash, cash equivalents, and restricted cash (152) (14) (440) Net increase (decrease) in cash, cash equivalents, and restricted cash (258) 17,384 (9,801) Cash, cash equivalents, and restricted cash at beginning of the period 33,284 12,420 42,827\n",
      "condensed consolidated balance sheets Cash and cash equivalents $ 32,045 $ 28,785 $ 32,045 Restricted cash, included in prepaid expenses and other current assets 100 165 100 Restricted cash, included in other assets 881 854 881 Total cash, cash equivalents, and restricted cash $ 33,026 $ 29,804 $ 33,026\n",
      "2024 2023 2024 2023 Supplemental cash flow data Cash paid for income taxes, net $ 5,929 $ 1,102 $ 6,559 Cash paid for interest, net of amounts capitalized $ 124 $ — $ 245 Non-cash investing and financing activities: Property and equipment in accounts payable and accrued expenses and other current liabilities $ 3,229 $ 3,845 $ 3,229 Acquisition of businesses and intangible assets in accrued expenses and other current liabilities and other liabilities $ 267 $ 217 $ 267\n",
      "Advertising $ 38,329 $ 31,498 $ 73,965 $ 59,599 Other revenue 389 225 769 430 Family of Apps 38,718 31,723 74,734 60,029 Reality Labs 353 276 793 616 Total revenue $ 39,071 $ 31,999 $ 75,527 $ 60,645 Income (loss) from operations: Family of Apps $ 19,335 $ 13,131 $ 36,999 $ 24,351 Reality Labs (4,488) (3,739) (8,334) (7,732) Total income from operations $ 14,847 $ 9,392 $ 28,665 $ 16,619\n",
      "2024 2023 2024 2023 $ 39,071 $ 31,999 $ 75,527 Foreign exchange effect on 2024 revenue using 2023 rates 371 265 Revenue excluding foreign exchange effect $ 39,442 $ 75,792 GAAP revenue year-over-year change % 22 % 25 % Revenue excluding foreign exchange effect year-over-year change % 23 % 25 % GAAP advertising revenue $ 38,329 $ 31,498 $ 73,965 Foreign exchange effect on 2024 advertising revenue using 2023 rates 367 261 Advertising revenue excluding foreign exchange effect $ 38,696 $ 74,226 GAAP advertising revenue year-over-year change % 22 % 24 % Advertising revenue excluding foreign exchange effect year-over-year 23 % 25 % Net cash provided by operating activities $ 19,370 $ 17,309 $ 38,616 Purchases of property and equipment, net (8,173) (6,134) (14,573) Principal payments on finance leases (299) (220) (614) $ 10,898 $ 10,955 $ 23,429\n"
     ]
    }
   ],
   "source": [
    "for element in elements:\n",
    "  if element.to_dict()['type'] == 'Table':\n",
    "    print(element.text)"
   ]
  },
  {
   "cell_type": "markdown",
   "metadata": {
    "id": "ONiDxMWGORbH"
   },
   "source": [
    "#### What a table element looks like after extraction:"
   ]
  },
  {
   "cell_type": "code",
   "execution_count": 11,
   "metadata": {
    "colab": {
     "base_uri": "https://localhost:8080/"
    },
    "id": "kpB8GotUsg_S",
    "outputId": "afc0dd03-5446-426f-eeab-3c6463964269"
   },
   "outputs": [
    {
     "name": "stdout",
     "output_type": "stream",
     "text": [
      "2024 2023 2024 2023 $ 39,071 $ 31,999 $ 75,527 Foreign exchange effect on 2024 revenue using 2023 rates 371 265 Revenue excluding foreign exchange effect $ 39,442 $ 75,792 GAAP revenue year-over-year change % 22 % 25 % Revenue excluding foreign exchange effect year-over-year change % 23 % 25 % GAAP advertising revenue $ 38,329 $ 31,498 $ 73,965 Foreign exchange effect on 2024 advertising revenue using 2023 rates 367 261 Advertising revenue excluding foreign exchange effect $ 38,696 $ 74,226 GAAP advertising revenue year-over-year change % 22 % 24 % Advertising revenue excluding foreign exchange effect year-over-year 23 % 25 % Net cash provided by operating activities $ 19,370 $ 17,309 $ 38,616 Purchases of property and equipment, net (8,173) (6,134) (14,573) Principal payments on finance leases (299) (220) (614) $ 10,898 $ 10,955 $ 23,429\n"
     ]
    }
   ],
   "source": [
    "print(elements[-2])"
   ]
  },
  {
   "cell_type": "markdown",
   "metadata": {
    "id": "p34wMxcIOZXi"
   },
   "source": [
    "## Embed Extracted Elements with OpenAI Embedding Model\n"
   ]
  },
  {
   "cell_type": "code",
   "execution_count": 12,
   "metadata": {
    "id": "b8kjpK7FHwNK"
   },
   "outputs": [],
   "source": [
    "from unstructured.embed.openai import OpenAIEmbeddingConfig, OpenAIEmbeddingEncoder\n",
    "\n",
    "embedding_encoder = OpenAIEmbeddingEncoder(\n",
    "    config=OpenAIEmbeddingConfig(\n",
    "      api_key=os.getenv(\"OPENAI_API_KEY\"),\n",
    "      model_name=\"text-embedding-3-small\",\n",
    "    )\n",
    ")\n",
    "elements = embedding_encoder.embed_documents(\n",
    "    elements=elements\n",
    ")"
   ]
  },
  {
   "cell_type": "markdown",
   "metadata": {
    "id": "iRgWJLJdOdSu"
   },
   "source": [
    "### Store original elements in a dataframe"
   ]
  },
  {
   "cell_type": "code",
   "execution_count": 13,
   "metadata": {
    "colab": {
     "base_uri": "https://localhost:8080/",
     "height": 293
    },
    "id": "pww9sgG8Bf-X",
    "outputId": "2a62b888-f389-4631-bf71-6ed03016f342"
   },
   "outputs": [
    {
     "data": {
      "text/html": [
       "<div>\n",
       "<style scoped>\n",
       "    .dataframe tbody tr th:only-of-type {\n",
       "        vertical-align: middle;\n",
       "    }\n",
       "\n",
       "    .dataframe tbody tr th {\n",
       "        vertical-align: top;\n",
       "    }\n",
       "\n",
       "    .dataframe thead th {\n",
       "        text-align: right;\n",
       "    }\n",
       "</style>\n",
       "<table border=\"1\" class=\"dataframe\">\n",
       "  <thead>\n",
       "    <tr style=\"text-align: right;\">\n",
       "      <th></th>\n",
       "      <th>id</th>\n",
       "      <th>text</th>\n",
       "      <th>metadata</th>\n",
       "      <th>embedding</th>\n",
       "    </tr>\n",
       "  </thead>\n",
       "  <tbody>\n",
       "    <tr>\n",
       "      <th>0</th>\n",
       "      <td>7673dd5dd3348ca922edfeb765c4f8ec</td>\n",
       "      <td>b'FACEBOOK\\n\\nNEWS RELEASE\\n\\nMeta Reports Sec...</td>\n",
       "      <td>{'filetype': 'application/pdf', 'languages': [...</td>\n",
       "      <td>[0.057783662762384565, 0.015500455026484948, 0...</td>\n",
       "    </tr>\n",
       "    <tr>\n",
       "      <th>1</th>\n",
       "      <td>0042c2ce77a154ed737cfb0d9b20b598</td>\n",
       "      <td>b'Three Months Ended June 30, In millions, exc...</td>\n",
       "      <td>{'last_modified': '2024-07-31T21:06:06', 'file...</td>\n",
       "      <td>[0.011829043858470036, 0.013133554749833454, 0...</td>\n",
       "    </tr>\n",
       "    <tr>\n",
       "      <th>2</th>\n",
       "      <td>1006ba147b4696dcfa364d82a7cc3ff9</td>\n",
       "      <td>b'Second Quarter 2024 Operational and Other Fi...</td>\n",
       "      <td>{'filetype': 'application/pdf', 'languages': [...</td>\n",
       "      <td>[0.07881357843105635, 0.010791519166744949, 0....</td>\n",
       "    </tr>\n",
       "    <tr>\n",
       "      <th>3</th>\n",
       "      <td>3ccaeebfca3cd0b37f89d9865ed86620</td>\n",
       "      <td>b\"CFO Outlook Commentary\\n\\nWe expect third qu...</td>\n",
       "      <td>{'filetype': 'application/pdf', 'languages': [...</td>\n",
       "      <td>[0.06501258679384729, 0.02305678941583444, -0....</td>\n",
       "    </tr>\n",
       "    <tr>\n",
       "      <th>4</th>\n",
       "      <td>f83ab884e1b7f6cd22bb6fec166375de</td>\n",
       "      <td>b'About Meta\\n\\nMeta builds technologies that ...</td>\n",
       "      <td>{'filetype': 'application/pdf', 'languages': [...</td>\n",
       "      <td>[0.044354494483358486, -0.008683296817018685, ...</td>\n",
       "    </tr>\n",
       "  </tbody>\n",
       "</table>\n",
       "</div>"
      ],
      "text/plain": [
       "                                 id  \\\n",
       "0  7673dd5dd3348ca922edfeb765c4f8ec   \n",
       "1  0042c2ce77a154ed737cfb0d9b20b598   \n",
       "2  1006ba147b4696dcfa364d82a7cc3ff9   \n",
       "3  3ccaeebfca3cd0b37f89d9865ed86620   \n",
       "4  f83ab884e1b7f6cd22bb6fec166375de   \n",
       "\n",
       "                                                text  \\\n",
       "0  b'FACEBOOK\\n\\nNEWS RELEASE\\n\\nMeta Reports Sec...   \n",
       "1  b'Three Months Ended June 30, In millions, exc...   \n",
       "2  b'Second Quarter 2024 Operational and Other Fi...   \n",
       "3  b\"CFO Outlook Commentary\\n\\nWe expect third qu...   \n",
       "4  b'About Meta\\n\\nMeta builds technologies that ...   \n",
       "\n",
       "                                            metadata  \\\n",
       "0  {'filetype': 'application/pdf', 'languages': [...   \n",
       "1  {'last_modified': '2024-07-31T21:06:06', 'file...   \n",
       "2  {'filetype': 'application/pdf', 'languages': [...   \n",
       "3  {'filetype': 'application/pdf', 'languages': [...   \n",
       "4  {'filetype': 'application/pdf', 'languages': [...   \n",
       "\n",
       "                                           embedding  \n",
       "0  [0.057783662762384565, 0.015500455026484948, 0...  \n",
       "1  [0.011829043858470036, 0.013133554749833454, 0...  \n",
       "2  [0.07881357843105635, 0.010791519166744949, 0....  \n",
       "3  [0.06501258679384729, 0.02305678941583444, -0....  \n",
       "4  [0.044354494483358486, -0.008683296817018685, ...  "
      ]
     },
     "execution_count": 13,
     "metadata": {},
     "output_type": "execute_result"
    }
   ],
   "source": [
    "import pandas as pd\n",
    "data = []\n",
    "\n",
    "for c in elements:\n",
    "  row = {}\n",
    "  row['id'] = c.id\n",
    "  row['text'] = c.text.encode()\n",
    "  row['metadata'] = c.metadata.to_dict()\n",
    "  row['embedding'] = c.embeddings\n",
    "  data.append(row)\n",
    "\n",
    "df_non_contextualized = pd.DataFrame(data)\n",
    "df_non_contextualized.head()"
   ]
  },
  {
   "cell_type": "markdown",
   "metadata": {
    "id": "Ys4lbO6WOmGA"
   },
   "source": [
    "### Create contextualized descriptions and markdown formatted tables, these new chunks will be used in place of the old table descriptions"
   ]
  },
  {
   "cell_type": "code",
   "execution_count": 14,
   "metadata": {
    "colab": {
     "base_uri": "https://localhost:8080/"
    },
    "id": "Spm1xSlRu6zo",
    "outputId": "6812aa39-08cd-4326-ab90-62103d7ead72"
   },
   "outputs": [
    {
     "name": "stdout",
     "output_type": "stream",
     "text": [
      "Processing complete.\n"
     ]
    }
   ],
   "source": [
    "import os\n",
    "import openai\n",
    "from openai import OpenAI\n",
    "\n",
    "# Initialize the OpenAI client\n",
    "client = OpenAI(api_key=os.getenv(\"OPENAI_API_KEY\"))\n",
    "\n",
    "def get_table_description(table_content, document_context):\n",
    "    prompt = f\"\"\"\n",
    "    Given the following table and its context from the original document,\n",
    "    provide a detailed description of the table. Then, include the table in markdown format.\n",
    "\n",
    "    Original Document Context:\n",
    "    {document_context}\n",
    "\n",
    "    Table Content:\n",
    "    {table_content}\n",
    "\n",
    "    Please provide:\n",
    "    1. A comprehensive description of the table.\n",
    "    2. The table in markdown format.\n",
    "    \"\"\"\n",
    "\n",
    "    response = client.chat.completions.create(\n",
    "        model=\"gpt-4o-2024-08-06\",\n",
    "        messages=[\n",
    "            {\"role\": \"system\", \"content\": \"You are a helpful assistant that describes tables and formats them in markdown.\"},\n",
    "            {\"role\": \"user\", \"content\": prompt}\n",
    "        ]\n",
    "    )\n",
    "\n",
    "    return response.choices[0].message.content\n",
    "\n",
    "def extract_text_from_pdf(pdf_path):\n",
    "    text = \"\"\n",
    "    with fitz.open(pdf_path) as doc:\n",
    "        for page in doc:\n",
    "            text += page.get_text()\n",
    "    return text\n",
    "\n",
    "pdf_path = './doc1.pdf'\n",
    "document_content = extract_text_from_pdf(pdf_path)\n",
    "\n",
    "# Process each table in the directory\n",
    "for element in elements:\n",
    "  if element.to_dict()['type'] == 'Table':\n",
    "    table_content = element.to_dict()['text']\n",
    "\n",
    "    # Get description and markdown table from GPT-4\n",
    "    result = get_table_description(table_content, document_content)\n",
    "    element.text = result\n",
    "\n",
    "print(\"Processing complete.\")\n"
   ]
  },
  {
   "cell_type": "markdown",
   "metadata": {
    "id": "TDRmYwSzgmSI"
   },
   "source": [
    "## Embed Extracted Text Elements and Updated Table Elements with OpenAI Embedding Model"
   ]
  },
  {
   "cell_type": "code",
   "execution_count": 15,
   "metadata": {
    "id": "TBcWCfpPPuxU"
   },
   "outputs": [],
   "source": [
    "from unstructured.embed.openai import OpenAIEmbeddingConfig, OpenAIEmbeddingEncoder\n",
    "\n",
    "embedding_encoder = OpenAIEmbeddingEncoder(\n",
    "    config=OpenAIEmbeddingConfig(\n",
    "      api_key=os.getenv(\"OPENAI_API_KEY\"),\n",
    "      model_name=\"text-embedding-3-small\",\n",
    "    )\n",
    ")\n",
    "elements = embedding_encoder.embed_documents(\n",
    "    elements=elements\n",
    ")"
   ]
  },
  {
   "cell_type": "markdown",
   "metadata": {
    "id": "FFT8QZswPvfX"
   },
   "source": [
    "### Take a look through the new contextualized table elements:"
   ]
  },
  {
   "cell_type": "code",
   "execution_count": 16,
   "metadata": {
    "colab": {
     "base_uri": "https://localhost:8080/"
    },
    "id": "Z0yGd3NgkmMB",
    "outputId": "ed1e4556-e986-48f7-bb1f-6257c5e2586f"
   },
   "outputs": [
    {
     "name": "stdout",
     "output_type": "stream",
     "text": [
      "### Comprehensive Description of the Table\n",
      "\n",
      "The table presents a financial overview of Meta Platforms, Inc. for the second quarter, ending June 30, 2024, in comparison to the same period in 2023. The key financial metrics outlined in the table are revenue, costs and expenses, income from operations, operating margin, provision for income taxes, effective tax rate, net income, and diluted earnings per share (EPS). \n",
      "\n",
      "1. **Revenue**: Meta reported revenue of $39.071 billion in Q2 2024, a 22% increase from $31.999 billion in Q2 2023.\n",
      "\n",
      "2. **Costs and Expenses**: Costs and expenses for Q2 2024 amounted to $24.224 billion, up 7% from $22.607 billion in Q2 2023.\n",
      "\n",
      "3. **Income from Operations**: The income from operations saw a significant rise of 58%, reaching $14.847 billion in Q2 2024, compared to $9.392 billion in Q2 2023.\n",
      "\n",
      "4. **Operating Margin**: The operating margin improved to 38% in Q2 2024 from 29% in the same quarter of the previous year.\n",
      "\n",
      "5. **Provision for Income Taxes**: The provision for income taxes was $1.641 billion in Q2 2024, marking a 9% rise from $1.505 billion in 2023.\n",
      "\n",
      "6. **Effective Tax Rate**: The effective tax rate decreased to 11% in Q2 2024, down from 16% in Q2 2023.\n",
      "\n",
      "7. **Net Income**: Net income greatly increased by 73% to $13.465 billion for Q2 2024 from $7.788 billion in Q2 2023.\n",
      "\n",
      "8. **Diluted Earnings Per Share (EPS)**: Diluted EPS also reflected a 73% increase, moving from $2.98 in Q2 2023 to $5.16 in Q2 2024.\n",
      "\n",
      "### Markdown Representation of the Table\n",
      "\n",
      "```markdown\n",
      "| Financial Metric                         | Q2 2024 Amount ($ Millions) | Q2 2023 Amount ($ Millions) | % Change |\n",
      "|------------------------------------------|-----------------------------|-----------------------------|----------|\n",
      "| Revenue                                  | 39,071                      | 31,999                      | 22%      |\n",
      "| Costs and Expenses                       | 24,224                      | 22,607                      | 7%       |\n",
      "| Income from Operations                   | 14,847                      | 9,392                       | 58%      |\n",
      "| Operating Margin                         | 38%                         | 29%                         | -        |\n",
      "| Provision for Income Taxes               | 1,641                       | 1,505                       | 9%       |\n",
      "| Effective Tax Rate                       | 11%                         | 16%                         | -        |\n",
      "| Net Income                               | 13,465                      | 7,788                       | 73%      |\n",
      "| Diluted Earnings Per Share (EPS)         | 5.16                        | 2.98                        | 73%      |\n",
      "```\n",
      "\n",
      "This table provides a succinct summary of Meta's financial performance, highlighting the growth and efficiency improvements in the company's operations over the one-year period.\n",
      "The table presented shows the condensed consolidated statements of income for Meta Platforms, Inc., comparing financial performance metrics for the three months ending June 30, 2024, and 2023. It also provides data for the six months ended June 30 for both years. The numbers are in millions of dollars, except where per share values are involved. Key metrics listed include Revenue, Costs and Expenses broken down into several categories, Income from Operations, Interest and Other Income (Expense), Income Before Provision for Income Taxes, Provision for Income Taxes, and Net Income. Additionally, there's information on Earnings Per Share, both Basic and Diluted, alongside the weighted-average shares used to compute these per share amounts.\n",
      "\n",
      "Key insights from the table:\n",
      "\n",
      "1. **Revenue:** There was a significant increase in revenue from $31,999 million in 2023 to $39,071 million in 2024, showing a positive growth trajectory.\n",
      "   \n",
      "2. **Costs and Expenses:** This section is divided into Cost of Revenue, Research and Development, Marketing and Sales, and General and Administrative expenses. While total expenses increased from $22,607 million in 2023 to $24,224 million in 2024, the most notable increase was in Research and Development.\n",
      "\n",
      "3. **Income from Operations:** Reflects strong operational efficiency, growing substantially from $9,392 million in 2023 to $14,847 million in 2024.\n",
      "\n",
      "4. **Net Income:** There is a substantial increase in net income from $7,788 million to $13,465 million year-over-year.\n",
      "\n",
      "5. **Earnings Per Share:** Both basic and diluted earnings per share showed significant growth, reflecting improved profitability per share issued.\n",
      "\n",
      "Below is the table in markdown format:\n",
      "\n",
      "```markdown\n",
      "### Meta Platforms, Inc. Condensed Consolidated Statements of Income\n",
      "\n",
      "| Metric                                         | Three Months Ended June 30, 2024 | Three Months Ended June 30, 2023 | Six Months Ended June 30, 2024 | Six Months Ended June 30, 2023 |\n",
      "|------------------------------------------------|-----------------------------------|----------------------------------|--------------------------------|-------------------------------|\n",
      "| **Revenue**                                    | $39,071                           | $31,999                          | $75,527                        | $60,645                       |\n",
      "| **Costs and Expenses:**                          |                                   |                                  |                                |                               |\n",
      "| - Cost of Revenue                              | 7,308                             | 5,945                            | 13,948                         | 12,054                        |\n",
      "| - Research and Development                     | 10,537                            | 9,344                            | 20,515                         | 18,725                        |\n",
      "| - Marketing and Sales                          | 2,721                             | 3,154                            | 5,285                          | 6,198                         |\n",
      "| - General and Administrative (1)               | 3,658                             | 4,164                            | 7,114                          | 7,049                         |\n",
      "| **Total Costs and Expenses**                   | 24,224                            | 22,607                           | 46,862                         | 44,026                        |\n",
      "| **Income from Operations**                     | 14,847                            | 9,392                            | 28,665                         | 16,619                        |\n",
      "| **Interest and Other Income (Expense), Net**   | 259                               | (99)                             | 624                            | (19)                          |\n",
      "| **Income Before Provision for Income Taxes**   | 15,106                            | 9,293                            | 29,289                         | 16,600                        |\n",
      "| **Provision for Income Taxes**                 | 1,641                             | 1,505                            | 3,455                          | 3,102                         |\n",
      "| **Net Income**                                 | $13,465                           | $7,788                           | $25,834                        | $13,498                       |\n",
      "| **Earnings Per Share:**                         |                                   |                                  |                                |                               |\n",
      "| - Basic                                        | $5.31                             | $3.03                            | $10.17                         | $5.24                         |\n",
      "| - Diluted                                      | $5.16                             | $2.98                            | $9.86                          | $5.18                         |\n",
      "| **Weighted-average shares used to compute EPS:** |                                    |                                  |                                |                               |\n",
      "| - Basic                                        | 2,534                             | 2,568                            | 2,540                          | 2,577                         |\n",
      "| - Diluted                                      | 2,610                             | 2,612                            | 2,619                          | 2,604                         |\n",
      "\n",
      "*(1) The second quarter 2024 general and administrative expenses include a charge for the recent settlement with the State of Texas. The settlement amount is fully accrued as of June 30, 2024.*\n",
      "```\n",
      "\n",
      "This table offers a detailed snapshot of Meta's financial health, emphasizing increased revenue and net income, alongside robust operational performance over the periods compared. The inclusion of both quarterly and half-year figures provides a broader perspective on the company's financial trajectory.\n",
      "The table provided is an excerpt from Meta Platforms, Inc.'s financial summary for the second quarter of 2024. Specifically, it highlights the earnings per share, both basic and diluted, for the three months ended June 30, 2024. The table provides three key data points:\n",
      "\n",
      "1. **Earnings per Share (EPS)**: This is broken down into two types:\n",
      "   - **Basic EPS**: $5.31 per share, which represents the company's net income divided by the weighted-average number of outstanding shares during the period. It reflects the earnings available to each share of common stock.\n",
      "   - **Diluted EPS**: $5.16 per share, which takes into account all potential shares that could be created through convertible securities, options, or other similar mechanisms. This measure provides insights into the potential impact on earnings if these potential shares were to be converted.\n",
      "\n",
      "2. **Weighted-average Shares Used to Compute Earnings per Share**: This indicates the average number of shares that were used to calculate the basic and diluted EPS. The basic EPS calculation used 2,534 million shares, while the same figure for the preceding year (2023) was 2,568 million for basic EPS, and the current period accounts, 2,540 million shares.\n",
      "\n",
      "The data is crucial for understanding the company's profitability on a per-share basis during the second quarter of 2024 and highlights how share dilution could potentially affect earnings per share.\n",
      "\n",
      "Here is the table in markdown format:\n",
      "\n",
      "```markdown\n",
      "| Earnings per share                      | 2024  | 2023  |\n",
      "|-----------------------------------------|-------|-------|\n",
      "| Basic EPS                               | $5.31 |       |\n",
      "| Diluted EPS                             | $5.16 |       |\n",
      "| Weighted-average shares (basic, million)| 2,534 | 2,568 |\n",
      "\n",
      "```\n",
      "\n",
      "This markdown table organizes the earnings per share and the weighted-average shares efficiently, providing a clear view of the financial metrics related to sharholders' interests in the second quarter of 2024.\n",
      "### Comprehensive Description\n",
      "\n",
      "The table provides a detailed snapshot of Meta Platforms, Inc.'s financial position as of June 30, 2024, compared to December 31, 2023. This condensed consolidated balance sheet outlines various asset categories alongside liabilities and stockholders' equity, revealing the company's financial health at these two points in time.\n",
      "\n",
      "#### Assets\n",
      "\n",
      "1. **Current Assets:**\n",
      "   - **Cash and Cash Equivalents:** A decrease from $41,862 million in December 2023 to $32,045 million in June 2024, indicating reduced liquidity.\n",
      "   - **Marketable Securities:** Increased to $26,035 million from $23,541 million, showing higher short-term investments.\n",
      "   - **Accounts Receivable, Net:** A decrease, reflecting a drop from $16,169 million to $14,505 million, which might suggest better collection or reduced sales on credit.\n",
      "   - **Prepaid Expenses and Other Current Assets:** Slight increase, ending at $3,846 million from $3,793 million.\n",
      "   - **Total Current Assets:** Decreased from $85,365 million to $76,431 million, suggesting a reduction in readily available assets.\n",
      "\n",
      "2. **Non-current Assets:**\n",
      "   - **Non-marketable Equity Securities:** Remained relatively stable, with a slight increase to $6,207 million.\n",
      "   - **Property and Equipment, Net:** Significant increase to $102,959 million from $96,587 million, suggesting capital investments.\n",
      "   - **Operating Lease Right-of-Use Assets:** Increased slightly to $14,058 million.\n",
      "   - **Goodwill:** Constant at $20,654 million, reflecting the value of acquired business units.\n",
      "   - **Other Assets:** Increased to $9,929 million from $7,582 million, indicating potential growth or new investments.\n",
      "   - **Total Assets:** A small increase from $229,623 million to $230,238 million, showing slight overall asset growth.\n",
      "\n",
      "#### Liabilities and Stockholders' Equity\n",
      "\n",
      "1. **Current Liabilities:**\n",
      "   - **Accounts Payable:** Decreased from $4,849 million to $3,173 million, suggesting that less is owed to suppliers.\n",
      "   - **Operating Lease Liabilities, Current:** Slight increase to $1,917 million.\n",
      "   - **Accrued Expenses and Other Current Liabilities:** Decreased to $21,914 million from $25,488 million, perhaps reflecting payment of expenses or liabilities.\n",
      "   - **Total Current Liabilities:** Decreased substantially, indicating a reduction in short-term obligations.\n",
      "\n",
      "2. **Non-current Liabilities:**\n",
      "   - **Operating Lease Liabilities, Non-current:** Marginal increase to $17,685 million.\n",
      "   - **Long-term Debt:** Rose slightly to $18,389 million.\n",
      "   - **Long-term Income Taxes:** Increased to $7,897 million.\n",
      "   - **Other Liabilities:** Notable increase to $2,500 million from $1,370 million.\n",
      "   - **Total Liabilities:** Decreased slightly to $73,475 million, indicating reduced obligations.\n",
      "\n",
      "3. **Stockholders' Equity:**\n",
      "   - **Common Stock and Additional Paid-in Capital:** Increased to $78,270 million, suggesting new stock issuances or capital infusions.\n",
      "   - **Accumulated Other Comprehensive Loss:** Widened slightly to $(2,695) million, indicating possible unrealized losses.\n",
      "   - **Retained Earnings:** Decreased to $81,188 million, which might imply dividend payouts or other distributions.\n",
      "   - **Total Stockholders' Equity:** Rose to $156,763 million, reflecting a stronger equity position.\n",
      "\n",
      "#### Overall Summary\n",
      "\n",
      "The table reflects Meta's financial activities over the half-year, with investments in property and equipment alongside fluctuations in liabilities and equity positions. Despite lower cash reserves, the company shows an increase in equity and capacity for operations through new and strategic investments.\n",
      "\n",
      "### Table in Markdown Format\n",
      "\n",
      "```markdown\n",
      "### Meta Platforms, Inc. Condensed Consolidated Balance Sheets (In Millions)\n",
      "\n",
      "| Assets                                 | June 30, 2024 | December 31, 2023 |\n",
      "|----------------------------------------|---------------|-------------------|\n",
      "| **Current Assets:**                    |               |                   |\n",
      "| Cash and cash equivalents              | $32,045       | $41,862           |\n",
      "| Marketable securities                  | $26,035       | $23,541           |\n",
      "| Accounts receivable, net               | $14,505       | $16,169           |\n",
      "| Prepaid expenses and other current assets | $3,846     | $3,793            |\n",
      "| **Total current assets**               | **$76,431**   | **$85,365**       |\n",
      "| **Non-current Assets:**                |               |                   |\n",
      "| Non-marketable equity securities       | $6,207        | $6,141            |\n",
      "| Property and equipment, net            | $102,959      | $96,587           |\n",
      "| Operating lease right-of-use assets    | $14,058       | $13,294           |\n",
      "| Goodwill                               | $20,654       | $20,654           |\n",
      "| Other assets                           | $9,929        | $7,582            |\n",
      "| **Total assets**                       | **$230,238**  | **$229,623**      |\n",
      "\n",
      "| Liabilities and Stockholders' Equity    | June 30, 2024 | December 31, 2023 |\n",
      "|-----------------------------------------|---------------|-------------------|\n",
      "| **Current Liabilities:**                |               |                   |\n",
      "| Accounts payable                        | $3,173        | $4,849            |\n",
      "| Operating lease liabilities, current    | $1,917        | $1,623            |\n",
      "| Accrued expenses and other current liabilities | $21,914 | $25,488           |\n",
      "| **Total current liabilities**           | **$27,004**   | **$31,960**       |\n",
      "| **Non-current Liabilities:**            |               |                   |\n",
      "| Operating lease liabilities, non-current | $17,685      | $17,226           |\n",
      "| Long-term debt                          | $18,389       | $18,385           |\n",
      "| Long-term income taxes                  | $7,897        | $7,514            |\n",
      "| Other liabilities                       | $2,500        | $1,370            |\n",
      "| **Total liabilities**                   | **$73,475**   | **$76,455**       |\n",
      "| **Stockholders' Equity:**               |               |                   |\n",
      "| Common stock and additional paid-in capital | $78,270   | $73,253           |\n",
      "| Accumulated other comprehensive loss    | $(2,695)      | $(2,155)          |\n",
      "| Retained earnings                       | $81,188       | $82,070           |\n",
      "| **Total stockholders' equity**            | **$156,763**  | **$153,168**      |\n",
      "| **Total liabilities and stockholders' equity** | **$230,238**  | **$229,623**     |\n",
      "```\n",
      "\n",
      "### Comprehensive Description of the Table\n",
      "\n",
      "The table below represents a section of Meta Platforms, Inc.'s financial results as reported for the second quarter ending June 30, 2024. This snippet specifically focuses on the balance of stockholders' equity from the company's condensed consolidated balance sheets. Here's what the table contains:\n",
      "\n",
      "- **Accumulated Other Comprehensive Loss**: This column represents the losses on investments and pension liabilities that are not reported on the income statement though they affect equity.\n",
      "- **Retained Earnings**: This reflects the net income that the company has retained, rather than distributed as dividends to shareholders.\n",
      "- **Total Stockholders' Equity**: Total equity attributable to shareholders after accounting for share capital and retained earnings.\n",
      "- **Total Assets**: This is the consolidation of all the resources owned by Meta Platforms, Inc.\n",
      "\n",
      "The figures are presented for two different dates: June 30, 2024, and December 31, 2023, for comparative purposes. This provides insight into the company's financial standing and equity changes over time.\n",
      "\n",
      "### Table in Markdown Format\n",
      "\n",
      "```markdown\n",
      "|                        | June 30, 2024  | December 31, 2023 |\n",
      "|------------------------|---------------|-------------------|\n",
      "| **Accumulated Other Comprehensive Loss** | (2,695)         | (2,155)             |\n",
      "| **Retained Earnings**  | 81,188        | 82,070           |\n",
      "| **Total Stockholders' Equity** | 156,763        | 153,168           |\n",
      "| **Total Assets**       | $230,238      | $229,623         |\n",
      "```\n",
      "\n",
      "This markdown table effectively summarizes the equity section changes of Meta Platforms, Inc.'s financial results for the given period.\n",
      "### Description of the Table\n",
      "\n",
      "The table provided is a segment of Meta Platforms, Inc.'s condensed consolidated statement of cash flows (unaudited), detailing the cash flow activities for Meta in both the three and six months ended June 30, 2024, compared to the corresponding periods in 2023. The table delineates the cash inflows and outflows across three primary activities: operating, investing, and financing, including detailed line items for specific components within each category.\n",
      "\n",
      "**1. Operating Activities:**\n",
      "   - This section begins with net income, a clear indicator of profitability. Several adjustments related to non-cash items and changes in working capital are then added back or subtracted. These include depreciation and amortization, share-based compensation, deferred income taxes, impairment charges, and other minor adjustments. Changes in assets and liabilities such as accounts receivable, prepaid expenses, accounts payable, and accrued expenses are also adjusted to reconcile to net cash provided by operating activities.\n",
      "\n",
      "**2. Investing Activities:**\n",
      "   - The table outlines the purchase of property and equipment, highlight sales and maturities of marketable debt securities, and account for acquisitions of businesses and other intangible assets, net of any sales. The net effect of these activities results in net cash used in investing activities.\n",
      "\n",
      "**3. Financing Activities:**\n",
      "   - This section includes cash flows from activities such as taxes paid associated with net share settlements, repurchases of Class A common stock, dividend payments, proceeds from long-term debt, and principal payments on finance leases. The net effect of these activities is net cash used in financing activities.\n",
      "\n",
      "Finally, the table shows the effect of exchange rate changes on cash and the net increase or decrease in cash, cash equivalents, and restricted cash over the periods. It concludes with the cash balance at the beginning and end of the period.\n",
      "\n",
      "### Markdown Table\n",
      "\n",
      "```markdown\n",
      "## Meta Platforms, Inc.\n",
      "### Condensed Consolidated Statements of Cash Flows\n",
      "#### (In millions, Unaudited)\n",
      "\n",
      "|                                | Three Months Ended June 30, | Six Months Ended June 30,  |\n",
      "|--------------------------------|-----------------------------|----------------------------|\n",
      "|                                | 2024      | 2023      | 2024       | 2023     |\n",
      "| **Cash flows from operating activities** |  |  |  |  |\n",
      "| Net income                     | $13,465   | $7,788    | $25,834    |          |\n",
      "| Adjustments to reconcile net income to net cash provided by operating activities: |  |  |  |  |\n",
      "| Depreciation and amortization  | 3,637     | 2,623     | 7,011      |          |\n",
      "| Share-based compensation       | 4,616     | 4,060     | 8,178      |          |\n",
      "| Deferred income taxes          | (1,643)   | (1,137)   | (2,098)    |          |\n",
      "| Impairment charges for facilities consolidation, net | 41        | 232       | 280        |          |\n",
      "| Other                          | (6)       | 212       | (71)       |          |\n",
      "| Changes in assets and liabilities: |  |  |  |  |\n",
      "| Accounts receivable            | (1,171)   | (1,424)   | 1,350      |          |\n",
      "| Prepaid expenses and other current assets | (84)      | (54)      | 16         |          |\n",
      "| Other assets                   | 54        | 37        | (41)       |          |\n",
      "| Accounts payable               | 250       | (51)      | (862)      |          |\n",
      "| Accrued expenses and other current liabilities | (497)    | 5,174     | (1,771)    |          |\n",
      "| Other liabilities              | 708       | (151)     | 790        |          |\n",
      "| **Net cash provided by operating activities** | 19,370    | 17,309    | 38,616     |          |\n",
      "| **Cash flows from investing activities** |  |  |  |  |\n",
      "| Purchases of property and equipment, net | (8,173)   | (6,134)   | (14,573)   |          |\n",
      "| Purchases of marketable debt securities | (3,289)   | (717)     | (10,176)   |          |\n",
      "| Sales and maturities of marketable debt securities | 3,233     | 1,816     | 7,858      |          |\n",
      "| Acquisitions of businesses and intangible assets | (57)       | (83)      | (129)      |          |\n",
      "| Other investing activities     | (12)      | (85)      | (12)       |          |\n",
      "| **Net cash used in investing activities** | (8,298)   | (5,203)   | (17,032)   |          |\n",
      "| **Cash flows from financing activities** |  |  |  |  |\n",
      "| Taxes paid related to net share settlement of equity awards | (3,208)   | (1,692)   | (6,370)    |          |\n",
      "| Repurchases of Class A common stock | (6,299)   | (898)     | (21,307)   |          |\n",
      "| Dividend payments              | (1,266)   | —         | (2,539)    |          |\n",
      "| Proceeds from issuance of long-term debt, net | —         | 8,455     | —          |          |\n",
      "| Principal payments on finance leases | (299)     | (220)     | (614)      |          |\n",
      "| Other financing activities     | (106)     | (353)     | (115)      |          |\n",
      "| **Net cash provided by (used in) financing activities** | (11,178)  | 5,292     | (30,945)   |          |\n",
      "| Effect of exchange rate changes on cash, cash equivalents, and restricted cash | (152)     | (14)      | (440)      |          |\n",
      "| **Net increase (decrease) in cash, cash equivalents, and restricted cash** | (258)     | 17,384    | (9,801)    |          |\n",
      "| Cash, cash equivalents, and restricted cash at beginning of the period | 33,284    | 12,420    | 42,827     |          |\n",
      "```\n",
      "\n",
      "This table captures the company's financial activity over the specified periods, providing insight into their operating efficiency, investment expenditure, and financing strategy.\n",
      "Here's a detailed description of the table and its presentation in markdown format:\n",
      "\n",
      "### Table Description\n",
      "\n",
      "The table is a segment from the condensed consolidated balance sheets of Meta Platforms, Inc., detailing the company's cash resources. The data is presented for two time periods: June 30, 2024, and June 30, 2023. It lists the dollar values in millions for \"Cash and cash equivalents,\" \"Restricted cash, included in prepaid expenses and other current assets,\" and \"Restricted cash, included in other assets.\" The table then calculates the \"Total cash, cash equivalents, and restricted cash\" by summing the relevant subcategories for each of the specified periods. \n",
      "\n",
      "- **Cash and Cash Equivalents:** Represents the amount of highly liquid cash and investments held by the company, which are easily convertible to known amounts of cash.\n",
      "- **Restricted Cash:** Divided into two categories:\n",
      "  - **Included in Prepaid Expenses and Other Current Assets:** This refers to cash which is restricted by contractual obligations that might include items expected to be settled in the near-term.\n",
      "  - **Included in Other Assets:** This accounts for cash that is restricted due to longer-term obligations.\n",
      "- **Total Cash, Cash Equivalents, and Restricted Cash:** This is the sum total of all the cash resources, both unrestricted and restricted, that the company has at its disposal.\n",
      "\n",
      "### Table in Markdown Format\n",
      "\n",
      "```markdown\n",
      "| Description                                               | June 30, 2024 | June 30, 2023 | June 30, 2024 |\n",
      "|-----------------------------------------------------------|---------------|---------------|---------------|\n",
      "| Cash and cash equivalents                                 | $32,045       | $28,785       | $32,045       |\n",
      "| Restricted cash, included in prepaid expenses and other current assets | $100          | $165          | $100          |\n",
      "| Restricted cash, included in other assets                 | $881          | $854          | $881          |\n",
      "| **Total cash, cash equivalents, and restricted cash**     | **$33,026**   | **$29,804**   | **$33,026**   |\n",
      "```\n",
      "\n",
      "This representation provides an overview of the company's liquidity position through its cash and cash equivalents both unrestricted and restricted for different financial operations or obligations.\n",
      "The table provided is a snippet of Meta Platforms, Inc.'s financial report, specifically focusing on the supplemental cash flow data for the second quarter of 2024 compared to the same period in 2023. This data is crucial for understanding the company's cash flow dynamics and its investment and financing activities.\n",
      "\n",
      "Here's a detailed breakdown of the table contents:\n",
      "\n",
      "1. **Cash Paid for Income Taxes, Net**: This figure represents the total cash Meta paid for income taxes during the reported periods. For the three months ended June 30, 2024, Meta paid $5,929 million, a significant increase from $1,102 million in 2023. Similarly, for the six months ended June 30, 2024, cash paid for income taxes was $6,559 million, highlighting the company's tax obligations.\n",
      "\n",
      "2. **Cash Paid for Interest, Net of Amounts Capitalized**: This entry details the interest Meta paid, excluding capitalized interest. In the three months ended June 30, 2024, Meta paid $124 million. No interest was paid in the same period in 2023. For the six months ended June 30, 2024, the company paid $245 million, compared to $182 million in 2023 when considering capitalized amounts.\n",
      "\n",
      "3. **Non-cash Investing and Financing Activities**: \n",
      "   - **Property and Equipment in Accounts Payable and Accrued Expenses and Other Current Liabilities**: For the three months and six months ended June 30, 2024, Meta reported $3,229 million in liabilities for property and equipment acquisitions, a decrease from $3,845 million in 2023. \n",
      "   \n",
      "   - **Acquisition of Businesses and Intangible Assets in Accrued Expenses and Other Current Liabilities and Other Liabilities**: This figure indicates the non-cash portion related to the acquisition of businesses and intangible assets. Meta reported $267 million for the three and six months ended June 30, 2024, compared to $217 million in 2023.\n",
      "\n",
      "The table provides an insight into Meta's cash flow situation, tax payments, interest handling, and non-cash transactions pertaining to investments and acquisitions, reflecting strategies in managing liquidity and financial obligations.\n",
      "\n",
      "Here is the table in markdown format:\n",
      "\n",
      "```markdown\n",
      "| Supplemental Cash Flow Data                              | Three Months Ended June 30,  | Six Months Ended June 30,   |\n",
      "|----------------------------------------------------------|-----------------------------|-----------------------------|\n",
      "|                                                          | 2024          | 2023       | 2024           | 2023      |\n",
      "| **Cash paid for income taxes, net**                      | $5,929        | $1,102     | $6,559         | -         |\n",
      "| **Cash paid for interest, net of amounts capitalized**   | $124          | $0         | $245           | -         |\n",
      "| **Non-cash investing and financing activities:**         |               |            |                |           |\n",
      "| Property and equipment in accounts payable and            |               |            |                |           |\n",
      "| accrued expenses and other current liabilities           | $3,229        | $3,845     | $3,229         | -         |\n",
      "| Acquisition of businesses and intangible assets in       |               |            |                |           |\n",
      "| accrued expenses and other current liabilities and       |               |            |                |           |\n",
      "| other liabilities                                        | $267          | $217       | $267           | -         |\n",
      "```\n",
      "\n",
      "Note: The \"-\" in the 2023 columns for the six months ended entries are indicative of the data being absent for this period in the supplemental cash flow data segment.\n",
      "### Comprehensive Description of the Table\n",
      "\n",
      "The table presents the segment results for Meta Platforms, Inc. for the three and six months ending June 30, 2024, and June 30, 2023. It delineates the company's revenue and income from operations across two distinct segments: \"Family of Apps\" and \"Reality Labs.\" \n",
      "\n",
      "- **Revenue**: The revenue is parsed into \"Advertising\" and \"Other revenue,\" further categorized under the \"Family of Apps\" and \"Reality Labs\" segments. \n",
      "  - For the three months ending June 30, 2024, Meta reported total revenue of $39.071 billion, an increase from $31.999 billion in the same period in 2023. \n",
      "  - The \"Family of Apps\" contributed significantly to the revenue, generating $38.718 billion in 2024 compared to $31.723 billion in 2023.\n",
      "  - \"Reality Labs\" revenue was $353 million for the three months ended June 30, 2024, up from $276 million in the previous year.\n",
      "\n",
      "- **Income (Loss) from Operations**: The income statement segment splits the operational income (or loss) between the \"Family of Apps\" and \"Reality Labs.\"\n",
      "  - \"Family of Apps\" showcased a profitable figure, with an income of $19.335 billion in 2024, up from $13.131 billion in 2023 for the three-month period.\n",
      "  - Conversely, \"Reality Labs\" recorded operational losses of $4.488 billion in 2024, compared to a loss of $3.739 billion in 2023.\n",
      "  - Consequently, the total income from operations amounted to $14.847 billion for the three months ending June 30, 2024, a substantial increase from $9.392 billion in 2023.\n",
      "\n",
      "The table provides insight into how Meta's business divisions contribute to overall financial performance, with the \"Family of Apps\" being the major revenue driver, while \"Reality Labs\" is focused on growth with current operational losses.\n",
      "\n",
      "### Table in Markdown Format\n",
      "\n",
      "```markdown\n",
      "**Meta Platforms, Inc. Segment Results**\n",
      "\n",
      "| Segment        | Revenue (3 months) | Revenue (6 months) | Income (Loss) from Operations (3 months) | Income (Loss) from Operations (6 months) |\n",
      "|----------------|--------------------|--------------------|----------------------------------------|------------------------------------------|\n",
      "|                | 2024     | 2023     | 2024     | 2023     | 2024     | 2023     | 2024     | 2023     |\n",
      "| Advertising    | $38,329  | $31,498  | $73,965  | $59,599  |              -               |             -                |\n",
      "| Other revenue  | $389     | $225     | $769     | $430     |              -               |             -                |\n",
      "| Family of Apps | $38,718  | $31,723  | $74,734  | $60,029  | $19,335   | $13,131  |\n",
      "| Reality Labs   | $353     | $276     | $793     | $616     | $(4,488)  | $(3,739) |\n",
      "| **Total**      | **$39,071** | **$31,999** | **$75,527** | **$60,645** | **$14,847**  | **$9,392**  | **$28,665** | **$16,619** |\n",
      "\n",
      "- Net income represents profit after all expenses, including taxes and operating costs, emphasizing segment profitability.\n",
      "```\n",
      "\n",
      "This table structure provides a clear breakdown of the revenue and operational outcomes for Meta's two primary business areas over a comparable period from the previous year.\n",
      "### Detailed Description of the Table\n",
      "\n",
      "The table provides a financial overview of Meta Platforms, Inc.'s performance for the second quarter ending June 30, 2024, compared to the same period in 2023. Key metrics include revenue figures adjusted for foreign exchange effects, advertising revenue, and cash flow details. The data underscores Meta's financial growth, showing significant year-over-year percentage changes in revenue and advertising revenue. It also includes details on capital expenditures, specifically purchases of property and equipment, and payments on finance leases, providing a comprehensive snapshot of both revenue generation and cash outflow.\n",
      "\n",
      "#### Key Components of the Table:\n",
      "\n",
      "1. **Revenue and Advertising Revenue:**\n",
      "   - GAAP revenue for the quarter of $39.071 billion in 2024 and $31.999 billion in 2023.\n",
      "   - The foreign exchange effect on 2024 revenue is illustrated to reflect what revenue would be using 2023 rates, adjusting it to $39.442 billion.\n",
      "   - GAAP advertising revenue for the quarter of $38.329 billion in 2024 and $31.498 billion in 2023, with adjustments for foreign exchange effect bringing it to $38.696 billion in 2024.\n",
      "\n",
      "2. **Year-over-Year Changes:**\n",
      "   - A 22% increase in GAAP revenue from 2023 to 2024.\n",
      "   - Revenue excluding foreign exchange effect shows a 23% increase.\n",
      "   - Advertising revenue increased by 22%, or 23% if adjusted for the foreign exchange effect.\n",
      "  \n",
      "3. **Cash Flow:**\n",
      "   - Net cash provided by operating activities was $19.370 billion in 2024 and $17.309 billion in 2023.\n",
      "   - Purchases of property and equipment, net amounted to $8.173 billion, and principal payments on finance leases were $299 million in 2024.\n",
      "   - Free cash flow for 2024 was $10.898 billion compared to $10.955 billion in 2023.\n",
      "\n",
      "This financial data offers insight into the growth and financial health of Meta during the specified period, reflecting strong operational performance and investment in property and equipment.\n",
      "\n",
      "### Table in Markdown Format\n",
      "\n",
      "```markdown\n",
      "| Description                                                       | Q2 2024 ($ Mil) | Q2 2023 ($ Mil) |\n",
      "|-------------------------------------------------------------------|-----------------|-----------------|\n",
      "| **GAAP Revenue**                                                  | 39,071          | 31,999          |\n",
      "| Foreign Exchange Effect on 2024 Revenue Using 2023 Rates          | 371             | -               |\n",
      "| Revenue Excluding Foreign Exchange Effect                        | 39,442          | -               |\n",
      "| **GAAP Revenue Year-over-Year Change (%)**                        | 22%             | -               |\n",
      "| Revenue Excluding Foreign Exchange Effect Year-over-Year Change (%)| 23%             | -               |\n",
      "| **GAAP Advertising Revenue**                                      | 38,329          | 31,498          |\n",
      "| Foreign Exchange Effect on 2024 Advertising Revenue Using 2023 Rates| 367             | -               |\n",
      "| Advertising Revenue Excluding Foreign Exchange Effect            | 38,696          | -               |\n",
      "| **GAAP Advertising Revenue Year-over-Year Change (%)**            | 22%             | -               |\n",
      "| Advertising Revenue Excluding Foreign Exchange Effect Year-over-Year Change (%)| 23%             | -               |\n",
      "| **Net Cash Provided by Operating Activities**                     | 19,370          | 17,309          |\n",
      "| Purchases of Property and Equipment, Net                          | (8,173)         | (6,134)         |\n",
      "| Principal Payments on Finance Leases                              | (299)           | (220)           |\n",
      "| **Free Cash Flow**                                                | 10,898          | 10,955          |\n",
      "```\n",
      "\n",
      "This markdown table succinctly represents the financial highlights of Meta Platforms, Inc. for the referenced periods, facilitating an easy comparison of key financial metrics.\n"
     ]
    }
   ],
   "source": [
    "for element in elements:\n",
    "  if element.to_dict()['type'] == 'Table':\n",
    "    print(element.text)"
   ]
  },
  {
   "cell_type": "markdown",
   "metadata": {
    "id": "MiO6RvlR7WoD"
   },
   "source": [
    "This markdown table provides a concise presentation of the financial data, making it easy to read and comprehend in a digital format.\n",
    "### Detailed Description of the Table\n",
    "\n",
    "The table presents segment information from Meta Platforms, Inc. for both revenue and income (loss) from operations. The data is organized into two main sections:\n",
    "1. **Revenue**: This section is subdivided into two categories: \"Advertising\" and \"Other revenue\". The total revenue generated from these subcategories is then summed up for two segments: \"Family of Apps\" and \"Reality Labs\". The table provides the revenue figures for three months and six months ended June 30, for the years 2024 and 2023.\n",
    "2. **Income (loss) from operations**: This section shows the income or loss from operations for the \"Family of Apps\" and \"Reality Labs\" segments, again for the same time periods.\n",
    "\n",
    "The table allows for a comparison between the two segments of Meta's business over time, illustrating the performance of each segment in terms of revenue and operational income or loss.\n",
    "\n",
    "### The Table in Markdown Format\n",
    "\n",
    "```markdown\n",
    "### Segment Information (In millions, Unaudited)\n",
    "\n",
    "|                            | Three Months Ended June 30, 2024 | Three Months Ended June 30, 2023 | Six Months Ended June 30, 2024 | Six Months Ended June 30, 2023 |\n",
    "|----------------------------|----------------------------------|----------------------------------|------------------------------- |-------------------------------|\n",
    "| **Revenue:**               |                                  |                                  |                               |                               |\n",
    "| Advertising                | $38,329                          | $31,498                          | $73,965                       | $59,599                       |\n",
    "| Other revenue              | $389                             | $225                             | $769                          | $430                          |\n",
    "| **Family of Apps**         | $38,718                          | $31,723                          | $74,734                       | $60,029                       |\n",
    "| Reality Labs               | $353                             | $276                             | $793                          | $616                          |\n",
    "| **Total revenue**          | $39,071                          | $31,999                          | $75,527                       | $60,645                       |\n",
    "|                            |                                  |                                  |                               |                               |\n",
    "| **Income (loss) from operations:** |                                  |                                  |                               |                               |\n",
    "| Family of Apps             | $19,335                          | $13,131                          | $36,999                       | $24,351                       |\n",
    "| Reality Labs               | $(4,488)                         | $(3,739)                         | $(8,334)                      | $(7,732)                      |\n",
    "| **Total income from operations** | $14,847                          | $9,392                           | $28,665                       | $16,619                       |\n",
    "```\n"
   ]
  },
  {
   "cell_type": "markdown",
   "metadata": {
    "id": "TyvJkWMqgmSI"
   },
   "source": [
    "### Create a Pandas dataframe to store text and updated table elements within"
   ]
  },
  {
   "cell_type": "code",
   "execution_count": 17,
   "metadata": {
    "colab": {
     "base_uri": "https://localhost:8080/",
     "height": 397
    },
    "id": "UJiOVDnAzQl8",
    "outputId": "cda1cad4-fded-437b-b70f-6a129ccdbd43"
   },
   "outputs": [
    {
     "data": {
      "text/html": [
       "<div>\n",
       "<style scoped>\n",
       "    .dataframe tbody tr th:only-of-type {\n",
       "        vertical-align: middle;\n",
       "    }\n",
       "\n",
       "    .dataframe tbody tr th {\n",
       "        vertical-align: top;\n",
       "    }\n",
       "\n",
       "    .dataframe thead th {\n",
       "        text-align: right;\n",
       "    }\n",
       "</style>\n",
       "<table border=\"1\" class=\"dataframe\">\n",
       "  <thead>\n",
       "    <tr style=\"text-align: right;\">\n",
       "      <th></th>\n",
       "      <th>id</th>\n",
       "      <th>text</th>\n",
       "      <th>metadata</th>\n",
       "      <th>embedding</th>\n",
       "    </tr>\n",
       "  </thead>\n",
       "  <tbody>\n",
       "    <tr>\n",
       "      <th>0</th>\n",
       "      <td>7673dd5dd3348ca922edfeb765c4f8ec</td>\n",
       "      <td>b'FACEBOOK\\n\\nNEWS RELEASE\\n\\nMeta Reports Sec...</td>\n",
       "      <td>{'filetype': 'application/pdf', 'languages': [...</td>\n",
       "      <td>[0.05788249539290755, 0.015626749069267247, 0....</td>\n",
       "    </tr>\n",
       "    <tr>\n",
       "      <th>1</th>\n",
       "      <td>0042c2ce77a154ed737cfb0d9b20b598</td>\n",
       "      <td>b\"### Comprehensive Description of the Table\\n...</td>\n",
       "      <td>{'last_modified': '2024-07-31T21:06:06', 'file...</td>\n",
       "      <td>[-0.0004421418779838655, 0.011881716893403, 0....</td>\n",
       "    </tr>\n",
       "    <tr>\n",
       "      <th>2</th>\n",
       "      <td>1006ba147b4696dcfa364d82a7cc3ff9</td>\n",
       "      <td>b'Second Quarter 2024 Operational and Other Fi...</td>\n",
       "      <td>{'filetype': 'application/pdf', 'languages': [...</td>\n",
       "      <td>[0.07885341798234707, 0.010770062515672503, 0....</td>\n",
       "    </tr>\n",
       "    <tr>\n",
       "      <th>3</th>\n",
       "      <td>3ccaeebfca3cd0b37f89d9865ed86620</td>\n",
       "      <td>b\"CFO Outlook Commentary\\n\\nWe expect third qu...</td>\n",
       "      <td>{'filetype': 'application/pdf', 'languages': [...</td>\n",
       "      <td>[0.06499940353648115, 0.02307817596004495, -0....</td>\n",
       "    </tr>\n",
       "    <tr>\n",
       "      <th>4</th>\n",
       "      <td>f83ab884e1b7f6cd22bb6fec166375de</td>\n",
       "      <td>b'About Meta\\n\\nMeta builds technologies that ...</td>\n",
       "      <td>{'filetype': 'application/pdf', 'languages': [...</td>\n",
       "      <td>[0.044356841931628053, -0.008697156860572564, ...</td>\n",
       "    </tr>\n",
       "  </tbody>\n",
       "</table>\n",
       "</div>"
      ],
      "text/plain": [
       "                                 id  \\\n",
       "0  7673dd5dd3348ca922edfeb765c4f8ec   \n",
       "1  0042c2ce77a154ed737cfb0d9b20b598   \n",
       "2  1006ba147b4696dcfa364d82a7cc3ff9   \n",
       "3  3ccaeebfca3cd0b37f89d9865ed86620   \n",
       "4  f83ab884e1b7f6cd22bb6fec166375de   \n",
       "\n",
       "                                                text  \\\n",
       "0  b'FACEBOOK\\n\\nNEWS RELEASE\\n\\nMeta Reports Sec...   \n",
       "1  b\"### Comprehensive Description of the Table\\n...   \n",
       "2  b'Second Quarter 2024 Operational and Other Fi...   \n",
       "3  b\"CFO Outlook Commentary\\n\\nWe expect third qu...   \n",
       "4  b'About Meta\\n\\nMeta builds technologies that ...   \n",
       "\n",
       "                                            metadata  \\\n",
       "0  {'filetype': 'application/pdf', 'languages': [...   \n",
       "1  {'last_modified': '2024-07-31T21:06:06', 'file...   \n",
       "2  {'filetype': 'application/pdf', 'languages': [...   \n",
       "3  {'filetype': 'application/pdf', 'languages': [...   \n",
       "4  {'filetype': 'application/pdf', 'languages': [...   \n",
       "\n",
       "                                           embedding  \n",
       "0  [0.05788249539290755, 0.015626749069267247, 0....  \n",
       "1  [-0.0004421418779838655, 0.011881716893403, 0....  \n",
       "2  [0.07885341798234707, 0.010770062515672503, 0....  \n",
       "3  [0.06499940353648115, 0.02307817596004495, -0....  \n",
       "4  [0.044356841931628053, -0.008697156860572564, ...  "
      ]
     },
     "execution_count": 17,
     "metadata": {},
     "output_type": "execute_result"
    }
   ],
   "source": [
    "import pandas as pd\n",
    "data = []\n",
    "\n",
    "for c in elements:\n",
    "  row = {}\n",
    "  row['id'] = c.id\n",
    "  row['text'] = c.text.encode()\n",
    "  row['metadata'] = c.metadata.to_dict()\n",
    "  row['embedding'] = c.embeddings\n",
    "  data.append(row)\n",
    "\n",
    "df_contextualized = pd.DataFrame(data)\n",
    "df_contextualized.head()"
   ]
  },
  {
   "cell_type": "markdown",
   "metadata": {
    "id": "bnqhEll3UAGS"
   },
   "source": [
    "# 4. Define KDB.AI Session\n",
    "KDB.AI comes in two offerings:\n",
    "\n",
    "KDB.AI Cloud - For experimenting with smaller generative AI projects with a vector database in our cloud.\n",
    "KDB.AI Server - For evaluating large scale generative AI applications on-premises or on your own cloud provider.\n",
    "Depending on which you use there will be different setup steps and connection details required.\n",
    "\n",
    "Option 1. KDB.AI Cloud\n",
    "To use KDB.AI Cloud, you will need two session details - a URL endpoint and an API key. To get these you can sign up for free here.\n",
    "\n",
    "You can connect to a KDB.AI Cloud session using kdbai.Session and passing the session URL endpoint and API key details from your KDB.AI Cloud portal.\n",
    "\n",
    "If the environment variables KDBAI_ENDPOINTS and KDBAI_API_KEY exist on your system containing your KDB.AI Cloud portal details, these variables will automatically be used to connect. If these do not exist, it will prompt you to enter your KDB.AI Cloud portal session URL endpoint and API key details."
   ]
  },
  {
   "cell_type": "markdown",
   "metadata": {
    "id": "n_qqODIvgmSI"
   },
   "source": [
    "### Option 1. KDB.AI Cloud\n",
    "\n",
    "Find KDB.AI API Key and Endpoint here: [KDB.AI](https://kdb.ai/)"
   ]
  },
  {
   "cell_type": "code",
   "execution_count": 18,
   "metadata": {
    "id": "TtpzGrEkUEIK"
   },
   "outputs": [],
   "source": [
    "# Check if KDBAI_ENDPOINT is in the environment variables\n",
    "if \"KDBAI_ENDPOINT\" in os.environ:\n",
    "    KDBAI_ENDPOINT = os.environ[\"KDBAI_ENDPOINT\"]\n",
    "else:\n",
    "    # Prompt the user to enter the API key\n",
    "    KDBAI_ENDPOINT = input(\"KDB.AI ENDPOINT: \")\n",
    "    # Save the API key as an environment variable for the current session\n",
    "    os.environ[\"KDBAI_ENDPOINT\"] = KDBAI_ENDPOINT\n",
    "\n",
    "# Check if KDBAI_ENDPOINT is in the environment variables\n",
    "if \"KDBAI_API_KEY\" in os.environ:\n",
    "    KDBAI_API_KEY = os.environ[\"KDBAI_API_KEY\"]\n",
    "else:\n",
    "    # Prompt the user to enter the API key\n",
    "    KDBAI_API_KEY = input(\"KDB.AI KEY: \")\n",
    "    # Save the API key as an environment variable for the current session\n",
    "    os.environ[\"KDBAI_API_KEY\"] = KDBAI_API_KEY"
   ]
  },
  {
   "cell_type": "code",
   "execution_count": null,
   "metadata": {
    "id": "jT-WnkjYUN4u"
   },
   "outputs": [],
   "source": [
    "#connect to KDB.AI\n",
    "session = kdbai.Session(api_key=KDBAI_API_KEY, endpoint=KDBAI_ENDPOINT)"
   ]
  },
  {
   "cell_type": "markdown",
   "metadata": {
    "id": "y4NsRw13UY7N"
   },
   "source": [
    "### Option 2. KDB.AI Server\n",
    "To use KDB.AI Server, you will need download and run your own container. To do this, you will first need to sign up for free here.\n",
    "\n",
    "You will receive an email with the required license file and bearer token needed to download your instance. Follow instructions in the signup email to get your session up and running.\n",
    "\n",
    "Once the setup steps are complete you can then connect to your KDB.AI Server session using kdbai.Session and passing your local endpoint."
   ]
  },
  {
   "cell_type": "code",
   "execution_count": 20,
   "metadata": {
    "id": "WAZrBnqsUZQp"
   },
   "outputs": [],
   "source": [
    "### start session with KDB.AI Server\n",
    "#session = kdbai.Session()"
   ]
  },
  {
   "cell_type": "markdown",
   "metadata": {
    "id": "sUxBbbk9Ufn4"
   },
   "source": [
    "# 5. Create Schema and KDB.AI Table"
   ]
  },
  {
   "cell_type": "code",
   "execution_count": 21,
   "metadata": {
    "id": "y8cZV9qXUf8i"
   },
   "outputs": [],
   "source": [
    "schema = [\n",
    "    {'name': 'id', 'type': 'str'},\n",
    "    {'name': 'text', 'type': 'bytes'},\n",
    "    {'name': 'metadata', 'type': 'general'},\n",
    "    {'name': 'embedding', 'type': 'float32s'}\n",
    "]\n",
    "\n",
    "indexes = [{'name': 'flat_index', 'column': 'embedding', 'type': 'flat', 'params': {'dims': 1536, 'metric': 'L2'}}]"
   ]
  },
  {
   "cell_type": "markdown",
   "metadata": {
    "id": "Gg_G-EQaQXE0"
   },
   "source": [
    "### Here we create two tables, one containing the original table elements, the other containing the newly contextualized and formatted table elements"
   ]
  },
  {
   "cell_type": "code",
   "execution_count": 22,
   "metadata": {
    "id": "-Q-9Un7VUiqj"
   },
   "outputs": [],
   "source": [
    "Contextualized_KDBAI_TABLE_NAME = \"Contextualized_Table\"\n",
    "non_Contextualized_KDBAI_TABLE_NAME = \"Non_Contextualized_Table\"\n",
    "database = session.database('default')\n",
    "\n",
    "# First ensure the tables do not already exist\n",
    "for table in database.tables:\n",
    "    if table.name in [Contextualized_KDBAI_TABLE_NAME, non_Contextualized_KDBAI_TABLE_NAME]:\n",
    "        table.drop()\n",
    "\n",
    "#Create the tables\n",
    "table_contextualized = database.create_table(Contextualized_KDBAI_TABLE_NAME, schema=schema, indexes=indexes)\n",
    "table_non_contextualized = database.create_table(non_Contextualized_KDBAI_TABLE_NAME, schema=schema, indexes=indexes)"
   ]
  },
  {
   "cell_type": "code",
   "execution_count": 23,
   "metadata": {
    "colab": {
     "base_uri": "https://localhost:8080/",
     "height": 42
    },
    "id": "hbyA6GJH0Lw8",
    "outputId": "5e15e9db-bf72-4e3e-f4c8-7f88af378d9d"
   },
   "outputs": [
    {
     "data": {
      "text/plain": [
       "{'rowsInserted': 27}"
      ]
     },
     "execution_count": 23,
     "metadata": {},
     "output_type": "execute_result"
    }
   ],
   "source": [
    "# Insert Elements into the KDB.AI Tables\n",
    "table_contextualized.insert(df_contextualized)\n",
    "table_non_contextualized.insert(df_non_contextualized)"
   ]
  },
  {
   "cell_type": "code",
   "execution_count": 24,
   "metadata": {
    "colab": {
     "base_uri": "https://localhost:8080/",
     "height": 1000
    },
    "id": "qjIAiwBVzYRA",
    "outputId": "686e7ab2-8f65-437d-d88f-6d0da3d02ccc"
   },
   "outputs": [
    {
     "data": {
      "text/html": [
       "<div>\n",
       "<style scoped>\n",
       "    .dataframe tbody tr th:only-of-type {\n",
       "        vertical-align: middle;\n",
       "    }\n",
       "\n",
       "    .dataframe tbody tr th {\n",
       "        vertical-align: top;\n",
       "    }\n",
       "\n",
       "    .dataframe thead th {\n",
       "        text-align: right;\n",
       "    }\n",
       "</style>\n",
       "<table border=\"1\" class=\"dataframe\">\n",
       "  <thead>\n",
       "    <tr style=\"text-align: right;\">\n",
       "      <th></th>\n",
       "      <th>id</th>\n",
       "      <th>text</th>\n",
       "      <th>metadata</th>\n",
       "      <th>embedding</th>\n",
       "    </tr>\n",
       "  </thead>\n",
       "  <tbody>\n",
       "    <tr>\n",
       "      <th>0</th>\n",
       "      <td>7673dd5dd3348ca922edfeb765c4f8ec</td>\n",
       "      <td>b'FACEBOOK\\n\\nNEWS RELEASE\\n\\nMeta Reports Sec...</td>\n",
       "      <td>{'filetype': 'application/pdf', 'languages': [...</td>\n",
       "      <td>[0.057882495, 0.015626749, 0.0125014, 0.016935...</td>\n",
       "    </tr>\n",
       "    <tr>\n",
       "      <th>1</th>\n",
       "      <td>0042c2ce77a154ed737cfb0d9b20b598</td>\n",
       "      <td>b\"### Comprehensive Description of the Table\\n...</td>\n",
       "      <td>{'last_modified': '2024-07-31T21:06:06', 'file...</td>\n",
       "      <td>[-0.00044214187, 0.011881717, 0.03507208, 0.01...</td>\n",
       "    </tr>\n",
       "    <tr>\n",
       "      <th>2</th>\n",
       "      <td>1006ba147b4696dcfa364d82a7cc3ff9</td>\n",
       "      <td>b'Second Quarter 2024 Operational and Other Fi...</td>\n",
       "      <td>{'filetype': 'application/pdf', 'languages': [...</td>\n",
       "      <td>[0.07885342, 0.010770063, 0.032093342, 0.07417...</td>\n",
       "    </tr>\n",
       "    <tr>\n",
       "      <th>3</th>\n",
       "      <td>3ccaeebfca3cd0b37f89d9865ed86620</td>\n",
       "      <td>b\"CFO Outlook Commentary\\n\\nWe expect third qu...</td>\n",
       "      <td>{'filetype': 'application/pdf', 'languages': [...</td>\n",
       "      <td>[0.0649994, 0.023078175, -0.0025019816, 6.0829...</td>\n",
       "    </tr>\n",
       "    <tr>\n",
       "      <th>4</th>\n",
       "      <td>f83ab884e1b7f6cd22bb6fec166375de</td>\n",
       "      <td>b'About Meta\\n\\nMeta builds technologies that ...</td>\n",
       "      <td>{'filetype': 'application/pdf', 'languages': [...</td>\n",
       "      <td>[0.04435684, -0.008697157, -0.0011843009, 0.05...</td>\n",
       "    </tr>\n",
       "    <tr>\n",
       "      <th>5</th>\n",
       "      <td>6523c2a592eaef3c9c62b13ff33414e6</td>\n",
       "      <td>b'Ryan Moore\\n\\npress@meta.com / about.fb.com/...</td>\n",
       "      <td>{'filetype': 'application/pdf', 'languages': [...</td>\n",
       "      <td>[0.068496555, 0.012527236, 0.0041264608, 0.055...</td>\n",
       "    </tr>\n",
       "    <tr>\n",
       "      <th>6</th>\n",
       "      <td>b288eb094301be949cb9c4d070135af5</td>\n",
       "      <td>b'For a discussion of limitations in the measu...</td>\n",
       "      <td>{'filetype': 'application/pdf', 'languages': [...</td>\n",
       "      <td>[0.06137703, 0.026085237, 0.07956282, 0.036115...</td>\n",
       "    </tr>\n",
       "    <tr>\n",
       "      <th>7</th>\n",
       "      <td>69e526bdf29fb6ab25756fefa40b5439</td>\n",
       "      <td>b\"Non-GAAP Financial Measures\\n\\nTo supplement...</td>\n",
       "      <td>{'filetype': 'application/pdf', 'languages': [...</td>\n",
       "      <td>[-0.00022395901, 0.037475675, 0.05577307, 0.02...</td>\n",
       "    </tr>\n",
       "    <tr>\n",
       "      <th>8</th>\n",
       "      <td>75d393ef2f359efa9a296e832490f823</td>\n",
       "      <td>b'For more information on our non-GAAP nancial...</td>\n",
       "      <td>{'filetype': 'application/pdf', 'languages': [...</td>\n",
       "      <td>[0.01794313, 0.016595712, 0.021199394, 2.51983...</td>\n",
       "    </tr>\n",
       "    <tr>\n",
       "      <th>9</th>\n",
       "      <td>adf7621ac4c8f6206d85b1bba43e591f</td>\n",
       "      <td>b\"The table presented shows the condensed cons...</td>\n",
       "      <td>{'last_modified': '2024-07-31T21:06:06', 'file...</td>\n",
       "      <td>[0.007979893, -0.012464022, 0.051368486, 0.019...</td>\n",
       "    </tr>\n",
       "    <tr>\n",
       "      <th>10</th>\n",
       "      <td>a918dcd3136389f1f3321920cd5bfc00</td>\n",
       "      <td>b'$ 31,999 $ 75,527 $ 60,645\\n\\n12,054\\n\\n18,7...</td>\n",
       "      <td>{'filetype': 'application/pdf', 'languages': [...</td>\n",
       "      <td>[0.045977995, -0.037664726, 0.07803254, 0.0160...</td>\n",
       "    </tr>\n",
       "    <tr>\n",
       "      <th>11</th>\n",
       "      <td>6ac0846a53cd0f99bb678c15f19d468e</td>\n",
       "      <td>b\"The table provided is an excerpt from Meta P...</td>\n",
       "      <td>{'last_modified': '2024-07-31T21:06:06', 'file...</td>\n",
       "      <td>[0.027606387, -0.012659598, 0.04341087, 0.0401...</td>\n",
       "    </tr>\n",
       "    <tr>\n",
       "      <th>12</th>\n",
       "      <td>46348476e1035ccd87ab69a2d1292d40</td>\n",
       "      <td>b'$ 3.03 $ 10.17 $ 5.24\\n\\n$ 2.98 $ 9.86 $ 5.1...</td>\n",
       "      <td>{'filetype': 'application/pdf', 'languages': [...</td>\n",
       "      <td>[0.015753612, 0.004310955, 0.041805614, 0.0384...</td>\n",
       "    </tr>\n",
       "    <tr>\n",
       "      <th>13</th>\n",
       "      <td>b0cf8bf065eab52e08c0428bbaa94527</td>\n",
       "      <td>b\"### Comprehensive Description\\n\\nThe table p...</td>\n",
       "      <td>{'last_modified': '2024-07-31T21:06:06', 'file...</td>\n",
       "      <td>[0.0070284354, 0.034549743, 0.043274693, 0.004...</td>\n",
       "    </tr>\n",
       "    <tr>\n",
       "      <th>14</th>\n",
       "      <td>f7f4229f80e00f509426a6d8f45343c2</td>\n",
       "      <td>b'Common stock and additional paid-in capital\\...</td>\n",
       "      <td>{'filetype': 'application/pdf', 'languages': [...</td>\n",
       "      <td>[0.031031432, 0.0055321315, 0.05864805, 0.0336...</td>\n",
       "    </tr>\n",
       "    <tr>\n",
       "      <th>15</th>\n",
       "      <td>a7a41c0fdf37f0f30e8d8a2bf5bfafff</td>\n",
       "      <td>b\"### Comprehensive Description of the Table\\n...</td>\n",
       "      <td>{'last_modified': '2024-07-31T21:06:06', 'file...</td>\n",
       "      <td>[0.016377663, 0.03243708, 0.03787182, 0.015178...</td>\n",
       "    </tr>\n",
       "    <tr>\n",
       "      <th>16</th>\n",
       "      <td>b10e1bd32614ae548f2e08c4d131f460</td>\n",
       "      <td>b\"Accumulated other comprehensive loss\\n\\nReta...</td>\n",
       "      <td>{'filetype': 'application/pdf', 'languages': [...</td>\n",
       "      <td>[0.02234056, 0.01776979, 0.0062756445, 0.04135...</td>\n",
       "    </tr>\n",
       "    <tr>\n",
       "      <th>17</th>\n",
       "      <td>109f8e55d17287867e2c5007111f08c9</td>\n",
       "      <td>b\"### Description of the Table\\n\\nThe table pr...</td>\n",
       "      <td>{'last_modified': '2024-07-31T21:06:06', 'file...</td>\n",
       "      <td>[-0.012494377, 0.044495758, 0.034548387, 0.005...</td>\n",
       "    </tr>\n",
       "    <tr>\n",
       "      <th>18</th>\n",
       "      <td>d8928bcb2a3bb51176df4be51ba74732</td>\n",
       "      <td>b'Three Months Ended June 30, Six Months Ended...</td>\n",
       "      <td>{'filetype': 'application/pdf', 'languages': [...</td>\n",
       "      <td>[0.037447758, 0.031958383, 0.029735964, 0.0262...</td>\n",
       "    </tr>\n",
       "    <tr>\n",
       "      <th>19</th>\n",
       "      <td>cf915cc8ae9c9cc15b396ea448e94228</td>\n",
       "      <td>b'Here\\'s a detailed description of the table ...</td>\n",
       "      <td>{'last_modified': '2024-07-31T21:06:06', 'file...</td>\n",
       "      <td>[0.0018331239, 0.026139371, 0.046606544, 0.014...</td>\n",
       "    </tr>\n",
       "    <tr>\n",
       "      <th>20</th>\n",
       "      <td>341be5c61346e8a761bcb3bc8442cfe9</td>\n",
       "      <td>b'$ 28,785\\n\\n165\\n\\n854\\n\\n$ 29,804\\n\\nMETA P...</td>\n",
       "      <td>{'filetype': 'application/pdf', 'languages': [...</td>\n",
       "      <td>[0.027821643, -0.0057690465, 0.0058191307, 0.0...</td>\n",
       "    </tr>\n",
       "    <tr>\n",
       "      <th>21</th>\n",
       "      <td>d41baecdce6b423b19c82ed8d8312c7d</td>\n",
       "      <td>b'The table provided is a snippet of Meta Plat...</td>\n",
       "      <td>{'last_modified': '2024-07-31T21:06:06', 'file...</td>\n",
       "      <td>[-0.005334932, 0.04107228, 0.04553666, 0.00887...</td>\n",
       "    </tr>\n",
       "    <tr>\n",
       "      <th>22</th>\n",
       "      <td>0c91552759dba13dcd139b9b0c9dab62</td>\n",
       "      <td>b'$ 1,507\\n\\n$ 182\\n\\n$ 3,845\\n\\n$ 217\\n\\nSegm...</td>\n",
       "      <td>{'filetype': 'application/pdf', 'languages': [...</td>\n",
       "      <td>[-0.014556726, 0.023491282, 0.035078283, 0.032...</td>\n",
       "    </tr>\n",
       "    <tr>\n",
       "      <th>23</th>\n",
       "      <td>b07080a36773cb7ea01192e93db04f36</td>\n",
       "      <td>b'### Comprehensive Description of the Table\\n...</td>\n",
       "      <td>{'last_modified': '2024-07-31T21:06:06', 'file...</td>\n",
       "      <td>[-0.010667113, 0.034761183, 0.052321482, -0.00...</td>\n",
       "    </tr>\n",
       "    <tr>\n",
       "      <th>24</th>\n",
       "      <td>2ba38b7e64d61e5e37565e0bb9e46f27</td>\n",
       "      <td>b'Reconciliation of GAAP to Non-GAAP Results\\n...</td>\n",
       "      <td>{'filetype': 'application/pdf', 'languages': [...</td>\n",
       "      <td>[0.008114564, 0.035163112, 0.06455587, 0.00853...</td>\n",
       "    </tr>\n",
       "    <tr>\n",
       "      <th>25</th>\n",
       "      <td>d08c13817b3961107632d16dbb25b4fe</td>\n",
       "      <td>b\"### Detailed Description of the Table\\n\\nThe...</td>\n",
       "      <td>{'last_modified': '2024-07-31T21:06:06', 'file...</td>\n",
       "      <td>[-0.013586279, 0.03099968, 0.03918972, 0.00822...</td>\n",
       "    </tr>\n",
       "    <tr>\n",
       "      <th>26</th>\n",
       "      <td>5022c9c2aa1e8d5fce278b73f445a561</td>\n",
       "      <td>b'GAAP revenue\\n\\n$ 60,645\\n\\n$ 59,599\\n\\nchan...</td>\n",
       "      <td>{'filetype': 'application/pdf', 'languages': [...</td>\n",
       "      <td>[0.030714538, 0.0024296725, 0.0496302, 0.00056...</td>\n",
       "    </tr>\n",
       "  </tbody>\n",
       "</table>\n",
       "</div>"
      ],
      "text/plain": [
       "                                  id  \\\n",
       "0   7673dd5dd3348ca922edfeb765c4f8ec   \n",
       "1   0042c2ce77a154ed737cfb0d9b20b598   \n",
       "2   1006ba147b4696dcfa364d82a7cc3ff9   \n",
       "3   3ccaeebfca3cd0b37f89d9865ed86620   \n",
       "4   f83ab884e1b7f6cd22bb6fec166375de   \n",
       "5   6523c2a592eaef3c9c62b13ff33414e6   \n",
       "6   b288eb094301be949cb9c4d070135af5   \n",
       "7   69e526bdf29fb6ab25756fefa40b5439   \n",
       "8   75d393ef2f359efa9a296e832490f823   \n",
       "9   adf7621ac4c8f6206d85b1bba43e591f   \n",
       "10  a918dcd3136389f1f3321920cd5bfc00   \n",
       "11  6ac0846a53cd0f99bb678c15f19d468e   \n",
       "12  46348476e1035ccd87ab69a2d1292d40   \n",
       "13  b0cf8bf065eab52e08c0428bbaa94527   \n",
       "14  f7f4229f80e00f509426a6d8f45343c2   \n",
       "15  a7a41c0fdf37f0f30e8d8a2bf5bfafff   \n",
       "16  b10e1bd32614ae548f2e08c4d131f460   \n",
       "17  109f8e55d17287867e2c5007111f08c9   \n",
       "18  d8928bcb2a3bb51176df4be51ba74732   \n",
       "19  cf915cc8ae9c9cc15b396ea448e94228   \n",
       "20  341be5c61346e8a761bcb3bc8442cfe9   \n",
       "21  d41baecdce6b423b19c82ed8d8312c7d   \n",
       "22  0c91552759dba13dcd139b9b0c9dab62   \n",
       "23  b07080a36773cb7ea01192e93db04f36   \n",
       "24  2ba38b7e64d61e5e37565e0bb9e46f27   \n",
       "25  d08c13817b3961107632d16dbb25b4fe   \n",
       "26  5022c9c2aa1e8d5fce278b73f445a561   \n",
       "\n",
       "                                                 text  \\\n",
       "0   b'FACEBOOK\\n\\nNEWS RELEASE\\n\\nMeta Reports Sec...   \n",
       "1   b\"### Comprehensive Description of the Table\\n...   \n",
       "2   b'Second Quarter 2024 Operational and Other Fi...   \n",
       "3   b\"CFO Outlook Commentary\\n\\nWe expect third qu...   \n",
       "4   b'About Meta\\n\\nMeta builds technologies that ...   \n",
       "5   b'Ryan Moore\\n\\npress@meta.com / about.fb.com/...   \n",
       "6   b'For a discussion of limitations in the measu...   \n",
       "7   b\"Non-GAAP Financial Measures\\n\\nTo supplement...   \n",
       "8   b'For more information on our non-GAAP nancial...   \n",
       "9   b\"The table presented shows the condensed cons...   \n",
       "10  b'$ 31,999 $ 75,527 $ 60,645\\n\\n12,054\\n\\n18,7...   \n",
       "11  b\"The table provided is an excerpt from Meta P...   \n",
       "12  b'$ 3.03 $ 10.17 $ 5.24\\n\\n$ 2.98 $ 9.86 $ 5.1...   \n",
       "13  b\"### Comprehensive Description\\n\\nThe table p...   \n",
       "14  b'Common stock and additional paid-in capital\\...   \n",
       "15  b\"### Comprehensive Description of the Table\\n...   \n",
       "16  b\"Accumulated other comprehensive loss\\n\\nReta...   \n",
       "17  b\"### Description of the Table\\n\\nThe table pr...   \n",
       "18  b'Three Months Ended June 30, Six Months Ended...   \n",
       "19  b'Here\\'s a detailed description of the table ...   \n",
       "20  b'$ 28,785\\n\\n165\\n\\n854\\n\\n$ 29,804\\n\\nMETA P...   \n",
       "21  b'The table provided is a snippet of Meta Plat...   \n",
       "22  b'$ 1,507\\n\\n$ 182\\n\\n$ 3,845\\n\\n$ 217\\n\\nSegm...   \n",
       "23  b'### Comprehensive Description of the Table\\n...   \n",
       "24  b'Reconciliation of GAAP to Non-GAAP Results\\n...   \n",
       "25  b\"### Detailed Description of the Table\\n\\nThe...   \n",
       "26  b'GAAP revenue\\n\\n$ 60,645\\n\\n$ 59,599\\n\\nchan...   \n",
       "\n",
       "                                             metadata  \\\n",
       "0   {'filetype': 'application/pdf', 'languages': [...   \n",
       "1   {'last_modified': '2024-07-31T21:06:06', 'file...   \n",
       "2   {'filetype': 'application/pdf', 'languages': [...   \n",
       "3   {'filetype': 'application/pdf', 'languages': [...   \n",
       "4   {'filetype': 'application/pdf', 'languages': [...   \n",
       "5   {'filetype': 'application/pdf', 'languages': [...   \n",
       "6   {'filetype': 'application/pdf', 'languages': [...   \n",
       "7   {'filetype': 'application/pdf', 'languages': [...   \n",
       "8   {'filetype': 'application/pdf', 'languages': [...   \n",
       "9   {'last_modified': '2024-07-31T21:06:06', 'file...   \n",
       "10  {'filetype': 'application/pdf', 'languages': [...   \n",
       "11  {'last_modified': '2024-07-31T21:06:06', 'file...   \n",
       "12  {'filetype': 'application/pdf', 'languages': [...   \n",
       "13  {'last_modified': '2024-07-31T21:06:06', 'file...   \n",
       "14  {'filetype': 'application/pdf', 'languages': [...   \n",
       "15  {'last_modified': '2024-07-31T21:06:06', 'file...   \n",
       "16  {'filetype': 'application/pdf', 'languages': [...   \n",
       "17  {'last_modified': '2024-07-31T21:06:06', 'file...   \n",
       "18  {'filetype': 'application/pdf', 'languages': [...   \n",
       "19  {'last_modified': '2024-07-31T21:06:06', 'file...   \n",
       "20  {'filetype': 'application/pdf', 'languages': [...   \n",
       "21  {'last_modified': '2024-07-31T21:06:06', 'file...   \n",
       "22  {'filetype': 'application/pdf', 'languages': [...   \n",
       "23  {'last_modified': '2024-07-31T21:06:06', 'file...   \n",
       "24  {'filetype': 'application/pdf', 'languages': [...   \n",
       "25  {'last_modified': '2024-07-31T21:06:06', 'file...   \n",
       "26  {'filetype': 'application/pdf', 'languages': [...   \n",
       "\n",
       "                                            embedding  \n",
       "0   [0.057882495, 0.015626749, 0.0125014, 0.016935...  \n",
       "1   [-0.00044214187, 0.011881717, 0.03507208, 0.01...  \n",
       "2   [0.07885342, 0.010770063, 0.032093342, 0.07417...  \n",
       "3   [0.0649994, 0.023078175, -0.0025019816, 6.0829...  \n",
       "4   [0.04435684, -0.008697157, -0.0011843009, 0.05...  \n",
       "5   [0.068496555, 0.012527236, 0.0041264608, 0.055...  \n",
       "6   [0.06137703, 0.026085237, 0.07956282, 0.036115...  \n",
       "7   [-0.00022395901, 0.037475675, 0.05577307, 0.02...  \n",
       "8   [0.01794313, 0.016595712, 0.021199394, 2.51983...  \n",
       "9   [0.007979893, -0.012464022, 0.051368486, 0.019...  \n",
       "10  [0.045977995, -0.037664726, 0.07803254, 0.0160...  \n",
       "11  [0.027606387, -0.012659598, 0.04341087, 0.0401...  \n",
       "12  [0.015753612, 0.004310955, 0.041805614, 0.0384...  \n",
       "13  [0.0070284354, 0.034549743, 0.043274693, 0.004...  \n",
       "14  [0.031031432, 0.0055321315, 0.05864805, 0.0336...  \n",
       "15  [0.016377663, 0.03243708, 0.03787182, 0.015178...  \n",
       "16  [0.02234056, 0.01776979, 0.0062756445, 0.04135...  \n",
       "17  [-0.012494377, 0.044495758, 0.034548387, 0.005...  \n",
       "18  [0.037447758, 0.031958383, 0.029735964, 0.0262...  \n",
       "19  [0.0018331239, 0.026139371, 0.046606544, 0.014...  \n",
       "20  [0.027821643, -0.0057690465, 0.0058191307, 0.0...  \n",
       "21  [-0.005334932, 0.04107228, 0.04553666, 0.00887...  \n",
       "22  [-0.014556726, 0.023491282, 0.035078283, 0.032...  \n",
       "23  [-0.010667113, 0.034761183, 0.052321482, -0.00...  \n",
       "24  [0.008114564, 0.035163112, 0.06455587, 0.00853...  \n",
       "25  [-0.013586279, 0.03099968, 0.03918972, 0.00822...  \n",
       "26  [0.030714538, 0.0024296725, 0.0496302, 0.00056...  "
      ]
     },
     "execution_count": 24,
     "metadata": {},
     "output_type": "execute_result"
    }
   ],
   "source": [
    "# Check to see that the elements were inserted\n",
    "table_contextualized.query()"
   ]
  },
  {
   "cell_type": "markdown",
   "metadata": {
    "id": "uZOMkjDY5_3y"
   },
   "source": [
    "# 6. Use LangChain and KDB.AI to Perform RAG!"
   ]
  },
  {
   "cell_type": "code",
   "execution_count": 25,
   "metadata": {
    "id": "W6lNahh94FPr"
   },
   "outputs": [],
   "source": [
    "# Define OpenAI embedding model for LangChain to embed the query\n",
    "embeddings = OpenAIEmbeddings(model=\"text-embedding-3-small\")\n",
    "\n",
    "# use KDBAI as vector store\n",
    "vecdb_kdbai_contextualized = KDBAI(table_contextualized, embeddings)\n",
    "vecdb_kdbai_non_contextualized = KDBAI(table_non_contextualized, embeddings)"
   ]
  },
  {
   "cell_type": "code",
   "execution_count": 26,
   "metadata": {
    "id": "6YGeZJtP8DVZ"
   },
   "outputs": [],
   "source": [
    "# Define a Question/Answer LangChain chain\n",
    "qabot_contextualized = RetrievalQA.from_chain_type(\n",
    "    chain_type=\"stuff\",\n",
    "    llm=ChatOpenAI(model=\"gpt-4o\"),\n",
    "    retriever=vecdb_kdbai_contextualized.as_retriever(search_kwargs=dict(k=5, index='flat_index')),\n",
    "    return_source_documents=True,\n",
    ")\n",
    "\n",
    "qabot_non_contextualized = RetrievalQA.from_chain_type(\n",
    "    chain_type=\"stuff\",\n",
    "    llm=ChatOpenAI(model=\"gpt-4o\"),\n",
    "    retriever=vecdb_kdbai_non_contextualized.as_retriever(search_kwargs=dict(k=5, index='flat_index')),\n",
    "    return_source_documents=True,\n",
    ")"
   ]
  },
  {
   "cell_type": "code",
   "execution_count": 27,
   "metadata": {
    "id": "6E855xdv8fW-"
   },
   "outputs": [],
   "source": [
    "# Helper function to perform RAG\n",
    "def RAG(query):\n",
    "  print(query)\n",
    "  print(\"-----\")\n",
    "  print(\"Contextualized\")\n",
    "  print(\"-----\")\n",
    "  print(qabot_contextualized.invoke(dict(query=query))[\"result\"])\n",
    "  print(\"-----\")\n",
    "  print(\"Non Contextualized\")\n",
    "  print(\"-----\")\n",
    "  print(qabot_non_contextualized.invoke(dict(query=query))[\"result\"])\n"
   ]
  },
  {
   "cell_type": "code",
   "execution_count": 28,
   "metadata": {
    "colab": {
     "base_uri": "https://localhost:8080/"
    },
    "id": "tTAenauL4eB0",
    "outputId": "7f0c8ac4-5f9f-4ee3-ff85-4573debf95cf"
   },
   "outputs": [
    {
     "name": "stdout",
     "output_type": "stream",
     "text": [
      "What is the research and development costs for six months ended in June 2024\n",
      "-----\n",
      "Contextualized\n",
      "-----\n",
      "The research and development costs for the six months ended in June 2024 were $20,515 million.\n",
      "-----\n",
      "Non Contextualized\n",
      "-----\n",
      "The research and development costs for the six months ended June 30, 2024, were $20.515 billion.\n"
     ]
    }
   ],
   "source": [
    "# Query the RAG chain!\n",
    "RAG(\"What is the research and development costs for six months ended in June 2024\")"
   ]
  },
  {
   "cell_type": "code",
   "execution_count": 29,
   "metadata": {
    "colab": {
     "base_uri": "https://localhost:8080/"
    },
    "id": "NsXWMDokAH5T",
    "outputId": "d4b6821b-66df-403e-866d-907aa1450089"
   },
   "outputs": [
    {
     "name": "stdout",
     "output_type": "stream",
     "text": [
      "What is the research and development costs for six months ended in June 2023\n",
      "-----\n",
      "Contextualized\n",
      "-----\n",
      "The research and development costs for the six months ended June 30, 2023, were $18,725 million.\n",
      "-----\n",
      "Non Contextualized\n",
      "-----\n",
      "The research and development costs for the six months ended in June 2023 were $20,515 million.\n"
     ]
    }
   ],
   "source": [
    "# Query the RAG chain!\n",
    "RAG(\"What is the research and development costs for six months ended in June 2023\")"
   ]
  },
  {
   "cell_type": "code",
   "execution_count": 30,
   "metadata": {
    "colab": {
     "base_uri": "https://localhost:8080/"
    },
    "id": "9RzO0Rjh8sLj",
    "outputId": "2382e159-aa04-404e-fc70-0d1add4c860b"
   },
   "outputs": [
    {
     "name": "stdout",
     "output_type": "stream",
     "text": [
      "what is the 2024 GAAP advertising Revenue in the three months ended June 30th? What about net cash by operating activies\n",
      "-----\n",
      "Contextualized\n",
      "-----\n",
      "For the three months ended June 30, 2024, the GAAP advertising revenue for Meta was $38.329 billion. The net cash provided by operating activities was $19.370 billion.\n",
      "-----\n",
      "Non Contextualized\n",
      "-----\n",
      "The 2024 GAAP advertising revenue for the three months ended June 30th is $38,329 million. The net cash provided by operating activities for the same period is $19,370 million.\n"
     ]
    }
   ],
   "source": [
    "# Query the RAG chain!\n",
    "RAG(\"what is the 2024 GAAP advertising Revenue in the three months ended June 30th? What about net cash by operating activies\")"
   ]
  },
  {
   "cell_type": "code",
   "execution_count": 31,
   "metadata": {
    "colab": {
     "base_uri": "https://localhost:8080/"
    },
    "id": "86x-WGhFzFXF",
    "outputId": "2e798f74-17a4-4c74-a853-4d24ed614dff"
   },
   "outputs": [
    {
     "name": "stdout",
     "output_type": "stream",
     "text": [
      "What segment made the most money in the six months ended June 30th?\n",
      "-----\n",
      "Contextualized\n",
      "-----\n",
      "In the six months ended June 30, the \"Family of Apps\" segment made the most money, generating $74.734 billion in revenue.\n",
      "-----\n",
      "Non Contextualized\n",
      "-----\n",
      "The segment that made the most money in the six months ended June 30th was the Family of Apps (FoA) segment, with a revenue of $31,307 million.\n"
     ]
    }
   ],
   "source": [
    "# Query the RAG chain!\n",
    "RAG(\"What segment made the most money in the six months ended June 30th?\")"
   ]
  },
  {
   "cell_type": "code",
   "execution_count": 32,
   "metadata": {
    "colab": {
     "base_uri": "https://localhost:8080/"
    },
    "id": "8CW2UnnlzbUa",
    "outputId": "8c8a99ef-6af9-4a3f-d027-3fc721b86170"
   },
   "outputs": [
    {
     "name": "stdout",
     "output_type": "stream",
     "text": [
      "what is the three month costs and expensis for 2023?\n",
      "-----\n",
      "Contextualized\n",
      "-----\n",
      "The total costs and expenses for Meta Platforms, Inc. for the three months ended June 30, 2023, were $22,607 million.\n",
      "-----\n",
      "Non Contextualized\n",
      "-----\n",
      "The three-month costs and expenses for 2023 are $22,607 million.\n"
     ]
    }
   ],
   "source": [
    "# Query the RAG chain!\n",
    "RAG(\"what is the three month costs and expensis for 2023?\")"
   ]
  },
  {
   "cell_type": "code",
   "execution_count": 33,
   "metadata": {
    "colab": {
     "base_uri": "https://localhost:8080/"
    },
    "id": "9NEqDp4dzqfk",
    "outputId": "f7eddf35-4946-4e4c-affe-953677bb38a7"
   },
   "outputs": [
    {
     "name": "stdout",
     "output_type": "stream",
     "text": [
      "At the end of 2023, what was the value of Meta's Goodwill assets?\n",
      "-----\n",
      "Contextualized\n",
      "-----\n",
      "At the end of 2023, the value of Meta's Goodwill assets was $20,654 million.\n",
      "-----\n",
      "Non Contextualized\n",
      "-----\n",
      "The value of Meta's Goodwill assets at the end of 2023 was $20,654 million.\n"
     ]
    }
   ],
   "source": [
    "# Query the RAG chain!\n",
    "RAG(\"At the end of 2023, what was the value of Meta's Goodwill assets?\")"
   ]
  },
  {
   "cell_type": "code",
   "execution_count": 34,
   "metadata": {
    "colab": {
     "base_uri": "https://localhost:8080/"
    },
    "id": "9mIKbXh3z88G",
    "outputId": "9925bdc8-d618-419c-94d5-621a3cf59f69"
   },
   "outputs": [
    {
     "name": "stdout",
     "output_type": "stream",
     "text": [
      "Given a sentiment score between 1 and 10 for the outlook? Explain your reasoning\n",
      "-----\n",
      "Contextualized\n",
      "-----\n",
      "Based on the provided financial data for Meta Platforms, Inc. in the second quarter of 2024, a sentiment score of **8** out of 10 can be reasonably assigned for the outlook. Here's the reasoning behind this score:\n",
      "\n",
      "### Positive Indicators\n",
      "\n",
      "1. **Earnings Per Share (EPS) Growth**:\n",
      "   - Basic EPS increased to $5.31, and diluted EPS increased to $5.16, reflecting strong profitability.\n",
      "   - The substantial increase in diluted EPS (73% year-over-year) indicates robust earnings growth even after accounting for potential share dilution.\n",
      "\n",
      "2. **Revenue Growth**:\n",
      "   - Revenue for Q2 2024 rose by 22% compared to Q2 2023, indicating strong top-line growth.\n",
      "\n",
      "3. **Income from Operations**:\n",
      "   - Income from operations increased by 58%, suggesting significant improvement in operational efficiency.\n",
      "\n",
      "4. **Operating Margin**:\n",
      "   - The operating margin improved from 29% to 38%, indicating better cost management and higher profitability.\n",
      "\n",
      "5. **Net Income**:\n",
      "   - Net income grew by 73%, which is a strong indicator of overall financial health and efficiency.\n",
      "\n",
      "6. **Effective Tax Rate**:\n",
      "   - The effective tax rate decreased from 16% to 11%, which could contribute to higher net income.\n",
      "\n",
      "### Neutral to Slightly Negative Indicators\n",
      "\n",
      "1. **Reduction in Current Assets**:\n",
      "   - Total current assets decreased from $85,365 million to $76,431 million, suggesting reduced liquidity.\n",
      "   - Cash and cash equivalents dropped from $41,862 million to $32,045 million, which might indicate reduced operational cash flow or higher capital expenditures.\n",
      "\n",
      "2. **Decrease in Retained Earnings**:\n",
      "   - Retained earnings decreased to $81,188 million from $82,070 million, which might imply dividend payouts or other distributions.\n",
      "\n",
      "3. **Slight Increase in Liabilities**:\n",
      "   - While total liabilities decreased slightly, there were increases in long-term debt and certain non-current liabilities, which could pose future obligations.\n",
      "\n",
      "### Summary\n",
      "\n",
      "The positive indicators, particularly the strong growth in EPS, revenue, net income, and operating margin, outweigh the neutral to slightly negative indicators. The decrease in current assets and the slight increase in some liabilities do warrant a bit of caution but do not significantly dampen the overall positive financial outlook.\n",
      "\n",
      "Therefore, a sentiment score of 8 out of 10 reflects a strong, optimistic outlook for Meta Platforms, Inc., acknowledging the impressive financial performance while taking into account some areas that require monitoring.\n",
      "-----\n",
      "Non Contextualized\n",
      "-----\n",
      "I would give the outlook a sentiment score of 7 out of 10. Here's the reasoning behind this score:\n",
      "\n",
      "### Positive Aspects:\n",
      "1. **Revenue Growth**: The expected third-quarter revenue range of $38.5-41 billion suggests a strong performance, indicating confidence in continued growth.\n",
      "2. **Stable Expense Forecast**: Total expenses for the year 2024 are expected to remain unchanged from the prior outlook, which suggests stability in financial planning.\n",
      "3. **Increased Investment**: The increase in capital expenditures to support AI research and product development indicates a forward-looking approach and investment in future growth.\n",
      "4. **Tax Rate**: An expected tax rate in the mid-teens is relatively favorable.\n",
      "\n",
      "### Neutral/Negative Aspects:\n",
      "1. **Foreign Currency Headwind**: A 2% headwind due to foreign currency exchange rates could slightly dampen revenue growth.\n",
      "2. **Reality Labs Losses**: The expectation of increased operating losses for Reality Labs indicates ongoing challenges in that segment.\n",
      "3. **Regulatory Headwinds**: Active regulatory landscapes, particularly in the EU and the U.S., could pose significant risks to business operations and financial results.\n",
      "\n",
      "### Summary:\n",
      "While there are strong indicators of growth and strategic investment, some risks and uncertainties remain, particularly regarding regulatory environments and segment-specific losses. Therefore, the overall sentiment is positive but tempered by these challenges, leading to a score of 7 out of 10.\n"
     ]
    }
   ],
   "source": [
    "# Query the RAG chain!\n",
    "RAG(\"Given a sentiment score between 1 and 10 for the outlook? Explain your reasoning\")"
   ]
  },
  {
   "cell_type": "markdown",
   "metadata": {
    "id": "OsU9SeSSQvHT"
   },
   "source": [
    "### Conclusion: We see that there are several situations where the non-contextualized response is incorrect and the contextualized response is correct. We also see there are some situations where they are both correct. In general, the more complex your tables and the more tables you have, the more advantageous this method becomes."
   ]
  },
  {
   "cell_type": "markdown",
   "metadata": {
    "id": "zSx44UqyA4zs"
   },
   "source": [
    "### Delete the KDB.AI Tables\n",
    "Once finished with the table, it is best practice to drop it."
   ]
  },
  {
   "cell_type": "code",
   "execution_count": 35,
   "metadata": {
    "id": "s4bCBKCogmSK"
   },
   "outputs": [],
   "source": [
    "table_contextualized.drop()\n",
    "table_non_contextualized.drop()"
   ]
  },
  {
   "cell_type": "markdown",
   "metadata": {
    "id": "ay0yOj2ggmSK"
   },
   "source": [
    "#### Take Our Survey\n",
    "We hope you found this sample helpful! Your feedback is important to us, and we would appreciate it if you could take a moment to fill out our brief survey. Your input helps us improve our content.\n",
    "\n",
    "Take the [Survey](https://delighted.com/t/U2RoT32R)"
   ]
  }
 ],
 "metadata": {
  "colab": {
   "provenance": []
  },
  "kernelspec": {
   "display_name": "Python 3",
   "name": "python3"
  },
  "language_info": {
   "codemirror_mode": {
    "name": "ipython",
    "version": 3
   },
   "file_extension": ".py",
   "mimetype": "text/x-python",
   "name": "python",
   "nbconvert_exporter": "python",
   "pygments_lexer": "ipython3",
   "version": "3.10.12"
  }
 },
 "nbformat": 4,
 "nbformat_minor": 0
}
