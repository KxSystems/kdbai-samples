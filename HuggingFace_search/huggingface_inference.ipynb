{
 "cells": [
  {
   "cell_type": "markdown",
   "id": "bb2094b8-13a5-4f7c-bd21-d2c709dab914",
   "metadata": {
    "id": "bb2094b8-13a5-4f7c-bd21-d2c709dab914"
   },
   "source": [
    "# Using Hugging Face Inference with KDB.AI to Create a AI Tool Search Engine\n",
    "\n",
    "##### Note: This example requires a KDB.AI endpoint and API key. Sign up for a free [KDB.AI account](https://kdb.ai/get-started).\n",
    "\n",
    "How to get started with using the Huggingface Inference API with KDB.AI.\n",
    "\n",
    "You will learn how to:\n",
    "\n",
    "1. Connect to KDB.AI\n",
    "2. Create a KDB.AI Database & Table\n",
    "3. Load Data\n",
    "4. Use the Sentence Transformers library to embed every description in the dataset\n",
    "5. Insert the data into our KDB.AI table\n",
    "6. Perform Similarity Search using the Huggingface Inference API\n",
    "7. Delete the KDB.AI Database & Table to Conserve Resources"
   ]
  },
  {
   "cell_type": "markdown",
   "id": "nZHRcTHI9bZG",
   "metadata": {
    "id": "nZHRcTHI9bZG"
   },
   "source": [
    "# Why Use Hugging Face for Embeddings?\n",
    "\n",
    "When building production applications that utilize embeddings, it's often advantageous to use open-source embedding models for several reasons:\n",
    "\n",
    "1. **Control**: Open-source models give developers more control over the embeddings process, reducing dependence on third-party embedding providers.\n",
    "\n",
    "2. **Local Embedding**: With open-source models, you can create embeddings locally, which is particularly useful for embedding your dataset.\n",
    "\n",
    "A common approach is to use a Python framework like sentence-transformers, developed by Hugging Face, which offers state-of-the-art sentence, text, and image embeddings. Here's a typical workflow:\n",
    "\n",
    "1. **Embed your dataset locally**: Use a library like Sentence Transformers to embed your dataset, which might consist of AI tools and associated metadata.\n",
    "\n",
    "2. **Embed queries at inference time**: When a user submits a query, use an external service like Hugging Face's Inference API to embed the query. This eliminates the need to deploy your own model, allowing you to leverage a fully optimized external service.\n",
    "\n",
    "By following this approach, you can build a system that searches through hundreds of AI tools without the need to deploy any infrastructure (and scale to millions!). Additionally, since you embed the dataset locally, you can use Hugging Face's free plan without requiring a credit card or worrying about hitting rate limits, at least until you are ready for production.\n",
    "\n",
    "In this tutorial, we will walk through the process of embedding a dataset of AI tools using Sentence Transformers, and then using Hugging Face's Inference API to embed queries at inference time, enabling efficient and scalable search capabilities.\n",
    "\n",
    "You will need a Hugging Face api token for this sample. Please create a Hugging Face account by going to [Hugging Face – The AI community building the future](https://huggingface.co/) and create a token by going to https://huggingface.co/settings/tokens\n",
    "\n",
    "You can then enter this token below or set it to HF_TOKEN in your environment."
   ]
  },
  {
   "cell_type": "markdown",
   "id": "260d0f4b-ef09-4bd2-a197-a9351be24684",
   "metadata": {
    "id": "260d0f4b-ef09-4bd2-a197-a9351be24684"
   },
   "source": [
    "# 0. Setup"
   ]
  },
  {
   "cell_type": "markdown",
   "id": "d1468bd3",
   "metadata": {
    "id": "d1468bd3"
   },
   "source": [
    "### Install dependencies\n",
    "\n",
    "In order to successfully run this sample, note the following steps depending on where you are running this notebook:\n",
    "\n",
    "-***Run Locally / Private Environment:*** The [Setup](https://github.com/KxSystems/kdbai-samples/blob/main/README.md#setup) steps in the repository's `README.md` will guide you on prerequisites and how to run this with Jupyter.\n",
    "\n",
    "\n",
    "-***Colab / Hosted Environment:*** Open this notebook in Colab and run through the cells."
   ]
  },
  {
   "cell_type": "code",
   "execution_count": null,
   "id": "9f4996e9",
   "metadata": {},
   "outputs": [],
   "source": [
    "!pip install kdbai_client"
   ]
  },
  {
   "cell_type": "code",
   "execution_count": null,
   "id": "491cd6d6",
   "metadata": {
    "id": "491cd6d6"
   },
   "outputs": [],
   "source": [
    "!pip install sentence-transformers"
   ]
  },
  {
   "cell_type": "markdown",
   "id": "cc6d17b7",
   "metadata": {
    "id": "cc6d17b7"
   },
   "source": [
    "### Import Packages"
   ]
  },
  {
   "cell_type": "code",
   "execution_count": 26,
   "id": "805d97da",
   "metadata": {
    "id": "805d97da"
   },
   "outputs": [],
   "source": [
    "# vector DB\n",
    "import os\n",
    "from getpass import getpass\n",
    "import kdbai_client as kdbai\n",
    "import time"
   ]
  },
  {
   "cell_type": "code",
   "execution_count": 27,
   "id": "a55ae34e-472b-4aa7-9add-1fcb2ee24a41",
   "metadata": {
    "id": "a55ae34e-472b-4aa7-9add-1fcb2ee24a41"
   },
   "outputs": [],
   "source": [
    "import numpy as np\n",
    "import pandas as pd"
   ]
  },
  {
   "cell_type": "markdown",
   "id": "8c660c7d",
   "metadata": {
    "id": "8c660c7d"
   },
   "source": [
    "# 1. Connect to KDB.AI"
   ]
  },
  {
   "cell_type": "markdown",
   "id": "d3a3aa22",
   "metadata": {
    "id": "d3a3aa22"
   },
   "source": [
    "### Define KDB.AI Session\n",
    "\n",
    "KDB.AI comes in two offerings:\n",
    "\n",
    "1. [KDB.AI Cloud](https://trykdb.kx.com/kdbai/signup/) - For experimenting with smaller generative AI projects with a vector database in our cloud.\n",
    "2. [KDB.AI Server](https://trykdb.kx.com/kdbaiserver/signup/) - For evaluating large scale generative AI applications on-premises or on your own cloud provider.\n",
    "\n",
    "Depending on which you use there will be different setup steps and connection details required.\n",
    "\n",
    "##### Option 1. KDB.AI Cloud\n",
    "\n",
    "To use KDB.AI Cloud, you will need two session details - a URL endpoint and an API key.\n",
    "To get these you can sign up for free [here](https://trykdb.kx.com/kdbai/signup).\n",
    "\n",
    "You can connect to a KDB.AI Cloud session using `kdbai.Session` and passing the session URL endpoint and API key details from your KDB.AI Cloud portal.\n",
    "\n",
    "If the environment variables `KDBAI_ENDPOINTS` and `KDBAI_API_KEY` exist on your system containing your KDB.AI Cloud portal details, these variables will automatically be used to connect.\n",
    "If these do not exist, it will prompt you to enter your KDB.AI Cloud portal session URL endpoint and API key details."
   ]
  },
  {
   "cell_type": "code",
   "execution_count": 28,
   "id": "2e85c1ff",
   "metadata": {
    "id": "2e85c1ff"
   },
   "outputs": [],
   "source": [
    "KDBAI_ENDPOINT = (\n",
    "    os.environ[\"KDBAI_ENDPOINT\"]\n",
    "    if \"KDBAI_ENDPOINT\" in os.environ\n",
    "    else input(\"KDB.AI endpoint: \")\n",
    ")\n",
    "KDBAI_API_KEY = (\n",
    "    os.environ[\"KDBAI_API_KEY\"]\n",
    "    if \"KDBAI_API_KEY\" in os.environ\n",
    "    else getpass(\"KDB.AI API key: \")\n",
    ")"
   ]
  },
  {
   "cell_type": "code",
   "execution_count": 29,
   "id": "Dpi_auWw68cy",
   "metadata": {
    "colab": {
     "base_uri": "https://localhost:8080/"
    },
    "id": "Dpi_auWw68cy",
    "outputId": "fb43c068-7893-426b-b5bf-559e31a401e2"
   },
   "outputs": [],
   "source": [
    "HF_TOKEN = (\n",
    "    os.environ[\"HF_TOKEN\"]\n",
    "    if \"HF_TOKEN\" in os.environ\n",
    "    else getpass(\"Hugging Face token: \")\n",
    ")"
   ]
  },
  {
   "cell_type": "code",
   "execution_count": null,
   "id": "6f330098",
   "metadata": {
    "id": "6f330098"
   },
   "outputs": [],
   "source": [
    "session = kdbai.Session(api_key=KDBAI_API_KEY, endpoint=KDBAI_ENDPOINT)"
   ]
  },
  {
   "cell_type": "markdown",
   "id": "86f16226",
   "metadata": {
    "id": "86f16226"
   },
   "source": [
    "##### Option 2. KDB.AI Server\n",
    "\n",
    "To use KDB.AI Server, you will need download and run your own container.\n",
    "To do this, you will first need to sign up for free [here](https://trykdb.kx.com/kdbaiserver/signup/).\n",
    "\n",
    "You will receive an email with the required license file and bearer token needed to download your instance.\n",
    "Follow instructions in the signup email to get your session up and running.\n",
    "\n",
    "Once the [setup steps](https://code.kx.com/kdbai/gettingStarted/kdb-ai-server-setup.html) are complete you can then connect to your KDB.AI Server session using `kdbai.Session` and passing your local endpoint."
   ]
  },
  {
   "cell_type": "code",
   "execution_count": 31,
   "id": "ff249f70",
   "metadata": {
    "id": "ff249f70"
   },
   "outputs": [],
   "source": [
    "# session = kdbai.Session(endpoint=\"http://localhost:8082\")"
   ]
  },
  {
   "cell_type": "markdown",
   "id": "8788a6b1",
   "metadata": {
    "id": "8788a6b1"
   },
   "source": [
    "### Verify Defined Databases\n",
    "\n",
    "We can check our connection using the `session.databases()` function.\n",
    "This will return a list of all the databases we have defined in our vector database thus far.\n",
    "This should return a \"default\" database along with any other databases you have already created."
   ]
  },
  {
   "cell_type": "code",
   "execution_count": 32,
   "id": "7877f51c",
   "metadata": {
    "colab": {
     "base_uri": "https://localhost:8080/"
    },
    "id": "7877f51c",
    "outputId": "0e6fca8a-e50b-4b01-a080-b082bf23d889"
   },
   "outputs": [
    {
     "data": {
      "text/plain": [
       "[KDBAI database \"default\"]"
      ]
     },
     "execution_count": 32,
     "metadata": {},
     "output_type": "execute_result"
    }
   ],
   "source": [
    "session.databases()"
   ]
  },
  {
   "cell_type": "markdown",
   "id": "i5NYByShWqeK",
   "metadata": {
    "id": "i5NYByShWqeK"
   },
   "source": [
    "### Create a Database Called \"myDatabase\""
   ]
  },
  {
   "cell_type": "code",
   "execution_count": 33,
   "id": "97e5f4a9",
   "metadata": {
    "id": "97e5f4a9"
   },
   "outputs": [],
   "source": [
    "# ensure no database called \"myDatabase\" exists\n",
    "try:\n",
    "    session.database(\"myDatabase\").drop()\n",
    "except kdbai.KDBAIException:\n",
    "    pass"
   ]
  },
  {
   "cell_type": "code",
   "execution_count": 34,
   "id": "Gbvw4SzqWprx",
   "metadata": {
    "id": "Gbvw4SzqWprx"
   },
   "outputs": [],
   "source": [
    "# Create the database\n",
    "db = session.create_database(\"myDatabase\")"
   ]
  },
  {
   "cell_type": "markdown",
   "id": "e33f03c3",
   "metadata": {
    "id": "e33f03c3"
   },
   "source": [
    "# 2. Create a KDB.AI Table\n",
    "\n",
    "To create a table we can use `create_table`, this function takes two arguments - the name and schema of the table.\n",
    "\n",
    "This schema must meet the following criteria:\n",
    "- It must contain a list of columns.\n",
    "- All columns must have either a `type` or a `qtype`.\n",
    "- One column of vector embeddings, this column is implicitly an array of `float64s`."
   ]
  },
  {
   "cell_type": "markdown",
   "id": "9da55253",
   "metadata": {
    "id": "9da55253"
   },
   "source": [
    "### Define Schema\n",
    "The schema contains all metadata columns, and a 'description_embedding' column which will be used for similarity search\n"
   ]
  },
  {
   "cell_type": "code",
   "execution_count": 35,
   "id": "e5e8b782",
   "metadata": {
    "id": "e5e8b782"
   },
   "outputs": [],
   "source": [
    "schema = [\n",
    "        {\"name\": \"id\", \"type\": \"str\"},\n",
    "        {\"name\": \"name\", \"type\": \"str\"},\n",
    "        {\"name\": \"description\", \"type\": \"str\"},\n",
    "        {\"name\": \"summary\", \"type\": \"str\"},\n",
    "        {\"name\": \"title\", \"type\": \"str\"},\n",
    "        {\"name\": \"visitors\", \"type\": \"int64\"},\n",
    "        {\"name\": \"description_embedding\", \"type\": \"float64s\"},\n",
    "    ]"
   ]
  },
  {
   "cell_type": "markdown",
   "id": "i9ePLlo3adwt",
   "metadata": {
    "id": "i9ePLlo3adwt"
   },
   "source": [
    "### Define the indexes\n",
    "We will define our dimensionality, similarity metric and index type with the vectorIndex attribute. For this example we chose:\n",
    "\n",
    "- type = hnsw : HNSW enhances efficiency while maintaining accuracy. You have the choice of using other indexes like, qHNSW, and IVFPQ, qFlat or a Flat index here, as with metrics the one you chose depends your data and your overall performance requirements.\n",
    "- name = hnsw_index : this is a custom name you give your index.\n",
    "\n",
    "#### params:\n",
    "- dims = 384 : In the next section, we generate embeddings that are 384-dimensional to match this. The number of dimensions should mirror the output dimensions of your embedding model.\n",
    "- metric = L2 : We chose L2/Euclidean distance. Our dummy dataset is low dimensional which Euclidean distance is suitable for. You have the choice of using other metrics here like IP/Inner Product and CS/Cosine Similarity and the one you chose depends on the specific context and nature of your data.\n",
    "\n",
    "!Note, it is possible to define multiple indexes within a table!"
   ]
  },
  {
   "cell_type": "code",
   "execution_count": 36,
   "id": "1-2uL1JMXP37",
   "metadata": {
    "id": "1-2uL1JMXP37"
   },
   "outputs": [],
   "source": [
    "# Define the index\n",
    "indexes = [\n",
    "    {\n",
    "        'type': 'hnsw',\n",
    "        'name': 'hnsw_index',\n",
    "        'column': 'description_embedding',\n",
    "        'params': {'dims': 384, 'metric': \"L2\"},\n",
    "    },\n",
    "]\n"
   ]
  },
  {
   "cell_type": "markdown",
   "id": "09a5caa0",
   "metadata": {
    "id": "09a5caa0"
   },
   "source": [
    "### Create Table"
   ]
  },
  {
   "cell_type": "code",
   "execution_count": 37,
   "id": "34067680",
   "metadata": {
    "id": "34067680"
   },
   "outputs": [],
   "source": [
    "table = db.create_table(table=\"ai_tools\", schema=schema, indexes=indexes)"
   ]
  },
  {
   "cell_type": "markdown",
   "id": "20afbea1",
   "metadata": {
    "id": "20afbea1"
   },
   "source": [
    "# 3. Load Data\n",
    "\n",
    "We fetch data from a github gist containing companies, descriptions, and some metadata. We will then add these to pandas dataframe with column names/types matching the target table."
   ]
  },
  {
   "cell_type": "code",
   "execution_count": 38,
   "id": "37581e86",
   "metadata": {
    "colab": {
     "base_uri": "https://localhost:8080/",
     "height": 293
    },
    "id": "37581e86",
    "outputId": "aebcdcdb-303e-4eda-8c58-36610243e3ac"
   },
   "outputs": [
    {
     "data": {
      "text/html": [
       "<div>\n",
       "<style scoped>\n",
       "    .dataframe tbody tr th:only-of-type {\n",
       "        vertical-align: middle;\n",
       "    }\n",
       "\n",
       "    .dataframe tbody tr th {\n",
       "        vertical-align: top;\n",
       "    }\n",
       "\n",
       "    .dataframe thead th {\n",
       "        text-align: right;\n",
       "    }\n",
       "</style>\n",
       "<table border=\"1\" class=\"dataframe\">\n",
       "  <thead>\n",
       "    <tr style=\"text-align: right;\">\n",
       "      <th></th>\n",
       "      <th>description</th>\n",
       "      <th>id</th>\n",
       "      <th>name</th>\n",
       "      <th>summary</th>\n",
       "      <th>title</th>\n",
       "      <th>visitors</th>\n",
       "    </tr>\n",
       "  </thead>\n",
       "  <tbody>\n",
       "    <tr>\n",
       "      <th>0</th>\n",
       "      <td>Generate 3D textures for your game in seconds ...</td>\n",
       "      <td>rec_cfn1112cibvc11jnn2qg</td>\n",
       "      <td>TextureLab</td>\n",
       "      <td>TextureLab is a website that provides 3D textu...</td>\n",
       "      <td>Instant And Unique 3D Textures For Your Next G...</td>\n",
       "      <td>23913</td>\n",
       "    </tr>\n",
       "    <tr>\n",
       "      <th>1</th>\n",
       "      <td>Luma Labs enables users to explore 3D modeling...</td>\n",
       "      <td>rec_cfn1112cibvc11jnn2r0</td>\n",
       "      <td>lumalabs</td>\n",
       "      <td>Luma Labs is a website that offers an early ex...</td>\n",
       "      <td>Imagine 3D V1.2 (Alpha)</td>\n",
       "      <td>456963</td>\n",
       "    </tr>\n",
       "    <tr>\n",
       "      <th>2</th>\n",
       "      <td>Make motion capture from video easier and more...</td>\n",
       "      <td>rec_cfn1112cibvc11jnn2rg</td>\n",
       "      <td>plask</td>\n",
       "      <td>Plask is an AI-powered mocap animation tool th...</td>\n",
       "      <td>Ai-Powered Mocap Animation Tool.</td>\n",
       "      <td>90960</td>\n",
       "    </tr>\n",
       "    <tr>\n",
       "      <th>3</th>\n",
       "      <td>Get hundreds of interior design ideas for your...</td>\n",
       "      <td>rec_cfn1112cibvc11jnn2s0</td>\n",
       "      <td>AI Room Planner</td>\n",
       "      <td>AI Room Planner is an online platform that uti...</td>\n",
       "      <td>Interior Design By Ai</td>\n",
       "      <td>211540</td>\n",
       "    </tr>\n",
       "    <tr>\n",
       "      <th>4</th>\n",
       "      <td>A platform powered by AI to help you create be...</td>\n",
       "      <td>rec_cfn1112cibvc11jnn2sg</td>\n",
       "      <td>AI TWO</td>\n",
       "      <td>AI TWO is a website that provides a platform f...</td>\n",
       "      <td>Aitwo.Co - The Ai-Powered All-In-One Design Pl...</td>\n",
       "      <td>7201</td>\n",
       "    </tr>\n",
       "  </tbody>\n",
       "</table>\n",
       "</div>"
      ],
      "text/plain": [
       "                                         description  \\\n",
       "0  Generate 3D textures for your game in seconds ...   \n",
       "1  Luma Labs enables users to explore 3D modeling...   \n",
       "2  Make motion capture from video easier and more...   \n",
       "3  Get hundreds of interior design ideas for your...   \n",
       "4  A platform powered by AI to help you create be...   \n",
       "\n",
       "                         id             name  \\\n",
       "0  rec_cfn1112cibvc11jnn2qg       TextureLab   \n",
       "1  rec_cfn1112cibvc11jnn2r0         lumalabs   \n",
       "2  rec_cfn1112cibvc11jnn2rg            plask   \n",
       "3  rec_cfn1112cibvc11jnn2s0  AI Room Planner   \n",
       "4  rec_cfn1112cibvc11jnn2sg           AI TWO   \n",
       "\n",
       "                                             summary  \\\n",
       "0  TextureLab is a website that provides 3D textu...   \n",
       "1  Luma Labs is a website that offers an early ex...   \n",
       "2  Plask is an AI-powered mocap animation tool th...   \n",
       "3  AI Room Planner is an online platform that uti...   \n",
       "4  AI TWO is a website that provides a platform f...   \n",
       "\n",
       "                                               title  visitors  \n",
       "0  Instant And Unique 3D Textures For Your Next G...     23913  \n",
       "1                            Imagine 3D V1.2 (Alpha)    456963  \n",
       "2                   Ai-Powered Mocap Animation Tool.     90960  \n",
       "3                              Interior Design By Ai    211540  \n",
       "4  Aitwo.Co - The Ai-Powered All-In-One Design Pl...      7201  "
      ]
     },
     "execution_count": 38,
     "metadata": {},
     "output_type": "execute_result"
    }
   ],
   "source": [
    "import requests\n",
    "\n",
    "gist_url = \"https://gist.github.com/mrmps/2f62a2287cb2c1ca63a2762fcaac89bc/raw\"\n",
    "response = requests.get(gist_url)\n",
    "ai_tools_data = response.json()\n",
    "df = pd.DataFrame.from_dict(ai_tools_data)\n",
    "\n",
    "# drop column with unecessary metadata\n",
    "df.drop(columns=[\"xata\"], inplace=True)\n",
    "df.head()"
   ]
  },
  {
   "cell_type": "markdown",
   "id": "3bsfi5TO_65G",
   "metadata": {
    "id": "3bsfi5TO_65G"
   },
   "source": [
    "# 4. Use the Sentence Transformers library to embed every description in the dataset"
   ]
  },
  {
   "cell_type": "markdown",
   "id": "PxPJZcUmBajt",
   "metadata": {
    "id": "PxPJZcUmBajt"
   },
   "source": [
    "We set the embedding model to BAAI/bge-small-en-v1.5, which is a fast and small model. This is what we will use during inference time as well.\n",
    "\n",
    "If you want faster inference, you can try the [FastEmbed](https://github.com/qdrant/fastembed) library, a much faster and more lightweight embedding library."
   ]
  },
  {
   "cell_type": "code",
   "execution_count": 39,
   "id": "f5dc41e8",
   "metadata": {
    "colab": {
     "base_uri": "https://localhost:8080/",
     "height": 528
    },
    "id": "f5dc41e8",
    "outputId": "035258f8-a679-4696-c2fc-d7361eea91d4"
   },
   "outputs": [],
   "source": [
    "from sentence_transformers import SentenceTransformer\n",
    "\n",
    "model = SentenceTransformer(\"BAAI/bge-small-en-v1.5\")\n",
    "\n",
    "descriptions = [tool[\"description\"] for tool in ai_tools_data]\n",
    "embeddings = model.encode(descriptions)"
   ]
  },
  {
   "cell_type": "code",
   "execution_count": 40,
   "id": "yxhFJUkwf8M4",
   "metadata": {
    "colab": {
     "base_uri": "https://localhost:8080/"
    },
    "id": "yxhFJUkwf8M4",
    "outputId": "130f1178-ed5c-491b-9bfb-b615b681106b"
   },
   "outputs": [
    {
     "data": {
      "text/plain": [
       "array([[-0.06802839,  0.01769779,  0.07132471, ...,  0.04166844,\n",
       "        -0.01963805, -0.036344  ],\n",
       "       [ 0.00284367,  0.0034911 ,  0.0392653 , ..., -0.01490238,\n",
       "         0.0041208 ,  0.02246646],\n",
       "       [-0.08536491, -0.05372242,  0.01503714, ...,  0.01607881,\n",
       "         0.04058064, -0.02476997],\n",
       "       ...,\n",
       "       [ 0.00551532, -0.02548731, -0.00431467, ..., -0.00406338,\n",
       "         0.06047558, -0.03689232],\n",
       "       [-0.08149453, -0.00607409, -0.00040346, ...,  0.02765157,\n",
       "         0.04479544, -0.00464933],\n",
       "       [-0.09128137, -0.05604199,  0.01856982, ...,  0.01355306,\n",
       "         0.05817638, -0.05754769]], dtype=float32)"
      ]
     },
     "execution_count": 40,
     "metadata": {},
     "output_type": "execute_result"
    }
   ],
   "source": [
    "embeddings"
   ]
  },
  {
   "cell_type": "markdown",
   "id": "zJeeJHvgAeZ1",
   "metadata": {
    "id": "zJeeJHvgAeZ1"
   },
   "source": [
    "# 5. Insert the data into our KDB.AI table"
   ]
  },
  {
   "cell_type": "code",
   "execution_count": 41,
   "id": "730c9f08",
   "metadata": {
    "colab": {
     "base_uri": "https://localhost:8080/"
    },
    "id": "730c9f08",
    "outputId": "61dd248a-8372-421c-c1dc-047f405da5b2"
   },
   "outputs": [
    {
     "data": {
      "text/plain": [
       "{'rowsInserted': 851}"
      ]
     },
     "execution_count": 41,
     "metadata": {},
     "output_type": "execute_result"
    }
   ],
   "source": [
    "# Create a DataFrame with the AI tools data\n",
    "data = pd.DataFrame(ai_tools_data)[[\"id\", \"name\", \"description\", \"summary\", \"title\", \"visitors\"]]\n",
    "data[\"description_embedding\"] = embeddings.tolist()\n",
    "\n",
    "# Bulk insert the data into KDB.AI\n",
    "table.insert(data)"
   ]
  },
  {
   "cell_type": "markdown",
   "id": "EJtF_k4iZSGe",
   "metadata": {
    "id": "EJtF_k4iZSGe"
   },
   "source": [
    "## Confirm data is loaded correctly"
   ]
  },
  {
   "cell_type": "code",
   "execution_count": 42,
   "id": "b4nBmPXrZPUQ",
   "metadata": {
    "colab": {
     "base_uri": "https://localhost:8080/",
     "height": 770
    },
    "id": "b4nBmPXrZPUQ",
    "outputId": "ec15f76e-9c32-4bf1-baf1-55a67ef1d8bb"
   },
   "outputs": [
    {
     "data": {
      "text/html": [
       "<div>\n",
       "<style scoped>\n",
       "    .dataframe tbody tr th:only-of-type {\n",
       "        vertical-align: middle;\n",
       "    }\n",
       "\n",
       "    .dataframe tbody tr th {\n",
       "        vertical-align: top;\n",
       "    }\n",
       "\n",
       "    .dataframe thead th {\n",
       "        text-align: right;\n",
       "    }\n",
       "</style>\n",
       "<table border=\"1\" class=\"dataframe\">\n",
       "  <thead>\n",
       "    <tr style=\"text-align: right;\">\n",
       "      <th></th>\n",
       "      <th>id</th>\n",
       "      <th>name</th>\n",
       "      <th>description</th>\n",
       "      <th>summary</th>\n",
       "      <th>title</th>\n",
       "      <th>visitors</th>\n",
       "      <th>description_embedding</th>\n",
       "    </tr>\n",
       "  </thead>\n",
       "  <tbody>\n",
       "    <tr>\n",
       "      <th>0</th>\n",
       "      <td>rec_cfn1112cibvc11jnn2qg</td>\n",
       "      <td>TextureLab</td>\n",
       "      <td>Generate 3D textures for your game in seconds ...</td>\n",
       "      <td>TextureLab is a website that provides 3D textu...</td>\n",
       "      <td>Instant And Unique 3D Textures For Your Next G...</td>\n",
       "      <td>23913</td>\n",
       "      <td>[-0.06802839040756226, 0.017697788774967194, 0...</td>\n",
       "    </tr>\n",
       "    <tr>\n",
       "      <th>1</th>\n",
       "      <td>rec_cfn1112cibvc11jnn2r0</td>\n",
       "      <td>lumalabs</td>\n",
       "      <td>Luma Labs enables users to explore 3D modeling...</td>\n",
       "      <td>Luma Labs is a website that offers an early ex...</td>\n",
       "      <td>Imagine 3D V1.2 (Alpha)</td>\n",
       "      <td>456963</td>\n",
       "      <td>[0.0028436651919037104, 0.003491099225357175, ...</td>\n",
       "    </tr>\n",
       "    <tr>\n",
       "      <th>2</th>\n",
       "      <td>rec_cfn1112cibvc11jnn2rg</td>\n",
       "      <td>plask</td>\n",
       "      <td>Make motion capture from video easier and more...</td>\n",
       "      <td>Plask is an AI-powered mocap animation tool th...</td>\n",
       "      <td>Ai-Powered Mocap Animation Tool.</td>\n",
       "      <td>90960</td>\n",
       "      <td>[-0.08536490797996521, -0.05372241884469986, 0...</td>\n",
       "    </tr>\n",
       "    <tr>\n",
       "      <th>3</th>\n",
       "      <td>rec_cfn1112cibvc11jnn2s0</td>\n",
       "      <td>AI Room Planner</td>\n",
       "      <td>Get hundreds of interior design ideas for your...</td>\n",
       "      <td>AI Room Planner is an online platform that uti...</td>\n",
       "      <td>Interior Design By Ai</td>\n",
       "      <td>211540</td>\n",
       "      <td>[0.020655963569879532, 0.028269633650779724, 0...</td>\n",
       "    </tr>\n",
       "    <tr>\n",
       "      <th>4</th>\n",
       "      <td>rec_cfn1112cibvc11jnn2sg</td>\n",
       "      <td>AI TWO</td>\n",
       "      <td>A platform powered by AI to help you create be...</td>\n",
       "      <td>AI TWO is a website that provides a platform f...</td>\n",
       "      <td>Aitwo.Co - The Ai-Powered All-In-One Design Pl...</td>\n",
       "      <td>7201</td>\n",
       "      <td>[-0.02213478274643421, -0.03189412131905556, 0...</td>\n",
       "    </tr>\n",
       "    <tr>\n",
       "      <th>...</th>\n",
       "      <td>...</td>\n",
       "      <td>...</td>\n",
       "      <td>...</td>\n",
       "      <td>...</td>\n",
       "      <td>...</td>\n",
       "      <td>...</td>\n",
       "      <td>...</td>\n",
       "    </tr>\n",
       "    <tr>\n",
       "      <th>846</th>\n",
       "      <td>rec_cod2au57l1i4603r3hvg</td>\n",
       "      <td>Scott Krager</td>\n",
       "      <td>Thumbnails.com uses AI to generate dozens of u...</td>\n",
       "      <td>Unlock the power of eye-catching thumbnails wi...</td>\n",
       "      <td>Thumbnails.com</td>\n",
       "      <td>0</td>\n",
       "      <td>[-0.07755479961633682, -0.05978638306260109, -...</td>\n",
       "    </tr>\n",
       "    <tr>\n",
       "      <th>847</th>\n",
       "      <td>rec_codntepuqmnhe7ku1ing</td>\n",
       "      <td>Nen Fard</td>\n",
       "      <td>StockTune: AI-powered, public-domain music for...</td>\n",
       "      <td>\\nStockTune is a revolutionary platform offeri...</td>\n",
       "      <td>StockTune</td>\n",
       "      <td>0</td>\n",
       "      <td>[-0.03542690351605415, -0.057283081114292145, ...</td>\n",
       "    </tr>\n",
       "    <tr>\n",
       "      <th>848</th>\n",
       "      <td>rec_codr709uqmnhe7ku1te0</td>\n",
       "      <td>Nen Fard</td>\n",
       "      <td>StockCake: Free, AI-generated stock photos in...</td>\n",
       "      <td>StockCake is a revolutionary stock photo site ...</td>\n",
       "      <td>StockCake</td>\n",
       "      <td>0</td>\n",
       "      <td>[0.005515319295227528, -0.025487307459115982, ...</td>\n",
       "    </tr>\n",
       "    <tr>\n",
       "      <th>849</th>\n",
       "      <td>rec_coidgc9uqmnhe7l0eug0</td>\n",
       "      <td>Jason West</td>\n",
       "      <td>FastBots enables anyone to quickly create a po...</td>\n",
       "      <td>FastBots is a no-code AI chatbot builder for b...</td>\n",
       "      <td>FastBots</td>\n",
       "      <td>0</td>\n",
       "      <td>[-0.0814945250749588, -0.006074093747884035, -...</td>\n",
       "    </tr>\n",
       "    <tr>\n",
       "      <th>850</th>\n",
       "      <td>rec_coj3l5aa8o7fb0ajha0g</td>\n",
       "      <td>Dubformer</td>\n",
       "      <td>AI-driven translation and dubbing services</td>\n",
       "      <td>Dubformer is an end-to-end innovative service ...</td>\n",
       "      <td>AI dubbing and video translation solution</td>\n",
       "      <td>0</td>\n",
       "      <td>[-0.09128136932849884, -0.05604198947548866, 0...</td>\n",
       "    </tr>\n",
       "  </tbody>\n",
       "</table>\n",
       "<p>851 rows × 7 columns</p>\n",
       "</div>"
      ],
      "text/plain": [
       "                           id             name  \\\n",
       "0    rec_cfn1112cibvc11jnn2qg       TextureLab   \n",
       "1    rec_cfn1112cibvc11jnn2r0         lumalabs   \n",
       "2    rec_cfn1112cibvc11jnn2rg            plask   \n",
       "3    rec_cfn1112cibvc11jnn2s0  AI Room Planner   \n",
       "4    rec_cfn1112cibvc11jnn2sg           AI TWO   \n",
       "..                        ...              ...   \n",
       "846  rec_cod2au57l1i4603r3hvg     Scott Krager   \n",
       "847  rec_codntepuqmnhe7ku1ing         Nen Fard   \n",
       "848  rec_codr709uqmnhe7ku1te0         Nen Fard   \n",
       "849  rec_coidgc9uqmnhe7l0eug0       Jason West   \n",
       "850  rec_coj3l5aa8o7fb0ajha0g        Dubformer   \n",
       "\n",
       "                                           description  \\\n",
       "0    Generate 3D textures for your game in seconds ...   \n",
       "1    Luma Labs enables users to explore 3D modeling...   \n",
       "2    Make motion capture from video easier and more...   \n",
       "3    Get hundreds of interior design ideas for your...   \n",
       "4    A platform powered by AI to help you create be...   \n",
       "..                                                 ...   \n",
       "846  Thumbnails.com uses AI to generate dozens of u...   \n",
       "847  StockTune: AI-powered, public-domain music for...   \n",
       "848   StockCake: Free, AI-generated stock photos in...   \n",
       "849  FastBots enables anyone to quickly create a po...   \n",
       "850         AI-driven translation and dubbing services   \n",
       "\n",
       "                                               summary  \\\n",
       "0    TextureLab is a website that provides 3D textu...   \n",
       "1    Luma Labs is a website that offers an early ex...   \n",
       "2    Plask is an AI-powered mocap animation tool th...   \n",
       "3    AI Room Planner is an online platform that uti...   \n",
       "4    AI TWO is a website that provides a platform f...   \n",
       "..                                                 ...   \n",
       "846  Unlock the power of eye-catching thumbnails wi...   \n",
       "847  \\nStockTune is a revolutionary platform offeri...   \n",
       "848  StockCake is a revolutionary stock photo site ...   \n",
       "849  FastBots is a no-code AI chatbot builder for b...   \n",
       "850  Dubformer is an end-to-end innovative service ...   \n",
       "\n",
       "                                                 title  visitors  \\\n",
       "0    Instant And Unique 3D Textures For Your Next G...     23913   \n",
       "1                              Imagine 3D V1.2 (Alpha)    456963   \n",
       "2                     Ai-Powered Mocap Animation Tool.     90960   \n",
       "3                                Interior Design By Ai    211540   \n",
       "4    Aitwo.Co - The Ai-Powered All-In-One Design Pl...      7201   \n",
       "..                                                 ...       ...   \n",
       "846                                     Thumbnails.com         0   \n",
       "847                                          StockTune         0   \n",
       "848                                          StockCake         0   \n",
       "849                                           FastBots         0   \n",
       "850          AI dubbing and video translation solution         0   \n",
       "\n",
       "                                 description_embedding  \n",
       "0    [-0.06802839040756226, 0.017697788774967194, 0...  \n",
       "1    [0.0028436651919037104, 0.003491099225357175, ...  \n",
       "2    [-0.08536490797996521, -0.05372241884469986, 0...  \n",
       "3    [0.020655963569879532, 0.028269633650779724, 0...  \n",
       "4    [-0.02213478274643421, -0.03189412131905556, 0...  \n",
       "..                                                 ...  \n",
       "846  [-0.07755479961633682, -0.05978638306260109, -...  \n",
       "847  [-0.03542690351605415, -0.057283081114292145, ...  \n",
       "848  [0.005515319295227528, -0.025487307459115982, ...  \n",
       "849  [-0.0814945250749588, -0.006074093747884035, -...  \n",
       "850  [-0.09128136932849884, -0.05604198947548866, 0...  \n",
       "\n",
       "[851 rows x 7 columns]"
      ]
     },
     "execution_count": 42,
     "metadata": {},
     "output_type": "execute_result"
    }
   ],
   "source": [
    "table.query()"
   ]
  },
  {
   "cell_type": "markdown",
   "id": "0MOZtXLniJLe",
   "metadata": {
    "id": "0MOZtXLniJLe"
   },
   "source": [
    "# 6. Perform Similarity Search Using the Hugging Face Inference API"
   ]
  },
  {
   "cell_type": "markdown",
   "id": "V6KjGhJOANyf",
   "metadata": {
    "id": "V6KjGhJOANyf"
   },
   "source": [
    "## Embed the Query with the Hugging Face Inference API\n",
    "Use the Hugging Face Inference API to embed the query so that it can be used to search our index\n",
    "\n",
    "!! Note that you might need to run this cell a few times as it takes a few seconds for the model to be ready."
   ]
  },
  {
   "cell_type": "code",
   "execution_count": null,
   "id": "4a31f878",
   "metadata": {
    "id": "4a31f878"
   },
   "outputs": [],
   "source": [
    "# Perform a search using Hugging Face embeddings\n",
    "import requests\n",
    "\n",
    "# make sure your URL looks like this to ensure you get instant results, and not a model loading error\n",
    "embedding_url = \"https://api-inference.huggingface.co/pipeline/feature-extraction/BAAI/bge-small-en-v1.5\"\n",
    "\n",
    "def generate_query_embedding(text: str) -> list[float]:\n",
    "    response = requests.post(\n",
    "        embedding_url,\n",
    "        headers={\"Authorization\": f\"Bearer {HF_TOKEN}\", \"x-wait-for-model\": \"true\"},        \n",
    "        json={\"inputs\": text}\n",
    "    )\n",
    "\n",
    "    if response.status_code != 200:\n",
    "        raise ValueError(f\"Request failed with status code {response.status_code}: {response.text}\")\n",
    "    return response.json()\n",
    "\n",
    "query = \"AI tool for creating 3D textures\"\n",
    "query_embedding = generate_query_embedding(query)"
   ]
  },
  {
   "cell_type": "markdown",
   "id": "Wrp9GUwEZmvT",
   "metadata": {
    "id": "Wrp9GUwEZmvT"
   },
   "source": [
    "## Run the query with our query embedding"
   ]
  },
  {
   "cell_type": "markdown",
   "id": "Xumxvz7gaGGp",
   "metadata": {
    "id": "Xumxvz7gaGGp"
   },
   "source": [
    "We are searching based on the description for the most relevant startups to the query. Remember that \"hnsw_index\" is the index name we created when defining our index before creating the table."
   ]
  },
  {
   "cell_type": "code",
   "execution_count": 44,
   "id": "FDrpIofxZl4Z",
   "metadata": {
    "colab": {
     "base_uri": "https://localhost:8080/",
     "height": 299
    },
    "id": "FDrpIofxZl4Z",
    "outputId": "2d5259a5-762a-4ef4-b37c-e8d6ec9d0f68"
   },
   "outputs": [
    {
     "data": {
      "text/html": [
       "<div>\n",
       "<style scoped>\n",
       "    .dataframe tbody tr th:only-of-type {\n",
       "        vertical-align: middle;\n",
       "    }\n",
       "\n",
       "    .dataframe tbody tr th {\n",
       "        vertical-align: top;\n",
       "    }\n",
       "\n",
       "    .dataframe thead th {\n",
       "        text-align: right;\n",
       "    }\n",
       "</style>\n",
       "<table border=\"1\" class=\"dataframe\">\n",
       "  <thead>\n",
       "    <tr style=\"text-align: right;\">\n",
       "      <th></th>\n",
       "      <th>__nn_distance</th>\n",
       "      <th>id</th>\n",
       "      <th>name</th>\n",
       "      <th>description</th>\n",
       "      <th>summary</th>\n",
       "      <th>title</th>\n",
       "      <th>visitors</th>\n",
       "      <th>description_embedding</th>\n",
       "    </tr>\n",
       "  </thead>\n",
       "  <tbody>\n",
       "    <tr>\n",
       "      <th>0</th>\n",
       "      <td>0.25221</td>\n",
       "      <td>rec_cfn1112cibvc11jnn2qg</td>\n",
       "      <td>TextureLab</td>\n",
       "      <td>Generate 3D textures for your game in seconds ...</td>\n",
       "      <td>TextureLab is a website that provides 3D textu...</td>\n",
       "      <td>Instant And Unique 3D Textures For Your Next G...</td>\n",
       "      <td>23913</td>\n",
       "      <td>[-0.06802839040756226, 0.017697788774967194, 0...</td>\n",
       "    </tr>\n",
       "    <tr>\n",
       "      <th>1</th>\n",
       "      <td>0.26723</td>\n",
       "      <td>rec_cfn11a2cibvc11jnndbg</td>\n",
       "      <td>Ponzu.gg</td>\n",
       "      <td>Create realistic 3D images with AI-generated t...</td>\n",
       "      <td>Ponzu is a website that helps 3D artists and d...</td>\n",
       "      <td>Ponzu.</td>\n",
       "      <td>6526</td>\n",
       "      <td>[-0.06463481485843658, -0.014672131277620792, ...</td>\n",
       "    </tr>\n",
       "    <tr>\n",
       "      <th>2</th>\n",
       "      <td>0.34271</td>\n",
       "      <td>rec_cfn119acibvc11jnncf0</td>\n",
       "      <td>Masterpiece Studio</td>\n",
       "      <td>Create 3D models with Generative AI and deploy...</td>\n",
       "      <td>Masterpiece Studio is a company that has devel...</td>\n",
       "      <td>Masterpiece Studio.</td>\n",
       "      <td>38954</td>\n",
       "      <td>[-0.04131263867020607, -0.0035701903980225325,...</td>\n",
       "    </tr>\n",
       "  </tbody>\n",
       "</table>\n",
       "</div>"
      ],
      "text/plain": [
       "   __nn_distance                        id                name  \\\n",
       "0        0.25221  rec_cfn1112cibvc11jnn2qg          TextureLab   \n",
       "1        0.26723  rec_cfn11a2cibvc11jnndbg            Ponzu.gg   \n",
       "2        0.34271  rec_cfn119acibvc11jnncf0  Masterpiece Studio   \n",
       "\n",
       "                                         description  \\\n",
       "0  Generate 3D textures for your game in seconds ...   \n",
       "1  Create realistic 3D images with AI-generated t...   \n",
       "2  Create 3D models with Generative AI and deploy...   \n",
       "\n",
       "                                             summary  \\\n",
       "0  TextureLab is a website that provides 3D textu...   \n",
       "1  Ponzu is a website that helps 3D artists and d...   \n",
       "2  Masterpiece Studio is a company that has devel...   \n",
       "\n",
       "                                               title  visitors  \\\n",
       "0  Instant And Unique 3D Textures For Your Next G...     23913   \n",
       "1                                             Ponzu.      6526   \n",
       "2                                Masterpiece Studio.     38954   \n",
       "\n",
       "                               description_embedding  \n",
       "0  [-0.06802839040756226, 0.017697788774967194, 0...  \n",
       "1  [-0.06463481485843658, -0.014672131277620792, ...  \n",
       "2  [-0.04131263867020607, -0.0035701903980225325,...  "
      ]
     },
     "execution_count": 44,
     "metadata": {},
     "output_type": "execute_result"
    }
   ],
   "source": [
    "results = table.search(vectors={\"hnsw_index\":[query_embedding]},n=3,)\n",
    "\n",
    "results[0]"
   ]
  },
  {
   "cell_type": "markdown",
   "id": "d8aed9bc-72b2-4e70-b763-e7ce054557db",
   "metadata": {
    "id": "d8aed9bc-72b2-4e70-b763-e7ce054557db"
   },
   "source": [
    "# 7. Delete the KDB.AI Table & Database to Conserve Resources\n",
    "\n",
    "\n",
    "We can use `table.drop()` to delete a table, and db.drop() to delete the database."
   ]
  },
  {
   "cell_type": "code",
   "execution_count": 45,
   "id": "548a9d95-aac3-4d63-a87a-99eedfe55f07",
   "metadata": {
    "colab": {
     "base_uri": "https://localhost:8080/"
    },
    "id": "548a9d95-aac3-4d63-a87a-99eedfe55f07",
    "outputId": "ba89c1d4-997e-46e7-97d6-e33a8e50d51e"
   },
   "outputs": [
    {
     "data": {
      "text/plain": [
       "True"
      ]
     },
     "execution_count": 45,
     "metadata": {},
     "output_type": "execute_result"
    }
   ],
   "source": [
    "table.drop()\n",
    "db.drop()"
   ]
  },
  {
   "cell_type": "markdown",
   "id": "8bc6d801-1371-48d0-98b4-0baa53bc8446",
   "metadata": {
    "id": "8bc6d801-1371-48d0-98b4-0baa53bc8446"
   },
   "source": [
    "<div class=\"alert alert-block alert-warning\">\n",
    "<b>Warning:</b> Once you drop a table, you cannot use it again.\n",
    "</div>"
   ]
  },
  {
   "cell_type": "markdown",
   "id": "RU2pzQCAn-Wm",
   "metadata": {
    "id": "RU2pzQCAn-Wm"
   },
   "source": [
    "## Take Our Survey\n",
    "\n",
    "We hope you found this sample helpful! Your feedback is important to us, and we would appreciate it if you could take a moment to fill out our brief survey. Your input helps us improve our content.\n",
    "\n",
    "[**Take the Survey**](https://delighted.com/t/UGvwprmK)"
   ]
  },
  {
   "cell_type": "markdown",
   "id": "a7672241-42b0-4798-90d7-95aa9fefe68c",
   "metadata": {
    "id": "a7672241-42b0-4798-90d7-95aa9fefe68c"
   },
   "source": [
    "## Next Steps\n",
    "\n",
    "Now that you’re successfully making indexes with KDB.AI, you can start inserting your own data or view more examples:\n",
    "- [PDF Document Search](../document_search)\n",
    "- [MRI Image Search](../image_search)\n",
    "- [Music Recommendation System](../music_recommendation)\n",
    "- [Sensor Pattern Matching](../pattern_matching)\n",
    "- [Retrieval Augmented Generation with LangChain](../retrieval_augmented_generation)\n",
    "- [Sentiment Analysis of Reviews](../sentiment_analysis)"
   ]
  }
 ],
 "metadata": {
  "colab": {
   "provenance": []
  },
  "kernelspec": {
   "display_name": "Python 3",
   "language": "python",
   "name": "python3"
  },
  "language_info": {
   "codemirror_mode": {
    "name": "ipython",
    "version": 3
   },
   "file_extension": ".py",
   "mimetype": "text/x-python",
   "name": "python",
   "nbconvert_exporter": "python",
   "pygments_lexer": "ipython3",
   "version": "3.10.12"
  }
 },
 "nbformat": 4,
 "nbformat_minor": 5
}
