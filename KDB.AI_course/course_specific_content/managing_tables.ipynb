{
 "cells": [
  {
   "cell_type": "markdown",
   "id": "bb2094b8-13a5-4f7c-bd21-d2c709dab914",
   "metadata": {
    "id": "bb2094b8-13a5-4f7c-bd21-d2c709dab914"
   },
   "source": [
    "# Managing Tables in KDB.AI\n",
    "[Video Walkthough](https://www.youtube.com/watch?v=XH5iNkcFKXc&list=PLypX5sYuDqvrqsXTw876gGHosCKvK_7QS&index=6)\n",
    "\n",
    "##### Note: This example requires a KDB.AI endpoint and API key. Sign up for a free [KDB.AI account](https://kdb.ai/get-started).\n",
    "\n",
    "\n",
    "\n",
    "How to get started with the KDB.AI vector database. Here, you'll get a quick taste of KDB.AI in  ~10 minutes.\n",
    "\n",
    "You will learn how to:\n",
    "\n",
    "1. Connect to KDB.AI\n",
    "1. Create a KDB.AI Table\n",
    "1. Add Data to the KDB.AI Table\n",
    "1. Query the Table\n",
    "1. Perform Similarity Search\n",
    "1. Delete the KDB.AI Table"
   ]
  },
  {
   "cell_type": "markdown",
   "id": "260d0f4b-ef09-4bd2-a197-a9351be24684",
   "metadata": {
    "id": "260d0f4b-ef09-4bd2-a197-a9351be24684"
   },
   "source": [
    "## 0. Setup"
   ]
  },
  {
   "cell_type": "markdown",
   "id": "d1468bd3",
   "metadata": {
    "id": "d1468bd3"
   },
   "source": [
    "### Install dependencies\n",
    "\n",
    "In order to successfully run this sample, note the following steps depending on where you are running this notebook:\n",
    "\n",
    "-***Run Locally / Private Environment:*** The [Setup](https://github.com/KxSystems/kdbai-samples/blob/main/README.md#setup) steps in the repository's `README.md` will guide you on prerequisites and how to run this with Jupyter.\n",
    "\n",
    "\n",
    "-***Colab / Hosted Environment:*** Open this notebook in Colab and run through the cells."
   ]
  },
  {
   "cell_type": "code",
   "execution_count": null,
   "id": "491cd6d6",
   "metadata": {
    "id": "491cd6d6"
   },
   "outputs": [],
   "source": [
    "!pip install kdbai_client"
   ]
  },
  {
   "cell_type": "markdown",
   "id": "cc6d17b7",
   "metadata": {
    "id": "cc6d17b7"
   },
   "source": [
    "### Import Packages"
   ]
  },
  {
   "cell_type": "code",
   "execution_count": null,
   "id": "805d97da",
   "metadata": {
    "id": "805d97da"
   },
   "outputs": [],
   "source": [
    "# vector DB\n",
    "import os\n",
    "from getpass import getpass\n",
    "import kdbai_client as kdbai\n",
    "import time"
   ]
  },
  {
   "cell_type": "code",
   "execution_count": null,
   "id": "a55ae34e-472b-4aa7-9add-1fcb2ee24a41",
   "metadata": {
    "id": "a55ae34e-472b-4aa7-9add-1fcb2ee24a41"
   },
   "outputs": [],
   "source": [
    "import numpy as np\n",
    "import pandas as pd"
   ]
  },
  {
   "cell_type": "markdown",
   "id": "8c660c7d",
   "metadata": {
    "id": "8c660c7d"
   },
   "source": [
    "With the embeddings created, we need to store them in a vector database to enable efficient searching.\n",
    "\n",
    "### Connect to KDB.AI Server\n",
    "\n",
    "To use KDB.AI Server, you will need download and run your own container.\n",
    "To do this, you will first need to sign up for free [here](https://trykdb.kx.com/kdbaiserver/signup/).\n",
    "\n",
    "You will receive an email with the required license file and bearer token needed to download your instance.\n",
    "Follow instructions in the signup email to get your session up and running.\n",
    "\n",
    "Once the [setup steps](https://code.kx.com/kdbai/gettingStarted/kdb-ai-server-setup.html) are complete you can then connect to your KDB.AI Server session using `kdbai.Session` and passing your local endpoint."
   ]
  },
  {
   "cell_type": "code",
   "execution_count": null,
   "id": "2e85c1ff",
   "metadata": {
    "id": "2e85c1ff"
   },
   "outputs": [],
   "source": [
    "#Set up KDB.AI server endpoint \n",
    "KDBAI_ENDPOINT = (\n",
    "    os.environ[\"KDBAI_ENDPOINT\"]\n",
    "    if \"KDBAI_ENDPOINT\" in os.environ\n",
    "    else \"http://localhost:8082\"\n",
    ")\n",
    "\n",
    "\n",
    "#connect to KDB.AI Server, default mode is qipc\n",
    "session = kdbai.Session(endpoint=KDBAI_ENDPOINT)"
   ]
  },
  {
   "cell_type": "code",
   "execution_count": null,
   "id": "6f330098",
   "metadata": {
    "id": "6f330098"
   },
   "outputs": [],
   "source": [
    "database = session.database(\"default\")"
   ]
  },
  {
   "cell_type": "markdown",
   "id": "1ec2c77b",
   "metadata": {
    "id": "1ec2c77b"
   },
   "source": [
    "<div class=\"alert alert-block alert-info\">\n",
    "<b>Need help understanding a function?</b><br/>\n",
    "Add ? before or after any function name in KDB.AI to bring up the documentation for that function along with sample code and arguments.\n",
    "</div>"
   ]
  },
  {
   "cell_type": "code",
   "execution_count": null,
   "id": "6e54917b",
   "metadata": {
    "id": "6e54917b"
   },
   "outputs": [],
   "source": [
    "?kdbai.Session"
   ]
  },
  {
   "cell_type": "markdown",
   "id": "8788a6b1",
   "metadata": {
    "id": "8788a6b1"
   },
   "source": [
    "### Verify Defined Tables\n",
    "\n",
    "We can check our connection using the `session.list()` function.\n",
    "This will return a list of all the tables we have defined in our vector database thus far.\n",
    "This should return an empty list."
   ]
  },
  {
   "cell_type": "code",
   "execution_count": null,
   "id": "97e5f4a9",
   "metadata": {
    "id": "97e5f4a9"
   },
   "outputs": [],
   "source": [
    "# ensure no table called \"data\" exists\n",
    "try:\n",
    "    database.table(\"data\").drop()\n",
    "except kdbai.KDBAIException:\n",
    "    pass"
   ]
  },
  {
   "cell_type": "code",
   "execution_count": null,
   "id": "7877f51c",
   "metadata": {
    "id": "7877f51c",
    "outputId": "a6deb89e-0325-4686-f111-b611f5acb2e5"
   },
   "outputs": [
    {
     "data": {
      "text/plain": [
       "[]"
      ]
     },
     "execution_count": 7,
     "metadata": {},
     "output_type": "execute_result"
    }
   ],
   "source": [
    "database.tables"
   ]
  },
  {
   "cell_type": "markdown",
   "id": "e33f03c3",
   "metadata": {
    "id": "e33f03c3"
   },
   "source": [
    "## 2. Create a KDB.AI Table\n",
    "\n",
    "To create a table we can use `create_table`, this function takes two mandatory arguments - the name and schema of the table.\n",
    "\n",
    "This schema must meet the following criteria:\n",
    "- It must contain a list of columns.\n",
    "- All columns must have `type` specified.\n",
    "\n",
    "If you want to create indexes, you must provide them as separate parameter.\n",
    "- It must contain a list of index definitions\n",
    "- Each index must have `name`, `colummn` and `type` attributes. Index-specific parameters can be passed in `params`, it's mandatory for some index types.\n",
    "\n",
    "Run `?database.create_table` for more details and sample code."
   ]
  },
  {
   "cell_type": "code",
   "execution_count": null,
   "id": "6f40400b",
   "metadata": {
    "id": "6f40400b"
   },
   "outputs": [],
   "source": [
    "?database.create_table"
   ]
  },
  {
   "cell_type": "markdown",
   "id": "9da55253",
   "metadata": {
    "id": "9da55253"
   },
   "source": [
    "### Define Schema\n",
    "\n",
    "Our table will have two columns the first `id` with a list of dummy ID's, the second will be the vector embeddings we will use for similarity search later on in this example.\n",
    "\n",
    "We will define our dimensionality, similarity metric and index type in the `indexes` parameter. For this example we chose:\n",
    "- `dims = 8` : In the next section, we generate embeddings that are eight-dimensional to match this. You can chose any value here.\n",
    "- `metric = L2` : We chose [L2/Euclidean distance](https://en.wikipedia.org/wiki/Euclidean_distance). Our dummy dataset is low dimensional which Euclidean distance is suitable for. You have the choice of using other metrics here like [IP/Inner Product](https://en.wikipedia.org/wiki/Inner_product_space) and [CS/Cosine Similarity](https://en.wikipedia.org/wiki/Cosine_similarity) and the one you chose depends on the specific context and nature of your data.\n",
    "- `type = flat` : We use a [Flat index](https://faiss.ai/cpp_api/struct/structfaiss_1_1IndexFlat.html) here as we have a simple data structure so this is more than adequate. You have the choice of using other indexes like [HNSW](https://faiss.ai/cpp_api/struct/structfaiss_1_1IndexHNSW.html) and [IVFPQ](https://faiss.ai/cpp_api/struct/structfaiss_1_1IndexIVFPQ.html) here, as with metrics the one you chose depends your data and your overall performance requirements."
   ]
  },
  {
   "cell_type": "code",
   "execution_count": null,
   "id": "e5e8b782",
   "metadata": {
    "id": "e5e8b782"
   },
   "outputs": [],
   "source": [
    "schema = [\n",
    "    {\"name\": \"id\", \"type\": \"str\"},\n",
    "    {\"name\": \"vectors\", \"type\": \"float32s\"},\n",
    "]\n",
    "\n",
    "index_name = \"flat_index\"\n",
    "indexes = [{\"name\": index_name, \"column\": \"vectors\", \"type\": \"flat\", \"params\": {\"dims\": 8, \"metric\": \"L2\"}}]"
   ]
  },
  {
   "cell_type": "markdown",
   "id": "09a5caa0",
   "metadata": {
    "id": "09a5caa0"
   },
   "source": [
    "### Create Table"
   ]
  },
  {
   "cell_type": "code",
   "execution_count": null,
   "id": "34067680",
   "metadata": {
    "id": "34067680"
   },
   "outputs": [],
   "source": [
    "table = database.create_table(\"data\", schema=schema, indexes=indexes)"
   ]
  },
  {
   "cell_type": "markdown",
   "id": "20afbea1",
   "metadata": {
    "id": "20afbea1"
   },
   "source": [
    "## 3. Add Data to the KDB.AI Table\n",
    "\n",
    "First, generate a vector of five 8-dimensional vectors which will be the vector embeddings in this example. We will then add these to pandas dataframe with column names/types matching the target table."
   ]
  },
  {
   "cell_type": "code",
   "execution_count": null,
   "id": "37581e86",
   "metadata": {
    "id": "37581e86"
   },
   "outputs": [],
   "source": [
    "# Create a NumPy array of 5 eight-dimensional float32 arrays\n",
    "vectors = np.array(\n",
    "    [\n",
    "        [0.1, 0.2, 0.3, 0.4, 0.5, 0.6, 0.7, 0.8],\n",
    "        [0.2, 0.3, 0.4, 0.5, 0.6, 0.7, 0.8, 0.9],\n",
    "        [0.3, 0.4, 0.5, 0.6, 0.7, 0.8, 0.9, 1.0],\n",
    "        [0.4, 0.5, 0.6, 0.7, 0.8, 0.9, 1.0, 0.1],\n",
    "        [0.5, 0.6, 0.7, 0.8, 0.9, 1.0, 0.1, 0.2],\n",
    "    ],\n",
    "    dtype=np.float32,\n",
    ")"
   ]
  },
  {
   "cell_type": "code",
   "execution_count": null,
   "id": "f5dc41e8",
   "metadata": {
    "id": "f5dc41e8"
   },
   "outputs": [],
   "source": [
    "# Example ID values\n",
    "ids = [\"h\", \"e\", \"l\", \"l\", \"o\"]"
   ]
  },
  {
   "cell_type": "code",
   "execution_count": null,
   "id": "730c9f08",
   "metadata": {
    "id": "730c9f08"
   },
   "outputs": [],
   "source": [
    "# column names/types matching the schema\n",
    "embeddings = pd.DataFrame({\"id\": ids, \"vectors\": list(vectors)})"
   ]
  },
  {
   "cell_type": "code",
   "execution_count": null,
   "id": "4a31f878",
   "metadata": {
    "id": "4a31f878",
    "outputId": "933caa30-7fd4-4d11-c717-ecfff36fa6c9"
   },
   "outputs": [
    {
     "data": {
      "text/html": [
       "<div>\n",
       "<style scoped>\n",
       "    .dataframe tbody tr th:only-of-type {\n",
       "        vertical-align: middle;\n",
       "    }\n",
       "\n",
       "    .dataframe tbody tr th {\n",
       "        vertical-align: top;\n",
       "    }\n",
       "\n",
       "    .dataframe thead th {\n",
       "        text-align: right;\n",
       "    }\n",
       "</style>\n",
       "<table border=\"1\" class=\"dataframe\">\n",
       "  <thead>\n",
       "    <tr style=\"text-align: right;\">\n",
       "      <th></th>\n",
       "      <th>id</th>\n",
       "      <th>vectors</th>\n",
       "    </tr>\n",
       "  </thead>\n",
       "  <tbody>\n",
       "    <tr>\n",
       "      <th>0</th>\n",
       "      <td>h</td>\n",
       "      <td>[0.1, 0.2, 0.3, 0.4, 0.5, 0.6, 0.7, 0.8]</td>\n",
       "    </tr>\n",
       "    <tr>\n",
       "      <th>1</th>\n",
       "      <td>e</td>\n",
       "      <td>[0.2, 0.3, 0.4, 0.5, 0.6, 0.7, 0.8, 0.9]</td>\n",
       "    </tr>\n",
       "    <tr>\n",
       "      <th>2</th>\n",
       "      <td>l</td>\n",
       "      <td>[0.3, 0.4, 0.5, 0.6, 0.7, 0.8, 0.9, 1.0]</td>\n",
       "    </tr>\n",
       "    <tr>\n",
       "      <th>3</th>\n",
       "      <td>l</td>\n",
       "      <td>[0.4, 0.5, 0.6, 0.7, 0.8, 0.9, 1.0, 0.1]</td>\n",
       "    </tr>\n",
       "    <tr>\n",
       "      <th>4</th>\n",
       "      <td>o</td>\n",
       "      <td>[0.5, 0.6, 0.7, 0.8, 0.9, 1.0, 0.1, 0.2]</td>\n",
       "    </tr>\n",
       "  </tbody>\n",
       "</table>\n",
       "</div>"
      ],
      "text/plain": [
       "  id                                   vectors\n",
       "0  h  [0.1, 0.2, 0.3, 0.4, 0.5, 0.6, 0.7, 0.8]\n",
       "1  e  [0.2, 0.3, 0.4, 0.5, 0.6, 0.7, 0.8, 0.9]\n",
       "2  l  [0.3, 0.4, 0.5, 0.6, 0.7, 0.8, 0.9, 1.0]\n",
       "3  l  [0.4, 0.5, 0.6, 0.7, 0.8, 0.9, 1.0, 0.1]\n",
       "4  o  [0.5, 0.6, 0.7, 0.8, 0.9, 1.0, 0.1, 0.2]"
      ]
     },
     "execution_count": 14,
     "metadata": {},
     "output_type": "execute_result"
    }
   ],
   "source": [
    "embeddings"
   ]
  },
  {
   "cell_type": "markdown",
   "id": "43cd2ad8",
   "metadata": {
    "id": "43cd2ad8"
   },
   "source": [
    "We can now add data to our KDB.AI table using `insert`."
   ]
  },
  {
   "cell_type": "code",
   "execution_count": null,
   "id": "b7e0f8c5",
   "metadata": {
    "id": "b7e0f8c5"
   },
   "outputs": [],
   "source": [
    "table.insert(embeddings)"
   ]
  },
  {
   "cell_type": "markdown",
   "id": "09577e8e",
   "metadata": {
    "id": "09577e8e"
   },
   "source": [
    "## 4. Query the Table\n",
    "\n",
    "We can use `query` to query data from the table."
   ]
  },
  {
   "cell_type": "code",
   "execution_count": null,
   "id": "f4b8b8e5",
   "metadata": {
    "id": "f4b8b8e5",
    "outputId": "f96e7323-a9f0-4154-abef-dd012be6b1b9"
   },
   "outputs": [
    {
     "data": {
      "text/html": [
       "<div>\n",
       "<style scoped>\n",
       "    .dataframe tbody tr th:only-of-type {\n",
       "        vertical-align: middle;\n",
       "    }\n",
       "\n",
       "    .dataframe tbody tr th {\n",
       "        vertical-align: top;\n",
       "    }\n",
       "\n",
       "    .dataframe thead th {\n",
       "        text-align: right;\n",
       "    }\n",
       "</style>\n",
       "<table border=\"1\" class=\"dataframe\">\n",
       "  <thead>\n",
       "    <tr style=\"text-align: right;\">\n",
       "      <th></th>\n",
       "      <th>id</th>\n",
       "      <th>vectors</th>\n",
       "    </tr>\n",
       "  </thead>\n",
       "  <tbody>\n",
       "    <tr>\n",
       "      <th>0</th>\n",
       "      <td>h</td>\n",
       "      <td>[0.1, 0.2, 0.3, 0.4, 0.5, 0.6, 0.7, 0.8]</td>\n",
       "    </tr>\n",
       "    <tr>\n",
       "      <th>1</th>\n",
       "      <td>e</td>\n",
       "      <td>[0.2, 0.3, 0.4, 0.5, 0.6, 0.7, 0.8, 0.9]</td>\n",
       "    </tr>\n",
       "    <tr>\n",
       "      <th>2</th>\n",
       "      <td>l</td>\n",
       "      <td>[0.3, 0.4, 0.5, 0.6, 0.7, 0.8, 0.9, 1.0]</td>\n",
       "    </tr>\n",
       "    <tr>\n",
       "      <th>3</th>\n",
       "      <td>l</td>\n",
       "      <td>[0.4, 0.5, 0.6, 0.7, 0.8, 0.9, 1.0, 0.1]</td>\n",
       "    </tr>\n",
       "    <tr>\n",
       "      <th>4</th>\n",
       "      <td>o</td>\n",
       "      <td>[0.5, 0.6, 0.7, 0.8, 0.9, 1.0, 0.1, 0.2]</td>\n",
       "    </tr>\n",
       "  </tbody>\n",
       "</table>\n",
       "</div>"
      ],
      "text/plain": [
       "  id                                   vectors\n",
       "0  h  [0.1, 0.2, 0.3, 0.4, 0.5, 0.6, 0.7, 0.8]\n",
       "1  e  [0.2, 0.3, 0.4, 0.5, 0.6, 0.7, 0.8, 0.9]\n",
       "2  l  [0.3, 0.4, 0.5, 0.6, 0.7, 0.8, 0.9, 1.0]\n",
       "3  l  [0.4, 0.5, 0.6, 0.7, 0.8, 0.9, 1.0, 0.1]\n",
       "4  o  [0.5, 0.6, 0.7, 0.8, 0.9, 1.0, 0.1, 0.2]"
      ]
     },
     "execution_count": 16,
     "metadata": {},
     "output_type": "execute_result"
    }
   ],
   "source": [
    "table.query()"
   ]
  },
  {
   "cell_type": "markdown",
   "id": "9c267a58",
   "metadata": {
    "id": "9c267a58"
   },
   "source": [
    "## 5. Perform Similarity Search\n",
    "\n",
    "Finally, let's perform similarity search on the table. We do this using the `search` function."
   ]
  },
  {
   "cell_type": "code",
   "execution_count": null,
   "id": "595829ff",
   "metadata": {
    "id": "595829ff"
   },
   "outputs": [],
   "source": [
    "?table.search"
   ]
  },
  {
   "cell_type": "markdown",
   "id": "9bb341f3",
   "metadata": {
    "id": "9bb341f3"
   },
   "source": [
    "<div class=\"alert alert-block alert-warning\">\n",
    "<b>Note:</b> The dimension of input query vectors must match the vector embedding dimensions in the table, defined in schema above.\n",
    "</div>"
   ]
  },
  {
   "cell_type": "code",
   "execution_count": null,
   "id": "c9301c97",
   "metadata": {
    "id": "c9301c97",
    "outputId": "880dfe5d-86e2-4487-d3d6-771c7be40f57"
   },
   "outputs": [
    {
     "data": {
      "text/plain": [
       "[  id                                   vectors  __nn_distance\n",
       " 0  e  [0.2, 0.3, 0.4, 0.5, 0.6, 0.7, 0.8, 0.9]           0.01]"
      ]
     },
     "execution_count": 19,
     "metadata": {},
     "output_type": "execute_result"
    }
   ],
   "source": [
    "# Find the closest neighbor of a single query vector\n",
    "table.search(vectors={index_name: [[0.1, 0.3, 0.4, 0.5, 0.6, 0.7, 0.8, 0.9]]}, n=1)"
   ]
  },
  {
   "cell_type": "markdown",
   "id": "49758e9d",
   "metadata": {
    "id": "49758e9d"
   },
   "source": [
    "<div class=\"alert alert-block alert-warning\">\n",
    "<b>Note:</b> The output was a list of length one, matching the number of vectors we input to the search. This can be indexed on position [0] to extract the dataframe corresponding to the single input vector.\n",
    "</div>"
   ]
  },
  {
   "cell_type": "markdown",
   "id": "d8aed9bc-72b2-4e70-b763-e7ce054557db",
   "metadata": {
    "id": "d8aed9bc-72b2-4e70-b763-e7ce054557db"
   },
   "source": [
    "## 6. Delete the KDB.AI Table\n",
    "\n",
    "We can use `table.drop()` to delete a table."
   ]
  },
  {
   "cell_type": "code",
   "execution_count": null,
   "id": "548a9d95-aac3-4d63-a87a-99eedfe55f07",
   "metadata": {
    "id": "548a9d95-aac3-4d63-a87a-99eedfe55f07",
    "outputId": "53a714f1-ad13-410c-dbdb-39e5a22e7a86"
   },
   "outputs": [
    {
     "data": {
      "text/plain": [
       "True"
      ]
     },
     "execution_count": 23,
     "metadata": {},
     "output_type": "execute_result"
    }
   ],
   "source": [
    "table.drop()"
   ]
  },
  {
   "cell_type": "markdown",
   "id": "8bc6d801-1371-48d0-98b4-0baa53bc8446",
   "metadata": {
    "id": "8bc6d801-1371-48d0-98b4-0baa53bc8446"
   },
   "source": [
    "<div class=\"alert alert-block alert-warning\">\n",
    "<b>Warning:</b> Once you drop a table, you cannot use it again.\n",
    "</div>"
   ]
  }
 ],
 "metadata": {
  "colab": {
   "provenance": []
  },
  "kernelspec": {
   "display_name": "Python 3 (ipykernel)",
   "language": "python",
   "name": "python3"
  },
  "language_info": {
   "codemirror_mode": {
    "name": "ipython",
    "version": 3
   },
   "file_extension": ".py",
   "mimetype": "text/x-python",
   "name": "python",
   "nbconvert_exporter": "python",
   "pygments_lexer": "ipython3",
   "version": "3.9.16"
  }
 },
 "nbformat": 4,
 "nbformat_minor": 5
}
