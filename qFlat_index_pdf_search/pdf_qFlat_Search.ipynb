{
  "cells": [
    {
      "cell_type": "markdown",
      "id": "3280b01a-d3b7-4ef6-9494-789d15bc48ec",
      "metadata": {
        "id": "3280b01a-d3b7-4ef6-9494-789d15bc48ec"
      },
      "source": [
        "# Semantic Search on PDF Documents with qFlat Index\n",
        "\n",
        "##### Note: This example requires a KDB.AI endpoint and API key. Sign up for a free [KDB.AI account](https://kdb.ai/get-started).\n",
        "\n",
        "This example demonstrates how to use KDB.AI to run semantic search on unstructured text documents.\n",
        "\n",
        "<div class=\"alert alert-block alert-info\">\n",
        "<b>Tip:</b> This sample uses ‘qFlat’ , a new vector index choice in KDB.AI. It will support the same API options as the existing ‘Flat’ index but with the significant difference that the index is stored on-disk and memory-mapped as required. This means data inserts will have negligible memory and cpu footprints. The vector index can grow and be searched as long as there is disk space available and works great for datasets with up to 1,000,000 vectors. Among other cases, this stands out as a great index for memory contrained situations such as edge devices.\n",
        "</div>\n",
        "\n",
        "Semantic search allows users to perform searches based on the meaning or similarity of the data rather than exact matches. It works by converting the query into a vector representation and then finding similar vectors in the database. This way, even if the query and the data in the database are not identical, the system can identify and retrieve the most relevant results based on their semantic meaning.\n",
        "\n",
        "### Aim\n",
        "In this tutorial, we'll walk you through the process of performing semantic search on documents, taking PDFs as example, using KDB.AI as the vector store. We will cover the following topics:\n",
        "\n",
        "0. Setup\n",
        "1. Load PDF Data\n",
        "2. KDB.AI Table Creation\n",
        "3. LlamaIndex index & query_engine setup\n",
        "4. Retrieve Similar Sentences & RAG\n",
        "5. Delete the KDB.AI Table\n",
        "\n",
        "---"
      ]
    },
    {
      "cell_type": "markdown",
      "id": "75362bc9",
      "metadata": {
        "id": "75362bc9"
      },
      "source": [
        "## 0. Setup"
      ]
    },
    {
      "cell_type": "markdown",
      "id": "dda3d787",
      "metadata": {
        "id": "dda3d787"
      },
      "source": [
        "### Install dependencies\n",
        "\n",
        "In order to successfully run this sample, note the following steps depending on where you are running this notebook:\n",
        "\n",
        "-***Run Locally / Private Environment:*** The [Setup](https://github.com/KxSystems/kdbai-samples/blob/main/README.md#setup) steps in the repository's `README.md` will guide you on prerequisites and how to run this with Jupyter.\n",
        "\n",
        "\n",
        "-***Colab / Hosted Environment:*** Open this notebook in Colab and run through the cells."
      ]
    },
    {
      "cell_type": "markdown",
      "id": "b19c5107-001e-40c2-bfe7-6c9c99e4846d",
      "metadata": {
        "id": "b19c5107-001e-40c2-bfe7-6c9c99e4846d"
      },
      "source": [
        "### Set Environment Variables"
      ]
    },
    {
      "cell_type": "code",
      "execution_count": null,
      "id": "8bad9d73",
      "metadata": {
        "colab": {
          "base_uri": "https://localhost:8080/"
        },
        "id": "8bad9d73",
        "outputId": "d76d1685-f00b-4f8e-8cfb-9ff0ef97d0df"
      },
      "outputs": [],
      "source": [
        "!pip install llama-index llama-index-llms-openai llama-index-embeddings-openai llama-index-readers-file llama-index-vector-stores-kdbai\n",
        "!pip install kdbai_client pandas\n"
      ]
    },
    {
      "cell_type": "code",
      "execution_count": 2,
      "id": "f23f6513",
      "metadata": {
        "colab": {
          "base_uri": "https://localhost:8080/"
        },
        "id": "f23f6513",
        "outputId": "1a7e6e32-e365-4aff-9acd-d8c26e7faefb"
      },
      "outputs": [
        {
          "name": "stdout",
          "output_type": "stream",
          "text": [
            "--2024-09-05 18:14:01--  https://raw.githubusercontent.com/KxSystems/kdbai-samples/main/document_search/data/research_paper.pdf\n",
            "Resolving raw.githubusercontent.com (raw.githubusercontent.com)... 185.199.108.133, 185.199.109.133, 185.199.110.133, ...\n",
            "Connecting to raw.githubusercontent.com (raw.githubusercontent.com)|185.199.108.133|:443... connected.\n",
            "HTTP request sent, awaiting response... 200 OK\n",
            "Length: 1206037 (1.1M) [application/octet-stream]\n",
            "Saving to: ‘./data/research_paper.pdf’\n",
            "\n",
            "research_paper.pdf  100%[===================>]   1.15M  --.-KB/s    in 0.06s   \n",
            "\n",
            "2024-09-05 18:14:01 (17.7 MB/s) - ‘./data/research_paper.pdf’ saved [1206037/1206037]\n",
            "\n"
          ]
        }
      ],
      "source": [
        "### !!! Only run this cell if you need to download the data into your environment, for example in Colab\n",
        "### This downloads research paper pdf into your environment\n",
        "!mkdir ./data\n",
        "!wget -P ./data https://raw.githubusercontent.com/KxSystems/kdbai-samples/main/document_search/data/research_paper.pdf"
      ]
    },
    {
      "cell_type": "markdown",
      "id": "21979389",
      "metadata": {
        "id": "21979389"
      },
      "source": [
        "### Import Packages"
      ]
    },
    {
      "cell_type": "code",
      "execution_count": 3,
      "id": "rjfp-08NPdvC",
      "metadata": {
        "id": "rjfp-08NPdvC"
      },
      "outputs": [],
      "source": [
        "\n",
        "import os\n",
        "from getpass import getpass\n",
        "import re\n",
        "import os\n",
        "import shutil\n",
        "import time\n",
        "import urllib\n",
        "\n",
        "import pandas as pd\n",
        "\n",
        "from llama_index.core import (\n",
        "    Settings,\n",
        "    SimpleDirectoryReader,\n",
        "    StorageContext,\n",
        "    VectorStoreIndex,\n",
        ")\n",
        "from llama_index.core.node_parser import SentenceSplitter\n",
        "from llama_index.core.retrievers import VectorIndexRetriever\n",
        "from llama_index.embeddings.openai import OpenAIEmbedding\n",
        "from llama_index.llms.openai import OpenAI\n",
        "from llama_index.vector_stores.kdbai import KDBAIVectorStore\n",
        "\n",
        "import kdbai_client as kdbai\n",
        "\n",
        "OUTDIR = \"pdf\"\n",
        "RESET = True"
      ]
    },
    {
      "cell_type": "code",
      "execution_count": 4,
      "id": "yCCdm-QDPtDZ",
      "metadata": {
        "colab": {
          "base_uri": "https://localhost:8080/"
        },
        "id": "yCCdm-QDPtDZ",
        "outputId": "528daca1-185c-4089-b9cb-32a92de45345"
      },
      "outputs": [
        {
          "name": "stdout",
          "output_type": "stream",
          "text": [
            "OpenAI API Key: ··········\n"
          ]
        }
      ],
      "source": [
        "# OpenAI API Key: https://platform.openai.com/api\n",
        "os.environ[\"OPENAI_API_KEY\"] = (\n",
        "    os.environ[\"OPENAI_API_KEY\"]\n",
        "    if \"OPENAI_API_KEY\" in os.environ\n",
        "    else getpass(\"OpenAI API Key: \")\n",
        ")"
      ]
    },
    {
      "cell_type": "code",
      "execution_count": 5,
      "id": "HCI37LxrPywl",
      "metadata": {
        "id": "HCI37LxrPywl"
      },
      "outputs": [],
      "source": [
        "# Set up LlamaIndex Parameters\n",
        "\n",
        "EMBEDDING_MODEL  = \"text-embedding-3-small\"\n",
        "GENERATION_MODEL = 'gpt-4o-mini'\n",
        "\n",
        "llm = OpenAI(model=GENERATION_MODEL)\n",
        "embed_model = OpenAIEmbedding(model=EMBEDDING_MODEL)\n",
        "\n",
        "Settings.llm = llm\n",
        "Settings.embed_model = embed_model"
      ]
    },
    {
      "cell_type": "markdown",
      "id": "8594c911",
      "metadata": {
        "id": "8594c911"
      },
      "source": [
        "### Configure Console"
      ]
    },
    {
      "cell_type": "code",
      "execution_count": 6,
      "id": "b870117b",
      "metadata": {
        "id": "b870117b"
      },
      "outputs": [],
      "source": [
        "pd.set_option(\"display.max_colwidth\", 300)"
      ]
    },
    {
      "cell_type": "markdown",
      "id": "8a425b33",
      "metadata": {
        "id": "8a425b33"
      },
      "source": [
        "### Define Helper Functions"
      ]
    },
    {
      "cell_type": "code",
      "execution_count": 7,
      "id": "9a135635",
      "metadata": {
        "id": "9a135635"
      },
      "outputs": [],
      "source": [
        "def show_df(df: pd.DataFrame) -> pd.DataFrame:\n",
        "    print(df.shape)\n",
        "    return df.head()"
      ]
    },
    {
      "cell_type": "markdown",
      "id": "48826990",
      "metadata": {
        "id": "48826990"
      },
      "source": [
        "## 1. Load PDF Data"
      ]
    },
    {
      "cell_type": "markdown",
      "id": "b2992812-4705-489d-974f-b7b44132343a",
      "metadata": {
        "id": "b2992812-4705-489d-974f-b7b44132343a"
      },
      "source": [
        "### Read Text From PDF Document\n",
        "\n",
        "We LlamaIndex SimpleDirectorReader to read in our PDF file.\n",
        "\n",
        "The PDF we are using is [this research paper](https://arxiv.org/pdf/2308.05801.pdf) presenting information on the formation of Interstellar Objects in the Milky Way."
      ]
    },
    {
      "cell_type": "code",
      "execution_count": 8,
      "id": "NWa3S2iwQd_K",
      "metadata": {
        "id": "NWa3S2iwQd_K"
      },
      "outputs": [],
      "source": [
        "reader = SimpleDirectoryReader(\n",
        "    input_dir=\"data\",\n",
        ")\n",
        "documents = reader.load_data()"
      ]
    },
    {
      "cell_type": "code",
      "execution_count": 9,
      "id": "rLj5HAt6RHlf",
      "metadata": {
        "colab": {
          "base_uri": "https://localhost:8080/"
        },
        "id": "rLj5HAt6RHlf",
        "outputId": "5aa14a65-fa6f-454f-a35e-b225dd4a5cc1"
      },
      "outputs": [
        {
          "name": "stdout",
          "output_type": "stream",
          "text": [
            "[Document(id_='1b12ee1b-9b8d-4fa5-bc3f-2d10de41c3ce', embedding=None, metadata={'page_label': '1', 'file_name': 'research_paper.pdf', 'file_path': '/content/data/research_paper.pdf', 'file_type': 'application/pdf', 'file_size': 1206037, 'creation_date': '2024-09-05', 'last_modified_date': '2024-09-05'}, excluded_embed_metadata_keys=['file_name', 'file_type', 'file_size', 'creation_date', 'last_modified_date', 'last_accessed_date'], excluded_llm_metadata_keys=['file_name', 'file_type', 'file_size', 'creation_date', 'last_modified_date', 'last_accessed_date'], relationships={}, text='Draft version August 14, 2023\\nTypeset using L ATEX default style in AASTeX631\\nThe Galactic Interstellar Object Population: A Framework for Prediction and Inference\\nMatthew J. Hopkins\\n ,1Chris Lintott\\n ,1Michele T. Bannister\\n ,2J. Ted Mackereth\\n ,3, 4, 5, ∗and\\nJohn C. Forbes\\n2\\n1Department of Physics, University of Oxford, Denys Wilkinson Building, Keble Road, Oxford, OX1 3RH, UK\\n2School of Physical and Chemical Sciences—Te Kura Mat¯ u, University of Canterbury, Private Bag 4800, Christchurch 8140, New Zealand\\n3Just Group plc, Enterprise House, Bancroft road, Reigate, Surrey RH2 7RP, UK\\n4Canadian Institute for Theoretical Astrophysics, University of Toronto, 60 St. George Street, Toronto, ON, M5S 3H8, Canada\\n5Dunlap Institute for Astronomy and Astrophysics, University of Toronto, 50 St. George Street, Toronto, ON M5S 3H4, Canada\\nABSTRACT\\nThe Milky Way is thought to host a huge population of interstellar objects (ISOs), numbering\\napproximately 1015pc−3around the Sun, which are formed and shaped by a diverse set of processes\\nranging from planet formation to galactic dynamics. We define a novel framework: firstly to predict\\nthe properties of this Galactic ISO population by combining models of processes across planetary\\nand galactic scales, and secondly to make inferences about the processes modelled, by comparing the\\npredicted population to what is observed. We predict the spatial and compositional distribution of the\\nGalaxy’s population of ISOs by modelling the Galactic stellar population with data from the APOGEE\\nsurvey and combining this with a protoplanetary disk chemistry model. Selecting ISO water mass\\nfraction as an example observable quantity, we evaluate its distribution both at the position of the Sun\\nand averaged over the Galactic disk; our prediction for the Solar neighbourhood is compatible with the\\ninferred water mass fraction of 2I/Borisov. We show that the well-studied Galactic stellar metallicity\\ngradient has a corresponding ISO compositional gradient. We also demonstrate the inference part of\\nthe framework by using the current observed ISO composition distribution to constrain the parent star\\nmetallicity dependence of the ISO production rate. This constraint, and other inferences made with\\nthis framework, will improve dramatically as the Vera C. Rubin Observatory Legacy Survey of Space\\nand Time (LSST) progresses and more ISOs are observed. Finally, we explore generalizations of this\\nframework to other Galactic populations, such as that of exoplanets.\\nKeywords: Interstellar objects (52), Small Solar System bodies(1469), Galaxy Evolution (594)\\n1.INTRODUCTION\\n1I/‘Oumuamua (Meech et al. 2017) and 2I/Borisov1are the first two observed samples from a highly numerous\\npopulation: interstellar objects (ISOs). Estimated to number ∼1015pc−3around the Sun (Engelhardt et al. 2017;\\nDo et al. 2018), they are implied to have a spatial distribution spanning the entire Galaxy. This population has been\\npredicted to exist for decades (McGlynn & Chapman 1989), based on models of the accretion and migration of the\\ngiant planets, which predict that 75–85% of cometary bodies initially in the Solar System must have been scattered\\ninto interstellar space (Fernandez & Ip 1984; Brasser et al. 2006). Modern exoplanet surveys consistently find that\\ngiant planets are common across the Galaxy around stars with a range of spectral types (Fulton et al. 2021; Sabotta\\net al. 2021). This makes planetesimal scattering common across the Galaxy. A significant number of planetesimals can\\nalso be ejected by close stellar flybys early in a planetary system’s life (e.g. Pfalzner et al. 2021). The protoplanetary\\ndisks of other stars are therefore expected to be a source of ISOs (Stern 1990; Moro-Mart´ ın 2022).\\nCorresponding author: Matthew Hopkins\\nmatthew.hopkins@physics.ox.ac.uk\\n∗Banting Fellow\\n1https://minorplanetcenter.net/mpec/K19/K19RA6.html and https://minorplanetcenter.net/mpec/K19/K19S72.htmlarXiv:2308.05801v1  [astro-ph.EP]  10 Aug 2023', mimetype='text/plain', start_char_idx=None, end_char_idx=None, text_template='{metadata_str}\\n\\n{content}', metadata_template='{key}: {value}', metadata_seperator='\\n'), Document(id_='3ca8370d-d9dd-4c4c-9b66-620e0c428c97', embedding=None, metadata={'page_label': '2', 'file_name': 'research_paper.pdf', 'file_path': '/content/data/research_paper.pdf', 'file_type': 'application/pdf', 'file_size': 1206037, 'creation_date': '2024-09-05', 'last_modified_date': '2024-09-05'}, excluded_embed_metadata_keys=['file_name', 'file_type', 'file_size', 'creation_date', 'last_modified_date', 'last_accessed_date'], excluded_llm_metadata_keys=['file_name', 'file_type', 'file_size', 'creation_date', 'last_modified_date', 'last_accessed_date'], relationships={}, text='2 Hopkins et al.\\nInitially it was expected that interstellar objects would display cometary characteristics (e.g. Jewitt 2003). The pop-\\nulation’s dominant dynamical formation mechanisms would preferentially harvest more distant, ice-rich planetesimals\\nfrom the disks of the source systems. More of the cometary ISO population passing through the Solar System could\\nbe detected than rocky ISOs, as comae make cometary ISOs brighter down to smaller diameters (Engelhardt et al.\\n2017). 2I/Borisov appeared relatively similar in size and composition to Solar System comets (Jewitt & Seligman\\n2022). Its distinctive features were an exceptionally high CO and NH 2content, implying it formed on the edge of its\\nhome system’s protoplanetary disk, beyond the hypervolatile CO ice line (Bodewits et al. 2020; Cordiner et al. 2020).\\nHowever, 1I/‘Oumuamua had a mix of observed characteristics. A 160-m scale object, it lacked a coma in deep\\nimaging (Jewitt et al. 2017) or detectable outgassing in CO, CO 2(Trilling et al. 2018) or CN (Ye et al. 2017). Despite\\nthis, it still underwent non-gravitational acceleration similar to that experienced by Solar System comets (Micheli\\net al. 2018). The large amplitude of its light curve implied a high-aspect-ratio shape (Mashchenko 2019). At the time,\\nthis combination of factors seemed unusual, although the surface reflectance properties were consistent with outer\\nSolar System bodies (e.g. Bannister et al. 2017). Hypotheses for the composition and formation of 1I/‘Oumuamua\\nthat match the limited data remain varied. It may be a planetesimal (’Oumuamua ISSI Team et al. 2019); a fragment\\nof a comet devolatized by passages close to its parent star before ejection (Raymond et al. 2018a); an icy fractal\\naggregate (Moro-Mart´ ın 2019); a hydrogen iceberg formed in a molecular cloud (Seligman & Laughlin 2020); or a\\nnitrogen ice fragment from the surface of a Pluto-like dwarf planet (Jackson & Desch 2021). Recently, observation\\nof similarly-small near-Earth asteroids have identified objects with the lightcurve amplitudes seen in 1I. Additionally,\\nFarnocchia et al. (2023) and Seligman et al. (2023) report six asteroids with significant non-gravitational acceleration\\nand no coma. While from the two ISOs found so far, the compositions of interstellar objects are clearly varied, 1I may\\nbe less extreme than it was first considered.\\nISOs formed in a protoplanetary disk carry information about their home systems in their composition: we have\\nsamples of other planetary systems coming to us for study. The composition of a protoplanetary disk correlates with the\\nelemental abundances of its central star, due to their formation from the same gas and dust in a molecular cloud core\\n(¨Oberg & Bergin 2021). We can thus expect stars of different metallicities to produce ISOs of different compositions.\\nThe composition of this gas and dust varies in both space and time as the Galaxy chemically evolves due to stellar\\nnucleosynthesis, making the current Galactic ISO population sensitive to the entire history and evolution of the Milky\\nWay over cosmic time (Tinsley & Cameron 1974; Lintott et al. 2022). Since the occurrence of planetesimal-scattering\\ngiant planets also has a metallicity dependence (Fischer & Valenti 2005), the relative occurrence of ISOs of different\\ncompositions will therefore carry information about the Galaxy’s distribution of planetary architectures. Finally, we\\nexpect many ISOs to outlive their parent stars, as they occupy a similar environment to Gyr-old Oort cloud comets.\\nAt minor-planet sizes, ISOs are not subject to any known destructive forces in the ISM (Guilbert-Lepoutre et al. 2015),\\nother than minor erosion by dust, in their frequent passages through molecular clouds (Pfalzner et al. 2020). They\\ncould also be disrupted or devolatilised in rare close encounters with stars (Raymond et al. 2018a; Forbes & Loeb\\n2019). ISOs thus present the possibility of studying long-lost planetary systems.\\nThe Vera C. Rubin Observatory Legacy Survey of Space and Time (LSST) (Ivezi´ c et al. 2019) is predicted to provide\\na sample of tens of 1I/‘Oumuamua-like ISOs (e.g. Levine et al. 2021), as well as any more 2I/Borisov-like cometary\\nISOs that enter our Solar System. This is in addition to the continuing contributions of the NEO surveys and other\\nobservatories that found 1I and 2I in the first place (Meech et al. 2017). These will provide a large and varied sample\\nof interstellar objects, for study and comparison to predictions.\\nThe many dependencies over planetary and Galactic scales make the observed ISO population a fascinating tool:\\nit has the potential to test models in both Galaxy and planetary physics, with an entirely different set of biases\\nto traditional methods. Lintott et al. (2022) introduced the concept of predicting the composition of a Galaxy’s\\npopulation of ISOs from the Galaxy’s stellar distribution. Using simulated Galaxies from EAGLE (Schaye et al. 2015),\\nthey showed that the water content of ISOs was sensitive to Galactic star formation history. In this work, we develop\\nthis method and apply it to the stellar population of the Milky Way, estimated with data from the APOGEE survey, to\\npredict a broader set of properties of our own Galaxy’s population of interstellar objects. We predict the distribution\\nof ISOs in both their spatial position in the Galaxy and their water mass fraction. By evaluating this distribution at\\nthe current position of the Solar System, we predict the properties of the population of ISOs from which the observed\\nsample of the 2020s will be drawn, and we compare this to the whole-Galaxy distribution. We then detail a Bayesian\\nmethod of comparing the predicted and observed distributions to make inferences about the planetary and Galactic', mimetype='text/plain', start_char_idx=None, end_char_idx=None, text_template='{metadata_str}\\n\\n{content}', metadata_template='{key}: {value}', metadata_seperator='\\n'), Document(id_='85d5ecce-246d-4ac0-a719-964a9928d521', embedding=None, metadata={'page_label': '3', 'file_name': 'research_paper.pdf', 'file_path': '/content/data/research_paper.pdf', 'file_type': 'application/pdf', 'file_size': 1206037, 'creation_date': '2024-09-05', 'last_modified_date': '2024-09-05'}, excluded_embed_metadata_keys=['file_name', 'file_type', 'file_size', 'creation_date', 'last_modified_date', 'last_accessed_date'], excluded_llm_metadata_keys=['file_name', 'file_type', 'file_size', 'creation_date', 'last_modified_date', 'last_accessed_date'], relationships={}, text='The Galactic ISO Population 3\\nprocesses modelled, and demonstrate this method by constraining the metallicity dependence of the ISO production\\nrate.\\n2.APOGEE AND STELLAR DENSITY MODELLING\\nTo predict the distribution of ISOs in the Milky Way, we first obtain the distribution of all stars throughout Galactic\\nhistory over a large swath of the Galactic disk, which we model by fitting simple density profiles to debiased data from\\nthe APOGEE survey. While APOGEE’s main sample is not representative of all extant stars, we can extrapolate from\\nit to recover the total stellar population of the Milky Way. By design, the APOGEE main sample mainly contains red\\ngiants: stars in a relatively short-lived phase towards the end of their lives. Since each stellar generation forms stars\\nwith a range of masses (Chabrier 2003) and a corresponding range of lifespans, all but the newest stellar populations\\nwill have some stars currently in the red giant stage. This means multiple generations are represented in the APOGEE\\nsample. We then extrapolate to the entire stellar population. This reconstruction is detailed in 2.3.\\n2.1. Observational Data: APOGEE\\nWe use data from the APOGEE SDSS-IV Data Release 16 (J¨ onsson et al. 2020). APOGEE is a near-infrared,\\nhigh-resolution ( R∼22 500) spectroscopic stellar survey used to estimate high-precision chemical abundances for a\\nsample of over 200 000 Milky Way stars (Majewski et al. 2017). The survey’s simple and well-characterised selection\\nfunction, based on apparent magnitude and dereddened colour, is optimised to select red giants (Zasowski et al. 2013,\\n2017). As infrared bands suffer less from dust extinction, the red giants selected are visible across the Galactic disk.\\nThe high-precision abundance measurements mean that we can identify monoabundance populations with very low\\nlevels of contamination by binning the APOGEE stars in [Fe /H] and [ α/Fe] (Bovy et al. 2016b). Additionally, the\\nwell-characterised nature of the selection function means that it can easily be accounted for using the method of Bovy\\net al. (2016a). This makes APOGEE an ideal choice for modelling the spatial and chemical distribution of the Milky\\nWay’s red giant population.\\nWe obtain the chemical abundances, heliocentric distance and age of stars in APOGEE DR16. To obtain each star’s\\nabundances, we use the calibrated ASPCAP pipeline’s (Garc´ ıa P´ erez et al. 2016) abundances of iron [Fe /H] and alpha\\nelements [ α/Fe], calculated from an average of the abundances of the elements O, Mg, Si, S, and Ca, after Bovy et al.\\n(2016b). For each star’s heliocentric distance and age, we use the weighted dist andagelowess correct estimate of\\nAstroNN (Leung & Bovy 2019; Mackereth et al. 2019). weighted dist is a weighted average of the distance estimate\\nfrom the Gaia parallax measurement of the star (Gaia Collaboration et al. 2016) and a spectro-photometric distance\\nestimate of the star from a neural network trained on 265 761 stars surveyed in common between APOGEE DR14\\n(Abolfathi et al. 2018; Holtzman et al. 2018) and Gaia DR2 (Gaia Collaboration et al. 2018). agelowess correct is\\na measurement of the stellar age from a neural network trained on 6676 stars with both spectroscopic measurement by\\nAPOGEE DR14 and asteroseismic age measurement by the Kepler mission (Borucki et al. 2010), corrected for biases\\nfrom the neural network as described in Mackereth et al. (2017). Due to a lack of stars with low metallicity in the\\ntraining data, reliable ages aren’t available for stars with [Fe /H]<−0.5, so for these stars we must assume an age\\ndistribution as described below.\\nThe APOGEE DR16 “statistical sample” (the sample of stars for which the selection function can be reconstructed)\\ncontains 165,768 stars. However, this is partly made up of dwarfs, which have higher uncertainties in their atmospheric\\nparameters and abundances. We thus select a subset of the statistical sample with a calibrated ASPCAP surface gravity\\nof 1≤logg <3. We additionally select only stars with fractional uncertainty in heliocentric distance Dof less than\\n0.5. To restrict our sample to the Milky Way’s disk, we select stars with Galactocentric radii Rbetween 4 kpc and\\n12 kpc and height above the disk zof−5 kpc to 5 kpc. This gives us a sample of 80 958 red giants.\\n2.2. Density Modelling of Red Giants across the Galaxy\\nTo calculate the distribution of red giant stars in the Milky Way from the APOGEE data we use the method of\\nBovy et al. (2016a), as this accounts for both dust and the survey selection function simultaneously. In brief, assuming\\nthe stars observed in a survey are distributed independently in a space of some observables O(for example position,\\ncolour and magnitude, chemical abundances), then the positions of Nstars in the space of observables O1, . . . , O Nis\\na realisation of an inhomogeneous Poisson point process. This process is a random distribution of points defined by a\\nrate function λ(O), such that the number of points in a given volume Vin the space of the observables is a Poisson\\nrandom variable with mean and variance equal to the integral of the rate function over that volume,R\\nVλ(O) dO. It', mimetype='text/plain', start_char_idx=None, end_char_idx=None, text_template='{metadata_str}\\n\\n{content}', metadata_template='{key}: {value}', metadata_seperator='\\n'), Document(id_='f446ad70-b762-4cb3-9158-838820a9e75e', embedding=None, metadata={'page_label': '4', 'file_name': 'research_paper.pdf', 'file_path': '/content/data/research_paper.pdf', 'file_type': 'application/pdf', 'file_size': 1206037, 'creation_date': '2024-09-05', 'last_modified_date': '2024-09-05'}, excluded_embed_metadata_keys=['file_name', 'file_type', 'file_size', 'creation_date', 'last_modified_date', 'last_accessed_date'], excluded_llm_metadata_keys=['file_name', 'file_type', 'file_size', 'creation_date', 'last_modified_date', 'last_accessed_date'], relationships={}, text='4 Hopkins et al.\\nfollows that the probability of finding a point (i.e. an observed star) with observables in the infinitesimal volume δO\\nis given by λ(O)δO, and the total number of points (i.e. stars observed) is a Poisson random variable with mean and\\nvariance Λ =R\\nλ(O) dO. Since the rate function is equal to the rate of occurrence of observed stars, it can account for\\nboth the underlying true density of stars, as well as the effect of the survey selection function and dust which prevent\\nall extant stars from being observed. If the rate function is modelled with λ(O|θ), where θparameterises the model,\\nthen the likelihood of the model given Nobserved stars O1, . . . , O Nis given by\\nlnL(θ) =X\\nilnλ(Oi|θ)−Z\\nλ(O|θ) dO . (1)\\nAPOGEE has a selection function based on bins in dereddened colour and apparent magnitude, so Bovy et al.\\n(2016a) define the effective selection function S, a convenient quantity equal to the fraction of a population’s stars at\\neach heliocentric distance Dthat will be spectroscopically observed in each of APOGEE’s fields. This is calculated\\nfor each field by placing a tracer sample of stars in the field at that distance, and calculating the fraction that would\\nbe observed, given a dust map and the survey selection function in dereddened colour and apparent magnitude. We\\nevaluate this for each monoabundance population in each field at a range of heliocentric distances Dand ages τ. This\\nallows us to treat stars as only having three observables: the field they appear in, their distance from the Sun D,\\nand their age τ. We used the effective selection function implementation in the apogee2package, described in Bovy\\net al. (2016a). We obtained the tracer population by sampling PARSEC stellar model isochrones (Bressan et al. 2012;\\nMarigo et al. 2017) at a range of ages with a Kroupa initial mass function with a minimum mass of 0 .08M⊙(Kroupa\\n2001), cut to 1 ≤logg <3 to match the APOGEE red giant sample to which it was being fit. For a dust map we used\\na combination of Drimmel et al. (2003), Marshall et al. (2006) and Green et al. (2019), combined with the package\\nmwdust3, also described in Bovy et al. (2016a).\\nFollowing Bovy et al. (2016b), we separate our red giant sample into monoabundance populations by binning the\\nstars in [Fe /H] and [ α/Fe], then fit a separate number density model ngiants to each monoabundance population.\\nThe density model we chose to fit to each monoabundance population was a simple axisymmetric exponential in\\nGalactocentric radius Rand height above the plane of the disk z,\\nngiants(R, z|logA, aR, az) = exp(logA −aR(R−R0)−az|z|) kpc−3, (2)\\nparameterised by an amplitude logA and two scale parameters aRandaz.R0= 8.1 kpc is the radial distance of the\\nSun from the Galactic centre (GRAVITY Collaboration et al. 2018). Note that both Randzare functions of our\\nobservables, the angular coordinates of the field pointing and distance from the Sun D. We simultaneously fit the age\\ndistribution of each monoabundance population, assumed to be a normal distribution with mean τ0and variance 1 /ω,\\ng(τ|τ0, ω) =rω\\n2πexp\\x10\\n−ω\\n2(τ−τ0)2\\x11\\n(3)\\nThis form is justified by the simple narrow, monomodal age distributions for monoabundance populations found by\\nLian et al. (2022), and the fact that the effective selection function and IMF are sufficiently well-behaved that small\\nchanges in the age distribution will not significantly change our results.\\nTo calculate the rate function λ(field , D, τ ) for each monoabundance population, the number density of red giants\\nneeds to be multiplied a Jacobian factor |J(field , D)|= Ω fieldD2to convert it from a density in Cartesian coordinates\\nto a density in D. Multiplying by the age distribution gives the combined underlying distribution in field, distance\\nand age. The observed distribution is then found by multiplying this underlying distribution by the effective selection\\nfunction S(field , D, τ ). Thus the rate function for each monoabundance population is given by\\nλ(field , D, τ|logA, aR, az, τ0, ω) =ngiants(R, z|logA, aR, az)·g(τ|τ0, ω)\\n· |J(field , D)| ·S(field , D, τ ).(4)\\n2https://github.com/jobovy/apogee\\n3https://github.com/jobovy/mwdust', mimetype='text/plain', start_char_idx=None, end_char_idx=None, text_template='{metadata_str}\\n\\n{content}', metadata_template='{key}: {value}', metadata_seperator='\\n'), Document(id_='2119166a-359f-4a3e-ae72-387423063115', embedding=None, metadata={'page_label': '5', 'file_name': 'research_paper.pdf', 'file_path': '/content/data/research_paper.pdf', 'file_type': 'application/pdf', 'file_size': 1206037, 'creation_date': '2024-09-05', 'last_modified_date': '2024-09-05'}, excluded_embed_metadata_keys=['file_name', 'file_type', 'file_size', 'creation_date', 'last_modified_date', 'last_accessed_date'], excluded_llm_metadata_keys=['file_name', 'file_type', 'file_size', 'creation_date', 'last_modified_date', 'last_accessed_date'], relationships={}, text='The Galactic ISO Population 5\\nThis particular form for the density profile has the advantage that the Poisson point process likelihood takes the\\ntractable form\\nlnL(logA , aR, az, τ0, ω) = const + N\\x10\\nlogA−aR⟨R−R0⟩ −az⟨|z|⟩+1\\n2lnω−ω\\n2\\x00\\n⟨τ2⟩ −2τ0⟨τ⟩+τ2\\n0\\x01\\x11\\n−X\\nfieldZ Z\\nλ(field , D|logA, aR, az, τ0, ω) dDdτ ,(5)\\nwhere the sum over every star in the monoabundance populationP\\nilnλ(Oi|θ) in Eq. 1 is reduced to a linear\\ncombination of the parameters with aggregates of the data in the monoabundance population being fitted: Nas the\\nnumber of stars observed, ⟨R⟩and⟨|z|⟩as the mean coordinate values, and ⟨τ⟩and⟨τ2⟩as the mean age and age\\nsquared. To build our model of the Milky Way disk between R= 4 kpc −12 kpc and |z|= 0−5 kpc, we found a\\nbest-fit model for each monoabundance population by maximising this likelihood with respect to logA, aR,az,τ0, and\\nω, visually checking each fit to ensure the global maximum had been found. The results are plotted in Figure 1.\\nReliable ages are not available for stars [Fe /H]<−0.5 in AstroNN , so for these populations we fit only for logA,\\naRandaz. We use an effective selection function dependent only on field and D, calculated assuming a uniform age\\ndistribution. While a uniform age distribution is an inaccurate description of a monoabundance population, it is a\\nnon-informative assumption that ensures that the effective selection function is never zero where a star may actually\\nbe observed. On testing, we found that the effective selection function did not vary strongly with the age distribution\\nassumed. Even then, as discussed in the section below, we do not expect stars with metallicity [Fe /H]<−0.5 to\\ncontribute a significant number of ISOs, making our conclusions independent of the age distribution assumed for these\\nstars.\\nThe two main distinct chemodynamical populations of the Milky Way are clearly shown in our model (Fig. 1).\\nThe young, high [Fe /H], low [ α/Fe] monoabundance populations have the low vertical scale lengths and high radial\\nscale lengths which form the thin disk, whereas the old low [Fe /H], high [ α/Fe] monoabundance populations have the\\nopposite trend in scale lengths, forming the thick disk (Mashonkina et al. 2019).\\nThis approach gives us simple but accurate models of the trends of the Milky Way disk’s stellar population. These\\nresults agree with the results of Bovy et al. (2016b) which also models monoabundance populations in APOGEE,\\nfitting more complex models to only stars in the red clump, using their highly consistent absolute magnitudes as an\\naccurate distance measurement.\\n2.3. The Sine Morte Stellar Population\\nHaving obtained a model for the distribution of red giants in the Milky Way, we then infer the distribution of all\\nstars throughout Galactic history. As described in §3.2, ISOs form mostly at the start of their parent star’s life and\\nthen outlive their parent star. Under this constraint, the population of currently living stars is too limited to use to\\npredict the ISO population. Instead, we must consider what the stellar population would be at the present time if\\nstars did not die, but instead continued to orbit around the Milky Way indefinitely — while being subjected to the\\nsame dynamical effects that affected both their longer-lived companion stars and the ISOs they had released on similar\\norbits. We introduce this as the sine morte4stellar population.\\nFirst, we calculate the sine morte number density of stars in each monoabundance population, from the red giant\\nnumber density. For this, we use the same PARSEC stellar model isochrones and Kroupa initial mass function with\\na minimum mass of 0 .08M⊙as in §2. Using the isochrones with metallicities corresponding to each monoabundance\\npopulation, weighted by the fitted age distribution g(τ|τ0, ω) for that monoabundance population, we calculate\\nNgiants/Nsm: the fraction of all stars ever created that are currently in the red giant phase, which is again defined by\\n1≤logg <3. Dividing the number density of giants by this fraction gives us the sine morte stellar number density.\\nThis assumes that the age distribution of each monoabundance population does not vary significantly across the Milky\\nWay disk, which is reasonable for the range of Randzwe are considering (Lian et al. 2022).\\nNext, we calculate the sine morte stellar mass density by multiplying the sine morte stellar number density by the\\naverage star’s initial mass, ⟨Mint⟩. By definition, the average mass of stars in the sine morte population is the average\\ninitial mass, which is only dependent on the initial mass function. Thus we calculate ⟨Mint⟩from the same Kroupa\\n4Latin for “without death”, [ \"si:ne\"mOrte] IPA pronunciation, or ‘seen-ay mort-ay’.', mimetype='text/plain', start_char_idx=None, end_char_idx=None, text_template='{metadata_str}\\n\\n{content}', metadata_template='{key}: {value}', metadata_seperator='\\n'), Document(id_='551e460a-23be-47c7-86d9-483d4ece24c2', embedding=None, metadata={'page_label': '6', 'file_name': 'research_paper.pdf', 'file_path': '/content/data/research_paper.pdf', 'file_type': 'application/pdf', 'file_size': 1206037, 'creation_date': '2024-09-05', 'last_modified_date': '2024-09-05'}, excluded_embed_metadata_keys=['file_name', 'file_type', 'file_size', 'creation_date', 'last_modified_date', 'last_accessed_date'], excluded_llm_metadata_keys=['file_name', 'file_type', 'file_size', 'creation_date', 'last_modified_date', 'last_accessed_date'], relationships={}, text='6 Hopkins et al.\\n−2.0−1.5−1.0−0.5 0.0 0.5\\n[Fe/H]−0.2−0.10.00.10.20.30.40.5[α/Fe]logA\\n23456789\\n−2.0−1.5−1.0−0.5 0.0 0.5\\n[Fe/H]−0.2−0.10.00.10.20.30.40.5[α/Fe]ρsm/ngiants\\n200250300350400\\nM⊙\\n−2.0−1.5−1.0−0.5 0.0 0.5\\n[Fe/H]−0.2−0.10.00.10.20.30.40.5[α/Fe]aR\\n−0.4−0.20.00.20.40.6\\nkpc−1\\n−2.0−1.5−1.0−0.5 0.0 0.5\\n[Fe/H]−0.2−0.10.00.10.20.30.40.5[α/Fe]az\\n1234\\nkpc−1\\n−2.0−1.5−1.0−0.5 0.0 0.5\\n[Fe/H]−0.2−0.10.00.10.20.30.40.5[α/Fe]τ0\\n23456789\\nGyr\\n−2.0−1.5−1.0−0.5 0.0 0.5\\n[Fe/H]−0.2−0.10.00.10.20.30.40.5[α/Fe]ω□1\\n2\\n1.01.21.41.61.82.02.2\\nGyr\\nFigure 1. The best-fit values of the density modelling parameters for each monoabundance population with 20 or more observed\\nstars, and ρsm/ngiants , the ratio between the sine morte stellar mass density and the red giant number density, explained in\\nsection 2.3.\\nIMF. All combined, the sine morte stellar mass density is given by\\nρsm(x) =⟨Mint⟩\\nNgiants/Nsm·ngiants(x). (6)\\nThe difference between the two populations at the position of the Sun is illustrated in Fig. 2. The ratio between the\\nsine morte stellar mass density and the red giant number density is plotted in the top right panel in Fig. 1.\\nFor the monoabundance populations with [Fe /H]<−0.5, without reliable age measurements, we calculate an upper\\nlimit for the sine morte mass density. We assume an old age distribution, with mean τ0= 12 Gyr and standard', mimetype='text/plain', start_char_idx=None, end_char_idx=None, text_template='{metadata_str}\\n\\n{content}', metadata_template='{key}: {value}', metadata_seperator='\\n'), Document(id_='5216d9c1-b1f8-4a0d-8698-17e44f947221', embedding=None, metadata={'page_label': '7', 'file_name': 'research_paper.pdf', 'file_path': '/content/data/research_paper.pdf', 'file_type': 'application/pdf', 'file_size': 1206037, 'creation_date': '2024-09-05', 'last_modified_date': '2024-09-05'}, excluded_embed_metadata_keys=['file_name', 'file_type', 'file_size', 'creation_date', 'last_modified_date', 'last_accessed_date'], excluded_llm_metadata_keys=['file_name', 'file_type', 'file_size', 'creation_date', 'last_modified_date', 'last_accessed_date'], relationships={}, text='The Galactic ISO Population 7\\n−2.0−1.5−1.0−0.5 0.0 0.5\\n[Fe/H]0.000.250.500.751.001.251.501.75n([Fe/H])Stellar Distribution\\nRed Giants\\nSine Morte\\nFigure 2. Comparison of the [Fe /H] distribution of red giants and the [Fe /H] distribution of the sine morte stellar population\\naround the Sun, both normalised. Though similar, there are subtle differences largely caused by the fact that the distribution\\nof ages changes as a function of [Fe /H], as shown in Fig. 1.\\ndeviation ω−1\\n2= 1 Gyr, which minimises Ngiants/Nsm. Even with this upper limit, below we find that stars with\\n[Fe/H]<−0.5 contribute a very small number of ISOs, making our conclusions independent of this approximation.\\nThe chemical model we use in §3.1 to link the composition of ISOs to the composition of stars depends only on\\nstellar metallicity [Fe /H]: so when we evaluate the model we sum the sine morte distribution over the bins in [ α/Fe] to\\nget a distribution in only [Fe /H] bins. To ensure accurately fitted models, we include only monoabundance populations\\nwith 20 or more observed stars. We then smooth this binned distribution by taking the derivative of a spline fit to the\\ncumulative distribution, knotted at the edges of the bins. Plotted in Fig. 3 is the sine morte metallicity distribution\\nρsm([Fe/H]) evaluated at the position of the Sun ( R= 8.1 kpc, z= 0.021 kpc, GRAVITY Collaboration et al. (2018);\\nBennett & Bovy (2019)), and integrated over the broader R= 4 kpc −12 kpc and |z|= 0−5 kpc range of the Galactic\\ndisk we are modelling.\\n3.PREDICTING THE INTERSTELLAR OBJECT DISTRIBUTION\\nIn the previous section, we calculated the sine morte stellar population of the Milky Way from the APOGEE survey.\\nIn this section we describe how to predict an example physical property of the Galactic ISO population — the ISO\\nwater mass fraction distribution — from this stellar population.\\n3.1. Protoplanetary Disk Model\\nWe make the foundational assertion that all ISOs we consider form as planetesimals in a protoplanetary disk (’Oumua-\\nmua ISSI Team et al. 2019). A protoplanetary disk has to first order the same composition as the star it forms around,\\nsince they both form from the same molecular cloud core. Under this assumption, Bitsch & Battistini (2020) predict\\nthe composition of planetesimals formed around stars of different metallicities. They do this for stars with metallicities', mimetype='text/plain', start_char_idx=None, end_char_idx=None, text_template='{metadata_str}\\n\\n{content}', metadata_template='{key}: {value}', metadata_seperator='\\n'), Document(id_='c10220f6-df9e-438b-8a60-3aa6cedc00b2', embedding=None, metadata={'page_label': '8', 'file_name': 'research_paper.pdf', 'file_path': '/content/data/research_paper.pdf', 'file_type': 'application/pdf', 'file_size': 1206037, 'creation_date': '2024-09-05', 'last_modified_date': '2024-09-05'}, excluded_embed_metadata_keys=['file_name', 'file_type', 'file_size', 'creation_date', 'last_modified_date', 'last_accessed_date'], excluded_llm_metadata_keys=['file_name', 'file_type', 'file_size', 'creation_date', 'last_modified_date', 'last_accessed_date'], relationships={}, text='8 Hopkins et al.\\n−2.0−1.5−1.0−0.5 0.0 0.5\\n[Fe/H]0.00.20.40.60.81.01.21.41.6ρsm([Fe/H])Stellar Distribution\\nLocal\\nMilky Way Disk\\nFigure 3. The normalised mass-weighted sine morte stellar metallicity distribution, evaluated at the position of the Sun and\\nintegrated over the range of the Milky Way disk we are modelling. Vertical lines show the range in [Fe /H] for which we model\\nvariations in the water mass fraction fH2Oof ISOs\\nin the range −0.4≤[Fe/H]≤0.4, using the average elemental composition of stars at each value of [Fe /H] in the\\nGALAH DR2 (Buder et al. 2018), and for planetesimals that form both interior and exterior to the water ice line: the\\ninner edge of the region of the protoplanetary disk where it is cool enough to form water ice. We assume that each star\\nin the sine morte population produces only ISOs with their composition set by the Bitsch & Battistini (2020) formula\\nfor that metallicity, exterior to the water ice line. While in reality, stars will each produce a distribution of ISOs that\\nformed at different positions in their protoplanetary disk and thus have a range of compositions, this simplification\\nof only modelling planetesimals which form exterior to the water ice line is justified by the proportionally greater\\nreservoir of snowline-exterior planetesimals, and the higher efficiencies of formation mechanisms dynamically stripping\\nthem into the interstellar population (Fitzsimmons et al. 2023). In our Solar System, the vast majority of Oort cloud\\nobjects are ice-rich (Meech et al. 2016); therefore both these and the majority of ISOs produced by the Solar System\\nmust have formed outside of the water ice line (Filacchione et al. 2022). Additionally, planetesimals beyond the water\\nice line are more loosely bound to their parent stars, so will be more easily ejected (e.g. Moro-Mart´ ın (2018)).\\nWe focus on the mass fraction of water, fH2O, as this varies significantly and decreases monotonically with [Fe /H] in\\nthe models of Bitsch & Battistini (2020). To obtain a smooth map from [Fe /H] to fH2O, we fit a third-order polynomial\\nto the water ice mass fraction data points in figure 10 of Bitsch & Battistini (2020). For metallicities outside the range\\nof−0.4≤[Fe/H]≤0.4 we assume that the relationship between fH2Oand [Fe /H] continues to be monotonic, with fH2O\\nremaining high beyond the low [Fe /H] limit and remaining low beyond the high [Fe /H] limit: allowing us to track the\\nfraction of ISOs with high, low, and intermediate water mass fraction. This range corresponds to 0 .07≤fH2O≤0.51\\nin water mass fraction.', mimetype='text/plain', start_char_idx=None, end_char_idx=None, text_template='{metadata_str}\\n\\n{content}', metadata_template='{key}: {value}', metadata_seperator='\\n'), Document(id_='e4c4dbb5-c21b-4014-864d-5315a15559ed', embedding=None, metadata={'page_label': '9', 'file_name': 'research_paper.pdf', 'file_path': '/content/data/research_paper.pdf', 'file_type': 'application/pdf', 'file_size': 1206037, 'creation_date': '2024-09-05', 'last_modified_date': '2024-09-05'}, excluded_embed_metadata_keys=['file_name', 'file_type', 'file_size', 'creation_date', 'last_modified_date', 'last_accessed_date'], excluded_llm_metadata_keys=['file_name', 'file_type', 'file_size', 'creation_date', 'last_modified_date', 'last_accessed_date'], relationships={}, text='The Galactic ISO Population 9\\nDuring the writing of this paper, Cabral et al. (2023) was published, containing an updated version of the Bitsch\\n& Battistini (2020) chemical model which included data from GalaH DR3 (Buder et al. 2021) and APOGEE DR17\\n(Abdurro’uf et al. 2022), and allowed for variation in [ α/Fe] as well as [Fe /H]. They found that the water mass fraction\\nof planetesimals, consistent with the Bitsch & Battistini (2020) assumptions we use, is most dependent on [Fe /H].\\nThey also confirmed the trend between [Fe /H] and fH2Ofound in Bitsch & Battistini (2020). However, they also\\nfound that for the APOGEE survey there was a smaller variation in fH2Oover the same range in [Fe /H] compared to\\nthe GalaH data used in their work. Cabral et al. (2023) notes that this means that the trends seen are robust. The\\nfindings of Cabral et al. (2023) do mean that the predictions of the ISO distributions in our work may overestimate\\nthe width of the distribution in fH2O.\\nWe assume that every star produces ISOs, and the number of ISOs produced by each star depends on its mass and\\nmetallicity. Lu et al. (2020) argue that the mass of planet-forming material in a protoplanetary disk is proportional\\nto both the mass of the host star mass M∗and its metal mass fraction Z— well approximated by Z⊙10[Fe/H]for\\nsmall values of Z ( Z⊙= 0.0153, Caffau et al. (2011)). In the absence of confirmed and comprehensive knowledge\\nof ISO formation mechanisms, we use this as a reasonable proxy for the number of ISOs produced by each star.\\nHowever, the number of ISOs produced by a star may not be simply proportional to the mass of planet-forming\\nmaterial, because ISO production also requires the ejection of planetesimals — which is dependent on system dynamical\\narchitecture. One major ISO ejection pathway is scattering by giant planets, the occurrence of which has its own\\nmetallicity dependence (Osborn & Bayliss 2020). Additionally, scattering by giant planets may form ISOs with extra\\nfragmentation, reweighting the number distribution towards lower masses and increasing the number of ISOs produced\\nfrom the same mass of planet-forming material (Raymond et al. 2018b).\\nWe therefore assume the number of ISOs produced by each star is proportional to its mass, while incorporating into\\nthe model a power law dependence on metallicity mass fraction: thus the number of ISOs produced is proportional to\\nM∗·10β[Fe/H]. Here β= 1 corresponds to the simple assumption that the number of ISOs produced is proportional to\\nthe mass of planet-forming material. β= 0 corresponds to no metallicity dependence at all. However, we expect β >0:\\nplanetesimals require some fraction of dust and ice in order to exist, i.e. at the elemental level, C/N/O, Al/Si, &c.\\nmust be present, so a minimum metallicity constraint must exist (Johnson & Li 2012). We do not model the constant\\nof proportionality here, as this depends on the size distribution of ISOs, which remains observationally unconstrained\\nwith only two ISOs (’Oumuamua ISSI Team et al. 2019; Jewitt & Seligman 2022). We predict only the normalised\\ndistribution of ISO water mass fractions.\\n3.2. Predicting the ISO Population From the Stellar Population\\nSince the majority of ISOs are expected to be ejected by dynamical processes within several hundred Myr of a\\nstar’s formation (Pfalzner & Bannister 2019; Fitzsimmons et al. 2023), we assume that the birth of a star and release\\nof its ISOs are contemporaneous, and omit accounting for any delay. As Oort cloud comets, which also occupy an\\ninterstellar environment (Kaib & Volk 2022), do not exhibit substantive erosion after 4.5 Gyr (Stern & Shull 1988),\\nwe continue with the expectation that ISO erosional processes are broadly similar to those of Solar System comets\\n(e.g. Guilbert-Lepoutre et al. 2015). This implies ISOs from stars prior to the Sun will outlive their parent stars. We\\nthus use the sine morte stellar distribution established in §2.3. For assessing the water mass fraction of the resulting\\npopulation, we assume processing in the interstellar medium has a negligible effect5, and that ISOs broadly represent\\nthe water mass fraction of their source planetesimal populations.\\nTo link the spatial distribution of stars throughout the Galaxy to the ISOs they produced, we need to model their\\ncombined Galactic dynamics. ISOs are not expected to remain near to their parent stars on Gyr timescales, and stars\\ndo die. However, it is helpful to consider what the behaviour of the ISO population is in the case that neither of these\\nare true. If ISOs did remain near their parent stars and both ISOs and stars existed for an infinite length of time,\\nthe number density distribution of ISOs with a given water mass fraction fH2Oand position in the Galaxy xin the\\npresent day, denoted nISO(x, fH2O), would be equal to the number of ISOs produced by stars currently at the same\\nposition and of the corresponding metallicity [Fe /H]. Under the model of §3.1, the number of ISOs produced by a\\nstar of mass M∗and metallicity [Fe /H] is proportional to M∗·10β[Fe/H], thus\\nnISO(x, fH2O|β)∝10β[Fe/H]·d[Fe/H]\\ndfH2O·ρ(x,[Fe/H]) (7)\\n5While this is valid for water, it may not hold for hypervolatiles; e.g. Seligman et al. (2022) suggest that processing in the interstellar\\nmedium will remove CO and CO 2relative to H 2O. However, this is countered by the CO-rich nature of 2I.', mimetype='text/plain', start_char_idx=None, end_char_idx=None, text_template='{metadata_str}\\n\\n{content}', metadata_template='{key}: {value}', metadata_seperator='\\n'), Document(id_='e879f1dc-f4d3-4914-96b7-ed9e43c30774', embedding=None, metadata={'page_label': '10', 'file_name': 'research_paper.pdf', 'file_path': '/content/data/research_paper.pdf', 'file_type': 'application/pdf', 'file_size': 1206037, 'creation_date': '2024-09-05', 'last_modified_date': '2024-09-05'}, excluded_embed_metadata_keys=['file_name', 'file_type', 'file_size', 'creation_date', 'last_modified_date', 'last_accessed_date'], excluded_llm_metadata_keys=['file_name', 'file_type', 'file_size', 'creation_date', 'last_modified_date', 'last_accessed_date'], relationships={}, text='10 Hopkins et al.\\nwhere ρ(x,[Fe/H]) is the mass density distribution of stars at position xwith the metallicity [Fe /H] corresponding to\\nthe ISO water mass fraction fH2O, and d[Fe /H]/dfH2Ois the gradient of the relationship between [Fe /H] and fH2O\\ndescribed in §3.1.\\nThe fact that stars do in fact die is then corrected for by replacing ρ(x,[Fe/H]) in this equation with ρsm(x,[Fe/H]),\\nthe sine morte stellar mass density introduced in §2.3. Correcting for the fact that ISOs disperse from near their\\nparent stars is more complex, so we proceed with some simplifying assumptions. Once ejected, unless its resultant\\nvelocity exceeds the Galactic escape velocity, an ISO will orbit the Galactic centre, as stars do. We assume ISOs\\nare ejected relatively slowly from their parent planetary systems compared to the stellar velocity dispersion. This\\nis justified assuming ejection velocities <10 km s−1, the maximum ejection velocity from a planetary system under\\nan expected suite of scattering mechanisms (Pfalzner & Bannister 2019; Fitzsimmons et al. 2023), and the velocity\\ndispersions ≳20 km s−1measured in the Solar Neighbourhood (Anguiano et al. 2020). Stars form on near-circular\\norbits around the Galactic centre (Frankel et al. 2020), so a cloud of recently ejected ISOs will all have similar orbits\\nto their parent star: nearly circular with similar ranges of oscillation in Galactocentric Randz. However, the slight\\ndifferences in their orbits will give the ISOs different orbital periods around the Galactic centre, meaning they will\\ndisperse along their similar near-circular orbital paths. Therefore, though ISOs do not stay near their parent star, we\\nassume here that they only disperse in the azimuthal direction, and remain in the same Randzrange as their parent\\nstar. Under this assumption equation 7 still holds if the stellar density model is axisymmetric, depending only on R\\nandz, as does ours:\\nnISO(R, z, f H2O|β)∝10β[Fe/H]·d[Fe/H]\\ndfH2O·ρsm(R, z, [Fe/H]) (8)\\nOrbits around the Galactic centre can evolve with time, due to the influence of perturbing potentials such as spiral\\narms, the bar and molecular clouds. These effects can cause both dynamical ‘heating’, an increase in the size of radial\\nand vertical excursions from a circular orbit, and ‘migration’, changes to the radius of an orbit while it remains nearly\\ncircular (Sellwood & Binney 2002). We introduced Eq. 8 with the assumption that an ISO will stay in the same range\\nofRandzas its parent star. Due to their azimuthal separation, the star and ISOs will experience slightly different\\nperturbing potentials, causing their orbits to evolve adjacently but independently. However, if the Galactic stellar and\\nISO distributions are sufficiently axisymmetric, perturbations will consistently change together both the orbits of stars\\nand the orbits of a corresponding number of ISOs. Thus, Eq. 8 holds for our model.\\nIn this work we predict the distribution of ISOs in fH2Oboth at particular values of Randzand integrated over\\nthe whole Milky Way. Since we do not model the total number of ISOs, we remove the need for the constant of\\nproportionality in Eq. 8 by normalising each nISOdistribution we calculate with\\np(fH2O|β) =nISO(fH2O|β)R\\nnISO(fH2O|β) dfH2O. (9)\\nThis gives us the distribution of ISOs within the bounds of the protoplanetary disk chemical model: 0 .07≤fH2O≤\\n0.51. Outside of this range, we can calculate the fraction of ISOs with fH2O≤0.07 and fH2O≥0.51, by assuming\\nthat the relation between [Fe /H] and fH2Oremains monotonic. Thus, all stars with [Fe /H]≤ −0.4 contribute ISOs\\nwith fH2O≥0.51, and all stars with [Fe /H]≥0.4 contribute ISOs with fH2O≤0.07.\\n4.RESULTS\\nIn this section we demonstrate the prediction framework of section 3 by making two different predictions. We\\ndemonstrate two different example values for a stellar metallicity dependence for ISO production, β, with β= 1 for\\nour principal prediction and β= 0 as an alternate prediction.\\n4.1. Principal Prediction: β= 1\\nFirst, we predict the distribution of ISOs assuming that the number produced by each star is proportional to the\\nstar’s metal mass fraction Z, by setting β= 1 in equation 8. As described in section 3.1, in the absence of concrete\\nknowledge of ISO formation mechanisms this is a reasonable value to assume, and thus we consider this our principal\\nprediction.\\nTable 1 lists the the fraction of ISOs within and outside either end of the Bitsch & Battistini (2020) protoplanetary\\ndisk chemical model fH2Orange, 0 .07≤fH2O≤0.51. We assess both the distribution of ISOs at the position of the\\nSun, at R= 8.1 kpc, z= 0.021 kpc (GRAVITY Collaboration et al. 2018; Bennett & Bovy 2019), and the distribution', mimetype='text/plain', start_char_idx=None, end_char_idx=None, text_template='{metadata_str}\\n\\n{content}', metadata_template='{key}: {value}', metadata_seperator='\\n'), Document(id_='58924cde-80da-4d9f-9dc7-222804e0345e', embedding=None, metadata={'page_label': '11', 'file_name': 'research_paper.pdf', 'file_path': '/content/data/research_paper.pdf', 'file_type': 'application/pdf', 'file_size': 1206037, 'creation_date': '2024-09-05', 'last_modified_date': '2024-09-05'}, excluded_embed_metadata_keys=['file_name', 'file_type', 'file_size', 'creation_date', 'last_modified_date', 'last_accessed_date'], excluded_llm_metadata_keys=['file_name', 'file_type', 'file_size', 'creation_date', 'last_modified_date', 'last_accessed_date'], relationships={}, text='The Galactic ISO Population 11\\nISOfH2Orange Fraction of ISOs around Sun Fraction of ISOs in Milky Way Disk\\nfH2O<0.07 0.017 0.024\\n0.07≤fH2O≤0.51 0.955 0.915\\n0.51< fH2O 0.027 0.061\\nTable 1. Primary prediction for the fraction of ISOs in each fH2Orange evaluated at the position of the Sun and integrated\\nover whole Milky Way, with β= 1.\\nof ISOs integrated over the region of the Milky Way disk we are modelling. In both cases, the vast majority of\\nISOs lie within the range of the model. The significant mass of stars beyond the lower [Fe /H] limit of the ρsm([Fe/H])\\ndistribution in Fig. 3, both at the position of the Sun and over the whole Milky Way disk, do not contribute significantly\\nto the fractions of ISOs in the high fH2Orange. This is because of the exponential dependence of the number of ISOs\\nproduced by each star on [Fe /H] in Eq. 8.\\n0.1 0.2 0.3 0.4 0.5\\nfH2O0.00.51.01.52.02.5p(fH2O|β= 1.00)ISO Distribution\\nLocal\\nMilky Way Disk\\nFigure 4. Primary prediction for the distribution of ISO water mass fractions, evaluated at the position of the Sun and\\nintegrated over the Milky Way disk, for β= 1.\\nWithin the range of the chemical model, we can plot the distribution function of the ISO water mass fractions.\\nFigure 4 shows both the population of ISOs around the Sun and over the whole Milky Way. The different shapes\\nof the two metallicity distribution functions in Figure 3 is also apparent here, as the wider Milky Way metallicity\\ndistribution function results in a wider ISO water mass fraction distribution.\\nThe distributions of ISOs around the Sun and averaged over the Milky Way disk are remarkably similar. We explore\\nthis in Figure 5, through the sine morte stellar mass [Fe /H] distribution and the ISO fH2Odistribution within the\\nrange of the chemical model at a range of values of R, integrated over z. Also plotted are the median values of [Fe /H]\\nandfH2Oat each value of R. Clear in the left-hand panel of Fig. 5 is the well-studied Galactic metallicity gradient', mimetype='text/plain', start_char_idx=None, end_char_idx=None, text_template='{metadata_str}\\n\\n{content}', metadata_template='{key}: {value}', metadata_seperator='\\n'), Document(id_='f1a82feb-11ec-4034-bddd-ebd026708991', embedding=None, metadata={'page_label': '12', 'file_name': 'research_paper.pdf', 'file_path': '/content/data/research_paper.pdf', 'file_type': 'application/pdf', 'file_size': 1206037, 'creation_date': '2024-09-05', 'last_modified_date': '2024-09-05'}, excluded_embed_metadata_keys=['file_name', 'file_type', 'file_size', 'creation_date', 'last_modified_date', 'last_accessed_date'], excluded_llm_metadata_keys=['file_name', 'file_type', 'file_size', 'creation_date', 'last_modified_date', 'last_accessed_date'], relationships={}, text='12 Hopkins et al.\\n(Cheng et al. 2012) — but additionally in the right-hand panel is a corresponding gradient in ISO water mass fraction.\\nSince the composition of ISOs depends on the chemical makeup of the stars that they form around, we expect trends\\nin the chemical abundances of stars to be accompanied by equivalent trends in the compositions of ISOs. Figure 5 also\\nshows why the Solar neighbourhood distributions are similar to the whole-Galaxy integrated distributions in Figures 3\\nand 4: The Solar neighbourhood happens to be at an intermediate value of R(8.1 kpc), where both the stellar [Fe /H]\\ndistribution and therefore the ISO fH2Odistributions are approximately midway between the high and low extremes.\\n5 6 7 8 9 10 11\\nR/kpc−2.0−1.5−1.0−0.50.00.5[Fe/H]\\n0.000.250.500.751.001.251.501.75\\np([Fe/H]|R)\\n5 6 7 8 9 10 11\\nR/kpc0.100.150.200.250.300.350.400.450.50fH2O\\n1234567\\np(fH2O|R)\\nFigure 5. Sine morte stellar mass distributions (left) and ISO water mass fraction distributions (right), integrated over z, at\\neach distance to the Galactic Centre R. Both distributions are normalised such that at each value of Rthe integral over [Fe /H]\\norfH2Ois unity. Dashed lines show the median value of each distribution at each R.\\nIn these plots, we have normalised the distributions in [Fe /H] and fH2Osuch that at each value of Rthe integral\\nover [Fe /H] or fH2Ois unity. However, it is worth noting that our model implies the densities of both the stellar\\nand ISO populations will decrease with distance from the Galactic centre. The exponential stellar density profile is\\nwell established (Juri´ c et al. 2008). Here we predict that the Galactic ISO population density profile will decrease\\nfaster than that of the stars: due to the metallicity dependence of the number of ISOs produced by each star, the\\nhigher-metallicity stars in the inner disk will produce more ISOs per unit of stellar mass than the lower-metallicity\\nstars of the outer disk.\\n4.2. Alternate Prediction: β= 0\\nSetting β= 1 is just a choice in a basic and observationally unconstrained model. Therefore, we explore how changing\\nits value affects the predicted ISO distribution. Lintott et al. (2022) predicted the ISO populations of Galaxies from\\nthe EAGLE hydrodynamical simulation using the same protoplanetary disk chemical model to map stellar metallicities\\n[Fe/H] to ISO water mass fractions fH2O. However, Lintott et al. (2022) assumed that the number of ISOs produced\\nby each star was independent of the star’s metallicity. This is equivalent to setting β= 0 in Eq. 8 in this work, and\\nwe use this to make our alternate prediction. The resulting water mass fraction distributions for ISOs at the position\\nof the Sun and integrated over the whole Milky Way are plotted in Figure 6 and tabulated in Table 2.\\nISOfH2Orange Fraction of ISOs around Sun Fraction of ISOs in Milky Way Disk\\nfH2O<0.07 0.007 0.009\\n0.07≤fH2O≤0.51 0.903 0.798\\n0.51< fH2O 0.090 0.194\\nTable 2. Alternate prediction for fraction of ISOs in each fH2Orange, evaluated at the position of the Sun and integrated over\\nthe whole Milky Way with β= 0: assuming the number of ISOs produced by each star is independent of the star’s metallicity.\\nAssuming β= 0 causes the ISO distribution to be more weighted towards a higher water mass fraction. These high\\nwater mass fraction ISOs come from low metallicity stars, which in this scenario no longer have their contributions to\\nthe ISO population suppressed by the exponential dependence on [Fe /H]. This means that the low metallicity tails of', mimetype='text/plain', start_char_idx=None, end_char_idx=None, text_template='{metadata_str}\\n\\n{content}', metadata_template='{key}: {value}', metadata_seperator='\\n'), Document(id_='2fa8dab0-2533-4e1c-a881-2e866a548789', embedding=None, metadata={'page_label': '13', 'file_name': 'research_paper.pdf', 'file_path': '/content/data/research_paper.pdf', 'file_type': 'application/pdf', 'file_size': 1206037, 'creation_date': '2024-09-05', 'last_modified_date': '2024-09-05'}, excluded_embed_metadata_keys=['file_name', 'file_type', 'file_size', 'creation_date', 'last_modified_date', 'last_accessed_date'], excluded_llm_metadata_keys=['file_name', 'file_type', 'file_size', 'creation_date', 'last_modified_date', 'last_accessed_date'], relationships={}, text='The Galactic ISO Population 13\\n0.1 0.2 0.3 0.4 0.5\\nfH2O012345p(fH2O|β= 0.00)ISO Distribution\\nLocal\\nMilky Way Disk\\nFigure 6. Alternate prediction for the distribution of ISO water mass fractions, evaluated at the position of the Sun and\\nintegrated over the Milky Way disk with β= 0: assuming the number of ISOs produced by each star is independent of the\\nstar’s metallicity.\\ntheρsm([Fe/H]) distributions in Figure 3 now contribute a significant number of ISOs with 0 .51< fH2O: almost 20%\\nwhen averaged over the Milky Way disk. A comparison of these results to those of Lintott et al. (2022) is discussed in\\nsection 6.1.\\n5.INFERENCE FRAMEWORK\\n5.1. Bayesian Inference\\nIn this work so far we have detailed a method of predicting the distribution of ISOs around the Sun, and demonstrated\\nthat this method can be used with varying models to get different predictions. These predictions can be compared to\\nan observed sample of ISOs in order to make inferences about the models which went into producing them. In this\\nsection, we detail how to do this in a Bayesian manner.\\nThe predictions we make in this work are normalised ISO water mass fraction distributions, p(fH2O|β), parame-\\nterised by the ISO production power law slope β. This however could be generalised to a distribution in any set of\\nobservable properties O, and parameterised by any set of parameters θ. These distributions are also probability density\\nfunctions for the value of Oof a randomly selected ISO, so p(O|θ)δOis the probability of an ISO having properties\\nin the infinitesimal volume δO. Extending this to multiple ISOs, a sample of ISOs with properties O1, . . . ,ONwill\\nhave likelihood\\np(O1, . . . ,ON|θ) =Y\\nip(Oi|θ)\\nassuming ISOs arrive independently with independent compositions. This is a valid assumption if the ISOs we observe\\nare samples from a large Galactic population with contributions from stars across the Galaxy and cosmic time. This is', mimetype='text/plain', start_char_idx=None, end_char_idx=None, text_template='{metadata_str}\\n\\n{content}', metadata_template='{key}: {value}', metadata_seperator='\\n'), Document(id_='bd6cd08f-9128-4e78-aecb-26878acc25b3', embedding=None, metadata={'page_label': '14', 'file_name': 'research_paper.pdf', 'file_path': '/content/data/research_paper.pdf', 'file_type': 'application/pdf', 'file_size': 1206037, 'creation_date': '2024-09-05', 'last_modified_date': '2024-09-05'}, excluded_embed_metadata_keys=['file_name', 'file_type', 'file_size', 'creation_date', 'last_modified_date', 'last_accessed_date'], excluded_llm_metadata_keys=['file_name', 'file_type', 'file_size', 'creation_date', 'last_modified_date', 'last_accessed_date'], relationships={}, text='14 Hopkins et al.\\nbecause the probability that two randomly selected ISOs have the same parent star is approximately equal to one over\\nthe total number of stars which could contribute ISOs to the population around the Sun. The ISO sample likelihood\\ncan then be combined with priors to form a posterior distribution on the model parameters:\\np(θ|O1, . . . ,ON)∝p(θ)·Y\\nip(Oi|θ) (10)\\nThis posterior can be used to calculate estimates and confidence intervals for the values of the parameters θ. An\\nexample of this calculation is given in section 6.3.\\n5.2. Additional Properties of ISOs\\nAs with all minor planets, there are many observable quantities for ISOs that could be used in this framework in\\nthe set of observable properties O. If the distribution of ISOs in these properties can be predicted, the inference\\nmethod of §5.1 can be used to compare the predicted distribution to the observed distribution in these properties, to\\nmake inferences about the models used. If multiple properties are included in O, then the joint distribution of ISOs\\nin these properties can be predicted and used in inference. Including different ISO properties in the framework will\\nallow inferences to be made about different processes affecting the ISO population. We briefly consider several such\\nproperties here.\\nThe Milky Way stellar population is broadly divided between different chemo-dynamical populations: the thin disk\\n(high [Fe /H], low velocity dispersion), thick disk (low [Fe /H], high velocity dispersion), and the halo (very low [Fe /H],\\nradial orbits) (Recio-Blanco et al. 2014; Horta et al. 2023). Since the composition of an ISO depends on the metallicity\\nof the star it formed around, each chemo-dynamical stellar population will contribute ISOs to the Galactic population\\nwith a distinct joint distribution in both composition and velocity. Therefore, including the velocities of ISOs in this\\nframework could be used to tie ISOs to the chemo-dynamical stellar populations their parent star belongs to (Eubanks\\net al. 2021).\\nAs an alternative measurement of composition to water mass fraction, the carbon-to-oxygen ratio of a cometary ISO\\ncan be estimated from its coma. This contains information about an ISO’s formation location in the protoplanetary\\ndisk relative to the H 2O, CO 2and CO ice lines; modelling suggests it would be a useful measure for future ISOs\\n(Seligman et al. 2022).\\nFurther additions to our framework could include predictions of the size distribution and aspect ratio distribution\\nof ISOs, which would be especially interesting due to 1I/‘Oumuamua’s extreme shape. The prediction of these distri-\\nbutions would depend on the stellar population via models of planetesimal formation which could link the size and\\nshape distribution of planetesimals to the properties of their natal star. Finally, including the binarity rate of ISOs\\nwould test models of the applicability of formation mechanism of planetesimals to other protoplanetary disks, as the\\ncompact binarity of trans-Neptunian objects does for the Solar System protoplanetary disk (e.g. Nimmo et al. 2018).\\nThis could also constrain the ejection mechanisms of ISOs: loosely-bound wide planetesimal binaries would not survive\\nscattering by a giant planet, but would survive a more gentle gravitational interaction with a stellar flyby.\\n5.3. Generalisation to Other Galactic Populations\\nOur method could easily be generalised to any Galaxy-wide population with a dependence on the properties of stars,\\nsimply by replacing the “ISO recipe” of section 3.\\nFor example, the distribution of planets through the Galaxy could be predicted by substituting a model of the\\noccurrence rate of planets as a function of their host star’s metallicity. This is based on the planet-metallicity correlation\\n(Fischer & Valenti 2005; Osborn & Bayliss 2020): as noted earlier that dust is necessary for planets, stars with higher\\nmetallicity are more likely to host planets. Here, the Milky Way metallicity gradient means that planets are more\\ncommon towards the Galactic centre. This is a testable prediction with microlensing surveys such as OGLE (Udalski\\net al. 2015), which continue to find exoplanets between the Solar System and the Galactic centre (Tsapras 2018) with\\ndistances estimated from followup observations (Vandorou et al. 2023). If ISOs seed planet formation as hypothesised\\nby Pfalzner & Bannister (2019), the ISO gradient we predict in §4.1 could also produce a signature in the planetary\\npopulation.\\n6.DISCUSSION\\n6.1. Comparison to Previous Work', mimetype='text/plain', start_char_idx=None, end_char_idx=None, text_template='{metadata_str}\\n\\n{content}', metadata_template='{key}: {value}', metadata_seperator='\\n'), Document(id_='b9c7f244-4ae5-4c7b-9ea4-55f045f5adc0', embedding=None, metadata={'page_label': '15', 'file_name': 'research_paper.pdf', 'file_path': '/content/data/research_paper.pdf', 'file_type': 'application/pdf', 'file_size': 1206037, 'creation_date': '2024-09-05', 'last_modified_date': '2024-09-05'}, excluded_embed_metadata_keys=['file_name', 'file_type', 'file_size', 'creation_date', 'last_modified_date', 'last_accessed_date'], excluded_llm_metadata_keys=['file_name', 'file_type', 'file_size', 'creation_date', 'last_modified_date', 'last_accessed_date'], relationships={}, text='The Galactic ISO Population 15\\nAs described in section 3.1, Cabral et al. (2023) updates the protoplanetary disk chemical model of Bitsch & Battistini\\n(2020) that we use, and note that the trend of planetesimal water mass fraction decreasing with stellar metallicity is\\nrobust. They do however find that for the APOGEE survey, there was a smaller variation in fH2Oover the same range\\nin [Fe /H] compared to the GalaH data used in Bitsch & Battistini (2020). If the true variation in fH2Ois smaller than\\nin the model of this work, our predictions may overestimate the width of the ISO water mass fraction distribution.\\nLintott et al. (2022) made a prediction of the ISO population of a simulated Milky Way Galaxy from the EAGLE\\nhydrodynamical cosmological simulation (Schaye et al. 2015), using a model equivalent to that of this work with β= 0.\\nWhereas we predict a single-peaked fH2Odistribution, they predicted an ISO distribution with a significant number of\\nISOs with water mass fraction both below and above the range of the protoplanetary disk model, which they interpret\\nas a bimodal distribution in ISO composition.\\nThere are expected reasons for the difference between the prediction here, based on the observed Milky Way stellar\\npopulation, and the prediction by Lintott et al. (2022) based on the simulated EAGLE Galaxy. The EAGLE Galaxy\\nhas a much wider [Fe /H] distribution than the Milky Way, with many more stars outside of the [Fe /H] range of the\\nprotoplanetary disk model. As a smoothed particle hydrodynamics simulation, EAGLE is susceptible to producing\\nGalaxies with [Fe /H] distributions wider than those observed in nature, due to underestimating metal mixing between\\nparticles (Wiersma et al. 2009). Therefore the results of this work, based on the observed stellar population of the\\nMilky Way, should give a much more accurate prediction for the Milky Way’s population of ISOs.\\n6.2. Distinguishing Local and Galactic Populations of ISOs\\nThe results of §4.1 show that the well-studied metallicity gradient of the Milky Way has a corresponding ISO\\ncomposition gradient, with ISOs generally having a higher water mass fraction at larger Galactocentric radii. Although\\nwe can only observe the compositions of ISOs which pass through the inner Solar System, it is still instructive to\\nmodel how the distribution of ISOs varies across a wider portion of the Galactic disk. This is because we have made\\nassumptions about the Galactic dynamics of ISOs, under which the distribution of ISOs at a point in the Galaxy\\ncorresponds to the distribution of stars at that same point. If these assumptions break down, then the particular way\\nin which they break down will affect the population of ISOs detectable in the Solar System in a related, calculable\\nway.\\nFor example, radial migration, caused by the non-axisymmetric potential of spiral arms, flattens the the Milky Way\\nmetallicity gradient by blurring the metallicity distribution in the radial direction (Vickers et al. 2021). This widens\\nthe stellar metallicity distribution around the Sun as stars migrate in from the metal-poor outer disk and out from\\nmetal-rich inner disk. However, ISOs may undergo less radial migration than stars, due to the random motion given\\nto them by their ejection from their home planetary system (Daniel & Wyse 2015). The stars currently in the Solar\\nneighbourhood may thus have a wider range of Galactocentric radii of origin than the ISOs. This would make the\\ndistribution of observable ISO compositions narrower than would be predicted from the distribution of stars.\\nAdditionally, the low velocity of 1I/‘Oumuamua relative to the local standard of rest implies that it — and therefore\\na large fraction of observable ISOs — could come from local star-forming regions (e.g. Hallatt & Wiegert 2020). This is\\nalso testable: their compositions will match those predicted from the metallicities of the nearest star forming regions.\\nIn addition, if the velocity distribution of ISOs is included in future work as described in 5.2, it may be possible to\\ntrace individual ISOs back to the star forming regions they came from by matching them up with both composition\\nand velocity. This would be hugely advantageous for studying planetesimal formation, as it would allow us to pair the\\nproperties of detected ISOs directly with observations of their parent planetary systems.\\n6.3. An Estimation of the ISO Production Metallicity Dependence\\nThe two different predictions made in §4 demonstrate that the Galactic population of ISOs is sensitive to small\\nchanges to the processes that affect their formation and evolution. This means that if models of these processes can\\nbe combined to make accurate predictions of the ISO population, then the framework described in §5 can be used to\\nmake inferences about those processes.\\nIn particular, the predictions of sections 4.1 and 4.2 show that the ISO distribution around the Sun is sensitive to\\nthe metallicity dependence of the number of ISOs produced by each star, β. As outlined in section 5.1, these two\\npredictions can then be compared to a sample of ISOs. In our example physical property, this is done by calculating\\nthe likelihood of each of these predictions producing the observed distribution of water mass fractions, such as for the\\nISOs expected to be found by the Legacy Survey of Space and Time (LSST) of the Vera C. Rubin Observatory. For', mimetype='text/plain', start_char_idx=None, end_char_idx=None, text_template='{metadata_str}\\n\\n{content}', metadata_template='{key}: {value}', metadata_seperator='\\n'), Document(id_='ddac1ed1-9210-4ff9-8724-2e299723419c', embedding=None, metadata={'page_label': '16', 'file_name': 'research_paper.pdf', 'file_path': '/content/data/research_paper.pdf', 'file_type': 'application/pdf', 'file_size': 1206037, 'creation_date': '2024-09-05', 'last_modified_date': '2024-09-05'}, excluded_embed_metadata_keys=['file_name', 'file_type', 'file_size', 'creation_date', 'last_modified_date', 'last_accessed_date'], excluded_llm_metadata_keys=['file_name', 'file_type', 'file_size', 'creation_date', 'last_modified_date', 'last_accessed_date'], relationships={}, text='16 Hopkins et al.\\na more general result, this likelihood can be combined with a prior on βand Bayes’ theorem to calculate a posterior\\ndistribution for β.\\nThough the work of this paper has been carried out in expectation of a larger sample of ISOs being known in the\\nfuture, we do already have a preliminary estimate of the ISO water mass fraction distribution. Due to the unknown\\ncomposition of 1I/‘Oumuamua, we can only estimate the water mass fraction of 2I/Borisov. We adopt a value of\\nfH2O= 0.3, after that of Seligman et al. (2022) inferred from the production rates of 2I’s coma. However, this value is\\nmore useful for demonstrative purposes than as a finely constrained estimate; estimating a comet’s bulk composition\\nfrom the composition of its coma is challenging. For instance, Seligman et al. (2022) note that the compositions of\\ninterstellar comets calculated from production rates are affected by preferential desorbtion of CO and CO 2relative to\\nH2O.\\nWith this observed distribution of fH2Owe can then use the Bayesian framework of §5.1 to calculate a posterior\\ndistribution for β. We use our model for the distribution of ISOs around the Sun, and taking a uniform prior on β\\nmeans that the posterior is simply proportional to the likelihood, equal to the value of the fH2Odistribution. For\\nfH2O= 0.3 this posterior is maximised by a value of β= 1.33. The distribution of ISOs at this value is listed and\\nplotted in Table 3 and Figure 7. The symmetric 90% confidence limit for this estimation of βisβ∈(−1.3,7.2). This is\\nof course a wide interval containing physically implausible values. The physically implausible values could be removed\\nfrom the confidence interval by using a physically motivated prior on β— but with one known value of fH2Othis\\nwould make the posterior dominated by the prior. Using the sample of ISOs that the LSST is expected to find will\\nmuch better constrain the posterior for βand other parameters used in models with this framework.\\n0.1 0.2 0.3 0.4 0.5\\nfH2O0.00.51.01.52.02.53.0p(fH2O|β= 1.33)ISO Distribution\\nLocal\\nMilky Way Disk\\nFigure 7. Distribution of ISO water mass fractions, evaluated at the position of the Sun and integrated over the Milky Way\\ndisk, with maximum a posteriori estimate of β= 1.33. At fH2O= 0.3 a vertical line marks the measured water mass fraction\\nof 2I/Borisov.', mimetype='text/plain', start_char_idx=None, end_char_idx=None, text_template='{metadata_str}\\n\\n{content}', metadata_template='{key}: {value}', metadata_seperator='\\n'), Document(id_='278fd494-7b7a-42d3-99e5-8ea696b8ca5d', embedding=None, metadata={'page_label': '17', 'file_name': 'research_paper.pdf', 'file_path': '/content/data/research_paper.pdf', 'file_type': 'application/pdf', 'file_size': 1206037, 'creation_date': '2024-09-05', 'last_modified_date': '2024-09-05'}, excluded_embed_metadata_keys=['file_name', 'file_type', 'file_size', 'creation_date', 'last_modified_date', 'last_accessed_date'], excluded_llm_metadata_keys=['file_name', 'file_type', 'file_size', 'creation_date', 'last_modified_date', 'last_accessed_date'], relationships={}, text='The Galactic ISO Population 17\\nISOfH2Orange Fraction of ISOs around Sun Fraction of ISOs in Milky Way Disk\\nfH2O<0.07 0.022 0.031\\n0.07≤fH2O≤0.51 0.960 0.930\\n0.51< fH2O 0.018 0.040\\nTable 3. Predicted fraction of ISOs in each fH2Orange, evaluated at the position of the Sun and integrated over the Milky\\nWay dist, with maximum a posteriori estimate of β= 1.33.\\n6.4. Selection Effects\\nIt should be noted that the predictions in this work ignore some specific effects which will influence the population of\\nISOs we expect to observe from the Earth. The predictions in §4 are the distribution of ISOs in a smooth Galaxy-wide\\ndistribution, evaluated at the location of the Solar System. Gravitational focussing by the Sun will increase the density\\nof ISOs in the inner solar system in a velocity-dependent manner (e.g. Engelhardt et al. 2017; Forbes & Loeb 2019;\\nDehnen & Hands 2022), and therefore also in a composition-dependent manner. This is due to the fact that we expect\\ncompositionally and dynamically distinct populations of ISOs to come from the chemo-dynamically distinct stellar\\npopulations in the Milky Way thin and thick disks (c.f. Eubanks et al. 2021). This could handily be modelled when\\nincorporating ISO velocities into the predictions of this framework.\\nAdditionally, the Pan-STARRS near-Earth object survey (Chambers et al. 2016) that detected 1I/‘Oumuamua, the\\nobservations of amateur astronomers such as Gennadiy Borisov who discovered 2I/Borisov, and the LSST which will\\ndiscover tens more ISOs: all have highly non-trivial selection functions. Since in order to be discovered an ISO needs\\nto be detected in multiple observations which can be linked as the same object (e.g. Meech et al. 2017; Schwamb\\net al. 2023), these selection functions are dependent on ISO size, approach velocity, perihelion, and composition.\\nComposition has a direct link to the detectability of ISOs, as 2I-sized and cometary ISOs will be more likely to be\\ndetected, as they will form a coma as they approach the Sun. These selection effects will need to be accurately\\naccounted for, in order for the Bayesian framework to produce accurate inferences about the processes affecting the\\nGalactic ISO population.\\n7.CONCLUSION\\nIn advance of the Vera C. Rubin Observatory Legacy Survey of Space and Time (LSST), we lay out a framework to\\npredict the Galactic distribution of ISOs, using the stellar population of the Milky Way. Using the method of Bovy\\net al. (2016a), we fit simple density models to a sample of red giants in APOGEE binned in [Fe /H] and [ α/Fe], and use\\nthese to evaluate the “sine morte” metallicity distribution of stars throughout the Galaxy’s integrated history, across\\nthe Galactic disk. Under the assumption that the spatial distribution of a population of ISOs will be the same as the\\nsine morte distribution of stars which formed them, we use the protoplanetary disk model of Bitsch & Battistini (2020)\\nto map the metallicity distribution of stars to the distribution of ISO water mass fractions. Localising our model to\\nthe Solar neighbourhood, we predict that 95% of ISOs around the Sun have water mass fraction fH2Obetween 0.07\\nand 0.51, with a peak around 0.35.\\nBy considering the distribution of ISOs over the Galactic disk, we show that the well-studied Milky Way metallicity\\ngradient has an equivalent gradient in ISO composition, with the median ISO water mass fraction increasing with\\ndistance from the Galactic Centre as the median stellar metallicity decreases. This causes the ISO water mass fraction\\ndistribution averaged over the Milky Way disk to be wider that the distribution around the Sun. Since we also predict\\nhigher-metallicity stars produce more ISOs than lower-metallicity stars, the Milky Way metallicity gradient implies\\nthat the radial ISO density profile is steeper than the exponential radial stellar density profile, making ISOs much\\nmore common in the inner Galactic disk than in the outer disk.\\nWe also set out a Bayesian inference framework, which can compare predictions of the ISO distribution to the\\nsample observed by the LSST, in order to make inferences about the many astrophysical processes which influence the\\nISO population. To demonstrate its use, we use the composition measurement of 2I/Borisov to calculate a maximum\\na posteriori estimate for the power law slope of the ISO production metallicity dependence, β, to be 1.33, with a\\nsymmetric 90% confidence interval of ( −1.3,7.2).\\nEncoded in the population of ISOs we observe is a wealth of information about processes through Galactic history,\\nfrom the evolution of the Milky Way to planet formation. The framework set out in this work is a novel approach that\\nwill allow us to appreciate how these treasures can further our understanding on both planetary and Galactic scales.', mimetype='text/plain', start_char_idx=None, end_char_idx=None, text_template='{metadata_str}\\n\\n{content}', metadata_template='{key}: {value}', metadata_seperator='\\n'), Document(id_='26c17b5e-8723-4f4c-8f73-3c482ad2ae4c', embedding=None, metadata={'page_label': '18', 'file_name': 'research_paper.pdf', 'file_path': '/content/data/research_paper.pdf', 'file_type': 'application/pdf', 'file_size': 1206037, 'creation_date': '2024-09-05', 'last_modified_date': '2024-09-05'}, excluded_embed_metadata_keys=['file_name', 'file_type', 'file_size', 'creation_date', 'last_modified_date', 'last_accessed_date'], excluded_llm_metadata_keys=['file_name', 'file_type', 'file_size', 'creation_date', 'last_modified_date', 'last_accessed_date'], relationships={}, text='18 Hopkins et al.\\nMJH acknowledges support from the Science and Technology Facilities Council through grant ST/W507726/1. MJH\\nalso thanks the LSSTC Data Science Fellowship Program, which is funded by LSSTC, NSF Cybertraining Grant\\n#1829740, the Brinson Foundation, and the Moore Foundation; his participation in the program has benefitted from\\nthis work. MTB appreciates support by the Rutherford Discovery Fellowships from New Zealand Government funding,\\nadministered by the Royal Society Te Ap¯ arangi.\\nFunding for the Sloan Digital Sky Survey IV has been provided by the Alfred P. Sloan Foundation, the U.S. Depart-\\nment of Energy Office of Science, and the Participating Institutions. SDSS-IV acknowledges support and resources\\nfrom the Center for High Performance Computing at the University of Utah. The SDSS website is www.sdss4.org.\\nSDSS-IV is managed by the Astrophysical Research Consortium for the Participating Institutions of the SDSS Collab-\\noration including the Brazilian Participation Group, the Carnegie Institution for Science, Carnegie Mellon University,\\nCenter for Astrophysics — Harvard & Smithsonian, the Chilean Participation Group, the French Participation Group,\\nInstituto de Astrof´ ısica de Canarias, The Johns Hopkins University, Kavli Institute for the Physics and Mathematics\\nof the Universe (IPMU) / University of Tokyo, the Korean Participation Group, Lawrence Berkeley National Lab-\\noratory, Leibniz Institut f¨ ur Astrophysik Potsdam (AIP), Max-Planck-Institut f¨ ur Astronomie (MPIA Heidelberg),\\nMax-Planck-Institut f¨ ur Astrophysik (MPA Garching), Max-Planck-Institut f¨ ur Extraterrestrische Physik (MPE), Na-\\ntional Astronomical Observatories of China, New Mexico State University, New York University, University of Notre\\nDame, Observat´ ario Nacional / MCTI, The Ohio State University, Pennsylvania State University, Shanghai Astro-\\nnomical Observatory, United Kingdom Participation Group, Universidad Nacional Aut´ onoma de M´ exico, University\\nof Arizona, University of Colorado Boulder, University of Oxford, University of Portsmouth, University of Utah, Uni-\\nversity of Virginia, University of Washington, University of Wisconsin, Vanderbilt University, and Yale University.\\nSoftware: NumPy (Harris et al. 2020); SciPy (Virtanen et al. 2020); Astropy (Astropy Collaboration et al. 2013,\\n2018, 2022); Matplotlib (Hunter 2007)\\nREFERENCES\\nAbdurro’uf, Accetta, K., Aerts, C., et al. 2022, ApJS, 259,\\n35, doi: 10.3847/1538-4365/ac4414\\nAbolfathi, B., Aguado, D. S., Aguilar, G., et al. 2018,\\nApJS, 235, 42, doi: 10.3847/1538-4365/aa9e8a\\nAnguiano, B., Majewski, S. R., Hayes, C. R., et al. 2020,\\nAJ, 160, 43, doi: 10.3847/1538-3881/ab9813\\nAstropy Collaboration, Robitaille, T. P., Tollerud, E. J.,\\net al. 2013, A&A, 558, A33,\\ndoi: 10.1051/0004-6361/201322068\\nAstropy Collaboration, Price-Whelan, A. M., Sip˝ ocz, B. M.,\\net al. 2018, AJ, 156, 123, doi: 10.3847/1538-3881/aabc4f\\nAstropy Collaboration, Price-Whelan, A. M., Lim, P. L.,\\net al. 2022, ApJ, 935, 167, doi: 10.3847/1538-4357/ac7c74\\nBannister, M. T., Schwamb, M. E., Fraser, W. C., et al.\\n2017, ApJL, 851, L38, doi: 10.3847/2041-8213/aaa07c\\nBennett, M., & Bovy, J. 2019, MNRAS, 482, 1417,\\ndoi: 10.1093/mnras/sty2813\\nBitsch, B., & Battistini, C. 2020, A&A, 633, A10,\\ndoi: 10.1051/0004-6361/201936463\\nBodewits, D., Noonan, J. W., Feldman, P. D., et al. 2020,\\nNature Astronomy, 4, 867,\\ndoi: 10.1038/s41550-020-1095-2\\nBorucki, W. J., Koch, D., Basri, G., et al. 2010, Science,\\n327, 977, doi: 10.1126/science.1185402Bovy, J., Rix, H.-W., Green, G. M., Schlafly, E. F., &\\nFinkbeiner, D. P. 2016a, ApJ, 818, 130,\\ndoi: 10.3847/0004-637X/818/2/130\\nBovy, J., Rix, H.-W., Schlafly, E. F., et al. 2016b, ApJ,\\n823, 30, doi: 10.3847/0004-637X/823/1/30\\nBrasser, R., Duncan, M. J., & Levison, H. F. 2006, Icarus,\\n184, 59, doi: 10.1016/j.icarus.2006.04.010\\nBressan, A., Marigo, P., Girardi, L., et al. 2012, MNRAS,\\n427, 127, doi: 10.1111/j.1365-2966.2012.21948.x\\nBuder, S., Asplund, M., Duong, L., et al. 2018, MNRAS,\\n478, 4513, doi: 10.1093/mnras/sty1281\\nBuder, S., Sharma, S., Kos, J., et al. 2021, MNRAS, 506,\\n150, doi: 10.1093/mnras/stab1242\\nCabral, N., Guilbert-Lepoutre, A., Bitsch, B., Lagarde, N.,\\n& Diakite, S. 2023, A&A, 673, A117,\\ndoi: 10.1051/0004-6361/202243882\\nCaffau, E., Ludwig, H. G., Steffen, M., Freytag, B., &\\nBonifacio, P. 2011, SoPh, 268, 255,\\ndoi: 10.1007/s11207-010-9541-4\\nChabrier, G. 2003, PASP, 115, 763, doi: 10.1086/376392\\nChambers, K. C., Magnier, E. A., Metcalfe, N., et al. 2016,\\narXiv e-prints, arXiv:1612.05560,\\ndoi: 10.48550/arXiv.1612.05560', mimetype='text/plain', start_char_idx=None, end_char_idx=None, text_template='{metadata_str}\\n\\n{content}', metadata_template='{key}: {value}', metadata_seperator='\\n'), Document(id_='2762770d-422b-4345-823f-91d51002994d', embedding=None, metadata={'page_label': '19', 'file_name': 'research_paper.pdf', 'file_path': '/content/data/research_paper.pdf', 'file_type': 'application/pdf', 'file_size': 1206037, 'creation_date': '2024-09-05', 'last_modified_date': '2024-09-05'}, excluded_embed_metadata_keys=['file_name', 'file_type', 'file_size', 'creation_date', 'last_modified_date', 'last_accessed_date'], excluded_llm_metadata_keys=['file_name', 'file_type', 'file_size', 'creation_date', 'last_modified_date', 'last_accessed_date'], relationships={}, text='The Galactic ISO Population 19\\nCheng, J. Y., Rockosi, C. M., Morrison, H. L., et al. 2012,\\nApJ, 746, 149, doi: 10.1088/0004-637X/746/2/149\\nCordiner, M. A., Milam, S. N., Biver, N., et al. 2020, Nature\\nAstronomy, 4, 861, doi: 10.1038/s41550-020-1087-2\\nDaniel, K. J., & Wyse, R. F. G. 2015, MNRAS, 447, 3576,\\ndoi: 10.1093/mnras/stu2683\\nDehnen, W., & Hands, T. O. 2022, MNRAS, 512, 4062,\\ndoi: 10.1093/mnras/stab3670\\nDo, A., Tucker, M. A., & Tonry, J. 2018, ApJL, 855, L10,\\ndoi: 10.3847/2041-8213/aaae67\\nDrimmel, R., Cabrera-Lavers, A., & L´ opez-Corredoira, M.\\n2003, A&A, 409, 205, doi: 10.1051/0004-6361:20031070\\nEngelhardt, T., Jedicke, R., Vereˇ s, P., et al. 2017, AJ, 153,\\n133, doi: 10.3847/1538-3881/aa5c8a\\nEubanks, T. M., Hein, A. M., Lingam, M., et al. 2021,\\narXiv e-prints, arXiv:2103.03289,\\ndoi: 10.48550/arXiv.2103.03289\\nFarnocchia, D., Seligman, D. Z., Granvik, M., et al. 2023,\\nPSJ, 4, 29, doi: 10.3847/PSJ/acb25b\\nFernandez, J. A., & Ip, W. H. 1984, Icarus, 58, 109,\\ndoi: 10.1016/0019-1035(84)90101-5\\nFilacchione, G., Ciarniello, M., Fornasier, S., & Raponi, A.\\n2022, arXiv e-prints, arXiv:2210.02741,\\ndoi: 10.48550/arXiv.2210.02741\\nFischer, D. A., & Valenti, J. 2005, ApJ, 622, 1102,\\ndoi: 10.1086/428383\\nFitzsimmons, A., Meech, K., Matr` a, L., & Pfalzner, S.\\n2023, arXiv e-prints, arXiv:2303.17980,\\ndoi: 10.48550/arXiv.2303.17980\\nForbes, J. C., & Loeb, A. 2019, ApJL, 875, L23,\\ndoi: 10.3847/2041-8213/ab158f\\nFrankel, N., Sanders, J., Ting, Y.-S., & Rix, H.-W. 2020,\\nApJ, 896, 15, doi: 10.3847/1538-4357/ab910c\\nFulton, B. J., Rosenthal, L. J., Hirsch, L. A., et al. 2021,\\nApJS, 255, 14, doi: 10.3847/1538-4365/abfcc1\\nGaia Collaboration, Prusti, T., de Bruijne, J. H. J., et al.\\n2016, A&A, 595, A1, doi: 10.1051/0004-6361/201629272\\nGaia Collaboration, Brown, A. G. A., Vallenari, A., et al.\\n2018, A&A, 616, A1, doi: 10.1051/0004-6361/201833051\\nGarc´ ıa P´ erez, A. E., Allende Prieto, C., Holtzman, J. A.,\\net al. 2016, AJ, 151, 144,\\ndoi: 10.3847/0004-6256/151/6/144\\nGRAVITY Collaboration, Abuter, R., Amorim, A., et al.\\n2018, A&A, 615, L15, doi: 10.1051/0004-6361/201833718\\nGreen, G. M., Schlafly, E., Zucker, C., Speagle, J. S., &\\nFinkbeiner, D. 2019, ApJ, 887, 93,\\ndoi: 10.3847/1538-4357/ab5362\\nGuilbert-Lepoutre, A., Besse, S., Mousis, O., et al. 2015,\\nSSRv, 197, 271, doi: 10.1007/s11214-015-0148-9Hallatt, T., & Wiegert, P. 2020, AJ, 159, 147,\\ndoi: 10.3847/1538-3881/ab7336\\nHarris, C. R., Millman, K. J., van der Walt, S. J., et al.\\n2020, Nature, 585, 357, doi: 10.1038/s41586-020-2649-2\\nHoltzman, J. A., Hasselquist, S., Shetrone, M., et al. 2018,\\nAJ, 156, 125, doi: 10.3847/1538-3881/aad4f9\\nHorta, D., Schiavon, R. P., Mackereth, J. T., et al. 2023,\\nMNRAS, 520, 5671, doi: 10.1093/mnras/stac3179\\nHunter, J. D. 2007, Computing in Science and Engineering,\\n9, 90, doi: 10.1109/MCSE.2007.55\\nIvezi´ c, ˇZ., Kahn, S. M., Tyson, J. A., et al. 2019, ApJ, 873,\\n111, doi: 10.3847/1538-4357/ab042c\\nJackson, A. P., & Desch, S. J. 2021, Journal of Geophysical\\nResearch (Planets), 126, e06706,\\ndoi: 10.1029/2020JE006706\\nJewitt, D. 2003, Earth Moon and Planets, 92, 465,\\ndoi: 10.1023/B:MOON.0000031961.88202.60\\nJewitt, D., Luu, J., Rajagopal, J., et al. 2017, ApJL, 850,\\nL36, doi: 10.3847/2041-8213/aa9b2f\\nJewitt, D., & Seligman, D. Z. 2022, arXiv e-prints,\\narXiv:2209.08182, doi: 10.48550/arXiv.2209.08182\\nJohnson, J. L., & Li, H. 2012, ApJ, 751, 81,\\ndoi: 10.1088/0004-637X/751/2/81\\nJ¨ onsson, H., Holtzman, J. A., Allende Prieto, C., et al.\\n2020, AJ, 160, 120, doi: 10.3847/1538-3881/aba592\\nJuri´ c, M., Ivezi´ c, ˇZ., Brooks, A., et al. 2008, ApJ, 673, 864,\\ndoi: 10.1086/523619\\nKaib, N. A., & Volk, K. 2022, arXiv e-prints,\\narXiv:2206.00010, doi: 10.48550/arXiv.2206.00010\\nKroupa, P. 2001, MNRAS, 322, 231,\\ndoi: 10.1046/j.1365-8711.2001.04022.x\\nLeung, H. W., & Bovy, J. 2019, MNRAS, 489, 2079,\\ndoi: 10.1093/mnras/stz2245\\nLevine, W. G., Cabot, S. H. C., Seligman, D., & Laughlin,\\nG. 2021, ApJ, 922, 39, doi: 10.3847/1538-4357/ac1fe6\\nLian, J., Zasowski, G., Mackereth, T., et al. 2022, MNRAS,\\n513, 4130, doi: 10.1093/mnras/stac1151\\nLintott, C., Bannister, M. T., & Mackereth, J. T. 2022,\\nApJL, 924, L1, doi: 10.3847/2041-8213/ac41d5\\nLu, C. X., Schlaufman, K. C., & Cheng, S. 2020, AJ, 160,\\n253, doi: 10.3847/1538-3881/abb773\\nMackereth, J. T., Bovy, J., Schiavon, R. P., et al. 2017,\\nMNRAS, 471, 3057, doi: 10.1093/mnras/stx1774\\nMackereth, J. T., Bovy, J., Leung, H. W., et al. 2019,\\nMNRAS, 489, 176, doi: 10.1093/mnras/stz1521\\nMajewski, S. R., Schiavon, R. P., Frinchaboy, P. M., et al.\\n2017, AJ, 154, 94, doi: 10.3847/1538-3881/aa784d\\nMarigo, P., Girardi, L., Bressan, A., et al. 2017, ApJ, 835,\\n77, doi: 10.3847/1538-4357/835/1/77', mimetype='text/plain', start_char_idx=None, end_char_idx=None, text_template='{metadata_str}\\n\\n{content}', metadata_template='{key}: {value}', metadata_seperator='\\n'), Document(id_='c0799f0b-0bc8-4710-aaf9-eb4e1c4eb449', embedding=None, metadata={'page_label': '20', 'file_name': 'research_paper.pdf', 'file_path': '/content/data/research_paper.pdf', 'file_type': 'application/pdf', 'file_size': 1206037, 'creation_date': '2024-09-05', 'last_modified_date': '2024-09-05'}, excluded_embed_metadata_keys=['file_name', 'file_type', 'file_size', 'creation_date', 'last_modified_date', 'last_accessed_date'], excluded_llm_metadata_keys=['file_name', 'file_type', 'file_size', 'creation_date', 'last_modified_date', 'last_accessed_date'], relationships={}, text='20 Hopkins et al.\\nMarshall, D. J., Robin, A. C., Reyl´ e, C., Schultheis, M., &\\nPicaud, S. 2006, A&A, 453, 635,\\ndoi: 10.1051/0004-6361:20053842\\nMashchenko, S. 2019, MNRAS, 489, 3003,\\ndoi: 10.1093/mnras/stz2380\\nMashonkina, L. I., Neretina, M. D., Sitnova, T. M., &\\nPakhomov, Y. V. 2019, Astronomy Reports, 63, 726,\\ndoi: 10.1134/S1063772919090063\\nMcGlynn, T. A., & Chapman, R. D. 1989, ApJL, 346,\\nL105, doi: 10.1086/185590\\nMeech, K. J., Yang, B., Kleyna, J., et al. 2016, Science\\nAdvances, 2, e1600038, doi: 10.1126/sciadv.1600038\\nMeech, K. J., Weryk, R., Micheli, M., et al. 2017, Nature,\\n552, 378, doi: 10.1038/nature25020\\nMicheli, M., Farnocchia, D., Meech, K. J., et al. 2018,\\nNature, 559, 223, doi: 10.1038/s41586-018-0254-4\\nMoro-Mart´ ın, A. 2018, ApJ, 866, 131,\\ndoi: 10.3847/1538-4357/aadf34\\n—. 2019, ApJL, 872, L32, doi: 10.3847/2041-8213/ab05df\\n—. 2022, arXiv e-prints, arXiv:2205.04277,\\ndoi: 10.48550/arXiv.2205.04277\\nNimmo, F., Kretke, K., Ida, S., Matsumura, S., & Kleine,\\nT. 2018, SSRv, 214, 101, doi: 10.1007/s11214-018-0533-2\\n¨Oberg, K. I., & Bergin, E. A. 2021, PhR, 893, 1,\\ndoi: 10.1016/j.physrep.2020.09.004\\nOsborn, A., & Bayliss, D. 2020, MNRAS, 491, 4481,\\ndoi: 10.1093/mnras/stz3207\\n’Oumuamua ISSI Team, Bannister, M. T., Bhandare, A.,\\net al. 2019, Nature Astronomy, 3, 594,\\ndoi: 10.1038/s41550-019-0816-x\\nPfalzner, S., Aizpuru Vargas, L. L., Bhandare, A., & Veras,\\nD. 2021, A&A, 651, A38,\\ndoi: 10.1051/0004-6361/202140587\\nPfalzner, S., & Bannister, M. T. 2019, ApJL, 874, L34,\\ndoi: 10.3847/2041-8213/ab0fa0\\nPfalzner, S., Davies, M. B., Kokaia, G., & Bannister, M. T.\\n2020, ApJ, 903, 114, doi: 10.3847/1538-4357/abb9ae\\nRaymond, S. N., Armitage, P. J., & Veras, D. 2018a, ApJL,\\n856, L7, doi: 10.3847/2041-8213/aab4f6\\nRaymond, S. N., Armitage, P. J., Veras, D., Quintana,\\nE. V., & Barclay, T. 2018b, MNRAS, 476, 3031,\\ndoi: 10.1093/mnras/sty468\\nRecio-Blanco, A., de Laverny, P., Kordopatis, G., et al.\\n2014, A&A, 567, A5, doi: 10.1051/0004-6361/201322944Sabotta, S., Schlecker, M., Chaturvedi, P., et al. 2021,\\nA&A, 653, A114, doi: 10.1051/0004-6361/202140968\\nSchaye, J., Crain, R. A., Bower, R. G., et al. 2015,\\nMNRAS, 446, 521, doi: 10.1093/mnras/stu2058\\nSchwamb, M. E., Jones, R. L., Yoachim, P., et al. 2023,\\nApJS, 266, 22, doi: 10.3847/1538-4365/acc173\\nSeligman, D., & Laughlin, G. 2020, ApJL, 896, L8,\\ndoi: 10.3847/2041-8213/ab963f\\nSeligman, D. Z., Rogers, L. A., Cabot, S. H. C., et al. 2022,\\nPSJ, 3, 150, doi: 10.3847/PSJ/ac75b5\\nSeligman, D. Z., Farnocchia, D., Micheli, M., et al. 2023,\\nPSJ, 4, 35, doi: 10.3847/PSJ/acb697\\nSellwood, J. A., & Binney, J. J. 2002, MNRAS, 336, 785,\\ndoi: 10.1046/j.1365-8711.2002.05806.x\\nStern, S. A. 1990, PASP, 102, 793, doi: 10.1086/132704\\nStern, S. A., & Shull, J. M. 1988, Nature, 332, 407,\\ndoi: 10.1038/332407a0\\nTinsley, B. M., & Cameron, A. G. W. 1974, Ap&SS, 31, 31,\\ndoi: 10.1007/BF00642598\\nTrilling, D. E., Mommert, M., Hora, J. L., et al. 2018, AJ,\\n156, 261, doi: 10.3847/1538-3881/aae88f\\nTsapras, Y. 2018, Geosciences, 8, 365,\\ndoi: 10.3390/geosciences8100365\\nUdalski, A., Szyma´ nski, M. K., & Szyma´ nski, G. 2015,\\nAcA, 65, 1, doi: 10.48550/arXiv.1504.05966\\nVandorou, A., Dang, L., Bennett, D. P., et al. 2023, arXiv\\ne-prints, arXiv:2302.01168,\\ndoi: 10.48550/arXiv.2302.01168\\nVickers, J. J., Shen, J., & Li, Z.-Y. 2021, ApJ, 922, 189,\\ndoi: 10.3847/1538-4357/ac27a9\\nVirtanen, P., Gommers, R., Oliphant, T. E., et al. 2020,\\nNature Methods, 17, 261, doi: 10.1038/s41592-019-0686-2\\nWiersma, R. P. C., Schaye, J., Theuns, T., Dalla Vecchia,\\nC., & Tornatore, L. 2009, MNRAS, 399, 574,\\ndoi: 10.1111/j.1365-2966.2009.15331.x\\nYe, Q.-Z., Zhang, Q., Kelley, M. S. P., & Brown, P. G.\\n2017, ApJL, 851, L5, doi: 10.3847/2041-8213/aa9a34\\nZasowski, G., Johnson, J. A., Frinchaboy, P. M., et al.\\n2013, AJ, 146, 81, doi: 10.1088/0004-6256/146/4/81\\nZasowski, G., Cohen, R. E., Chojnowski, S. D., et al. 2017,\\nAJ, 154, 198, doi: 10.3847/1538-3881/aa8df9', mimetype='text/plain', start_char_idx=None, end_char_idx=None, text_template='{metadata_str}\\n\\n{content}', metadata_template='{key}: {value}', metadata_seperator='\\n')]\n"
          ]
        }
      ],
      "source": [
        "print(documents)"
      ]
    },
    {
      "cell_type": "markdown",
      "id": "70505eae-4138-4ba8-80e9-fc13c37d0b32",
      "metadata": {
        "id": "70505eae-4138-4ba8-80e9-fc13c37d0b32"
      },
      "source": [
        "### Define KDB.AI Session\n",
        "\n",
        "KDB.AI comes in two offerings:\n",
        "\n",
        "1. [KDB.AI Cloud](https://trykdb.kx.com/kdbai/signup/) - For experimenting with smaller generative AI projects with a vector database in our cloud.\n",
        "2. [KDB.AI Server](https://trykdb.kx.com/kdbaiserver/signup/) - For evaluating large scale generative AI applications on-premises or on your own cloud provider.\n",
        "\n",
        "Depending on which you use there will be different setup steps and connection details required.\n",
        "\n",
        "##### Option 1. KDB.AI Cloud\n",
        "\n",
        "To use KDB.AI Cloud, you will need two session details - a URL endpoint and an API key.\n",
        "To get these you can sign up for free [here](https://trykdb.kx.com/kdbai/signup).\n",
        "\n",
        "You can connect to a KDB.AI Cloud session using `kdbai.Session` and passing the session URL endpoint and API key details from your KDB.AI Cloud portal.\n",
        "\n",
        "If the environment variables `KDBAI_ENDPOINTS` and `KDBAI_API_KEY` exist on your system containing your KDB.AI Cloud portal details, these variables will automatically be used to connect.\n",
        "If these do not exist, it will prompt you to enter your KDB.AI Cloud portal session URL endpoint and API key details."
      ]
    },
    {
      "cell_type": "code",
      "execution_count": null,
      "id": "401f8162",
      "metadata": {
        "colab": {
          "base_uri": "https://localhost:8080/"
        },
        "id": "401f8162",
        "outputId": "e5991baa-e7b9-4933-d71f-4fa62d8c5222"
      },
      "outputs": [],
      "source": [
        "KDBAI_ENDPOINT = (\n",
        "    os.environ[\"KDBAI_ENDPOINT\"]\n",
        "    if \"KDBAI_ENDPOINT\" in os.environ\n",
        "    else input(\"KDB.AI endpoint: \")\n",
        ")\n",
        "KDBAI_API_KEY = (\n",
        "    os.environ[\"KDBAI_API_KEY\"]\n",
        "    if \"KDBAI_API_KEY\" in os.environ\n",
        "    else getpass(\"KDB.AI API key: \")\n",
        ")"
      ]
    },
    {
      "cell_type": "code",
      "execution_count": 11,
      "id": "3b3a4932",
      "metadata": {
        "id": "3b3a4932"
      },
      "outputs": [],
      "source": [
        "session = kdbai.Session(api_key=KDBAI_API_KEY, endpoint=KDBAI_ENDPOINT)"
      ]
    },
    {
      "cell_type": "markdown",
      "id": "b53a7384",
      "metadata": {
        "id": "b53a7384"
      },
      "source": [
        "##### Option 2. KDB.AI Server\n",
        "\n",
        "To use KDB.AI Server, you will need download and run your own container.\n",
        "To do this, you will first need to sign up for free [here](https://trykdb.kx.com/kdbaiserver/signup/).\n",
        "\n",
        "You will receive an email with the required license file and bearer token needed to download your instance.\n",
        "Follow instructions in the signup email to get your session up and running.\n",
        "\n",
        "Once the [setup steps](https://code.kx.com/kdbai/gettingStarted/kdb-ai-server-setup.html) are complete you can then connect to your KDB.AI Server session using `kdbai.Session` and passing your local endpoint."
      ]
    },
    {
      "cell_type": "code",
      "execution_count": null,
      "id": "f48fc536",
      "metadata": {
        "id": "f48fc536"
      },
      "outputs": [],
      "source": [
        "# session = kdbai.Session(endpoint=\"http://localhost:8082\")"
      ]
    },
    {
      "cell_type": "markdown",
      "id": "48c6525c",
      "metadata": {
        "id": "48c6525c"
      },
      "source": [
        "### Define Vector DB Table Schema\n",
        "\n",
        "The next step is to define a schema for our KDB.AI table where we will store our embeddings. Our table will have two columns.\n",
        "\n",
        "At this point you will select the index and metric you want to use for searching.\n",
        "\n",
        "In this case, we will use the qFlat index, Euclidean Distance (L2) for the search metric, and we specify the number of dimensions of our embeddings (384)."
      ]
    },
    {
      "cell_type": "code",
      "execution_count": 12,
      "id": "eArvp20fSDc6",
      "metadata": {
        "id": "eArvp20fSDc6"
      },
      "outputs": [],
      "source": [
        "pdf_schema = dict(\n",
        "    columns=[\n",
        "        dict(name=\"document_id\", pytype=\"bytes\"),\n",
        "        dict(name=\"text\", pytype=\"bytes\"),\n",
        "        dict(\n",
        "            name=\"embedding\",\n",
        "            vectorIndex=dict(type=\"qFlat\", metric=\"L2\", dims=1536),\n",
        "        ),\n",
        "    ]\n",
        ")"
      ]
    },
    {
      "cell_type": "markdown",
      "id": "518cfe1e",
      "metadata": {
        "id": "518cfe1e"
      },
      "source": [
        "### Create Vector DB Table\n",
        "\n",
        "Use the KDB.AI `create_table` function to create a table that matches the defined schema in the vector database."
      ]
    },
    {
      "cell_type": "code",
      "execution_count": 13,
      "id": "6e670f9e",
      "metadata": {
        "id": "6e670f9e"
      },
      "outputs": [],
      "source": [
        "# First ensure the table does not already exist\n",
        "try:\n",
        "    session.table(\"pdf\").drop()\n",
        "except kdbai.KDBAIException:\n",
        "    pass"
      ]
    },
    {
      "cell_type": "code",
      "execution_count": 14,
      "id": "e1d190db-7c19-418e-9140-3dff04c9d4c0",
      "metadata": {
        "id": "e1d190db-7c19-418e-9140-3dff04c9d4c0"
      },
      "outputs": [],
      "source": [
        "table = session.create_table(\"pdf\", pdf_schema)"
      ]
    },
    {
      "cell_type": "markdown",
      "id": "466068bc",
      "metadata": {
        "id": "466068bc"
      },
      "source": [
        "We can use `query` to see our table exists but is empty."
      ]
    },
    {
      "cell_type": "code",
      "execution_count": 15,
      "id": "74e7332e",
      "metadata": {
        "colab": {
          "base_uri": "https://localhost:8080/",
          "height": 53
        },
        "id": "74e7332e",
        "outputId": "eb444bc8-ed6e-4d02-e3e0-1af17fb72d55"
      },
      "outputs": [
        {
          "data": {
            "application/vnd.google.colaboratory.intrinsic+json": {
              "repr_error": "Out of range float values are not JSON compliant: nan",
              "type": "dataframe"
            },
            "text/html": [
              "\n",
              "  <div id=\"df-71c2c7b6-6a10-45e9-b653-02758b1f587c\" class=\"colab-df-container\">\n",
              "    <div>\n",
              "<style scoped>\n",
              "    .dataframe tbody tr th:only-of-type {\n",
              "        vertical-align: middle;\n",
              "    }\n",
              "\n",
              "    .dataframe tbody tr th {\n",
              "        vertical-align: top;\n",
              "    }\n",
              "\n",
              "    .dataframe thead th {\n",
              "        text-align: right;\n",
              "    }\n",
              "</style>\n",
              "<table border=\"1\" class=\"dataframe\">\n",
              "  <thead>\n",
              "    <tr style=\"text-align: right;\">\n",
              "      <th></th>\n",
              "      <th>document_id</th>\n",
              "      <th>text</th>\n",
              "      <th>embedding</th>\n",
              "    </tr>\n",
              "  </thead>\n",
              "  <tbody>\n",
              "  </tbody>\n",
              "</table>\n",
              "</div>\n",
              "    <div class=\"colab-df-buttons\">\n",
              "\n",
              "  <div class=\"colab-df-container\">\n",
              "    <button class=\"colab-df-convert\" onclick=\"convertToInteractive('df-71c2c7b6-6a10-45e9-b653-02758b1f587c')\"\n",
              "            title=\"Convert this dataframe to an interactive table.\"\n",
              "            style=\"display:none;\">\n",
              "\n",
              "  <svg xmlns=\"http://www.w3.org/2000/svg\" height=\"24px\" viewBox=\"0 -960 960 960\">\n",
              "    <path d=\"M120-120v-720h720v720H120Zm60-500h600v-160H180v160Zm220 220h160v-160H400v160Zm0 220h160v-160H400v160ZM180-400h160v-160H180v160Zm440 0h160v-160H620v160ZM180-180h160v-160H180v160Zm440 0h160v-160H620v160Z\"/>\n",
              "  </svg>\n",
              "    </button>\n",
              "\n",
              "  <style>\n",
              "    .colab-df-container {\n",
              "      display:flex;\n",
              "      gap: 12px;\n",
              "    }\n",
              "\n",
              "    .colab-df-convert {\n",
              "      background-color: #E8F0FE;\n",
              "      border: none;\n",
              "      border-radius: 50%;\n",
              "      cursor: pointer;\n",
              "      display: none;\n",
              "      fill: #1967D2;\n",
              "      height: 32px;\n",
              "      padding: 0 0 0 0;\n",
              "      width: 32px;\n",
              "    }\n",
              "\n",
              "    .colab-df-convert:hover {\n",
              "      background-color: #E2EBFA;\n",
              "      box-shadow: 0px 1px 2px rgba(60, 64, 67, 0.3), 0px 1px 3px 1px rgba(60, 64, 67, 0.15);\n",
              "      fill: #174EA6;\n",
              "    }\n",
              "\n",
              "    .colab-df-buttons div {\n",
              "      margin-bottom: 4px;\n",
              "    }\n",
              "\n",
              "    [theme=dark] .colab-df-convert {\n",
              "      background-color: #3B4455;\n",
              "      fill: #D2E3FC;\n",
              "    }\n",
              "\n",
              "    [theme=dark] .colab-df-convert:hover {\n",
              "      background-color: #434B5C;\n",
              "      box-shadow: 0px 1px 3px 1px rgba(0, 0, 0, 0.15);\n",
              "      filter: drop-shadow(0px 1px 2px rgba(0, 0, 0, 0.3));\n",
              "      fill: #FFFFFF;\n",
              "    }\n",
              "  </style>\n",
              "\n",
              "    <script>\n",
              "      const buttonEl =\n",
              "        document.querySelector('#df-71c2c7b6-6a10-45e9-b653-02758b1f587c button.colab-df-convert');\n",
              "      buttonEl.style.display =\n",
              "        google.colab.kernel.accessAllowed ? 'block' : 'none';\n",
              "\n",
              "      async function convertToInteractive(key) {\n",
              "        const element = document.querySelector('#df-71c2c7b6-6a10-45e9-b653-02758b1f587c');\n",
              "        const dataTable =\n",
              "          await google.colab.kernel.invokeFunction('convertToInteractive',\n",
              "                                                    [key], {});\n",
              "        if (!dataTable) return;\n",
              "\n",
              "        const docLinkHtml = 'Like what you see? Visit the ' +\n",
              "          '<a target=\"_blank\" href=https://colab.research.google.com/notebooks/data_table.ipynb>data table notebook</a>'\n",
              "          + ' to learn more about interactive tables.';\n",
              "        element.innerHTML = '';\n",
              "        dataTable['output_type'] = 'display_data';\n",
              "        await google.colab.output.renderOutput(dataTable, element);\n",
              "        const docLink = document.createElement('div');\n",
              "        docLink.innerHTML = docLinkHtml;\n",
              "        element.appendChild(docLink);\n",
              "      }\n",
              "    </script>\n",
              "  </div>\n",
              "\n",
              "\n",
              "    </div>\n",
              "  </div>\n"
            ],
            "text/plain": [
              "Empty DataFrame\n",
              "Columns: [document_id, text, embedding]\n",
              "Index: []"
            ]
          },
          "execution_count": 15,
          "metadata": {},
          "output_type": "execute_result"
        }
      ],
      "source": [
        "table.query()"
      ]
    },
    {
      "cell_type": "markdown",
      "id": "YvcNh1v_Wixe",
      "metadata": {
        "id": "YvcNh1v_Wixe"
      },
      "source": [
        "## 3. LlamaIndex index & query_engine setup\n",
        "Define the index: using KDB.AI as the vector store, chunk, embed, and load the document into KDB.AI"
      ]
    },
    {
      "cell_type": "code",
      "execution_count": 16,
      "id": "He42izi1Soee",
      "metadata": {
        "id": "He42izi1Soee"
      },
      "outputs": [],
      "source": [
        "vector_store = KDBAIVectorStore(table)\n",
        "\n",
        "storage_context = StorageContext.from_defaults(vector_store=vector_store)\n",
        "index = VectorStoreIndex.from_documents(\n",
        "    documents,\n",
        "    storage_context=storage_context,\n",
        "    transformations=[SentenceSplitter(chunk_size=100, chunk_overlap=0)],\n",
        ")"
      ]
    },
    {
      "cell_type": "markdown",
      "id": "e31a4ecd",
      "metadata": {
        "id": "e31a4ecd"
      },
      "source": [
        "### Verify Data Has Been Inserted\n",
        "\n",
        "Running `table.query()` should show us that data has been added."
      ]
    },
    {
      "cell_type": "code",
      "execution_count": 17,
      "id": "ee6ecb8d",
      "metadata": {
        "colab": {
          "base_uri": "https://localhost:8080/",
          "height": 831
        },
        "id": "ee6ecb8d",
        "outputId": "23dfdf13-e760-48f3-d7f0-9cbafb0d7fc2"
      },
      "outputs": [
        {
          "name": "stdout",
          "output_type": "stream",
          "text": [
            "(370, 3)\n"
          ]
        },
        {
          "data": {
            "application/vnd.google.colaboratory.intrinsic+json": {
              "summary": "{\n  \"name\": \"show_df(table\",\n  \"rows\": 5,\n  \"fields\": [\n    {\n      \"column\": \"document_id\",\n      \"properties\": {\n        \"dtype\": \"string\",\n        \"num_unique_values\": 5,\n        \"samples\": [\n          \"b'ba18a044-01bd-4666-bd5a-7190b199ef2c'\",\n          \"b'6169368e-8ac2-437c-a98b-3f4584b33baf'\",\n          \"b'4b5d7fec-e635-4705-8100-af8af517a875'\"\n        ],\n        \"semantic_type\": \"\",\n        \"description\": \"\"\n      }\n    },\n    {\n      \"column\": \"text\",\n      \"properties\": {\n        \"dtype\": \"string\",\n        \"num_unique_values\": 5,\n        \"samples\": [\n          \"b'\\\\xe2\\\\x88\\\\x97and\\\\nJohn C. Forbes\\\\n2\\\\n1Department of Physics, University of Oxford, Denys Wilkinson Building, Keble Road, Oxford, OX1 3RH, UK\\\\n2School of Physical and Chemical Sciences\\\\xe2\\\\x80\\\\x94Te Kura Mat\\\\xc2\\\\xaf u, University of Canterbury, Private Bag 4800, Christchurch 8140, New Zealand\\\\n3Just Group plc, Enterprise House,'\",\n          \"b'We define a novel framework: firstly to predict\\\\nthe properties of this Galactic ISO population by combining models of processes across planetary\\\\nand galactic scales, and secondly to make inferences about the processes modelled, by comparing the\\\\npredicted population to what is observed.'\",\n          \"b'Bancroft road, Reigate, Surrey RH2 7RP, UK\\\\n4Canadian Institute for Theoretical Astrophysics, University of Toronto, 60 St. George Street, Toronto, ON, M5S 3H8, Canada\\\\n5Dunlap Institute for Astronomy and Astrophysics, University of Toronto, 50 St.'\"\n        ],\n        \"semantic_type\": \"\",\n        \"description\": \"\"\n      }\n    },\n    {\n      \"column\": \"embedding\",\n      \"properties\": {\n        \"dtype\": \"object\",\n        \"semantic_type\": \"\",\n        \"description\": \"\"\n      }\n    }\n  ]\n}",
              "type": "dataframe"
            },
            "text/html": [
              "\n",
              "  <div id=\"df-b4e43dbf-c2ee-4bf6-b189-13167cb774b4\" class=\"colab-df-container\">\n",
              "    <div>\n",
              "<style scoped>\n",
              "    .dataframe tbody tr th:only-of-type {\n",
              "        vertical-align: middle;\n",
              "    }\n",
              "\n",
              "    .dataframe tbody tr th {\n",
              "        vertical-align: top;\n",
              "    }\n",
              "\n",
              "    .dataframe thead th {\n",
              "        text-align: right;\n",
              "    }\n",
              "</style>\n",
              "<table border=\"1\" class=\"dataframe\">\n",
              "  <thead>\n",
              "    <tr style=\"text-align: right;\">\n",
              "      <th></th>\n",
              "      <th>document_id</th>\n",
              "      <th>text</th>\n",
              "      <th>embedding</th>\n",
              "    </tr>\n",
              "  </thead>\n",
              "  <tbody>\n",
              "    <tr>\n",
              "      <th>0</th>\n",
              "      <td>b'5a969e74-9ccf-4448-90e3-6391d6552b70'</td>\n",
              "      <td>b'Draft version August 14, 2023\\nTypeset using L ATEX default style in AASTeX631\\nThe Galactic Interstellar Object Population: A Framework for Prediction and Inference\\nMatthew J. Hopkins\\n ,1Chris Lintott\\n ,1Michele T. Bannister\\n ,2J. Ted Mackereth\\n ,3, 4, 5,'</td>\n",
              "      <td>[0.011503529, 0.018526183, 0.035453927, -0.0246186, -0.0075270813, -0.00292829, 0.018146226, -0.023373913, -0.020976253, -0.034222342, -0.0044841487, 0.015800975, 0.009164827, -0.009485826, 0.012342054, 0.043865394, 0.031916395, -0.009905089, 0.020688009, 0.02982008, -0.03254529, -0.020046012, 0...</td>\n",
              "    </tr>\n",
              "    <tr>\n",
              "      <th>1</th>\n",
              "      <td>b'ba18a044-01bd-4666-bd5a-7190b199ef2c'</td>\n",
              "      <td>b'\\xe2\\x88\\x97and\\nJohn C. Forbes\\n2\\n1Department of Physics, University of Oxford, Denys Wilkinson Building, Keble Road, Oxford, OX1 3RH, UK\\n2School of Physical and Chemical Sciences\\xe2\\x80\\x94Te Kura Mat\\xc2\\xaf u, University of Canterbury, Private Bag 4800, Christchurch 8140, New Zealand\\n3...</td>\n",
              "      <td>[0.03447592, 0.0034924955, 0.029711159, 0.013346323, 0.009011886, 0.03317871, -0.009685439, 0.006903915, 0.0079953205, -0.03205612, 0.0209425, 0.011837065, -0.00838199, 0.019932171, 0.012604167, 0.06630752, 0.0377439, 0.039190788, 0.032929245, 0.015566552, -0.033577852, -0.06376299, 0.047872137,...</td>\n",
              "    </tr>\n",
              "    <tr>\n",
              "      <th>2</th>\n",
              "      <td>b'4b5d7fec-e635-4705-8100-af8af517a875'</td>\n",
              "      <td>b'Bancroft road, Reigate, Surrey RH2 7RP, UK\\n4Canadian Institute for Theoretical Astrophysics, University of Toronto, 60 St. George Street, Toronto, ON, M5S 3H8, Canada\\n5Dunlap Institute for Astronomy and Astrophysics, University of Toronto, 50 St.'</td>\n",
              "      <td>[0.0070580486, -0.014808062, 0.046827197, 0.03716484, -0.0113482345, 0.0041863914, -0.014644507, -0.026370177, -0.039228156, -0.032987885, -0.026244367, 0.016745565, 0.015009361, -0.046097487, -0.0002655811, 0.09491251, 0.048965998, 0.043782547, -0.0015246832, 0.061899465, -0.005321844, -0.04652...</td>\n",
              "    </tr>\n",
              "    <tr>\n",
              "      <th>3</th>\n",
              "      <td>b'7fb0ac0b-5234-452c-a2bc-37c00f658733'</td>\n",
              "      <td>b'George Street, Toronto, ON M5S 3H4, Canada\\nABSTRACT\\nThe Milky Way is thought to host a huge population of interstellar objects (ISOs), numbering\\napproximately 1015pc\\xe2\\x88\\x923around the Sun, which are formed and shaped by a diverse set of processes\\nranging from planet formation to galac...</td>\n",
              "      <td>[0.003038883, -0.00866065, 0.05570509, 0.025615819, -0.012807909, -0.025429426, 0.024271121, -0.024044788, -0.017720714, -0.02395159, -0.008560796, 0.012508349, -0.0057049785, -0.028491609, 0.0154973045, 0.046811447, -0.0069231945, 0.016322762, 0.03956872, 0.014924809, -0.00085624604, 0.01504463...</td>\n",
              "    </tr>\n",
              "    <tr>\n",
              "      <th>4</th>\n",
              "      <td>b'6169368e-8ac2-437c-a98b-3f4584b33baf'</td>\n",
              "      <td>b'We define a novel framework: firstly to predict\\nthe properties of this Galactic ISO population by combining models of processes across planetary\\nand galactic scales, and secondly to make inferences about the processes modelled, by comparing the\\npredicted population to what is observed.'</td>\n",
              "      <td>[0.023436025, 0.011106744, 0.034744486, 0.002776686, 0.033301894, -0.018154668, 0.019743964, -0.019316077, 0.0020676148, 0.0028362847, -0.033081837, -0.008301022, -0.003939624, -0.0159052, 0.021895628, 0.0002355293, -0.006503894, -0.0015258783, 0.045038246, 0.026651295, -0.016174158, -0.02338712...</td>\n",
              "    </tr>\n",
              "  </tbody>\n",
              "</table>\n",
              "</div>\n",
              "    <div class=\"colab-df-buttons\">\n",
              "\n",
              "  <div class=\"colab-df-container\">\n",
              "    <button class=\"colab-df-convert\" onclick=\"convertToInteractive('df-b4e43dbf-c2ee-4bf6-b189-13167cb774b4')\"\n",
              "            title=\"Convert this dataframe to an interactive table.\"\n",
              "            style=\"display:none;\">\n",
              "\n",
              "  <svg xmlns=\"http://www.w3.org/2000/svg\" height=\"24px\" viewBox=\"0 -960 960 960\">\n",
              "    <path d=\"M120-120v-720h720v720H120Zm60-500h600v-160H180v160Zm220 220h160v-160H400v160Zm0 220h160v-160H400v160ZM180-400h160v-160H180v160Zm440 0h160v-160H620v160ZM180-180h160v-160H180v160Zm440 0h160v-160H620v160Z\"/>\n",
              "  </svg>\n",
              "    </button>\n",
              "\n",
              "  <style>\n",
              "    .colab-df-container {\n",
              "      display:flex;\n",
              "      gap: 12px;\n",
              "    }\n",
              "\n",
              "    .colab-df-convert {\n",
              "      background-color: #E8F0FE;\n",
              "      border: none;\n",
              "      border-radius: 50%;\n",
              "      cursor: pointer;\n",
              "      display: none;\n",
              "      fill: #1967D2;\n",
              "      height: 32px;\n",
              "      padding: 0 0 0 0;\n",
              "      width: 32px;\n",
              "    }\n",
              "\n",
              "    .colab-df-convert:hover {\n",
              "      background-color: #E2EBFA;\n",
              "      box-shadow: 0px 1px 2px rgba(60, 64, 67, 0.3), 0px 1px 3px 1px rgba(60, 64, 67, 0.15);\n",
              "      fill: #174EA6;\n",
              "    }\n",
              "\n",
              "    .colab-df-buttons div {\n",
              "      margin-bottom: 4px;\n",
              "    }\n",
              "\n",
              "    [theme=dark] .colab-df-convert {\n",
              "      background-color: #3B4455;\n",
              "      fill: #D2E3FC;\n",
              "    }\n",
              "\n",
              "    [theme=dark] .colab-df-convert:hover {\n",
              "      background-color: #434B5C;\n",
              "      box-shadow: 0px 1px 3px 1px rgba(0, 0, 0, 0.15);\n",
              "      filter: drop-shadow(0px 1px 2px rgba(0, 0, 0, 0.3));\n",
              "      fill: #FFFFFF;\n",
              "    }\n",
              "  </style>\n",
              "\n",
              "    <script>\n",
              "      const buttonEl =\n",
              "        document.querySelector('#df-b4e43dbf-c2ee-4bf6-b189-13167cb774b4 button.colab-df-convert');\n",
              "      buttonEl.style.display =\n",
              "        google.colab.kernel.accessAllowed ? 'block' : 'none';\n",
              "\n",
              "      async function convertToInteractive(key) {\n",
              "        const element = document.querySelector('#df-b4e43dbf-c2ee-4bf6-b189-13167cb774b4');\n",
              "        const dataTable =\n",
              "          await google.colab.kernel.invokeFunction('convertToInteractive',\n",
              "                                                    [key], {});\n",
              "        if (!dataTable) return;\n",
              "\n",
              "        const docLinkHtml = 'Like what you see? Visit the ' +\n",
              "          '<a target=\"_blank\" href=https://colab.research.google.com/notebooks/data_table.ipynb>data table notebook</a>'\n",
              "          + ' to learn more about interactive tables.';\n",
              "        element.innerHTML = '';\n",
              "        dataTable['output_type'] = 'display_data';\n",
              "        await google.colab.output.renderOutput(dataTable, element);\n",
              "        const docLink = document.createElement('div');\n",
              "        docLink.innerHTML = docLinkHtml;\n",
              "        element.appendChild(docLink);\n",
              "      }\n",
              "    </script>\n",
              "  </div>\n",
              "\n",
              "\n",
              "<div id=\"df-e13bf046-21f7-4f85-8cf3-a24f9c709d98\">\n",
              "  <button class=\"colab-df-quickchart\" onclick=\"quickchart('df-e13bf046-21f7-4f85-8cf3-a24f9c709d98')\"\n",
              "            title=\"Suggest charts\"\n",
              "            style=\"display:none;\">\n",
              "\n",
              "<svg xmlns=\"http://www.w3.org/2000/svg\" height=\"24px\"viewBox=\"0 0 24 24\"\n",
              "     width=\"24px\">\n",
              "    <g>\n",
              "        <path d=\"M19 3H5c-1.1 0-2 .9-2 2v14c0 1.1.9 2 2 2h14c1.1 0 2-.9 2-2V5c0-1.1-.9-2-2-2zM9 17H7v-7h2v7zm4 0h-2V7h2v10zm4 0h-2v-4h2v4z\"/>\n",
              "    </g>\n",
              "</svg>\n",
              "  </button>\n",
              "\n",
              "<style>\n",
              "  .colab-df-quickchart {\n",
              "      --bg-color: #E8F0FE;\n",
              "      --fill-color: #1967D2;\n",
              "      --hover-bg-color: #E2EBFA;\n",
              "      --hover-fill-color: #174EA6;\n",
              "      --disabled-fill-color: #AAA;\n",
              "      --disabled-bg-color: #DDD;\n",
              "  }\n",
              "\n",
              "  [theme=dark] .colab-df-quickchart {\n",
              "      --bg-color: #3B4455;\n",
              "      --fill-color: #D2E3FC;\n",
              "      --hover-bg-color: #434B5C;\n",
              "      --hover-fill-color: #FFFFFF;\n",
              "      --disabled-bg-color: #3B4455;\n",
              "      --disabled-fill-color: #666;\n",
              "  }\n",
              "\n",
              "  .colab-df-quickchart {\n",
              "    background-color: var(--bg-color);\n",
              "    border: none;\n",
              "    border-radius: 50%;\n",
              "    cursor: pointer;\n",
              "    display: none;\n",
              "    fill: var(--fill-color);\n",
              "    height: 32px;\n",
              "    padding: 0;\n",
              "    width: 32px;\n",
              "  }\n",
              "\n",
              "  .colab-df-quickchart:hover {\n",
              "    background-color: var(--hover-bg-color);\n",
              "    box-shadow: 0 1px 2px rgba(60, 64, 67, 0.3), 0 1px 3px 1px rgba(60, 64, 67, 0.15);\n",
              "    fill: var(--button-hover-fill-color);\n",
              "  }\n",
              "\n",
              "  .colab-df-quickchart-complete:disabled,\n",
              "  .colab-df-quickchart-complete:disabled:hover {\n",
              "    background-color: var(--disabled-bg-color);\n",
              "    fill: var(--disabled-fill-color);\n",
              "    box-shadow: none;\n",
              "  }\n",
              "\n",
              "  .colab-df-spinner {\n",
              "    border: 2px solid var(--fill-color);\n",
              "    border-color: transparent;\n",
              "    border-bottom-color: var(--fill-color);\n",
              "    animation:\n",
              "      spin 1s steps(1) infinite;\n",
              "  }\n",
              "\n",
              "  @keyframes spin {\n",
              "    0% {\n",
              "      border-color: transparent;\n",
              "      border-bottom-color: var(--fill-color);\n",
              "      border-left-color: var(--fill-color);\n",
              "    }\n",
              "    20% {\n",
              "      border-color: transparent;\n",
              "      border-left-color: var(--fill-color);\n",
              "      border-top-color: var(--fill-color);\n",
              "    }\n",
              "    30% {\n",
              "      border-color: transparent;\n",
              "      border-left-color: var(--fill-color);\n",
              "      border-top-color: var(--fill-color);\n",
              "      border-right-color: var(--fill-color);\n",
              "    }\n",
              "    40% {\n",
              "      border-color: transparent;\n",
              "      border-right-color: var(--fill-color);\n",
              "      border-top-color: var(--fill-color);\n",
              "    }\n",
              "    60% {\n",
              "      border-color: transparent;\n",
              "      border-right-color: var(--fill-color);\n",
              "    }\n",
              "    80% {\n",
              "      border-color: transparent;\n",
              "      border-right-color: var(--fill-color);\n",
              "      border-bottom-color: var(--fill-color);\n",
              "    }\n",
              "    90% {\n",
              "      border-color: transparent;\n",
              "      border-bottom-color: var(--fill-color);\n",
              "    }\n",
              "  }\n",
              "</style>\n",
              "\n",
              "  <script>\n",
              "    async function quickchart(key) {\n",
              "      const quickchartButtonEl =\n",
              "        document.querySelector('#' + key + ' button');\n",
              "      quickchartButtonEl.disabled = true;  // To prevent multiple clicks.\n",
              "      quickchartButtonEl.classList.add('colab-df-spinner');\n",
              "      try {\n",
              "        const charts = await google.colab.kernel.invokeFunction(\n",
              "            'suggestCharts', [key], {});\n",
              "      } catch (error) {\n",
              "        console.error('Error during call to suggestCharts:', error);\n",
              "      }\n",
              "      quickchartButtonEl.classList.remove('colab-df-spinner');\n",
              "      quickchartButtonEl.classList.add('colab-df-quickchart-complete');\n",
              "    }\n",
              "    (() => {\n",
              "      let quickchartButtonEl =\n",
              "        document.querySelector('#df-e13bf046-21f7-4f85-8cf3-a24f9c709d98 button');\n",
              "      quickchartButtonEl.style.display =\n",
              "        google.colab.kernel.accessAllowed ? 'block' : 'none';\n",
              "    })();\n",
              "  </script>\n",
              "</div>\n",
              "\n",
              "    </div>\n",
              "  </div>\n"
            ],
            "text/plain": [
              "                               document_id  \\\n",
              "0  b'5a969e74-9ccf-4448-90e3-6391d6552b70'   \n",
              "1  b'ba18a044-01bd-4666-bd5a-7190b199ef2c'   \n",
              "2  b'4b5d7fec-e635-4705-8100-af8af517a875'   \n",
              "3  b'7fb0ac0b-5234-452c-a2bc-37c00f658733'   \n",
              "4  b'6169368e-8ac2-437c-a98b-3f4584b33baf'   \n",
              "\n",
              "                                                                                                                                                                                                                                                                                                          text  \\\n",
              "0                                     b'Draft version August 14, 2023\\nTypeset using L ATEX default style in AASTeX631\\nThe Galactic Interstellar Object Population: A Framework for Prediction and Inference\\nMatthew J. Hopkins\\n ,1Chris Lintott\\n ,1Michele T. Bannister\\n ,2J. Ted Mackereth\\n ,3, 4, 5,'   \n",
              "1  b'\\xe2\\x88\\x97and\\nJohn C. Forbes\\n2\\n1Department of Physics, University of Oxford, Denys Wilkinson Building, Keble Road, Oxford, OX1 3RH, UK\\n2School of Physical and Chemical Sciences\\xe2\\x80\\x94Te Kura Mat\\xc2\\xaf u, University of Canterbury, Private Bag 4800, Christchurch 8140, New Zealand\\n3...   \n",
              "2                                                  b'Bancroft road, Reigate, Surrey RH2 7RP, UK\\n4Canadian Institute for Theoretical Astrophysics, University of Toronto, 60 St. George Street, Toronto, ON, M5S 3H8, Canada\\n5Dunlap Institute for Astronomy and Astrophysics, University of Toronto, 50 St.'   \n",
              "3  b'George Street, Toronto, ON M5S 3H4, Canada\\nABSTRACT\\nThe Milky Way is thought to host a huge population of interstellar objects (ISOs), numbering\\napproximately 1015pc\\xe2\\x88\\x923around the Sun, which are formed and shaped by a diverse set of processes\\nranging from planet formation to galac...   \n",
              "4         b'We define a novel framework: firstly to predict\\nthe properties of this Galactic ISO population by combining models of processes across planetary\\nand galactic scales, and secondly to make inferences about the processes modelled, by comparing the\\npredicted population to what is observed.'   \n",
              "\n",
              "                                                                                                                                                                                                                                                                                                     embedding  \n",
              "0  [0.011503529, 0.018526183, 0.035453927, -0.0246186, -0.0075270813, -0.00292829, 0.018146226, -0.023373913, -0.020976253, -0.034222342, -0.0044841487, 0.015800975, 0.009164827, -0.009485826, 0.012342054, 0.043865394, 0.031916395, -0.009905089, 0.020688009, 0.02982008, -0.03254529, -0.020046012, 0...  \n",
              "1  [0.03447592, 0.0034924955, 0.029711159, 0.013346323, 0.009011886, 0.03317871, -0.009685439, 0.006903915, 0.0079953205, -0.03205612, 0.0209425, 0.011837065, -0.00838199, 0.019932171, 0.012604167, 0.06630752, 0.0377439, 0.039190788, 0.032929245, 0.015566552, -0.033577852, -0.06376299, 0.047872137,...  \n",
              "2  [0.0070580486, -0.014808062, 0.046827197, 0.03716484, -0.0113482345, 0.0041863914, -0.014644507, -0.026370177, -0.039228156, -0.032987885, -0.026244367, 0.016745565, 0.015009361, -0.046097487, -0.0002655811, 0.09491251, 0.048965998, 0.043782547, -0.0015246832, 0.061899465, -0.005321844, -0.04652...  \n",
              "3  [0.003038883, -0.00866065, 0.05570509, 0.025615819, -0.012807909, -0.025429426, 0.024271121, -0.024044788, -0.017720714, -0.02395159, -0.008560796, 0.012508349, -0.0057049785, -0.028491609, 0.0154973045, 0.046811447, -0.0069231945, 0.016322762, 0.03956872, 0.014924809, -0.00085624604, 0.01504463...  \n",
              "4  [0.023436025, 0.011106744, 0.034744486, 0.002776686, 0.033301894, -0.018154668, 0.019743964, -0.019316077, 0.0020676148, 0.0028362847, -0.033081837, -0.008301022, -0.003939624, -0.0159052, 0.021895628, 0.0002355293, -0.006503894, -0.0015258783, 0.045038246, 0.026651295, -0.016174158, -0.02338712...  "
            ]
          },
          "execution_count": 17,
          "metadata": {},
          "output_type": "execute_result"
        }
      ],
      "source": [
        "show_df(table.query())"
      ]
    },
    {
      "cell_type": "markdown",
      "id": "tiZ5HWsEThcT",
      "metadata": {
        "id": "tiZ5HWsEThcT"
      },
      "source": [
        "#### Set up the LlamaIndex Query Engine"
      ]
    },
    {
      "cell_type": "code",
      "execution_count": 18,
      "id": "u_IlkIcuTn3e",
      "metadata": {
        "id": "u_IlkIcuTn3e"
      },
      "outputs": [],
      "source": [
        "query_engine = index.as_query_engine(\n",
        "    similarity_top_k=5,\n",
        ")"
      ]
    },
    {
      "cell_type": "markdown",
      "id": "8bf8650d",
      "metadata": {
        "id": "8bf8650d"
      },
      "source": [
        "## 4. Retrieve Similar Sentences & RAG\n",
        "\n"
      ]
    },
    {
      "cell_type": "markdown",
      "id": "31ddb725-e0e7-4c00-a22b-3234eacf6bd1",
      "metadata": {
        "id": "31ddb725-e0e7-4c00-a22b-3234eacf6bd1"
      },
      "source": [
        "Now that the embeddings are stored in KDB.AI, we can perform semantic search using through the LlamaIndex query engine.\n",
        "\n",
        "### Search 1\n"
      ]
    },
    {
      "cell_type": "code",
      "execution_count": 19,
      "id": "b24c1179",
      "metadata": {
        "id": "b24c1179"
      },
      "outputs": [],
      "source": [
        "search_term1 = \"number of interstellar objects in the milky way\""
      ]
    },
    {
      "cell_type": "code",
      "execution_count": 20,
      "id": "QbyVfwB8VTcg",
      "metadata": {
        "colab": {
          "base_uri": "https://localhost:8080/"
        },
        "id": "QbyVfwB8VTcg",
        "outputId": "c094a3aa-3ede-4e20-cb96-5116f0867d9c"
      },
      "outputs": [
        {
          "name": "stdout",
          "output_type": "stream",
          "text": [
            "George Street, Toronto, ON M5S 3H4, Canada\n",
            "ABSTRACT\n",
            "The Milky Way is thought to host a huge population of interstellar objects (ISOs), numbering\n",
            "approximately 1015pc−3around the Sun, which are formed and shaped by a diverse set of processes\n",
            "ranging from planet formation to galactic dynamics.\n",
            "____________________\n",
            "Therefore the results of this work, based on the observed stellar population of the\n",
            "Milky Way, should give a much more accurate prediction for the Milky Way’s population of ISOs.\n",
            "6.2.\n",
            "____________________\n",
            "In this work, we develop\n",
            "this method and apply it to the stellar population of the Milky Way, estimated with data from the APOGEE survey, to\n",
            "predict a broader set of properties of our own Galaxy’s population of interstellar objects. We predict the distribution\n",
            "of ISOs in both their spatial position in the Galaxy and their water mass fraction.\n",
            "____________________\n",
            "3.PREDICTING THE INTERSTELLAR OBJECT DISTRIBUTION\n",
            "In the previous section, we calculated the sine morte stellar population of the Milky Way from the APOGEE survey.\n",
            "In this section we describe how to predict an example physical property of the Galactic ISO population — the ISO\n",
            "water mass fraction distribution — from this stellar population.\n",
            "3.1.\n",
            "____________________\n",
            "2017) and 2I/Borisov1are the first two observed samples from a highly numerous\n",
            "population: interstellar objects (ISOs). Estimated to number ∼1015pc−3around the Sun (Engelhardt et al. 2017;\n",
            "Do et al. 2018), they are implied to have a spatial distribution spanning the entire Galaxy.\n",
            "____________________\n"
          ]
        }
      ],
      "source": [
        "retrieved_chunks = query_engine.retrieve(search_term1)\n",
        "for i in retrieved_chunks:\n",
        "    print(i.node.get_text())\n",
        "    print(\"____________________\")"
      ]
    },
    {
      "cell_type": "markdown",
      "id": "9R4vgFZMVvv9",
      "metadata": {
        "id": "9R4vgFZMVvv9"
      },
      "source": [
        "We can see these sentences do reference our search term 'number of interstellar objects in the milky way' in some way."
      ]
    },
    {
      "cell_type": "markdown",
      "id": "n0n7OglvVvvA",
      "metadata": {
        "id": "n0n7OglvVvvA"
      },
      "source": [
        "### Now we can perform RAG, passing the retrieved chunks from above to the LLM for a generate response:"
      ]
    },
    {
      "cell_type": "code",
      "execution_count": 21,
      "id": "ttZpktxET3tq",
      "metadata": {
        "colab": {
          "base_uri": "https://localhost:8080/"
        },
        "id": "ttZpktxET3tq",
        "outputId": "482b5eac-bf3e-481e-be2f-74aa16df8869"
      },
      "outputs": [
        {
          "name": "stdout",
          "output_type": "stream",
          "text": [
            "Approximately 10^15 interstellar objects (ISOs) are estimated to be present per cubic parsec around the Sun in the Milky Way.\n"
          ]
        }
      ],
      "source": [
        "result = query_engine.query(search_term1)\n",
        "print(result.response)"
      ]
    },
    {
      "cell_type": "markdown",
      "id": "91762de7",
      "metadata": {
        "id": "91762de7"
      },
      "source": [
        "### Search 2\n",
        "\n",
        "Let's try another search term."
      ]
    },
    {
      "cell_type": "code",
      "execution_count": 22,
      "id": "e7486a9c",
      "metadata": {
        "id": "e7486a9c"
      },
      "outputs": [],
      "source": [
        "search_term2 = \"how does planet formation occur\""
      ]
    },
    {
      "cell_type": "code",
      "execution_count": 23,
      "id": "6765075c",
      "metadata": {
        "colab": {
          "base_uri": "https://localhost:8080/"
        },
        "id": "6765075c",
        "outputId": "cc8d46db-752d-4f62-9749-837ac4a1d60e"
      },
      "outputs": [
        {
          "name": "stdout",
          "output_type": "stream",
          "text": [
            "A significant number of planetesimals can\n",
            "also be ejected by close stellar flybys early in a planetary system’s life (e.g. Pfalzner et al. 2021). The protoplanetary\n",
            "disks of other stars are therefore expected to be a source of ISOs (Stern 1990; Moro-Mart´ ın 2022).\n",
            "____________________\n",
            "(2020) argue that the mass of planet-forming material in a protoplanetary disk is proportional\n",
            "to both the mass of the host star mass M∗and its metal mass fraction Z— well approximated by Z⊙10[Fe/H]for\n",
            "small values of Z ( Z⊙= 0.0153, Caffau et al. (2011)).\n",
            "____________________\n",
            "Protoplanetary Disk Model\n",
            "We make the foundational assertion that all ISOs we consider form as planetesimals in a protoplanetary disk (’Oumua-\n",
            "mua ISSI Team et al. 2019). A protoplanetary disk has to first order the same composition as the star it forms around,\n",
            "since they both form from the same molecular cloud core.\n",
            "____________________\n",
            "Additionally, scattering by giant planets may form ISOs with extra\n",
            "fragmentation, reweighting the number distribution towards lower masses and increasing the number of ISOs produced\n",
            "from the same mass of planet-forming material (Raymond et al. 2018b).\n",
            "____________________\n",
            "this simplification\n",
            "of only modelling planetesimals which form exterior to the water ice line is justified by the proportionally greater\n",
            "reservoir of snowline-exterior planetesimals, and the higher efficiencies of formation mechanisms dynamically stripping\n",
            "them into the interstellar population (Fitzsimmons et al. 2023).\n",
            "____________________\n"
          ]
        }
      ],
      "source": [
        "retrieved_chunks = query_engine.retrieve(search_term2)\n",
        "for i in retrieved_chunks:\n",
        "    print(i.node.get_text())\n",
        "    print(\"____________________\")"
      ]
    },
    {
      "cell_type": "markdown",
      "id": "25ce337f",
      "metadata": {
        "id": "25ce337f"
      },
      "source": [
        "Again, we can see these sentences do reference our search term 'how does planet formation occur' in some way."
      ]
    },
    {
      "cell_type": "code",
      "execution_count": 24,
      "id": "2d3ce969",
      "metadata": {
        "colab": {
          "base_uri": "https://localhost:8080/"
        },
        "id": "2d3ce969",
        "outputId": "d3f2a46a-2eb1-4674-ea39-8b5baeba8a97"
      },
      "outputs": [
        {
          "name": "stdout",
          "output_type": "stream",
          "text": [
            "Planet formation occurs within protoplanetary disks, where planetesimals form from the material present in the disk. These disks have a composition similar to that of the host star, as they originate from the same molecular cloud core. The mass of the planet-forming material is influenced by the mass of the host star and its metal mass fraction. Additionally, interactions with giant planets can lead to the fragmentation of planetesimals, resulting in a greater number of interstellar objects being produced from the same amount of material. The formation processes are particularly efficient for planetesimals located outside the water ice line, which contributes to a larger reservoir of material available for planet formation.\n"
          ]
        }
      ],
      "source": [
        "result = query_engine.query(search_term2)\n",
        "print(result.response)"
      ]
    },
    {
      "cell_type": "markdown",
      "id": "f6e93878",
      "metadata": {
        "id": "f6e93878"
      },
      "source": [
        "## 5. Delete the KDB.AI Table\n",
        "\n",
        "Once finished with the table, it is best practice to drop it."
      ]
    },
    {
      "cell_type": "code",
      "execution_count": null,
      "id": "d74b6f20",
      "metadata": {
        "colab": {
          "base_uri": "https://localhost:8080/"
        },
        "id": "d74b6f20",
        "outputId": "5c7f3589-570f-4a1d-e114-7c70441f39f7"
      },
      "outputs": [
        {
          "data": {
            "text/plain": [
              "True"
            ]
          },
          "execution_count": 39,
          "metadata": {},
          "output_type": "execute_result"
        }
      ],
      "source": [
        "table.drop()"
      ]
    },
    {
      "cell_type": "markdown",
      "id": "346d56db",
      "metadata": {
        "id": "346d56db"
      },
      "source": [
        "## Take Our Survey\n",
        "\n",
        "We hope you found this sample helpful! Your feedback is important to us, and we would appreciate it if you could take a moment to fill out our brief survey. Your input helps us improve our content.\n",
        "\n",
        "[**Take the Survey**](https://delighted.com/t/ejgOzTpo)"
      ]
    }
  ],
  "metadata": {
    "colab": {
      "provenance": []
    },
    "kernelspec": {
      "display_name": "Python 3 (ipykernel)",
      "language": "python",
      "name": "python3"
    },
    "language_info": {
      "codemirror_mode": {
        "name": "ipython",
        "version": 3
      },
      "file_extension": ".py",
      "mimetype": "text/x-python",
      "name": "python",
      "nbconvert_exporter": "python",
      "pygments_lexer": "ipython3",
      "version": "3.10.12"
    }
  },
  "nbformat": 4,
  "nbformat_minor": 5
}
