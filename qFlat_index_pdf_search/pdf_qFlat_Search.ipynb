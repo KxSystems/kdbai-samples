{
  "cells": [
    {
      "cell_type": "markdown",
      "id": "3280b01a-d3b7-4ef6-9494-789d15bc48ec",
      "metadata": {
        "id": "3280b01a-d3b7-4ef6-9494-789d15bc48ec"
      },
      "source": [
        "# Semantic Search on PDF Documents with qFlat Index\n",
        "\n",
        "##### Note: This example requires a KDB.AI endpoint and API key. Sign up for a free [KDB.AI account](https://kdb.ai/get-started).\n",
        "\n",
        "This example demonstrates how to use KDB.AI to run semantic search on unstructured text documents.\n",
        "\n",
        "<div class=\"alert alert-block alert-info\">\n",
        "<b>Tip:</b> This sample uses ‘qFlat’ , a new vector index choice in KDB.AI. It will support the same API options as the existing ‘Flat’ index but with the significant difference that the index is stored on-disk and memory-mapped as required. This means data inserts will have negligible memory and cpu footprints. The vector index can grow and be searched as long as there is disk space available and works great for datasets with up to 1,000,000 vectors. Among other cases, this stands out as a great index for memory contrained situations such as edge devices.\n",
        "</div>\n",
        "\n",
        "Semantic search allows users to perform searches based on the meaning or similarity of the data rather than exact matches. It works by converting the query into a vector representation and then finding similar vectors in the database. This way, even if the query and the data in the database are not identical, the system can identify and retrieve the most relevant results based on their semantic meaning.\n",
        "\n",
        "### Aim\n",
        "In this tutorial, we'll walk you through the process of performing semantic search on documents, taking PDFs as example, using KDB.AI as the vector store. We will cover the following topics:\n",
        "\n",
        "0. Load PDF Data\n",
        "1. Create Sentence Vector Embeddings\n",
        "2. Store Embeddings in KDB.AI\n",
        "3. Search For Similar Sentences To A Target Sentence\n",
        "4. Delete the KDB.AI Table\n",
        "\n",
        "---"
      ]
    },
    {
      "cell_type": "markdown",
      "id": "75362bc9",
      "metadata": {
        "id": "75362bc9"
      },
      "source": [
        "## 0. Setup"
      ]
    },
    {
      "cell_type": "markdown",
      "id": "dda3d787",
      "metadata": {
        "id": "dda3d787"
      },
      "source": [
        "### Install dependencies\n",
        "\n",
        "In order to successfully run this sample, note the following steps depending on where you are running this notebook:\n",
        "\n",
        "-***Run Locally / Private Environment:*** The [Setup](https://github.com/KxSystems/kdbai-samples/blob/main/README.md#setup) steps in the repository's `README.md` will guide you on prerequisites and how to run this with Jupyter.\n",
        "\n",
        "\n",
        "-***Colab / Hosted Environment:*** Open this notebook in Colab and run through the cells."
      ]
    },
    {
      "cell_type": "markdown",
      "id": "b19c5107-001e-40c2-bfe7-6c9c99e4846d",
      "metadata": {
        "id": "b19c5107-001e-40c2-bfe7-6c9c99e4846d"
      },
      "source": [
        "### Set Environment Variables"
      ]
    },
    {
      "cell_type": "code",
      "execution_count": null,
      "id": "8bad9d73",
      "metadata": {
        "id": "8bad9d73"
      },
      "outputs": [],
      "source": [
        "%pip install kdbai_client pypdf sentence_transformers langchain langchain-community\n"
      ]
    },
    {
      "cell_type": "code",
      "execution_count": null,
      "id": "f23f6513",
      "metadata": {
        "id": "f23f6513"
      },
      "outputs": [],
      "source": [
        "### !!! Only run this cell if you need to download the data into your environment, for example in Colab\n",
        "### This downloads research paper pdf into your environment\n",
        "!mkdir ./data\n",
        "!wget -P ./data https://raw.githubusercontent.com/KxSystems/kdbai-samples/main/document_search/data/research_paper.pdf"
      ]
    },
    {
      "cell_type": "code",
      "execution_count": 3,
      "id": "2b1c0d58-c704-46e9-8705-93918444abd2",
      "metadata": {
        "id": "2b1c0d58-c704-46e9-8705-93918444abd2"
      },
      "outputs": [],
      "source": [
        "import os"
      ]
    },
    {
      "cell_type": "code",
      "execution_count": 4,
      "id": "e2784416-e45f-4c51-ad12-3ce84382ff38",
      "metadata": {
        "id": "e2784416-e45f-4c51-ad12-3ce84382ff38"
      },
      "outputs": [],
      "source": [
        "### ignore tensorflow warnings\n",
        "os.environ[\"TF_CPP_MIN_LOG_LEVEL\"] = \"3\""
      ]
    },
    {
      "cell_type": "markdown",
      "id": "21979389",
      "metadata": {
        "id": "21979389"
      },
      "source": [
        "### Import Packages"
      ]
    },
    {
      "cell_type": "code",
      "execution_count": 5,
      "id": "e6858852",
      "metadata": {
        "id": "e6858852"
      },
      "outputs": [],
      "source": [
        "# load data\n",
        "import pypdf\n",
        "from langchain.text_splitter import RecursiveCharacterTextSplitter\n",
        "from langchain.document_loaders import PyPDFLoader"
      ]
    },
    {
      "cell_type": "code",
      "execution_count": null,
      "id": "9b5a731a",
      "metadata": {
        "id": "9b5a731a"
      },
      "outputs": [],
      "source": [
        "# embeddings\n",
        "import numpy as np\n",
        "import pandas as pd\n",
        "from sentence_transformers import SentenceTransformer"
      ]
    },
    {
      "cell_type": "code",
      "execution_count": 7,
      "id": "2030c51f",
      "metadata": {
        "id": "2030c51f"
      },
      "outputs": [],
      "source": [
        "# vector DB\n",
        "import os\n",
        "import kdbai_client as kdbai\n",
        "from getpass import getpass\n",
        "import time"
      ]
    },
    {
      "cell_type": "markdown",
      "id": "8594c911",
      "metadata": {
        "id": "8594c911"
      },
      "source": [
        "### Configure Console"
      ]
    },
    {
      "cell_type": "code",
      "execution_count": 8,
      "id": "b870117b",
      "metadata": {
        "id": "b870117b"
      },
      "outputs": [],
      "source": [
        "pd.set_option(\"display.max_colwidth\", 300)"
      ]
    },
    {
      "cell_type": "markdown",
      "id": "8a425b33",
      "metadata": {
        "id": "8a425b33"
      },
      "source": [
        "### Define Helper Functions"
      ]
    },
    {
      "cell_type": "code",
      "execution_count": 9,
      "id": "9a135635",
      "metadata": {
        "id": "9a135635"
      },
      "outputs": [],
      "source": [
        "def show_df(df: pd.DataFrame) -> pd.DataFrame:\n",
        "    print(df.shape)\n",
        "    return df.head()"
      ]
    },
    {
      "cell_type": "markdown",
      "id": "48826990",
      "metadata": {
        "id": "48826990"
      },
      "source": [
        "## 1. Load PDF Data"
      ]
    },
    {
      "cell_type": "markdown",
      "id": "b2992812-4705-489d-974f-b7b44132343a",
      "metadata": {
        "id": "b2992812-4705-489d-974f-b7b44132343a"
      },
      "source": [
        "### Read Text From PDF Document\n",
        "\n",
        "We leverage the power of PyPDF using LangChain's PyPDFLoader. The code below extracts content from each page of the PDF and processes it to identify sentences.\n",
        "\n",
        "The PDF we are using is [this research paper](https://arxiv.org/pdf/2308.05801.pdf) presenting information on the formation of Interstellar Objects in the Milky Way."
      ]
    },
    {
      "cell_type": "code",
      "source": [
        "loader = PyPDFLoader(\"data/research_paper.pdf\")\n",
        "doc = loader.load()"
      ],
      "metadata": {
        "id": "TTnBqS9AEj5h"
      },
      "id": "TTnBqS9AEj5h",
      "execution_count": 10,
      "outputs": []
    },
    {
      "cell_type": "markdown",
      "id": "65ec052a",
      "metadata": {
        "id": "65ec052a"
      },
      "source": [
        "### Split The Text Into Chunks"
      ]
    },
    {
      "cell_type": "code",
      "source": [
        "# Chunk the documents into 500 character chunks using langchain's text splitter \"RucursiveCharacterTextSplitter\"\n",
        "text_splitter = RecursiveCharacterTextSplitter(chunk_size=500, chunk_overlap=0)"
      ],
      "metadata": {
        "id": "rLmhYLLCDRRF"
      },
      "id": "rLmhYLLCDRRF",
      "execution_count": 11,
      "outputs": []
    },
    {
      "cell_type": "code",
      "source": [
        "# split_documents produces a list of all the chunks created, printing out first chunk for example\n",
        "pdf_chunks = [p.page_content for p in text_splitter.split_documents(doc)]"
      ],
      "metadata": {
        "id": "AtA_VjP8DaGv"
      },
      "id": "AtA_VjP8DaGv",
      "execution_count": 12,
      "outputs": []
    },
    {
      "cell_type": "code",
      "execution_count": 14,
      "id": "5cbf9ede-6ed3-4171-bc77-2da673dcff6b",
      "metadata": {
        "colab": {
          "base_uri": "https://localhost:8080/",
          "height": 111
        },
        "id": "5cbf9ede-6ed3-4171-bc77-2da673dcff6b",
        "outputId": "d0cfe3dc-951f-4dcd-a3c3-446ee5e3a8bd"
      },
      "outputs": [
        {
          "output_type": "execute_result",
          "data": {
            "text/plain": [
              "'Draft version August 14, 2023\\nTypeset using L ATEX default style in AASTeX631\\nThe Galactic Interstellar Object Population: A Framework for Prediction and Inference\\nMatthew J. Hopkins\\n ,1Chris Lintott\\n ,1Michele T. Bannister\\n ,2J. Ted Mackereth\\n ,3, 4, 5, ∗and\\nJohn C. Forbes\\n2\\n1Department of Physics, University of Oxford, Denys Wilkinson Building, Keble Road, Oxford, OX1 3RH, UK'"
            ],
            "application/vnd.google.colaboratory.intrinsic+json": {
              "type": "string"
            }
          },
          "metadata": {},
          "execution_count": 14
        }
      ],
      "source": [
        "pdf_chunks[0]"
      ]
    },
    {
      "cell_type": "code",
      "source": [
        "cleaned_chunks = []\n",
        "for chunk in pdf_chunks:\n",
        "    cleaned_chunk = chunk.replace(\"\\n\", \" \")\n",
        "    cleaned_chunks.append(cleaned_chunk)\n",
        "pdf_chunks = cleaned_chunks\n"
      ],
      "metadata": {
        "id": "lodQV6U_QTLv"
      },
      "id": "lodQV6U_QTLv",
      "execution_count": 19,
      "outputs": []
    },
    {
      "cell_type": "markdown",
      "id": "d9ea4179-8b26-4c40-89aa-ef6da11aafdf",
      "metadata": {
        "id": "d9ea4179-8b26-4c40-89aa-ef6da11aafdf"
      },
      "source": [
        "## 2. Create Sentence Vector Embeddings"
      ]
    },
    {
      "cell_type": "markdown",
      "id": "3ae1706a-6046-4dae-9b54-a59d4805f286",
      "metadata": {
        "id": "3ae1706a-6046-4dae-9b54-a59d4805f286"
      },
      "source": [
        "Next, we use the Sentence Transformers library to create embeddings for our collection of sentences.\n",
        "\n",
        "### Selecting a Sentence Transformer Model\n",
        "\n",
        "There are 100+ of different types of Sentence Transformers models available - see [HuggingFace](https://huggingface.co/sentence-transformers) for the full list. The diversity among these primarily stems from variations in their training data. Selecting the ideal model for your needs involves matching the domain and task closely, while also considering the benefits of incorporating larger datasets to enhance scale.\n",
        "\n",
        "This tutorial will use the `all-MiniLM-L6-v2` pre-trained model. This embedding model can create sentence and document embeddings that can be used for a wide variety of tasks including semantic search which makes it a good choice for our needs."
      ]
    },
    {
      "cell_type": "code",
      "execution_count": null,
      "id": "665d805f",
      "metadata": {
        "id": "665d805f"
      },
      "outputs": [],
      "source": [
        "model = SentenceTransformer(\"all-MiniLM-L6-v2\")"
      ]
    },
    {
      "cell_type": "markdown",
      "id": "7fa4aaf7-69c5-4c56-b058-32ced66a62ee",
      "metadata": {
        "id": "7fa4aaf7-69c5-4c56-b058-32ced66a62ee"
      },
      "source": [
        "### Generate Sentence Embeddings Using This Model\n",
        "\n",
        "We prepare embeddings by applying the sentence transformer model to our sentences to encode them. The we do some transformation to get this into DataFrame which is the format accepted by KDB.AI."
      ]
    },
    {
      "cell_type": "code",
      "execution_count": 22,
      "id": "bddc4003",
      "metadata": {
        "id": "bddc4003"
      },
      "outputs": [],
      "source": [
        "# Create embeddings\n",
        "embeddings_list = model.encode(np.array(pdf_chunks)).tolist()\n",
        "embeddings_df = pd.DataFrame({\"vectors\": embeddings_list, \"sentences\": pdf_chunks})"
      ]
    },
    {
      "cell_type": "code",
      "execution_count": 23,
      "id": "1d05b99a-121c-429e-864a-ee4bc5739224",
      "metadata": {
        "colab": {
          "base_uri": "https://localhost:8080/",
          "height": 796
        },
        "id": "1d05b99a-121c-429e-864a-ee4bc5739224",
        "outputId": "ee0cbf13-57aa-46a2-bda8-6f461e1862ea"
      },
      "outputs": [
        {
          "output_type": "stream",
          "name": "stdout",
          "text": [
            "(177, 2)\n"
          ]
        },
        {
          "output_type": "execute_result",
          "data": {
            "text/plain": [
              "                                                                                                                                                                                                                                                                                                       vectors  \\\n",
              "0  [-0.05836932361125946, -0.09570957720279694, 0.09096840023994446, 0.08964202553033829, -0.0016967009287327528, -0.007497997023165226, -0.04162970557808876, 0.052305180579423904, 0.0187312513589859, 0.04670504108071327, -0.010419736616313457, -0.08292997628450394, -0.024917449802160263, -0.046881...   \n",
              "1  [-0.0750979408621788, -0.0819830521941185, 0.07326588034629822, 0.09153451770544052, 0.03397738188505173, -0.055389612913131714, -0.05017055571079254, -0.04132988676428795, 0.05165640637278557, -0.021904826164245605, -0.030745334923267365, -0.09236758947372437, -0.04359031468629837, -0.031650699...   \n",
              "2  [-0.0873275175690651, -0.11289384961128235, 0.06424403935670853, 0.07887156307697296, 0.04632219672203064, -0.07177848368883133, -0.04732842743396759, 0.038410428911447525, 0.029449230059981346, 0.03104921244084835, 0.0027609155513346195, -0.10972756892442703, -0.0008616013801656663, -0.02070042...   \n",
              "3  [-0.0460510216653347, -0.0047828322276473045, 0.06719707697629929, 0.07736083120107651, -0.0483601875603199, -0.02022170089185238, 0.012577960267663002, 0.027407987043261528, 0.03376094996929169, 0.04556810110807419, 0.03773481771349907, -0.13278351724147797, 0.02866959013044834, -0.004317905288...   \n",
              "4  [-0.09910354763269424, 0.014781934209167957, 0.06315221637487411, 0.07686097919940948, 0.035197123885154724, -0.018099332228302956, 0.02634289488196373, 0.009751057252287865, -0.012997588142752647, -0.03471815958619118, -0.06396297365427017, -0.1404487043619156, 0.04472656175494194, 0.0024918657...   \n",
              "\n",
              "                                                                                                                                                                                                                                                                                                     sentences  \n",
              "0  Draft version August 14, 2023 Typeset using L ATEX default style in AASTeX631 The Galactic Interstellar Object Population: A Framework for Prediction and Inference Matthew J. Hopkins  ,1Chris Lintott  ,1Michele T. Bannister  ,2J. Ted Mackereth  ,3, 4, 5, ∗and John C. Forbes 2 1Department of Phys...  \n",
              "1  2School of Physical and Chemical Sciences—Te Kura Mat¯ u, University of Canterbury, Private Bag 4800, Christchurch 8140, New Zealand 3Just Group plc, Enterprise House, Bancroft road, Reigate, Surrey RH2 7RP, UK 4Canadian Institute for Theoretical Astrophysics, University of Toronto, 60 St. Georg...  \n",
              "2  The Milky Way is thought to host a huge population of interstellar objects (ISOs), numbering approximately 1015pc−3around the Sun, which are formed and shaped by a diverse set of processes ranging from planet formation to galactic dynamics. We define a novel framework: firstly to predict the pro...  \n",
              "3  predicted population to what is observed. We predict the spatial and compositional distribution of the Galaxy’s population of ISOs by modelling the Galactic stellar population with data from the APOGEE survey and combining this with a protoplanetary disk chemistry model. Selecting ISO water mass...  \n",
              "4  and averaged over the Galactic disk; our prediction for the Solar neighbourhood is compatible with the inferred water mass fraction of 2I/Borisov. We show that the well-studied Galactic stellar metallicity gradient has a corresponding ISO compositional gradient. We also demonstrate the inference...  "
            ],
            "text/html": [
              "\n",
              "  <div id=\"df-d3ca779b-48b4-4797-aa93-a8d7fba65fe7\" class=\"colab-df-container\">\n",
              "    <div>\n",
              "<style scoped>\n",
              "    .dataframe tbody tr th:only-of-type {\n",
              "        vertical-align: middle;\n",
              "    }\n",
              "\n",
              "    .dataframe tbody tr th {\n",
              "        vertical-align: top;\n",
              "    }\n",
              "\n",
              "    .dataframe thead th {\n",
              "        text-align: right;\n",
              "    }\n",
              "</style>\n",
              "<table border=\"1\" class=\"dataframe\">\n",
              "  <thead>\n",
              "    <tr style=\"text-align: right;\">\n",
              "      <th></th>\n",
              "      <th>vectors</th>\n",
              "      <th>sentences</th>\n",
              "    </tr>\n",
              "  </thead>\n",
              "  <tbody>\n",
              "    <tr>\n",
              "      <th>0</th>\n",
              "      <td>[-0.05836932361125946, -0.09570957720279694, 0.09096840023994446, 0.08964202553033829, -0.0016967009287327528, -0.007497997023165226, -0.04162970557808876, 0.052305180579423904, 0.0187312513589859, 0.04670504108071327, -0.010419736616313457, -0.08292997628450394, -0.024917449802160263, -0.046881...</td>\n",
              "      <td>Draft version August 14, 2023 Typeset using L ATEX default style in AASTeX631 The Galactic Interstellar Object Population: A Framework for Prediction and Inference Matthew J. Hopkins  ,1Chris Lintott  ,1Michele T. Bannister  ,2J. Ted Mackereth  ,3, 4, 5, ∗and John C. Forbes 2 1Department of Phys...</td>\n",
              "    </tr>\n",
              "    <tr>\n",
              "      <th>1</th>\n",
              "      <td>[-0.0750979408621788, -0.0819830521941185, 0.07326588034629822, 0.09153451770544052, 0.03397738188505173, -0.055389612913131714, -0.05017055571079254, -0.04132988676428795, 0.05165640637278557, -0.021904826164245605, -0.030745334923267365, -0.09236758947372437, -0.04359031468629837, -0.031650699...</td>\n",
              "      <td>2School of Physical and Chemical Sciences—Te Kura Mat¯ u, University of Canterbury, Private Bag 4800, Christchurch 8140, New Zealand 3Just Group plc, Enterprise House, Bancroft road, Reigate, Surrey RH2 7RP, UK 4Canadian Institute for Theoretical Astrophysics, University of Toronto, 60 St. Georg...</td>\n",
              "    </tr>\n",
              "    <tr>\n",
              "      <th>2</th>\n",
              "      <td>[-0.0873275175690651, -0.11289384961128235, 0.06424403935670853, 0.07887156307697296, 0.04632219672203064, -0.07177848368883133, -0.04732842743396759, 0.038410428911447525, 0.029449230059981346, 0.03104921244084835, 0.0027609155513346195, -0.10972756892442703, -0.0008616013801656663, -0.02070042...</td>\n",
              "      <td>The Milky Way is thought to host a huge population of interstellar objects (ISOs), numbering approximately 1015pc−3around the Sun, which are formed and shaped by a diverse set of processes ranging from planet formation to galactic dynamics. We define a novel framework: firstly to predict the pro...</td>\n",
              "    </tr>\n",
              "    <tr>\n",
              "      <th>3</th>\n",
              "      <td>[-0.0460510216653347, -0.0047828322276473045, 0.06719707697629929, 0.07736083120107651, -0.0483601875603199, -0.02022170089185238, 0.012577960267663002, 0.027407987043261528, 0.03376094996929169, 0.04556810110807419, 0.03773481771349907, -0.13278351724147797, 0.02866959013044834, -0.004317905288...</td>\n",
              "      <td>predicted population to what is observed. We predict the spatial and compositional distribution of the Galaxy’s population of ISOs by modelling the Galactic stellar population with data from the APOGEE survey and combining this with a protoplanetary disk chemistry model. Selecting ISO water mass...</td>\n",
              "    </tr>\n",
              "    <tr>\n",
              "      <th>4</th>\n",
              "      <td>[-0.09910354763269424, 0.014781934209167957, 0.06315221637487411, 0.07686097919940948, 0.035197123885154724, -0.018099332228302956, 0.02634289488196373, 0.009751057252287865, -0.012997588142752647, -0.03471815958619118, -0.06396297365427017, -0.1404487043619156, 0.04472656175494194, 0.0024918657...</td>\n",
              "      <td>and averaged over the Galactic disk; our prediction for the Solar neighbourhood is compatible with the inferred water mass fraction of 2I/Borisov. We show that the well-studied Galactic stellar metallicity gradient has a corresponding ISO compositional gradient. We also demonstrate the inference...</td>\n",
              "    </tr>\n",
              "  </tbody>\n",
              "</table>\n",
              "</div>\n",
              "    <div class=\"colab-df-buttons\">\n",
              "\n",
              "  <div class=\"colab-df-container\">\n",
              "    <button class=\"colab-df-convert\" onclick=\"convertToInteractive('df-d3ca779b-48b4-4797-aa93-a8d7fba65fe7')\"\n",
              "            title=\"Convert this dataframe to an interactive table.\"\n",
              "            style=\"display:none;\">\n",
              "\n",
              "  <svg xmlns=\"http://www.w3.org/2000/svg\" height=\"24px\" viewBox=\"0 -960 960 960\">\n",
              "    <path d=\"M120-120v-720h720v720H120Zm60-500h600v-160H180v160Zm220 220h160v-160H400v160Zm0 220h160v-160H400v160ZM180-400h160v-160H180v160Zm440 0h160v-160H620v160ZM180-180h160v-160H180v160Zm440 0h160v-160H620v160Z\"/>\n",
              "  </svg>\n",
              "    </button>\n",
              "\n",
              "  <style>\n",
              "    .colab-df-container {\n",
              "      display:flex;\n",
              "      gap: 12px;\n",
              "    }\n",
              "\n",
              "    .colab-df-convert {\n",
              "      background-color: #E8F0FE;\n",
              "      border: none;\n",
              "      border-radius: 50%;\n",
              "      cursor: pointer;\n",
              "      display: none;\n",
              "      fill: #1967D2;\n",
              "      height: 32px;\n",
              "      padding: 0 0 0 0;\n",
              "      width: 32px;\n",
              "    }\n",
              "\n",
              "    .colab-df-convert:hover {\n",
              "      background-color: #E2EBFA;\n",
              "      box-shadow: 0px 1px 2px rgba(60, 64, 67, 0.3), 0px 1px 3px 1px rgba(60, 64, 67, 0.15);\n",
              "      fill: #174EA6;\n",
              "    }\n",
              "\n",
              "    .colab-df-buttons div {\n",
              "      margin-bottom: 4px;\n",
              "    }\n",
              "\n",
              "    [theme=dark] .colab-df-convert {\n",
              "      background-color: #3B4455;\n",
              "      fill: #D2E3FC;\n",
              "    }\n",
              "\n",
              "    [theme=dark] .colab-df-convert:hover {\n",
              "      background-color: #434B5C;\n",
              "      box-shadow: 0px 1px 3px 1px rgba(0, 0, 0, 0.15);\n",
              "      filter: drop-shadow(0px 1px 2px rgba(0, 0, 0, 0.3));\n",
              "      fill: #FFFFFF;\n",
              "    }\n",
              "  </style>\n",
              "\n",
              "    <script>\n",
              "      const buttonEl =\n",
              "        document.querySelector('#df-d3ca779b-48b4-4797-aa93-a8d7fba65fe7 button.colab-df-convert');\n",
              "      buttonEl.style.display =\n",
              "        google.colab.kernel.accessAllowed ? 'block' : 'none';\n",
              "\n",
              "      async function convertToInteractive(key) {\n",
              "        const element = document.querySelector('#df-d3ca779b-48b4-4797-aa93-a8d7fba65fe7');\n",
              "        const dataTable =\n",
              "          await google.colab.kernel.invokeFunction('convertToInteractive',\n",
              "                                                    [key], {});\n",
              "        if (!dataTable) return;\n",
              "\n",
              "        const docLinkHtml = 'Like what you see? Visit the ' +\n",
              "          '<a target=\"_blank\" href=https://colab.research.google.com/notebooks/data_table.ipynb>data table notebook</a>'\n",
              "          + ' to learn more about interactive tables.';\n",
              "        element.innerHTML = '';\n",
              "        dataTable['output_type'] = 'display_data';\n",
              "        await google.colab.output.renderOutput(dataTable, element);\n",
              "        const docLink = document.createElement('div');\n",
              "        docLink.innerHTML = docLinkHtml;\n",
              "        element.appendChild(docLink);\n",
              "      }\n",
              "    </script>\n",
              "  </div>\n",
              "\n",
              "\n",
              "<div id=\"df-40077a8d-d4ed-47a2-b0bd-a12908748e78\">\n",
              "  <button class=\"colab-df-quickchart\" onclick=\"quickchart('df-40077a8d-d4ed-47a2-b0bd-a12908748e78')\"\n",
              "            title=\"Suggest charts\"\n",
              "            style=\"display:none;\">\n",
              "\n",
              "<svg xmlns=\"http://www.w3.org/2000/svg\" height=\"24px\"viewBox=\"0 0 24 24\"\n",
              "     width=\"24px\">\n",
              "    <g>\n",
              "        <path d=\"M19 3H5c-1.1 0-2 .9-2 2v14c0 1.1.9 2 2 2h14c1.1 0 2-.9 2-2V5c0-1.1-.9-2-2-2zM9 17H7v-7h2v7zm4 0h-2V7h2v10zm4 0h-2v-4h2v4z\"/>\n",
              "    </g>\n",
              "</svg>\n",
              "  </button>\n",
              "\n",
              "<style>\n",
              "  .colab-df-quickchart {\n",
              "      --bg-color: #E8F0FE;\n",
              "      --fill-color: #1967D2;\n",
              "      --hover-bg-color: #E2EBFA;\n",
              "      --hover-fill-color: #174EA6;\n",
              "      --disabled-fill-color: #AAA;\n",
              "      --disabled-bg-color: #DDD;\n",
              "  }\n",
              "\n",
              "  [theme=dark] .colab-df-quickchart {\n",
              "      --bg-color: #3B4455;\n",
              "      --fill-color: #D2E3FC;\n",
              "      --hover-bg-color: #434B5C;\n",
              "      --hover-fill-color: #FFFFFF;\n",
              "      --disabled-bg-color: #3B4455;\n",
              "      --disabled-fill-color: #666;\n",
              "  }\n",
              "\n",
              "  .colab-df-quickchart {\n",
              "    background-color: var(--bg-color);\n",
              "    border: none;\n",
              "    border-radius: 50%;\n",
              "    cursor: pointer;\n",
              "    display: none;\n",
              "    fill: var(--fill-color);\n",
              "    height: 32px;\n",
              "    padding: 0;\n",
              "    width: 32px;\n",
              "  }\n",
              "\n",
              "  .colab-df-quickchart:hover {\n",
              "    background-color: var(--hover-bg-color);\n",
              "    box-shadow: 0 1px 2px rgba(60, 64, 67, 0.3), 0 1px 3px 1px rgba(60, 64, 67, 0.15);\n",
              "    fill: var(--button-hover-fill-color);\n",
              "  }\n",
              "\n",
              "  .colab-df-quickchart-complete:disabled,\n",
              "  .colab-df-quickchart-complete:disabled:hover {\n",
              "    background-color: var(--disabled-bg-color);\n",
              "    fill: var(--disabled-fill-color);\n",
              "    box-shadow: none;\n",
              "  }\n",
              "\n",
              "  .colab-df-spinner {\n",
              "    border: 2px solid var(--fill-color);\n",
              "    border-color: transparent;\n",
              "    border-bottom-color: var(--fill-color);\n",
              "    animation:\n",
              "      spin 1s steps(1) infinite;\n",
              "  }\n",
              "\n",
              "  @keyframes spin {\n",
              "    0% {\n",
              "      border-color: transparent;\n",
              "      border-bottom-color: var(--fill-color);\n",
              "      border-left-color: var(--fill-color);\n",
              "    }\n",
              "    20% {\n",
              "      border-color: transparent;\n",
              "      border-left-color: var(--fill-color);\n",
              "      border-top-color: var(--fill-color);\n",
              "    }\n",
              "    30% {\n",
              "      border-color: transparent;\n",
              "      border-left-color: var(--fill-color);\n",
              "      border-top-color: var(--fill-color);\n",
              "      border-right-color: var(--fill-color);\n",
              "    }\n",
              "    40% {\n",
              "      border-color: transparent;\n",
              "      border-right-color: var(--fill-color);\n",
              "      border-top-color: var(--fill-color);\n",
              "    }\n",
              "    60% {\n",
              "      border-color: transparent;\n",
              "      border-right-color: var(--fill-color);\n",
              "    }\n",
              "    80% {\n",
              "      border-color: transparent;\n",
              "      border-right-color: var(--fill-color);\n",
              "      border-bottom-color: var(--fill-color);\n",
              "    }\n",
              "    90% {\n",
              "      border-color: transparent;\n",
              "      border-bottom-color: var(--fill-color);\n",
              "    }\n",
              "  }\n",
              "</style>\n",
              "\n",
              "  <script>\n",
              "    async function quickchart(key) {\n",
              "      const quickchartButtonEl =\n",
              "        document.querySelector('#' + key + ' button');\n",
              "      quickchartButtonEl.disabled = true;  // To prevent multiple clicks.\n",
              "      quickchartButtonEl.classList.add('colab-df-spinner');\n",
              "      try {\n",
              "        const charts = await google.colab.kernel.invokeFunction(\n",
              "            'suggestCharts', [key], {});\n",
              "      } catch (error) {\n",
              "        console.error('Error during call to suggestCharts:', error);\n",
              "      }\n",
              "      quickchartButtonEl.classList.remove('colab-df-spinner');\n",
              "      quickchartButtonEl.classList.add('colab-df-quickchart-complete');\n",
              "    }\n",
              "    (() => {\n",
              "      let quickchartButtonEl =\n",
              "        document.querySelector('#df-40077a8d-d4ed-47a2-b0bd-a12908748e78 button');\n",
              "      quickchartButtonEl.style.display =\n",
              "        google.colab.kernel.accessAllowed ? 'block' : 'none';\n",
              "    })();\n",
              "  </script>\n",
              "</div>\n",
              "\n",
              "    </div>\n",
              "  </div>\n"
            ],
            "application/vnd.google.colaboratory.intrinsic+json": {
              "type": "dataframe",
              "summary": "{\n  \"name\": \"show_df(embeddings_df)\",\n  \"rows\": 5,\n  \"fields\": [\n    {\n      \"column\": \"vectors\",\n      \"properties\": {\n        \"dtype\": \"object\",\n        \"semantic_type\": \"\",\n        \"description\": \"\"\n      }\n    },\n    {\n      \"column\": \"sentences\",\n      \"properties\": {\n        \"dtype\": \"string\",\n        \"num_unique_values\": 5,\n        \"samples\": [\n          \"2School of Physical and Chemical Sciences\\u2014Te Kura Mat\\u00af u, University of Canterbury, Private Bag 4800, Christchurch 8140, New Zealand 3Just Group plc, Enterprise House, Bancroft road, Reigate, Surrey RH2 7RP, UK 4Canadian Institute for Theoretical Astrophysics, University of Toronto, 60 St. George Street, Toronto, ON, M5S 3H8, Canada 5Dunlap Institute for Astronomy and Astrophysics, University of Toronto, 50 St. George Street, Toronto, ON M5S 3H4, Canada ABSTRACT\",\n          \"and averaged over the Galactic disk; our prediction for the Solar neighbourhood is compatible with the inferred water mass fraction of 2I/Borisov. We show that the well-studied Galactic stellar metallicity gradient has a corresponding ISO compositional gradient. We also demonstrate the inference part of the framework by using the current observed ISO composition distribution to constrain the parent star\",\n          \"The Milky Way is thought to host a huge population of interstellar objects (ISOs), numbering approximately 1015pc\\u22123around the Sun, which are formed and shaped by a diverse set of processes ranging from planet formation to galactic dynamics. We define a novel framework: firstly to predict the properties of this Galactic ISO population by combining models of processes across planetary and galactic scales, and secondly to make inferences about the processes modelled, by comparing the\"\n        ],\n        \"semantic_type\": \"\",\n        \"description\": \"\"\n      }\n    }\n  ]\n}"
            }
          },
          "metadata": {},
          "execution_count": 23
        }
      ],
      "source": [
        "show_df(embeddings_df)"
      ]
    },
    {
      "cell_type": "markdown",
      "id": "edd119e3",
      "metadata": {
        "id": "edd119e3"
      },
      "source": [
        "It is important to note the dimension of our embeddings is 384. This will need to match the dimensions we set in the KDB.AI index in the next step. We can easily check this using `len` to count elements in our vector."
      ]
    },
    {
      "cell_type": "code",
      "execution_count": 24,
      "id": "ce60a36c",
      "metadata": {
        "colab": {
          "base_uri": "https://localhost:8080/"
        },
        "id": "ce60a36c",
        "outputId": "805d875a-7753-4ba3-da19-2a32f9195513"
      },
      "outputs": [
        {
          "output_type": "execute_result",
          "data": {
            "text/plain": [
              "384"
            ]
          },
          "metadata": {},
          "execution_count": 24
        }
      ],
      "source": [
        "len(embeddings_df[\"vectors\"][0])"
      ]
    },
    {
      "cell_type": "markdown",
      "id": "8c1f910b",
      "metadata": {
        "id": "8c1f910b"
      },
      "source": [
        "## 3. Store Embeddings in KDB.AI"
      ]
    },
    {
      "cell_type": "markdown",
      "id": "70505eae-4138-4ba8-80e9-fc13c37d0b32",
      "metadata": {
        "id": "70505eae-4138-4ba8-80e9-fc13c37d0b32"
      },
      "source": [
        "With the embeddings created, we need to store them in a vector database to enable efficient searching.\n",
        "\n",
        "### Define KDB.AI Session\n",
        "\n",
        "KDB.AI comes in two offerings:\n",
        "\n",
        "1. [KDB.AI Cloud](https://trykdb.kx.com/kdbai/signup/) - For experimenting with smaller generative AI projects with a vector database in our cloud.\n",
        "2. [KDB.AI Server](https://trykdb.kx.com/kdbaiserver/signup/) - For evaluating large scale generative AI applications on-premises or on your own cloud provider.\n",
        "\n",
        "Depending on which you use there will be different setup steps and connection details required.\n",
        "\n",
        "##### Option 1. KDB.AI Cloud\n",
        "\n",
        "To use KDB.AI Cloud, you will need two session details - a URL endpoint and an API key.\n",
        "To get these you can sign up for free [here](https://trykdb.kx.com/kdbai/signup).\n",
        "\n",
        "You can connect to a KDB.AI Cloud session using `kdbai.Session` and passing the session URL endpoint and API key details from your KDB.AI Cloud portal.\n",
        "\n",
        "If the environment variables `KDBAI_ENDPOINTS` and `KDBAI_API_KEY` exist on your system containing your KDB.AI Cloud portal details, these variables will automatically be used to connect.\n",
        "If these do not exist, it will prompt you to enter your KDB.AI Cloud portal session URL endpoint and API key details."
      ]
    },
    {
      "cell_type": "code",
      "execution_count": null,
      "id": "401f8162",
      "metadata": {
        "id": "401f8162"
      },
      "outputs": [],
      "source": [
        "KDBAI_ENDPOINT = (\n",
        "    os.environ[\"KDBAI_ENDPOINT\"]\n",
        "    if \"KDBAI_ENDPOINT\" in os.environ\n",
        "    else input(\"KDB.AI endpoint: \")\n",
        ")\n",
        "KDBAI_API_KEY = (\n",
        "    os.environ[\"KDBAI_API_KEY\"]\n",
        "    if \"KDBAI_API_KEY\" in os.environ\n",
        "    else getpass(\"KDB.AI API key: \")\n",
        ")"
      ]
    },
    {
      "cell_type": "code",
      "execution_count": 26,
      "id": "3b3a4932",
      "metadata": {
        "id": "3b3a4932"
      },
      "outputs": [],
      "source": [
        "session = kdbai.Session(api_key=KDBAI_API_KEY, endpoint=KDBAI_ENDPOINT)"
      ]
    },
    {
      "cell_type": "markdown",
      "id": "b53a7384",
      "metadata": {
        "id": "b53a7384"
      },
      "source": [
        "##### Option 2. KDB.AI Server\n",
        "\n",
        "To use KDB.AI Server, you will need download and run your own container.\n",
        "To do this, you will first need to sign up for free [here](https://trykdb.kx.com/kdbaiserver/signup/).\n",
        "\n",
        "You will receive an email with the required license file and bearer token needed to download your instance.\n",
        "Follow instructions in the signup email to get your session up and running.\n",
        "\n",
        "Once the [setup steps](https://code.kx.com/kdbai/gettingStarted/kdb-ai-server-setup.html) are complete you can then connect to your KDB.AI Server session using `kdbai.Session` and passing your local endpoint."
      ]
    },
    {
      "cell_type": "code",
      "execution_count": null,
      "id": "f48fc536",
      "metadata": {
        "id": "f48fc536"
      },
      "outputs": [],
      "source": [
        "# session = kdbai.Session(endpoint=\"http://localhost:8082\")"
      ]
    },
    {
      "cell_type": "markdown",
      "id": "48c6525c",
      "metadata": {
        "id": "48c6525c"
      },
      "source": [
        "### Define Vector DB Table Schema\n",
        "\n",
        "The next step is to define a schema for our KDB.AI table where we will store our embeddings. Our table will have two columns.\n",
        "\n",
        "At this point you will select the index and metric you want to use for searching.\n",
        "\n",
        "In this case, we will use the qFlat index, Euclidean Distance (L2) for the search metric, and we specify the number of dimensions of our embeddings (384)."
      ]
    },
    {
      "cell_type": "code",
      "execution_count": 27,
      "id": "af604df0",
      "metadata": {
        "id": "af604df0"
      },
      "outputs": [],
      "source": [
        "pdf_schema = {\n",
        "    \"columns\": [\n",
        "        {\"name\": \"sentences\", \"pytype\": \"str\"},\n",
        "        {\n",
        "            \"name\": \"vectors\",\n",
        "            \"pytype\": \"float64\",\n",
        "            \"vectorIndex\": {\"dims\": 384, \"metric\": \"L2\", \"type\": \"qFlat\"},\n",
        "        },\n",
        "    ]\n",
        "}"
      ]
    },
    {
      "cell_type": "markdown",
      "id": "518cfe1e",
      "metadata": {
        "id": "518cfe1e"
      },
      "source": [
        "### Create Vector DB Table\n",
        "\n",
        "Use the KDB.AI `create_table` function to create a table that matches the defined schema in the vector database."
      ]
    },
    {
      "cell_type": "code",
      "execution_count": 28,
      "id": "6e670f9e",
      "metadata": {
        "id": "6e670f9e"
      },
      "outputs": [],
      "source": [
        "# First ensure the table does not already exist\n",
        "try:\n",
        "    session.table(\"pdf\").drop()\n",
        "except kdbai.KDBAIException:\n",
        "    pass"
      ]
    },
    {
      "cell_type": "code",
      "execution_count": 29,
      "id": "e1d190db-7c19-418e-9140-3dff04c9d4c0",
      "metadata": {
        "id": "e1d190db-7c19-418e-9140-3dff04c9d4c0"
      },
      "outputs": [],
      "source": [
        "table = session.create_table(\"pdf\", pdf_schema)"
      ]
    },
    {
      "cell_type": "markdown",
      "id": "466068bc",
      "metadata": {
        "id": "466068bc"
      },
      "source": [
        "We can use `query` to see our table exists but is empty."
      ]
    },
    {
      "cell_type": "code",
      "execution_count": 30,
      "id": "74e7332e",
      "metadata": {
        "colab": {
          "base_uri": "https://localhost:8080/",
          "height": 53
        },
        "id": "74e7332e",
        "outputId": "fe496b8b-d003-4c0d-aa10-21846b69ce45"
      },
      "outputs": [
        {
          "output_type": "execute_result",
          "data": {
            "text/plain": [
              "Empty DataFrame\n",
              "Columns: [sentences, vectors]\n",
              "Index: []"
            ],
            "text/html": [
              "\n",
              "  <div id=\"df-e8f7c4fb-992a-4f30-9c8c-d756156a873e\" class=\"colab-df-container\">\n",
              "    <div>\n",
              "<style scoped>\n",
              "    .dataframe tbody tr th:only-of-type {\n",
              "        vertical-align: middle;\n",
              "    }\n",
              "\n",
              "    .dataframe tbody tr th {\n",
              "        vertical-align: top;\n",
              "    }\n",
              "\n",
              "    .dataframe thead th {\n",
              "        text-align: right;\n",
              "    }\n",
              "</style>\n",
              "<table border=\"1\" class=\"dataframe\">\n",
              "  <thead>\n",
              "    <tr style=\"text-align: right;\">\n",
              "      <th></th>\n",
              "      <th>sentences</th>\n",
              "      <th>vectors</th>\n",
              "    </tr>\n",
              "  </thead>\n",
              "  <tbody>\n",
              "  </tbody>\n",
              "</table>\n",
              "</div>\n",
              "    <div class=\"colab-df-buttons\">\n",
              "\n",
              "  <div class=\"colab-df-container\">\n",
              "    <button class=\"colab-df-convert\" onclick=\"convertToInteractive('df-e8f7c4fb-992a-4f30-9c8c-d756156a873e')\"\n",
              "            title=\"Convert this dataframe to an interactive table.\"\n",
              "            style=\"display:none;\">\n",
              "\n",
              "  <svg xmlns=\"http://www.w3.org/2000/svg\" height=\"24px\" viewBox=\"0 -960 960 960\">\n",
              "    <path d=\"M120-120v-720h720v720H120Zm60-500h600v-160H180v160Zm220 220h160v-160H400v160Zm0 220h160v-160H400v160ZM180-400h160v-160H180v160Zm440 0h160v-160H620v160ZM180-180h160v-160H180v160Zm440 0h160v-160H620v160Z\"/>\n",
              "  </svg>\n",
              "    </button>\n",
              "\n",
              "  <style>\n",
              "    .colab-df-container {\n",
              "      display:flex;\n",
              "      gap: 12px;\n",
              "    }\n",
              "\n",
              "    .colab-df-convert {\n",
              "      background-color: #E8F0FE;\n",
              "      border: none;\n",
              "      border-radius: 50%;\n",
              "      cursor: pointer;\n",
              "      display: none;\n",
              "      fill: #1967D2;\n",
              "      height: 32px;\n",
              "      padding: 0 0 0 0;\n",
              "      width: 32px;\n",
              "    }\n",
              "\n",
              "    .colab-df-convert:hover {\n",
              "      background-color: #E2EBFA;\n",
              "      box-shadow: 0px 1px 2px rgba(60, 64, 67, 0.3), 0px 1px 3px 1px rgba(60, 64, 67, 0.15);\n",
              "      fill: #174EA6;\n",
              "    }\n",
              "\n",
              "    .colab-df-buttons div {\n",
              "      margin-bottom: 4px;\n",
              "    }\n",
              "\n",
              "    [theme=dark] .colab-df-convert {\n",
              "      background-color: #3B4455;\n",
              "      fill: #D2E3FC;\n",
              "    }\n",
              "\n",
              "    [theme=dark] .colab-df-convert:hover {\n",
              "      background-color: #434B5C;\n",
              "      box-shadow: 0px 1px 3px 1px rgba(0, 0, 0, 0.15);\n",
              "      filter: drop-shadow(0px 1px 2px rgba(0, 0, 0, 0.3));\n",
              "      fill: #FFFFFF;\n",
              "    }\n",
              "  </style>\n",
              "\n",
              "    <script>\n",
              "      const buttonEl =\n",
              "        document.querySelector('#df-e8f7c4fb-992a-4f30-9c8c-d756156a873e button.colab-df-convert');\n",
              "      buttonEl.style.display =\n",
              "        google.colab.kernel.accessAllowed ? 'block' : 'none';\n",
              "\n",
              "      async function convertToInteractive(key) {\n",
              "        const element = document.querySelector('#df-e8f7c4fb-992a-4f30-9c8c-d756156a873e');\n",
              "        const dataTable =\n",
              "          await google.colab.kernel.invokeFunction('convertToInteractive',\n",
              "                                                    [key], {});\n",
              "        if (!dataTable) return;\n",
              "\n",
              "        const docLinkHtml = 'Like what you see? Visit the ' +\n",
              "          '<a target=\"_blank\" href=https://colab.research.google.com/notebooks/data_table.ipynb>data table notebook</a>'\n",
              "          + ' to learn more about interactive tables.';\n",
              "        element.innerHTML = '';\n",
              "        dataTable['output_type'] = 'display_data';\n",
              "        await google.colab.output.renderOutput(dataTable, element);\n",
              "        const docLink = document.createElement('div');\n",
              "        docLink.innerHTML = docLinkHtml;\n",
              "        element.appendChild(docLink);\n",
              "      }\n",
              "    </script>\n",
              "  </div>\n",
              "\n",
              "\n",
              "    </div>\n",
              "  </div>\n"
            ],
            "application/vnd.google.colaboratory.intrinsic+json": {
              "type": "dataframe",
              "repr_error": "Out of range float values are not JSON compliant: nan"
            }
          },
          "metadata": {},
          "execution_count": 30
        }
      ],
      "source": [
        "table.query()"
      ]
    },
    {
      "cell_type": "markdown",
      "id": "9a0a9d0e-80b8-4e09-9101-d22667da551f",
      "metadata": {
        "id": "9a0a9d0e-80b8-4e09-9101-d22667da551f"
      },
      "source": [
        "### Add Embedded Data to KDB.AI Table"
      ]
    },
    {
      "cell_type": "code",
      "execution_count": 31,
      "id": "83cc156c-8071-4784-8c3e-a049b61e8668",
      "metadata": {
        "colab": {
          "base_uri": "https://localhost:8080/",
          "height": 41
        },
        "id": "83cc156c-8071-4784-8c3e-a049b61e8668",
        "outputId": "54c68c3d-22bc-4792-e7cc-3a7c375ecf60"
      },
      "outputs": [
        {
          "output_type": "execute_result",
          "data": {
            "text/plain": [
              "'Insert successful'"
            ],
            "application/vnd.google.colaboratory.intrinsic+json": {
              "type": "string"
            }
          },
          "metadata": {},
          "execution_count": 31
        }
      ],
      "source": [
        "table.insert(embeddings_df)"
      ]
    },
    {
      "cell_type": "markdown",
      "id": "e31a4ecd",
      "metadata": {
        "id": "e31a4ecd"
      },
      "source": [
        "### Verify Data Has Been Inserted\n",
        "\n",
        "Running `table.query()` should show us that data has been added."
      ]
    },
    {
      "cell_type": "code",
      "execution_count": 32,
      "id": "ee6ecb8d",
      "metadata": {
        "colab": {
          "base_uri": "https://localhost:8080/",
          "height": 831
        },
        "id": "ee6ecb8d",
        "outputId": "1bbc7c1c-755e-4155-f069-816cb3826c90"
      },
      "outputs": [
        {
          "output_type": "stream",
          "name": "stdout",
          "text": [
            "(177, 2)\n"
          ]
        },
        {
          "output_type": "execute_result",
          "data": {
            "text/plain": [
              "                                                                                                                                                                                                                                                                                                       vectors  \\\n",
              "0  [-0.058369324, -0.09570958, 0.0909684, 0.089642026, -0.0016967009, -0.007497997, -0.041629706, 0.05230518, 0.018731251, 0.04670504, -0.010419737, -0.08292998, -0.02491745, -0.04688102, -0.03619034, -0.010246917, 0.010703141, -0.08851221, 0.026034398, 0.046041407, 0.05991257, 0.06968561, 0.007134...   \n",
              "1  [-0.07509794, -0.08198305, 0.07326588, 0.09153452, 0.033977382, -0.055389613, -0.050170556, -0.041329887, 0.051656406, -0.021904826, -0.030745335, -0.09236759, -0.043590315, -0.0316507, 0.06475058, 0.012436966, -0.037336867, -0.08578171, 0.0125643825, 0.008734101, -0.031784117, 0.0033918184, -0....   \n",
              "2  [-0.08732752, -0.11289385, 0.06424404, 0.07887156, 0.046322197, -0.07177848, -0.047328427, 0.03841043, 0.02944923, 0.031049212, 0.0027609156, -0.10972757, -0.0008616014, -0.020700429, 0.030852202, -0.10038987, 0.03392497, -0.112470984, -0.009184576, 0.003726836, 0.0033985798, 0.073350705, -0.055...   \n",
              "3  [-0.04605102, -0.004782832, 0.06719708, 0.07736083, -0.048360188, -0.0202217, 0.01257796, 0.027407987, 0.03376095, 0.0455681, 0.037734818, -0.13278352, 0.02866959, -0.0043179053, 0.02555343, -0.09984318, -0.018692864, -0.025918748, 0.06574646, 0.028952502, -0.015121564, 0.07768005, -0.036640517,...   \n",
              "4  [-0.09910355, 0.014781934, 0.06315222, 0.07686098, 0.035197124, -0.018099332, 0.026342895, 0.009751057, -0.012997588, -0.03471816, -0.06396297, -0.1404487, 0.04472656, 0.0024918658, 0.011178071, -0.09807016, 0.012129602, -0.024170477, 0.020960514, 0.02431601, -0.014627528, 0.07360536, -0.0052580...   \n",
              "\n",
              "                                                                                                                                                                                                                                                                                                     sentences  \n",
              "0  Draft version August 14, 2023 Typeset using L ATEX default style in AASTeX631 The Galactic Interstellar Object Population: A Framework for Prediction and Inference Matthew J. Hopkins  ,1Chris Lintott  ,1Michele T. Bannister  ,2J. Ted Mackereth  ,3, 4, 5, ∗and John C. Forbes 2 1Department of Phys...  \n",
              "1  2School of Physical and Chemical Sciences—Te Kura Mat¯ u, University of Canterbury, Private Bag 4800, Christchurch 8140, New Zealand 3Just Group plc, Enterprise House, Bancroft road, Reigate, Surrey RH2 7RP, UK 4Canadian Institute for Theoretical Astrophysics, University of Toronto, 60 St. Georg...  \n",
              "2  The Milky Way is thought to host a huge population of interstellar objects (ISOs), numbering approximately 1015pc−3around the Sun, which are formed and shaped by a diverse set of processes ranging from planet formation to galactic dynamics. We define a novel framework: firstly to predict the pro...  \n",
              "3  predicted population to what is observed. We predict the spatial and compositional distribution of the Galaxy’s population of ISOs by modelling the Galactic stellar population with data from the APOGEE survey and combining this with a protoplanetary disk chemistry model. Selecting ISO water mass...  \n",
              "4  and averaged over the Galactic disk; our prediction for the Solar neighbourhood is compatible with the inferred water mass fraction of 2I/Borisov. We show that the well-studied Galactic stellar metallicity gradient has a corresponding ISO compositional gradient. We also demonstrate the inference...  "
            ],
            "text/html": [
              "\n",
              "  <div id=\"df-d4e69a6a-1724-4249-9ee3-2805eaa56f72\" class=\"colab-df-container\">\n",
              "    <div>\n",
              "<style scoped>\n",
              "    .dataframe tbody tr th:only-of-type {\n",
              "        vertical-align: middle;\n",
              "    }\n",
              "\n",
              "    .dataframe tbody tr th {\n",
              "        vertical-align: top;\n",
              "    }\n",
              "\n",
              "    .dataframe thead th {\n",
              "        text-align: right;\n",
              "    }\n",
              "</style>\n",
              "<table border=\"1\" class=\"dataframe\">\n",
              "  <thead>\n",
              "    <tr style=\"text-align: right;\">\n",
              "      <th></th>\n",
              "      <th>vectors</th>\n",
              "      <th>sentences</th>\n",
              "    </tr>\n",
              "  </thead>\n",
              "  <tbody>\n",
              "    <tr>\n",
              "      <th>0</th>\n",
              "      <td>[-0.058369324, -0.09570958, 0.0909684, 0.089642026, -0.0016967009, -0.007497997, -0.041629706, 0.05230518, 0.018731251, 0.04670504, -0.010419737, -0.08292998, -0.02491745, -0.04688102, -0.03619034, -0.010246917, 0.010703141, -0.08851221, 0.026034398, 0.046041407, 0.05991257, 0.06968561, 0.007134...</td>\n",
              "      <td>Draft version August 14, 2023 Typeset using L ATEX default style in AASTeX631 The Galactic Interstellar Object Population: A Framework for Prediction and Inference Matthew J. Hopkins  ,1Chris Lintott  ,1Michele T. Bannister  ,2J. Ted Mackereth  ,3, 4, 5, ∗and John C. Forbes 2 1Department of Phys...</td>\n",
              "    </tr>\n",
              "    <tr>\n",
              "      <th>1</th>\n",
              "      <td>[-0.07509794, -0.08198305, 0.07326588, 0.09153452, 0.033977382, -0.055389613, -0.050170556, -0.041329887, 0.051656406, -0.021904826, -0.030745335, -0.09236759, -0.043590315, -0.0316507, 0.06475058, 0.012436966, -0.037336867, -0.08578171, 0.0125643825, 0.008734101, -0.031784117, 0.0033918184, -0....</td>\n",
              "      <td>2School of Physical and Chemical Sciences—Te Kura Mat¯ u, University of Canterbury, Private Bag 4800, Christchurch 8140, New Zealand 3Just Group plc, Enterprise House, Bancroft road, Reigate, Surrey RH2 7RP, UK 4Canadian Institute for Theoretical Astrophysics, University of Toronto, 60 St. Georg...</td>\n",
              "    </tr>\n",
              "    <tr>\n",
              "      <th>2</th>\n",
              "      <td>[-0.08732752, -0.11289385, 0.06424404, 0.07887156, 0.046322197, -0.07177848, -0.047328427, 0.03841043, 0.02944923, 0.031049212, 0.0027609156, -0.10972757, -0.0008616014, -0.020700429, 0.030852202, -0.10038987, 0.03392497, -0.112470984, -0.009184576, 0.003726836, 0.0033985798, 0.073350705, -0.055...</td>\n",
              "      <td>The Milky Way is thought to host a huge population of interstellar objects (ISOs), numbering approximately 1015pc−3around the Sun, which are formed and shaped by a diverse set of processes ranging from planet formation to galactic dynamics. We define a novel framework: firstly to predict the pro...</td>\n",
              "    </tr>\n",
              "    <tr>\n",
              "      <th>3</th>\n",
              "      <td>[-0.04605102, -0.004782832, 0.06719708, 0.07736083, -0.048360188, -0.0202217, 0.01257796, 0.027407987, 0.03376095, 0.0455681, 0.037734818, -0.13278352, 0.02866959, -0.0043179053, 0.02555343, -0.09984318, -0.018692864, -0.025918748, 0.06574646, 0.028952502, -0.015121564, 0.07768005, -0.036640517,...</td>\n",
              "      <td>predicted population to what is observed. We predict the spatial and compositional distribution of the Galaxy’s population of ISOs by modelling the Galactic stellar population with data from the APOGEE survey and combining this with a protoplanetary disk chemistry model. Selecting ISO water mass...</td>\n",
              "    </tr>\n",
              "    <tr>\n",
              "      <th>4</th>\n",
              "      <td>[-0.09910355, 0.014781934, 0.06315222, 0.07686098, 0.035197124, -0.018099332, 0.026342895, 0.009751057, -0.012997588, -0.03471816, -0.06396297, -0.1404487, 0.04472656, 0.0024918658, 0.011178071, -0.09807016, 0.012129602, -0.024170477, 0.020960514, 0.02431601, -0.014627528, 0.07360536, -0.0052580...</td>\n",
              "      <td>and averaged over the Galactic disk; our prediction for the Solar neighbourhood is compatible with the inferred water mass fraction of 2I/Borisov. We show that the well-studied Galactic stellar metallicity gradient has a corresponding ISO compositional gradient. We also demonstrate the inference...</td>\n",
              "    </tr>\n",
              "  </tbody>\n",
              "</table>\n",
              "</div>\n",
              "    <div class=\"colab-df-buttons\">\n",
              "\n",
              "  <div class=\"colab-df-container\">\n",
              "    <button class=\"colab-df-convert\" onclick=\"convertToInteractive('df-d4e69a6a-1724-4249-9ee3-2805eaa56f72')\"\n",
              "            title=\"Convert this dataframe to an interactive table.\"\n",
              "            style=\"display:none;\">\n",
              "\n",
              "  <svg xmlns=\"http://www.w3.org/2000/svg\" height=\"24px\" viewBox=\"0 -960 960 960\">\n",
              "    <path d=\"M120-120v-720h720v720H120Zm60-500h600v-160H180v160Zm220 220h160v-160H400v160Zm0 220h160v-160H400v160ZM180-400h160v-160H180v160Zm440 0h160v-160H620v160ZM180-180h160v-160H180v160Zm440 0h160v-160H620v160Z\"/>\n",
              "  </svg>\n",
              "    </button>\n",
              "\n",
              "  <style>\n",
              "    .colab-df-container {\n",
              "      display:flex;\n",
              "      gap: 12px;\n",
              "    }\n",
              "\n",
              "    .colab-df-convert {\n",
              "      background-color: #E8F0FE;\n",
              "      border: none;\n",
              "      border-radius: 50%;\n",
              "      cursor: pointer;\n",
              "      display: none;\n",
              "      fill: #1967D2;\n",
              "      height: 32px;\n",
              "      padding: 0 0 0 0;\n",
              "      width: 32px;\n",
              "    }\n",
              "\n",
              "    .colab-df-convert:hover {\n",
              "      background-color: #E2EBFA;\n",
              "      box-shadow: 0px 1px 2px rgba(60, 64, 67, 0.3), 0px 1px 3px 1px rgba(60, 64, 67, 0.15);\n",
              "      fill: #174EA6;\n",
              "    }\n",
              "\n",
              "    .colab-df-buttons div {\n",
              "      margin-bottom: 4px;\n",
              "    }\n",
              "\n",
              "    [theme=dark] .colab-df-convert {\n",
              "      background-color: #3B4455;\n",
              "      fill: #D2E3FC;\n",
              "    }\n",
              "\n",
              "    [theme=dark] .colab-df-convert:hover {\n",
              "      background-color: #434B5C;\n",
              "      box-shadow: 0px 1px 3px 1px rgba(0, 0, 0, 0.15);\n",
              "      filter: drop-shadow(0px 1px 2px rgba(0, 0, 0, 0.3));\n",
              "      fill: #FFFFFF;\n",
              "    }\n",
              "  </style>\n",
              "\n",
              "    <script>\n",
              "      const buttonEl =\n",
              "        document.querySelector('#df-d4e69a6a-1724-4249-9ee3-2805eaa56f72 button.colab-df-convert');\n",
              "      buttonEl.style.display =\n",
              "        google.colab.kernel.accessAllowed ? 'block' : 'none';\n",
              "\n",
              "      async function convertToInteractive(key) {\n",
              "        const element = document.querySelector('#df-d4e69a6a-1724-4249-9ee3-2805eaa56f72');\n",
              "        const dataTable =\n",
              "          await google.colab.kernel.invokeFunction('convertToInteractive',\n",
              "                                                    [key], {});\n",
              "        if (!dataTable) return;\n",
              "\n",
              "        const docLinkHtml = 'Like what you see? Visit the ' +\n",
              "          '<a target=\"_blank\" href=https://colab.research.google.com/notebooks/data_table.ipynb>data table notebook</a>'\n",
              "          + ' to learn more about interactive tables.';\n",
              "        element.innerHTML = '';\n",
              "        dataTable['output_type'] = 'display_data';\n",
              "        await google.colab.output.renderOutput(dataTable, element);\n",
              "        const docLink = document.createElement('div');\n",
              "        docLink.innerHTML = docLinkHtml;\n",
              "        element.appendChild(docLink);\n",
              "      }\n",
              "    </script>\n",
              "  </div>\n",
              "\n",
              "\n",
              "<div id=\"df-290bc33b-661f-44ba-9688-7b5504ba81de\">\n",
              "  <button class=\"colab-df-quickchart\" onclick=\"quickchart('df-290bc33b-661f-44ba-9688-7b5504ba81de')\"\n",
              "            title=\"Suggest charts\"\n",
              "            style=\"display:none;\">\n",
              "\n",
              "<svg xmlns=\"http://www.w3.org/2000/svg\" height=\"24px\"viewBox=\"0 0 24 24\"\n",
              "     width=\"24px\">\n",
              "    <g>\n",
              "        <path d=\"M19 3H5c-1.1 0-2 .9-2 2v14c0 1.1.9 2 2 2h14c1.1 0 2-.9 2-2V5c0-1.1-.9-2-2-2zM9 17H7v-7h2v7zm4 0h-2V7h2v10zm4 0h-2v-4h2v4z\"/>\n",
              "    </g>\n",
              "</svg>\n",
              "  </button>\n",
              "\n",
              "<style>\n",
              "  .colab-df-quickchart {\n",
              "      --bg-color: #E8F0FE;\n",
              "      --fill-color: #1967D2;\n",
              "      --hover-bg-color: #E2EBFA;\n",
              "      --hover-fill-color: #174EA6;\n",
              "      --disabled-fill-color: #AAA;\n",
              "      --disabled-bg-color: #DDD;\n",
              "  }\n",
              "\n",
              "  [theme=dark] .colab-df-quickchart {\n",
              "      --bg-color: #3B4455;\n",
              "      --fill-color: #D2E3FC;\n",
              "      --hover-bg-color: #434B5C;\n",
              "      --hover-fill-color: #FFFFFF;\n",
              "      --disabled-bg-color: #3B4455;\n",
              "      --disabled-fill-color: #666;\n",
              "  }\n",
              "\n",
              "  .colab-df-quickchart {\n",
              "    background-color: var(--bg-color);\n",
              "    border: none;\n",
              "    border-radius: 50%;\n",
              "    cursor: pointer;\n",
              "    display: none;\n",
              "    fill: var(--fill-color);\n",
              "    height: 32px;\n",
              "    padding: 0;\n",
              "    width: 32px;\n",
              "  }\n",
              "\n",
              "  .colab-df-quickchart:hover {\n",
              "    background-color: var(--hover-bg-color);\n",
              "    box-shadow: 0 1px 2px rgba(60, 64, 67, 0.3), 0 1px 3px 1px rgba(60, 64, 67, 0.15);\n",
              "    fill: var(--button-hover-fill-color);\n",
              "  }\n",
              "\n",
              "  .colab-df-quickchart-complete:disabled,\n",
              "  .colab-df-quickchart-complete:disabled:hover {\n",
              "    background-color: var(--disabled-bg-color);\n",
              "    fill: var(--disabled-fill-color);\n",
              "    box-shadow: none;\n",
              "  }\n",
              "\n",
              "  .colab-df-spinner {\n",
              "    border: 2px solid var(--fill-color);\n",
              "    border-color: transparent;\n",
              "    border-bottom-color: var(--fill-color);\n",
              "    animation:\n",
              "      spin 1s steps(1) infinite;\n",
              "  }\n",
              "\n",
              "  @keyframes spin {\n",
              "    0% {\n",
              "      border-color: transparent;\n",
              "      border-bottom-color: var(--fill-color);\n",
              "      border-left-color: var(--fill-color);\n",
              "    }\n",
              "    20% {\n",
              "      border-color: transparent;\n",
              "      border-left-color: var(--fill-color);\n",
              "      border-top-color: var(--fill-color);\n",
              "    }\n",
              "    30% {\n",
              "      border-color: transparent;\n",
              "      border-left-color: var(--fill-color);\n",
              "      border-top-color: var(--fill-color);\n",
              "      border-right-color: var(--fill-color);\n",
              "    }\n",
              "    40% {\n",
              "      border-color: transparent;\n",
              "      border-right-color: var(--fill-color);\n",
              "      border-top-color: var(--fill-color);\n",
              "    }\n",
              "    60% {\n",
              "      border-color: transparent;\n",
              "      border-right-color: var(--fill-color);\n",
              "    }\n",
              "    80% {\n",
              "      border-color: transparent;\n",
              "      border-right-color: var(--fill-color);\n",
              "      border-bottom-color: var(--fill-color);\n",
              "    }\n",
              "    90% {\n",
              "      border-color: transparent;\n",
              "      border-bottom-color: var(--fill-color);\n",
              "    }\n",
              "  }\n",
              "</style>\n",
              "\n",
              "  <script>\n",
              "    async function quickchart(key) {\n",
              "      const quickchartButtonEl =\n",
              "        document.querySelector('#' + key + ' button');\n",
              "      quickchartButtonEl.disabled = true;  // To prevent multiple clicks.\n",
              "      quickchartButtonEl.classList.add('colab-df-spinner');\n",
              "      try {\n",
              "        const charts = await google.colab.kernel.invokeFunction(\n",
              "            'suggestCharts', [key], {});\n",
              "      } catch (error) {\n",
              "        console.error('Error during call to suggestCharts:', error);\n",
              "      }\n",
              "      quickchartButtonEl.classList.remove('colab-df-spinner');\n",
              "      quickchartButtonEl.classList.add('colab-df-quickchart-complete');\n",
              "    }\n",
              "    (() => {\n",
              "      let quickchartButtonEl =\n",
              "        document.querySelector('#df-290bc33b-661f-44ba-9688-7b5504ba81de button');\n",
              "      quickchartButtonEl.style.display =\n",
              "        google.colab.kernel.accessAllowed ? 'block' : 'none';\n",
              "    })();\n",
              "  </script>\n",
              "</div>\n",
              "\n",
              "    </div>\n",
              "  </div>\n"
            ],
            "application/vnd.google.colaboratory.intrinsic+json": {
              "type": "dataframe",
              "summary": "{\n  \"name\": \"show_df(table\",\n  \"rows\": 5,\n  \"fields\": [\n    {\n      \"column\": \"vectors\",\n      \"properties\": {\n        \"dtype\": \"object\",\n        \"semantic_type\": \"\",\n        \"description\": \"\"\n      }\n    },\n    {\n      \"column\": \"sentences\",\n      \"properties\": {\n        \"dtype\": \"string\",\n        \"num_unique_values\": 5,\n        \"samples\": [\n          \"2School of Physical and Chemical Sciences\\u2014Te Kura Mat\\u00af u, University of Canterbury, Private Bag 4800, Christchurch 8140, New Zealand 3Just Group plc, Enterprise House, Bancroft road, Reigate, Surrey RH2 7RP, UK 4Canadian Institute for Theoretical Astrophysics, University of Toronto, 60 St. George Street, Toronto, ON, M5S 3H8, Canada 5Dunlap Institute for Astronomy and Astrophysics, University of Toronto, 50 St. George Street, Toronto, ON M5S 3H4, Canada ABSTRACT\",\n          \"and averaged over the Galactic disk; our prediction for the Solar neighbourhood is compatible with the inferred water mass fraction of 2I/Borisov. We show that the well-studied Galactic stellar metallicity gradient has a corresponding ISO compositional gradient. We also demonstrate the inference part of the framework by using the current observed ISO composition distribution to constrain the parent star\",\n          \"The Milky Way is thought to host a huge population of interstellar objects (ISOs), numbering approximately 1015pc\\u22123around the Sun, which are formed and shaped by a diverse set of processes ranging from planet formation to galactic dynamics. We define a novel framework: firstly to predict the properties of this Galactic ISO population by combining models of processes across planetary and galactic scales, and secondly to make inferences about the processes modelled, by comparing the\"\n        ],\n        \"semantic_type\": \"\",\n        \"description\": \"\"\n      }\n    }\n  ]\n}"
            }
          },
          "metadata": {},
          "execution_count": 32
        }
      ],
      "source": [
        "show_df(table.query())"
      ]
    },
    {
      "cell_type": "markdown",
      "id": "8bf8650d",
      "metadata": {
        "id": "8bf8650d"
      },
      "source": [
        "## 4. Search For Similar Sentences To A Target Sentence"
      ]
    },
    {
      "cell_type": "markdown",
      "id": "31ddb725-e0e7-4c00-a22b-3234eacf6bd1",
      "metadata": {
        "id": "31ddb725-e0e7-4c00-a22b-3234eacf6bd1"
      },
      "source": [
        "Now that the embeddings are stored in KDB.AI, we can perform semantic search using `search`.\n",
        "\n",
        "### Search 1\n",
        "\n",
        "First, we embed our search term using the Sentence Transformer model as before. Then we search our index to return the three most similar vectors."
      ]
    },
    {
      "cell_type": "code",
      "execution_count": 33,
      "id": "b24c1179",
      "metadata": {
        "id": "b24c1179"
      },
      "outputs": [],
      "source": [
        "search_term1 = \"number of interstellar objects in the milky way\""
      ]
    },
    {
      "cell_type": "code",
      "execution_count": 34,
      "id": "d5f8fa5b",
      "metadata": {
        "id": "d5f8fa5b"
      },
      "outputs": [],
      "source": [
        "encoded_search_term1 = model.encode(search_term1).tolist()"
      ]
    },
    {
      "cell_type": "code",
      "execution_count": 35,
      "id": "8666561e-e9b2-4c9f-95f4-add789be416d",
      "metadata": {
        "colab": {
          "base_uri": "https://localhost:8080/",
          "height": 595
        },
        "id": "8666561e-e9b2-4c9f-95f4-add789be416d",
        "outputId": "b4f7a594-e21b-4d2d-a226-33cbdd766629"
      },
      "outputs": [
        {
          "output_type": "execute_result",
          "data": {
            "text/plain": [
              "   __nn_distance  \\\n",
              "0       0.640539   \n",
              "1       0.653080   \n",
              "2       0.792991   \n",
              "\n",
              "                                                                                                                                                                                                                                                                                                       vectors  \\\n",
              "0  [-0.058295775, -0.09771143, 0.06014487, 0.074923225, 0.0048555867, -0.07818227, -0.016815603, 0.0032223102, 0.015408782, -0.010816202, 0.05693562, -0.1279278, 0.004590574, -0.016816303, -0.011035758, -0.03767118, 0.012765638, -0.09253237, 0.021211633, 0.00905855, -0.017835798, 0.04149379, -0.015...   \n",
              "1  [-0.08732752, -0.11289385, 0.06424404, 0.07887156, 0.046322197, -0.07177848, -0.047328427, 0.03841043, 0.02944923, 0.031049212, 0.0027609156, -0.10972757, -0.0008616014, -0.020700429, 0.030852202, -0.10038987, 0.03392497, -0.112470984, -0.009184576, 0.003726836, 0.0033985798, 0.073350705, -0.055...   \n",
              "2  [-0.05955432, -0.04058243, 0.05124921, 0.024224859, -0.000807483, -0.09936961, -0.025115658, 0.04463438, -0.0040212194, 0.0103443, 0.008752798, -0.105754204, -0.041435424, -0.032096222, 0.053592417, -0.0024946833, 0.08261293, -0.034735326, 0.022979582, 0.009241539, 0.026665753, 0.04567836, 0.006...   \n",
              "\n",
              "                                                                                                                                                                                                                                                                                                     sentences  \n",
              "0  1I/‘Oumuamua (Meech et al. 2017) and 2I/Borisov1are the first two observed samples from a highly numerous population: interstellar objects (ISOs). Estimated to number ∼1015pc−3around the Sun (Engelhardt et al. 2017; Do et al. 2018), they are implied to have a spatial distribution spanning the en...  \n",
              "1  The Milky Way is thought to host a huge population of interstellar objects (ISOs), numbering approximately 1015pc−3around the Sun, which are formed and shaped by a diverse set of processes ranging from planet formation to galactic dynamics. We define a novel framework: firstly to predict the pro...  \n",
              "2  a sample of tens of 1I/‘Oumuamua-like ISOs (e.g. Levine et al. 2021), as well as any more 2I/Borisov-like cometary ISOs that enter our Solar System. This is in addition to the continuing contributions of the NEO surveys and other observatories that found 1I and 2I in the first place (Meech et al...  "
            ],
            "text/html": [
              "\n",
              "  <div id=\"df-c7c3a665-dc06-4cc8-8787-aadc92fa9429\" class=\"colab-df-container\">\n",
              "    <div>\n",
              "<style scoped>\n",
              "    .dataframe tbody tr th:only-of-type {\n",
              "        vertical-align: middle;\n",
              "    }\n",
              "\n",
              "    .dataframe tbody tr th {\n",
              "        vertical-align: top;\n",
              "    }\n",
              "\n",
              "    .dataframe thead th {\n",
              "        text-align: right;\n",
              "    }\n",
              "</style>\n",
              "<table border=\"1\" class=\"dataframe\">\n",
              "  <thead>\n",
              "    <tr style=\"text-align: right;\">\n",
              "      <th></th>\n",
              "      <th>__nn_distance</th>\n",
              "      <th>vectors</th>\n",
              "      <th>sentences</th>\n",
              "    </tr>\n",
              "  </thead>\n",
              "  <tbody>\n",
              "    <tr>\n",
              "      <th>0</th>\n",
              "      <td>0.640539</td>\n",
              "      <td>[-0.058295775, -0.09771143, 0.06014487, 0.074923225, 0.0048555867, -0.07818227, -0.016815603, 0.0032223102, 0.015408782, -0.010816202, 0.05693562, -0.1279278, 0.004590574, -0.016816303, -0.011035758, -0.03767118, 0.012765638, -0.09253237, 0.021211633, 0.00905855, -0.017835798, 0.04149379, -0.015...</td>\n",
              "      <td>1I/‘Oumuamua (Meech et al. 2017) and 2I/Borisov1are the first two observed samples from a highly numerous population: interstellar objects (ISOs). Estimated to number ∼1015pc−3around the Sun (Engelhardt et al. 2017; Do et al. 2018), they are implied to have a spatial distribution spanning the en...</td>\n",
              "    </tr>\n",
              "    <tr>\n",
              "      <th>1</th>\n",
              "      <td>0.653080</td>\n",
              "      <td>[-0.08732752, -0.11289385, 0.06424404, 0.07887156, 0.046322197, -0.07177848, -0.047328427, 0.03841043, 0.02944923, 0.031049212, 0.0027609156, -0.10972757, -0.0008616014, -0.020700429, 0.030852202, -0.10038987, 0.03392497, -0.112470984, -0.009184576, 0.003726836, 0.0033985798, 0.073350705, -0.055...</td>\n",
              "      <td>The Milky Way is thought to host a huge population of interstellar objects (ISOs), numbering approximately 1015pc−3around the Sun, which are formed and shaped by a diverse set of processes ranging from planet formation to galactic dynamics. We define a novel framework: firstly to predict the pro...</td>\n",
              "    </tr>\n",
              "    <tr>\n",
              "      <th>2</th>\n",
              "      <td>0.792991</td>\n",
              "      <td>[-0.05955432, -0.04058243, 0.05124921, 0.024224859, -0.000807483, -0.09936961, -0.025115658, 0.04463438, -0.0040212194, 0.0103443, 0.008752798, -0.105754204, -0.041435424, -0.032096222, 0.053592417, -0.0024946833, 0.08261293, -0.034735326, 0.022979582, 0.009241539, 0.026665753, 0.04567836, 0.006...</td>\n",
              "      <td>a sample of tens of 1I/‘Oumuamua-like ISOs (e.g. Levine et al. 2021), as well as any more 2I/Borisov-like cometary ISOs that enter our Solar System. This is in addition to the continuing contributions of the NEO surveys and other observatories that found 1I and 2I in the first place (Meech et al...</td>\n",
              "    </tr>\n",
              "  </tbody>\n",
              "</table>\n",
              "</div>\n",
              "    <div class=\"colab-df-buttons\">\n",
              "\n",
              "  <div class=\"colab-df-container\">\n",
              "    <button class=\"colab-df-convert\" onclick=\"convertToInteractive('df-c7c3a665-dc06-4cc8-8787-aadc92fa9429')\"\n",
              "            title=\"Convert this dataframe to an interactive table.\"\n",
              "            style=\"display:none;\">\n",
              "\n",
              "  <svg xmlns=\"http://www.w3.org/2000/svg\" height=\"24px\" viewBox=\"0 -960 960 960\">\n",
              "    <path d=\"M120-120v-720h720v720H120Zm60-500h600v-160H180v160Zm220 220h160v-160H400v160Zm0 220h160v-160H400v160ZM180-400h160v-160H180v160Zm440 0h160v-160H620v160ZM180-180h160v-160H180v160Zm440 0h160v-160H620v160Z\"/>\n",
              "  </svg>\n",
              "    </button>\n",
              "\n",
              "  <style>\n",
              "    .colab-df-container {\n",
              "      display:flex;\n",
              "      gap: 12px;\n",
              "    }\n",
              "\n",
              "    .colab-df-convert {\n",
              "      background-color: #E8F0FE;\n",
              "      border: none;\n",
              "      border-radius: 50%;\n",
              "      cursor: pointer;\n",
              "      display: none;\n",
              "      fill: #1967D2;\n",
              "      height: 32px;\n",
              "      padding: 0 0 0 0;\n",
              "      width: 32px;\n",
              "    }\n",
              "\n",
              "    .colab-df-convert:hover {\n",
              "      background-color: #E2EBFA;\n",
              "      box-shadow: 0px 1px 2px rgba(60, 64, 67, 0.3), 0px 1px 3px 1px rgba(60, 64, 67, 0.15);\n",
              "      fill: #174EA6;\n",
              "    }\n",
              "\n",
              "    .colab-df-buttons div {\n",
              "      margin-bottom: 4px;\n",
              "    }\n",
              "\n",
              "    [theme=dark] .colab-df-convert {\n",
              "      background-color: #3B4455;\n",
              "      fill: #D2E3FC;\n",
              "    }\n",
              "\n",
              "    [theme=dark] .colab-df-convert:hover {\n",
              "      background-color: #434B5C;\n",
              "      box-shadow: 0px 1px 3px 1px rgba(0, 0, 0, 0.15);\n",
              "      filter: drop-shadow(0px 1px 2px rgba(0, 0, 0, 0.3));\n",
              "      fill: #FFFFFF;\n",
              "    }\n",
              "  </style>\n",
              "\n",
              "    <script>\n",
              "      const buttonEl =\n",
              "        document.querySelector('#df-c7c3a665-dc06-4cc8-8787-aadc92fa9429 button.colab-df-convert');\n",
              "      buttonEl.style.display =\n",
              "        google.colab.kernel.accessAllowed ? 'block' : 'none';\n",
              "\n",
              "      async function convertToInteractive(key) {\n",
              "        const element = document.querySelector('#df-c7c3a665-dc06-4cc8-8787-aadc92fa9429');\n",
              "        const dataTable =\n",
              "          await google.colab.kernel.invokeFunction('convertToInteractive',\n",
              "                                                    [key], {});\n",
              "        if (!dataTable) return;\n",
              "\n",
              "        const docLinkHtml = 'Like what you see? Visit the ' +\n",
              "          '<a target=\"_blank\" href=https://colab.research.google.com/notebooks/data_table.ipynb>data table notebook</a>'\n",
              "          + ' to learn more about interactive tables.';\n",
              "        element.innerHTML = '';\n",
              "        dataTable['output_type'] = 'display_data';\n",
              "        await google.colab.output.renderOutput(dataTable, element);\n",
              "        const docLink = document.createElement('div');\n",
              "        docLink.innerHTML = docLinkHtml;\n",
              "        element.appendChild(docLink);\n",
              "      }\n",
              "    </script>\n",
              "  </div>\n",
              "\n",
              "\n",
              "<div id=\"df-d1136c5b-a5ab-4946-aec4-8f27bc158217\">\n",
              "  <button class=\"colab-df-quickchart\" onclick=\"quickchart('df-d1136c5b-a5ab-4946-aec4-8f27bc158217')\"\n",
              "            title=\"Suggest charts\"\n",
              "            style=\"display:none;\">\n",
              "\n",
              "<svg xmlns=\"http://www.w3.org/2000/svg\" height=\"24px\"viewBox=\"0 0 24 24\"\n",
              "     width=\"24px\">\n",
              "    <g>\n",
              "        <path d=\"M19 3H5c-1.1 0-2 .9-2 2v14c0 1.1.9 2 2 2h14c1.1 0 2-.9 2-2V5c0-1.1-.9-2-2-2zM9 17H7v-7h2v7zm4 0h-2V7h2v10zm4 0h-2v-4h2v4z\"/>\n",
              "    </g>\n",
              "</svg>\n",
              "  </button>\n",
              "\n",
              "<style>\n",
              "  .colab-df-quickchart {\n",
              "      --bg-color: #E8F0FE;\n",
              "      --fill-color: #1967D2;\n",
              "      --hover-bg-color: #E2EBFA;\n",
              "      --hover-fill-color: #174EA6;\n",
              "      --disabled-fill-color: #AAA;\n",
              "      --disabled-bg-color: #DDD;\n",
              "  }\n",
              "\n",
              "  [theme=dark] .colab-df-quickchart {\n",
              "      --bg-color: #3B4455;\n",
              "      --fill-color: #D2E3FC;\n",
              "      --hover-bg-color: #434B5C;\n",
              "      --hover-fill-color: #FFFFFF;\n",
              "      --disabled-bg-color: #3B4455;\n",
              "      --disabled-fill-color: #666;\n",
              "  }\n",
              "\n",
              "  .colab-df-quickchart {\n",
              "    background-color: var(--bg-color);\n",
              "    border: none;\n",
              "    border-radius: 50%;\n",
              "    cursor: pointer;\n",
              "    display: none;\n",
              "    fill: var(--fill-color);\n",
              "    height: 32px;\n",
              "    padding: 0;\n",
              "    width: 32px;\n",
              "  }\n",
              "\n",
              "  .colab-df-quickchart:hover {\n",
              "    background-color: var(--hover-bg-color);\n",
              "    box-shadow: 0 1px 2px rgba(60, 64, 67, 0.3), 0 1px 3px 1px rgba(60, 64, 67, 0.15);\n",
              "    fill: var(--button-hover-fill-color);\n",
              "  }\n",
              "\n",
              "  .colab-df-quickchart-complete:disabled,\n",
              "  .colab-df-quickchart-complete:disabled:hover {\n",
              "    background-color: var(--disabled-bg-color);\n",
              "    fill: var(--disabled-fill-color);\n",
              "    box-shadow: none;\n",
              "  }\n",
              "\n",
              "  .colab-df-spinner {\n",
              "    border: 2px solid var(--fill-color);\n",
              "    border-color: transparent;\n",
              "    border-bottom-color: var(--fill-color);\n",
              "    animation:\n",
              "      spin 1s steps(1) infinite;\n",
              "  }\n",
              "\n",
              "  @keyframes spin {\n",
              "    0% {\n",
              "      border-color: transparent;\n",
              "      border-bottom-color: var(--fill-color);\n",
              "      border-left-color: var(--fill-color);\n",
              "    }\n",
              "    20% {\n",
              "      border-color: transparent;\n",
              "      border-left-color: var(--fill-color);\n",
              "      border-top-color: var(--fill-color);\n",
              "    }\n",
              "    30% {\n",
              "      border-color: transparent;\n",
              "      border-left-color: var(--fill-color);\n",
              "      border-top-color: var(--fill-color);\n",
              "      border-right-color: var(--fill-color);\n",
              "    }\n",
              "    40% {\n",
              "      border-color: transparent;\n",
              "      border-right-color: var(--fill-color);\n",
              "      border-top-color: var(--fill-color);\n",
              "    }\n",
              "    60% {\n",
              "      border-color: transparent;\n",
              "      border-right-color: var(--fill-color);\n",
              "    }\n",
              "    80% {\n",
              "      border-color: transparent;\n",
              "      border-right-color: var(--fill-color);\n",
              "      border-bottom-color: var(--fill-color);\n",
              "    }\n",
              "    90% {\n",
              "      border-color: transparent;\n",
              "      border-bottom-color: var(--fill-color);\n",
              "    }\n",
              "  }\n",
              "</style>\n",
              "\n",
              "  <script>\n",
              "    async function quickchart(key) {\n",
              "      const quickchartButtonEl =\n",
              "        document.querySelector('#' + key + ' button');\n",
              "      quickchartButtonEl.disabled = true;  // To prevent multiple clicks.\n",
              "      quickchartButtonEl.classList.add('colab-df-spinner');\n",
              "      try {\n",
              "        const charts = await google.colab.kernel.invokeFunction(\n",
              "            'suggestCharts', [key], {});\n",
              "      } catch (error) {\n",
              "        console.error('Error during call to suggestCharts:', error);\n",
              "      }\n",
              "      quickchartButtonEl.classList.remove('colab-df-spinner');\n",
              "      quickchartButtonEl.classList.add('colab-df-quickchart-complete');\n",
              "    }\n",
              "    (() => {\n",
              "      let quickchartButtonEl =\n",
              "        document.querySelector('#df-d1136c5b-a5ab-4946-aec4-8f27bc158217 button');\n",
              "      quickchartButtonEl.style.display =\n",
              "        google.colab.kernel.accessAllowed ? 'block' : 'none';\n",
              "    })();\n",
              "  </script>\n",
              "</div>\n",
              "\n",
              "    </div>\n",
              "  </div>\n"
            ],
            "application/vnd.google.colaboratory.intrinsic+json": {
              "type": "dataframe",
              "summary": "{\n  \"name\": \"results1[0]\",\n  \"rows\": 3,\n  \"fields\": [\n    {\n      \"column\": \"__nn_distance\",\n      \"properties\": {\n        \"dtype\": \"float32\",\n        \"num_unique_values\": 3,\n        \"samples\": [\n          0.6405389308929443,\n          0.6530802249908447,\n          0.7929906249046326\n        ],\n        \"semantic_type\": \"\",\n        \"description\": \"\"\n      }\n    },\n    {\n      \"column\": \"vectors\",\n      \"properties\": {\n        \"dtype\": \"object\",\n        \"semantic_type\": \"\",\n        \"description\": \"\"\n      }\n    },\n    {\n      \"column\": \"sentences\",\n      \"properties\": {\n        \"dtype\": \"string\",\n        \"num_unique_values\": 3,\n        \"samples\": [\n          \"1I/\\u2018Oumuamua (Meech et al. 2017) and 2I/Borisov1are the first two observed samples from a highly numerous population: interstellar objects (ISOs). Estimated to number \\u223c1015pc\\u22123around the Sun (Engelhardt et al. 2017; Do et al. 2018), they are implied to have a spatial distribution spanning the entire Galaxy. This population has been predicted to exist for decades (McGlynn & Chapman 1989), based on models of the accretion and migration of the\",\n          \"The Milky Way is thought to host a huge population of interstellar objects (ISOs), numbering approximately 1015pc\\u22123around the Sun, which are formed and shaped by a diverse set of processes ranging from planet formation to galactic dynamics. We define a novel framework: firstly to predict the properties of this Galactic ISO population by combining models of processes across planetary and galactic scales, and secondly to make inferences about the processes modelled, by comparing the\",\n          \"a sample of tens of 1I/\\u2018Oumuamua-like ISOs (e.g. Levine et al. 2021), as well as any more 2I/Borisov-like cometary ISOs that enter our Solar System. This is in addition to the continuing contributions of the NEO surveys and other observatories that found 1I and 2I in the first place (Meech et al. 2017). These will provide a large and varied sample of interstellar objects, for study and comparison to predictions.\"\n        ],\n        \"semantic_type\": \"\",\n        \"description\": \"\"\n      }\n    }\n  ]\n}"
            }
          },
          "metadata": {},
          "execution_count": 35
        }
      ],
      "source": [
        "results1 = table.search([encoded_search_term1], n=3)\n",
        "results1[0]"
      ]
    },
    {
      "cell_type": "markdown",
      "id": "91762de7",
      "metadata": {
        "id": "91762de7"
      },
      "source": [
        "The results returned from `table.search` show the closest matches along with value of nearest neighbor distances `nn_distance`.\n",
        "We can see these sentences do reference our search term 'number of interstellar objects in the milky way' in some way.\n",
        "\n",
        "### Search 2\n",
        "\n",
        "Let's try another search term."
      ]
    },
    {
      "cell_type": "code",
      "execution_count": 36,
      "id": "e7486a9c",
      "metadata": {
        "id": "e7486a9c"
      },
      "outputs": [],
      "source": [
        "search_term2 = \"how does planet formation occur\""
      ]
    },
    {
      "cell_type": "code",
      "execution_count": 37,
      "id": "6765075c",
      "metadata": {
        "id": "6765075c"
      },
      "outputs": [],
      "source": [
        "encoded_search_term2 = model.encode(search_term2).tolist()"
      ]
    },
    {
      "cell_type": "code",
      "execution_count": 38,
      "id": "2d3ce969",
      "metadata": {
        "colab": {
          "base_uri": "https://localhost:8080/",
          "height": 508
        },
        "id": "2d3ce969",
        "outputId": "aade9e4b-1281-4495-ab93-34778bce40ed"
      },
      "outputs": [
        {
          "output_type": "execute_result",
          "data": {
            "text/plain": [
              "   __nn_distance  \\\n",
              "0       0.928834   \n",
              "1       0.970353   \n",
              "2       1.012795   \n",
              "\n",
              "                                                                                                                                                                                                                                                                                                       vectors  \\\n",
              "0  [0.047059268, -0.04043316, 0.059950948, 0.04573296, -0.0039455127, -0.05942609, 0.015076651, -0.008425757, 0.06865491, 0.03147973, 0.0057636853, -0.030097032, 0.023744823, -0.04634087, -0.019034341, -0.060542025, -0.07941156, 0.023247978, 0.00544396, 0.02270429, 0.060322043, 0.012773193, -0.0442...   \n",
              "1  [-0.09935083, 0.010767108, 0.0982887, 0.061452035, 0.013212075, -0.053271275, 0.022545123, 0.015341881, 0.10350827, 0.03053778, -0.11399655, -0.06025269, 0.073029354, -0.086470425, 0.030716218, -0.10944588, -0.08945113, -0.032149576, -0.010662642, -0.0027274736, 0.056740154, -0.03797836, -0.0789...   \n",
              "2  [-0.029549774, -0.012195995, 0.0057087704, 0.0638904, 0.033144396, -0.04190236, 0.059939828, -0.003044334, 0.06776189, 0.017902834, -0.08158446, -0.06551176, 0.1142783, -0.07725323, 0.037620135, -0.08376906, -0.023476476, -0.009318634, 0.0010405355, 0.06408926, 0.04694798, 0.0012622206, -0.04820...   \n",
              "\n",
              "                                                                                                                                                                                                                                                                                                     sentences  \n",
              "0  of ISO formation mechanisms, we use this as a reasonable proxy for the number of ISOs produced by each star. However, the number of ISOs produced by a star may not be simply proportional to the mass of planet-forming material, because ISO production also requires the ejection of planetesimals — ...  \n",
              "1  for that metallicity, exterior to the water ice line. While in reality, stars will each produce a distribution of ISOs that formed at different positions in their protoplanetary disk and thus have a range of compositions, this simplification of only modelling planetesimals which form exterior to...  \n",
              "2                                                                                                                                                                                   the composition of planetesimals formed around stars of different metallicities. They do this for stars with metallicities  "
            ],
            "text/html": [
              "\n",
              "  <div id=\"df-8967abfa-332d-41d8-952f-e5005392ba9a\" class=\"colab-df-container\">\n",
              "    <div>\n",
              "<style scoped>\n",
              "    .dataframe tbody tr th:only-of-type {\n",
              "        vertical-align: middle;\n",
              "    }\n",
              "\n",
              "    .dataframe tbody tr th {\n",
              "        vertical-align: top;\n",
              "    }\n",
              "\n",
              "    .dataframe thead th {\n",
              "        text-align: right;\n",
              "    }\n",
              "</style>\n",
              "<table border=\"1\" class=\"dataframe\">\n",
              "  <thead>\n",
              "    <tr style=\"text-align: right;\">\n",
              "      <th></th>\n",
              "      <th>__nn_distance</th>\n",
              "      <th>vectors</th>\n",
              "      <th>sentences</th>\n",
              "    </tr>\n",
              "  </thead>\n",
              "  <tbody>\n",
              "    <tr>\n",
              "      <th>0</th>\n",
              "      <td>0.928834</td>\n",
              "      <td>[0.047059268, -0.04043316, 0.059950948, 0.04573296, -0.0039455127, -0.05942609, 0.015076651, -0.008425757, 0.06865491, 0.03147973, 0.0057636853, -0.030097032, 0.023744823, -0.04634087, -0.019034341, -0.060542025, -0.07941156, 0.023247978, 0.00544396, 0.02270429, 0.060322043, 0.012773193, -0.0442...</td>\n",
              "      <td>of ISO formation mechanisms, we use this as a reasonable proxy for the number of ISOs produced by each star. However, the number of ISOs produced by a star may not be simply proportional to the mass of planet-forming material, because ISO production also requires the ejection of planetesimals — ...</td>\n",
              "    </tr>\n",
              "    <tr>\n",
              "      <th>1</th>\n",
              "      <td>0.970353</td>\n",
              "      <td>[-0.09935083, 0.010767108, 0.0982887, 0.061452035, 0.013212075, -0.053271275, 0.022545123, 0.015341881, 0.10350827, 0.03053778, -0.11399655, -0.06025269, 0.073029354, -0.086470425, 0.030716218, -0.10944588, -0.08945113, -0.032149576, -0.010662642, -0.0027274736, 0.056740154, -0.03797836, -0.0789...</td>\n",
              "      <td>for that metallicity, exterior to the water ice line. While in reality, stars will each produce a distribution of ISOs that formed at different positions in their protoplanetary disk and thus have a range of compositions, this simplification of only modelling planetesimals which form exterior to...</td>\n",
              "    </tr>\n",
              "    <tr>\n",
              "      <th>2</th>\n",
              "      <td>1.012795</td>\n",
              "      <td>[-0.029549774, -0.012195995, 0.0057087704, 0.0638904, 0.033144396, -0.04190236, 0.059939828, -0.003044334, 0.06776189, 0.017902834, -0.08158446, -0.06551176, 0.1142783, -0.07725323, 0.037620135, -0.08376906, -0.023476476, -0.009318634, 0.0010405355, 0.06408926, 0.04694798, 0.0012622206, -0.04820...</td>\n",
              "      <td>the composition of planetesimals formed around stars of different metallicities. They do this for stars with metallicities</td>\n",
              "    </tr>\n",
              "  </tbody>\n",
              "</table>\n",
              "</div>\n",
              "    <div class=\"colab-df-buttons\">\n",
              "\n",
              "  <div class=\"colab-df-container\">\n",
              "    <button class=\"colab-df-convert\" onclick=\"convertToInteractive('df-8967abfa-332d-41d8-952f-e5005392ba9a')\"\n",
              "            title=\"Convert this dataframe to an interactive table.\"\n",
              "            style=\"display:none;\">\n",
              "\n",
              "  <svg xmlns=\"http://www.w3.org/2000/svg\" height=\"24px\" viewBox=\"0 -960 960 960\">\n",
              "    <path d=\"M120-120v-720h720v720H120Zm60-500h600v-160H180v160Zm220 220h160v-160H400v160Zm0 220h160v-160H400v160ZM180-400h160v-160H180v160Zm440 0h160v-160H620v160ZM180-180h160v-160H180v160Zm440 0h160v-160H620v160Z\"/>\n",
              "  </svg>\n",
              "    </button>\n",
              "\n",
              "  <style>\n",
              "    .colab-df-container {\n",
              "      display:flex;\n",
              "      gap: 12px;\n",
              "    }\n",
              "\n",
              "    .colab-df-convert {\n",
              "      background-color: #E8F0FE;\n",
              "      border: none;\n",
              "      border-radius: 50%;\n",
              "      cursor: pointer;\n",
              "      display: none;\n",
              "      fill: #1967D2;\n",
              "      height: 32px;\n",
              "      padding: 0 0 0 0;\n",
              "      width: 32px;\n",
              "    }\n",
              "\n",
              "    .colab-df-convert:hover {\n",
              "      background-color: #E2EBFA;\n",
              "      box-shadow: 0px 1px 2px rgba(60, 64, 67, 0.3), 0px 1px 3px 1px rgba(60, 64, 67, 0.15);\n",
              "      fill: #174EA6;\n",
              "    }\n",
              "\n",
              "    .colab-df-buttons div {\n",
              "      margin-bottom: 4px;\n",
              "    }\n",
              "\n",
              "    [theme=dark] .colab-df-convert {\n",
              "      background-color: #3B4455;\n",
              "      fill: #D2E3FC;\n",
              "    }\n",
              "\n",
              "    [theme=dark] .colab-df-convert:hover {\n",
              "      background-color: #434B5C;\n",
              "      box-shadow: 0px 1px 3px 1px rgba(0, 0, 0, 0.15);\n",
              "      filter: drop-shadow(0px 1px 2px rgba(0, 0, 0, 0.3));\n",
              "      fill: #FFFFFF;\n",
              "    }\n",
              "  </style>\n",
              "\n",
              "    <script>\n",
              "      const buttonEl =\n",
              "        document.querySelector('#df-8967abfa-332d-41d8-952f-e5005392ba9a button.colab-df-convert');\n",
              "      buttonEl.style.display =\n",
              "        google.colab.kernel.accessAllowed ? 'block' : 'none';\n",
              "\n",
              "      async function convertToInteractive(key) {\n",
              "        const element = document.querySelector('#df-8967abfa-332d-41d8-952f-e5005392ba9a');\n",
              "        const dataTable =\n",
              "          await google.colab.kernel.invokeFunction('convertToInteractive',\n",
              "                                                    [key], {});\n",
              "        if (!dataTable) return;\n",
              "\n",
              "        const docLinkHtml = 'Like what you see? Visit the ' +\n",
              "          '<a target=\"_blank\" href=https://colab.research.google.com/notebooks/data_table.ipynb>data table notebook</a>'\n",
              "          + ' to learn more about interactive tables.';\n",
              "        element.innerHTML = '';\n",
              "        dataTable['output_type'] = 'display_data';\n",
              "        await google.colab.output.renderOutput(dataTable, element);\n",
              "        const docLink = document.createElement('div');\n",
              "        docLink.innerHTML = docLinkHtml;\n",
              "        element.appendChild(docLink);\n",
              "      }\n",
              "    </script>\n",
              "  </div>\n",
              "\n",
              "\n",
              "<div id=\"df-17bcf7de-db0c-4225-a15f-c75f67aa4493\">\n",
              "  <button class=\"colab-df-quickchart\" onclick=\"quickchart('df-17bcf7de-db0c-4225-a15f-c75f67aa4493')\"\n",
              "            title=\"Suggest charts\"\n",
              "            style=\"display:none;\">\n",
              "\n",
              "<svg xmlns=\"http://www.w3.org/2000/svg\" height=\"24px\"viewBox=\"0 0 24 24\"\n",
              "     width=\"24px\">\n",
              "    <g>\n",
              "        <path d=\"M19 3H5c-1.1 0-2 .9-2 2v14c0 1.1.9 2 2 2h14c1.1 0 2-.9 2-2V5c0-1.1-.9-2-2-2zM9 17H7v-7h2v7zm4 0h-2V7h2v10zm4 0h-2v-4h2v4z\"/>\n",
              "    </g>\n",
              "</svg>\n",
              "  </button>\n",
              "\n",
              "<style>\n",
              "  .colab-df-quickchart {\n",
              "      --bg-color: #E8F0FE;\n",
              "      --fill-color: #1967D2;\n",
              "      --hover-bg-color: #E2EBFA;\n",
              "      --hover-fill-color: #174EA6;\n",
              "      --disabled-fill-color: #AAA;\n",
              "      --disabled-bg-color: #DDD;\n",
              "  }\n",
              "\n",
              "  [theme=dark] .colab-df-quickchart {\n",
              "      --bg-color: #3B4455;\n",
              "      --fill-color: #D2E3FC;\n",
              "      --hover-bg-color: #434B5C;\n",
              "      --hover-fill-color: #FFFFFF;\n",
              "      --disabled-bg-color: #3B4455;\n",
              "      --disabled-fill-color: #666;\n",
              "  }\n",
              "\n",
              "  .colab-df-quickchart {\n",
              "    background-color: var(--bg-color);\n",
              "    border: none;\n",
              "    border-radius: 50%;\n",
              "    cursor: pointer;\n",
              "    display: none;\n",
              "    fill: var(--fill-color);\n",
              "    height: 32px;\n",
              "    padding: 0;\n",
              "    width: 32px;\n",
              "  }\n",
              "\n",
              "  .colab-df-quickchart:hover {\n",
              "    background-color: var(--hover-bg-color);\n",
              "    box-shadow: 0 1px 2px rgba(60, 64, 67, 0.3), 0 1px 3px 1px rgba(60, 64, 67, 0.15);\n",
              "    fill: var(--button-hover-fill-color);\n",
              "  }\n",
              "\n",
              "  .colab-df-quickchart-complete:disabled,\n",
              "  .colab-df-quickchart-complete:disabled:hover {\n",
              "    background-color: var(--disabled-bg-color);\n",
              "    fill: var(--disabled-fill-color);\n",
              "    box-shadow: none;\n",
              "  }\n",
              "\n",
              "  .colab-df-spinner {\n",
              "    border: 2px solid var(--fill-color);\n",
              "    border-color: transparent;\n",
              "    border-bottom-color: var(--fill-color);\n",
              "    animation:\n",
              "      spin 1s steps(1) infinite;\n",
              "  }\n",
              "\n",
              "  @keyframes spin {\n",
              "    0% {\n",
              "      border-color: transparent;\n",
              "      border-bottom-color: var(--fill-color);\n",
              "      border-left-color: var(--fill-color);\n",
              "    }\n",
              "    20% {\n",
              "      border-color: transparent;\n",
              "      border-left-color: var(--fill-color);\n",
              "      border-top-color: var(--fill-color);\n",
              "    }\n",
              "    30% {\n",
              "      border-color: transparent;\n",
              "      border-left-color: var(--fill-color);\n",
              "      border-top-color: var(--fill-color);\n",
              "      border-right-color: var(--fill-color);\n",
              "    }\n",
              "    40% {\n",
              "      border-color: transparent;\n",
              "      border-right-color: var(--fill-color);\n",
              "      border-top-color: var(--fill-color);\n",
              "    }\n",
              "    60% {\n",
              "      border-color: transparent;\n",
              "      border-right-color: var(--fill-color);\n",
              "    }\n",
              "    80% {\n",
              "      border-color: transparent;\n",
              "      border-right-color: var(--fill-color);\n",
              "      border-bottom-color: var(--fill-color);\n",
              "    }\n",
              "    90% {\n",
              "      border-color: transparent;\n",
              "      border-bottom-color: var(--fill-color);\n",
              "    }\n",
              "  }\n",
              "</style>\n",
              "\n",
              "  <script>\n",
              "    async function quickchart(key) {\n",
              "      const quickchartButtonEl =\n",
              "        document.querySelector('#' + key + ' button');\n",
              "      quickchartButtonEl.disabled = true;  // To prevent multiple clicks.\n",
              "      quickchartButtonEl.classList.add('colab-df-spinner');\n",
              "      try {\n",
              "        const charts = await google.colab.kernel.invokeFunction(\n",
              "            'suggestCharts', [key], {});\n",
              "      } catch (error) {\n",
              "        console.error('Error during call to suggestCharts:', error);\n",
              "      }\n",
              "      quickchartButtonEl.classList.remove('colab-df-spinner');\n",
              "      quickchartButtonEl.classList.add('colab-df-quickchart-complete');\n",
              "    }\n",
              "    (() => {\n",
              "      let quickchartButtonEl =\n",
              "        document.querySelector('#df-17bcf7de-db0c-4225-a15f-c75f67aa4493 button');\n",
              "      quickchartButtonEl.style.display =\n",
              "        google.colab.kernel.accessAllowed ? 'block' : 'none';\n",
              "    })();\n",
              "  </script>\n",
              "</div>\n",
              "\n",
              "    </div>\n",
              "  </div>\n"
            ],
            "application/vnd.google.colaboratory.intrinsic+json": {
              "type": "dataframe",
              "summary": "{\n  \"name\": \"results2[0]\",\n  \"rows\": 3,\n  \"fields\": [\n    {\n      \"column\": \"__nn_distance\",\n      \"properties\": {\n        \"dtype\": \"float32\",\n        \"num_unique_values\": 3,\n        \"samples\": [\n          0.9288338422775269,\n          0.9703525304794312,\n          1.0127954483032227\n        ],\n        \"semantic_type\": \"\",\n        \"description\": \"\"\n      }\n    },\n    {\n      \"column\": \"vectors\",\n      \"properties\": {\n        \"dtype\": \"object\",\n        \"semantic_type\": \"\",\n        \"description\": \"\"\n      }\n    },\n    {\n      \"column\": \"sentences\",\n      \"properties\": {\n        \"dtype\": \"string\",\n        \"num_unique_values\": 3,\n        \"samples\": [\n          \"of ISO formation mechanisms, we use this as a reasonable proxy for the number of ISOs produced by each star. However, the number of ISOs produced by a star may not be simply proportional to the mass of planet-forming material, because ISO production also requires the ejection of planetesimals \\u2014 which is dependent on system dynamical architecture. One major ISO ejection pathway is scattering by giant planets, the occurrence of which has its own\",\n          \"for that metallicity, exterior to the water ice line. While in reality, stars will each produce a distribution of ISOs that formed at different positions in their protoplanetary disk and thus have a range of compositions, this simplification of only modelling planetesimals which form exterior to the water ice line is justified by the proportionally greater reservoir of snowline-exterior planetesimals, and the higher efficiencies of formation mechanisms dynamically stripping\",\n          \"the composition of planetesimals formed around stars of different metallicities. They do this for stars with metallicities\"\n        ],\n        \"semantic_type\": \"\",\n        \"description\": \"\"\n      }\n    }\n  ]\n}"
            }
          },
          "metadata": {},
          "execution_count": 38
        }
      ],
      "source": [
        "results2 = table.search([encoded_search_term2], n=3)\n",
        "results2[0]"
      ]
    },
    {
      "cell_type": "markdown",
      "id": "25ce337f",
      "metadata": {
        "id": "25ce337f"
      },
      "source": [
        "Again, we can see these sentences do reference our search term 'how does planet formation occur' in some way."
      ]
    },
    {
      "cell_type": "markdown",
      "id": "f6e93878",
      "metadata": {
        "id": "f6e93878"
      },
      "source": [
        "## 5. Delete the KDB.AI Table\n",
        "\n",
        "Once finished with the table, it is best practice to drop it."
      ]
    },
    {
      "cell_type": "code",
      "execution_count": 39,
      "id": "d74b6f20",
      "metadata": {
        "colab": {
          "base_uri": "https://localhost:8080/"
        },
        "id": "d74b6f20",
        "outputId": "5c7f3589-570f-4a1d-e114-7c70441f39f7"
      },
      "outputs": [
        {
          "output_type": "execute_result",
          "data": {
            "text/plain": [
              "True"
            ]
          },
          "metadata": {},
          "execution_count": 39
        }
      ],
      "source": [
        "table.drop()"
      ]
    },
    {
      "cell_type": "markdown",
      "id": "346d56db",
      "metadata": {
        "id": "346d56db"
      },
      "source": [
        "## Take Our Survey\n",
        "\n",
        "We hope you found this sample helpful! Your feedback is important to us, and we would appreciate it if you could take a moment to fill out our brief survey. Your input helps us improve our content.\n",
        "\n",
        "[**Take the Survey**](https://delighted.com/t/ejgOzTpo)"
      ]
    }
  ],
  "metadata": {
    "colab": {
      "provenance": []
    },
    "kernelspec": {
      "display_name": "Python 3 (ipykernel)",
      "language": "python",
      "name": "python3"
    },
    "language_info": {
      "codemirror_mode": {
        "name": "ipython",
        "version": 3
      },
      "file_extension": ".py",
      "mimetype": "text/x-python",
      "name": "python",
      "nbconvert_exporter": "python",
      "pygments_lexer": "ipython3",
      "version": "3.10.12"
    }
  },
  "nbformat": 4,
  "nbformat_minor": 5
}