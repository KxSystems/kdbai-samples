{
 "cells": [
  {
   "cell_type": "markdown",
   "metadata": {},
   "source": [
    "# Metadata Filtering with KDB.AI Vector Database\n",
    "#### In this example, we will show how to use metadata filtering in a KDB.AI vector database to increase the speed and accuracy of vector similarity searches. We will also explore LLM powered data exploration with PandasAI.\n",
    "\n",
    "#### Agenda:\n",
    "1. Set Up\n",
    "2. Data Import and Exploration with PandasAI\n",
    "3. Set Up KDB.AI Vector Database\n",
    "4. Insert Movie Data into the KDB.AI table\n",
    "5. Run Filtered Similarity Searches on our KDB.AI vector database"
   ]
  },
  {
   "cell_type": "markdown",
   "metadata": {},
   "source": [
    "## 1. Set Up\n",
    "Installs, imports, and API Key setup"
   ]
  },
  {
   "cell_type": "code",
   "execution_count": null,
   "metadata": {},
   "outputs": [],
   "source": [
    "!pip install pandasai"
   ]
  },
  {
   "cell_type": "code",
   "execution_count": null,
   "metadata": {},
   "outputs": [],
   "source": [
    "import pandas as pd\n",
    "from pandasai import SmartDataframe\n",
    "from pandasai.llm.openai import OpenAI\n",
    "import os\n",
    "from getpass import getpass"
   ]
  },
  {
   "cell_type": "code",
   "execution_count": 2,
   "metadata": {},
   "outputs": [
    {
     "name": "stdout",
     "output_type": "stream",
     "text": [
      "OpenAI API Key: ········\n"
     ]
    }
   ],
   "source": [
    "os.environ[\"OPENAI_API_KEY\"] = (\n",
    "    os.environ[\"OPENAI_API_KEY\"]\n",
    "    if \"OPENAI_API_KEY\" in os.environ\n",
    "    else getpass(\"OpenAI API Key: \")\n",
    ")"
   ]
  },
  {
   "cell_type": "code",
   "execution_count": 3,
   "metadata": {},
   "outputs": [],
   "source": [
    "llm = OpenAI(model=\"gpt-3.5-turbo-1106\")"
   ]
  },
  {
   "cell_type": "markdown",
   "metadata": {},
   "source": [
    "## 2. Data Import and Exploration with PandasAI\n",
    "### Import movies dataframe"
   ]
  },
  {
   "cell_type": "code",
   "execution_count": 4,
   "metadata": {
    "scrolled": true
   },
   "outputs": [],
   "source": [
    "# Read in the Movies dataframe\n",
    "df = pd.read_pickle(\"./data/filtered_embedded_movies.pkl\")"
   ]
  },
  {
   "cell_type": "markdown",
   "metadata": {},
   "source": [
    "### Initial data exploration: Let's understand the data!"
   ]
  },
  {
   "cell_type": "code",
   "execution_count": 5,
   "metadata": {},
   "outputs": [
    {
     "name": "stdout",
     "output_type": "stream",
     "text": [
      "27832\n"
     ]
    }
   ],
   "source": [
    "#How many rows do we have?\n",
    "print(df.shape[0])"
   ]
  },
  {
   "cell_type": "code",
   "execution_count": 6,
   "metadata": {},
   "outputs": [
    {
     "name": "stdout",
     "output_type": "stream",
     "text": [
      "ReleaseYear\n",
      "Title\n",
      "Origin\n",
      "Director\n",
      "Cast\n",
      "Genre\n",
      "Plot\n",
      "embeddings\n"
     ]
    }
   ],
   "source": [
    "#What columns do we have?\n",
    "for column in df.columns:\n",
    "    print(column)"
   ]
  },
  {
   "cell_type": "code",
   "execution_count": 7,
   "metadata": {},
   "outputs": [
    {
     "data": {
      "text/html": [
       "<div>\n",
       "<style scoped>\n",
       "    .dataframe tbody tr th:only-of-type {\n",
       "        vertical-align: middle;\n",
       "    }\n",
       "\n",
       "    .dataframe tbody tr th {\n",
       "        vertical-align: top;\n",
       "    }\n",
       "\n",
       "    .dataframe thead th {\n",
       "        text-align: right;\n",
       "    }\n",
       "</style>\n",
       "<table border=\"1\" class=\"dataframe\">\n",
       "  <thead>\n",
       "    <tr style=\"text-align: right;\">\n",
       "      <th></th>\n",
       "      <th>ReleaseYear</th>\n",
       "      <th>Title</th>\n",
       "      <th>Origin</th>\n",
       "      <th>Director</th>\n",
       "      <th>Cast</th>\n",
       "      <th>Genre</th>\n",
       "      <th>Plot</th>\n",
       "      <th>embeddings</th>\n",
       "    </tr>\n",
       "  </thead>\n",
       "  <tbody>\n",
       "    <tr>\n",
       "      <th>13</th>\n",
       "      <td>1907</td>\n",
       "      <td>Daniel Boone</td>\n",
       "      <td>American</td>\n",
       "      <td>Wallace McCutcheon and Ediwin S. Porter</td>\n",
       "      <td>William Craven Florence Lawrence</td>\n",
       "      <td>biographical</td>\n",
       "      <td>Boones daughter befriends an Indian maiden as ...</td>\n",
       "      <td>[-0.017491516, 0.06670887, 0.014543911, 0.0834...</td>\n",
       "    </tr>\n",
       "    <tr>\n",
       "      <th>15</th>\n",
       "      <td>1907</td>\n",
       "      <td>Laughing Gas</td>\n",
       "      <td>American</td>\n",
       "      <td>Edwin Stanton Porter</td>\n",
       "      <td>Bertha Regustus Edward Boulden</td>\n",
       "      <td>comedy</td>\n",
       "      <td>The plot is that of a black woman going to the...</td>\n",
       "      <td>[-0.06686751, 0.017821655, -0.085528195, 0.062...</td>\n",
       "    </tr>\n",
       "    <tr>\n",
       "      <th>16</th>\n",
       "      <td>1908</td>\n",
       "      <td>The Adventures of Dollie</td>\n",
       "      <td>American</td>\n",
       "      <td>D. W. Griffith</td>\n",
       "      <td>Arthur V. Johnson Linda Arvidson</td>\n",
       "      <td>drama</td>\n",
       "      <td>On a beautiful summer day a father and mother ...</td>\n",
       "      <td>[-0.030472165, 0.09786455, 0.033518516, 0.0456...</td>\n",
       "    </tr>\n",
       "    <tr>\n",
       "      <th>17</th>\n",
       "      <td>1908</td>\n",
       "      <td>The Black Viper</td>\n",
       "      <td>American</td>\n",
       "      <td>D. W. Griffith</td>\n",
       "      <td>D. W. Griffith</td>\n",
       "      <td>drama</td>\n",
       "      <td>A thug accosts a girl as she leaves her workpl...</td>\n",
       "      <td>[-0.073151775, 0.059394076, -0.0658111, 0.0072...</td>\n",
       "    </tr>\n",
       "    <tr>\n",
       "      <th>18</th>\n",
       "      <td>1908</td>\n",
       "      <td>A Calamitous Elopement</td>\n",
       "      <td>American</td>\n",
       "      <td>D.W. Griffith</td>\n",
       "      <td>Harry Solter Linda Arvidson</td>\n",
       "      <td>comedy</td>\n",
       "      <td>A young couple decides to elope after being ca...</td>\n",
       "      <td>[-0.057386335, 0.042254888, 0.029393429, 0.005...</td>\n",
       "    </tr>\n",
       "  </tbody>\n",
       "</table>\n",
       "</div>"
      ],
      "text/plain": [
       "    ReleaseYear                     Title    Origin  \\\n",
       "13         1907              Daniel Boone  American   \n",
       "15         1907              Laughing Gas  American   \n",
       "16         1908  The Adventures of Dollie  American   \n",
       "17         1908           The Black Viper  American   \n",
       "18         1908    A Calamitous Elopement  American   \n",
       "\n",
       "                                   Director                              Cast  \\\n",
       "13  Wallace McCutcheon and Ediwin S. Porter  William Craven Florence Lawrence   \n",
       "15                     Edwin Stanton Porter    Bertha Regustus Edward Boulden   \n",
       "16                           D. W. Griffith  Arthur V. Johnson Linda Arvidson   \n",
       "17                           D. W. Griffith                    D. W. Griffith   \n",
       "18                            D.W. Griffith       Harry Solter Linda Arvidson   \n",
       "\n",
       "           Genre                                               Plot  \\\n",
       "13  biographical  Boones daughter befriends an Indian maiden as ...   \n",
       "15        comedy  The plot is that of a black woman going to the...   \n",
       "16         drama  On a beautiful summer day a father and mother ...   \n",
       "17         drama  A thug accosts a girl as she leaves her workpl...   \n",
       "18        comedy  A young couple decides to elope after being ca...   \n",
       "\n",
       "                                           embeddings  \n",
       "13  [-0.017491516, 0.06670887, 0.014543911, 0.0834...  \n",
       "15  [-0.06686751, 0.017821655, -0.085528195, 0.062...  \n",
       "16  [-0.030472165, 0.09786455, 0.033518516, 0.0456...  \n",
       "17  [-0.073151775, 0.059394076, -0.0658111, 0.0072...  \n",
       "18  [-0.057386335, 0.042254888, 0.029393429, 0.005...  "
      ]
     },
     "execution_count": 7,
     "metadata": {},
     "output_type": "execute_result"
    }
   ],
   "source": [
    "#Let us inspect the dataframe\n",
    "df.head()"
   ]
  },
  {
   "cell_type": "markdown",
   "metadata": {},
   "source": [
    "### Explore Data with PandasAI: \n",
    "Natural Language to Analytics"
   ]
  },
  {
   "cell_type": "code",
   "execution_count": 9,
   "metadata": {},
   "outputs": [],
   "source": [
    "#Create a SmartDataFrame for use with PandasAI\n",
    "df_pandas = SmartDataframe(df, config={\"llm\": llm})"
   ]
  },
  {
   "cell_type": "code",
   "execution_count": 10,
   "metadata": {},
   "outputs": [
    {
     "data": {
      "text/html": [
       "<div>\n",
       "<style scoped>\n",
       "    .dataframe tbody tr th:only-of-type {\n",
       "        vertical-align: middle;\n",
       "    }\n",
       "\n",
       "    .dataframe tbody tr th {\n",
       "        vertical-align: top;\n",
       "    }\n",
       "\n",
       "    .dataframe thead th {\n",
       "        text-align: right;\n",
       "    }\n",
       "</style>\n",
       "<table border=\"1\" class=\"dataframe\">\n",
       "  <thead>\n",
       "    <tr style=\"text-align: right;\">\n",
       "      <th></th>\n",
       "      <th>Director</th>\n",
       "      <th>Count</th>\n",
       "    </tr>\n",
       "  </thead>\n",
       "  <tbody>\n",
       "    <tr>\n",
       "      <th>0</th>\n",
       "      <td>Michael Curtiz</td>\n",
       "      <td>78</td>\n",
       "    </tr>\n",
       "    <tr>\n",
       "      <th>1</th>\n",
       "      <td>Lloyd Bacon</td>\n",
       "      <td>66</td>\n",
       "    </tr>\n",
       "    <tr>\n",
       "      <th>2</th>\n",
       "      <td>Hanna-Barbera</td>\n",
       "      <td>64</td>\n",
       "    </tr>\n",
       "    <tr>\n",
       "      <th>3</th>\n",
       "      <td>Jules White</td>\n",
       "      <td>63</td>\n",
       "    </tr>\n",
       "    <tr>\n",
       "      <th>4</th>\n",
       "      <td>John Ford</td>\n",
       "      <td>58</td>\n",
       "    </tr>\n",
       "  </tbody>\n",
       "</table>\n",
       "</div>"
      ],
      "text/plain": [
       "         Director  Count\n",
       "0  Michael Curtiz     78\n",
       "1     Lloyd Bacon     66\n",
       "2   Hanna-Barbera     64\n",
       "3     Jules White     63\n",
       "4       John Ford     58"
      ]
     },
     "execution_count": 10,
     "metadata": {},
     "output_type": "execute_result"
    }
   ],
   "source": [
    "df_pandas.chat('Which directors have directed the most movies?')"
   ]
  },
  {
   "cell_type": "code",
   "execution_count": 12,
   "metadata": {},
   "outputs": [
    {
     "data": {
      "text/html": [
       "<div>\n",
       "<style scoped>\n",
       "    .dataframe tbody tr th:only-of-type {\n",
       "        vertical-align: middle;\n",
       "    }\n",
       "\n",
       "    .dataframe tbody tr th {\n",
       "        vertical-align: top;\n",
       "    }\n",
       "\n",
       "    .dataframe thead th {\n",
       "        text-align: right;\n",
       "    }\n",
       "</style>\n",
       "<table border=\"1\" class=\"dataframe\">\n",
       "  <thead>\n",
       "    <tr style=\"text-align: right;\">\n",
       "      <th></th>\n",
       "      <th>Origin</th>\n",
       "      <th>Genre</th>\n",
       "      <th>Count</th>\n",
       "    </tr>\n",
       "  </thead>\n",
       "  <tbody>\n",
       "    <tr>\n",
       "      <th>323</th>\n",
       "      <td>American</td>\n",
       "      <td>drama</td>\n",
       "      <td>3508</td>\n",
       "    </tr>\n",
       "    <tr>\n",
       "      <th>679</th>\n",
       "      <td>Assamese</td>\n",
       "      <td>drama</td>\n",
       "      <td>7</td>\n",
       "    </tr>\n",
       "    <tr>\n",
       "      <th>736</th>\n",
       "      <td>Australian</td>\n",
       "      <td>drama</td>\n",
       "      <td>132</td>\n",
       "    </tr>\n",
       "    <tr>\n",
       "      <th>793</th>\n",
       "      <td>Bangladeshi</td>\n",
       "      <td>drama</td>\n",
       "      <td>24</td>\n",
       "    </tr>\n",
       "    <tr>\n",
       "      <th>847</th>\n",
       "      <td>Bengali</td>\n",
       "      <td>romance</td>\n",
       "      <td>89</td>\n",
       "    </tr>\n",
       "    <tr>\n",
       "      <th>1063</th>\n",
       "      <td>Bollywood</td>\n",
       "      <td>drama</td>\n",
       "      <td>325</td>\n",
       "    </tr>\n",
       "    <tr>\n",
       "      <th>1431</th>\n",
       "      <td>British</td>\n",
       "      <td>drama</td>\n",
       "      <td>728</td>\n",
       "    </tr>\n",
       "    <tr>\n",
       "      <th>1662</th>\n",
       "      <td>Canadian</td>\n",
       "      <td>drama</td>\n",
       "      <td>229</td>\n",
       "    </tr>\n",
       "    <tr>\n",
       "      <th>1856</th>\n",
       "      <td>Chinese</td>\n",
       "      <td>drama</td>\n",
       "      <td>69</td>\n",
       "    </tr>\n",
       "    <tr>\n",
       "      <th>1978</th>\n",
       "      <td>Egyptian</td>\n",
       "      <td>drama</td>\n",
       "      <td>35</td>\n",
       "    </tr>\n",
       "    <tr>\n",
       "      <th>2008</th>\n",
       "      <td>Filipino</td>\n",
       "      <td>drama</td>\n",
       "      <td>15</td>\n",
       "    </tr>\n",
       "    <tr>\n",
       "      <th>2091</th>\n",
       "      <td>Hong Kong</td>\n",
       "      <td>comedy</td>\n",
       "      <td>46</td>\n",
       "    </tr>\n",
       "    <tr>\n",
       "      <th>2226</th>\n",
       "      <td>Japanese</td>\n",
       "      <td>drama</td>\n",
       "      <td>104</td>\n",
       "    </tr>\n",
       "    <tr>\n",
       "      <th>2447</th>\n",
       "      <td>Kannada</td>\n",
       "      <td>romance</td>\n",
       "      <td>43</td>\n",
       "    </tr>\n",
       "    <tr>\n",
       "      <th>2510</th>\n",
       "      <td>Malayalam</td>\n",
       "      <td>drama</td>\n",
       "      <td>112</td>\n",
       "    </tr>\n",
       "    <tr>\n",
       "      <th>2601</th>\n",
       "      <td>Malaysian</td>\n",
       "      <td>action / comedy</td>\n",
       "      <td>3</td>\n",
       "    </tr>\n",
       "    <tr>\n",
       "      <th>2624</th>\n",
       "      <td>Maldivian</td>\n",
       "      <td>comedy</td>\n",
       "      <td>1</td>\n",
       "    </tr>\n",
       "    <tr>\n",
       "      <th>2650</th>\n",
       "      <td>Marathi</td>\n",
       "      <td>drama</td>\n",
       "      <td>38</td>\n",
       "    </tr>\n",
       "    <tr>\n",
       "      <th>2692</th>\n",
       "      <td>Punjabi</td>\n",
       "      <td>comedy</td>\n",
       "      <td>10</td>\n",
       "    </tr>\n",
       "    <tr>\n",
       "      <th>2734</th>\n",
       "      <td>Russian</td>\n",
       "      <td>drama</td>\n",
       "      <td>25</td>\n",
       "    </tr>\n",
       "    <tr>\n",
       "      <th>2760</th>\n",
       "      <td>South_Korean</td>\n",
       "      <td>ero</td>\n",
       "      <td>7</td>\n",
       "    </tr>\n",
       "    <tr>\n",
       "      <th>2765</th>\n",
       "      <td>Tamil</td>\n",
       "      <td>action</td>\n",
       "      <td>106</td>\n",
       "    </tr>\n",
       "    <tr>\n",
       "      <th>2918</th>\n",
       "      <td>Telugu</td>\n",
       "      <td>drama</td>\n",
       "      <td>182</td>\n",
       "    </tr>\n",
       "    <tr>\n",
       "      <th>3036</th>\n",
       "      <td>Turkish</td>\n",
       "      <td>drama</td>\n",
       "      <td>31</td>\n",
       "    </tr>\n",
       "  </tbody>\n",
       "</table>\n",
       "</div>"
      ],
      "text/plain": [
       "            Origin            Genre  Count\n",
       "323       American            drama   3508\n",
       "679       Assamese            drama      7\n",
       "736     Australian            drama    132\n",
       "793    Bangladeshi            drama     24\n",
       "847        Bengali          romance     89\n",
       "1063     Bollywood            drama    325\n",
       "1431       British            drama    728\n",
       "1662      Canadian            drama    229\n",
       "1856       Chinese            drama     69\n",
       "1978      Egyptian            drama     35\n",
       "2008      Filipino            drama     15\n",
       "2091     Hong Kong           comedy     46\n",
       "2226      Japanese            drama    104\n",
       "2447       Kannada          romance     43\n",
       "2510     Malayalam            drama    112\n",
       "2601     Malaysian  action / comedy      3\n",
       "2624     Maldivian           comedy      1\n",
       "2650       Marathi            drama     38\n",
       "2692       Punjabi           comedy     10\n",
       "2734       Russian            drama     25\n",
       "2760  South_Korean              ero      7\n",
       "2765         Tamil           action    106\n",
       "2918        Telugu            drama    182\n",
       "3036       Turkish            drama     31"
      ]
     },
     "execution_count": 12,
     "metadata": {},
     "output_type": "execute_result"
    }
   ],
   "source": [
    "df_pandas.chat('Show the most popular movie genre in each country')"
   ]
  },
  {
   "cell_type": "code",
   "execution_count": 13,
   "metadata": {},
   "outputs": [
    {
     "data": {
      "image/png": "[encoded data removed]",
      "text/plain": [
       "<Figure size 1000x600 with 1 Axes>"
      ]
     },
     "metadata": {},
     "output_type": "display_data"
    },
    {
     "data": {
      "text/plain": [
       "'C:/Users/rsiegler/OneDrive - First Derivatives Plc/Documents/Demos/kdbai-samples/exports/charts/temp_chart.png'"
      ]
     },
     "execution_count": 13,
     "metadata": {},
     "output_type": "execute_result"
    }
   ],
   "source": [
    "#Can we make a graph?\n",
    "df_pandas.chat('Which are the 5 most popular movie genres? Make a graph of the result')"
   ]
  },
  {
   "cell_type": "markdown",
   "metadata": {},
   "source": [
    "## 3. Set up KDB.AI Vector Database\n",
    "Now that we understand our dataset, we can set up our vector db"
   ]
  },
  {
   "cell_type": "code",
   "execution_count": 14,
   "metadata": {},
   "outputs": [],
   "source": [
    "# vector DB\n",
    "import os\n",
    "from getpass import getpass\n",
    "import kdbai_client as kdbai\n",
    "import time"
   ]
  },
  {
   "cell_type": "code",
   "execution_count": 15,
   "metadata": {},
   "outputs": [
    {
     "name": "stdout",
     "output_type": "stream",
     "text": [
      "KDB.AI endpoint: https://cloud.kdb.ai/instance/ltvwkbv9vc\n",
      "KDB.AI API key: ········\n"
     ]
    }
   ],
   "source": [
    "#Set up KDB.AI endpoing and API key\n",
    "KDBAI_ENDPOINT = (\n",
    "    os.environ[\"KDBAI_ENDPOINT\"]\n",
    "    if \"KDBAI_ENDPOINT\" in os.environ\n",
    "    else input(\"KDB.AI endpoint: \")\n",
    ")\n",
    "KDBAI_API_KEY = (\n",
    "    os.environ[\"KDBAI_API_KEY\"]\n",
    "    if \"KDBAI_API_KEY\" in os.environ\n",
    "    else getpass(\"KDB.AI API key: \")\n",
    ")"
   ]
  },
  {
   "cell_type": "code",
   "execution_count": 16,
   "metadata": {},
   "outputs": [],
   "source": [
    "session = kdbai.Session(api_key=KDBAI_API_KEY, endpoint=KDBAI_ENDPOINT)"
   ]
  },
  {
   "cell_type": "markdown",
   "metadata": {},
   "source": [
    "### Set up the table schema\n",
    "Have a table column for each column in the dataframe, as well as an 'embeddings' column for the movie description embeddings"
   ]
  },
  {
   "cell_type": "code",
   "execution_count": 17,
   "metadata": {},
   "outputs": [],
   "source": [
    "#Set up the schema for KDB.AI table, specifying embeddings column with 384 dimensions, Euclidean Distance, and flat index\n",
    "table_schema = {\n",
    "    \"columns\": [\n",
    "        {\"name\": \"ReleaseYear\", \"pytype\": \"int64\"},\n",
    "        {\"name\": \"Title\", \"pytype\": \"str\"},\n",
    "        {\"name\": \"Origin\", \"pytype\": \"str\"},\n",
    "        {\"name\": \"Director\", \"pytype\": \"str\"},\n",
    "        {\"name\": \"Cast\", \"pytype\": \"str\"},\n",
    "        {\"name\": \"Genre\", \"pytype\": \"str\"},\n",
    "        {\"name\": \"Plot\", \"pytype\": \"str\"},\n",
    "        {\n",
    "            \"name\": \"embeddings\",\n",
    "            \"pytype\": \"float32\",\n",
    "            \"vectorIndex\": {\"dims\": 384, \"metric\": \"L2\", \"type\": \"flat\"},\n",
    "        },\n",
    "    ]\n",
    "}"
   ]
  },
  {
   "cell_type": "markdown",
   "metadata": {},
   "source": [
    "### Create a table called \"metadata_demo\"\n",
    "First check if the table already exists, then create a new table with the table schema from above"
   ]
  },
  {
   "cell_type": "code",
   "execution_count": 18,
   "metadata": {},
   "outputs": [],
   "source": [
    "# First ensure the table does not already exist\n",
    "try:\n",
    "    session.table(\"metadata_demo\").drop()\n",
    "    time.sleep(5)\n",
    "except kdbai.KDBAIException:\n",
    "    pass"
   ]
  },
  {
   "cell_type": "code",
   "execution_count": 19,
   "metadata": {},
   "outputs": [],
   "source": [
    "#Create the table called \"metadata_demo\"\n",
    "table = session.create_table(\"metadata_demo\", table_schema)"
   ]
  },
  {
   "cell_type": "markdown",
   "metadata": {},
   "source": [
    "## 4. Insert Movie Data into the KDB.AI table "
   ]
  },
  {
   "cell_type": "code",
   "execution_count": 20,
   "metadata": {},
   "outputs": [
    {
     "name": "stderr",
     "output_type": "stream",
     "text": [
      "100%|██████████████████████████████████████████████████████████████████████████████████| 14/14 [00:51<00:00,  3.65s/it]\n"
     ]
    }
   ],
   "source": [
    "#Insert the data into the table, split into 2000 row batches\n",
    "from tqdm import tqdm \n",
    "n = 2000  # chunk row size\n",
    "\n",
    "for i in tqdm(range(0, df.shape[0], n)):\n",
    "    table.insert(df[i:i+n].reset_index(drop=True))"
   ]
  },
  {
   "cell_type": "code",
   "execution_count": 21,
   "metadata": {},
   "outputs": [],
   "source": [
    "#function to view the dataframe within the table\n",
    "def show_df(df: pd.DataFrame) -> pd.DataFrame:\n",
    "    print(df.shape)\n",
    "    return df.head()"
   ]
  },
  {
   "cell_type": "code",
   "execution_count": 25,
   "metadata": {},
   "outputs": [
    {
     "name": "stdout",
     "output_type": "stream",
     "text": [
      "(27832, 8)\n"
     ]
    },
    {
     "data": {
      "text/html": [
       "<div>\n",
       "<style scoped>\n",
       "    .dataframe tbody tr th:only-of-type {\n",
       "        vertical-align: middle;\n",
       "    }\n",
       "\n",
       "    .dataframe tbody tr th {\n",
       "        vertical-align: top;\n",
       "    }\n",
       "\n",
       "    .dataframe thead th {\n",
       "        text-align: right;\n",
       "    }\n",
       "</style>\n",
       "<table border=\"1\" class=\"dataframe\">\n",
       "  <thead>\n",
       "    <tr style=\"text-align: right;\">\n",
       "      <th></th>\n",
       "      <th>ReleaseYear</th>\n",
       "      <th>Title</th>\n",
       "      <th>Origin</th>\n",
       "      <th>Director</th>\n",
       "      <th>Cast</th>\n",
       "      <th>Genre</th>\n",
       "      <th>Plot</th>\n",
       "      <th>embeddings</th>\n",
       "    </tr>\n",
       "  </thead>\n",
       "  <tbody>\n",
       "    <tr>\n",
       "      <th>0</th>\n",
       "      <td>1907</td>\n",
       "      <td>Daniel Boone</td>\n",
       "      <td>American</td>\n",
       "      <td>Wallace McCutcheon and Ediwin S. Porter</td>\n",
       "      <td>William Craven Florence Lawrence</td>\n",
       "      <td>biographical</td>\n",
       "      <td>Boones daughter befriends an Indian maiden as ...</td>\n",
       "      <td>[-0.017491516, 0.06670887, 0.014543911, 0.0834...</td>\n",
       "    </tr>\n",
       "    <tr>\n",
       "      <th>1</th>\n",
       "      <td>1907</td>\n",
       "      <td>Laughing Gas</td>\n",
       "      <td>American</td>\n",
       "      <td>Edwin Stanton Porter</td>\n",
       "      <td>Bertha Regustus Edward Boulden</td>\n",
       "      <td>comedy</td>\n",
       "      <td>The plot is that of a black woman going to the...</td>\n",
       "      <td>[-0.06686751, 0.017821655, -0.085528195, 0.062...</td>\n",
       "    </tr>\n",
       "    <tr>\n",
       "      <th>2</th>\n",
       "      <td>1908</td>\n",
       "      <td>The Adventures of Dollie</td>\n",
       "      <td>American</td>\n",
       "      <td>D. W. Griffith</td>\n",
       "      <td>Arthur V. Johnson Linda Arvidson</td>\n",
       "      <td>drama</td>\n",
       "      <td>On a beautiful summer day a father and mother ...</td>\n",
       "      <td>[-0.030472165, 0.09786455, 0.033518516, 0.0456...</td>\n",
       "    </tr>\n",
       "    <tr>\n",
       "      <th>3</th>\n",
       "      <td>1908</td>\n",
       "      <td>The Black Viper</td>\n",
       "      <td>American</td>\n",
       "      <td>D. W. Griffith</td>\n",
       "      <td>D. W. Griffith</td>\n",
       "      <td>drama</td>\n",
       "      <td>A thug accosts a girl as she leaves her workpl...</td>\n",
       "      <td>[-0.073151775, 0.059394076, -0.0658111, 0.0072...</td>\n",
       "    </tr>\n",
       "    <tr>\n",
       "      <th>4</th>\n",
       "      <td>1908</td>\n",
       "      <td>A Calamitous Elopement</td>\n",
       "      <td>American</td>\n",
       "      <td>D.W. Griffith</td>\n",
       "      <td>Harry Solter Linda Arvidson</td>\n",
       "      <td>comedy</td>\n",
       "      <td>A young couple decides to elope after being ca...</td>\n",
       "      <td>[-0.057386335, 0.042254888, 0.029393429, 0.005...</td>\n",
       "    </tr>\n",
       "  </tbody>\n",
       "</table>\n",
       "</div>"
      ],
      "text/plain": [
       "   ReleaseYear                     Title    Origin  \\\n",
       "0         1907              Daniel Boone  American   \n",
       "1         1907              Laughing Gas  American   \n",
       "2         1908  The Adventures of Dollie  American   \n",
       "3         1908           The Black Viper  American   \n",
       "4         1908    A Calamitous Elopement  American   \n",
       "\n",
       "                                  Director                              Cast  \\\n",
       "0  Wallace McCutcheon and Ediwin S. Porter  William Craven Florence Lawrence   \n",
       "1                     Edwin Stanton Porter    Bertha Regustus Edward Boulden   \n",
       "2                           D. W. Griffith  Arthur V. Johnson Linda Arvidson   \n",
       "3                           D. W. Griffith                    D. W. Griffith   \n",
       "4                            D.W. Griffith       Harry Solter Linda Arvidson   \n",
       "\n",
       "          Genre                                               Plot  \\\n",
       "0  biographical  Boones daughter befriends an Indian maiden as ...   \n",
       "1        comedy  The plot is that of a black woman going to the...   \n",
       "2         drama  On a beautiful summer day a father and mother ...   \n",
       "3         drama  A thug accosts a girl as she leaves her workpl...   \n",
       "4        comedy  A young couple decides to elope after being ca...   \n",
       "\n",
       "                                          embeddings  \n",
       "0  [-0.017491516, 0.06670887, 0.014543911, 0.0834...  \n",
       "1  [-0.06686751, 0.017821655, -0.085528195, 0.062...  \n",
       "2  [-0.030472165, 0.09786455, 0.033518516, 0.0456...  \n",
       "3  [-0.073151775, 0.059394076, -0.0658111, 0.0072...  \n",
       "4  [-0.057386335, 0.042254888, 0.029393429, 0.005...  "
      ]
     },
     "execution_count": 25,
     "metadata": {},
     "output_type": "execute_result"
    }
   ],
   "source": [
    "#View contents of the table\n",
    "show_df(table.query())"
   ]
  },
  {
   "cell_type": "markdown",
   "metadata": {},
   "source": [
    "## 5. Run Filtered Similarity Searches on our KDB.AI Vector Database"
   ]
  },
  {
   "cell_type": "markdown",
   "metadata": {},
   "source": [
    "#### Set up embedding model to embed our natural language queries"
   ]
  },
  {
   "cell_type": "code",
   "execution_count": 22,
   "metadata": {},
   "outputs": [
    {
     "name": "stderr",
     "output_type": "stream",
     "text": [
      "C:\\Users\\rsiegler\\AppData\\Local\\anaconda3\\Lib\\site-packages\\numpy\\core\\getlimits.py:518: UserWarning: The value of the smallest subnormal for <class 'numpy.float32'> type is zero.\n",
      "  setattr(self, word, getattr(machar, word).flat[0])\n",
      "C:\\Users\\rsiegler\\AppData\\Local\\anaconda3\\Lib\\site-packages\\numpy\\core\\getlimits.py:89: UserWarning: The value of the smallest subnormal for <class 'numpy.float32'> type is zero.\n",
      "  return self._float_to_str(self.smallest_subnormal)\n"
     ]
    }
   ],
   "source": [
    "# embedding model to be used to embed user input query\n",
    "from sentence_transformers import SentenceTransformer\n",
    "embedding_model = SentenceTransformer(\"all-MiniLM-L6-v2\")"
   ]
  },
  {
   "cell_type": "markdown",
   "metadata": {},
   "source": [
    "#### Create a query vector by using the embedding model to embed a natural language query"
   ]
  },
  {
   "cell_type": "code",
   "execution_count": 23,
   "metadata": {},
   "outputs": [
    {
     "data": {
      "application/vnd.jupyter.widget-view+json": {
       "model_id": "7fdbdc406d7d466aa3683359c3a26306",
       "version_major": 2,
       "version_minor": 0
      },
      "text/plain": [
       "Batches:   0%|          | 0/1 [00:00<?, ?it/s]"
      ]
     },
     "metadata": {},
     "output_type": "display_data"
    }
   ],
   "source": [
    "#Embed a query\n",
    "query_vector = [embedding_model.encode('star wars Luke Skywalker').tolist()]"
   ]
  },
  {
   "cell_type": "markdown",
   "metadata": {},
   "source": [
    "#### Run vector similarity search, return the top-3 similar movies"
   ]
  },
  {
   "cell_type": "code",
   "execution_count": 24,
   "metadata": {},
   "outputs": [
    {
     "name": "stdout",
     "output_type": "stream",
     "text": [
      "[   ReleaseYear                                             Title    Origin  \\\n",
      "0         1983                                Return of the Jedi  American   \n",
      "1         1977  Star Wars Episode IV: A New Hope (aka Star Wars)  American   \n",
      "2         1980                           The Empire Strikes Back  American   \n",
      "\n",
      "           Director                                               Cast  \\\n",
      "0  Richard Marquand  Mark Hamill Harrison Ford Carrie Fisher Billy ...   \n",
      "1      George Lucas  Mark Hamill Harrison Ford Carrie Fisher Alec G...   \n",
      "2    Irvin Kershner  Carrie Fisher Harrison Ford Mark Hamill Billy ...   \n",
      "\n",
      "             Genre                                               Plot  \\\n",
      "0  science fiction  Luke Skywalker initiates a plan to rescue Han ...   \n",
      "1  science fiction  The galaxy is in the midst of a civil war. Spi...   \n",
      "2  science fiction  Three years after the destruction of the Death...   \n",
      "\n",
      "                                          embeddings  __nn_distance  \n",
      "0  [-0.047360003, -0.08337291, 0.009671548, -0.03...       0.748475  \n",
      "1  [-0.100305825, 0.008335104, 0.03792797, -0.038...       0.910225  \n",
      "2  [-0.050230544, -0.02365108, 0.016264591, -0.00...       0.942763  ]\n"
     ]
    }
   ],
   "source": [
    "#Search vector db to find most relevant movies\n",
    "print(table.search(query_vector, n=3))"
   ]
  },
  {
   "cell_type": "markdown",
   "metadata": {},
   "source": [
    "#### Repeat the search with metadata filters to narrow the search space"
   ]
  },
  {
   "cell_type": "code",
   "execution_count": 25,
   "metadata": {},
   "outputs": [
    {
     "name": "stdout",
     "output_type": "stream",
     "text": [
      "[   ReleaseYear                                             Title    Origin  \\\n",
      "0         1977  Star Wars Episode IV: A New Hope (aka Star Wars)  American   \n",
      "\n",
      "       Director                                               Cast  \\\n",
      "0  George Lucas  Mark Hamill Harrison Ford Carrie Fisher Alec G...   \n",
      "\n",
      "             Genre                                               Plot  \\\n",
      "0  science fiction  The galaxy is in the midst of a civil war. Spi...   \n",
      "\n",
      "                                          embeddings  __nn_distance  \n",
      "0  [-0.100305825, 0.008335104, 0.03792797, -0.038...       0.910225  ]\n"
     ]
    }
   ],
   "source": [
    "print(table.search(query_vector, n=3, filter=[(\"like\", \"Director\", \"George Lucas\"),(\"=\", \"ReleaseYear\", \"1977\")]))"
   ]
  },
  {
   "cell_type": "markdown",
   "metadata": {},
   "source": [
    "#### More Examples"
   ]
  },
  {
   "cell_type": "code",
   "execution_count": 26,
   "metadata": {},
   "outputs": [
    {
     "data": {
      "application/vnd.jupyter.widget-view+json": {
       "model_id": "37e5fd3c12d24381ba74ca13292411fd",
       "version_major": 2,
       "version_minor": 0
      },
      "text/plain": [
       "Batches:   0%|          | 0/1 [00:00<?, ?it/s]"
      ]
     },
     "metadata": {},
     "output_type": "display_data"
    }
   ],
   "source": [
    "#Another query\n",
    "query_vector = [embedding_model.encode('conspiracy theories involving art').tolist()]"
   ]
  },
  {
   "cell_type": "code",
   "execution_count": 27,
   "metadata": {},
   "outputs": [
    {
     "name": "stdout",
     "output_type": "stream",
     "text": [
      "[   ReleaseYear               Title    Origin          Director  \\\n",
      "0         2006   The Da Vinci Code  American        Ron Howard   \n",
      "1         2017          The Circle  American    James Ponsoldt   \n",
      "2         2017            The Post  American  Steven Spielberg   \n",
      "\n",
      "                                                Cast  \\\n",
      "0  Tom Hanks Audrey Tautou Ian McKellen Alfred Mo...   \n",
      "1  James Ponsoldt (director/screenplay); Tom Hank...   \n",
      "2  Steven Spielberg (director); Liz Hannah Josh S...   \n",
      "\n",
      "                              Genre  \\\n",
      "0                          thriller   \n",
      "1             sci-fi drama thriller   \n",
      "2  biography drama history thriller   \n",
      "\n",
      "                                                Plot  \\\n",
      "0  Jacques Sauni¨re the Louvres curator is pursue...   \n",
      "1  When her car breaks down Mae Holland contacts ...   \n",
      "2  In 1966 Vietnam State Department military anal...   \n",
      "\n",
      "                                          embeddings  __nn_distance  \n",
      "0  [-0.11887315, -0.049770635, -0.022621859, -0.0...       1.276896  \n",
      "1  [-0.0758997, -0.052303415, -0.03175389, -0.017...       1.395944  \n",
      "2  [-0.062428504, -0.034977995, -0.035489008, 0.0...       1.607656  ]\n"
     ]
    }
   ],
   "source": [
    "#Another filtered search example\n",
    "print(table.search(query_vector, n=3, filter=[(\"like\", \"Genre\", \"*thriller*\"),(\"like\",\"Cast\",\"*Tom Hanks*\")]))"
   ]
  },
  {
   "cell_type": "code",
   "execution_count": 28,
   "metadata": {},
   "outputs": [
    {
     "data": {
      "application/vnd.jupyter.widget-view+json": {
       "model_id": "e9ffd37d27c14c59bc6ade2e57d42b93",
       "version_major": 2,
       "version_minor": 0
      },
      "text/plain": [
       "Batches:   0%|          | 0/1 [00:00<?, ?it/s]"
      ]
     },
     "metadata": {},
     "output_type": "display_data"
    }
   ],
   "source": [
    "#Another query\n",
    "query_vector = [embedding_model.encode('middle earth fantasy adventure in the Shire').tolist()]"
   ]
  },
  {
   "cell_type": "code",
   "execution_count": 29,
   "metadata": {},
   "outputs": [
    {
     "name": "stdout",
     "output_type": "stream",
     "text": [
      "[   ReleaseYear                                              Title    Origin  \\\n",
      "0         2001  The Lord of the Rings: The Fellowship of the Ring  American   \n",
      "1         2002              The Lord of the Rings: The Two Towers  American   \n",
      "2         2003      The Lord of the Rings: The Return of the King  American   \n",
      "\n",
      "        Director                                               Cast  \\\n",
      "0  Peter Jackson  Elijah Wood Ian McKellen Liv Tyler Sean Astin ...   \n",
      "1  Peter Jackson  Elijah Wood Ian McKellen Liv Tyler Viggo Morte...   \n",
      "2  Peter Jackson  Elijah Wood Ian McKellen Liv Tyler Sean Astin ...   \n",
      "\n",
      "               Genre                                               Plot  \\\n",
      "0            fantasy  In the Second Age of Middle-earth the lords of...   \n",
      "1  adventure fantasy  After awakening from a dream of Gandalf the Gr...   \n",
      "2  adventure fantasy  Many years ago two Hobbits Smeagol and Dagol a...   \n",
      "\n",
      "                                          embeddings  __nn_distance  \n",
      "0  [-0.047063936, 0.036902286, -0.045477457, -0.0...       1.014505  \n",
      "1  [-0.05915825, 0.033268802, -0.03859481, 0.0110...       1.099138  \n",
      "2  [-0.07969464, -0.006237573, -0.056435574, -0.0...       1.153412  ]\n"
     ]
    }
   ],
   "source": [
    "#Another filtered search example\n",
    "print(table.search(query_vector, n=3, filter=[(\"within\",\"ReleaseYear\",[2000,2010])]))"
   ]
  },
  {
   "cell_type": "markdown",
   "metadata": {},
   "source": [
    "## Delete the KDB.AI Table\n",
    "Once finished with the table, it is best practice to drop it."
   ]
  },
  {
   "cell_type": "code",
   "execution_count": null,
   "metadata": {},
   "outputs": [],
   "source": [
    "table.drop()"
   ]
  }
 ],
 "metadata": {
  "kernelspec": {
   "display_name": "Python 3 (ipykernel)",
   "language": "python",
   "name": "python3"
  },
  "language_info": {
   "codemirror_mode": {
    "name": "ipython",
    "version": 3
   },
   "file_extension": ".py",
   "mimetype": "text/x-python",
   "name": "python",
   "nbconvert_exporter": "python",
   "pygments_lexer": "ipython3",
   "version": "3.11.5"
  }
 },
 "nbformat": 4,
 "nbformat_minor": 2
}
