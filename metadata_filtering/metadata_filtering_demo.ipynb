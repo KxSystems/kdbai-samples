{
 "cells": [
  {
   "cell_type": "markdown",
   "metadata": {},
   "source": [
    "# Metadata Filtering with KDB.AI Vector Database\n",
    "\n",
    "##### Note: This example requires KDB.AI server. Sign up for a free [KDB.AI account](https://kdb.ai/get-started).\n",
    "\n",
    "#### In this example, we will show how to use metadata filtering in a KDB.AI vector database to increase the speed and accuracy of vector similarity searches.\n",
    "\n",
    "#### Agenda:\n",
    "1. Set Up\n",
    "2. Data Import and Understanding \n",
    "3. Set Up KDB.AI Vector Database\n",
    "4. Insert Movie Data into the KDB.AI table\n",
    "5. Run Filtered Similarity Searches on our KDB.AI vector database\n",
    "\n",
    "Movie Dataset Source: https://www.kaggle.com/datasets/jrobischon/wikipedia-movie-plots"
   ]
  },
  {
   "cell_type": "markdown",
   "metadata": {},
   "source": [
    "## 1. Set Up\n",
    "#### Installs and imports\n",
    "\n",
    "In order to successfully run this sample, note the following steps depending on where you are running this notebook:\n",
    "\n",
    "-***Run Locally / Private Environment:*** The [Setup](https://github.com/KxSystems/kdbai-samples/blob/main/README.md#setup) steps in the repository's `README.md` will guide you on prerequisites and how to run this with Jupyter.\n",
    "\n",
    "\n",
    "-***Colab / Hosted Environment:*** Open this notebook in Colab and run through the cells."
   ]
  },
  {
   "cell_type": "code",
   "execution_count": null,
   "metadata": {},
   "outputs": [],
   "source": [
    "!pip install kdbai_client\n",
    "!pip install sentence_transformers"
   ]
  },
  {
   "cell_type": "code",
   "execution_count": null,
   "metadata": {},
   "outputs": [],
   "source": [
    "### !!! Only run this cell if you need to download the data into your environment, for example in Colab\n",
    "### This downloads movie data\n",
    "!mkdir ./data \n",
    "!wget -P ./data https://raw.githubusercontent.com/KxSystems/kdbai-samples/main/metadata_filtering/data/filtered_embedded_movies.pkl"
   ]
  },
  {
   "cell_type": "code",
   "execution_count": 53,
   "metadata": {},
   "outputs": [],
   "source": [
    "import pandas as pd\n",
    "import os\n",
    "from getpass import getpass"
   ]
  },
  {
   "cell_type": "markdown",
   "metadata": {},
   "source": [
    "## 2. Data Import and Understanding\n",
    "### Import movies dataframe"
   ]
  },
  {
   "cell_type": "code",
   "execution_count": 54,
   "metadata": {
    "scrolled": true
   },
   "outputs": [],
   "source": [
    "# Read in the Movies dataframe\n",
    "df = pd.read_pickle(\"./data/filtered_embedded_movies.pkl\")"
   ]
  },
  {
   "cell_type": "markdown",
   "metadata": {},
   "source": [
    "### Initial data exploration: Let's understand the data!"
   ]
  },
  {
   "cell_type": "code",
   "execution_count": 55,
   "metadata": {},
   "outputs": [
    {
     "name": "stdout",
     "output_type": "stream",
     "text": [
      "19161\n"
     ]
    }
   ],
   "source": [
    "#How many rows do we have?\n",
    "print(df.shape[0])"
   ]
  },
  {
   "cell_type": "code",
   "execution_count": 56,
   "metadata": {},
   "outputs": [
    {
     "name": "stdout",
     "output_type": "stream",
     "text": [
      "ReleaseYear\n",
      "Title\n",
      "Origin\n",
      "Director\n",
      "Cast\n",
      "Genre\n",
      "Plot\n",
      "embeddings\n"
     ]
    }
   ],
   "source": [
    "#What columns do we have?\n",
    "for column in df.columns:\n",
    "    print(column)"
   ]
  },
  {
   "cell_type": "code",
   "execution_count": 57,
   "metadata": {},
   "outputs": [
    {
     "data": {
      "text/html": [
       "<div>\n",
       "<style scoped>\n",
       "    .dataframe tbody tr th:only-of-type {\n",
       "        vertical-align: middle;\n",
       "    }\n",
       "\n",
       "    .dataframe tbody tr th {\n",
       "        vertical-align: top;\n",
       "    }\n",
       "\n",
       "    .dataframe thead th {\n",
       "        text-align: right;\n",
       "    }\n",
       "</style>\n",
       "<table border=\"1\" class=\"dataframe\">\n",
       "  <thead>\n",
       "    <tr style=\"text-align: right;\">\n",
       "      <th></th>\n",
       "      <th>ReleaseYear</th>\n",
       "      <th>Title</th>\n",
       "      <th>Origin</th>\n",
       "      <th>Director</th>\n",
       "      <th>Cast</th>\n",
       "      <th>Genre</th>\n",
       "      <th>Plot</th>\n",
       "      <th>embeddings</th>\n",
       "    </tr>\n",
       "  </thead>\n",
       "  <tbody>\n",
       "    <tr>\n",
       "      <th>0</th>\n",
       "      <td>1975</td>\n",
       "      <td>The Candy Tangerine Man</td>\n",
       "      <td>American</td>\n",
       "      <td>Matt Cimber</td>\n",
       "      <td>John Daniels Eli Haines Tom Hankason</td>\n",
       "      <td>action</td>\n",
       "      <td>A successful Los Angeles-based businessperson ...</td>\n",
       "      <td>[-0.06835174, -0.013138616, -0.12417501, 0.002...</td>\n",
       "    </tr>\n",
       "    <tr>\n",
       "      <th>1</th>\n",
       "      <td>1975</td>\n",
       "      <td>Capone</td>\n",
       "      <td>American</td>\n",
       "      <td>Steve Carver</td>\n",
       "      <td>Ben Gazzara Susan Blakely John Cassavetes Sylv...</td>\n",
       "      <td>crime drama</td>\n",
       "      <td>The story is of the rise and fall of the Chica...</td>\n",
       "      <td>[-0.01411798, 0.040705115, -0.0014280609, 0.00...</td>\n",
       "    </tr>\n",
       "    <tr>\n",
       "      <th>2</th>\n",
       "      <td>1975</td>\n",
       "      <td>Cleopatra Jones and the Casino of Gold</td>\n",
       "      <td>American</td>\n",
       "      <td>Charles Bail</td>\n",
       "      <td>Tamara Dobson Stella Stevens</td>\n",
       "      <td>action</td>\n",
       "      <td>The story begins with two government agents Ma...</td>\n",
       "      <td>[-0.0925895, 0.01188509, -0.08999529, -0.01541...</td>\n",
       "    </tr>\n",
       "    <tr>\n",
       "      <th>3</th>\n",
       "      <td>1975</td>\n",
       "      <td>Conduct Unbecoming</td>\n",
       "      <td>American</td>\n",
       "      <td>Michael Anderson</td>\n",
       "      <td>Stacy Keach Richard Attenborough Christopher P...</td>\n",
       "      <td>drama</td>\n",
       "      <td>Around 1880 two young British officers arrive ...</td>\n",
       "      <td>[-0.07435084, -0.06386179, 0.017042944, 0.0288...</td>\n",
       "    </tr>\n",
       "    <tr>\n",
       "      <th>4</th>\n",
       "      <td>1975</td>\n",
       "      <td>Cooley High</td>\n",
       "      <td>American</td>\n",
       "      <td>Michael Schultz</td>\n",
       "      <td>Lawrence Hilton-Jacobs Glynn Turman Garrett Mo...</td>\n",
       "      <td>comedy</td>\n",
       "      <td>Set in 1964 Chicago Preach an aspiring playwri...</td>\n",
       "      <td>[-0.041632336, 0.037923656, -0.072276264, -0.0...</td>\n",
       "    </tr>\n",
       "  </tbody>\n",
       "</table>\n",
       "</div>"
      ],
      "text/plain": [
       "   ReleaseYear                                   Title    Origin  \\\n",
       "0         1975                 The Candy Tangerine Man  American   \n",
       "1         1975                                  Capone  American   \n",
       "2         1975  Cleopatra Jones and the Casino of Gold  American   \n",
       "3         1975                      Conduct Unbecoming  American   \n",
       "4         1975                             Cooley High  American   \n",
       "\n",
       "           Director                                               Cast  \\\n",
       "0       Matt Cimber               John Daniels Eli Haines Tom Hankason   \n",
       "1      Steve Carver  Ben Gazzara Susan Blakely John Cassavetes Sylv...   \n",
       "2      Charles Bail                       Tamara Dobson Stella Stevens   \n",
       "3  Michael Anderson  Stacy Keach Richard Attenborough Christopher P...   \n",
       "4   Michael Schultz  Lawrence Hilton-Jacobs Glynn Turman Garrett Mo...   \n",
       "\n",
       "         Genre                                               Plot  \\\n",
       "0       action  A successful Los Angeles-based businessperson ...   \n",
       "1  crime drama  The story is of the rise and fall of the Chica...   \n",
       "2       action  The story begins with two government agents Ma...   \n",
       "3        drama  Around 1880 two young British officers arrive ...   \n",
       "4       comedy  Set in 1964 Chicago Preach an aspiring playwri...   \n",
       "\n",
       "                                          embeddings  \n",
       "0  [-0.06835174, -0.013138616, -0.12417501, 0.002...  \n",
       "1  [-0.01411798, 0.040705115, -0.0014280609, 0.00...  \n",
       "2  [-0.0925895, 0.01188509, -0.08999529, -0.01541...  \n",
       "3  [-0.07435084, -0.06386179, 0.017042944, 0.0288...  \n",
       "4  [-0.041632336, 0.037923656, -0.072276264, -0.0...  "
      ]
     },
     "execution_count": 57,
     "metadata": {},
     "output_type": "execute_result"
    }
   ],
   "source": [
    "#Let us inspect the dataframe\n",
    "df.head()"
   ]
  },
  {
   "cell_type": "markdown",
   "metadata": {},
   "source": [
    "## 3. Set up KDB.AI Vector Database\n",
    "Now that we understand our dataset, we can set up our vector db\n",
    "\n"
   ]
  },
  {
   "cell_type": "code",
   "execution_count": 58,
   "metadata": {},
   "outputs": [],
   "source": [
    "# vector DB\n",
    "import os\n",
    "from getpass import getpass\n",
    "import kdbai_client as kdbai\n",
    "import time"
   ]
  },
  {
   "cell_type": "markdown",
   "metadata": {},
   "source": [
    "To use KDB.AI Server, you will need download and run your own container.\n",
    "To do this, you will first need to sign up for free [here](https://trykdb.kx.com/kdbaiserver/signup/).\n",
    "\n",
    "You will receive an email with the required license file and bearer token needed to download your instance.\n",
    "Follow instructions in the signup email to get your session up and running.\n",
    "\n",
    "Once the [setup steps](https://code.kx.com/kdbai/gettingStarted/kdb-ai-server-setup.html) are complete you can then connect to your KDB.AI Server session using `kdbai.Session` and passing your local endpoint.\n"
   ]
  },
  {
   "cell_type": "code",
   "execution_count": null,
   "metadata": {},
   "outputs": [],
   "source": [
    "#Set up KDB.AI server endpoint \n",
    "KDBAI_ENDPOINT = (\n",
    "    os.environ[\"KDBAI_ENDPOINT\"]\n",
    "    if \"KDBAI_ENDPOINT\" in os.environ\n",
    "    else \"http://localhost:8082\"\n",
    ")\n",
    "\n",
    "#connect to KDB.AI Server, default mode is qipc\n",
    "session = kdbai.Session(endpoint=KDBAI_ENDPOINT)\n"
   ]
  },
  {
   "cell_type": "markdown",
   "metadata": {},
   "source": [
    "### Set up the table schema\n",
    "Have a table column for each column in the dataframe, as well as an 'embeddings' column for the movie description embeddings"
   ]
  },
  {
   "cell_type": "code",
   "execution_count": 62,
   "metadata": {},
   "outputs": [],
   "source": [
    "#Set up the schema and indexes for KDB.AI table, specifying embeddings column with 384 dimensions, Euclidean Distance, and flat index\n",
    "table_schema = [\n",
    "    {\"name\": \"ReleaseYear\", \"type\": \"int64\"},\n",
    "    {\"name\": \"Title\", \"type\": \"bytes\"},\n",
    "    {\"name\": \"Origin\", \"type\": \"str\"},\n",
    "    {\"name\": \"Director\", \"type\": \"bytes\"},\n",
    "    {\"name\": \"Cast\", \"type\": \"bytes\"},\n",
    "    {\"name\": \"Genre\", \"type\": \"str\"},\n",
    "    {\"name\": \"Plot\", \"type\": \"bytes\"},\n",
    "    {\"name\": \"embeddings\", \"type\": \"float64s\"}\n",
    "]\n",
    "\n",
    "indexes = [\n",
    "    {\n",
    "        \"name\": \"flat_index\",\n",
    "        \"type\": \"flat\",\n",
    "        \"column\": \"embeddings\",\n",
    "        \"params\": {\"dims\": 384, \"metric\": \"L2\"},\n",
    "    }\n",
    "]"
   ]
  },
  {
   "cell_type": "markdown",
   "metadata": {},
   "source": [
    "### Create a table called \"metadata_demo\"\n",
    "First check if the table already exists, then create a new table with the table schema from above"
   ]
  },
  {
   "cell_type": "code",
   "execution_count": 63,
   "metadata": {},
   "outputs": [],
   "source": [
    "# get the database connection. Default database name is 'default'\n",
    "database = session.database('default')\n",
    "# First ensure the table does not already exist\n",
    "try:\n",
    "    database.table(\"metadata_demo\").drop()\n",
    "    time.sleep(5)\n",
    "except kdbai.KDBAIException:\n",
    "    pass"
   ]
  },
  {
   "cell_type": "code",
   "execution_count": 64,
   "metadata": {},
   "outputs": [],
   "source": [
    "#Create the table called \"metadata_demo\"\n",
    "table = database.create_table(\"metadata_demo\", schema = table_schema, indexes = indexes)"
   ]
  },
  {
   "cell_type": "markdown",
   "metadata": {},
   "source": [
    "## 4. Insert Movie Data into the KDB.AI table "
   ]
  },
  {
   "cell_type": "code",
   "execution_count": 65,
   "metadata": {},
   "outputs": [
    {
     "name": "stderr",
     "output_type": "stream",
     "text": [
      "100%|██████████| 10/10 [00:01<00:00,  9.12it/s]\n"
     ]
    }
   ],
   "source": [
    "#Insert the data into the table, split into 2000 row batches\n",
    "from tqdm import tqdm \n",
    "n = 2000  # chunk row size\n",
    "\n",
    "# convert empty cast values to string form for backend. Here we are using value None tofor empty Cast value.\n",
    "for index, row in df.iterrows():\n",
    "    cast = row['Cast']\n",
    "    if 1 == len(cast):\n",
    "        df.loc[index, 'Cast'] = 'None'\n",
    "    \n",
    "for i in tqdm(range(0, df.shape[0], n)):\n",
    "    data = df[i:i+n].reset_index(drop=True)\n",
    "    # change data types as per table schema\n",
    "    data['Title'] = data['Title'].str.encode('utf-8')\n",
    "    data['Director'] = data['Director'].str.encode('utf-8')\n",
    "    data['Cast'] = data['Cast'].str.encode('utf-8')\n",
    "    data['Plot'] = data['Plot'].str.encode('utf-8')\n",
    "    table.insert(data)"
   ]
  },
  {
   "cell_type": "code",
   "execution_count": 66,
   "metadata": {},
   "outputs": [],
   "source": [
    "#function to view the dataframe within the table\n",
    "def show_df(df: pd.DataFrame) -> pd.DataFrame:\n",
    "    print(df.shape)\n",
    "    return df.head()"
   ]
  },
  {
   "cell_type": "code",
   "execution_count": 67,
   "metadata": {},
   "outputs": [
    {
     "name": "stdout",
     "output_type": "stream",
     "text": [
      "(19161, 8)\n"
     ]
    },
    {
     "data": {
      "text/html": [
       "<div>\n",
       "<style scoped>\n",
       "    .dataframe tbody tr th:only-of-type {\n",
       "        vertical-align: middle;\n",
       "    }\n",
       "\n",
       "    .dataframe tbody tr th {\n",
       "        vertical-align: top;\n",
       "    }\n",
       "\n",
       "    .dataframe thead th {\n",
       "        text-align: right;\n",
       "    }\n",
       "</style>\n",
       "<table border=\"1\" class=\"dataframe\">\n",
       "  <thead>\n",
       "    <tr style=\"text-align: right;\">\n",
       "      <th></th>\n",
       "      <th>ReleaseYear</th>\n",
       "      <th>Title</th>\n",
       "      <th>Origin</th>\n",
       "      <th>Director</th>\n",
       "      <th>Cast</th>\n",
       "      <th>Genre</th>\n",
       "      <th>Plot</th>\n",
       "      <th>embeddings</th>\n",
       "    </tr>\n",
       "  </thead>\n",
       "  <tbody>\n",
       "    <tr>\n",
       "      <th>0</th>\n",
       "      <td>1975</td>\n",
       "      <td>b'The Candy Tangerine Man'</td>\n",
       "      <td>American</td>\n",
       "      <td>b'Matt Cimber'</td>\n",
       "      <td>b'John Daniels Eli Haines Tom Hankason'</td>\n",
       "      <td>action</td>\n",
       "      <td>b'A successful Los Angeles-based businessperso...</td>\n",
       "      <td>[-0.06835173815488815, -0.01313861645758152, -...</td>\n",
       "    </tr>\n",
       "    <tr>\n",
       "      <th>1</th>\n",
       "      <td>1975</td>\n",
       "      <td>b'Capone'</td>\n",
       "      <td>American</td>\n",
       "      <td>b'Steve Carver'</td>\n",
       "      <td>b'Ben Gazzara Susan Blakely John Cassavetes Sy...</td>\n",
       "      <td>crime drama</td>\n",
       "      <td>b'The story is of the rise and fall of the Chi...</td>\n",
       "      <td>[-0.014117980375885963, 0.0407051146030426, -0...</td>\n",
       "    </tr>\n",
       "    <tr>\n",
       "      <th>2</th>\n",
       "      <td>1975</td>\n",
       "      <td>b'Cleopatra Jones and the Casino of Gold'</td>\n",
       "      <td>American</td>\n",
       "      <td>b'Charles Bail'</td>\n",
       "      <td>b'Tamara Dobson Stella Stevens'</td>\n",
       "      <td>action</td>\n",
       "      <td>b'The story begins with two government agents ...</td>\n",
       "      <td>[-0.09258949756622314, 0.011885089799761772, -...</td>\n",
       "    </tr>\n",
       "    <tr>\n",
       "      <th>3</th>\n",
       "      <td>1975</td>\n",
       "      <td>b'Conduct Unbecoming'</td>\n",
       "      <td>American</td>\n",
       "      <td>b'Michael Anderson'</td>\n",
       "      <td>b'Stacy Keach Richard Attenborough Christopher...</td>\n",
       "      <td>drama</td>\n",
       "      <td>b'Around 1880 two young British officers arriv...</td>\n",
       "      <td>[-0.07435084134340286, -0.06386178731918335, 0...</td>\n",
       "    </tr>\n",
       "    <tr>\n",
       "      <th>4</th>\n",
       "      <td>1975</td>\n",
       "      <td>b'Cooley High'</td>\n",
       "      <td>American</td>\n",
       "      <td>b'Michael Schultz'</td>\n",
       "      <td>b'Lawrence Hilton-Jacobs Glynn Turman Garrett ...</td>\n",
       "      <td>comedy</td>\n",
       "      <td>b'Set in 1964 Chicago Preach an aspiring playw...</td>\n",
       "      <td>[-0.041632335633039474, 0.0379236564040184, -0...</td>\n",
       "    </tr>\n",
       "  </tbody>\n",
       "</table>\n",
       "</div>"
      ],
      "text/plain": [
       "   ReleaseYear                                      Title    Origin  \\\n",
       "0         1975                 b'The Candy Tangerine Man'  American   \n",
       "1         1975                                  b'Capone'  American   \n",
       "2         1975  b'Cleopatra Jones and the Casino of Gold'  American   \n",
       "3         1975                      b'Conduct Unbecoming'  American   \n",
       "4         1975                             b'Cooley High'  American   \n",
       "\n",
       "              Director                                               Cast  \\\n",
       "0       b'Matt Cimber'            b'John Daniels Eli Haines Tom Hankason'   \n",
       "1      b'Steve Carver'  b'Ben Gazzara Susan Blakely John Cassavetes Sy...   \n",
       "2      b'Charles Bail'                    b'Tamara Dobson Stella Stevens'   \n",
       "3  b'Michael Anderson'  b'Stacy Keach Richard Attenborough Christopher...   \n",
       "4   b'Michael Schultz'  b'Lawrence Hilton-Jacobs Glynn Turman Garrett ...   \n",
       "\n",
       "         Genre                                               Plot  \\\n",
       "0       action  b'A successful Los Angeles-based businessperso...   \n",
       "1  crime drama  b'The story is of the rise and fall of the Chi...   \n",
       "2       action  b'The story begins with two government agents ...   \n",
       "3        drama  b'Around 1880 two young British officers arriv...   \n",
       "4       comedy  b'Set in 1964 Chicago Preach an aspiring playw...   \n",
       "\n",
       "                                          embeddings  \n",
       "0  [-0.06835173815488815, -0.01313861645758152, -...  \n",
       "1  [-0.014117980375885963, 0.0407051146030426, -0...  \n",
       "2  [-0.09258949756622314, 0.011885089799761772, -...  \n",
       "3  [-0.07435084134340286, -0.06386178731918335, 0...  \n",
       "4  [-0.041632335633039474, 0.0379236564040184, -0...  "
      ]
     },
     "execution_count": 67,
     "metadata": {},
     "output_type": "execute_result"
    }
   ],
   "source": [
    "#View contents of the table\n",
    "show_df(table.query())"
   ]
  },
  {
   "cell_type": "markdown",
   "metadata": {},
   "source": [
    "## 5. Run Filtered Similarity Searches on our KDB.AI Vector Database"
   ]
  },
  {
   "cell_type": "markdown",
   "metadata": {},
   "source": [
    "#### Set up embedding model to embed our natural language queries"
   ]
  },
  {
   "cell_type": "code",
   "execution_count": null,
   "metadata": {},
   "outputs": [],
   "source": [
    "# embedding model to be used to embed user input query\n",
    "from sentence_transformers import SentenceTransformer\n",
    "embedding_model = SentenceTransformer(\"all-MiniLM-L6-v2\")"
   ]
  },
  {
   "cell_type": "markdown",
   "metadata": {},
   "source": [
    "#### Create a query vector by using the embedding model to embed a natural language query"
   ]
  },
  {
   "cell_type": "code",
   "execution_count": 69,
   "metadata": {},
   "outputs": [],
   "source": [
    "#Embed a query\n",
    "query_vector = {'flat_index' : [embedding_model.encode('star wars Luke Skywalker').tolist()]}"
   ]
  },
  {
   "cell_type": "markdown",
   "metadata": {},
   "source": [
    "#### Run vector similarity search, return the top-3 similar movies"
   ]
  },
  {
   "cell_type": "code",
   "execution_count": 70,
   "metadata": {},
   "outputs": [
    {
     "name": "stdout",
     "output_type": "stream",
     "text": [
      "[   __nn_distance  ReleaseYear  \\\n",
      "0       0.748475         1983   \n",
      "1       0.910225         1977   \n",
      "2       0.942763         1980   \n",
      "\n",
      "                                               Title    Origin  \\\n",
      "0                              b'Return of the Jedi'  American   \n",
      "1  b'Star Wars Episode IV: A New Hope (aka Star W...  American   \n",
      "2                         b'The Empire Strikes Back'  American   \n",
      "\n",
      "              Director                                               Cast  \\\n",
      "0  b'Richard Marquand'  b'Mark Hamill Harrison Ford Carrie Fisher Bill...   \n",
      "1      b'George Lucas'  b'Mark Hamill Harrison Ford Carrie Fisher Alec...   \n",
      "2    b'Irvin Kershner'  b'Carrie Fisher Harrison Ford Mark Hamill Bill...   \n",
      "\n",
      "             Genre                                               Plot  \\\n",
      "0  science fiction  b'Luke Skywalker initiates a plan to rescue Ha...   \n",
      "1  science fiction  b'The galaxy is in the midst of a civil war. S...   \n",
      "2  science fiction  b'Three years after the destruction of the Dea...   \n",
      "\n",
      "                                          embeddings  \n",
      "0  [-0.047360002994537354, -0.08337291330099106, ...  \n",
      "1  [-0.10030582547187805, 0.008335104212164879, 0...  \n",
      "2  [-0.050230544060468674, -0.023651080206036568,...  ]\n"
     ]
    }
   ],
   "source": [
    "#Search vector db to find most relevant movies\n",
    "print(table.search(vectors=query_vector, n=3))"
   ]
  },
  {
   "cell_type": "markdown",
   "metadata": {},
   "source": [
    "#### Repeat the search with metadata filters to narrow the search space"
   ]
  },
  {
   "cell_type": "code",
   "execution_count": 71,
   "metadata": {},
   "outputs": [
    {
     "name": "stdout",
     "output_type": "stream",
     "text": [
      "[   __nn_distance  ReleaseYear  \\\n",
      "0       0.910225         1977   \n",
      "\n",
      "                                               Title    Origin  \\\n",
      "0  b'Star Wars Episode IV: A New Hope (aka Star W...  American   \n",
      "\n",
      "          Director                                               Cast  \\\n",
      "0  b'George Lucas'  b'Mark Hamill Harrison Ford Carrie Fisher Alec...   \n",
      "\n",
      "             Genre                                               Plot  \\\n",
      "0  science fiction  b'The galaxy is in the midst of a civil war. S...   \n",
      "\n",
      "                                          embeddings  \n",
      "0  [-0.10030582547187805, 0.008335104212164879, 0...  ]\n"
     ]
    }
   ],
   "source": [
    "print(table.search(vectors=query_vector, n=3, filter=[(\"like\", \"Director\", \"George Lucas\"),(\"=\", \"ReleaseYear\", 1977)]))"
   ]
  },
  {
   "cell_type": "markdown",
   "metadata": {},
   "source": [
    "#### More Examples"
   ]
  },
  {
   "cell_type": "code",
   "execution_count": 72,
   "metadata": {},
   "outputs": [],
   "source": [
    "# Another query\n",
    "query_vector = {'flat_index' : [embedding_model.encode('conspiracy theories involving art').tolist()]}"
   ]
  },
  {
   "cell_type": "code",
   "execution_count": 73,
   "metadata": {},
   "outputs": [
    {
     "name": "stdout",
     "output_type": "stream",
     "text": [
      "[   __nn_distance  ReleaseYear                  Title    Origin  \\\n",
      "0       1.276896         2006  b' The Da Vinci Code'  American   \n",
      "1       1.395944         2017          b'The Circle'  American   \n",
      "2       1.607655         2017            b'The Post'  American   \n",
      "\n",
      "              Director                                               Cast  \\\n",
      "0        b'Ron Howard'  b'Tom Hanks Audrey Tautou Ian McKellen Alfred ...   \n",
      "1    b'James Ponsoldt'  b'James Ponsoldt (director/screenplay); Tom Ha...   \n",
      "2  b'Steven Spielberg'  b'Steven Spielberg (director); Liz Hannah Josh...   \n",
      "\n",
      "                              Genre  \\\n",
      "0                          thriller   \n",
      "1             sci-fi drama thriller   \n",
      "2  biography drama history thriller   \n",
      "\n",
      "                                                Plot  \\\n",
      "0  b'Jacques Sauni\\xc2\\xa8re the Louvres curator ...   \n",
      "1  b'When her car breaks down Mae Holland contact...   \n",
      "2  b'In 1966 Vietnam State Department military an...   \n",
      "\n",
      "                                          embeddings  \n",
      "0  [-0.11887314915657043, -0.04977063462138176, -...  \n",
      "1  [-0.07589969784021378, -0.052303414791822433, ...  \n",
      "2  [-0.06242850422859192, -0.0349779948592186, -0...  ]\n"
     ]
    }
   ],
   "source": [
    "# Another filtered search example\n",
    "print(table.search(vectors=query_vector, n=3, filter=[(\"like\", \"Genre\", \"*thriller*\"),(\"like\",\"Cast\",\"*Tom Hanks*\")]))"
   ]
  },
  {
   "cell_type": "code",
   "execution_count": 74,
   "metadata": {},
   "outputs": [],
   "source": [
    "# Another query\n",
    "query_vector = {'flat_index' : [embedding_model.encode('middle earth fantasy adventure in the Shire').tolist()]}"
   ]
  },
  {
   "cell_type": "code",
   "execution_count": 75,
   "metadata": {},
   "outputs": [
    {
     "name": "stdout",
     "output_type": "stream",
     "text": [
      "[   __nn_distance  ReleaseYear  \\\n",
      "0       1.014505         2001   \n",
      "1       1.099138         2002   \n",
      "2       1.153412         2003   \n",
      "\n",
      "                                               Title    Origin  \\\n",
      "0  b'The Lord of the Rings: The Fellowship of the...  American   \n",
      "1           b'The Lord of the Rings: The Two Towers'  American   \n",
      "2   b'The Lord of the Rings: The Return of the King'  American   \n",
      "\n",
      "           Director                                               Cast  \\\n",
      "0  b'Peter Jackson'  b'Elijah Wood Ian McKellen Liv Tyler Sean Asti...   \n",
      "1  b'Peter Jackson'  b'Elijah Wood Ian McKellen Liv Tyler Viggo Mor...   \n",
      "2  b'Peter Jackson'  b'Elijah Wood Ian McKellen Liv Tyler Sean Asti...   \n",
      "\n",
      "               Genre                                               Plot  \\\n",
      "0            fantasy  b'In the Second Age of Middle-earth the lords ...   \n",
      "1  adventure fantasy  b'After awakening from a dream of Gandalf the ...   \n",
      "2  adventure fantasy  b'Many years ago two Hobbits Smeagol and Dagol...   \n",
      "\n",
      "                                          embeddings  \n",
      "0  [-0.04706393554806709, 0.0369022861123085, -0....  \n",
      "1  [-0.05915825068950653, 0.033268801867961884, -...  \n",
      "2  [-0.07969464361667633, -0.006237572990357876, ...  ]\n"
     ]
    }
   ],
   "source": [
    "# Another filtered search example\n",
    "print(table.search(vectors=query_vector, n=3, filter=[(\"within\",\"ReleaseYear\",[2000,2010])]))"
   ]
  },
  {
   "cell_type": "markdown",
   "metadata": {},
   "source": [
    "## Delete the KDB.AI Table\n",
    "Once finished with the table, it is best practice to drop it."
   ]
  },
  {
   "cell_type": "code",
   "execution_count": 76,
   "metadata": {},
   "outputs": [],
   "source": [
    "table.drop()"
   ]
  },
  {
   "cell_type": "markdown",
   "metadata": {},
   "source": [
    "#### Take Our Survey\n",
    "We hope you found this sample helpful! Your feedback is important to us, and we would appreciate it if you could take a moment to fill out our brief survey. Your input helps us improve our content.\n",
    "\n",
    "Take the [Survey](https://delighted.com/t/wtS7T4Lg)\n"
   ]
  }
 ],
 "metadata": {
  "kernelspec": {
   "display_name": "Python 3",
   "language": "python",
   "name": "python3"
  },
  "language_info": {
   "codemirror_mode": {
    "name": "ipython",
    "version": 3
   },
   "file_extension": ".py",
   "mimetype": "text/x-python",
   "name": "python",
   "nbconvert_exporter": "python",
   "pygments_lexer": "ipython3",
   "version": "3.10.12"
  }
 },
 "nbformat": 4,
 "nbformat_minor": 4
}
